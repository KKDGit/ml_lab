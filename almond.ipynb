{
 "cells": [
  {
   "cell_type": "code",
   "execution_count": null,
   "metadata": {
    "scrolled": true
   },
   "outputs": [],
   "source": [
    "import $ivy.`org.apache.spark::spark-sql:2.3.0` // Or use any other 2.x version here\n",
    "import $ivy.`sh.almond::almond-spark:0.4.0`"
   ]
  },
  {
   "cell_type": "code",
   "execution_count": 7,
   "metadata": {},
   "outputs": [
    {
     "data": {
      "text/plain": [
       "\u001b[32mimport \u001b[39m\u001b[36morg.apache.spark.sql._\u001b[39m"
      ]
     },
     "execution_count": 7,
     "metadata": {},
     "output_type": "execute_result"
    }
   ],
   "source": [
    "import org.apache.spark.sql._"
   ]
  },
  {
   "cell_type": "code",
   "execution_count": 12,
   "metadata": {},
   "outputs": [
    {
     "name": "stderr",
     "output_type": "stream",
     "text": [
      "19/05/15 13:56:55 INFO SharedState: Setting hive.metastore.warehouse.dir ('null') to the value of spark.sql.warehouse.dir ('file:/home/kranthidr/projects/ml_lab/spark-warehouse').\n",
      "19/05/15 13:56:55 INFO SharedState: Warehouse path is 'file:/home/kranthidr/projects/ml_lab/spark-warehouse'.\n",
      "19/05/15 13:56:55 INFO StateStoreCoordinatorRef: Registered StateStoreCoordinator endpoint\n",
      "19/05/15 13:56:55 WARN SparkSession$Builder: Using an existing SparkSession; some configuration may not take effect.\n"
     ]
    },
    {
     "data": {
      "text/plain": [
       "\u001b[36mspark\u001b[39m: \u001b[32mSparkSession\u001b[39m = org.apache.spark.sql.SparkSession@597620f3"
      ]
     },
     "execution_count": 12,
     "metadata": {},
     "output_type": "execute_result"
    }
   ],
   "source": [
    "val spark = SparkSession.builder().master(\"yarn\").getOrCreate()\n"
   ]
  },
  {
   "cell_type": "code",
   "execution_count": 17,
   "metadata": {},
   "outputs": [
    {
     "data": {
      "text/plain": [
       "\u001b[36mres16\u001b[39m: \u001b[32mMap\u001b[39m[\u001b[32mString\u001b[39m, \u001b[32mString\u001b[39m] = \u001b[33mMap\u001b[39m(\n",
       "  \u001b[32m\"spark.driver.host\"\u001b[39m -> \u001b[32m\"gw02.itversity.com\"\u001b[39m,\n",
       "  \u001b[32m\"spark.driver.port\"\u001b[39m -> \u001b[32m\"40881\"\u001b[39m,\n",
       "  \u001b[32m\"spark.app.name\"\u001b[39m -> \u001b[32m\"f58a6bf8-9c01-4b67-a7d4-dc41b00310cb\"\u001b[39m,\n",
       "  \u001b[32m\"spark.executor.id\"\u001b[39m -> \u001b[32m\"driver\"\u001b[39m,\n",
       "  \u001b[32m\"spark.master\"\u001b[39m -> \u001b[32m\"yarn\"\u001b[39m,\n",
       "  \u001b[32m\"spark.app.id\"\u001b[39m -> \u001b[32m\"local-1557942993137\"\u001b[39m\n",
       ")"
      ]
     },
     "execution_count": 17,
     "metadata": {},
     "output_type": "execute_result"
    }
   ],
   "source": [
    "spark.conf.getAll"
   ]
  },
  {
   "cell_type": "code",
   "execution_count": 16,
   "metadata": {},
   "outputs": [
    {
     "data": {
      "text/plain": [
       "\u001b[36mres15\u001b[39m: \u001b[32mArray\u001b[39m[(\u001b[32mString\u001b[39m, \u001b[32mString\u001b[39m)] = \u001b[33mArray\u001b[39m(\n",
       "  (\u001b[32m\"spark.master\"\u001b[39m, \u001b[32m\"local\"\u001b[39m),\n",
       "  (\u001b[32m\"spark.app.name\"\u001b[39m, \u001b[32m\"f58a6bf8-9c01-4b67-a7d4-dc41b00310cb\"\u001b[39m),\n",
       "  (\u001b[32m\"spark.executor.id\"\u001b[39m, \u001b[32m\"driver\"\u001b[39m),\n",
       "  (\u001b[32m\"spark.app.id\"\u001b[39m, \u001b[32m\"local-1557942993137\"\u001b[39m),\n",
       "  (\u001b[32m\"spark.driver.host\"\u001b[39m, \u001b[32m\"gw02.itversity.com\"\u001b[39m),\n",
       "  (\u001b[32m\"spark.driver.port\"\u001b[39m, \u001b[32m\"40881\"\u001b[39m)\n",
       ")"
      ]
     },
     "execution_count": 16,
     "metadata": {},
     "output_type": "execute_result"
    }
   ],
   "source": [
    "spark.sparkContext.getConf.getAll"
   ]
  },
  {
   "cell_type": "code",
   "execution_count": null,
   "metadata": {
    "collapsed": true
   },
   "outputs": [],
   "source": []
  }
 ],
 "metadata": {
  "kernelspec": {
   "display_name": "Scala",
   "language": "scala",
   "name": "scala"
  },
  "language_info": {
   "codemirror_mode": "text/x-scala",
   "file_extension": ".scala",
   "mimetype": "text/x-scala",
   "name": "scala",
   "nbconvert_exporter": "script",
   "version": "2.11.12"
  }
 },
 "nbformat": 4,
 "nbformat_minor": 2
}
