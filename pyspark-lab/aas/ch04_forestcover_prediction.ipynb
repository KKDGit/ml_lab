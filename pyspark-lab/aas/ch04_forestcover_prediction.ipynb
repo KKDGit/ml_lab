{
 "cells": [
  {
   "cell_type": "code",
   "execution_count": 1,
   "metadata": {
    "collapsed": true
   },
   "outputs": [],
   "source": [
    "dataWithoutHeader =  spark.read.option(\"inferSchema\", True).option(\"header\", False).csv('data/covtype.data')"
   ]
  },
  {
   "cell_type": "code",
   "execution_count": 2,
   "metadata": {},
   "outputs": [
    {
     "data": {
      "text/plain": [
       "Row(_c0=2596, _c1=51, _c2=3, _c3=258, _c4=0, _c5=510, _c6=221, _c7=232, _c8=148, _c9=6279, _c10=1, _c11=0, _c12=0, _c13=0, _c14=0, _c15=0, _c16=0, _c17=0, _c18=0, _c19=0, _c20=0, _c21=0, _c22=0, _c23=0, _c24=0, _c25=0, _c26=0, _c27=0, _c28=0, _c29=0, _c30=0, _c31=0, _c32=0, _c33=0, _c34=0, _c35=0, _c36=0, _c37=0, _c38=0, _c39=0, _c40=0, _c41=0, _c42=1, _c43=0, _c44=0, _c45=0, _c46=0, _c47=0, _c48=0, _c49=0, _c50=0, _c51=0, _c52=0, _c53=0, _c54=5)"
      ]
     },
     "execution_count": 2,
     "metadata": {},
     "output_type": "execute_result"
    }
   ],
   "source": [
    "dataWithoutHeader.first()"
   ]
  },
  {
   "cell_type": "code",
   "execution_count": 3,
   "metadata": {},
   "outputs": [
    {
     "name": "stdout",
     "output_type": "stream",
     "text": [
      "root\n",
      " |-- _c0: integer (nullable = true)\n",
      " |-- _c1: integer (nullable = true)\n",
      " |-- _c2: integer (nullable = true)\n",
      " |-- _c3: integer (nullable = true)\n",
      " |-- _c4: integer (nullable = true)\n",
      " |-- _c5: integer (nullable = true)\n",
      " |-- _c6: integer (nullable = true)\n",
      " |-- _c7: integer (nullable = true)\n",
      " |-- _c8: integer (nullable = true)\n",
      " |-- _c9: integer (nullable = true)\n",
      " |-- _c10: integer (nullable = true)\n",
      " |-- _c11: integer (nullable = true)\n",
      " |-- _c12: integer (nullable = true)\n",
      " |-- _c13: integer (nullable = true)\n",
      " |-- _c14: integer (nullable = true)\n",
      " |-- _c15: integer (nullable = true)\n",
      " |-- _c16: integer (nullable = true)\n",
      " |-- _c17: integer (nullable = true)\n",
      " |-- _c18: integer (nullable = true)\n",
      " |-- _c19: integer (nullable = true)\n",
      " |-- _c20: integer (nullable = true)\n",
      " |-- _c21: integer (nullable = true)\n",
      " |-- _c22: integer (nullable = true)\n",
      " |-- _c23: integer (nullable = true)\n",
      " |-- _c24: integer (nullable = true)\n",
      " |-- _c25: integer (nullable = true)\n",
      " |-- _c26: integer (nullable = true)\n",
      " |-- _c27: integer (nullable = true)\n",
      " |-- _c28: integer (nullable = true)\n",
      " |-- _c29: integer (nullable = true)\n",
      " |-- _c30: integer (nullable = true)\n",
      " |-- _c31: integer (nullable = true)\n",
      " |-- _c32: integer (nullable = true)\n",
      " |-- _c33: integer (nullable = true)\n",
      " |-- _c34: integer (nullable = true)\n",
      " |-- _c35: integer (nullable = true)\n",
      " |-- _c36: integer (nullable = true)\n",
      " |-- _c37: integer (nullable = true)\n",
      " |-- _c38: integer (nullable = true)\n",
      " |-- _c39: integer (nullable = true)\n",
      " |-- _c40: integer (nullable = true)\n",
      " |-- _c41: integer (nullable = true)\n",
      " |-- _c42: integer (nullable = true)\n",
      " |-- _c43: integer (nullable = true)\n",
      " |-- _c44: integer (nullable = true)\n",
      " |-- _c45: integer (nullable = true)\n",
      " |-- _c46: integer (nullable = true)\n",
      " |-- _c47: integer (nullable = true)\n",
      " |-- _c48: integer (nullable = true)\n",
      " |-- _c49: integer (nullable = true)\n",
      " |-- _c50: integer (nullable = true)\n",
      " |-- _c51: integer (nullable = true)\n",
      " |-- _c52: integer (nullable = true)\n",
      " |-- _c53: integer (nullable = true)\n",
      " |-- _c54: integer (nullable = true)\n",
      "\n"
     ]
    }
   ],
   "source": [
    "dataWithoutHeader.printSchema()"
   ]
  },
  {
   "cell_type": "code",
   "execution_count": 4,
   "metadata": {
    "collapsed": true
   },
   "outputs": [],
   "source": [
    "colNames = [\n",
    "        \"Elevation\", \"Aspect\", \"Slope\",\n",
    "        \"Horizontal_Distance_To_Hydrology\", \"Vertical_Distance_To_Hydrology\",\n",
    "        \"Horizontal_Distance_To_Roadways\",\n",
    "        \"Hillshade_9am\", \"Hillshade_Noon\", \"Hillshade_3pm\",\n",
    "        \"Horizontal_Distance_To_Fire_Points\"]\\\n",
    "        + list(map(lambda i :\"Wilderness_Area_\"+ str(i), list(range(0,4))))\\\n",
    "        + list(map(lambda i :\"Soil_Type_\"+ str(i), list(range(0,40))))\\\n",
    "        + [\"Cover_Type\"]"
   ]
  },
  {
   "cell_type": "code",
   "execution_count": 5,
   "metadata": {},
   "outputs": [
    {
     "data": {
      "text/plain": [
       "['Elevation',\n",
       " 'Aspect',\n",
       " 'Slope',\n",
       " 'Horizontal_Distance_To_Hydrology',\n",
       " 'Vertical_Distance_To_Hydrology',\n",
       " 'Horizontal_Distance_To_Roadways',\n",
       " 'Hillshade_9am',\n",
       " 'Hillshade_Noon',\n",
       " 'Hillshade_3pm',\n",
       " 'Horizontal_Distance_To_Fire_Points',\n",
       " 'Wilderness_Area_0',\n",
       " 'Wilderness_Area_1',\n",
       " 'Wilderness_Area_2',\n",
       " 'Wilderness_Area_3',\n",
       " 'Soil_Type_0',\n",
       " 'Soil_Type_1',\n",
       " 'Soil_Type_2',\n",
       " 'Soil_Type_3',\n",
       " 'Soil_Type_4',\n",
       " 'Soil_Type_5',\n",
       " 'Soil_Type_6',\n",
       " 'Soil_Type_7',\n",
       " 'Soil_Type_8',\n",
       " 'Soil_Type_9',\n",
       " 'Soil_Type_10',\n",
       " 'Soil_Type_11',\n",
       " 'Soil_Type_12',\n",
       " 'Soil_Type_13',\n",
       " 'Soil_Type_14',\n",
       " 'Soil_Type_15',\n",
       " 'Soil_Type_16',\n",
       " 'Soil_Type_17',\n",
       " 'Soil_Type_18',\n",
       " 'Soil_Type_19',\n",
       " 'Soil_Type_20',\n",
       " 'Soil_Type_21',\n",
       " 'Soil_Type_22',\n",
       " 'Soil_Type_23',\n",
       " 'Soil_Type_24',\n",
       " 'Soil_Type_25',\n",
       " 'Soil_Type_26',\n",
       " 'Soil_Type_27',\n",
       " 'Soil_Type_28',\n",
       " 'Soil_Type_29',\n",
       " 'Soil_Type_30',\n",
       " 'Soil_Type_31',\n",
       " 'Soil_Type_32',\n",
       " 'Soil_Type_33',\n",
       " 'Soil_Type_34',\n",
       " 'Soil_Type_35',\n",
       " 'Soil_Type_36',\n",
       " 'Soil_Type_37',\n",
       " 'Soil_Type_38',\n",
       " 'Soil_Type_39',\n",
       " 'Cover_Type']"
      ]
     },
     "execution_count": 5,
     "metadata": {},
     "output_type": "execute_result"
    }
   ],
   "source": [
    "colNames"
   ]
  },
  {
   "cell_type": "code",
   "execution_count": 6,
   "metadata": {
    "collapsed": true
   },
   "outputs": [],
   "source": [
    "from pyspark.sql.types import *\n",
    "fields = [StructField(field_name, IntegerType(), True) for field_name in colNames]\n",
    "schema = StructType(fields)"
   ]
  },
  {
   "cell_type": "code",
   "execution_count": 7,
   "metadata": {},
   "outputs": [
    {
     "data": {
      "text/plain": [
       "['Elevation',\n",
       " 'Aspect',\n",
       " 'Slope',\n",
       " 'Horizontal_Distance_To_Hydrology',\n",
       " 'Vertical_Distance_To_Hydrology',\n",
       " 'Horizontal_Distance_To_Roadways',\n",
       " 'Hillshade_9am',\n",
       " 'Hillshade_Noon',\n",
       " 'Hillshade_3pm',\n",
       " 'Horizontal_Distance_To_Fire_Points',\n",
       " 'Wilderness_Area_0',\n",
       " 'Wilderness_Area_1',\n",
       " 'Wilderness_Area_2',\n",
       " 'Wilderness_Area_3',\n",
       " 'Soil_Type_0',\n",
       " 'Soil_Type_1',\n",
       " 'Soil_Type_2',\n",
       " 'Soil_Type_3',\n",
       " 'Soil_Type_4',\n",
       " 'Soil_Type_5',\n",
       " 'Soil_Type_6',\n",
       " 'Soil_Type_7',\n",
       " 'Soil_Type_8',\n",
       " 'Soil_Type_9',\n",
       " 'Soil_Type_10',\n",
       " 'Soil_Type_11',\n",
       " 'Soil_Type_12',\n",
       " 'Soil_Type_13',\n",
       " 'Soil_Type_14',\n",
       " 'Soil_Type_15',\n",
       " 'Soil_Type_16',\n",
       " 'Soil_Type_17',\n",
       " 'Soil_Type_18',\n",
       " 'Soil_Type_19',\n",
       " 'Soil_Type_20',\n",
       " 'Soil_Type_21',\n",
       " 'Soil_Type_22',\n",
       " 'Soil_Type_23',\n",
       " 'Soil_Type_24',\n",
       " 'Soil_Type_25',\n",
       " 'Soil_Type_26',\n",
       " 'Soil_Type_27',\n",
       " 'Soil_Type_28',\n",
       " 'Soil_Type_29',\n",
       " 'Soil_Type_30',\n",
       " 'Soil_Type_31',\n",
       " 'Soil_Type_32',\n",
       " 'Soil_Type_33',\n",
       " 'Soil_Type_34',\n",
       " 'Soil_Type_35',\n",
       " 'Soil_Type_36',\n",
       " 'Soil_Type_37',\n",
       " 'Soil_Type_38',\n",
       " 'Soil_Type_39',\n",
       " 'Cover_Type']"
      ]
     },
     "execution_count": 7,
     "metadata": {},
     "output_type": "execute_result"
    }
   ],
   "source": [
    "schema.names"
   ]
  },
  {
   "cell_type": "code",
   "execution_count": 8,
   "metadata": {
    "collapsed": true
   },
   "outputs": [],
   "source": [
    "data1 = spark.createDataFrame(dataWithoutHeader.rdd, schema=schema)"
   ]
  },
  {
   "cell_type": "code",
   "execution_count": 9,
   "metadata": {},
   "outputs": [
    {
     "name": "stdout",
     "output_type": "stream",
     "text": [
      "root\n",
      " |-- Elevation: integer (nullable = true)\n",
      " |-- Aspect: integer (nullable = true)\n",
      " |-- Slope: integer (nullable = true)\n",
      " |-- Horizontal_Distance_To_Hydrology: integer (nullable = true)\n",
      " |-- Vertical_Distance_To_Hydrology: integer (nullable = true)\n",
      " |-- Horizontal_Distance_To_Roadways: integer (nullable = true)\n",
      " |-- Hillshade_9am: integer (nullable = true)\n",
      " |-- Hillshade_Noon: integer (nullable = true)\n",
      " |-- Hillshade_3pm: integer (nullable = true)\n",
      " |-- Horizontal_Distance_To_Fire_Points: integer (nullable = true)\n",
      " |-- Wilderness_Area_0: integer (nullable = true)\n",
      " |-- Wilderness_Area_1: integer (nullable = true)\n",
      " |-- Wilderness_Area_2: integer (nullable = true)\n",
      " |-- Wilderness_Area_3: integer (nullable = true)\n",
      " |-- Soil_Type_0: integer (nullable = true)\n",
      " |-- Soil_Type_1: integer (nullable = true)\n",
      " |-- Soil_Type_2: integer (nullable = true)\n",
      " |-- Soil_Type_3: integer (nullable = true)\n",
      " |-- Soil_Type_4: integer (nullable = true)\n",
      " |-- Soil_Type_5: integer (nullable = true)\n",
      " |-- Soil_Type_6: integer (nullable = true)\n",
      " |-- Soil_Type_7: integer (nullable = true)\n",
      " |-- Soil_Type_8: integer (nullable = true)\n",
      " |-- Soil_Type_9: integer (nullable = true)\n",
      " |-- Soil_Type_10: integer (nullable = true)\n",
      " |-- Soil_Type_11: integer (nullable = true)\n",
      " |-- Soil_Type_12: integer (nullable = true)\n",
      " |-- Soil_Type_13: integer (nullable = true)\n",
      " |-- Soil_Type_14: integer (nullable = true)\n",
      " |-- Soil_Type_15: integer (nullable = true)\n",
      " |-- Soil_Type_16: integer (nullable = true)\n",
      " |-- Soil_Type_17: integer (nullable = true)\n",
      " |-- Soil_Type_18: integer (nullable = true)\n",
      " |-- Soil_Type_19: integer (nullable = true)\n",
      " |-- Soil_Type_20: integer (nullable = true)\n",
      " |-- Soil_Type_21: integer (nullable = true)\n",
      " |-- Soil_Type_22: integer (nullable = true)\n",
      " |-- Soil_Type_23: integer (nullable = true)\n",
      " |-- Soil_Type_24: integer (nullable = true)\n",
      " |-- Soil_Type_25: integer (nullable = true)\n",
      " |-- Soil_Type_26: integer (nullable = true)\n",
      " |-- Soil_Type_27: integer (nullable = true)\n",
      " |-- Soil_Type_28: integer (nullable = true)\n",
      " |-- Soil_Type_29: integer (nullable = true)\n",
      " |-- Soil_Type_30: integer (nullable = true)\n",
      " |-- Soil_Type_31: integer (nullable = true)\n",
      " |-- Soil_Type_32: integer (nullable = true)\n",
      " |-- Soil_Type_33: integer (nullable = true)\n",
      " |-- Soil_Type_34: integer (nullable = true)\n",
      " |-- Soil_Type_35: integer (nullable = true)\n",
      " |-- Soil_Type_36: integer (nullable = true)\n",
      " |-- Soil_Type_37: integer (nullable = true)\n",
      " |-- Soil_Type_38: integer (nullable = true)\n",
      " |-- Soil_Type_39: integer (nullable = true)\n",
      " |-- Cover_Type: integer (nullable = true)\n",
      "\n"
     ]
    }
   ],
   "source": [
    "data1.printSchema()"
   ]
  },
  {
   "cell_type": "code",
   "execution_count": 10,
   "metadata": {},
   "outputs": [
    {
     "data": {
      "text/plain": [
       "Row(Elevation=2596, Aspect=51, Slope=3, Horizontal_Distance_To_Hydrology=258, Vertical_Distance_To_Hydrology=0, Horizontal_Distance_To_Roadways=510, Hillshade_9am=221, Hillshade_Noon=232, Hillshade_3pm=148, Horizontal_Distance_To_Fire_Points=6279, Wilderness_Area_0=1, Wilderness_Area_1=0, Wilderness_Area_2=0, Wilderness_Area_3=0, Soil_Type_0=0, Soil_Type_1=0, Soil_Type_2=0, Soil_Type_3=0, Soil_Type_4=0, Soil_Type_5=0, Soil_Type_6=0, Soil_Type_7=0, Soil_Type_8=0, Soil_Type_9=0, Soil_Type_10=0, Soil_Type_11=0, Soil_Type_12=0, Soil_Type_13=0, Soil_Type_14=0, Soil_Type_15=0, Soil_Type_16=0, Soil_Type_17=0, Soil_Type_18=0, Soil_Type_19=0, Soil_Type_20=0, Soil_Type_21=0, Soil_Type_22=0, Soil_Type_23=0, Soil_Type_24=0, Soil_Type_25=0, Soil_Type_26=0, Soil_Type_27=0, Soil_Type_28=1, Soil_Type_29=0, Soil_Type_30=0, Soil_Type_31=0, Soil_Type_32=0, Soil_Type_33=0, Soil_Type_34=0, Soil_Type_35=0, Soil_Type_36=0, Soil_Type_37=0, Soil_Type_38=0, Soil_Type_39=0, Cover_Type=5)"
      ]
     },
     "execution_count": 10,
     "metadata": {},
     "output_type": "execute_result"
    }
   ],
   "source": [
    "data1.first()"
   ]
  },
  {
   "cell_type": "code",
   "execution_count": 11,
   "metadata": {
    "collapsed": true
   },
   "outputs": [],
   "source": [
    "data = spark.createDataFrame(dataWithoutHeader.rdd, colNames)"
   ]
  },
  {
   "cell_type": "code",
   "execution_count": 12,
   "metadata": {},
   "outputs": [
    {
     "name": "stdout",
     "output_type": "stream",
     "text": [
      "root\n",
      " |-- Elevation: long (nullable = true)\n",
      " |-- Aspect: long (nullable = true)\n",
      " |-- Slope: long (nullable = true)\n",
      " |-- Horizontal_Distance_To_Hydrology: long (nullable = true)\n",
      " |-- Vertical_Distance_To_Hydrology: long (nullable = true)\n",
      " |-- Horizontal_Distance_To_Roadways: long (nullable = true)\n",
      " |-- Hillshade_9am: long (nullable = true)\n",
      " |-- Hillshade_Noon: long (nullable = true)\n",
      " |-- Hillshade_3pm: long (nullable = true)\n",
      " |-- Horizontal_Distance_To_Fire_Points: long (nullable = true)\n",
      " |-- Wilderness_Area_0: long (nullable = true)\n",
      " |-- Wilderness_Area_1: long (nullable = true)\n",
      " |-- Wilderness_Area_2: long (nullable = true)\n",
      " |-- Wilderness_Area_3: long (nullable = true)\n",
      " |-- Soil_Type_0: long (nullable = true)\n",
      " |-- Soil_Type_1: long (nullable = true)\n",
      " |-- Soil_Type_2: long (nullable = true)\n",
      " |-- Soil_Type_3: long (nullable = true)\n",
      " |-- Soil_Type_4: long (nullable = true)\n",
      " |-- Soil_Type_5: long (nullable = true)\n",
      " |-- Soil_Type_6: long (nullable = true)\n",
      " |-- Soil_Type_7: long (nullable = true)\n",
      " |-- Soil_Type_8: long (nullable = true)\n",
      " |-- Soil_Type_9: long (nullable = true)\n",
      " |-- Soil_Type_10: long (nullable = true)\n",
      " |-- Soil_Type_11: long (nullable = true)\n",
      " |-- Soil_Type_12: long (nullable = true)\n",
      " |-- Soil_Type_13: long (nullable = true)\n",
      " |-- Soil_Type_14: long (nullable = true)\n",
      " |-- Soil_Type_15: long (nullable = true)\n",
      " |-- Soil_Type_16: long (nullable = true)\n",
      " |-- Soil_Type_17: long (nullable = true)\n",
      " |-- Soil_Type_18: long (nullable = true)\n",
      " |-- Soil_Type_19: long (nullable = true)\n",
      " |-- Soil_Type_20: long (nullable = true)\n",
      " |-- Soil_Type_21: long (nullable = true)\n",
      " |-- Soil_Type_22: long (nullable = true)\n",
      " |-- Soil_Type_23: long (nullable = true)\n",
      " |-- Soil_Type_24: long (nullable = true)\n",
      " |-- Soil_Type_25: long (nullable = true)\n",
      " |-- Soil_Type_26: long (nullable = true)\n",
      " |-- Soil_Type_27: long (nullable = true)\n",
      " |-- Soil_Type_28: long (nullable = true)\n",
      " |-- Soil_Type_29: long (nullable = true)\n",
      " |-- Soil_Type_30: long (nullable = true)\n",
      " |-- Soil_Type_31: long (nullable = true)\n",
      " |-- Soil_Type_32: long (nullable = true)\n",
      " |-- Soil_Type_33: long (nullable = true)\n",
      " |-- Soil_Type_34: long (nullable = true)\n",
      " |-- Soil_Type_35: long (nullable = true)\n",
      " |-- Soil_Type_36: long (nullable = true)\n",
      " |-- Soil_Type_37: long (nullable = true)\n",
      " |-- Soil_Type_38: long (nullable = true)\n",
      " |-- Soil_Type_39: long (nullable = true)\n",
      " |-- Cover_Type: long (nullable = true)\n",
      "\n"
     ]
    }
   ],
   "source": [
    "data.printSchema()"
   ]
  },
  {
   "cell_type": "code",
   "execution_count": 14,
   "metadata": {},
   "outputs": [
    {
     "ename": "NameError",
     "evalue": "name 'col' is not defined",
     "output_type": "error",
     "traceback": [
      "\u001b[1;31m---------------------------------------------------------------------------\u001b[0m",
      "\u001b[1;31mNameError\u001b[0m                                 Traceback (most recent call last)",
      "\u001b[1;32m<ipython-input-14-ecd8cab6523e>\u001b[0m in \u001b[0;36m<module>\u001b[1;34m()\u001b[0m\n\u001b[1;32m----> 1\u001b[1;33m \u001b[0mdata1\u001b[0m \u001b[1;33m=\u001b[0m \u001b[0mdata1\u001b[0m\u001b[1;33m.\u001b[0m\u001b[0mwithColumn\u001b[0m\u001b[1;33m(\u001b[0m\u001b[1;34m\"Cover_Type\"\u001b[0m\u001b[1;33m,\u001b[0m \u001b[0mcol\u001b[0m\u001b[1;33m(\u001b[0m\u001b[1;34m\"Cover_Type\"\u001b[0m\u001b[1;33m)\u001b[0m\u001b[1;33m.\u001b[0m\u001b[0mcast\u001b[0m\u001b[1;33m(\u001b[0m\u001b[1;34m\"double\"\u001b[0m\u001b[1;33m)\u001b[0m\u001b[1;33m)\u001b[0m\u001b[1;33m\u001b[0m\u001b[0m\n\u001b[0m",
      "\u001b[1;31mNameError\u001b[0m: name 'col' is not defined"
     ]
    }
   ],
   "source": [
    "data1 = data1.withColumn(\"Cover_Type\", col(\"Cover_Type\").cast(\"double\"))"
   ]
  }
 ],
 "metadata": {
  "kernelspec": {
   "display_name": "pyspark2.7_home",
   "language": "python",
   "name": "pyspark2.7_home"
  },
  "language_info": {
   "codemirror_mode": {
    "name": "ipython",
    "version": 2
   },
   "file_extension": ".py",
   "mimetype": "text/x-python",
   "name": "python",
   "nbconvert_exporter": "python",
   "pygments_lexer": "ipython2",
   "version": "2.7.5"
  }
 },
 "nbformat": 4,
 "nbformat_minor": 2
}
