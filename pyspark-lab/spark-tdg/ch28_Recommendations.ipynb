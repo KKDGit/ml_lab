{
 "cells": [
  {
   "cell_type": "code",
   "execution_count": 1,
   "metadata": {},
   "outputs": [
    {
     "data": {
      "text/plain": [
       "['',\n",
       " '/usr/lib/python2.7/site-packages/avro-1.7.7-py2.7.egg',\n",
       " '/usr/lib64/python27.zip',\n",
       " '/usr/lib64/python2.7',\n",
       " '/usr/lib64/python2.7/plat-linux2',\n",
       " '/usr/lib64/python2.7/lib-tk',\n",
       " '/usr/lib64/python2.7/lib-old',\n",
       " '/usr/lib64/python2.7/lib-dynload',\n",
       " '/home/kranthidr/.local/lib/python2.7/site-packages',\n",
       " '/usr/lib64/python2.7/site-packages',\n",
       " '/usr/lib64/python2.7/site-packages/gtk-2.0',\n",
       " '/usr/lib/python2.7/site-packages',\n",
       " '/usr/lib/python2.7/site-packages/IPython/extensions',\n",
       " '/home/kranthidr/.ipython']"
      ]
     },
     "execution_count": 1,
     "metadata": {},
     "output_type": "execute_result"
    }
   ],
   "source": [
    "import sys\n",
    "sys.path"
   ]
  },
  {
   "cell_type": "code",
   "execution_count": 2,
   "metadata": {},
   "outputs": [
    {
     "data": {
      "text/plain": [
       "'/usr/hdp/current/spark2-client'"
      ]
     },
     "execution_count": 2,
     "metadata": {},
     "output_type": "execute_result"
    }
   ],
   "source": [
    "import findspark\n",
    "findspark.init('/usr/hdp/current/spark2-client')\n",
    "findspark.find()"
   ]
  },
  {
   "cell_type": "code",
   "execution_count": 3,
   "metadata": {
    "collapsed": true
   },
   "outputs": [],
   "source": [
    "import pyspark\n",
    "from pyspark.sql import SparkSession\n",
    "spark = SparkSession.builder.master(\"yarn\").appName(\"ch28Recommendations\").getOrCreate()"
   ]
  },
  {
   "cell_type": "code",
   "execution_count": 4,
   "metadata": {},
   "outputs": [
    {
     "data": {
      "text/plain": [
       "u'http://gw02.itversity.com:4042'"
      ]
     },
     "execution_count": 4,
     "metadata": {},
     "output_type": "execute_result"
    }
   ],
   "source": [
    "sc = spark.sparkContext\n",
    "sc._jsc.sc().uiWebUrl().get()"
   ]
  },
  {
   "cell_type": "code",
   "execution_count": 5,
   "metadata": {},
   "outputs": [
    {
     "name": "stdout",
     "output_type": "stream",
     "text": [
      "rm01.itversity.com\n",
      "http://rm01.itversity.com:19288/proxy/application_1533622723243_11682\n",
      "http://rm01.itversity.com:19288/proxy/application_1533622723243_11682\n",
      "http://gw02.itversity.com:4042\n"
     ]
    }
   ],
   "source": [
    "for x in sc._conf.getAll():\n",
    "    if 'PROXY' in x[0]:\n",
    "        print(x[1])\n",
    "print(spark.conf.get('spark.org.apache.hadoop.yarn.server.webproxy.amfilter.AmIpFilter.param.PROXY_URI_BASES'))\n",
    "print(spark.conf.get('spark.driver.appUIAddress'))"
   ]
  },
  {
   "cell_type": "code",
   "execution_count": 6,
   "metadata": {
    "collapsed": true
   },
   "outputs": [],
   "source": [
    "from pyspark.ml.recommendation import ALS\n",
    "from pyspark.sql import Row"
   ]
  },
  {
   "cell_type": "code",
   "execution_count": 7,
   "metadata": {
    "collapsed": true
   },
   "outputs": [],
   "source": [
    "# ratings = spark.read.text(\"/data/sample_movielens_ratings.txt\")\\\n",
    "#   .rdd.toDF()\\                           #WHY this Step ??\n",
    "#   .selectExpr(\"split(value , '::') as col\")\\\n",
    "#   .selectExpr(\n",
    "#     \"cast(col[0] as int) as userId\",\n",
    "#     \"cast(col[1] as int) as movieId\",\n",
    "#     \"cast(col[2] as float) as rating\",\n",
    "#     \"cast(col[3] as long) as timestamp\")"
   ]
  },
  {
   "cell_type": "code",
   "execution_count": 8,
   "metadata": {
    "collapsed": true
   },
   "outputs": [],
   "source": [
    "ratings1 = spark.read.text(\"/user/kranthidr/dataSets/spark-guide/data/sample_movielens_ratings.txt\")"
   ]
  },
  {
   "cell_type": "code",
   "execution_count": 9,
   "metadata": {},
   "outputs": [
    {
     "data": {
      "text/plain": [
       "pyspark.sql.dataframe.DataFrame"
      ]
     },
     "execution_count": 9,
     "metadata": {},
     "output_type": "execute_result"
    }
   ],
   "source": [
    "type(ratings1)"
   ]
  },
  {
   "cell_type": "code",
   "execution_count": 10,
   "metadata": {},
   "outputs": [
    {
     "name": "stdout",
     "output_type": "stream",
     "text": [
      "+--------------------+\n",
      "|               value|\n",
      "+--------------------+\n",
      "| 0::2::3::1424380312|\n",
      "| 0::3::1::1424380312|\n",
      "| 0::5::2::1424380312|\n",
      "| 0::9::4::1424380312|\n",
      "|0::11::1::1424380312|\n",
      "|0::12::2::1424380312|\n",
      "|0::15::1::1424380312|\n",
      "|0::17::1::1424380312|\n",
      "|0::19::1::1424380312|\n",
      "|0::21::1::1424380312|\n",
      "|0::23::1::1424380312|\n",
      "|0::26::3::1424380312|\n",
      "|0::27::1::1424380312|\n",
      "|0::28::1::1424380312|\n",
      "|0::29::1::1424380312|\n",
      "|0::30::1::1424380312|\n",
      "|0::31::1::1424380312|\n",
      "|0::34::1::1424380312|\n",
      "|0::37::1::1424380312|\n",
      "|0::41::2::1424380312|\n",
      "+--------------------+\n",
      "only showing top 20 rows\n",
      "\n"
     ]
    }
   ],
   "source": [
    "ratings1.show()"
   ]
  },
  {
   "cell_type": "code",
   "execution_count": 11,
   "metadata": {
    "collapsed": true
   },
   "outputs": [],
   "source": [
    "ratings = ratings1.selectExpr(\"split(value , '::') as col\")\\\n",
    "  .selectExpr(\n",
    "    \"cast(col[0] as int) as userId\",\n",
    "    \"cast(col[1] as int) as movieId\",\n",
    "    \"cast(col[2] as float) as rating\",\n",
    "    \"cast(col[3] as long) as timestamp\")"
   ]
  },
  {
   "cell_type": "code",
   "execution_count": 12,
   "metadata": {},
   "outputs": [
    {
     "name": "stdout",
     "output_type": "stream",
     "text": [
      "+------+-------+------+----------+\n",
      "|userId|movieId|rating| timestamp|\n",
      "+------+-------+------+----------+\n",
      "|     0|      2|   3.0|1424380312|\n",
      "|     0|      3|   1.0|1424380312|\n",
      "|     0|      5|   2.0|1424380312|\n",
      "|     0|      9|   4.0|1424380312|\n",
      "|     0|     11|   1.0|1424380312|\n",
      "|     0|     12|   2.0|1424380312|\n",
      "|     0|     15|   1.0|1424380312|\n",
      "|     0|     17|   1.0|1424380312|\n",
      "|     0|     19|   1.0|1424380312|\n",
      "|     0|     21|   1.0|1424380312|\n",
      "|     0|     23|   1.0|1424380312|\n",
      "|     0|     26|   3.0|1424380312|\n",
      "|     0|     27|   1.0|1424380312|\n",
      "|     0|     28|   1.0|1424380312|\n",
      "|     0|     29|   1.0|1424380312|\n",
      "|     0|     30|   1.0|1424380312|\n",
      "|     0|     31|   1.0|1424380312|\n",
      "|     0|     34|   1.0|1424380312|\n",
      "|     0|     37|   1.0|1424380312|\n",
      "|     0|     41|   2.0|1424380312|\n",
      "+------+-------+------+----------+\n",
      "only showing top 20 rows\n",
      "\n"
     ]
    }
   ],
   "source": [
    "ratings.show()"
   ]
  },
  {
   "cell_type": "code",
   "execution_count": 13,
   "metadata": {
    "collapsed": true
   },
   "outputs": [],
   "source": [
    "training, test = ratings.randomSplit([1.8, 0.2])"
   ]
  },
  {
   "cell_type": "code",
   "execution_count": 14,
   "metadata": {
    "collapsed": true
   },
   "outputs": [],
   "source": [
    "# Number of Alternating Iteration to solve A = XY equation\n",
    "\n",
    "als = ALS(rank=10, \n",
    "          maxIter=10, \n",
    "          regParam=0.01, \n",
    "          numUserBlocks=10, \n",
    "          numItemBlocks=10, \n",
    "          implicitPrefs=False, \n",
    "          alpha=1.0, \n",
    "          userCol='userId', \n",
    "          itemCol='movieId', \n",
    "          seed=None, \n",
    "          ratingCol='rating', \n",
    "          nonnegative=False, \n",
    "          checkpointInterval=10, \n",
    "          intermediateStorageLevel='MEMORY_AND_DISK', \n",
    "          finalStorageLevel='MEMORY_AND_DISK', \n",
    "          coldStartStrategy='drop')\n",
    "\n",
    "# als = ALS().setsetMaxIter(5).setRegParam(0.01).setUserCol(\"userId\").setItemCol(\"movieId\").setRatingCol(\"rating\")"
   ]
  },
  {
   "cell_type": "code",
   "execution_count": 15,
   "metadata": {
    "scrolled": true
   },
   "outputs": [
    {
     "name": "stdout",
     "output_type": "stream",
     "text": [
      "alpha: alpha for implicit preference (default: 1.0, current: 1.0)\n",
      "checkpointInterval: set checkpoint interval (>= 1) or disable checkpoint (-1). E.g. 10 means that the cache will get checkpointed every 10 iterations. Note: this setting will be ignored if the checkpoint directory is not set in the SparkContext. (default: 10, current: 10)\n",
      "coldStartStrategy: strategy for dealing with unknown or new users/items at prediction time. This may be useful in cross-validation or production scenarios, for handling user/item ids the model has not seen in the training data. Supported values: 'nan', 'drop'. (default: nan, current: drop)\n",
      "finalStorageLevel: StorageLevel for ALS model factors. (default: MEMORY_AND_DISK, current: MEMORY_AND_DISK)\n",
      "implicitPrefs: whether to use implicit preference (default: False, current: False)\n",
      "intermediateStorageLevel: StorageLevel for intermediate datasets. Cannot be 'NONE'. (default: MEMORY_AND_DISK, current: MEMORY_AND_DISK)\n",
      "itemCol: column name for item ids. Ids must be within the integer value range. (default: item, current: movieId)\n",
      "maxIter: max number of iterations (>= 0). (default: 10, current: 10)\n",
      "nonnegative: whether to use nonnegative constraint for least squares (default: False, current: False)\n",
      "numItemBlocks: number of item blocks (default: 10, current: 10)\n",
      "numUserBlocks: number of user blocks (default: 10, current: 10)\n",
      "predictionCol: prediction column name. (default: prediction)\n",
      "rank: rank of the factorization (default: 10, current: 10)\n",
      "ratingCol: column name for ratings (default: rating, current: rating)\n",
      "regParam: regularization parameter (>= 0). (default: 0.1, current: 0.01)\n",
      "seed: random seed. (default: 593367982098446717, current: None)\n",
      "userCol: column name for user ids. Ids must be within the integer value range. (default: user, current: userId)\n"
     ]
    }
   ],
   "source": [
    "print(als.explainParams())"
   ]
  },
  {
   "cell_type": "code",
   "execution_count": 16,
   "metadata": {
    "collapsed": true
   },
   "outputs": [],
   "source": [
    "alsModel = als.fit(training)\n",
    "predictions = alsModel.transform(test)"
   ]
  },
  {
   "cell_type": "code",
   "execution_count": 17,
   "metadata": {
    "collapsed": true
   },
   "outputs": [],
   "source": [
    "# COMMAND ----------\n",
    "user_recommend = alsModel.recommendForAllUsers(10)"
   ]
  },
  {
   "cell_type": "code",
   "execution_count": 18,
   "metadata": {},
   "outputs": [
    {
     "data": {
      "text/plain": [
       "[Row(userId=28, recommendations=[Row(movieId=92, rating=4.895199775695801), Row(movieId=81, rating=4.8838276863098145), Row(movieId=52, rating=4.865847110748291), Row(movieId=12, rating=4.815539360046387), Row(movieId=71, rating=4.422400951385498), Row(movieId=8, rating=4.38348388671875), Row(movieId=2, rating=4.175174713134766), Row(movieId=89, rating=4.03819465637207), Row(movieId=49, rating=4.008114814758301), Row(movieId=80, rating=3.9377405643463135)]),\n",
       " Row(userId=26, recommendations=[Row(movieId=92, rating=6.227603435516357), Row(movieId=8, rating=6.058201789855957), Row(movieId=88, rating=5.094727516174316), Row(movieId=22, rating=5.054958343505859), Row(movieId=23, rating=4.988158226013184), Row(movieId=24, rating=4.905362129211426), Row(movieId=7, rating=4.775722026824951), Row(movieId=98, rating=4.297576427459717), Row(movieId=71, rating=4.1704206466674805), Row(movieId=68, rating=4.167436599731445)])]"
      ]
     },
     "execution_count": 18,
     "metadata": {},
     "output_type": "execute_result"
    }
   ],
   "source": [
    "user_recommend.take(2)"
   ]
  },
  {
   "cell_type": "code",
   "execution_count": 19,
   "metadata": {},
   "outputs": [
    {
     "name": "stdout",
     "output_type": "stream",
     "text": [
      "root\n",
      " |-- userId: integer (nullable = false)\n",
      " |-- recommendations: array (nullable = true)\n",
      " |    |-- element: struct (containsNull = true)\n",
      " |    |    |-- movieId: integer (nullable = true)\n",
      " |    |    |-- rating: float (nullable = true)\n",
      "\n"
     ]
    }
   ],
   "source": [
    "user_recommend.printSchema()"
   ]
  },
  {
   "cell_type": "code",
   "execution_count": 20,
   "metadata": {},
   "outputs": [
    {
     "name": "stdout",
     "output_type": "stream",
     "text": [
      "+------+--------------------+\n",
      "|userId|     recommendations|\n",
      "+------+--------------------+\n",
      "|    28|[[92, 4.8952], [8...|\n",
      "+------+--------------------+\n",
      "only showing top 1 row\n",
      "\n"
     ]
    }
   ],
   "source": [
    "user_recommend.show(1)"
   ]
  },
  {
   "cell_type": "code",
   "execution_count": 21,
   "metadata": {},
   "outputs": [
    {
     "name": "stdout",
     "output_type": "stream",
     "text": [
      "+------+---------------+\n",
      "|userId|            col|\n",
      "+------+---------------+\n",
      "|    28|   [92, 4.8952]|\n",
      "|    28|[81, 4.8838277]|\n",
      "|    28| [52, 4.865847]|\n",
      "|    28|[12, 4.8155394]|\n",
      "|    28| [71, 4.422401]|\n",
      "|    28|  [8, 4.383484]|\n",
      "|    28| [2, 4.1751747]|\n",
      "|    28|[89, 4.0381947]|\n",
      "|    28| [49, 4.008115]|\n",
      "|    28|[80, 3.9377406]|\n",
      "|    26|[92, 6.2276034]|\n",
      "|    26|  [8, 6.058202]|\n",
      "|    26|[88, 5.0947275]|\n",
      "|    26|[22, 5.0549583]|\n",
      "|    26| [23, 4.988158]|\n",
      "|    26| [24, 4.905362]|\n",
      "|    26|  [7, 4.775722]|\n",
      "|    26|[98, 4.2975764]|\n",
      "|    26|[71, 4.1704206]|\n",
      "|    26|[68, 4.1674366]|\n",
      "+------+---------------+\n",
      "only showing top 20 rows\n",
      "\n"
     ]
    }
   ],
   "source": [
    "user_recommend.selectExpr(\"userId\", \"explode(recommendations)\").show()    "
   ]
  },
  {
   "cell_type": "code",
   "execution_count": 22,
   "metadata": {
    "collapsed": true
   },
   "outputs": [],
   "source": [
    "item_recommend  = alsModel.recommendForAllItems(10)"
   ]
  },
  {
   "cell_type": "code",
   "execution_count": 23,
   "metadata": {},
   "outputs": [
    {
     "name": "stdout",
     "output_type": "stream",
     "text": [
      "root\n",
      " |-- movieId: integer (nullable = false)\n",
      " |-- recommendations: array (nullable = true)\n",
      " |    |-- element: struct (containsNull = true)\n",
      " |    |    |-- userId: integer (nullable = true)\n",
      " |    |    |-- rating: float (nullable = true)\n",
      "\n"
     ]
    }
   ],
   "source": [
    "item_recommend.printSchema()"
   ]
  },
  {
   "cell_type": "code",
   "execution_count": 24,
   "metadata": {},
   "outputs": [
    {
     "data": {
      "text/plain": [
       "Row(movieId=31, recommendations=[Row(userId=8, rating=3.0425338745117188), Row(userId=14, rating=2.973376512527466), Row(userId=6, rating=2.953794002532959), Row(userId=7, rating=2.7414774894714355), Row(userId=10, rating=2.6314101219177246), Row(userId=28, rating=2.113719940185547), Row(userId=21, rating=2.103858709335327), Row(userId=20, rating=2.0977835655212402), Row(userId=25, rating=2.0574450492858887), Row(userId=1, rating=1.7950433492660522)])"
      ]
     },
     "execution_count": 24,
     "metadata": {},
     "output_type": "execute_result"
    }
   ],
   "source": [
    "item_recommend.first()"
   ]
  },
  {
   "cell_type": "code",
   "execution_count": 25,
   "metadata": {},
   "outputs": [
    {
     "name": "stdout",
     "output_type": "stream",
     "text": [
      "+-------+---------------+\n",
      "|movieId|            col|\n",
      "+-------+---------------+\n",
      "|     31| [8, 3.0425339]|\n",
      "|     31|[14, 2.9733765]|\n",
      "|     31|  [6, 2.953794]|\n",
      "|     31| [7, 2.7414775]|\n",
      "|     31|[10, 2.6314101]|\n",
      "|     31|  [28, 2.11372]|\n",
      "|     31|[21, 2.1038587]|\n",
      "|     31|[20, 2.0977836]|\n",
      "|     31| [25, 2.057445]|\n",
      "|     31| [1, 1.7950433]|\n",
      "|     85|[16, 4.7675653]|\n",
      "|     85| [8, 4.4026413]|\n",
      "|     85|[18, 3.7186184]|\n",
      "|     85| [0, 3.5494723]|\n",
      "|     85|[14, 3.4386199]|\n",
      "|     85| [1, 3.0705476]|\n",
      "|     85|[21, 3.0179274]|\n",
      "|     85| [6, 3.0144472]|\n",
      "|     85| [7, 2.8245568]|\n",
      "|     85|[20, 2.4555118]|\n",
      "+-------+---------------+\n",
      "only showing top 20 rows\n",
      "\n"
     ]
    }
   ],
   "source": [
    "item_recommend.selectExpr(\"movieId\", \"explode(recommendations)\").show()"
   ]
  },
  {
   "cell_type": "code",
   "execution_count": 26,
   "metadata": {
    "collapsed": true
   },
   "outputs": [],
   "source": [
    "# COMMAND ----------\n",
    "from pyspark.ml.evaluation import RegressionEvaluator"
   ]
  },
  {
   "cell_type": "code",
   "execution_count": 27,
   "metadata": {
    "collapsed": true
   },
   "outputs": [],
   "source": [
    "evaluator = RegressionEvaluator().setMetricName(\"rmse\").setLabelCol(\"rating\").setPredictionCol(\"prediction\")"
   ]
  },
  {
   "cell_type": "code",
   "execution_count": 28,
   "metadata": {},
   "outputs": [
    {
     "name": "stdout",
     "output_type": "stream",
     "text": [
      "Root-mean-square error = 1.577370\n"
     ]
    }
   ],
   "source": [
    "rmse = evaluator.evaluate(predictions)\n",
    "print(\"Root-mean-square error = %f\" % rmse)"
   ]
  },
  {
   "cell_type": "code",
   "execution_count": 29,
   "metadata": {
    "collapsed": true
   },
   "outputs": [],
   "source": [
    "# COMMAND ----------\n",
    "from pyspark.mllib.evaluation import RegressionMetrics"
   ]
  },
  {
   "cell_type": "code",
   "execution_count": 30,
   "metadata": {},
   "outputs": [
    {
     "data": {
      "text/plain": [
       "Row(userId=12, movieId=31, rating=4.0, timestamp=1424380312, prediction=-0.19536298513412476)"
      ]
     },
     "execution_count": 30,
     "metadata": {},
     "output_type": "execute_result"
    }
   ],
   "source": [
    "predictions.first()"
   ]
  },
  {
   "cell_type": "code",
   "execution_count": 31,
   "metadata": {},
   "outputs": [
    {
     "name": "stdout",
     "output_type": "stream",
     "text": [
      "root\n",
      " |-- userId: integer (nullable = true)\n",
      " |-- movieId: integer (nullable = true)\n",
      " |-- rating: float (nullable = true)\n",
      " |-- timestamp: long (nullable = true)\n",
      " |-- prediction: float (nullable = false)\n",
      "\n"
     ]
    }
   ],
   "source": [
    "predictions.printSchema()"
   ]
  },
  {
   "cell_type": "code",
   "execution_count": 32,
   "metadata": {
    "collapsed": true
   },
   "outputs": [],
   "source": [
    "regComparisonDF = predictions.select(\"rating\", \"prediction\")"
   ]
  },
  {
   "cell_type": "code",
   "execution_count": 33,
   "metadata": {},
   "outputs": [
    {
     "name": "stdout",
     "output_type": "stream",
     "text": [
      "+------+-----------+\n",
      "|rating| prediction|\n",
      "+------+-----------+\n",
      "|   4.0|-0.19536299|\n",
      "|   4.0|  2.8245568|\n",
      "+------+-----------+\n",
      "only showing top 2 rows\n",
      "\n"
     ]
    }
   ],
   "source": [
    "regComparisonDF.show(2)"
   ]
  },
  {
   "cell_type": "code",
   "execution_count": 34,
   "metadata": {},
   "outputs": [
    {
     "data": {
      "text/plain": [
       "[Row(rating=4.0, prediction=-0.19536298513412476),\n",
       " Row(rating=4.0, prediction=2.824556827545166)]"
      ]
     },
     "execution_count": 34,
     "metadata": {},
     "output_type": "execute_result"
    }
   ],
   "source": [
    "regComparisonDF.select(\"rating\", \"prediction\").take(2)"
   ]
  },
  {
   "cell_type": "code",
   "execution_count": 35,
   "metadata": {
    "collapsed": true
   },
   "outputs": [],
   "source": [
    "from pyspark.sql.functions import struct, create_map, col"
   ]
  },
  {
   "cell_type": "code",
   "execution_count": 36,
   "metadata": {},
   "outputs": [
    {
     "name": "stdout",
     "output_type": "stream",
     "text": [
      "+------------------+------+-----------+\n",
      "|            struct|rating| prediction|\n",
      "+------------------+------+-----------+\n",
      "|[4.0, -0.19536299]|   4.0|-0.19536299|\n",
      "|  [4.0, 2.8245568]|   4.0|  2.8245568|\n",
      "+------------------+------+-----------+\n",
      "only showing top 2 rows\n",
      "\n"
     ]
    }
   ],
   "source": [
    "regComparisonDF.selectExpr(\"struct(rating, prediction) as struct\", \"*\").show(2)"
   ]
  },
  {
   "cell_type": "code",
   "execution_count": 37,
   "metadata": {},
   "outputs": [
    {
     "name": "stdout",
     "output_type": "stream",
     "text": [
      "+------------------+\n",
      "|            struct|\n",
      "+------------------+\n",
      "|[4.0, -0.19536299]|\n",
      "|  [4.0, 2.8245568]|\n",
      "+------------------+\n",
      "only showing top 2 rows\n",
      "\n"
     ]
    }
   ],
   "source": [
    "regComparisonDF.selectExpr(\"struct(rating, prediction) as struct\").show(2)"
   ]
  },
  {
   "cell_type": "code",
   "execution_count": 38,
   "metadata": {
    "collapsed": true
   },
   "outputs": [],
   "source": [
    "regComparison = regComparisonDF.select(create_map(col(\"rating\"), col(\"prediction\")).alias(\"mapped\"))"
   ]
  },
  {
   "cell_type": "code",
   "execution_count": 39,
   "metadata": {},
   "outputs": [
    {
     "name": "stdout",
     "output_type": "stream",
     "text": [
      "+--------------------+\n",
      "|              mapped|\n",
      "+--------------------+\n",
      "|[4.0 -> -0.19536299]|\n",
      "|  [4.0 -> 2.8245568]|\n",
      "|  [2.0 -> 1.5255475]|\n",
      "+--------------------+\n",
      "only showing top 3 rows\n",
      "\n"
     ]
    }
   ],
   "source": [
    "regComparison.show(3)"
   ]
  },
  {
   "cell_type": "code",
   "execution_count": 40,
   "metadata": {},
   "outputs": [
    {
     "data": {
      "text/plain": [
       "[Row(rating=4.0, prediction=-0.19536298513412476),\n",
       " Row(rating=4.0, prediction=2.824556827545166)]"
      ]
     },
     "execution_count": 40,
     "metadata": {},
     "output_type": "execute_result"
    }
   ],
   "source": [
    "regComparisonDF.rdd.take(2)"
   ]
  },
  {
   "cell_type": "code",
   "execution_count": 41,
   "metadata": {},
   "outputs": [
    {
     "name": "stdout",
     "output_type": "stream",
     "text": [
      "(<class 'pyspark.sql.dataframe.DataFrame'>, <class 'pyspark.rdd.RDD'>)\n"
     ]
    }
   ],
   "source": [
    "print(type(regComparisonDF), type(regComparisonDF.rdd))"
   ]
  },
  {
   "cell_type": "code",
   "execution_count": 42,
   "metadata": {
    "collapsed": true
   },
   "outputs": [],
   "source": [
    "regComparisonrdd = regComparisonDF.rdd"
   ]
  },
  {
   "cell_type": "code",
   "execution_count": 43,
   "metadata": {},
   "outputs": [
    {
     "data": {
      "text/plain": [
       "[Row(rating=4.0, prediction=-0.19536298513412476),\n",
       " Row(rating=4.0, prediction=2.824556827545166),\n",
       " Row(rating=2.0, prediction=1.5255475044250488)]"
      ]
     },
     "execution_count": 43,
     "metadata": {},
     "output_type": "execute_result"
    }
   ],
   "source": [
    "regComparisonrdd.take(3)"
   ]
  },
  {
   "cell_type": "code",
   "execution_count": 44,
   "metadata": {},
   "outputs": [
    {
     "data": {
      "text/plain": [
       "[(4.0, -0.19536298513412476),\n",
       " (4.0, 2.824556827545166),\n",
       " (2.0, 1.5255475044250488)]"
      ]
     },
     "execution_count": 44,
     "metadata": {},
     "output_type": "execute_result"
    }
   ],
   "source": [
    "regComparisonrdd.map(lambda x: (x['rating'], x['prediction'])).take(3)"
   ]
  },
  {
   "cell_type": "code",
   "execution_count": 45,
   "metadata": {
    "collapsed": true
   },
   "outputs": [],
   "source": [
    "regComparison = regComparisonrdd.map(lambda x: (x['rating'], x['prediction']))"
   ]
  },
  {
   "cell_type": "code",
   "execution_count": 46,
   "metadata": {
    "collapsed": true
   },
   "outputs": [],
   "source": [
    "metrics = RegressionMetrics(regComparison)"
   ]
  },
  {
   "cell_type": "code",
   "execution_count": 47,
   "metadata": {},
   "outputs": [
    {
     "data": {
      "text/plain": [
       "pyspark.mllib.evaluation.RegressionMetrics"
      ]
     },
     "execution_count": 47,
     "metadata": {},
     "output_type": "execute_result"
    }
   ],
   "source": [
    "type(metrics)"
   ]
  },
  {
   "cell_type": "code",
   "execution_count": 48,
   "metadata": {},
   "outputs": [
    {
     "name": "stdout",
     "output_type": "stream",
     "text": [
      "(1.4880244583140434, 1.1701565709065747, 2.4880974895673313, -0.09340558562154255, 1.5773704351126059)\n"
     ]
    }
   ],
   "source": [
    "print(metrics.explainedVariance, \n",
    "      metrics.meanAbsoluteError, \n",
    "      metrics.meanSquaredError, \n",
    "      metrics.r2, \n",
    "      metrics.rootMeanSquaredError)"
   ]
  },
  {
   "cell_type": "code",
   "execution_count": 49,
   "metadata": {
    "collapsed": true
   },
   "outputs": [],
   "source": [
    "# COMMAND ----------\n",
    "from pyspark.mllib.evaluation import RankingMetrics, RegressionMetrics\n",
    "from pyspark.sql.functions import col, expr"
   ]
  },
  {
   "cell_type": "code",
   "execution_count": 50,
   "metadata": {
    "collapsed": true
   },
   "outputs": [],
   "source": [
    "perUserActual = predictions\\\n",
    "  .where(\"rating > 2.5\")\\\n",
    "  .groupBy(\"userId\")\\\n",
    "  .agg(expr(\"collect_set(movieId) as movies\"))"
   ]
  },
  {
   "cell_type": "code",
   "execution_count": 51,
   "metadata": {},
   "outputs": [
    {
     "name": "stdout",
     "output_type": "stream",
     "text": [
      "+------+------------+\n",
      "|userId|      movies|\n",
      "+------+------------+\n",
      "|    27|[33, 27, 55]|\n",
      "|    26|        [94]|\n",
      "|    12|    [31, 50]|\n",
      "|    22|[32, 29, 41]|\n",
      "|    13|        [83]|\n",
      "+------+------------+\n",
      "only showing top 5 rows\n",
      "\n"
     ]
    }
   ],
   "source": [
    "perUserActual.show(5)"
   ]
  },
  {
   "cell_type": "code",
   "execution_count": 52,
   "metadata": {
    "collapsed": true
   },
   "outputs": [],
   "source": [
    "# COMMAND ----------\n",
    "perUserPredictions = predictions\\\n",
    "  .orderBy(col(\"userId\"), expr(\"prediction DESC\"))\\\n",
    "  .groupBy(\"userId\")\\\n",
    "  .agg(expr(\"collect_list(movieId) as movies\"))"
   ]
  },
  {
   "cell_type": "code",
   "execution_count": 53,
   "metadata": {},
   "outputs": [
    {
     "name": "stdout",
     "output_type": "stream",
     "text": [
      "+------+--------------------+\n",
      "|userId|              movies|\n",
      "+------+--------------------+\n",
      "|    28|[60, 56, 45, 90, ...|\n",
      "|    26|[14, 94, 48, 55, ...|\n",
      "|    27|    [52, 27, 55, 33]|\n",
      "|    12| [31, 2, 52, 45, 50]|\n",
      "|    22|[81, 32, 29, 90, ...|\n",
      "+------+--------------------+\n",
      "only showing top 5 rows\n",
      "\n"
     ]
    }
   ],
   "source": [
    "perUserPredictions.show(5)"
   ]
  },
  {
   "cell_type": "code",
   "execution_count": 54,
   "metadata": {
    "collapsed": true
   },
   "outputs": [],
   "source": [
    "# COMMAND ----------\n",
    "perUserActualvPred = perUserActual.join(perUserPredictions, [\"userId\"]).rdd.map(lambda row: (row[1], row[2][:15]))"
   ]
  },
  {
   "cell_type": "code",
   "execution_count": 55,
   "metadata": {},
   "outputs": [
    {
     "data": {
      "text/plain": [
       "[([94], [2, 1, 14, 55, 94, 48, 71]), ([33, 27, 55], [33, 52, 27, 55])]"
      ]
     },
     "execution_count": 55,
     "metadata": {},
     "output_type": "execute_result"
    }
   ],
   "source": [
    "perUserActualvPred.take(2)"
   ]
  },
  {
   "cell_type": "code",
   "execution_count": 56,
   "metadata": {
    "collapsed": true
   },
   "outputs": [],
   "source": [
    "ranks = RankingMetrics(perUserActualvPred)"
   ]
  },
  {
   "cell_type": "code",
   "execution_count": 57,
   "metadata": {},
   "outputs": [
    {
     "data": {
      "text/plain": [
       "0.3187229437229438"
      ]
     },
     "execution_count": 57,
     "metadata": {},
     "output_type": "execute_result"
    }
   ],
   "source": [
    "# COMMAND ----------\n",
    "ranks.meanAveragePrecision"
   ]
  },
  {
   "cell_type": "code",
   "execution_count": 58,
   "metadata": {},
   "outputs": [
    {
     "data": {
      "text/plain": [
       "0.3363636363636364"
      ]
     },
     "execution_count": 58,
     "metadata": {},
     "output_type": "execute_result"
    }
   ],
   "source": [
    "ranks.precisionAt(5)\n",
    "# COMMAND ----------"
   ]
  },
  {
   "cell_type": "code",
   "execution_count": null,
   "metadata": {
    "collapsed": true
   },
   "outputs": [],
   "source": []
  }
 ],
 "metadata": {
  "kernelspec": {
   "display_name": "pyspark2.7_home",
   "language": "python",
   "name": "pyspark2.7_home"
  },
  "language_info": {
   "codemirror_mode": {
    "name": "ipython",
    "version": 2
   },
   "file_extension": ".py",
   "mimetype": "text/x-python",
   "name": "python",
   "nbconvert_exporter": "python",
   "pygments_lexer": "ipython2",
   "version": "2.7.5"
  }
 },
 "nbformat": 4,
 "nbformat_minor": 2
}
