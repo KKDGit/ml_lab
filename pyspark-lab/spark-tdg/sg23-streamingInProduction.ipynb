{
 "cells": [
  {
   "cell_type": "code",
   "execution_count": 1,
   "metadata": {
    "collapsed": true
   },
   "outputs": [],
   "source": [
    "import platform,os\n",
    "os_name = platform.system()\n",
    "hdfs_home = \"/user/\" + os.getenv(\"HOME\").split(\"/\")[2]"
   ]
  },
  {
   "cell_type": "code",
   "execution_count": 2,
   "metadata": {},
   "outputs": [
    {
     "name": "stdout",
     "output_type": "stream",
     "text": [
      "/user/kranthidr\n",
      "Linux\n"
     ]
    }
   ],
   "source": [
    "print(hdfs_home)\n",
    "print(os_name)"
   ]
  },
  {
   "cell_type": "code",
   "execution_count": 3,
   "metadata": {
    "collapsed": true
   },
   "outputs": [],
   "source": [
    "path = hdfs_home+\"/dataSets/spark-guide/activity-data/\""
   ]
  },
  {
   "cell_type": "code",
   "execution_count": 4,
   "metadata": {
    "collapsed": true
   },
   "outputs": [],
   "source": [
    "spark_home = \"/usr/hdp/current/spark2-client\""
   ]
  },
  {
   "cell_type": "code",
   "execution_count": 5,
   "metadata": {},
   "outputs": [
    {
     "data": {
      "text/plain": [
       "'/usr/hdp/current/spark2-client'"
      ]
     },
     "execution_count": 5,
     "metadata": {},
     "output_type": "execute_result"
    }
   ],
   "source": [
    "import findspark\n",
    "findspark.init(spark_home)\n",
    "#findspark.init()\n",
    "findspark.find()"
   ]
  },
  {
   "cell_type": "code",
   "execution_count": 6,
   "metadata": {
    "collapsed": true
   },
   "outputs": [],
   "source": [
    "import pyspark\n",
    "from pyspark.sql import SparkSession\n",
    "spark = SparkSession.builder.master(\"yarn\").appName(\"sg23-streamingInProduction\").getOrCreate()\n",
    "#spark = SparkSession.builder.master(\"local[*]\").appName(\"sg23-streamingInProduction\").getOrCreate()"
   ]
  },
  {
   "cell_type": "code",
   "execution_count": 7,
   "metadata": {
    "collapsed": true
   },
   "outputs": [],
   "source": [
    "sc = spark.sparkContext"
   ]
  },
  {
   "cell_type": "code",
   "execution_count": 8,
   "metadata": {},
   "outputs": [
    {
     "name": "stdout",
     "output_type": "stream",
     "text": [
      "http://rm01.itversity.com:19288/proxy/application_1533622723243_20741\n"
     ]
    }
   ],
   "source": [
    "for x in sc._conf.getAll():\n",
    "    if '/proxy/' in x[1]:\n",
    "        print(x[1])"
   ]
  },
  {
   "cell_type": "code",
   "execution_count": 9,
   "metadata": {
    "collapsed": true
   },
   "outputs": [],
   "source": [
    "static = spark.read.json(path)"
   ]
  },
  {
   "cell_type": "code",
   "execution_count": 10,
   "metadata": {
    "collapsed": true
   },
   "outputs": [],
   "source": [
    "streaming = spark\\\n",
    "  .readStream\\\n",
    "  .schema(static.schema)\\\n",
    "  .option(\"maxFilesPerTrigger\", 10)\\\n",
    "  .json(path)\\\n",
    "  .groupBy(\"gt\")\\\n",
    "  .count()"
   ]
  },
  {
   "cell_type": "code",
   "execution_count": 11,
   "metadata": {
    "collapsed": true
   },
   "outputs": [],
   "source": [
    "query = streaming\\\n",
    "  .writeStream\\\n",
    "  .outputMode(\"complete\")\\\n",
    "  .option(\"checkpointLocation\", \"/tmp/\")\\\n",
    "  .queryName(\"test_python_stream\")\\\n",
    "  .format(\"memory\")\\\n",
    "  .start()\n",
    "\n",
    "\n",
    "# COMMAND ----------"
   ]
  },
  {
   "cell_type": "code",
   "execution_count": 13,
   "metadata": {},
   "outputs": [
    {
     "name": "stdout",
     "output_type": "stream",
     "text": [
      "+--------+------+\n",
      "|gt      |count |\n",
      "+--------+------+\n",
      "|stairsup|104521|\n",
      "|sit     |123085|\n",
      "|stand   |113849|\n",
      "|walk    |132560|\n",
      "|bike    |107974|\n",
      "+--------+------+\n",
      "only showing top 5 rows\n",
      "\n",
      "+--------+------+\n",
      "|gt      |count |\n",
      "+--------+------+\n",
      "|stairsup|209082|\n",
      "|sit     |246159|\n",
      "|stand   |227709|\n",
      "|walk    |265119|\n",
      "|bike    |215949|\n",
      "+--------+------+\n",
      "only showing top 5 rows\n",
      "\n",
      "+--------+------+\n",
      "|gt      |count |\n",
      "+--------+------+\n",
      "|stairsup|209082|\n",
      "|sit     |246159|\n",
      "|stand   |227709|\n",
      "|walk    |265119|\n",
      "|bike    |215949|\n",
      "+--------+------+\n",
      "only showing top 5 rows\n",
      "\n"
     ]
    }
   ],
   "source": [
    "from time import sleep\n",
    "for x in range(3):\n",
    "    spark.sql(\"SELECT * FROM test_python_stream\").show(5, False)\n",
    "    sleep(5)"
   ]
  },
  {
   "cell_type": "code",
   "execution_count": 14,
   "metadata": {},
   "outputs": [
    {
     "data": {
      "text/plain": [
       "[<pyspark.sql.streaming.StreamingQuery at 0x658ce7174ed0>]"
      ]
     },
     "execution_count": 14,
     "metadata": {},
     "output_type": "execute_result"
    }
   ],
   "source": [
    "spark.streams.active"
   ]
  },
  {
   "cell_type": "code",
   "execution_count": null,
   "metadata": {
    "collapsed": true
   },
   "outputs": [],
   "source": []
  }
 ],
 "metadata": {
  "kernelspec": {
   "display_name": "pyspark2.7_home",
   "language": "python",
   "name": "pyspark2.7_home"
  },
  "language_info": {
   "codemirror_mode": {
    "name": "ipython",
    "version": 2
   },
   "file_extension": ".py",
   "mimetype": "text/x-python",
   "name": "python",
   "nbconvert_exporter": "python",
   "pygments_lexer": "ipython2",
   "version": "2.7.5"
  }
 },
 "nbformat": 4,
 "nbformat_minor": 2
}
