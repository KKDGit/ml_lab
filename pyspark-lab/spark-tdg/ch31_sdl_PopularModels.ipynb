{
 "cells": [
  {
   "cell_type": "code",
   "execution_count": 1,
   "metadata": {
    "collapsed": true
   },
   "outputs": [],
   "source": [
    "import platform,os, sys\n",
    "os_name = platform.system()"
   ]
  },
  {
   "cell_type": "code",
   "execution_count": 2,
   "metadata": {
    "collapsed": true
   },
   "outputs": [],
   "source": [
    "import findspark"
   ]
  },
  {
   "cell_type": "code",
   "execution_count": 3,
   "metadata": {
    "collapsed": true
   },
   "outputs": [],
   "source": [
    "if os_name == \"Windows\":\n",
    "    findspark.init()\n",
    "    img_dir = \"D:/Learn/GitRepos/Spark-The-Definitive-Guide/data/deep-learning-images\"\n",
    "    temp_loc = \"D:/temp/\"\n",
    "    master = \"local[*]\"\n",
    "else:\n",
    "    spark_home = \"/usr/hdp/current/spark2-client\"\n",
    "    findspark.init(spark_home)\n",
    "    hdfs_home = \"/user/\" + os.getenv(\"HOME\").split(\"/\")[2]\n",
    "    img_dir = hdfs_home+\"/dataSets/spark-guide/deep-learning-images/\"\n",
    "    temp_loc = os.getenv(\"HOME\") + \"/temp/\"\n",
    "    master = \"yarn\"\n",
    "    #sys.path.append(os.path.expanduser('hdfs:///user/kranthidr/pythonpath/sparkdl.zip'))\n",
    "    sys.path.append(os.path.expanduser('~/pythonpath/sparkdl.zip'))\n",
    "    sys.path.append(os.path.expanduser('~/pythonpath/tensorframes.zip'))\n",
    "    sys.path.append(os.path.expanduser('~/pythonpath/tensorflow.zip'))\n",
    "    sys.path.append(os.path.expanduser(\"~/.local/lib/python2.7/site-packages\"))"
   ]
  },
  {
   "cell_type": "code",
   "execution_count": 4,
   "metadata": {},
   "outputs": [
    {
     "data": {
      "text/plain": [
       "['/usr/hdp/current/spark2-client/python',\n",
       " '/usr/hdp/current/spark2-client/python/lib/py4j-0.10.6-src.zip',\n",
       " '',\n",
       " '/usr/lib/python2.7/site-packages/avro-1.7.7-py2.7.egg',\n",
       " '/usr/lib64/python27.zip',\n",
       " '/usr/lib64/python2.7',\n",
       " '/usr/lib64/python2.7/plat-linux2',\n",
       " '/usr/lib64/python2.7/lib-tk',\n",
       " '/usr/lib64/python2.7/lib-old',\n",
       " '/usr/lib64/python2.7/lib-dynload',\n",
       " '/home/kranthidr/.local/lib/python2.7/site-packages',\n",
       " '/usr/lib64/python2.7/site-packages',\n",
       " '/usr/lib64/python2.7/site-packages/gtk-2.0',\n",
       " '/usr/lib/python2.7/site-packages',\n",
       " '/usr/lib/python2.7/site-packages/IPython/extensions',\n",
       " '/home/kranthidr/.ipython',\n",
       " '/home/kranthidr/pythonpath/sparkdl.zip',\n",
       " '/home/kranthidr/pythonpath/tensorframes.zip',\n",
       " '/home/kranthidr/pythonpath/tensorflow.zip',\n",
       " '/home/kranthidr/.local/lib/python2.7/site-packages']"
      ]
     },
     "execution_count": 4,
     "metadata": {},
     "output_type": "execute_result"
    }
   ],
   "source": [
    "sys.path"
   ]
  },
  {
   "cell_type": "code",
   "execution_count": 5,
   "metadata": {},
   "outputs": [
    {
     "data": {
      "text/plain": [
       "'/usr/hdp/current/spark2-client'"
      ]
     },
     "execution_count": 5,
     "metadata": {},
     "output_type": "execute_result"
    }
   ],
   "source": [
    "findspark.find()"
   ]
  },
  {
   "cell_type": "code",
   "execution_count": 6,
   "metadata": {},
   "outputs": [
    {
     "data": {
      "text/plain": [
       "'/user/kranthidr/dataSets/spark-guide/deep-learning-images/'"
      ]
     },
     "execution_count": 6,
     "metadata": {},
     "output_type": "execute_result"
    }
   ],
   "source": [
    "img_dir"
   ]
  },
  {
   "cell_type": "code",
   "execution_count": 7,
   "metadata": {},
   "outputs": [
    {
     "data": {
      "text/plain": [
       "'/home/kranthidr/temp/'"
      ]
     },
     "execution_count": 7,
     "metadata": {},
     "output_type": "execute_result"
    }
   ],
   "source": [
    "temp_loc"
   ]
  },
  {
   "cell_type": "code",
   "execution_count": 8,
   "metadata": {
    "collapsed": true
   },
   "outputs": [],
   "source": [
    "from pyspark.sql import SparkSession\n",
    "\n",
    "spark = SparkSession.builder.master(\"local[*]\")\\\n",
    ".config(\"spark.driver.memory\", \"2g\")\\\n",
    ".config(\"spark.jars.packages\",\"databricks:spark-deep-learning:1.2.0-spark2.3-s_2.11,databricks:tensorframes:0.5.0-s_2.11\")\\\n",
    ".appName(\"ch31_DeepLearningPopModels\").getOrCreate()\n",
    "\n",
    "#.config(\"spark.jars.packages\",\"databricks:spark-deep-learning:1.2.0-spark2.3-s_2.11,databricks:tensorframes:0.5.0-s_2.11\")\\\n",
    "# .config(\"spark.driver.memory\", \"8g\")\\\n",
    "# .config(\"spark.executor.memory\", \"3g\")\\\n",
    "# .config(\"spark.executor.cores\", \"4\")\\\n",
    "# .config(\"spark.executor.instances\", \"10\")\\\n",
    "\n",
    "\n",
    "#!/usr/bin/env bash\n",
    "\n",
    "# This file is sourced when running various Spark programs.\n",
    "# Copy it as spark-env.sh and edit that to configure Spark for your site.\n",
    "\n",
    "# Options read in YARN client mode\n",
    "#SPARK_EXECUTOR_INSTANCES=\"2\" #Number of workers to start (Default: 2)\n",
    "#SPARK_EXECUTOR_CORES=\"1\" #Number of cores for the workers (Default: 1).\n",
    "#SPARK_EXECUTOR_MEMORY=\"1G\" #Memory per Worker (e.g. 1000M, 2G) (Default: 1G)\n",
    "#SPARK_DRIVER_MEMORY=\"512M\" #Memory for Master (e.g. 1000M, 2G) (Default: 512 Mb)\n",
    "#SPARK_YARN_APP_NAME=\"spark\" #The name of your application (Default: Spark)\n",
    "#SPARK_YARN_QUEUE=\"default\" #The hadoop queue to use for allocation requests (Default: default)\n",
    "#SPARK_YARN_DIST_FILES=\"\" #Comma separated list of files to be distributed with the job.\n",
    "#SPARK_YARN_DIST_ARCHIVES=\"\" #Comma separated list of archives to be distributed with the job."
   ]
  },
  {
   "cell_type": "code",
   "execution_count": 9,
   "metadata": {
    "collapsed": true
   },
   "outputs": [],
   "source": [
    "sc = spark.sparkContext"
   ]
  },
  {
   "cell_type": "code",
   "execution_count": 10,
   "metadata": {},
   "outputs": [],
   "source": [
    "for x in sc._conf.getAll():\n",
    "    if \"/proxy/\" in x[1]:\n",
    "        print(x[1])"
   ]
  },
  {
   "cell_type": "code",
   "execution_count": 11,
   "metadata": {},
   "outputs": [
    {
     "data": {
      "text/html": [
       "\n",
       "            <div>\n",
       "                <p><b>SparkSession - in-memory</b></p>\n",
       "                \n",
       "        <div>\n",
       "            <p><b>SparkContext</b></p>\n",
       "\n",
       "            <p><a href=\"http://gw02.itversity.com:4045\">Spark UI</a></p>\n",
       "\n",
       "            <dl>\n",
       "              <dt>Version</dt>\n",
       "                <dd><code>v2.3.0.2.6.5.0-292</code></dd>\n",
       "              <dt>Master</dt>\n",
       "                <dd><code>local[*]</code></dd>\n",
       "              <dt>AppName</dt>\n",
       "                <dd><code>ch31_DeepLearningPopModels</code></dd>\n",
       "            </dl>\n",
       "        </div>\n",
       "        \n",
       "            </div>\n",
       "        "
      ],
      "text/plain": [
       "<pyspark.sql.session.SparkSession at 0x6d6f24041550>"
      ]
     },
     "execution_count": 11,
     "metadata": {},
     "output_type": "execute_result"
    }
   ],
   "source": [
    "spark"
   ]
  },
  {
   "cell_type": "code",
   "execution_count": 12,
   "metadata": {},
   "outputs": [
    {
     "name": "stderr",
     "output_type": "stream",
     "text": [
      "/home/kranthidr/.local/lib/python2.7/site-packages/pandas/core/nanops.py:39: UserWarning: The installed version of bottleneck 0.7.0 is not supported in pandas and will be not be used\n",
      "The minimum supported version is 1.0.0\n",
      "\n",
      "  ver=ver, min_ver=_MIN_BOTTLENECK_VERSION), UserWarning)\n",
      "Using TensorFlow backend.\n"
     ]
    }
   ],
   "source": [
    "from sparkdl.image import imageIO\n",
    "from sparkdl import DeepImagePredictor\n",
    "\n",
    "from pyspark.ml.image import ImageSchema"
   ]
  },
  {
   "cell_type": "code",
   "execution_count": 13,
   "metadata": {
    "collapsed": true
   },
   "outputs": [],
   "source": [
    "from pyspark.sql.functions import lit\n",
    "from pyspark.sql.functions import expr\n",
    "from pyspark.sql.types import DoubleType"
   ]
  },
  {
   "cell_type": "code",
   "execution_count": 14,
   "metadata": {},
   "outputs": [
    {
     "data": {
      "text/plain": [
       "30"
      ]
     },
     "execution_count": 14,
     "metadata": {},
     "output_type": "execute_result"
    }
   ],
   "source": [
    "tulips_df = ImageSchema.readImages(img_dir + \"/tulips\").withColumn(\"label\", lit(1))\n",
    "tulips_df.count()\n",
    "\n",
    "# Signature: ImageSchema.readImages(path, recursive=False, \n",
    "#                                   numPartitions=-1, dropImageFailures=False, \n",
    "#                                   sampleRatio=1.0, seed=0)\n",
    "# Docstring:\n",
    "# Reads the directory of images from the local or remote source.\n",
    "\n",
    "# .. note:: If multiple jobs are run in parallel with different sampleRatio or recursive flag,\n",
    "#     there may be a race condition where one job overwrites the hadoop configs of another.\n",
    "\n",
    "# .. note:: If sample ratio is less than 1, sampling uses a PathFilter that is efficient but\n",
    "#     potentially non-deterministic.\n",
    "\n",
    "# :param str path: Path to the image directory.\n",
    "# :param bool recursive: Recursive search flag.\n",
    "# :param int numPartitions: Number of DataFrame partitions.\n",
    "# :param bool dropImageFailures: Drop the files that are not valid images.\n",
    "# :param float sampleRatio: Fraction of the images loaded.\n",
    "# :param int seed: Random number seed.\n",
    "# :return: a :class:`DataFrame` with a single column of \"images\",\n",
    "#        see ImageSchema for details."
   ]
  },
  {
   "cell_type": "code",
   "execution_count": 15,
   "metadata": {},
   "outputs": [
    {
     "data": {
      "text/plain": [
       "30"
      ]
     },
     "execution_count": 15,
     "metadata": {},
     "output_type": "execute_result"
    }
   ],
   "source": [
    "# In[16]:\n",
    "daisy_df = imageIO.readImagesWithCustomFn(img_dir + \"/daisy\", decode_f=imageIO.PIL_decode).withColumn(\"label\", lit(0))\n",
    "daisy_df.count()\n",
    "\n",
    "# Signature: imageIO.readImagesWithCustomFn(path, decode_f, numPartition=None)\n",
    "# Docstring:\n",
    "# Read a directory of images (or a single image) into a DataFrame using a custom library to\n",
    "# decode the images.\n",
    "\n",
    "# :param path: str, file path.\n",
    "# :param decode_f: function to decode the raw bytes into an array compatible with one of the\n",
    "#     supported OpenCv modes. see @imageIO.PIL_decode for an example."
   ]
  },
  {
   "cell_type": "code",
   "execution_count": 16,
   "metadata": {
    "collapsed": true
   },
   "outputs": [],
   "source": [
    "# In[ ]:\n",
    "tulips_train, tulips_test = tulips_df.randomSplit([0.6, 0.4])\n",
    "daisy_train, daisy_test = daisy_df.randomSplit([0.6, 0.4])"
   ]
  },
  {
   "cell_type": "code",
   "execution_count": 17,
   "metadata": {
    "collapsed": true
   },
   "outputs": [],
   "source": [
    "# In[ ]:\n",
    "train_df = tulips_train.unionAll(daisy_train).cache()\n",
    "test_df = tulips_test.unionAll(daisy_test).cache()"
   ]
  },
  {
   "cell_type": "code",
   "execution_count": 18,
   "metadata": {},
   "outputs": [
    {
     "name": "stdout",
     "output_type": "stream",
     "text": [
      "root\n",
      " |-- image: struct (nullable = true)\n",
      " |    |-- origin: string (nullable = true)\n",
      " |    |-- height: integer (nullable = false)\n",
      " |    |-- width: integer (nullable = false)\n",
      " |    |-- nChannels: integer (nullable = false)\n",
      " |    |-- mode: integer (nullable = false)\n",
      " |    |-- data: binary (nullable = false)\n",
      " |-- label: integer (nullable = false)\n",
      "\n"
     ]
    }
   ],
   "source": [
    "train_df.printSchema()"
   ]
  },
  {
   "cell_type": "code",
   "execution_count": 19,
   "metadata": {},
   "outputs": [
    {
     "name": "stdout",
     "output_type": "stream",
     "text": [
      "+--------------------+-----+\n",
      "|               image|label|\n",
      "+--------------------+-----+\n",
      "|[hdfs://nn01.itve...|    1|\n",
      "|[hdfs://nn01.itve...|    1|\n",
      "|[hdfs://nn01.itve...|    1|\n",
      "|[hdfs://nn01.itve...|    1|\n",
      "|[hdfs://nn01.itve...|    1|\n",
      "|[hdfs://nn01.itve...|    1|\n",
      "|[hdfs://nn01.itve...|    1|\n",
      "|[hdfs://nn01.itve...|    1|\n",
      "|[hdfs://nn01.itve...|    1|\n",
      "|[hdfs://nn01.itve...|    1|\n",
      "+--------------------+-----+\n",
      "only showing top 10 rows\n",
      "\n"
     ]
    }
   ],
   "source": [
    "train_df.show(10)"
   ]
  },
  {
   "cell_type": "code",
   "execution_count": 20,
   "metadata": {},
   "outputs": [
    {
     "name": "stdout",
     "output_type": "stream",
     "text": [
      "+--------------------+-----+\n",
      "|               image|label|\n",
      "+--------------------+-----+\n",
      "|[hdfs://nn01.itve...|    1|\n",
      "|[hdfs://nn01.itve...|    1|\n",
      "|[hdfs://nn01.itve...|    1|\n",
      "|[hdfs://nn01.itve...|    1|\n",
      "|[hdfs://nn01.itve...|    1|\n",
      "|[hdfs://nn01.itve...|    1|\n",
      "|[hdfs://nn01.itve...|    1|\n",
      "|[hdfs://nn01.itve...|    1|\n",
      "|[hdfs://nn01.itve...|    1|\n",
      "|[hdfs://nn01.itve...|    1|\n",
      "+--------------------+-----+\n",
      "only showing top 10 rows\n",
      "\n"
     ]
    }
   ],
   "source": [
    "test_df.show(10)"
   ]
  },
  {
   "cell_type": "code",
   "execution_count": 21,
   "metadata": {
    "collapsed": true
   },
   "outputs": [],
   "source": [
    "image_df = train_df.unionAll(test_df)"
   ]
  },
  {
   "cell_type": "code",
   "execution_count": 22,
   "metadata": {},
   "outputs": [
    {
     "name": "stdout",
     "output_type": "stream",
     "text": [
      "+--------------------+-----+\n",
      "|               image|label|\n",
      "+--------------------+-----+\n",
      "|[hdfs://nn01.itve...|    1|\n",
      "|[hdfs://nn01.itve...|    1|\n",
      "|[hdfs://nn01.itve...|    1|\n",
      "|[hdfs://nn01.itve...|    1|\n",
      "|[hdfs://nn01.itve...|    1|\n",
      "|[hdfs://nn01.itve...|    1|\n",
      "|[hdfs://nn01.itve...|    1|\n",
      "|[hdfs://nn01.itve...|    1|\n",
      "|[hdfs://nn01.itve...|    1|\n",
      "|[hdfs://nn01.itve...|    1|\n",
      "+--------------------+-----+\n",
      "only showing top 10 rows\n",
      "\n"
     ]
    }
   ],
   "source": [
    "image_df.show(10)"
   ]
  },
  {
   "cell_type": "code",
   "execution_count": 23,
   "metadata": {
    "collapsed": true
   },
   "outputs": [],
   "source": [
    "import keras.applications\n",
    "from keras.applications.inception_v3 import InceptionV3"
   ]
  },
  {
   "cell_type": "code",
   "execution_count": 24,
   "metadata": {
    "collapsed": true
   },
   "outputs": [],
   "source": [
    "predictor = DeepImagePredictor(\n",
    "  inputCol=\"image\",\n",
    "  outputCol=\"predicted_labels\",\n",
    "  modelName=\"InceptionV3\",\n",
    "  decodePredictions=True,\n",
    "  topK=10)\n",
    "\n",
    "# Init signature: DeepImagePredictor(inputCol=None, outputCol=None, \n",
    "#                                    modelName=None, decodePredictions=False, topK=5)\n",
    "# Docstring:     \n",
    "# Applies the model specified by its popular name to the image column in DataFrame.\n",
    "# The input image column should be 3-channel SpImage.\n",
    "# The output is a MLlib Vector."
   ]
  },
  {
   "cell_type": "code",
   "execution_count": 25,
   "metadata": {},
   "outputs": [
    {
     "name": "stdout",
     "output_type": "stream",
     "text": [
      "INFO:tensorflow:Froze 378 variables.\n",
      "Converted 378 variables to const ops.\n",
      "INFO:tensorflow:Froze 0 variables.\n",
      "Converted 0 variables to const ops.\n"
     ]
    }
   ],
   "source": [
    "predictions_base_model_df = predictor.transform(test_df).cache()"
   ]
  },
  {
   "cell_type": "code",
   "execution_count": 26,
   "metadata": {
    "collapsed": true
   },
   "outputs": [],
   "source": [
    "#%env KERAS_BACKEND=tensorflow"
   ]
  },
  {
   "cell_type": "code",
   "execution_count": 27,
   "metadata": {},
   "outputs": [
    {
     "name": "stdout",
     "output_type": "stream",
     "text": [
      "None\n"
     ]
    }
   ],
   "source": [
    "import os\n",
    "print(os.getenv(\"KERAS_BACKEND\"))"
   ]
  },
  {
   "cell_type": "code",
   "execution_count": 28,
   "metadata": {},
   "outputs": [
    {
     "name": "stdout",
     "output_type": "stream",
     "text": [
      "+--------------------+-----+--------------------+\n",
      "|               image|label|    predicted_labels|\n",
      "+--------------------+-----+--------------------+\n",
      "|[hdfs://nn01.itve...|    1|[[n01855672, goos...|\n",
      "|[hdfs://nn01.itve...|    1|[[n03457902, gree...|\n",
      "|[hdfs://nn01.itve...|    1|[[n03930313, pick...|\n",
      "|[hdfs://nn01.itve...|    1|[[n03590841, jack...|\n",
      "|[hdfs://nn01.itve...|    1|[[n03944341, pinw...|\n",
      "+--------------------+-----+--------------------+\n",
      "only showing top 5 rows\n",
      "\n"
     ]
    }
   ],
   "source": [
    "predictions_base_model_df.show(5)"
   ]
  },
  {
   "cell_type": "code",
   "execution_count": 29,
   "metadata": {
    "collapsed": true
   },
   "outputs": [],
   "source": [
    "k = \"hdfs://nn01.itversity.com:8020/user/kranthidr/dataSets/spark-guide/deep-learning-images/tulips/3498663243_42b39b4185_m.jpg\""
   ]
  },
  {
   "cell_type": "code",
   "execution_count": 30,
   "metadata": {
    "collapsed": true
   },
   "outputs": [],
   "source": [
    "def getName(filname):\n",
    "    return filname.split(\"/\")[-1]"
   ]
  },
  {
   "cell_type": "code",
   "execution_count": 31,
   "metadata": {},
   "outputs": [
    {
     "data": {
      "text/plain": [
       "'3498663243_42b39b4185_m.jpg'"
      ]
     },
     "execution_count": 31,
     "metadata": {},
     "output_type": "execute_result"
    }
   ],
   "source": [
    "getName(k)"
   ]
  },
  {
   "cell_type": "code",
   "execution_count": 32,
   "metadata": {
    "collapsed": true
   },
   "outputs": [],
   "source": [
    "from pyspark.sql.functions import udf\n",
    "from pyspark.sql.types import StringType\n",
    "\n",
    "get_name = udf(getName, StringType())"
   ]
  },
  {
   "cell_type": "code",
   "execution_count": 33,
   "metadata": {},
   "outputs": [
    {
     "name": "stdout",
     "output_type": "stream",
     "text": [
      "+-----+---------------------------+--------------------------------------------+\n",
      "|label|getName(image.origin)      |col                                         |\n",
      "+-----+---------------------------+--------------------------------------------+\n",
      "|1    |3501996215_1c6d1a3386_n.jpg|[n01855672, goose, 0.20516284]              |\n",
      "|1    |3501996215_1c6d1a3386_n.jpg|[n02007558, flamingo, 0.15303424]           |\n",
      "|1    |3501996215_1c6d1a3386_n.jpg|[n01860187, black_swan, 0.1488998]          |\n",
      "|1    |3501996215_1c6d1a3386_n.jpg|[n09332890, lakeside, 0.096883185]          |\n",
      "|1    |3501996215_1c6d1a3386_n.jpg|[n02009912, American_egret, 0.048992112]    |\n",
      "|1    |3501996215_1c6d1a3386_n.jpg|[n02051845, pelican, 0.015660044]           |\n",
      "|1    |3501996215_1c6d1a3386_n.jpg|[n02012849, crane, 0.008230081]             |\n",
      "|1    |3501996215_1c6d1a3386_n.jpg|[n03457902, greenhouse, 0.008111391]        |\n",
      "|1    |3501996215_1c6d1a3386_n.jpg|[n02018207, American_coot, 0.006786133]     |\n",
      "|1    |3501996215_1c6d1a3386_n.jpg|[n02009229, little_blue_heron, 0.0043941657]|\n",
      "|1    |3502085373_edc2c36992_n.jpg|[n03457902, greenhouse, 0.7325578]          |\n",
      "|1    |3502085373_edc2c36992_n.jpg|[n07714571, head_cabbage, 0.039336536]      |\n",
      "|1    |3502085373_edc2c36992_n.jpg|[n02797295, barrow, 0.020232538]            |\n",
      "|1    |3502085373_edc2c36992_n.jpg|[n03930313, picket_fence, 0.010313178]      |\n",
      "|1    |3502085373_edc2c36992_n.jpg|[n12768682, buckeye, 0.009360098]           |\n",
      "|1    |3502085373_edc2c36992_n.jpg|[n02088364, beagle, 0.008619617]            |\n",
      "|1    |3502085373_edc2c36992_n.jpg|[n03991062, pot, 0.008315149]               |\n",
      "|1    |3502085373_edc2c36992_n.jpg|[n03733281, maze, 0.0062566907]             |\n",
      "|1    |3502085373_edc2c36992_n.jpg|[n12620546, hip, 0.006049974]               |\n",
      "|1    |3502085373_edc2c36992_n.jpg|[n11879895, rapeseed, 0.0056797154]         |\n",
      "|1    |3502251824_3be758edc6_m.jpg|[n03930313, picket_fence, 0.27875352]       |\n",
      "|1    |3502251824_3be758edc6_m.jpg|[n11939491, daisy, 0.13598019]              |\n",
      "|1    |3502251824_3be758edc6_m.jpg|[n04522168, vase, 0.11196882]               |\n",
      "|1    |3502251824_3be758edc6_m.jpg|[n03991062, pot, 0.08213421]                |\n",
      "|1    |3502251824_3be758edc6_m.jpg|[n03457902, greenhouse, 0.03800124]         |\n",
      "|1    |3502251824_3be758edc6_m.jpg|[n02281406, sulphur_butterfly, 0.018783439] |\n",
      "|1    |3502251824_3be758edc6_m.jpg|[n11879895, rapeseed, 0.01113238]           |\n",
      "|1    |3502251824_3be758edc6_m.jpg|[n04604644, worm_fence, 0.009705197]        |\n",
      "|1    |3502251824_3be758edc6_m.jpg|[n01833805, hummingbird, 0.009597317]       |\n",
      "|1    |3502251824_3be758edc6_m.jpg|[n02206856, bee, 0.008930466]               |\n",
      "+-----+---------------------------+--------------------------------------------+\n",
      "only showing top 30 rows\n",
      "\n"
     ]
    }
   ],
   "source": [
    "from pyspark.sql.functions import explode\n",
    "predictions_base_model_df.select(\"label\", get_name(\"image.origin\"),explode(\"predicted_labels\")).show(30,False)"
   ]
  },
  {
   "cell_type": "code",
   "execution_count": null,
   "metadata": {
    "collapsed": true
   },
   "outputs": [],
   "source": []
  }
 ],
 "metadata": {
  "kernelspec": {
   "display_name": "pyspark2.7_home",
   "language": "python",
   "name": "pyspark2.7_home"
  },
  "language_info": {
   "codemirror_mode": {
    "name": "ipython",
    "version": 2
   },
   "file_extension": ".py",
   "mimetype": "text/x-python",
   "name": "python",
   "nbconvert_exporter": "python",
   "pygments_lexer": "ipython2",
   "version": "2.7.5"
  }
 },
 "nbformat": 4,
 "nbformat_minor": 2
}
