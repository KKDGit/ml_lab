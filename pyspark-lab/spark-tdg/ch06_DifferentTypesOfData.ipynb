{
 "cells": [
  {
   "cell_type": "code",
   "execution_count": 1,
   "metadata": {},
   "outputs": [
    {
     "data": {
      "text/plain": [
       "'/usr/hdp/current/spark2-client'"
      ]
     },
     "execution_count": 1,
     "metadata": {},
     "output_type": "execute_result"
    }
   ],
   "source": [
    "import findspark\n",
    "findspark.init('/usr/hdp/current/spark2-client')\n",
    "findspark.find()"
   ]
  },
  {
   "cell_type": "code",
   "execution_count": 2,
   "metadata": {
    "collapsed": true
   },
   "outputs": [],
   "source": [
    "import pyspark"
   ]
  },
  {
   "cell_type": "code",
   "execution_count": 3,
   "metadata": {
    "collapsed": true
   },
   "outputs": [],
   "source": [
    "from pyspark.sql import SparkSession\n",
    "spark = SparkSession.builder.master(\"yarn\").appName(\"ch06DifferentTypesOfData\").getOrCreate()"
   ]
  },
  {
   "cell_type": "code",
   "execution_count": 4,
   "metadata": {
    "collapsed": true
   },
   "outputs": [],
   "source": [
    "sc = spark.sparkContext"
   ]
  },
  {
   "cell_type": "code",
   "execution_count": 5,
   "metadata": {},
   "outputs": [
    {
     "data": {
      "text/html": [
       "\n",
       "            <div>\n",
       "                <p><b>SparkSession - in-memory</b></p>\n",
       "                \n",
       "        <div>\n",
       "            <p><b>SparkContext</b></p>\n",
       "\n",
       "            <p><a href=\"http://gw02.itversity.com:4041\">Spark UI</a></p>\n",
       "\n",
       "            <dl>\n",
       "              <dt>Version</dt>\n",
       "                <dd><code>v2.3.0.2.6.5.0-292</code></dd>\n",
       "              <dt>Master</dt>\n",
       "                <dd><code>yarn</code></dd>\n",
       "              <dt>AppName</dt>\n",
       "                <dd><code>ch06DifferentTypesOfData</code></dd>\n",
       "            </dl>\n",
       "        </div>\n",
       "        \n",
       "            </div>\n",
       "        "
      ],
      "text/plain": [
       "<pyspark.sql.session.SparkSession at 0x6c74dc099310>"
      ]
     },
     "execution_count": 5,
     "metadata": {},
     "output_type": "execute_result"
    }
   ],
   "source": [
    "spark"
   ]
  },
  {
   "cell_type": "code",
   "execution_count": 6,
   "metadata": {},
   "outputs": [
    {
     "name": "stdout",
     "output_type": "stream",
     "text": [
      "http://rm01.itversity.com:19288/proxy/application_1533622723243_14363\n"
     ]
    }
   ],
   "source": [
    "for x in sc._conf.getAll():\n",
    "    if '/proxy/' in x[1]:\n",
    "        print(x[1])"
   ]
  },
  {
   "cell_type": "code",
   "execution_count": 7,
   "metadata": {
    "collapsed": true
   },
   "outputs": [],
   "source": [
    "df = spark.read.format(\"csv\")\\\n",
    "  .option(\"header\", \"true\")\\\n",
    "  .option(\"inferSchema\", \"true\")\\\n",
    "  .load(\"/user/kranthidr/dataSets/spark-guide/retail-data/by-day/2010-12-01.csv\")"
   ]
  },
  {
   "cell_type": "code",
   "execution_count": 8,
   "metadata": {},
   "outputs": [
    {
     "name": "stdout",
     "output_type": "stream",
     "text": [
      "root\n",
      " |-- InvoiceNo: string (nullable = true)\n",
      " |-- StockCode: string (nullable = true)\n",
      " |-- Description: string (nullable = true)\n",
      " |-- Quantity: integer (nullable = true)\n",
      " |-- InvoiceDate: timestamp (nullable = true)\n",
      " |-- UnitPrice: double (nullable = true)\n",
      " |-- CustomerID: double (nullable = true)\n",
      " |-- Country: string (nullable = true)\n",
      "\n"
     ]
    }
   ],
   "source": [
    "df.printSchema()"
   ]
  },
  {
   "cell_type": "code",
   "execution_count": 9,
   "metadata": {},
   "outputs": [
    {
     "name": "stdout",
     "output_type": "stream",
     "text": [
      "+---------+---------+-----------------------------------+--------+-------------------+---------+----------+--------------+\n",
      "|InvoiceNo|StockCode|Description                        |Quantity|InvoiceDate        |UnitPrice|CustomerID|Country       |\n",
      "+---------+---------+-----------------------------------+--------+-------------------+---------+----------+--------------+\n",
      "|536365   |85123A   |WHITE HANGING HEART T-LIGHT HOLDER |6       |2010-12-01 08:26:00|2.55     |17850.0   |United Kingdom|\n",
      "|536365   |71053    |WHITE METAL LANTERN                |6       |2010-12-01 08:26:00|3.39     |17850.0   |United Kingdom|\n",
      "|536365   |84406B   |CREAM CUPID HEARTS COAT HANGER     |8       |2010-12-01 08:26:00|2.75     |17850.0   |United Kingdom|\n",
      "|536365   |84029G   |KNITTED UNION FLAG HOT WATER BOTTLE|6       |2010-12-01 08:26:00|3.39     |17850.0   |United Kingdom|\n",
      "|536365   |84029E   |RED WOOLLY HOTTIE WHITE HEART.     |6       |2010-12-01 08:26:00|3.39     |17850.0   |United Kingdom|\n",
      "+---------+---------+-----------------------------------+--------+-------------------+---------+----------+--------------+\n",
      "only showing top 5 rows\n",
      "\n"
     ]
    }
   ],
   "source": [
    "df.show(5, False)"
   ]
  },
  {
   "cell_type": "code",
   "execution_count": 10,
   "metadata": {
    "collapsed": true
   },
   "outputs": [],
   "source": [
    "df.createOrReplaceTempView(\"dfTable\")"
   ]
  },
  {
   "cell_type": "code",
   "execution_count": 11,
   "metadata": {},
   "outputs": [
    {
     "name": "stdout",
     "output_type": "stream",
     "text": [
      "+---+----+---+\n",
      "|  5|five|5.0|\n",
      "+---+----+---+\n",
      "|  5|five|5.0|\n",
      "|  5|five|5.0|\n",
      "|  5|five|5.0|\n",
      "|  5|five|5.0|\n",
      "|  5|five|5.0|\n",
      "+---+----+---+\n",
      "only showing top 5 rows\n",
      "\n"
     ]
    }
   ],
   "source": [
    "# COMMAND ----------\n",
    "\n",
    "from pyspark.sql.functions import lit\n",
    "lit_df = df.select(lit(5), lit(\"five\"), lit(5.0))\n",
    "lit_df.show(5)"
   ]
  },
  {
   "cell_type": "code",
   "execution_count": 12,
   "metadata": {},
   "outputs": [
    {
     "data": {
      "text/plain": [
       "StructType(List(StructField(5,IntegerType,false),StructField(five,StringType,false),StructField(5.0,DoubleType,false)))"
      ]
     },
     "execution_count": 12,
     "metadata": {},
     "output_type": "execute_result"
    }
   ],
   "source": [
    "lit_df.schema"
   ]
  },
  {
   "cell_type": "code",
   "execution_count": 13,
   "metadata": {},
   "outputs": [
    {
     "name": "stdout",
     "output_type": "stream",
     "text": [
      "+---------+-----------------------------+\n",
      "|InvoiceNo|Description                  |\n",
      "+---------+-----------------------------+\n",
      "|536366   |HAND WARMER UNION JACK       |\n",
      "|536366   |HAND WARMER RED POLKA DOT    |\n",
      "|536367   |ASSORTED COLOUR BIRD ORNAMENT|\n",
      "|536367   |POPPY'S PLAYHOUSE BEDROOM    |\n",
      "|536367   |POPPY'S PLAYHOUSE KITCHEN    |\n",
      "+---------+-----------------------------+\n",
      "only showing top 5 rows\n",
      "\n"
     ]
    }
   ],
   "source": [
    "# COMMAND ----------\n",
    "\n",
    "from pyspark.sql.functions import col\n",
    "\n",
    "df.where(col(\"InvoiceNo\") != 536365)\\\n",
    "  .select(\"InvoiceNo\", \"Description\")\\\n",
    "  .show(5, False)"
   ]
  },
  {
   "cell_type": "code",
   "execution_count": 14,
   "metadata": {},
   "outputs": [
    {
     "name": "stdout",
     "output_type": "stream",
     "text": [
      "+---------+-----------------------------+\n",
      "|InvoiceNo|Description                  |\n",
      "+---------+-----------------------------+\n",
      "|536366   |HAND WARMER UNION JACK       |\n",
      "|536366   |HAND WARMER RED POLKA DOT    |\n",
      "|536367   |ASSORTED COLOUR BIRD ORNAMENT|\n",
      "|536367   |POPPY'S PLAYHOUSE BEDROOM    |\n",
      "|536367   |POPPY'S PLAYHOUSE KITCHEN    |\n",
      "+---------+-----------------------------+\n",
      "only showing top 5 rows\n",
      "\n"
     ]
    }
   ],
   "source": [
    "df.where(\"InvoiceNo != 536365\")\\\n",
    "  .select(\"InvoiceNo\", \"Description\")\\\n",
    "  .show(5, False)"
   ]
  },
  {
   "cell_type": "code",
   "execution_count": 15,
   "metadata": {},
   "outputs": [
    {
     "name": "stdout",
     "output_type": "stream",
     "text": [
      "+---------+-----------------------------+\n",
      "|InvoiceNo|Description                  |\n",
      "+---------+-----------------------------+\n",
      "|536366   |HAND WARMER UNION JACK       |\n",
      "|536366   |HAND WARMER RED POLKA DOT    |\n",
      "|536367   |ASSORTED COLOUR BIRD ORNAMENT|\n",
      "|536367   |POPPY'S PLAYHOUSE BEDROOM    |\n",
      "|536367   |POPPY'S PLAYHOUSE KITCHEN    |\n",
      "+---------+-----------------------------+\n",
      "only showing top 5 rows\n",
      "\n"
     ]
    }
   ],
   "source": [
    "df.where(\"InvoiceNo <> 536365\")\\\n",
    "  .select(\"InvoiceNo\", \"Description\")\\\n",
    "  .show(5, False)"
   ]
  },
  {
   "cell_type": "code",
   "execution_count": 16,
   "metadata": {},
   "outputs": [
    {
     "name": "stdout",
     "output_type": "stream",
     "text": [
      "+---------+-----------------------------------+\n",
      "|InvoiceNo|Description                        |\n",
      "+---------+-----------------------------------+\n",
      "|536365   |WHITE HANGING HEART T-LIGHT HOLDER |\n",
      "|536365   |WHITE METAL LANTERN                |\n",
      "|536365   |CREAM CUPID HEARTS COAT HANGER     |\n",
      "|536365   |KNITTED UNION FLAG HOT WATER BOTTLE|\n",
      "|536365   |RED WOOLLY HOTTIE WHITE HEART.     |\n",
      "+---------+-----------------------------------+\n",
      "only showing top 5 rows\n",
      "\n"
     ]
    }
   ],
   "source": [
    "#Both = and == will work......... for col == should be used\n",
    "#even Invoice COlumn is String Type ...comparision with integer will work\n",
    "df.where(col(\"InvoiceNo\") == 536365)\\\n",
    "  .select(\"InvoiceNo\", \"Description\")\\\n",
    "  .show(5, False)"
   ]
  },
  {
   "cell_type": "code",
   "execution_count": 17,
   "metadata": {},
   "outputs": [
    {
     "name": "stdout",
     "output_type": "stream",
     "text": [
      "+---------+-----------------------------------+\n",
      "|InvoiceNo|Description                        |\n",
      "+---------+-----------------------------------+\n",
      "|536365   |WHITE HANGING HEART T-LIGHT HOLDER |\n",
      "|536365   |WHITE METAL LANTERN                |\n",
      "|536365   |CREAM CUPID HEARTS COAT HANGER     |\n",
      "|536365   |KNITTED UNION FLAG HOT WATER BOTTLE|\n",
      "|536365   |RED WOOLLY HOTTIE WHITE HEART.     |\n",
      "+---------+-----------------------------------+\n",
      "only showing top 5 rows\n",
      "\n"
     ]
    }
   ],
   "source": [
    "#Both = and == will work......... for col == should be used\n",
    "df.where(\"InvoiceNo == 536365\")\\\n",
    "  .select(\"InvoiceNo\", \"Description\")\\\n",
    "  .show(5, False)"
   ]
  },
  {
   "cell_type": "code",
   "execution_count": 18,
   "metadata": {},
   "outputs": [
    {
     "name": "stdout",
     "output_type": "stream",
     "text": [
      "+---------+---------+--------------+--------+-------------------+---------+----------+--------------+\n",
      "|InvoiceNo|StockCode|Description   |Quantity|InvoiceDate        |UnitPrice|CustomerID|Country       |\n",
      "+---------+---------+--------------+--------+-------------------+---------+----------+--------------+\n",
      "|536544   |DOT      |DOTCOM POSTAGE|1       |2010-12-01 14:32:00|569.77   |null      |United Kingdom|\n",
      "|536592   |DOT      |DOTCOM POSTAGE|1       |2010-12-01 17:06:00|607.49   |null      |United Kingdom|\n",
      "+---------+---------+--------------+--------+-------------------+---------+----------+--------------+\n",
      "\n"
     ]
    }
   ],
   "source": [
    "# COMMAND ----------\n",
    "\n",
    "from pyspark.sql.functions import instr\n",
    "priceFilter = col(\"UnitPrice\") > 600\n",
    "descripFilter = instr(df.Description, \"POSTAGE\") >= 1\n",
    "\n",
    "df.where(df.StockCode.isin(\"DOT\")).where(priceFilter | descripFilter).show(5, False)"
   ]
  },
  {
   "cell_type": "code",
   "execution_count": 19,
   "metadata": {},
   "outputs": [
    {
     "name": "stdout",
     "output_type": "stream",
     "text": [
      "+---------+---------+---------------------------------+--------+-------------------+---------+----------+--------------+\n",
      "|InvoiceNo|StockCode|Description                      |Quantity|InvoiceDate        |UnitPrice|CustomerID|Country       |\n",
      "+---------+---------+---------------------------------+--------+-------------------+---------+----------+--------------+\n",
      "|536366   |22632    |HAND WARMER RED POLKA DOT        |6       |2010-12-01 08:28:00|1.85     |17850.0   |United Kingdom|\n",
      "|536372   |22632    |HAND WARMER RED POLKA DOT        |6       |2010-12-01 09:01:00|1.85     |17850.0   |United Kingdom|\n",
      "|536377   |22632    |HAND WARMER RED POLKA DOT        |6       |2010-12-01 09:34:00|1.85     |17850.0   |United Kingdom|\n",
      "|536378   |22386    |JUMBO BAG PINK POLKADOT          |10      |2010-12-01 09:37:00|1.95     |14688.0   |United Kingdom|\n",
      "|536378   |84997C   |BLUE 3 PIECE POLKADOT CUTLERY SET|6       |2010-12-01 09:37:00|3.75     |14688.0   |United Kingdom|\n",
      "+---------+---------+---------------------------------+--------+-------------------+---------+----------+--------------+\n",
      "only showing top 5 rows\n",
      "\n"
     ]
    }
   ],
   "source": [
    "df.where(df.Description.like(\"%DOT%\")).show(5, False)"
   ]
  },
  {
   "cell_type": "code",
   "execution_count": 20,
   "metadata": {},
   "outputs": [
    {
     "name": "stdout",
     "output_type": "stream",
     "text": [
      "+---------+---------+--------------+--------+-------------------+---------+----------+--------------+\n",
      "|InvoiceNo|StockCode|Description   |Quantity|InvoiceDate        |UnitPrice|CustomerID|Country       |\n",
      "+---------+---------+--------------+--------+-------------------+---------+----------+--------------+\n",
      "|536370   |POST     |POSTAGE       |3       |2010-12-01 08:45:00|18.0     |12583.0   |France        |\n",
      "|536403   |POST     |POSTAGE       |1       |2010-12-01 11:27:00|15.0     |12791.0   |Netherlands   |\n",
      "|536527   |POST     |POSTAGE       |1       |2010-12-01 13:04:00|18.0     |12662.0   |Germany       |\n",
      "|536544   |DOT      |DOTCOM POSTAGE|1       |2010-12-01 14:32:00|569.77   |null      |United Kingdom|\n",
      "|536592   |DOT      |DOTCOM POSTAGE|1       |2010-12-01 17:06:00|607.49   |null      |United Kingdom|\n",
      "+---------+---------+--------------+--------+-------------------+---------+----------+--------------+\n",
      "\n"
     ]
    }
   ],
   "source": [
    "df.where(descripFilter).show(5, False)"
   ]
  },
  {
   "cell_type": "code",
   "execution_count": 21,
   "metadata": {},
   "outputs": [
    {
     "name": "stdout",
     "output_type": "stream",
     "text": [
      "+---------+---------+-----------+--------+-------------------+---------+----------+-----------+\n",
      "|InvoiceNo|StockCode|Description|Quantity|InvoiceDate        |UnitPrice|CustomerID|Country    |\n",
      "+---------+---------+-----------+--------+-------------------+---------+----------+-----------+\n",
      "|536370   |POST     |POSTAGE    |3       |2010-12-01 08:45:00|18.0     |12583.0   |France     |\n",
      "|536403   |POST     |POSTAGE    |1       |2010-12-01 11:27:00|15.0     |12791.0   |Netherlands|\n",
      "|536527   |POST     |POSTAGE    |1       |2010-12-01 13:04:00|18.0     |12662.0   |Germany    |\n",
      "+---------+---------+-----------+--------+-------------------+---------+----------+-----------+\n",
      "\n"
     ]
    }
   ],
   "source": [
    "df.where(df.Description.isin(\"POSTAGE\")).show(5, False)"
   ]
  },
  {
   "cell_type": "code",
   "execution_count": 22,
   "metadata": {},
   "outputs": [
    {
     "name": "stdout",
     "output_type": "stream",
     "text": [
      "+---------+---------+--------------+--------+-------------------+---------+----------+--------------+\n",
      "|InvoiceNo|StockCode|Description   |Quantity|InvoiceDate        |UnitPrice|CustomerID|Country       |\n",
      "+---------+---------+--------------+--------+-------------------+---------+----------+--------------+\n",
      "|536370   |POST     |POSTAGE       |3       |2010-12-01 08:45:00|18.0     |12583.0   |France        |\n",
      "|536403   |POST     |POSTAGE       |1       |2010-12-01 11:27:00|15.0     |12791.0   |Netherlands   |\n",
      "|536527   |POST     |POSTAGE       |1       |2010-12-01 13:04:00|18.0     |12662.0   |Germany       |\n",
      "|536544   |DOT      |DOTCOM POSTAGE|1       |2010-12-01 14:32:00|569.77   |null      |United Kingdom|\n",
      "|536592   |DOT      |DOTCOM POSTAGE|1       |2010-12-01 17:06:00|607.49   |null      |United Kingdom|\n",
      "+---------+---------+--------------+--------+-------------------+---------+----------+--------------+\n",
      "\n"
     ]
    }
   ],
   "source": [
    "df.where(priceFilter | descripFilter).show(5, False)"
   ]
  },
  {
   "cell_type": "code",
   "execution_count": 23,
   "metadata": {},
   "outputs": [
    {
     "name": "stdout",
     "output_type": "stream",
     "text": [
      "+---------+---------+--------------+--------+-------------------+---------+----------+--------------+\n",
      "|InvoiceNo|StockCode|Description   |Quantity|InvoiceDate        |UnitPrice|CustomerID|Country       |\n",
      "+---------+---------+--------------+--------+-------------------+---------+----------+--------------+\n",
      "|536544   |DOT      |DOTCOM POSTAGE|1       |2010-12-01 14:32:00|569.77   |null      |United Kingdom|\n",
      "|536592   |DOT      |DOTCOM POSTAGE|1       |2010-12-01 17:06:00|607.49   |null      |United Kingdom|\n",
      "+---------+---------+--------------+--------+-------------------+---------+----------+--------------+\n",
      "\n"
     ]
    }
   ],
   "source": [
    "df.where(df.StockCode.isin(\"DOT\")).show(5, False)"
   ]
  },
  {
   "cell_type": "code",
   "execution_count": 24,
   "metadata": {},
   "outputs": [
    {
     "name": "stdout",
     "output_type": "stream",
     "text": [
      "+---------+--------------+---------+-----------+\n",
      "|StockCode|Description   |unitPrice|isExpensive|\n",
      "+---------+--------------+---------+-----------+\n",
      "|DOT      |DOTCOM POSTAGE|569.77   |true       |\n",
      "|DOT      |DOTCOM POSTAGE|607.49   |true       |\n",
      "+---------+--------------+---------+-----------+\n",
      "\n"
     ]
    }
   ],
   "source": [
    "# COMMAND ----------\n",
    "\n",
    "from pyspark.sql.functions import instr\n",
    "DOTCodeFilter = col(\"StockCode\") == \"DOT\"\n",
    "priceFilter = col(\"UnitPrice\") > 600\n",
    "descripFilter = instr(col(\"Description\"), \"POSTAGE\") >= 1\n",
    "df.withColumn(\"isExpensive\", DOTCodeFilter & (priceFilter | descripFilter))\\\n",
    "  .where(\"isExpensive\")\\\n",
    "  .select(\"StockCode\",\"Description\",\"unitPrice\", \"isExpensive\").show(5, False)"
   ]
  },
  {
   "cell_type": "code",
   "execution_count": 25,
   "metadata": {},
   "outputs": [
    {
     "name": "stdout",
     "output_type": "stream",
     "text": [
      "+---------+-----------------------------------+---------+-----------+\n",
      "|StockCode|Description                        |unitPrice|isExpensive|\n",
      "+---------+-----------------------------------+---------+-----------+\n",
      "|85123A   |WHITE HANGING HEART T-LIGHT HOLDER |2.55     |false      |\n",
      "|71053    |WHITE METAL LANTERN                |3.39     |false      |\n",
      "|84406B   |CREAM CUPID HEARTS COAT HANGER     |2.75     |false      |\n",
      "|84029G   |KNITTED UNION FLAG HOT WATER BOTTLE|3.39     |false      |\n",
      "|84029E   |RED WOOLLY HOTTIE WHITE HEART.     |3.39     |false      |\n",
      "+---------+-----------------------------------+---------+-----------+\n",
      "only showing top 5 rows\n",
      "\n"
     ]
    }
   ],
   "source": [
    "df.withColumn(\"isExpensive\", DOTCodeFilter & (priceFilter | descripFilter))\\\n",
    "  .select(\"StockCode\",\"Description\",\"unitPrice\", \"isExpensive\").show(5, False)"
   ]
  },
  {
   "cell_type": "code",
   "execution_count": 26,
   "metadata": {},
   "outputs": [
    {
     "name": "stdout",
     "output_type": "stream",
     "text": [
      "+---------+--------------+---------+-----------+\n",
      "|StockCode|Description   |unitPrice|isExpensive|\n",
      "+---------+--------------+---------+-----------+\n",
      "|DOT      |DOTCOM POSTAGE|569.77   |true       |\n",
      "|DOT      |DOTCOM POSTAGE|607.49   |true       |\n",
      "+---------+--------------+---------+-----------+\n",
      "\n"
     ]
    }
   ],
   "source": [
    "# COMMAND ----------\n",
    "\n",
    "from pyspark.sql.functions import expr\n",
    "df.withColumn(\"isExpensive\", expr(\"NOT UnitPrice <= 250\"))\\\n",
    "  .where(\"isExpensive\")\\\n",
    "  .select(\"StockCode\",\"Description\",\"unitPrice\", \"isExpensive\").show(5, False)"
   ]
  },
  {
   "cell_type": "code",
   "execution_count": 27,
   "metadata": {},
   "outputs": [
    {
     "name": "stdout",
     "output_type": "stream",
     "text": [
      "+---------+--------------+---------+-----------+\n",
      "|StockCode|Description   |unitPrice|isExpensive|\n",
      "+---------+--------------+---------+-----------+\n",
      "|DOT      |DOTCOM POSTAGE|569.77   |true       |\n",
      "|DOT      |DOTCOM POSTAGE|607.49   |true       |\n",
      "+---------+--------------+---------+-----------+\n",
      "\n"
     ]
    }
   ],
   "source": [
    "df.withColumn(\"isExpensive\", expr(\"UnitPrice > 250\"))\\\n",
    "  .where(\"isExpensive\")\\\n",
    "  .select(\"StockCode\",\"Description\",\"unitPrice\", \"isExpensive\").show(5, False)"
   ]
  },
  {
   "cell_type": "code",
   "execution_count": 28,
   "metadata": {},
   "outputs": [
    {
     "name": "stdout",
     "output_type": "stream",
     "text": [
      "+----------+------------------+\n",
      "|CustomerId|      realQuantity|\n",
      "+----------+------------------+\n",
      "|   17850.0|239.08999999999997|\n",
      "|   17850.0|          418.7156|\n",
      "+----------+------------------+\n",
      "only showing top 2 rows\n",
      "\n"
     ]
    }
   ],
   "source": [
    "# COMMAND ----------\n",
    "\n",
    "from pyspark.sql.functions import expr, pow\n",
    "\n",
    "fabricatedQuantity = pow(col(\"Quantity\") * col(\"UnitPrice\"), 2) + 5\n",
    "df.select(expr(\"CustomerId\"), fabricatedQuantity.alias(\"realQuantity\")).show(2)"
   ]
  },
  {
   "cell_type": "code",
   "execution_count": 29,
   "metadata": {},
   "outputs": [
    {
     "name": "stdout",
     "output_type": "stream",
     "text": [
      "+----------+------------------+\n",
      "|CustomerId|      realQuantity|\n",
      "+----------+------------------+\n",
      "|   17850.0|239.08999999999997|\n",
      "|   17850.0|          418.7156|\n",
      "+----------+------------------+\n",
      "only showing top 2 rows\n",
      "\n"
     ]
    }
   ],
   "source": [
    "# COMMAND ----------\n",
    "\n",
    "df.selectExpr(\n",
    "  \"CustomerId\",\n",
    "  \"(POWER((Quantity * UnitPrice), 2.0) + 5) as realQuantity\").show(2)"
   ]
  },
  {
   "cell_type": "code",
   "execution_count": 30,
   "metadata": {},
   "outputs": [
    {
     "name": "stdout",
     "output_type": "stream",
     "text": [
      "+-------------+--------------+\n",
      "|round(2.5, 0)|bround(2.5, 0)|\n",
      "+-------------+--------------+\n",
      "|          3.0|           2.0|\n",
      "|          3.0|           2.0|\n",
      "+-------------+--------------+\n",
      "only showing top 2 rows\n",
      "\n"
     ]
    }
   ],
   "source": [
    "# COMMAND ----------\n",
    "\n",
    "from pyspark.sql.functions import lit, round, bround\n",
    "\n",
    "df.select(round(lit(\"2.5\")), bround(lit(\"2.5\"))).show(2)"
   ]
  },
  {
   "cell_type": "code",
   "execution_count": 31,
   "metadata": {},
   "outputs": [
    {
     "data": {
      "text/plain": [
       "-0.04112314436835551"
      ]
     },
     "execution_count": 31,
     "metadata": {},
     "output_type": "execute_result"
    }
   ],
   "source": [
    "# COMMAND ----------\n",
    "\n",
    "from pyspark.sql.functions import corr\n",
    "df.stat.corr(\"Quantity\", \"UnitPrice\")"
   ]
  },
  {
   "cell_type": "code",
   "execution_count": 32,
   "metadata": {},
   "outputs": [
    {
     "name": "stdout",
     "output_type": "stream",
     "text": [
      "+-------------------------+\n",
      "|corr(Quantity, UnitPrice)|\n",
      "+-------------------------+\n",
      "|     -0.04112314436835551|\n",
      "+-------------------------+\n",
      "\n"
     ]
    }
   ],
   "source": [
    "df.select(corr(\"Quantity\", \"UnitPrice\")).show()"
   ]
  },
  {
   "cell_type": "code",
   "execution_count": 33,
   "metadata": {},
   "outputs": [
    {
     "name": "stdout",
     "output_type": "stream",
     "text": [
      "root\n",
      " |-- summary: string (nullable = true)\n",
      " |-- InvoiceNo: string (nullable = true)\n",
      " |-- StockCode: string (nullable = true)\n",
      " |-- Description: string (nullable = true)\n",
      " |-- Quantity: string (nullable = true)\n",
      " |-- UnitPrice: string (nullable = true)\n",
      " |-- CustomerID: string (nullable = true)\n",
      " |-- Country: string (nullable = true)\n",
      "\n"
     ]
    }
   ],
   "source": [
    "# COMMAND ----------\n",
    "\n",
    "df.describe().printSchema()"
   ]
  },
  {
   "cell_type": "code",
   "execution_count": 34,
   "metadata": {},
   "outputs": [
    {
     "data": {
      "text/plain": [
       "['summary',\n",
       " 'InvoiceNo',\n",
       " 'StockCode',\n",
       " 'Description',\n",
       " 'Quantity',\n",
       " 'UnitPrice',\n",
       " 'CustomerID',\n",
       " 'Country']"
      ]
     },
     "execution_count": 34,
     "metadata": {},
     "output_type": "execute_result"
    }
   ],
   "source": [
    "df.describe().columns"
   ]
  },
  {
   "cell_type": "code",
   "execution_count": 35,
   "metadata": {},
   "outputs": [
    {
     "name": "stdout",
     "output_type": "stream",
     "text": [
      "+-------+-----------------+------------------+--------------------+------------------+\n",
      "|summary|        InvoiceNo|         StockCode|         Description|          Quantity|\n",
      "+-------+-----------------+------------------+--------------------+------------------+\n",
      "|  count|             3108|              3108|                3098|              3108|\n",
      "|   mean| 536516.684944841|27834.304044117645|                null| 8.627413127413128|\n",
      "| stddev|72.89447869788873|17407.897548583845|                null|26.371821677029203|\n",
      "|    min|           536365|             10002| 4 PURPLE FLOCK D...|               -24|\n",
      "|    max|          C536548|              POST|ZINC WILLIE WINKI...|               600|\n",
      "+-------+-----------------+------------------+--------------------+------------------+\n",
      "\n"
     ]
    }
   ],
   "source": [
    "df.describe().select('summary',\n",
    " 'InvoiceNo',\n",
    " 'StockCode',\n",
    " 'Description',\n",
    " 'Quantity').show()"
   ]
  },
  {
   "cell_type": "code",
   "execution_count": 36,
   "metadata": {},
   "outputs": [
    {
     "name": "stdout",
     "output_type": "stream",
     "text": [
      "+-------+------------------+------------------+--------------+\n",
      "|summary|         UnitPrice|        CustomerID|       Country|\n",
      "+-------+------------------+------------------+--------------+\n",
      "|  count|              3108|              1968|          3108|\n",
      "|   mean| 4.151946589446603|15661.388719512195|          null|\n",
      "| stddev|15.638659854603892|1854.4496996893627|          null|\n",
      "|    min|               0.0|           12431.0|     Australia|\n",
      "|    max|            607.49|           18229.0|United Kingdom|\n",
      "+-------+------------------+------------------+--------------+\n",
      "\n"
     ]
    }
   ],
   "source": [
    "df.describe().select('summary',\n",
    " 'UnitPrice',\n",
    " 'CustomerID',\n",
    " 'Country').show()"
   ]
  },
  {
   "cell_type": "code",
   "execution_count": 37,
   "metadata": {
    "collapsed": true
   },
   "outputs": [],
   "source": [
    "# COMMAND ----------\n",
    "\n",
    "from pyspark.sql.functions import count, mean, stddev_pop, min, max"
   ]
  },
  {
   "cell_type": "code",
   "execution_count": 38,
   "metadata": {},
   "outputs": [
    {
     "data": {
      "text/plain": [
       "[2.51]"
      ]
     },
     "execution_count": 38,
     "metadata": {},
     "output_type": "execute_result"
    }
   ],
   "source": [
    "# COMMAND ----------\n",
    "\n",
    "colName = \"UnitPrice\"\n",
    "quantileProbs = [0.5]\n",
    "relError = 0.05\n",
    "df.stat.approxQuantile(\"UnitPrice\", quantileProbs, relError) # 2.51"
   ]
  },
  {
   "cell_type": "code",
   "execution_count": 39,
   "metadata": {},
   "outputs": [
    {
     "name": "stdout",
     "output_type": "stream",
     "text": [
      "root\n",
      " |-- StockCode_Quantity: string (nullable = true)\n",
      " |-- -1: long (nullable = true)\n",
      " |-- -10: long (nullable = true)\n",
      " |-- -12: long (nullable = true)\n",
      " |-- -2: long (nullable = true)\n",
      " |-- -24: long (nullable = true)\n",
      " |-- -3: long (nullable = true)\n",
      " |-- -4: long (nullable = true)\n",
      " |-- -5: long (nullable = true)\n",
      " |-- -6: long (nullable = true)\n",
      " |-- -7: long (nullable = true)\n",
      " |-- 1: long (nullable = true)\n",
      " |-- 10: long (nullable = true)\n",
      " |-- 100: long (nullable = true)\n",
      " |-- 11: long (nullable = true)\n",
      " |-- 12: long (nullable = true)\n",
      " |-- 120: long (nullable = true)\n",
      " |-- 128: long (nullable = true)\n",
      " |-- 13: long (nullable = true)\n",
      " |-- 14: long (nullable = true)\n",
      " |-- 144: long (nullable = true)\n",
      " |-- 15: long (nullable = true)\n",
      " |-- 16: long (nullable = true)\n",
      " |-- 17: long (nullable = true)\n",
      " |-- 18: long (nullable = true)\n",
      " |-- 19: long (nullable = true)\n",
      " |-- 192: long (nullable = true)\n",
      " |-- 2: long (nullable = true)\n",
      " |-- 20: long (nullable = true)\n",
      " |-- 200: long (nullable = true)\n",
      " |-- 21: long (nullable = true)\n",
      " |-- 216: long (nullable = true)\n",
      " |-- 22: long (nullable = true)\n",
      " |-- 23: long (nullable = true)\n",
      " |-- 24: long (nullable = true)\n",
      " |-- 25: long (nullable = true)\n",
      " |-- 252: long (nullable = true)\n",
      " |-- 27: long (nullable = true)\n",
      " |-- 28: long (nullable = true)\n",
      " |-- 288: long (nullable = true)\n",
      " |-- 3: long (nullable = true)\n",
      " |-- 30: long (nullable = true)\n",
      " |-- 32: long (nullable = true)\n",
      " |-- 33: long (nullable = true)\n",
      " |-- 34: long (nullable = true)\n",
      " |-- 36: long (nullable = true)\n",
      " |-- 384: long (nullable = true)\n",
      " |-- 4: long (nullable = true)\n",
      " |-- 40: long (nullable = true)\n",
      " |-- 432: long (nullable = true)\n",
      " |-- 47: long (nullable = true)\n",
      " |-- 48: long (nullable = true)\n",
      " |-- 480: long (nullable = true)\n",
      " |-- 5: long (nullable = true)\n",
      " |-- 50: long (nullable = true)\n",
      " |-- 56: long (nullable = true)\n",
      " |-- 6: long (nullable = true)\n",
      " |-- 60: long (nullable = true)\n",
      " |-- 600: long (nullable = true)\n",
      " |-- 64: long (nullable = true)\n",
      " |-- 7: long (nullable = true)\n",
      " |-- 70: long (nullable = true)\n",
      " |-- 72: long (nullable = true)\n",
      " |-- 8: long (nullable = true)\n",
      " |-- 80: long (nullable = true)\n",
      " |-- 9: long (nullable = true)\n",
      " |-- 96: long (nullable = true)\n",
      "\n"
     ]
    }
   ],
   "source": [
    "df.stat.crosstab(\"StockCode\", \"Quantity\").printSchema()"
   ]
  },
  {
   "cell_type": "code",
   "execution_count": 40,
   "metadata": {},
   "outputs": [
    {
     "data": {
      "text/plain": [
       "[Row(StockCode_Quantity=u'22578', -1=0, -10=0, -12=0, -2=0, -24=0, -3=0, -4=0, -5=0, -6=0, -7=0, 1=0, 10=0, 100=0, 11=0, 12=0, 120=0, 128=0, 13=0, 14=0, 144=0, 15=0, 16=0, 17=0, 18=0, 19=0, 192=0, 2=0, 20=0, 200=0, 21=0, 216=0, 22=0, 23=0, 24=1, 25=0, 252=0, 27=0, 28=0, 288=0, 3=0, 30=0, 32=0, 33=0, 34=0, 36=0, 384=0, 4=0, 40=0, 432=0, 47=0, 48=0, 480=0, 5=0, 50=0, 56=0, 6=0, 60=0, 600=0, 64=0, 7=0, 70=0, 72=0, 8=0, 80=0, 9=0, 96=0),\n",
       " Row(StockCode_Quantity=u'21327', -1=0, -10=0, -12=0, -2=0, -24=0, -3=0, -4=0, -5=0, -6=0, -7=0, 1=2, 10=0, 100=0, 11=0, 12=0, 120=0, 128=0, 13=0, 14=0, 144=0, 15=0, 16=0, 17=0, 18=0, 19=0, 192=0, 2=0, 20=0, 200=0, 21=0, 216=0, 22=0, 23=0, 24=0, 25=0, 252=0, 27=0, 28=0, 288=0, 3=0, 30=0, 32=0, 33=0, 34=0, 36=0, 384=0, 4=0, 40=0, 432=0, 47=0, 48=0, 480=0, 5=0, 50=0, 56=0, 6=0, 60=0, 600=0, 64=0, 7=0, 70=0, 72=0, 8=0, 80=0, 9=0, 96=0),\n",
       " Row(StockCode_Quantity=u'22064', -1=0, -10=0, -12=0, -2=0, -24=0, -3=0, -4=0, -5=0, -6=0, -7=0, 1=1, 10=0, 100=0, 11=0, 12=1, 120=0, 128=0, 13=0, 14=0, 144=0, 15=0, 16=0, 17=0, 18=0, 19=0, 192=0, 2=1, 20=0, 200=0, 21=0, 216=0, 22=0, 23=0, 24=0, 25=0, 252=0, 27=0, 28=0, 288=0, 3=0, 30=0, 32=0, 33=0, 34=0, 36=0, 384=0, 4=0, 40=0, 432=0, 47=0, 48=0, 480=0, 5=0, 50=0, 56=0, 6=0, 60=0, 600=0, 64=0, 7=0, 70=0, 72=0, 8=0, 80=0, 9=0, 96=0)]"
      ]
     },
     "execution_count": 40,
     "metadata": {},
     "output_type": "execute_result"
    }
   ],
   "source": [
    "# COMMAND ----------\n",
    "\n",
    "df.stat.crosstab(\"StockCode\", \"Quantity\").take(3)"
   ]
  },
  {
   "cell_type": "code",
   "execution_count": 41,
   "metadata": {},
   "outputs": [
    {
     "name": "stdout",
     "output_type": "stream",
     "text": [
      "root\n",
      " |-- StockCode_freqItems: array (nullable = true)\n",
      " |    |-- element: string (containsNull = false)\n",
      " |-- Quantity_freqItems: array (nullable = true)\n",
      " |    |-- element: integer (containsNull = false)\n",
      "\n"
     ]
    },
    {
     "data": {
      "text/plain": [
       "[Row(StockCode_freqItems=[u'90214E', u'20728', u'20755', u'21703', u'22113', u'22524', u'22041', u'72803A', u'72798C', u'90181B', u'21756', u'22694', u'90206C', u'20970', u'21624', u'90209C', u'84744', u'82494L', u'22952', u'20682', u'22583', u'21705', u'20679', u'22220', u'90177E', u'90214A', u'22448', u'90214S', u'22121', u'22802', u'84970L', u'72818', u'90192', u'90200C', u'22910', u'21380', u'90211A', u'21137', u'35271S', u'84926A', u'20765', u'22384', u'21524', u'22165', u'22366', u'21221', u'21704', u'22519', u'85035C', u'21967', u'22114', u'22909', u'22900', u'22447', u'21577', u'21877', u'20726', u'85034A', u'DOT', u'84658', u'21472', u'22804', u'22222', u'72802C', u'21739', u'22467', u'90214H', u'22785', u'22446', u'22197', u'20665', u'21733', u'22731', u'21709', u'22086', u'40001', u'85123A'], Quantity_freqItems=[200, 128, 23, 32, 50, 600, 8, 17, 80, -1, -10, 11, 56, 47, 20, -7, 2, 5, 480, -4, 14, 432, 100, 64, 40, 13, 4, -5, 22, 16, -2, 7, 70, 384, 25, 34, 10, 1, 288, 216, 28, 252, 19, 120, 192, 60, 96, 72, 144, 36, 27, 9, 18, 48, 21, 12, 3, -6, -24, 30, 15, 33, 6, 24, -12, -3])]"
      ]
     },
     "execution_count": 41,
     "metadata": {},
     "output_type": "execute_result"
    }
   ],
   "source": [
    "# COMMAND ----------\n",
    "df.stat.freqItems([\"StockCode\", \"Quantity\"]).printSchema()\n",
    "df.stat.freqItems([\"StockCode\", \"Quantity\"]).take(5)"
   ]
  },
  {
   "cell_type": "code",
   "execution_count": 42,
   "metadata": {
    "collapsed": true
   },
   "outputs": [],
   "source": [
    "# COMMAND ----------\n",
    "\n",
    "from pyspark.sql.functions import monotonically_increasing_id\n",
    "df = df.withColumn(\"index\", monotonically_increasing_id())"
   ]
  },
  {
   "cell_type": "code",
   "execution_count": 43,
   "metadata": {},
   "outputs": [
    {
     "name": "stdout",
     "output_type": "stream",
     "text": [
      "+---------+---------+-----------------------------------+--------+-------------------+---------+----------+--------------+-----+\n",
      "|InvoiceNo|StockCode|Description                        |Quantity|InvoiceDate        |UnitPrice|CustomerID|Country       |index|\n",
      "+---------+---------+-----------------------------------+--------+-------------------+---------+----------+--------------+-----+\n",
      "|536365   |85123A   |WHITE HANGING HEART T-LIGHT HOLDER |6       |2010-12-01 08:26:00|2.55     |17850.0   |United Kingdom|0    |\n",
      "|536365   |71053    |WHITE METAL LANTERN                |6       |2010-12-01 08:26:00|3.39     |17850.0   |United Kingdom|1    |\n",
      "|536365   |84406B   |CREAM CUPID HEARTS COAT HANGER     |8       |2010-12-01 08:26:00|2.75     |17850.0   |United Kingdom|2    |\n",
      "|536365   |84029G   |KNITTED UNION FLAG HOT WATER BOTTLE|6       |2010-12-01 08:26:00|3.39     |17850.0   |United Kingdom|3    |\n",
      "|536365   |84029E   |RED WOOLLY HOTTIE WHITE HEART.     |6       |2010-12-01 08:26:00|3.39     |17850.0   |United Kingdom|4    |\n",
      "+---------+---------+-----------------------------------+--------+-------------------+---------+----------+--------------+-----+\n",
      "only showing top 5 rows\n",
      "\n"
     ]
    }
   ],
   "source": [
    "df.show(5,False)"
   ]
  },
  {
   "cell_type": "code",
   "execution_count": 44,
   "metadata": {},
   "outputs": [
    {
     "data": {
      "text/plain": [
       "3108"
      ]
     },
     "execution_count": 44,
     "metadata": {},
     "output_type": "execute_result"
    }
   ],
   "source": [
    "df.count()"
   ]
  },
  {
   "cell_type": "code",
   "execution_count": 45,
   "metadata": {},
   "outputs": [
    {
     "name": "stdout",
     "output_type": "stream",
     "text": [
      "+---------+---------+-----------------------------------+--------+-------------------+---------+----------+--------------+-----+\n",
      "|InvoiceNo|StockCode|Description                        |Quantity|InvoiceDate        |UnitPrice|CustomerID|Country       |index|\n",
      "+---------+---------+-----------------------------------+--------+-------------------+---------+----------+--------------+-----+\n",
      "|536597   |21739    |COSY SLIPPER SHOES SMALL GREEN     |1       |2010-12-01 17:35:00|2.95     |18011.0   |United Kingdom|3096 |\n",
      "|536597   |85034A   |3 GARDENIA MORRIS BOXED CANDLES    |1       |2010-12-01 17:35:00|4.25     |18011.0   |United Kingdom|3097 |\n",
      "|536597   |72818    |CHRISTMAS DECOUPAGE CANDLE         |4       |2010-12-01 17:35:00|0.85     |18011.0   |United Kingdom|3098 |\n",
      "|536597   |72798C   |SET/4 GARDEN ROSE DINNER CANDLE    |1       |2010-12-01 17:35:00|1.65     |18011.0   |United Kingdom|3099 |\n",
      "|536597   |22197    |SMALL POPCORN HOLDER               |6       |2010-12-01 17:35:00|0.85     |18011.0   |United Kingdom|3100 |\n",
      "|536597   |20726    |LUNCH BAG WOODLAND                 |1       |2010-12-01 17:35:00|1.65     |18011.0   |United Kingdom|3101 |\n",
      "|536597   |84744    |S/6 SEW ON CROCHET FLOWERS         |1       |2010-12-01 17:35:00|1.25     |18011.0   |United Kingdom|3102 |\n",
      "|536597   |35271S   |GOLD PRINT PAPER BAG               |14      |2010-12-01 17:35:00|0.19     |18011.0   |United Kingdom|3103 |\n",
      "|536597   |21380    |WOODEN HAPPY BIRTHDAY GARLAND      |1       |2010-12-01 17:35:00|2.95     |18011.0   |United Kingdom|3104 |\n",
      "|536597   |22909    |SET OF 20 VINTAGE CHRISTMAS NAPKINS|1       |2010-12-01 17:35:00|0.85     |18011.0   |United Kingdom|3105 |\n",
      "|536597   |21221    |SET/4 BADGES CUTE CREATURES        |5       |2010-12-01 17:35:00|1.25     |18011.0   |United Kingdom|3106 |\n",
      "|536597   |20755    |BLUE PAISLEY POCKET BOOK           |6       |2010-12-01 17:35:00|0.85     |18011.0   |United Kingdom|3107 |\n",
      "+---------+---------+-----------------------------------+--------+-------------------+---------+----------+--------------+-----+\n",
      "\n"
     ]
    }
   ],
   "source": [
    "df.filter(\"index > 3095\").show(30,False)"
   ]
  },
  {
   "cell_type": "code",
   "execution_count": 46,
   "metadata": {},
   "outputs": [
    {
     "name": "stdout",
     "output_type": "stream",
     "text": [
      "+-----------------------------------+\n",
      "|initcap(Description)               |\n",
      "+-----------------------------------+\n",
      "|White Hanging Heart T-light Holder |\n",
      "|White Metal Lantern                |\n",
      "|Cream Cupid Hearts Coat Hanger     |\n",
      "|Knitted Union Flag Hot Water Bottle|\n",
      "+-----------------------------------+\n",
      "only showing top 4 rows\n",
      "\n"
     ]
    }
   ],
   "source": [
    "# COMMAND ----------\n",
    "\n",
    "from pyspark.sql.functions import initcap\n",
    "df.select(initcap(col(\"Description\"))).show(4,False)"
   ]
  },
  {
   "cell_type": "code",
   "execution_count": 47,
   "metadata": {},
   "outputs": [
    {
     "name": "stdout",
     "output_type": "stream",
     "text": [
      "+----------------------------------+----------------------------------+----------------------------------+\n",
      "|Description                       |lower(Description)                |upper(lower(Description))         |\n",
      "+----------------------------------+----------------------------------+----------------------------------+\n",
      "|WHITE HANGING HEART T-LIGHT HOLDER|white hanging heart t-light holder|WHITE HANGING HEART T-LIGHT HOLDER|\n",
      "|WHITE METAL LANTERN               |white metal lantern               |WHITE METAL LANTERN               |\n",
      "|CREAM CUPID HEARTS COAT HANGER    |cream cupid hearts coat hanger    |CREAM CUPID HEARTS COAT HANGER    |\n",
      "+----------------------------------+----------------------------------+----------------------------------+\n",
      "only showing top 3 rows\n",
      "\n"
     ]
    }
   ],
   "source": [
    "# COMMAND ----------\n",
    "\n",
    "from pyspark.sql.functions import lower, upper\n",
    "df.select(col(\"Description\"),\n",
    "    lower(col(\"Description\")),\n",
    "    upper(lower(col(\"Description\")))).show(3, False)"
   ]
  },
  {
   "cell_type": "code",
   "execution_count": 48,
   "metadata": {},
   "outputs": [
    {
     "name": "stdout",
     "output_type": "stream",
     "text": [
      "+---------+---------+-----+---+----------+---+----------+\n",
      "|ltrim    |rtrim    |trim |lp3|lp10      |rp3|rp10      |\n",
      "+---------+---------+-----+---+----------+---+----------+\n",
      "|HELLO    |    HELLO|HELLO|HEL|     HELLO|HEL|HELLO     |\n",
      "|HELLO    |    HELLO|HELLO|HEL|     HELLO|HEL|HELLO     |\n",
      "|HELLO    |    HELLO|HELLO|HEL|     HELLO|HEL|HELLO     |\n",
      "|HELLO    |    HELLO|HELLO|HEL|     HELLO|HEL|HELLO     |\n",
      "+---------+---------+-----+---+----------+---+----------+\n",
      "only showing top 4 rows\n",
      "\n"
     ]
    }
   ],
   "source": [
    "# COMMAND ----------\n",
    "\n",
    "from pyspark.sql.functions import lit, ltrim, rtrim, rpad, lpad, trim\n",
    "df.select(\n",
    "    ltrim(lit(\"    HELLO    \")).alias(\"ltrim\"),\n",
    "    rtrim(lit(\"    HELLO    \")).alias(\"rtrim\"),\n",
    "    trim(lit(\"    HELLO    \")).alias(\"trim\"),\n",
    "    lpad(lit(\"HELLO\"), 3, \" \").alias(\"lp3\"),\n",
    "    lpad(lit(\"HELLO\"), 10, \" \").alias(\"lp10\"),\n",
    "    rpad(lit(\"HELLO\"), 3, \" \").alias(\"rp3\"),\n",
    "    rpad(lit(\"HELLO\"), 10, \" \").alias(\"rp10\")\n",
    ").show(4, False)"
   ]
  },
  {
   "cell_type": "code",
   "execution_count": 49,
   "metadata": {},
   "outputs": [
    {
     "name": "stdout",
     "output_type": "stream",
     "text": [
      "+--------------------+--------------------+\n",
      "|         color_clean|         Description|\n",
      "+--------------------+--------------------+\n",
      "|COLOR HANGING HEA...|WHITE HANGING HEA...|\n",
      "| COLOR METAL LANTERN| WHITE METAL LANTERN|\n",
      "+--------------------+--------------------+\n",
      "only showing top 2 rows\n",
      "\n"
     ]
    }
   ],
   "source": [
    "# COMMAND ----------\n",
    "\n",
    "from pyspark.sql.functions import regexp_replace\n",
    "\n",
    "regex_string = \"BLACK|WHITE|RED|GREEN|BLUE\"\n",
    "df.select(regexp_replace(col(\"Description\"), regex_string, \"COLOR\").alias(\"color_clean\"),\n",
    "  col(\"Description\")).show(2)"
   ]
  },
  {
   "cell_type": "code",
   "execution_count": 50,
   "metadata": {},
   "outputs": [
    {
     "name": "stdout",
     "output_type": "stream",
     "text": [
      "+----------------------------------+--------------------+\n",
      "|translate(Description, LEET, 1337)|         Description|\n",
      "+----------------------------------+--------------------+\n",
      "|              WHI73 HANGING H3A...|WHITE HANGING HEA...|\n",
      "|               WHI73 M37A1 1AN73RN| WHITE METAL LANTERN|\n",
      "+----------------------------------+--------------------+\n",
      "only showing top 2 rows\n",
      "\n"
     ]
    }
   ],
   "source": [
    "# COMMAND ----------\n",
    "\n",
    "from pyspark.sql.functions import translate\n",
    "df.select(translate(col(\"Description\"), \"LEET\", \"1337\"),col(\"Description\"))\\\n",
    "  .show(2)"
   ]
  },
  {
   "cell_type": "code",
   "execution_count": 51,
   "metadata": {},
   "outputs": [
    {
     "name": "stdout",
     "output_type": "stream",
     "text": [
      "+---------------+--------------------+\n",
      "|color_extracted|         Description|\n",
      "+---------------+--------------------+\n",
      "|          WHITE|WHITE HANGING HEA...|\n",
      "|          WHITE| WHITE METAL LANTERN|\n",
      "+---------------+--------------------+\n",
      "only showing top 2 rows\n",
      "\n"
     ]
    }
   ],
   "source": [
    "# COMMAND ----------\n",
    "\n",
    "from pyspark.sql.functions import regexp_extract\n",
    "extract_str = \"(BLACK|WHITE|RED|GREEN|BLUE)\"\n",
    "df.select(\n",
    "     regexp_extract(col(\"Description\"), extract_str, 1).alias(\"color_extracted\"),\n",
    "     col(\"Description\")).show(2)"
   ]
  },
  {
   "cell_type": "code",
   "execution_count": 52,
   "metadata": {},
   "outputs": [
    {
     "name": "stdout",
     "output_type": "stream",
     "text": [
      "+----------------------------------+\n",
      "|Description                       |\n",
      "+----------------------------------+\n",
      "|WHITE HANGING HEART T-LIGHT HOLDER|\n",
      "|WHITE METAL LANTERN               |\n",
      "|RED WOOLLY HOTTIE WHITE HEART.    |\n",
      "+----------------------------------+\n",
      "only showing top 3 rows\n",
      "\n"
     ]
    }
   ],
   "source": [
    "# COMMAND ----------\n",
    "\n",
    "from pyspark.sql.functions import instr\n",
    "containsBlack = instr(col(\"Description\"), \"BLACK\") >= 1\n",
    "containsWhite = instr(col(\"Description\"), \"WHITE\") >= 1\n",
    "df.withColumn(\"hasSimpleColor\", containsBlack | containsWhite)\\\n",
    "  .where(\"hasSimpleColor\")\\\n",
    "  .select(\"Description\").show(3, False)"
   ]
  },
  {
   "cell_type": "code",
   "execution_count": 53,
   "metadata": {
    "collapsed": true
   },
   "outputs": [],
   "source": [
    "# COMMAND ----------\n",
    "\n",
    "from pyspark.sql.functions import expr, locate\n",
    "simpleColors = [\"black\", \"white\", \"red\", \"green\", \"blue\"]"
   ]
  },
  {
   "cell_type": "code",
   "execution_count": 54,
   "metadata": {
    "collapsed": true
   },
   "outputs": [],
   "source": [
    "def color_locator(column, color_string):\n",
    "  return locate(color_string.upper(), column)\\\n",
    "          .cast(\"boolean\")\\\n",
    "          .alias(\"is_\" + color_string)\n",
    "        "
   ]
  },
  {
   "cell_type": "code",
   "execution_count": 55,
   "metadata": {
    "collapsed": true
   },
   "outputs": [],
   "source": [
    "selectedColumns1 = [color_locator(df.Description, c) for c in simpleColors]"
   ]
  },
  {
   "cell_type": "code",
   "execution_count": 56,
   "metadata": {},
   "outputs": [
    {
     "data": {
      "text/plain": [
       "[Column<CAST(locate(BLACK, Description, 1) AS BOOLEAN) AS `is_black`>,\n",
       " Column<CAST(locate(WHITE, Description, 1) AS BOOLEAN) AS `is_white`>,\n",
       " Column<CAST(locate(RED, Description, 1) AS BOOLEAN) AS `is_red`>,\n",
       " Column<CAST(locate(GREEN, Description, 1) AS BOOLEAN) AS `is_green`>,\n",
       " Column<CAST(locate(BLUE, Description, 1) AS BOOLEAN) AS `is_blue`>]"
      ]
     },
     "execution_count": 56,
     "metadata": {},
     "output_type": "execute_result"
    }
   ],
   "source": [
    "selectedColumns1"
   ]
  },
  {
   "cell_type": "code",
   "execution_count": 57,
   "metadata": {
    "collapsed": true
   },
   "outputs": [],
   "source": [
    "selectedColumns1.append(expr(\"*\")) # has to a be Column type"
   ]
  },
  {
   "cell_type": "code",
   "execution_count": 58,
   "metadata": {},
   "outputs": [
    {
     "data": {
      "text/plain": [
       "[Column<CAST(locate(BLACK, Description, 1) AS BOOLEAN) AS `is_black`>,\n",
       " Column<CAST(locate(WHITE, Description, 1) AS BOOLEAN) AS `is_white`>,\n",
       " Column<CAST(locate(RED, Description, 1) AS BOOLEAN) AS `is_red`>,\n",
       " Column<CAST(locate(GREEN, Description, 1) AS BOOLEAN) AS `is_green`>,\n",
       " Column<CAST(locate(BLUE, Description, 1) AS BOOLEAN) AS `is_blue`>,\n",
       " Column<unresolvedstar()>]"
      ]
     },
     "execution_count": 58,
     "metadata": {},
     "output_type": "execute_result"
    }
   ],
   "source": [
    "selectedColumns1"
   ]
  },
  {
   "cell_type": "code",
   "execution_count": 59,
   "metadata": {},
   "outputs": [
    {
     "name": "stdout",
     "output_type": "stream",
     "text": [
      "+--------+--------+------+--------+-------+----------------------------------+\n",
      "|is_black|is_white|is_red|is_green|is_blue|Description                       |\n",
      "+--------+--------+------+--------+-------+----------------------------------+\n",
      "|false   |true    |false |false   |false  |WHITE HANGING HEART T-LIGHT HOLDER|\n",
      "|false   |true    |false |false   |false  |WHITE METAL LANTERN               |\n",
      "|false   |true    |true  |false   |false  |RED WOOLLY HOTTIE WHITE HEART.    |\n",
      "|false   |false   |true  |false   |false  |HAND WARMER RED POLKA DOT         |\n",
      "|false   |false   |true  |false   |false  |RED COAT RACK PARIS FASHION       |\n",
      "|false   |false   |true  |false   |false  |ALARM CLOCK BAKELIKE RED          |\n",
      "|false   |false   |true  |false   |false  |SET/2 RED RETROSPOT TEA TOWELS    |\n",
      "|false   |false   |true  |false   |false  |RED TOADSTOOL LED NIGHT LIGHT     |\n",
      "|false   |false   |true  |false   |false  |HAND WARMER RED POLKA DOT         |\n",
      "|false   |true    |false |false   |false  |WHITE HANGING HEART T-LIGHT HOLDER|\n",
      "|false   |true    |false |false   |false  |WHITE METAL LANTERN               |\n",
      "|false   |false   |true  |false   |false  |EDWARDIAN PARASOL RED             |\n",
      "|false   |true    |false |false   |false  |WOOD 2 DRAWER CABINET WHITE FINISH|\n",
      "|false   |true    |false |false   |false  |WOOD S/3 CABINET ANT WHITE FINISH |\n",
      "|false   |true    |false |false   |false  |WOODEN PICTURE FRAME WHITE FINISH |\n",
      "|false   |true    |false |false   |false  |WOODEN FRAME ANTIQUE WHITE        |\n",
      "|false   |true    |true  |false   |false  |RED WOOLLY HOTTIE WHITE HEART.    |\n",
      "|false   |true    |false |false   |false  |WHITE HANGING HEART T-LIGHT HOLDER|\n",
      "|false   |true    |false |false   |false  |WHITE METAL LANTERN               |\n",
      "|false   |false   |true  |false   |false  |EDWARDIAN PARASOL RED             |\n",
      "|false   |true    |false |false   |false  |WOOD 2 DRAWER CABINET WHITE FINISH|\n",
      "|false   |true    |false |false   |false  |WOOD S/3 CABINET ANT WHITE FINISH |\n",
      "|false   |true    |false |false   |false  |WOODEN PICTURE FRAME WHITE FINISH |\n",
      "|false   |true    |false |false   |false  |WOODEN FRAME ANTIQUE WHITE        |\n",
      "|false   |true    |true  |false   |false  |RED WOOLLY HOTTIE WHITE HEART.    |\n",
      "|false   |false   |true  |false   |false  |RED HANGING HEART T-LIGHT HOLDER  |\n",
      "|false   |false   |true  |false   |false  |HAND WARMER RED POLKA DOT         |\n",
      "|true    |true    |false |false   |false  |JUMBO  BAG BAROQUE BLACK WHITE    |\n",
      "|false   |false   |true  |false   |false  |RED 3 PIECE RETROSPOT CUTLERY SET |\n",
      "|false   |false   |true  |false   |false  |SET/6 RED SPOTTY PAPER PLATES     |\n",
      "+--------+--------+------+--------+-------+----------------------------------+\n",
      "only showing top 30 rows\n",
      "\n"
     ]
    }
   ],
   "source": [
    "df.select(*selectedColumns1).where(expr(\"is_white OR is_red\"))\\\n",
    "  .select(\"is_black\",\"is_white\",\"is_red\",\"is_green\",\"is_blue\",\"Description\").show(30, False)"
   ]
  },
  {
   "cell_type": "code",
   "execution_count": 60,
   "metadata": {},
   "outputs": [
    {
     "name": "stdout",
     "output_type": "stream",
     "text": [
      "+--------+--------+------+--------+-------+----------------------------------+\n",
      "|is_black|is_white|is_red|is_green|is_blue|Description                       |\n",
      "+--------+--------+------+--------+-------+----------------------------------+\n",
      "|false   |true    |false |false   |false  |WHITE HANGING HEART T-LIGHT HOLDER|\n",
      "|false   |true    |false |false   |false  |WHITE METAL LANTERN               |\n",
      "|false   |true    |true  |false   |false  |RED WOOLLY HOTTIE WHITE HEART.    |\n",
      "|false   |false   |true  |false   |false  |HAND WARMER RED POLKA DOT         |\n",
      "|false   |false   |true  |false   |false  |RED COAT RACK PARIS FASHION       |\n",
      "|false   |false   |true  |false   |false  |ALARM CLOCK BAKELIKE RED          |\n",
      "|false   |false   |true  |false   |false  |SET/2 RED RETROSPOT TEA TOWELS    |\n",
      "|false   |false   |true  |false   |false  |RED TOADSTOOL LED NIGHT LIGHT     |\n",
      "|false   |false   |true  |false   |false  |HAND WARMER RED POLKA DOT         |\n",
      "|false   |true    |false |false   |false  |WHITE HANGING HEART T-LIGHT HOLDER|\n",
      "|false   |true    |false |false   |false  |WHITE METAL LANTERN               |\n",
      "|false   |false   |true  |false   |false  |EDWARDIAN PARASOL RED             |\n",
      "|false   |true    |false |false   |false  |WOOD 2 DRAWER CABINET WHITE FINISH|\n",
      "|false   |true    |false |false   |false  |WOOD S/3 CABINET ANT WHITE FINISH |\n",
      "|false   |true    |false |false   |false  |WOODEN PICTURE FRAME WHITE FINISH |\n",
      "|false   |true    |false |false   |false  |WOODEN FRAME ANTIQUE WHITE        |\n",
      "|false   |true    |true  |false   |false  |RED WOOLLY HOTTIE WHITE HEART.    |\n",
      "|false   |true    |false |false   |false  |WHITE HANGING HEART T-LIGHT HOLDER|\n",
      "|false   |true    |false |false   |false  |WHITE METAL LANTERN               |\n",
      "|false   |false   |true  |false   |false  |EDWARDIAN PARASOL RED             |\n",
      "|false   |true    |false |false   |false  |WOOD 2 DRAWER CABINET WHITE FINISH|\n",
      "|false   |true    |false |false   |false  |WOOD S/3 CABINET ANT WHITE FINISH |\n",
      "|false   |true    |false |false   |false  |WOODEN PICTURE FRAME WHITE FINISH |\n",
      "|false   |true    |false |false   |false  |WOODEN FRAME ANTIQUE WHITE        |\n",
      "|false   |true    |true  |false   |false  |RED WOOLLY HOTTIE WHITE HEART.    |\n",
      "|false   |false   |true  |false   |false  |RED HANGING HEART T-LIGHT HOLDER  |\n",
      "|false   |false   |true  |false   |false  |HAND WARMER RED POLKA DOT         |\n",
      "|true    |true    |false |false   |false  |JUMBO  BAG BAROQUE BLACK WHITE    |\n",
      "|false   |false   |true  |false   |false  |RED 3 PIECE RETROSPOT CUTLERY SET |\n",
      "|false   |false   |true  |false   |false  |SET/6 RED SPOTTY PAPER PLATES     |\n",
      "+--------+--------+------+--------+-------+----------------------------------+\n",
      "only showing top 30 rows\n",
      "\n"
     ]
    }
   ],
   "source": [
    "selectedColumns2 = [color_locator(df.Description, c) for c in simpleColors]\n",
    "selectedColumns2.append(expr(\"*\"))\n",
    "#this is must for Var Args syntax\n",
    "df.select(*selectedColumns2).where(expr(\"is_white OR is_red\"))\\\n",
    "  .select(\"is_black\",\"is_white\",\"is_red\",\"is_green\",\"is_blue\",\"Description\").show(30, False)"
   ]
  },
  {
   "cell_type": "code",
   "execution_count": 61,
   "metadata": {
    "collapsed": true
   },
   "outputs": [],
   "source": [
    "# COMMAND ----------\n",
    "\n",
    "from pyspark.sql.functions import current_date, current_timestamp\n",
    "dateDF = spark.range(10)\\\n",
    "  .withColumn(\"today\", current_date())\\\n",
    "  .withColumn(\"now\", current_timestamp())\n",
    "dateDF.createOrReplaceTempView(\"dateTable\")"
   ]
  },
  {
   "cell_type": "code",
   "execution_count": 62,
   "metadata": {},
   "outputs": [
    {
     "name": "stdout",
     "output_type": "stream",
     "text": [
      "+---+----------+--------------------+\n",
      "| id|     today|                 now|\n",
      "+---+----------+--------------------+\n",
      "|  0|2018-09-04|2018-09-04 04:56:...|\n",
      "|  1|2018-09-04|2018-09-04 04:56:...|\n",
      "|  2|2018-09-04|2018-09-04 04:56:...|\n",
      "|  3|2018-09-04|2018-09-04 04:56:...|\n",
      "|  4|2018-09-04|2018-09-04 04:56:...|\n",
      "|  5|2018-09-04|2018-09-04 04:56:...|\n",
      "|  6|2018-09-04|2018-09-04 04:56:...|\n",
      "|  7|2018-09-04|2018-09-04 04:56:...|\n",
      "|  8|2018-09-04|2018-09-04 04:56:...|\n",
      "|  9|2018-09-04|2018-09-04 04:56:...|\n",
      "+---+----------+--------------------+\n",
      "\n"
     ]
    }
   ],
   "source": [
    "dateDF.show()"
   ]
  },
  {
   "cell_type": "code",
   "execution_count": 63,
   "metadata": {},
   "outputs": [
    {
     "name": "stdout",
     "output_type": "stream",
     "text": [
      "+---+----------+-----------------------+------------------+------------------+\n",
      "|id |today     |now                    |date_sub(today, 5)|date_add(today, 5)|\n",
      "+---+----------+-----------------------+------------------+------------------+\n",
      "|0  |2018-09-04|2018-09-04 04:56:44.746|2018-08-30        |2018-09-09        |\n",
      "|1  |2018-09-04|2018-09-04 04:56:44.746|2018-08-30        |2018-09-09        |\n",
      "|2  |2018-09-04|2018-09-04 04:56:44.746|2018-08-30        |2018-09-09        |\n",
      "|3  |2018-09-04|2018-09-04 04:56:44.746|2018-08-30        |2018-09-09        |\n",
      "|4  |2018-09-04|2018-09-04 04:56:44.746|2018-08-30        |2018-09-09        |\n",
      "|5  |2018-09-04|2018-09-04 04:56:44.746|2018-08-30        |2018-09-09        |\n",
      "+---+----------+-----------------------+------------------+------------------+\n",
      "only showing top 6 rows\n",
      "\n"
     ]
    }
   ],
   "source": [
    "# COMMAND ----------\n",
    "\n",
    "from pyspark.sql.functions import date_add, date_sub\n",
    "dateDF.select(\"*\",date_sub(col(\"today\"), 5), date_add(col(\"today\"), 5)).show(6, False)"
   ]
  },
  {
   "cell_type": "code",
   "execution_count": 64,
   "metadata": {},
   "outputs": [
    {
     "name": "stdout",
     "output_type": "stream",
     "text": [
      "+---+----------+-----------------------+----------+-------------------------+\n",
      "|id |today     |now                    |week_ago  |datediff(week_ago, today)|\n",
      "+---+----------+-----------------------+----------+-------------------------+\n",
      "|0  |2018-09-04|2018-09-04 04:56:44.894|2018-08-28|-7                       |\n",
      "|1  |2018-09-04|2018-09-04 04:56:44.894|2018-08-28|-7                       |\n",
      "|2  |2018-09-04|2018-09-04 04:56:44.894|2018-08-28|-7                       |\n",
      "|3  |2018-09-04|2018-09-04 04:56:44.894|2018-08-28|-7                       |\n",
      "|4  |2018-09-04|2018-09-04 04:56:44.894|2018-08-28|-7                       |\n",
      "+---+----------+-----------------------+----------+-------------------------+\n",
      "only showing top 5 rows\n",
      "\n"
     ]
    }
   ],
   "source": [
    "# COMMAND ----------\n",
    "\n",
    "from pyspark.sql.functions import datediff, months_between, to_date\n",
    "dateDF.withColumn(\"week_ago\", date_sub(col(\"today\"), 7))\\\n",
    "  .select(\"*\", datediff(col(\"week_ago\"), col(\"today\"))).show(5, False)"
   ]
  },
  {
   "cell_type": "code",
   "execution_count": 65,
   "metadata": {},
   "outputs": [
    {
     "name": "stdout",
     "output_type": "stream",
     "text": [
      "+----------+----------+--------------------------+\n",
      "|start     |end       |months_between(start, end)|\n",
      "+----------+----------+--------------------------+\n",
      "|2016-01-01|2017-05-22|-16.67741935              |\n",
      "|2016-01-01|2017-05-22|-16.67741935              |\n",
      "|2016-01-01|2017-05-22|-16.67741935              |\n",
      "|2016-01-01|2017-05-22|-16.67741935              |\n",
      "|2016-01-01|2017-05-22|-16.67741935              |\n",
      "+----------+----------+--------------------------+\n",
      "only showing top 5 rows\n",
      "\n"
     ]
    }
   ],
   "source": [
    "dateDF.select(\n",
    "    to_date(lit(\"2016-01-01\")).alias(\"start\"),\n",
    "    to_date(lit(\"2017-05-22\")).alias(\"end\"))\\\n",
    "  .select(\"*\", months_between(col(\"start\"), col(\"end\"))).show(5, False)"
   ]
  },
  {
   "cell_type": "code",
   "execution_count": 66,
   "metadata": {},
   "outputs": [
    {
     "name": "stdout",
     "output_type": "stream",
     "text": [
      "+---+----------+---------------+\n",
      "|id |date      |to_date(`date`)|\n",
      "+---+----------+---------------+\n",
      "|0  |2017-01-01|2017-01-01     |\n",
      "|1  |2017-01-01|2017-01-01     |\n",
      "|2  |2017-01-01|2017-01-01     |\n",
      "|3  |2017-01-01|2017-01-01     |\n",
      "|4  |2017-01-01|2017-01-01     |\n",
      "+---+----------+---------------+\n",
      "\n"
     ]
    }
   ],
   "source": [
    "# COMMAND ----------\n",
    "\n",
    "from pyspark.sql.functions import to_date, lit\n",
    "dateDF = spark.range(5).withColumn(\"date\", lit(\"2017-01-01\"))\\\n",
    "  .select(\"*\", to_date(col(\"date\")))\n",
    "dateDF.show(5,False)"
   ]
  },
  {
   "cell_type": "code",
   "execution_count": 67,
   "metadata": {},
   "outputs": [
    {
     "name": "stdout",
     "output_type": "stream",
     "text": [
      "root\n",
      " |-- id: long (nullable = false)\n",
      " |-- date: string (nullable = false)\n",
      " |-- to_date(`date`): date (nullable = true)\n",
      "\n"
     ]
    }
   ],
   "source": [
    "dateDF.printSchema()"
   ]
  },
  {
   "cell_type": "code",
   "execution_count": 68,
   "metadata": {
    "collapsed": true
   },
   "outputs": [],
   "source": [
    "# COMMAND ----------\n",
    "\n",
    "from pyspark.sql.functions import to_date\n",
    "dateFormat = \"yyyy-dd-MM\"\n",
    "cleanDateDF = spark.range(4).select(\n",
    "    to_date(lit(\"2017-12-11\"), dateFormat).alias(\"date\"),\n",
    "    to_date(lit(\"2017-20-12\"), dateFormat).alias(\"date2\"))\n",
    "cleanDateDF.createOrReplaceTempView(\"dateTable2\")"
   ]
  },
  {
   "cell_type": "code",
   "execution_count": 69,
   "metadata": {},
   "outputs": [
    {
     "name": "stdout",
     "output_type": "stream",
     "text": [
      "+----------+----------+\n",
      "|date      |date2     |\n",
      "+----------+----------+\n",
      "|2017-11-12|2017-12-20|\n",
      "|2017-11-12|2017-12-20|\n",
      "|2017-11-12|2017-12-20|\n",
      "|2017-11-12|2017-12-20|\n",
      "+----------+----------+\n",
      "\n"
     ]
    }
   ],
   "source": [
    "cleanDateDF.show(5, False)"
   ]
  },
  {
   "cell_type": "code",
   "execution_count": 70,
   "metadata": {},
   "outputs": [
    {
     "name": "stdout",
     "output_type": "stream",
     "text": [
      "+----------+----------+----------------------------------+\n",
      "|date      |date2     |to_timestamp(`date`, 'yyyy-dd-MM')|\n",
      "+----------+----------+----------------------------------+\n",
      "|2017-11-12|2017-12-20|2017-11-12 00:00:00               |\n",
      "|2017-11-12|2017-12-20|2017-11-12 00:00:00               |\n",
      "|2017-11-12|2017-12-20|2017-11-12 00:00:00               |\n",
      "|2017-11-12|2017-12-20|2017-11-12 00:00:00               |\n",
      "+----------+----------+----------------------------------+\n",
      "\n"
     ]
    }
   ],
   "source": [
    "# COMMAND ----------\n",
    "\n",
    "from pyspark.sql.functions import to_timestamp\n",
    "cleanDateDF.select(\"*\", to_timestamp(col(\"date\"), dateFormat)).show(5, False)"
   ]
  },
  {
   "cell_type": "code",
   "execution_count": 71,
   "metadata": {
    "collapsed": true
   },
   "outputs": [],
   "source": [
    "# cleanDateDF.select(\"*\", to_timestamp(time_add(col(\"date\"),5000), 'yyyy-MM-dd:mm-ss')).show(5, False)\n",
    "#How to seconds / minutes/ hours"
   ]
  },
  {
   "cell_type": "code",
   "execution_count": 72,
   "metadata": {},
   "outputs": [
    {
     "name": "stdout",
     "output_type": "stream",
     "text": [
      "+---------+---------+-------------------+--------+-------------------+---------+----------+--------------+-----+\n",
      "|InvoiceNo|StockCode|Description        |Quantity|InvoiceDate        |UnitPrice|CustomerID|Country       |index|\n",
      "+---------+---------+-------------------+--------+-------------------+---------+----------+--------------+-----+\n",
      "|536365   |71053    |WHITE METAL LANTERN|6       |2010-12-01 08:26:00|3.39     |17850.0   |United Kingdom|1    |\n",
      "|536373   |71053    |WHITE METAL LANTERN|6       |2010-12-01 09:02:00|3.39     |17850.0   |United Kingdom|50   |\n",
      "|536375   |71053    |WHITE METAL LANTERN|6       |2010-12-01 09:32:00|3.39     |17850.0   |United Kingdom|67   |\n",
      "|536396   |71053    |WHITE METAL LANTERN|6       |2010-12-01 10:51:00|3.39     |17850.0   |United Kingdom|279  |\n",
      "|536406   |71053    |WHITE METAL LANTERN|8       |2010-12-01 11:33:00|3.39     |17850.0   |United Kingdom|417  |\n",
      "+---------+---------+-------------------+--------+-------------------+---------+----------+--------------+-----+\n",
      "only showing top 5 rows\n",
      "\n"
     ]
    }
   ],
   "source": [
    "df.where(col(\"Description\").eqNullSafe(\"WHITE METAL LANTERN\")).show(5, False)"
   ]
  },
  {
   "cell_type": "code",
   "execution_count": 73,
   "metadata": {},
   "outputs": [
    {
     "name": "stdout",
     "output_type": "stream",
     "text": [
      "+---------+---------+-----------------------------------+--------+-------------------+---------+----------+--------------+-----+\n",
      "|InvoiceNo|StockCode|Description                        |Quantity|InvoiceDate        |UnitPrice|CustomerID|Country       |index|\n",
      "+---------+---------+-----------------------------------+--------+-------------------+---------+----------+--------------+-----+\n",
      "|536365   |85123A   |WHITE HANGING HEART T-LIGHT HOLDER |6       |2010-12-01 08:26:00|2.55     |17850.0   |United Kingdom|0    |\n",
      "|536365   |84406B   |CREAM CUPID HEARTS COAT HANGER     |8       |2010-12-01 08:26:00|2.75     |17850.0   |United Kingdom|2    |\n",
      "|536365   |84029G   |KNITTED UNION FLAG HOT WATER BOTTLE|6       |2010-12-01 08:26:00|3.39     |17850.0   |United Kingdom|3    |\n",
      "|536365   |84029E   |RED WOOLLY HOTTIE WHITE HEART.     |6       |2010-12-01 08:26:00|3.39     |17850.0   |United Kingdom|4    |\n",
      "|536365   |22752    |SET 7 BABUSHKA NESTING BOXES       |2       |2010-12-01 08:26:00|7.65     |17850.0   |United Kingdom|5    |\n",
      "+---------+---------+-----------------------------------+--------+-------------------+---------+----------+--------------+-----+\n",
      "only showing top 5 rows\n",
      "\n"
     ]
    }
   ],
   "source": [
    "df.where(col(\"Description\") != \"WHITE METAL LANTERN\").where(col(\"Description\").isNotNull()).show(5, False)"
   ]
  },
  {
   "cell_type": "code",
   "execution_count": 74,
   "metadata": {},
   "outputs": [
    {
     "name": "stdout",
     "output_type": "stream",
     "text": [
      "+---------+---------+-----------+--------+-----------+---------+----------+-------+-----+\n",
      "|InvoiceNo|StockCode|Description|Quantity|InvoiceDate|UnitPrice|CustomerID|Country|index|\n",
      "+---------+---------+-----------+--------+-----------+---------+----------+-------+-----+\n",
      "+---------+---------+-----------+--------+-----------+---------+----------+-------+-----+\n",
      "\n"
     ]
    }
   ],
   "source": [
    "df.where(col(\"Description\") != \"WHITE METAL LANTERN\").where(col(\"Description\").isNull()).show(5, False)\n",
    "#wher ignores Null values"
   ]
  },
  {
   "cell_type": "code",
   "execution_count": 75,
   "metadata": {},
   "outputs": [
    {
     "name": "stdout",
     "output_type": "stream",
     "text": [
      "+---------+---------+-----------+--------+-------------------+---------+----------+--------------+-----+\n",
      "|InvoiceNo|StockCode|Description|Quantity|InvoiceDate        |UnitPrice|CustomerID|Country       |index|\n",
      "+---------+---------+-----------+--------+-------------------+---------+----------+--------------+-----+\n",
      "|536414   |22139    |null       |56      |2010-12-01 11:52:00|0.0      |null      |United Kingdom|622  |\n",
      "|536545   |21134    |null       |1       |2010-12-01 14:32:00|0.0      |null      |United Kingdom|1970 |\n",
      "|536546   |22145    |null       |1       |2010-12-01 14:33:00|0.0      |null      |United Kingdom|1971 |\n",
      "|536547   |37509    |null       |1       |2010-12-01 14:33:00|0.0      |null      |United Kingdom|1972 |\n",
      "|536549   |85226A   |null       |1       |2010-12-01 14:34:00|0.0      |null      |United Kingdom|1987 |\n",
      "+---------+---------+-----------+--------+-------------------+---------+----------+--------------+-----+\n",
      "only showing top 5 rows\n",
      "\n"
     ]
    }
   ],
   "source": [
    "df.where(col(\"Description\").isNull()).show(5, False)"
   ]
  },
  {
   "cell_type": "code",
   "execution_count": 76,
   "metadata": {},
   "outputs": [
    {
     "name": "stdout",
     "output_type": "stream",
     "text": [
      "+---------------+---------------+-----------------+--------------+---------------+----------------+-------------+-----------+\n",
      "|count_InvoiceNo|count_StockCode|count_Description|count_Quantity|count_UnitPrice|count_CustomerID|count_Country|count_index|\n",
      "+---------------+---------------+-----------------+--------------+---------------+----------------+-------------+-----------+\n",
      "|              0|              0|               10|             0|              0|            1140|            0|          0|\n",
      "+---------------+---------------+-----------------+--------------+---------------+----------------+-------------+-----------+\n",
      "\n"
     ]
    }
   ],
   "source": [
    "from pyspark.sql.functions import isnan, when, count, col\n",
    "\n",
    "#df.select([count(when(isnan(c), c)).alias(c) for c in df.columns]).show() # not work due to Date Column\n",
    "df.select([count(when(col(c).isNull() |isnan(c), c)).alias(\"count_\"+c) \\\n",
    "           for c in [x for x in df.columns if x != \"InvoiceDate\"]]).show()"
   ]
  },
  {
   "cell_type": "code",
   "execution_count": 77,
   "metadata": {},
   "outputs": [
    {
     "name": "stdout",
     "output_type": "stream",
     "text": [
      "+---------------+---------------+-----------------+--------------+---------------+----------------+-------------+-----------+\n",
      "|count_InvoiceNo|count_StockCode|count_Description|count_Quantity|count_UnitPrice|count_CustomerID|count_Country|count_index|\n",
      "+---------------+---------------+-----------------+--------------+---------------+----------------+-------------+-----------+\n",
      "|              0|              0|                0|             0|              0|               0|            0|          0|\n",
      "+---------------+---------------+-----------------+--------------+---------------+----------------+-------------+-----------+\n",
      "\n"
     ]
    }
   ],
   "source": [
    "df.select([count(when(isnan(c), c)).alias(\"count_\"+c)\\\n",
    "           for c in [x for x in df.columns if x != \"InvoiceDate\"]]).show()"
   ]
  },
  {
   "cell_type": "code",
   "execution_count": 78,
   "metadata": {},
   "outputs": [
    {
     "name": "stdout",
     "output_type": "stream",
     "text": [
      "+------------+------------+--------------+-----------+--------------+------------+-------------+----------+--------+\n",
      "|cn_InvoiceNo|cn_StockCode|cn_Description|cn_Quantity|cn_InvoiceDate|cn_UnitPrice|cn_CustomerID|cn_Country|cn_index|\n",
      "+------------+------------+--------------+-----------+--------------+------------+-------------+----------+--------+\n",
      "|0           |0           |10            |0          |0             |0           |1140         |0         |0       |\n",
      "+------------+------------+--------------+-----------+--------------+------------+-------------+----------+--------+\n",
      "\n"
     ]
    }
   ],
   "source": [
    "df.select([count(when(col(c).isNull(), c)).alias(\"cn_\"+c)\\\n",
    "           for c in df.columns]).show(5,False)"
   ]
  },
  {
   "cell_type": "code",
   "execution_count": 79,
   "metadata": {},
   "outputs": [
    {
     "name": "stdout",
     "output_type": "stream",
     "text": [
      "+------------+------------+--------------+-----------+--------------+------------+-------------+----------+--------+\n",
      "|cn_InvoiceNo|cn_StockCode|cn_Description|cn_Quantity|cn_InvoiceDate|cn_UnitPrice|cn_CustomerID|cn_Country|cn_index|\n",
      "+------------+------------+--------------+-----------+--------------+------------+-------------+----------+--------+\n",
      "|           0|           0|            10|          0|             0|           0|         1140|         0|       0|\n",
      "+------------+------------+--------------+-----------+--------------+------------+-------------+----------+--------+\n",
      "\n"
     ]
    }
   ],
   "source": [
    "df.select([count(when(col(c).isNull(), 1)).alias(\"cn_\"+c)\\\n",
    "           for c in df.columns]).show()"
   ]
  },
  {
   "cell_type": "code",
   "execution_count": 80,
   "metadata": {},
   "outputs": [
    {
     "name": "stdout",
     "output_type": "stream",
     "text": [
      "+----------------------------------------------+\n",
      "|count(CASE WHEN isnan(Description) THEN 1 END)|\n",
      "+----------------------------------------------+\n",
      "|                                             0|\n",
      "+----------------------------------------------+\n",
      "\n"
     ]
    }
   ],
   "source": [
    "df.select(count(when(isnan(\"Description\"), 1))).show()"
   ]
  },
  {
   "cell_type": "code",
   "execution_count": 81,
   "metadata": {},
   "outputs": [
    {
     "name": "stdout",
     "output_type": "stream",
     "text": [
      "+-----------------------------------------------------+\n",
      "|count(CASE WHEN isnan(Description) THEN 1 ELSE 0 END)|\n",
      "+-----------------------------------------------------+\n",
      "|                                                 3108|\n",
      "+-----------------------------------------------------+\n",
      "\n"
     ]
    }
   ],
   "source": [
    "df.select(count(when(isnan(\"Description\"), 1).otherwise(0))).show()"
   ]
  },
  {
   "cell_type": "code",
   "execution_count": 82,
   "metadata": {},
   "outputs": [
    {
     "name": "stdout",
     "output_type": "stream",
     "text": [
      "+--------+-----+\n",
      "|nanCount|count|\n",
      "+--------+-----+\n",
      "|       0| 3108|\n",
      "+--------+-----+\n",
      "\n"
     ]
    }
   ],
   "source": [
    "df.select(when(isnan(\"Description\"), 1).otherwise(0).alias(\"nanCount\")).groupBy(\"nanCount\").count().show()"
   ]
  },
  {
   "cell_type": "code",
   "execution_count": 83,
   "metadata": {},
   "outputs": [
    {
     "name": "stdout",
     "output_type": "stream",
     "text": [
      "+----------------------------------------------+\n",
      "|CASE WHEN isnan(Description) THEN 1 ELSE 0 END|\n",
      "+----------------------------------------------+\n",
      "|                                             0|\n",
      "|                                             0|\n",
      "|                                             0|\n",
      "|                                             0|\n",
      "|                                             0|\n",
      "+----------------------------------------------+\n",
      "only showing top 5 rows\n",
      "\n"
     ]
    }
   ],
   "source": [
    "df.select(when(isnan(\"Description\"), 1).otherwise(0)).show(5)"
   ]
  },
  {
   "cell_type": "code",
   "execution_count": 84,
   "metadata": {},
   "outputs": [
    {
     "name": "stdout",
     "output_type": "stream",
     "text": [
      "+---------+-----+\n",
      "|nullCount|count|\n",
      "+---------+-----+\n",
      "|        1|   10|\n",
      "|        0| 3098|\n",
      "+---------+-----+\n",
      "\n"
     ]
    }
   ],
   "source": [
    "df.select(when(col(\"Description\").isNull(), 1).otherwise(0).alias(\"nullCount\")).groupBy(\"nullCount\").count().show()"
   ]
  },
  {
   "cell_type": "code",
   "execution_count": 85,
   "metadata": {},
   "outputs": [
    {
     "name": "stdout",
     "output_type": "stream",
     "text": [
      "3108\n",
      "3098\n",
      "10\n",
      "3108\n",
      "6\n",
      "6\n",
      "3092\n"
     ]
    }
   ],
   "source": [
    "print(df.select(col(\"Description\")).count())\n",
    "print(df.where(col(\"Description\").isNotNull()).count())\n",
    "print(df.where(col(\"Description\").isNull()).count())\n",
    "print(df.select(when(isnan(\"Description\"), 1)).count())\n",
    "\n",
    "print(df.where(col(\"Description\").eqNullSafe(\"WHITE METAL LANTERN\")).count())\n",
    "print(df.where(col(\"Description\") == \"WHITE METAL LANTERN\").count())\n",
    "print(df.where(col(\"Description\") != \"WHITE METAL LANTERN\").count())"
   ]
  },
  {
   "cell_type": "code",
   "execution_count": 86,
   "metadata": {},
   "outputs": [
    {
     "name": "stdout",
     "output_type": "stream",
     "text": [
      "+-----------------------------------+----------+-----------------------------------+\n",
      "|Description                        |CustomerId|coalesce(Description, CustomerId)  |\n",
      "+-----------------------------------+----------+-----------------------------------+\n",
      "|WHITE HANGING HEART T-LIGHT HOLDER |17850.0   |WHITE HANGING HEART T-LIGHT HOLDER |\n",
      "|WHITE METAL LANTERN                |17850.0   |WHITE METAL LANTERN                |\n",
      "|CREAM CUPID HEARTS COAT HANGER     |17850.0   |CREAM CUPID HEARTS COAT HANGER     |\n",
      "|KNITTED UNION FLAG HOT WATER BOTTLE|17850.0   |KNITTED UNION FLAG HOT WATER BOTTLE|\n",
      "|RED WOOLLY HOTTIE WHITE HEART.     |17850.0   |RED WOOLLY HOTTIE WHITE HEART.     |\n",
      "+-----------------------------------+----------+-----------------------------------+\n",
      "only showing top 5 rows\n",
      "\n"
     ]
    }
   ],
   "source": [
    "# COMMAND ----------\n",
    "\n",
    "from pyspark.sql.functions import coalesce\n",
    "df.select(\"Description\", \"CustomerId\", coalesce(col(\"Description\"), col(\"CustomerId\"))).show(5, False)\n",
    "# returns first column that is not null"
   ]
  },
  {
   "cell_type": "code",
   "execution_count": 87,
   "metadata": {},
   "outputs": [
    {
     "data": {
      "text/plain": [
       "3108"
      ]
     },
     "execution_count": 87,
     "metadata": {},
     "output_type": "execute_result"
    }
   ],
   "source": [
    "df.count()\n",
    "# DEscription nulls 10\n",
    "#ID  1140"
   ]
  },
  {
   "cell_type": "code",
   "execution_count": 88,
   "metadata": {},
   "outputs": [
    {
     "name": "stdout",
     "output_type": "stream",
     "text": [
      "+---------+-----+\n",
      "|nullCount|count|\n",
      "+---------+-----+\n",
      "|        1|   10|\n",
      "|        0| 3098|\n",
      "+---------+-----+\n",
      "\n"
     ]
    }
   ],
   "source": [
    "df.select(when(col(\"Description\").isNull(), 1).otherwise(0).alias(\"nullCount\")).groupBy(\"nullCount\").count().show()"
   ]
  },
  {
   "cell_type": "code",
   "execution_count": 89,
   "metadata": {},
   "outputs": [
    {
     "name": "stdout",
     "output_type": "stream",
     "text": [
      "+---------+-----+\n",
      "|nullCount|count|\n",
      "+---------+-----+\n",
      "|        1| 1140|\n",
      "|        0| 1968|\n",
      "+---------+-----+\n",
      "\n"
     ]
    }
   ],
   "source": [
    "df.select(when(col(\"CustomerId\").isNull(), 1).otherwise(0).alias(\"nullCount\")).groupBy(\"nullCount\").count().show()"
   ]
  },
  {
   "cell_type": "code",
   "execution_count": 90,
   "metadata": {},
   "outputs": [
    {
     "name": "stdout",
     "output_type": "stream",
     "text": [
      "+---------+-----+\n",
      "|nullCount|count|\n",
      "+---------+-----+\n",
      "|        1|   10|\n",
      "|        0| 3098|\n",
      "+---------+-----+\n",
      "\n"
     ]
    }
   ],
   "source": [
    "df.select(when(col(\"Description\").isNull() & col(\"CustomerId\").isNull(), 1)\\\n",
    "          .otherwise(0).alias(\"nullCount\")).groupBy(\"nullCount\").count().show()"
   ]
  },
  {
   "cell_type": "code",
   "execution_count": 91,
   "metadata": {},
   "outputs": [
    {
     "name": "stdout",
     "output_type": "stream",
     "text": [
      "+---------+-----+\n",
      "|nullCount|count|\n",
      "+---------+-----+\n",
      "|        1| 1140|\n",
      "|        0| 1968|\n",
      "+---------+-----+\n",
      "\n"
     ]
    }
   ],
   "source": [
    "df.select(when(col(\"Description\").isNull() | col(\"CustomerId\").isNull(), 1)\\\n",
    "          .otherwise(0).alias(\"nullCount\")).groupBy(\"nullCount\").count().show()"
   ]
  },
  {
   "cell_type": "code",
   "execution_count": 92,
   "metadata": {},
   "outputs": [
    {
     "data": {
      "text/plain": [
       "3098"
      ]
     },
     "execution_count": 92,
     "metadata": {},
     "output_type": "execute_result"
    }
   ],
   "source": [
    "# COMMAND ----------\n",
    "\n",
    "na_dropped = df.na.drop(\"all\", subset=[\"Description\", \"CustomerId\"])\n",
    "na_dropped.count()"
   ]
  },
  {
   "cell_type": "code",
   "execution_count": 93,
   "metadata": {},
   "outputs": [
    {
     "data": {
      "text/plain": [
       "1968"
      ]
     },
     "execution_count": 93,
     "metadata": {},
     "output_type": "execute_result"
    }
   ],
   "source": [
    "df.na.drop(\"any\", subset=[\"Description\", \"CustomerId\"]).count()"
   ]
  },
  {
   "cell_type": "code",
   "execution_count": 94,
   "metadata": {},
   "outputs": [
    {
     "name": "stdout",
     "output_type": "stream",
     "text": [
      "+---------+-----+\n",
      "|nullCount|count|\n",
      "+---------+-----+\n",
      "|        0| 3108|\n",
      "+---------+-----+\n",
      "\n"
     ]
    }
   ],
   "source": [
    "# COMMAND ----------\n",
    "\n",
    "da_filled = df.na.fill(\"any\", subset=[\"Description\", \"StockCode\"])\n",
    "da_filled.select(when(col(\"Description\").isNull() & col(\"CustomerId\").isNull(), 1)\\\n",
    "          .otherwise(0).alias(\"nullCount\")).groupBy(\"nullCount\").count().show()"
   ]
  },
  {
   "cell_type": "code",
   "execution_count": 95,
   "metadata": {},
   "outputs": [
    {
     "data": {
      "text/plain": [
       "10"
      ]
     },
     "execution_count": 95,
     "metadata": {},
     "output_type": "execute_result"
    }
   ],
   "source": [
    "# COMMAND ----------\n",
    "\n",
    "fill_cols_vals = {\"StockCode\": 5, \"Description\" : \"No Value\"}\n",
    "da_filled = df.na.fill(fill_cols_vals)\n",
    "da_filled.where(\"Description = 'No Value'\").count()"
   ]
  },
  {
   "cell_type": "code",
   "execution_count": 96,
   "metadata": {},
   "outputs": [
    {
     "name": "stdout",
     "output_type": "stream",
     "text": [
      "+---------+---------+-----------+--------+-------------------+---------+----------+--------------+-----+\n",
      "|InvoiceNo|StockCode|Description|Quantity|        InvoiceDate|UnitPrice|CustomerID|       Country|index|\n",
      "+---------+---------+-----------+--------+-------------------+---------+----------+--------------+-----+\n",
      "|   536414|    22139|   No Value|      56|2010-12-01 11:52:00|      0.0|      null|United Kingdom|  622|\n",
      "|   536545|    21134|   No Value|       1|2010-12-01 14:32:00|      0.0|      null|United Kingdom| 1970|\n",
      "|   536546|    22145|   No Value|       1|2010-12-01 14:33:00|      0.0|      null|United Kingdom| 1971|\n",
      "|   536547|    37509|   No Value|       1|2010-12-01 14:33:00|      0.0|      null|United Kingdom| 1972|\n",
      "|   536549|   85226A|   No Value|       1|2010-12-01 14:34:00|      0.0|      null|United Kingdom| 1987|\n",
      "|   536550|    85044|   No Value|       1|2010-12-01 14:34:00|      0.0|      null|United Kingdom| 1988|\n",
      "|   536552|    20950|   No Value|       1|2010-12-01 14:34:00|      0.0|      null|United Kingdom| 2024|\n",
      "|   536553|    37461|   No Value|       3|2010-12-01 14:35:00|      0.0|      null|United Kingdom| 2025|\n",
      "|   536554|    84670|   No Value|      23|2010-12-01 14:35:00|      0.0|      null|United Kingdom| 2026|\n",
      "|   536589|    21777|   No Value|     -10|2010-12-01 16:50:00|      0.0|      null|United Kingdom| 2406|\n",
      "+---------+---------+-----------+--------+-------------------+---------+----------+--------------+-----+\n",
      "\n"
     ]
    }
   ],
   "source": [
    "da_filled.where(\"Description = 'No Value'\").show()"
   ]
  },
  {
   "cell_type": "code",
   "execution_count": 97,
   "metadata": {
    "collapsed": true
   },
   "outputs": [],
   "source": [
    "# COMMAND ----------\n",
    "df_replaced = da_filled.na.replace([\"No Value\"], [\"UNKNOWN\"], \"Description\")"
   ]
  },
  {
   "cell_type": "code",
   "execution_count": 98,
   "metadata": {},
   "outputs": [
    {
     "name": "stdout",
     "output_type": "stream",
     "text": [
      "+---------+---------+-----------+--------+-------------------+---------+----------+--------------+-----+\n",
      "|InvoiceNo|StockCode|Description|Quantity|        InvoiceDate|UnitPrice|CustomerID|       Country|index|\n",
      "+---------+---------+-----------+--------+-------------------+---------+----------+--------------+-----+\n",
      "|   536414|    22139|    UNKNOWN|      56|2010-12-01 11:52:00|      0.0|      null|United Kingdom|  622|\n",
      "|   536545|    21134|    UNKNOWN|       1|2010-12-01 14:32:00|      0.0|      null|United Kingdom| 1970|\n",
      "|   536546|    22145|    UNKNOWN|       1|2010-12-01 14:33:00|      0.0|      null|United Kingdom| 1971|\n",
      "|   536547|    37509|    UNKNOWN|       1|2010-12-01 14:33:00|      0.0|      null|United Kingdom| 1972|\n",
      "|   536549|   85226A|    UNKNOWN|       1|2010-12-01 14:34:00|      0.0|      null|United Kingdom| 1987|\n",
      "|   536550|    85044|    UNKNOWN|       1|2010-12-01 14:34:00|      0.0|      null|United Kingdom| 1988|\n",
      "|   536552|    20950|    UNKNOWN|       1|2010-12-01 14:34:00|      0.0|      null|United Kingdom| 2024|\n",
      "|   536553|    37461|    UNKNOWN|       3|2010-12-01 14:35:00|      0.0|      null|United Kingdom| 2025|\n",
      "|   536554|    84670|    UNKNOWN|      23|2010-12-01 14:35:00|      0.0|      null|United Kingdom| 2026|\n",
      "|   536589|    21777|    UNKNOWN|     -10|2010-12-01 16:50:00|      0.0|      null|United Kingdom| 2406|\n",
      "+---------+---------+-----------+--------+-------------------+---------+----------+--------------+-----+\n",
      "\n"
     ]
    }
   ],
   "source": [
    "df_replaced.where(\"Description = 'UNKNOWN'\").show()\n",
    "#without backticks it doest work"
   ]
  },
  {
   "cell_type": "code",
   "execution_count": 102,
   "metadata": {
    "collapsed": true
   },
   "outputs": [],
   "source": [
    "# COMMAND ----------\n",
    "\n",
    "from pyspark.sql.functions import struct\n",
    "complexDF = df.select(struct(\"Description\", \"InvoiceNo\").alias(\"complex\"))\n",
    "complexDF.createOrReplaceTempView(\"complexDF\")"
   ]
  },
  {
   "cell_type": "code",
   "execution_count": 103,
   "metadata": {},
   "outputs": [
    {
     "name": "stdout",
     "output_type": "stream",
     "text": [
      "+---------------------------------------------+\n",
      "|complex                                      |\n",
      "+---------------------------------------------+\n",
      "|[WHITE HANGING HEART T-LIGHT HOLDER, 536365] |\n",
      "|[WHITE METAL LANTERN, 536365]                |\n",
      "|[CREAM CUPID HEARTS COAT HANGER, 536365]     |\n",
      "|[KNITTED UNION FLAG HOT WATER BOTTLE, 536365]|\n",
      "|[RED WOOLLY HOTTIE WHITE HEART., 536365]     |\n",
      "+---------------------------------------------+\n",
      "only showing top 5 rows\n",
      "\n"
     ]
    }
   ],
   "source": [
    "complexDF.show(5,False)"
   ]
  },
  {
   "cell_type": "code",
   "execution_count": 105,
   "metadata": {},
   "outputs": [
    {
     "name": "stdout",
     "output_type": "stream",
     "text": [
      "+-----------------------------------+---------+\n",
      "|Description                        |InvoiceNo|\n",
      "+-----------------------------------+---------+\n",
      "|WHITE HANGING HEART T-LIGHT HOLDER |536365   |\n",
      "|WHITE METAL LANTERN                |536365   |\n",
      "|CREAM CUPID HEARTS COAT HANGER     |536365   |\n",
      "|KNITTED UNION FLAG HOT WATER BOTTLE|536365   |\n",
      "|RED WOOLLY HOTTIE WHITE HEART.     |536365   |\n",
      "+-----------------------------------+---------+\n",
      "only showing top 5 rows\n",
      "\n"
     ]
    }
   ],
   "source": [
    "complexDF.select(\"complex.Description\", \"complex.InvoiceNo\").show(5,False)"
   ]
  },
  {
   "cell_type": "code",
   "execution_count": 123,
   "metadata": {},
   "outputs": [
    {
     "name": "stdout",
     "output_type": "stream",
     "text": [
      "+-----------------------------------+---------+\n",
      "|Description                        |InvoiceNo|\n",
      "+-----------------------------------+---------+\n",
      "|WHITE HANGING HEART T-LIGHT HOLDER |536365   |\n",
      "|WHITE METAL LANTERN                |536365   |\n",
      "|CREAM CUPID HEARTS COAT HANGER     |536365   |\n",
      "|KNITTED UNION FLAG HOT WATER BOTTLE|536365   |\n",
      "|RED WOOLLY HOTTIE WHITE HEART.     |536365   |\n",
      "+-----------------------------------+---------+\n",
      "only showing top 5 rows\n",
      "\n"
     ]
    }
   ],
   "source": [
    "complexDF.selectExpr(\"complex.*\").show(5,False)"
   ]
  },
  {
   "cell_type": "code",
   "execution_count": 125,
   "metadata": {},
   "outputs": [
    {
     "name": "stdout",
     "output_type": "stream",
     "text": [
      "+-----------------------------------+\n",
      "|complex.Description                |\n",
      "+-----------------------------------+\n",
      "|WHITE HANGING HEART T-LIGHT HOLDER |\n",
      "|WHITE METAL LANTERN                |\n",
      "|CREAM CUPID HEARTS COAT HANGER     |\n",
      "|KNITTED UNION FLAG HOT WATER BOTTLE|\n",
      "|RED WOOLLY HOTTIE WHITE HEART.     |\n",
      "+-----------------------------------+\n",
      "only showing top 5 rows\n",
      "\n"
     ]
    }
   ],
   "source": [
    "complexDF.select(col(\"complex\").getField(\"Description\")).show(5,False)"
   ]
  },
  {
   "cell_type": "code",
   "execution_count": 106,
   "metadata": {},
   "outputs": [
    {
     "name": "stdout",
     "output_type": "stream",
     "text": [
      "+----------------------------------------+\n",
      "|split(Description,  )                   |\n",
      "+----------------------------------------+\n",
      "|[WHITE, HANGING, HEART, T-LIGHT, HOLDER]|\n",
      "|[WHITE, METAL, LANTERN]                 |\n",
      "+----------------------------------------+\n",
      "only showing top 2 rows\n",
      "\n"
     ]
    }
   ],
   "source": [
    "# COMMAND ----------\n",
    "\n",
    "from pyspark.sql.functions import split\n",
    "df.select(split(col(\"Description\"), \" \")).show(2, False)"
   ]
  },
  {
   "cell_type": "code",
   "execution_count": 118,
   "metadata": {},
   "outputs": [
    {
     "name": "stdout",
     "output_type": "stream",
     "text": [
      "+-----------------------------------+------------+\n",
      "|Description                        |array_col[0]|\n",
      "+-----------------------------------+------------+\n",
      "|WHITE HANGING HEART T-LIGHT HOLDER |WHITE       |\n",
      "|WHITE METAL LANTERN                |WHITE       |\n",
      "|CREAM CUPID HEARTS COAT HANGER     |CREAM       |\n",
      "|KNITTED UNION FLAG HOT WATER BOTTLE|KNITTED     |\n",
      "+-----------------------------------+------------+\n",
      "only showing top 4 rows\n",
      "\n"
     ]
    }
   ],
   "source": [
    "# COMMAND ----------\n",
    "\n",
    "df.withColumn(\"array_col\", split(col(\"Description\"), \" \")).selectExpr(\"Description\",\"array_col[0]\").show(4,False)"
   ]
  },
  {
   "cell_type": "code",
   "execution_count": 121,
   "metadata": {},
   "outputs": [
    {
     "name": "stdout",
     "output_type": "stream",
     "text": [
      "+---------------------------+-----------------------------------+\n",
      "|size(split(Description,  ))|Description                        |\n",
      "+---------------------------+-----------------------------------+\n",
      "|5                          |WHITE HANGING HEART T-LIGHT HOLDER |\n",
      "|3                          |WHITE METAL LANTERN                |\n",
      "|5                          |CREAM CUPID HEARTS COAT HANGER     |\n",
      "|6                          |KNITTED UNION FLAG HOT WATER BOTTLE|\n",
      "|5                          |RED WOOLLY HOTTIE WHITE HEART.     |\n",
      "+---------------------------+-----------------------------------+\n",
      "only showing top 5 rows\n",
      "\n"
     ]
    }
   ],
   "source": [
    "# COMMAND ----------\n",
    "\n",
    "from pyspark.sql.functions import size\n",
    "df.select(size(split(col(\"Description\"), \" \")), col(\"Description\")).show(5, False) # shows 5 and 3"
   ]
  },
  {
   "cell_type": "code",
   "execution_count": 122,
   "metadata": {},
   "outputs": [
    {
     "name": "stdout",
     "output_type": "stream",
     "text": [
      "+--------------------------------------------+-----------------------------------+\n",
      "|array_contains(split(Description,  ), WHITE)|Description                        |\n",
      "+--------------------------------------------+-----------------------------------+\n",
      "|true                                        |WHITE HANGING HEART T-LIGHT HOLDER |\n",
      "|true                                        |WHITE METAL LANTERN                |\n",
      "|false                                       |CREAM CUPID HEARTS COAT HANGER     |\n",
      "|false                                       |KNITTED UNION FLAG HOT WATER BOTTLE|\n",
      "|true                                        |RED WOOLLY HOTTIE WHITE HEART.     |\n",
      "+--------------------------------------------+-----------------------------------+\n",
      "only showing top 5 rows\n",
      "\n"
     ]
    }
   ],
   "source": [
    "# COMMAND ----------\n",
    "\n",
    "from pyspark.sql.functions import array_contains\n",
    "df.select(array_contains(split(col(\"Description\"), \" \"), \"WHITE\"), col(\"Description\")).show(5, False)"
   ]
  },
  {
   "cell_type": "code",
   "execution_count": 131,
   "metadata": {},
   "outputs": [
    {
     "name": "stdout",
     "output_type": "stream",
     "text": [
      "+---------+----------------------------------+----------------------------------------+--------+\n",
      "|InvoiceNo|Description                       |splitted                                |exploded|\n",
      "+---------+----------------------------------+----------------------------------------+--------+\n",
      "|536365   |WHITE HANGING HEART T-LIGHT HOLDER|[WHITE, HANGING, HEART, T-LIGHT, HOLDER]|WHITE   |\n",
      "|536365   |WHITE HANGING HEART T-LIGHT HOLDER|[WHITE, HANGING, HEART, T-LIGHT, HOLDER]|HANGING |\n",
      "|536365   |WHITE HANGING HEART T-LIGHT HOLDER|[WHITE, HANGING, HEART, T-LIGHT, HOLDER]|HEART   |\n",
      "|536365   |WHITE HANGING HEART T-LIGHT HOLDER|[WHITE, HANGING, HEART, T-LIGHT, HOLDER]|T-LIGHT |\n",
      "|536365   |WHITE HANGING HEART T-LIGHT HOLDER|[WHITE, HANGING, HEART, T-LIGHT, HOLDER]|HOLDER  |\n",
      "|536365   |WHITE METAL LANTERN               |[WHITE, METAL, LANTERN]                 |WHITE   |\n",
      "|536365   |WHITE METAL LANTERN               |[WHITE, METAL, LANTERN]                 |METAL   |\n",
      "|536365   |WHITE METAL LANTERN               |[WHITE, METAL, LANTERN]                 |LANTERN |\n",
      "|536365   |CREAM CUPID HEARTS COAT HANGER    |[CREAM, CUPID, HEARTS, COAT, HANGER]    |CREAM   |\n",
      "|536365   |CREAM CUPID HEARTS COAT HANGER    |[CREAM, CUPID, HEARTS, COAT, HANGER]    |CUPID   |\n",
      "+---------+----------------------------------+----------------------------------------+--------+\n",
      "only showing top 10 rows\n",
      "\n"
     ]
    }
   ],
   "source": [
    "# COMMAND ----------\n",
    "\n",
    "from pyspark.sql.functions import split, explode\n",
    "\n",
    "df.withColumn(\"splitted\", split(col(\"Description\"), \" \"))\\\n",
    "  .withColumn(\"exploded\", explode(col(\"splitted\")))\\\n",
    "  .select(\"InvoiceNo\",\"Description\", \"splitted\", \"exploded\").show(10, False)"
   ]
  },
  {
   "cell_type": "code",
   "execution_count": 132,
   "metadata": {},
   "outputs": [
    {
     "name": "stdout",
     "output_type": "stream",
     "text": [
      "+-----------------------------------------------+\n",
      "|complex_map                                    |\n",
      "+-----------------------------------------------+\n",
      "|[WHITE HANGING HEART T-LIGHT HOLDER -> 536365] |\n",
      "|[WHITE METAL LANTERN -> 536365]                |\n",
      "|[CREAM CUPID HEARTS COAT HANGER -> 536365]     |\n",
      "|[KNITTED UNION FLAG HOT WATER BOTTLE -> 536365]|\n",
      "|[RED WOOLLY HOTTIE WHITE HEART. -> 536365]     |\n",
      "+-----------------------------------------------+\n",
      "only showing top 5 rows\n",
      "\n"
     ]
    }
   ],
   "source": [
    "# COMMAND ----------\n",
    "\n",
    "from pyspark.sql.functions import create_map\n",
    "df.select(create_map(col(\"Description\"), col(\"InvoiceNo\")).alias(\"complex_map\"))\\\n",
    "  .show(5,False)"
   ]
  },
  {
   "cell_type": "code",
   "execution_count": 135,
   "metadata": {},
   "outputs": [
    {
     "name": "stdout",
     "output_type": "stream",
     "text": [
      "+-----------------------------------------------+--------------------------------+\n",
      "|complex_map                                    |complex_map[WHITE METAL LANTERN]|\n",
      "+-----------------------------------------------+--------------------------------+\n",
      "|[WHITE HANGING HEART T-LIGHT HOLDER -> 536365] |null                            |\n",
      "|[WHITE METAL LANTERN -> 536365]                |536365                          |\n",
      "|[CREAM CUPID HEARTS COAT HANGER -> 536365]     |null                            |\n",
      "|[KNITTED UNION FLAG HOT WATER BOTTLE -> 536365]|null                            |\n",
      "|[RED WOOLLY HOTTIE WHITE HEART. -> 536365]     |null                            |\n",
      "+-----------------------------------------------+--------------------------------+\n",
      "only showing top 5 rows\n",
      "\n"
     ]
    }
   ],
   "source": [
    "# COMMAND ----------\n",
    "\n",
    "df.select(create_map(col(\"Description\"), col(\"InvoiceNo\")).alias(\"complex_map\"))\\\n",
    "  .selectExpr(\"complex_map\", \"complex_map['WHITE METAL LANTERN']\").show(5,False)"
   ]
  },
  {
   "cell_type": "code",
   "execution_count": 140,
   "metadata": {},
   "outputs": [
    {
     "name": "stdout",
     "output_type": "stream",
     "text": [
      "+---------+-----------------------------------+------+-----------------------------------------------+\n",
      "|InvoiceNo|key                                |value |complex_map                                    |\n",
      "+---------+-----------------------------------+------+-----------------------------------------------+\n",
      "|536365   |WHITE HANGING HEART T-LIGHT HOLDER |536365|[WHITE HANGING HEART T-LIGHT HOLDER -> 536365] |\n",
      "|536365   |WHITE METAL LANTERN                |536365|[WHITE METAL LANTERN -> 536365]                |\n",
      "|536365   |CREAM CUPID HEARTS COAT HANGER     |536365|[CREAM CUPID HEARTS COAT HANGER -> 536365]     |\n",
      "|536365   |KNITTED UNION FLAG HOT WATER BOTTLE|536365|[KNITTED UNION FLAG HOT WATER BOTTLE -> 536365]|\n",
      "|536365   |RED WOOLLY HOTTIE WHITE HEART.     |536365|[RED WOOLLY HOTTIE WHITE HEART. -> 536365]     |\n",
      "|536365   |SET 7 BABUSHKA NESTING BOXES       |536365|[SET 7 BABUSHKA NESTING BOXES -> 536365]       |\n",
      "|536365   |GLASS STAR FROSTED T-LIGHT HOLDER  |536365|[GLASS STAR FROSTED T-LIGHT HOLDER -> 536365]  |\n",
      "|536366   |HAND WARMER UNION JACK             |536366|[HAND WARMER UNION JACK -> 536366]             |\n",
      "|536366   |HAND WARMER RED POLKA DOT          |536366|[HAND WARMER RED POLKA DOT -> 536366]          |\n",
      "|536367   |ASSORTED COLOUR BIRD ORNAMENT      |536367|[ASSORTED COLOUR BIRD ORNAMENT -> 536367]      |\n",
      "+---------+-----------------------------------+------+-----------------------------------------------+\n",
      "only showing top 10 rows\n",
      "\n"
     ]
    }
   ],
   "source": [
    "# COMMAND ----------\n",
    "\n",
    "df.withColumn(\"complex_map\", create_map(col(\"Description\"), col(\"InvoiceNo\")))\\\n",
    "  .selectExpr(\"InvoiceNo\",\"explode(complex_map)\", \"complex_map\").show(10, False)\n",
    "    #explode here which will turn them into columns"
   ]
  },
  {
   "cell_type": "code",
   "execution_count": 141,
   "metadata": {
    "collapsed": true
   },
   "outputs": [],
   "source": [
    "# COMMAND ----------\n",
    "\n",
    "jsonDF = spark.range(1).selectExpr(\"\"\"\n",
    "  '{\"myJSONKey\" : {\"myJSONValue\" : [1, 2, 3]}}' as jsonString\"\"\")"
   ]
  },
  {
   "cell_type": "code",
   "execution_count": 143,
   "metadata": {},
   "outputs": [
    {
     "name": "stdout",
     "output_type": "stream",
     "text": [
      "+-------------------------------------------+\n",
      "|jsonString                                 |\n",
      "+-------------------------------------------+\n",
      "|{\"myJSONKey\" : {\"myJSONValue\" : [1, 2, 3]}}|\n",
      "+-------------------------------------------+\n",
      "\n"
     ]
    }
   ],
   "source": [
    "jsonDF.show(5, False)"
   ]
  },
  {
   "cell_type": "code",
   "execution_count": 149,
   "metadata": {},
   "outputs": [
    {
     "name": "stdout",
     "output_type": "stream",
     "text": [
      "+---------------+-----------------------+\n",
      "|get_json_object|json_tuple             |\n",
      "+---------------+-----------------------+\n",
      "|2              |{\"myJSONValue\":[1,2,3]}|\n",
      "+---------------+-----------------------+\n",
      "\n"
     ]
    }
   ],
   "source": [
    "# COMMAND ----------\n",
    "\n",
    "from pyspark.sql.functions import get_json_object, json_tuple\n",
    "\n",
    "jsonDF.withColumn(\"get_json_object\",get_json_object(col(\"jsonString\"), \"$.myJSONKey.myJSONValue[1]\"))\\\n",
    "      .withColumn(\"json_tuple\",json_tuple(col(\"jsonString\"), \"myJSONKey\"))\\\n",
    "      .select(\"get_json_object\",\"json_tuple\").show(2,False)"
   ]
  },
  {
   "cell_type": "code",
   "execution_count": 151,
   "metadata": {},
   "outputs": [
    {
     "name": "stdout",
     "output_type": "stream",
     "text": [
      "+---------------------------------------------+--------------------------------------------------------------------------+\n",
      "|myStruct                                     |to_json                                                                   |\n",
      "+---------------------------------------------+--------------------------------------------------------------------------+\n",
      "|[536365, WHITE HANGING HEART T-LIGHT HOLDER] |{\"InvoiceNo\":\"536365\",\"Description\":\"WHITE HANGING HEART T-LIGHT HOLDER\"} |\n",
      "|[536365, WHITE METAL LANTERN]                |{\"InvoiceNo\":\"536365\",\"Description\":\"WHITE METAL LANTERN\"}                |\n",
      "|[536365, CREAM CUPID HEARTS COAT HANGER]     |{\"InvoiceNo\":\"536365\",\"Description\":\"CREAM CUPID HEARTS COAT HANGER\"}     |\n",
      "|[536365, KNITTED UNION FLAG HOT WATER BOTTLE]|{\"InvoiceNo\":\"536365\",\"Description\":\"KNITTED UNION FLAG HOT WATER BOTTLE\"}|\n",
      "|[536365, RED WOOLLY HOTTIE WHITE HEART.]     |{\"InvoiceNo\":\"536365\",\"Description\":\"RED WOOLLY HOTTIE WHITE HEART.\"}     |\n",
      "+---------------------------------------------+--------------------------------------------------------------------------+\n",
      "only showing top 5 rows\n",
      "\n"
     ]
    }
   ],
   "source": [
    "# COMMAND ----------\n",
    "\n",
    "from pyspark.sql.functions import to_json\n",
    "df.selectExpr(\"(InvoiceNo, Description) as myStruct\")\\\n",
    "  .withColumn(\"to_json\", to_json(col(\"myStruct\"))).select(\"myStruct\",\"to_json\").show(5,False)"
   ]
  },
  {
   "cell_type": "code",
   "execution_count": 158,
   "metadata": {
    "collapsed": true
   },
   "outputs": [],
   "source": [
    "# COMMAND ----------\n",
    "\n",
    "from pyspark.sql.functions import from_json\n",
    "from pyspark.sql.types import *\n",
    "\n",
    "parseSchema = StructType((\n",
    "  StructField(\"InvoiceNo\",StringType(),True),\n",
    "  StructField(\"Description\",StringType(),True)))\n",
    "\n",
    "json = df.selectExpr(\"(InvoiceNo, Description) as myStruct\")\\\n",
    "  .select(to_json(col(\"myStruct\")).alias(\"to_json\"))\\\n",
    "  .select(from_json(col(\"to_json\"), parseSchema).alias(\"from_json\"), col(\"to_json\"))"
   ]
  },
  {
   "cell_type": "code",
   "execution_count": 159,
   "metadata": {},
   "outputs": [
    {
     "name": "stdout",
     "output_type": "stream",
     "text": [
      "+---------------------------------------------+--------------------------------------------------------------------------+\n",
      "|from_json                                    |to_json                                                                   |\n",
      "+---------------------------------------------+--------------------------------------------------------------------------+\n",
      "|[536365, WHITE HANGING HEART T-LIGHT HOLDER] |{\"InvoiceNo\":\"536365\",\"Description\":\"WHITE HANGING HEART T-LIGHT HOLDER\"} |\n",
      "|[536365, WHITE METAL LANTERN]                |{\"InvoiceNo\":\"536365\",\"Description\":\"WHITE METAL LANTERN\"}                |\n",
      "|[536365, CREAM CUPID HEARTS COAT HANGER]     |{\"InvoiceNo\":\"536365\",\"Description\":\"CREAM CUPID HEARTS COAT HANGER\"}     |\n",
      "|[536365, KNITTED UNION FLAG HOT WATER BOTTLE]|{\"InvoiceNo\":\"536365\",\"Description\":\"KNITTED UNION FLAG HOT WATER BOTTLE\"}|\n",
      "|[536365, RED WOOLLY HOTTIE WHITE HEART.]     |{\"InvoiceNo\":\"536365\",\"Description\":\"RED WOOLLY HOTTIE WHITE HEART.\"}     |\n",
      "+---------------------------------------------+--------------------------------------------------------------------------+\n",
      "only showing top 5 rows\n",
      "\n"
     ]
    }
   ],
   "source": [
    "json.show(5,False)"
   ]
  },
  {
   "cell_type": "code",
   "execution_count": 160,
   "metadata": {},
   "outputs": [
    {
     "name": "stdout",
     "output_type": "stream",
     "text": [
      "root\n",
      " |-- from_json: struct (nullable = true)\n",
      " |    |-- InvoiceNo: string (nullable = true)\n",
      " |    |-- Description: string (nullable = true)\n",
      " |-- to_json: string (nullable = true)\n",
      "\n"
     ]
    }
   ],
   "source": [
    "json.printSchema()"
   ]
  },
  {
   "cell_type": "code",
   "execution_count": 8,
   "metadata": {
    "collapsed": true
   },
   "outputs": [],
   "source": [
    "# COMMAND ----------\n",
    "\n",
    "udfExampleDF = spark.range(5).toDF(\"num\")\n",
    "\n",
    "def power3_1(double_value):\n",
    "  return float(double_value ** 3)\n",
    "\n",
    "def power3_2(double_value):\n",
    "  return double_value ** 3"
   ]
  },
  {
   "cell_type": "code",
   "execution_count": 9,
   "metadata": {},
   "outputs": [
    {
     "name": "stdout",
     "output_type": "stream",
     "text": [
      "(8.0, 8.0, 8, 8.0)\n"
     ]
    }
   ],
   "source": [
    "print(power3_1(2) ,power3_1(2.0), power3_2(2) ,power3_2(2.0))"
   ]
  },
  {
   "cell_type": "code",
   "execution_count": 10,
   "metadata": {
    "collapsed": true
   },
   "outputs": [],
   "source": [
    "# COMMAND ----------\n",
    "\n",
    "from pyspark.sql.functions import udf\n",
    "power3udf_1 = udf(power3_1)"
   ]
  },
  {
   "cell_type": "code",
   "execution_count": 11,
   "metadata": {},
   "outputs": [
    {
     "name": "stdout",
     "output_type": "stream",
     "text": [
      "+-------------+\n",
      "|power3_1(num)|\n",
      "+-------------+\n",
      "|          0.0|\n",
      "|          1.0|\n",
      "|          8.0|\n",
      "|         27.0|\n",
      "|         64.0|\n",
      "+-------------+\n",
      "\n"
     ]
    }
   ],
   "source": [
    "# COMMAND ----------\n",
    "\n",
    "from pyspark.sql.functions import col\n",
    "udfExampleDF.select(power3udf_1(col(\"num\"))).show(5)"
   ]
  },
  {
   "cell_type": "code",
   "execution_count": 14,
   "metadata": {},
   "outputs": [
    {
     "name": "stdout",
     "output_type": "stream",
     "text": [
      "+-------------------+\n",
      "|power3udf_ur_1(num)|\n",
      "+-------------------+\n",
      "|                0.0|\n",
      "|                1.0|\n",
      "|                8.0|\n",
      "|               27.0|\n",
      "|               64.0|\n",
      "+-------------------+\n",
      "\n"
     ]
    }
   ],
   "source": [
    "# COMMAND ----------\n",
    "\n",
    "from pyspark.sql.types import IntegerType, DoubleType\n",
    "\n",
    "#spark.udf.register(\"power3py_ur_1\", power3udf, DoubleType()) #This will not work\n",
    "\n",
    "#TypeError: Invalid returnType: data type can not be specified when f isa user-defined function, but got DoubleType.\n",
    "spark.udf.register(\"power3udf_ur_1\", power3udf_1)\n",
    "udfExampleDF.selectExpr(\"power3udf_ur_1(num)\").show(5)"
   ]
  },
  {
   "cell_type": "code",
   "execution_count": 15,
   "metadata": {},
   "outputs": [
    {
     "name": "stdout",
     "output_type": "stream",
     "text": [
      "+--------------------+\n",
      "|power3_1_double(num)|\n",
      "+--------------------+\n",
      "|                 0.0|\n",
      "|                 1.0|\n",
      "|                 8.0|\n",
      "|                27.0|\n",
      "|                64.0|\n",
      "+--------------------+\n",
      "\n"
     ]
    }
   ],
   "source": [
    "spark.udf.register(\"power3_1_double\", power3_1, DoubleType())\n",
    "udfExampleDF.selectExpr(\"power3_1_double(num)\").show(5)"
   ]
  },
  {
   "cell_type": "code",
   "execution_count": 16,
   "metadata": {},
   "outputs": [
    {
     "name": "stdout",
     "output_type": "stream",
     "text": [
      "+-----------------+\n",
      "|power3_1_int(num)|\n",
      "+-----------------+\n",
      "|             null|\n",
      "|             null|\n",
      "|             null|\n",
      "|             null|\n",
      "|             null|\n",
      "+-----------------+\n",
      "\n"
     ]
    }
   ],
   "source": [
    "spark.udf.register(\"power3_1_int\", power3_1, IntegerType())\n",
    "udfExampleDF.selectExpr(\"power3_1_int(num)\").show(5)"
   ]
  },
  {
   "cell_type": "code",
   "execution_count": 17,
   "metadata": {},
   "outputs": [
    {
     "name": "stdout",
     "output_type": "stream",
     "text": [
      "+--------------------+\n",
      "|power3_2_double(num)|\n",
      "+--------------------+\n",
      "|                null|\n",
      "|                null|\n",
      "|                null|\n",
      "|                null|\n",
      "|                null|\n",
      "+--------------------+\n",
      "\n"
     ]
    }
   ],
   "source": [
    "spark.udf.register(\"power3_2_double\", power3_2, DoubleType())\n",
    "udfExampleDF.selectExpr(\"power3_2_double(num)\").show(5)"
   ]
  },
  {
   "cell_type": "code",
   "execution_count": 19,
   "metadata": {},
   "outputs": [
    {
     "name": "stdout",
     "output_type": "stream",
     "text": [
      "+-----------------+\n",
      "|power3_2_int(num)|\n",
      "+-----------------+\n",
      "|                0|\n",
      "|                1|\n",
      "|                8|\n",
      "|               27|\n",
      "|               64|\n",
      "+-----------------+\n",
      "\n"
     ]
    }
   ],
   "source": [
    "spark.udf.register(\"power3_2_int\", power3_2, IntegerType())\n",
    "udfExampleDF.selectExpr(\"power3_2_int(num)\").show(5)"
   ]
  },
  {
   "cell_type": "code",
   "execution_count": null,
   "metadata": {
    "collapsed": true
   },
   "outputs": [],
   "source": []
  }
 ],
 "metadata": {
  "kernelspec": {
   "display_name": "pyspark2.7_home",
   "language": "python",
   "name": "pyspark2.7_home"
  },
  "language_info": {
   "codemirror_mode": {
    "name": "ipython",
    "version": 2
   },
   "file_extension": ".py",
   "mimetype": "text/x-python",
   "name": "python",
   "nbconvert_exporter": "python",
   "pygments_lexer": "ipython2",
   "version": "2.7.5"
  }
 },
 "nbformat": 4,
 "nbformat_minor": 2
}
