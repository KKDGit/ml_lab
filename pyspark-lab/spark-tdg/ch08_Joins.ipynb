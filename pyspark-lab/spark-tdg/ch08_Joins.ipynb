{
 "cells": [
  {
   "cell_type": "code",
   "execution_count": 1,
   "metadata": {},
   "outputs": [
    {
     "data": {
      "text/plain": [
       "'/usr/hdp/current/spark2-client'"
      ]
     },
     "execution_count": 1,
     "metadata": {},
     "output_type": "execute_result"
    }
   ],
   "source": [
    "import findspark\n",
    "findspark.init('/usr/hdp/current/spark2-client')\n",
    "findspark.find()"
   ]
  },
  {
   "cell_type": "code",
   "execution_count": 2,
   "metadata": {
    "collapsed": true
   },
   "outputs": [],
   "source": [
    "import pyspark\n",
    "from pyspark.sql import SparkSession\n",
    "spark = SparkSession.builder.master(\"yarn\").appName(\"ch08Joins\").getOrCreate()"
   ]
  },
  {
   "cell_type": "code",
   "execution_count": 3,
   "metadata": {
    "collapsed": true
   },
   "outputs": [],
   "source": [
    "sc = spark.sparkContext"
   ]
  },
  {
   "cell_type": "code",
   "execution_count": 4,
   "metadata": {},
   "outputs": [
    {
     "name": "stdout",
     "output_type": "stream",
     "text": [
      "http://rm01.itversity.com:19288/proxy/application_1533622723243_15773\n"
     ]
    }
   ],
   "source": [
    "for x in sc._conf.getAll():\n",
    "    if '/proxy/' in x[1]:\n",
    "        print(x[1])"
   ]
  },
  {
   "cell_type": "code",
   "execution_count": 5,
   "metadata": {
    "collapsed": true
   },
   "outputs": [],
   "source": [
    "person = spark.createDataFrame([\n",
    "    (0, \"Bill Chambers\", 0, [100]),\n",
    "    (1, \"Matei Zaharia\", 1, [500, 250, 100]),\n",
    "    (2, \"Michael Armbrust\", 1, [250, 100])])\\\n",
    "  .toDF(\"id\", \"name\", \"graduate_program\", \"spark_status\")"
   ]
  },
  {
   "cell_type": "code",
   "execution_count": 6,
   "metadata": {},
   "outputs": [
    {
     "name": "stdout",
     "output_type": "stream",
     "text": [
      "+---+----------------+----------------+---------------+\n",
      "|id |name            |graduate_program|spark_status   |\n",
      "+---+----------------+----------------+---------------+\n",
      "|0  |Bill Chambers   |0               |[100]          |\n",
      "|1  |Matei Zaharia   |1               |[500, 250, 100]|\n",
      "|2  |Michael Armbrust|1               |[250, 100]     |\n",
      "+---+----------------+----------------+---------------+\n",
      "\n"
     ]
    }
   ],
   "source": [
    "person.show(5, False)"
   ]
  },
  {
   "cell_type": "code",
   "execution_count": 7,
   "metadata": {
    "collapsed": true
   },
   "outputs": [],
   "source": [
    "graduateProgram = spark.createDataFrame([\n",
    "    (0, \"Masters\", \"School of Information\", \"UC Berkeley\"),\n",
    "    (2, \"Masters\", \"EECS\", \"UC Berkeley\"),\n",
    "    (1, \"Ph.D.\", \"EECS\", \"UC Berkeley\")])\\\n",
    "  .toDF(\"id\", \"degree\", \"department\", \"school\")"
   ]
  },
  {
   "cell_type": "code",
   "execution_count": 8,
   "metadata": {},
   "outputs": [
    {
     "name": "stdout",
     "output_type": "stream",
     "text": [
      "+---+-------+---------------------+-----------+\n",
      "|id |degree |department           |school     |\n",
      "+---+-------+---------------------+-----------+\n",
      "|0  |Masters|School of Information|UC Berkeley|\n",
      "|2  |Masters|EECS                 |UC Berkeley|\n",
      "|1  |Ph.D.  |EECS                 |UC Berkeley|\n",
      "+---+-------+---------------------+-----------+\n",
      "\n"
     ]
    }
   ],
   "source": [
    "graduateProgram.show(5,False)"
   ]
  },
  {
   "cell_type": "code",
   "execution_count": 9,
   "metadata": {
    "collapsed": true
   },
   "outputs": [],
   "source": [
    "sparkStatus = spark.createDataFrame([\n",
    "    (500, \"Vice President\"),\n",
    "    (250, \"PMC Member\"),\n",
    "    (100, \"Contributor\")])\\\n",
    "  .toDF(\"id\", \"status\")"
   ]
  },
  {
   "cell_type": "code",
   "execution_count": 10,
   "metadata": {},
   "outputs": [
    {
     "name": "stdout",
     "output_type": "stream",
     "text": [
      "+---+--------------+\n",
      "|id |status        |\n",
      "+---+--------------+\n",
      "|500|Vice President|\n",
      "|250|PMC Member    |\n",
      "|100|Contributor   |\n",
      "+---+--------------+\n",
      "\n"
     ]
    }
   ],
   "source": [
    "sparkStatus.show(5, False)"
   ]
  },
  {
   "cell_type": "code",
   "execution_count": 11,
   "metadata": {
    "collapsed": true
   },
   "outputs": [],
   "source": [
    "# COMMAND ----------\n",
    "joinExpression = person[\"graduate_program\"] == graduateProgram['id']"
   ]
  },
  {
   "cell_type": "code",
   "execution_count": 12,
   "metadata": {
    "collapsed": true
   },
   "outputs": [],
   "source": [
    "# COMMAND ----------\n",
    "wrongJoinExpression = person[\"name\"] == graduateProgram[\"school\"]"
   ]
  },
  {
   "cell_type": "code",
   "execution_count": 24,
   "metadata": {},
   "outputs": [
    {
     "name": "stdout",
     "output_type": "stream",
     "text": [
      "+--------+----------------+----------------+---------------+---+-------+---------------------+-----------+\n",
      "|personId|name            |graduate_program|spark_status   |id |degree |department           |school     |\n",
      "+--------+----------------+----------------+---------------+---+-------+---------------------+-----------+\n",
      "|0       |Bill Chambers   |0               |[100]          |0  |Masters|School of Information|UC Berkeley|\n",
      "|1       |Matei Zaharia   |1               |[500, 250, 100]|1  |Ph.D.  |EECS                 |UC Berkeley|\n",
      "|2       |Michael Armbrust|1               |[250, 100]     |1  |Ph.D.  |EECS                 |UC Berkeley|\n",
      "+--------+----------------+----------------+---------------+---+-------+---------------------+-----------+\n",
      "\n"
     ]
    }
   ],
   "source": [
    "# COMMAND ----------\n",
    "joinType = \"inner\"\n",
    "person.withColumnRenamed(\"id\", \"personId\").join(graduateProgram, joinExpression, joinType).show(8, False)"
   ]
  },
  {
   "cell_type": "code",
   "execution_count": 22,
   "metadata": {},
   "outputs": [
    {
     "name": "stdout",
     "output_type": "stream",
     "text": [
      "+--------+----------------+----------------+---------------+---+-------+---------------------+-----------+\n",
      "|personId|name            |graduate_program|spark_status   |id |degree |department           |school     |\n",
      "+--------+----------------+----------------+---------------+---+-------+---------------------+-----------+\n",
      "|0       |Bill Chambers   |0               |[100]          |0  |Masters|School of Information|UC Berkeley|\n",
      "|1       |Matei Zaharia   |1               |[500, 250, 100]|1  |Ph.D.  |EECS                 |UC Berkeley|\n",
      "|2       |Michael Armbrust|1               |[250, 100]     |1  |Ph.D.  |EECS                 |UC Berkeley|\n",
      "+--------+----------------+----------------+---------------+---+-------+---------------------+-----------+\n",
      "\n"
     ]
    }
   ],
   "source": [
    "person.withColumnRenamed(\"id\", \"personId\").join(graduateProgram, joinExpression).show(8, False)\n",
    "#Deafault Join is Inner Join"
   ]
  },
  {
   "cell_type": "code",
   "execution_count": 25,
   "metadata": {},
   "outputs": [
    {
     "name": "stdout",
     "output_type": "stream",
     "text": [
      "+--------+----------------+----------------+---------------+---+-------+---------------------+-----------+\n",
      "|personId|name            |graduate_program|spark_status   |id |degree |department           |school     |\n",
      "+--------+----------------+----------------+---------------+---+-------+---------------------+-----------+\n",
      "|0       |Bill Chambers   |0               |[100]          |0  |Masters|School of Information|UC Berkeley|\n",
      "|1       |Matei Zaharia   |1               |[500, 250, 100]|1  |Ph.D.  |EECS                 |UC Berkeley|\n",
      "|2       |Michael Armbrust|1               |[250, 100]     |1  |Ph.D.  |EECS                 |UC Berkeley|\n",
      "|null    |null            |null            |null           |2  |Masters|EECS                 |UC Berkeley|\n",
      "+--------+----------------+----------------+---------------+---+-------+---------------------+-----------+\n",
      "\n"
     ]
    }
   ],
   "source": [
    "joinType='outer'\n",
    "person.withColumnRenamed(\"id\", \"personId\").join(graduateProgram, joinExpression, joinType).show(8, False)"
   ]
  },
  {
   "cell_type": "code",
   "execution_count": 26,
   "metadata": {},
   "outputs": [
    {
     "name": "stdout",
     "output_type": "stream",
     "text": [
      "+---+-------+---------------------+-----------+--------+----------------+----------------+---------------+\n",
      "|id |degree |department           |school     |personId|name            |graduate_program|spark_status   |\n",
      "+---+-------+---------------------+-----------+--------+----------------+----------------+---------------+\n",
      "|0  |Masters|School of Information|UC Berkeley|0       |Bill Chambers   |0               |[100]          |\n",
      "|1  |Ph.D.  |EECS                 |UC Berkeley|1       |Matei Zaharia   |1               |[500, 250, 100]|\n",
      "|1  |Ph.D.  |EECS                 |UC Berkeley|2       |Michael Armbrust|1               |[250, 100]     |\n",
      "|2  |Masters|EECS                 |UC Berkeley|null    |null            |null            |null           |\n",
      "+---+-------+---------------------+-----------+--------+----------------+----------------+---------------+\n",
      "\n"
     ]
    }
   ],
   "source": [
    "joinType='outer'\n",
    "graduateProgram.join(person.withColumnRenamed(\"id\", \"personId\"), joinExpression, joinType).show(8, False)"
   ]
  },
  {
   "cell_type": "code",
   "execution_count": 27,
   "metadata": {},
   "outputs": [
    {
     "name": "stdout",
     "output_type": "stream",
     "text": [
      "+--------+----------------+----------------+---------------+---+-------+---------------------+-----------+\n",
      "|personId|name            |graduate_program|spark_status   |id |degree |department           |school     |\n",
      "+--------+----------------+----------------+---------------+---+-------+---------------------+-----------+\n",
      "|0       |Bill Chambers   |0               |[100]          |0  |Masters|School of Information|UC Berkeley|\n",
      "|1       |Matei Zaharia   |1               |[500, 250, 100]|1  |Ph.D.  |EECS                 |UC Berkeley|\n",
      "|2       |Michael Armbrust|1               |[250, 100]     |1  |Ph.D.  |EECS                 |UC Berkeley|\n",
      "+--------+----------------+----------------+---------------+---+-------+---------------------+-----------+\n",
      "\n"
     ]
    }
   ],
   "source": [
    "joinType='left_outer'\n",
    "person.withColumnRenamed(\"id\", \"personId\").join(graduateProgram, joinExpression, joinType).show(8, False)"
   ]
  },
  {
   "cell_type": "code",
   "execution_count": 28,
   "metadata": {},
   "outputs": [
    {
     "name": "stdout",
     "output_type": "stream",
     "text": [
      "+---+-------+---------------------+-----------+--------+----------------+----------------+---------------+\n",
      "|id |degree |department           |school     |personId|name            |graduate_program|spark_status   |\n",
      "+---+-------+---------------------+-----------+--------+----------------+----------------+---------------+\n",
      "|0  |Masters|School of Information|UC Berkeley|0       |Bill Chambers   |0               |[100]          |\n",
      "|1  |Ph.D.  |EECS                 |UC Berkeley|1       |Matei Zaharia   |1               |[500, 250, 100]|\n",
      "|1  |Ph.D.  |EECS                 |UC Berkeley|2       |Michael Armbrust|1               |[250, 100]     |\n",
      "|2  |Masters|EECS                 |UC Berkeley|null    |null            |null            |null           |\n",
      "+---+-------+---------------------+-----------+--------+----------------+----------------+---------------+\n",
      "\n"
     ]
    }
   ],
   "source": [
    "joinType='left_outer'\n",
    "graduateProgram.join(person.withColumnRenamed(\"id\", \"personId\"), joinExpression, joinType).show(8, False)"
   ]
  },
  {
   "cell_type": "code",
   "execution_count": 29,
   "metadata": {},
   "outputs": [
    {
     "name": "stdout",
     "output_type": "stream",
     "text": [
      "+--------+----------------+----------------+---------------+---+-------+---------------------+-----------+\n",
      "|personId|name            |graduate_program|spark_status   |id |degree |department           |school     |\n",
      "+--------+----------------+----------------+---------------+---+-------+---------------------+-----------+\n",
      "|0       |Bill Chambers   |0               |[100]          |0  |Masters|School of Information|UC Berkeley|\n",
      "|1       |Matei Zaharia   |1               |[500, 250, 100]|1  |Ph.D.  |EECS                 |UC Berkeley|\n",
      "|2       |Michael Armbrust|1               |[250, 100]     |1  |Ph.D.  |EECS                 |UC Berkeley|\n",
      "|null    |null            |null            |null           |2  |Masters|EECS                 |UC Berkeley|\n",
      "+--------+----------------+----------------+---------------+---+-------+---------------------+-----------+\n",
      "\n"
     ]
    }
   ],
   "source": [
    "joinType='right_outer'\n",
    "person.withColumnRenamed(\"id\", \"personId\").join(graduateProgram, joinExpression, joinType).show(8, False)"
   ]
  },
  {
   "cell_type": "code",
   "execution_count": 30,
   "metadata": {},
   "outputs": [
    {
     "name": "stdout",
     "output_type": "stream",
     "text": [
      "+---+-------+---------------------+-----------+--------+----------------+----------------+---------------+\n",
      "|id |degree |department           |school     |personId|name            |graduate_program|spark_status   |\n",
      "+---+-------+---------------------+-----------+--------+----------------+----------------+---------------+\n",
      "|0  |Masters|School of Information|UC Berkeley|0       |Bill Chambers   |0               |[100]          |\n",
      "|1  |Ph.D.  |EECS                 |UC Berkeley|1       |Matei Zaharia   |1               |[500, 250, 100]|\n",
      "|1  |Ph.D.  |EECS                 |UC Berkeley|2       |Michael Armbrust|1               |[250, 100]     |\n",
      "+---+-------+---------------------+-----------+--------+----------------+----------------+---------------+\n",
      "\n",
      "----------------------------------------\n",
      "Exception happened during processing of request from ('127.0.0.1', 37334)\n",
      "----------------------------------------\n"
     ]
    },
    {
     "name": "stderr",
     "output_type": "stream",
     "text": [
      "Traceback (most recent call last):\n",
      "  File \"/usr/lib64/python2.7/SocketServer.py\", line 295, in _handle_request_noblock\n",
      "    self.process_request(request, client_address)\n",
      "  File \"/usr/lib64/python2.7/SocketServer.py\", line 321, in process_request\n",
      "    self.finish_request(request, client_address)\n",
      "  File \"/usr/lib64/python2.7/SocketServer.py\", line 334, in finish_request\n",
      "    self.RequestHandlerClass(request, client_address, self)\n",
      "  File \"/usr/lib64/python2.7/SocketServer.py\", line 649, in __init__\n",
      "    self.handle()\n",
      "  File \"/usr/hdp/current/spark2-client/python/pyspark/accumulators.py\", line 235, in handle\n",
      "    num_updates = read_int(self.rfile)\n",
      "  File \"/usr/hdp/current/spark2-client/python/pyspark/serializers.py\", line 685, in read_int\n",
      "    raise EOFError\n",
      "EOFError\n"
     ]
    }
   ],
   "source": [
    "joinType='right_outer'\n",
    "graduateProgram.join(person.withColumnRenamed(\"id\", \"personId\"), joinExpression, joinType).show(8, False)"
   ]
  },
  {
   "cell_type": "code",
   "execution_count": null,
   "metadata": {
    "collapsed": true
   },
   "outputs": [],
   "source": []
  },
  {
   "cell_type": "code",
   "execution_count": 17,
   "metadata": {
    "collapsed": true
   },
   "outputs": [],
   "source": [
    "# COMMAND ----------\n",
    "gradProgram2 = graduateProgram.union(\n",
    "    spark.createDataFrame([(0, \"Masters\", \"Duplicated Row\", \"Duplicated School\")]))"
   ]
  },
  {
   "cell_type": "code",
   "execution_count": 18,
   "metadata": {},
   "outputs": [
    {
     "name": "stdout",
     "output_type": "stream",
     "text": [
      "+---+-------+---------------------+-----------------+\n",
      "|id |degree |department           |school           |\n",
      "+---+-------+---------------------+-----------------+\n",
      "|0  |Masters|School of Information|UC Berkeley      |\n",
      "|2  |Masters|EECS                 |UC Berkeley      |\n",
      "|1  |Ph.D.  |EECS                 |UC Berkeley      |\n",
      "|0  |Masters|Duplicated Row       |Duplicated School|\n",
      "+---+-------+---------------------+-----------------+\n",
      "\n"
     ]
    }
   ],
   "source": [
    "gradProgram2.show(5, False)"
   ]
  },
  {
   "cell_type": "code",
   "execution_count": 19,
   "metadata": {},
   "outputs": [
    {
     "name": "stdout",
     "output_type": "stream",
     "text": [
      "+--------+----------------+----------------+---------------+---+--------------+\n",
      "|personId|name            |graduate_program|spark_status   |id |status        |\n",
      "+--------+----------------+----------------+---------------+---+--------------+\n",
      "|0       |Bill Chambers   |0               |[100]          |100|Contributor   |\n",
      "|1       |Matei Zaharia   |1               |[500, 250, 100]|500|Vice President|\n",
      "|1       |Matei Zaharia   |1               |[500, 250, 100]|250|PMC Member    |\n",
      "|1       |Matei Zaharia   |1               |[500, 250, 100]|100|Contributor   |\n",
      "|2       |Michael Armbrust|1               |[250, 100]     |250|PMC Member    |\n",
      "|2       |Michael Armbrust|1               |[250, 100]     |100|Contributor   |\n",
      "+--------+----------------+----------------+---------------+---+--------------+\n",
      "\n"
     ]
    }
   ],
   "source": [
    "# COMMAND ----------\n",
    "from pyspark.sql.functions import expr\n",
    "\n",
    "person.withColumnRenamed(\"id\", \"personId\")\\\n",
    "  .join(sparkStatus, expr(\"array_contains(spark_status, id)\")).show(10, False)"
   ]
  },
  {
   "cell_type": "code",
   "execution_count": null,
   "metadata": {
    "collapsed": true
   },
   "outputs": [],
   "source": []
  }
 ],
 "metadata": {
  "kernelspec": {
   "display_name": "pyspark2.7_home",
   "language": "python",
   "name": "pyspark2.7_home"
  },
  "language_info": {
   "codemirror_mode": {
    "name": "ipython",
    "version": 2
   },
   "file_extension": ".py",
   "mimetype": "text/x-python",
   "name": "python",
   "nbconvert_exporter": "python",
   "pygments_lexer": "ipython2",
   "version": "2.7.5"
  }
 },
 "nbformat": 4,
 "nbformat_minor": 2
}
