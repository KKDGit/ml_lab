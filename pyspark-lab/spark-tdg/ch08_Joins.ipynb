{
 "cells": [
  {
   "cell_type": "code",
   "execution_count": 2,
   "metadata": {},
   "outputs": [
    {
     "data": {
      "text/plain": [
       "'C:\\\\Spark\\\\spark-hadoop'"
      ]
     },
     "execution_count": 2,
     "metadata": {},
     "output_type": "execute_result"
    }
   ],
   "source": [
    "import findspark\n",
    "#findspark.init('/usr/hdp/current/spark2-client')\n",
    "findspark.init()\n",
    "findspark.find()"
   ]
  },
  {
   "cell_type": "code",
   "execution_count": 3,
   "metadata": {},
   "outputs": [],
   "source": [
    "import pyspark\n",
    "from pyspark.sql import SparkSession\n",
    "#spark = SparkSession.builder.master(\"yarn\").appName(\"ch08Joins\").getOrCreate()\n",
    "spark = SparkSession.builder.master(\"local[*]\").appName(\"ch08Joins\").getOrCreate()"
   ]
  },
  {
   "cell_type": "code",
   "execution_count": 4,
   "metadata": {},
   "outputs": [],
   "source": [
    "sc = spark.sparkContext"
   ]
  },
  {
   "cell_type": "code",
   "execution_count": 5,
   "metadata": {},
   "outputs": [],
   "source": [
    "for x in sc._conf.getAll():\n",
    "    if '/proxy/' in x[1]:\n",
    "        print(x[1])"
   ]
  },
  {
   "cell_type": "code",
   "execution_count": 6,
   "metadata": {},
   "outputs": [],
   "source": [
    "person = spark.createDataFrame([\n",
    "    (0, \"Bill Chambers\", 0, [100]),\n",
    "    (1, \"Matei Zaharia\", 1, [500, 250, 100]),\n",
    "    (2, \"Michael Armbrust\", 1, [250, 100])])\\\n",
    "  .toDF(\"id\", \"name\", \"graduate_program\", \"spark_status\")"
   ]
  },
  {
   "cell_type": "code",
   "execution_count": 7,
   "metadata": {},
   "outputs": [
    {
     "name": "stdout",
     "output_type": "stream",
     "text": [
      "+---+----------------+----------------+---------------+\n",
      "|id |name            |graduate_program|spark_status   |\n",
      "+---+----------------+----------------+---------------+\n",
      "|0  |Bill Chambers   |0               |[100]          |\n",
      "|1  |Matei Zaharia   |1               |[500, 250, 100]|\n",
      "|2  |Michael Armbrust|1               |[250, 100]     |\n",
      "+---+----------------+----------------+---------------+\n",
      "\n"
     ]
    }
   ],
   "source": [
    "person.show(5, False)"
   ]
  },
  {
   "cell_type": "code",
   "execution_count": 7,
   "metadata": {},
   "outputs": [],
   "source": [
    "graduateProgram = spark.createDataFrame([\n",
    "    (0, \"Masters\", \"School of Information\", \"UC Berkeley\"),\n",
    "    (2, \"Masters\", \"EECS\", \"UC Berkeley\"),\n",
    "    (1, \"Ph.D.\", \"EECS\", \"UC Berkeley\")])\\\n",
    "  .toDF(\"id\", \"degree\", \"department\", \"school\")"
   ]
  },
  {
   "cell_type": "code",
   "execution_count": 8,
   "metadata": {},
   "outputs": [
    {
     "name": "stdout",
     "output_type": "stream",
     "text": [
      "+---+-------+---------------------+-----------+\n",
      "|id |degree |department           |school     |\n",
      "+---+-------+---------------------+-----------+\n",
      "|0  |Masters|School of Information|UC Berkeley|\n",
      "|2  |Masters|EECS                 |UC Berkeley|\n",
      "|1  |Ph.D.  |EECS                 |UC Berkeley|\n",
      "+---+-------+---------------------+-----------+\n",
      "\n"
     ]
    }
   ],
   "source": [
    "graduateProgram.show(5,False)"
   ]
  },
  {
   "cell_type": "code",
   "execution_count": 9,
   "metadata": {},
   "outputs": [],
   "source": [
    "sparkStatus = spark.createDataFrame([\n",
    "    (500, \"Vice President\"),\n",
    "    (250, \"PMC Member\"),\n",
    "    (100, \"Contributor\")])\\\n",
    "  .toDF(\"id\", \"status\")"
   ]
  },
  {
   "cell_type": "code",
   "execution_count": 10,
   "metadata": {},
   "outputs": [
    {
     "name": "stdout",
     "output_type": "stream",
     "text": [
      "+---+--------------+\n",
      "|id |status        |\n",
      "+---+--------------+\n",
      "|500|Vice President|\n",
      "|250|PMC Member    |\n",
      "|100|Contributor   |\n",
      "+---+--------------+\n",
      "\n"
     ]
    }
   ],
   "source": [
    "sparkStatus.show(5, False)"
   ]
  },
  {
   "cell_type": "code",
   "execution_count": 11,
   "metadata": {},
   "outputs": [],
   "source": [
    "# COMMAND ----------\n",
    "joinExpression = person[\"graduate_program\"] == graduateProgram['id']"
   ]
  },
  {
   "cell_type": "code",
   "execution_count": 12,
   "metadata": {},
   "outputs": [],
   "source": [
    "# COMMAND ----------\n",
    "wrongJoinExpression = person[\"name\"] == graduateProgram[\"school\"]"
   ]
  },
  {
   "cell_type": "code",
   "execution_count": 13,
   "metadata": {},
   "outputs": [
    {
     "name": "stdout",
     "output_type": "stream",
     "text": [
      "+--------+----------------+----------------+---------------+---+-------+---------------------+-----------+\n",
      "|personId|name            |graduate_program|spark_status   |id |degree |department           |school     |\n",
      "+--------+----------------+----------------+---------------+---+-------+---------------------+-----------+\n",
      "|0       |Bill Chambers   |0               |[100]          |0  |Masters|School of Information|UC Berkeley|\n",
      "|1       |Matei Zaharia   |1               |[500, 250, 100]|1  |Ph.D.  |EECS                 |UC Berkeley|\n",
      "|2       |Michael Armbrust|1               |[250, 100]     |1  |Ph.D.  |EECS                 |UC Berkeley|\n",
      "+--------+----------------+----------------+---------------+---+-------+---------------------+-----------+\n",
      "\n"
     ]
    }
   ],
   "source": [
    "# COMMAND ----------\n",
    "joinType = \"inner\"\n",
    "person.withColumnRenamed(\"id\", \"personId\").join(graduateProgram, joinExpression, joinType).show(8, False)"
   ]
  },
  {
   "cell_type": "code",
   "execution_count": 14,
   "metadata": {},
   "outputs": [
    {
     "name": "stdout",
     "output_type": "stream",
     "text": [
      "+--------+----------------+----------------+---------------+---+-------+---------------------+-----------+\n",
      "|personId|name            |graduate_program|spark_status   |id |degree |department           |school     |\n",
      "+--------+----------------+----------------+---------------+---+-------+---------------------+-----------+\n",
      "|0       |Bill Chambers   |0               |[100]          |0  |Masters|School of Information|UC Berkeley|\n",
      "|1       |Matei Zaharia   |1               |[500, 250, 100]|1  |Ph.D.  |EECS                 |UC Berkeley|\n",
      "|2       |Michael Armbrust|1               |[250, 100]     |1  |Ph.D.  |EECS                 |UC Berkeley|\n",
      "+--------+----------------+----------------+---------------+---+-------+---------------------+-----------+\n",
      "\n"
     ]
    }
   ],
   "source": [
    "person.withColumnRenamed(\"id\", \"personId\").join(graduateProgram, joinExpression).show(8, False)\n",
    "#Deafault Join is Inner Join"
   ]
  },
  {
   "cell_type": "code",
   "execution_count": 15,
   "metadata": {},
   "outputs": [
    {
     "name": "stdout",
     "output_type": "stream",
     "text": [
      "+--------+----------------+----------------+---------------+---+-------+---------------------+-----------+\n",
      "|personId|name            |graduate_program|spark_status   |id |degree |department           |school     |\n",
      "+--------+----------------+----------------+---------------+---+-------+---------------------+-----------+\n",
      "|0       |Bill Chambers   |0               |[100]          |0  |Masters|School of Information|UC Berkeley|\n",
      "|1       |Matei Zaharia   |1               |[500, 250, 100]|1  |Ph.D.  |EECS                 |UC Berkeley|\n",
      "|2       |Michael Armbrust|1               |[250, 100]     |1  |Ph.D.  |EECS                 |UC Berkeley|\n",
      "|null    |null            |null            |null           |2  |Masters|EECS                 |UC Berkeley|\n",
      "+--------+----------------+----------------+---------------+---+-------+---------------------+-----------+\n",
      "\n"
     ]
    }
   ],
   "source": [
    "joinType='outer'\n",
    "person.withColumnRenamed(\"id\", \"personId\").join(graduateProgram, joinExpression, joinType).show(8, False)"
   ]
  },
  {
   "cell_type": "code",
   "execution_count": 16,
   "metadata": {},
   "outputs": [
    {
     "name": "stdout",
     "output_type": "stream",
     "text": [
      "+---+-------+---------------------+-----------+--------+----------------+----------------+---------------+\n",
      "|id |degree |department           |school     |personId|name            |graduate_program|spark_status   |\n",
      "+---+-------+---------------------+-----------+--------+----------------+----------------+---------------+\n",
      "|0  |Masters|School of Information|UC Berkeley|0       |Bill Chambers   |0               |[100]          |\n",
      "|1  |Ph.D.  |EECS                 |UC Berkeley|1       |Matei Zaharia   |1               |[500, 250, 100]|\n",
      "|1  |Ph.D.  |EECS                 |UC Berkeley|2       |Michael Armbrust|1               |[250, 100]     |\n",
      "|2  |Masters|EECS                 |UC Berkeley|null    |null            |null            |null           |\n",
      "+---+-------+---------------------+-----------+--------+----------------+----------------+---------------+\n",
      "\n"
     ]
    }
   ],
   "source": [
    "joinType='outer'\n",
    "graduateProgram.join(person.withColumnRenamed(\"id\", \"personId\"), joinExpression, joinType).show(8, False)"
   ]
  },
  {
   "cell_type": "code",
   "execution_count": 17,
   "metadata": {},
   "outputs": [
    {
     "name": "stdout",
     "output_type": "stream",
     "text": [
      "+--------+----------------+----------------+---------------+---+-------+---------------------+-----------+\n",
      "|personId|name            |graduate_program|spark_status   |id |degree |department           |school     |\n",
      "+--------+----------------+----------------+---------------+---+-------+---------------------+-----------+\n",
      "|0       |Bill Chambers   |0               |[100]          |0  |Masters|School of Information|UC Berkeley|\n",
      "|1       |Matei Zaharia   |1               |[500, 250, 100]|1  |Ph.D.  |EECS                 |UC Berkeley|\n",
      "|2       |Michael Armbrust|1               |[250, 100]     |1  |Ph.D.  |EECS                 |UC Berkeley|\n",
      "+--------+----------------+----------------+---------------+---+-------+---------------------+-----------+\n",
      "\n"
     ]
    }
   ],
   "source": [
    "joinType='left_outer'\n",
    "person.withColumnRenamed(\"id\", \"personId\").join(graduateProgram, joinExpression, joinType).show(8, False)"
   ]
  },
  {
   "cell_type": "code",
   "execution_count": 18,
   "metadata": {},
   "outputs": [
    {
     "name": "stdout",
     "output_type": "stream",
     "text": [
      "+---+-------+---------------------+-----------+--------+----------------+----------------+---------------+\n",
      "|id |degree |department           |school     |personId|name            |graduate_program|spark_status   |\n",
      "+---+-------+---------------------+-----------+--------+----------------+----------------+---------------+\n",
      "|0  |Masters|School of Information|UC Berkeley|0       |Bill Chambers   |0               |[100]          |\n",
      "|1  |Ph.D.  |EECS                 |UC Berkeley|1       |Matei Zaharia   |1               |[500, 250, 100]|\n",
      "|1  |Ph.D.  |EECS                 |UC Berkeley|2       |Michael Armbrust|1               |[250, 100]     |\n",
      "|2  |Masters|EECS                 |UC Berkeley|null    |null            |null            |null           |\n",
      "+---+-------+---------------------+-----------+--------+----------------+----------------+---------------+\n",
      "\n"
     ]
    }
   ],
   "source": [
    "joinType='left_outer'\n",
    "graduateProgram.join(person.withColumnRenamed(\"id\", \"personId\"), joinExpression, joinType).show(8, False)"
   ]
  },
  {
   "cell_type": "code",
   "execution_count": 19,
   "metadata": {},
   "outputs": [
    {
     "name": "stdout",
     "output_type": "stream",
     "text": [
      "+--------+----------------+----------------+---------------+---+-------+---------------------+-----------+\n",
      "|personId|name            |graduate_program|spark_status   |id |degree |department           |school     |\n",
      "+--------+----------------+----------------+---------------+---+-------+---------------------+-----------+\n",
      "|0       |Bill Chambers   |0               |[100]          |0  |Masters|School of Information|UC Berkeley|\n",
      "|1       |Matei Zaharia   |1               |[500, 250, 100]|1  |Ph.D.  |EECS                 |UC Berkeley|\n",
      "|2       |Michael Armbrust|1               |[250, 100]     |1  |Ph.D.  |EECS                 |UC Berkeley|\n",
      "|null    |null            |null            |null           |2  |Masters|EECS                 |UC Berkeley|\n",
      "+--------+----------------+----------------+---------------+---+-------+---------------------+-----------+\n",
      "\n"
     ]
    }
   ],
   "source": [
    "joinType='right_outer'\n",
    "person.withColumnRenamed(\"id\", \"personId\").join(graduateProgram, joinExpression, joinType).show(8, False)"
   ]
  },
  {
   "cell_type": "code",
   "execution_count": 20,
   "metadata": {},
   "outputs": [
    {
     "name": "stdout",
     "output_type": "stream",
     "text": [
      "+---+-------+---------------------+-----------+--------+----------------+----------------+---------------+\n",
      "|id |degree |department           |school     |personId|name            |graduate_program|spark_status   |\n",
      "+---+-------+---------------------+-----------+--------+----------------+----------------+---------------+\n",
      "|0  |Masters|School of Information|UC Berkeley|0       |Bill Chambers   |0               |[100]          |\n",
      "|1  |Ph.D.  |EECS                 |UC Berkeley|1       |Matei Zaharia   |1               |[500, 250, 100]|\n",
      "|1  |Ph.D.  |EECS                 |UC Berkeley|2       |Michael Armbrust|1               |[250, 100]     |\n",
      "+---+-------+---------------------+-----------+--------+----------------+----------------+---------------+\n",
      "\n"
     ]
    }
   ],
   "source": [
    "joinType='right_outer'\n",
    "graduateProgram.join(person.withColumnRenamed(\"id\", \"personId\"), joinExpression, joinType).show(8, False)"
   ]
  },
  {
   "cell_type": "code",
   "execution_count": 21,
   "metadata": {},
   "outputs": [],
   "source": [
    "# COMMAND ----------\n",
    "gradProgram2 = graduateProgram.union(\n",
    "    spark.createDataFrame([(0, \"Masters\", \"Duplicated Row\", \"Duplicated School\")]))"
   ]
  },
  {
   "cell_type": "code",
   "execution_count": 22,
   "metadata": {},
   "outputs": [
    {
     "name": "stdout",
     "output_type": "stream",
     "text": [
      "+---+-------+---------------------+-----------------+\n",
      "|id |degree |department           |school           |\n",
      "+---+-------+---------------------+-----------------+\n",
      "|0  |Masters|School of Information|UC Berkeley      |\n",
      "|2  |Masters|EECS                 |UC Berkeley      |\n",
      "|1  |Ph.D.  |EECS                 |UC Berkeley      |\n",
      "|0  |Masters|Duplicated Row       |Duplicated School|\n",
      "+---+-------+---------------------+-----------------+\n",
      "\n"
     ]
    }
   ],
   "source": [
    "gradProgram2.show(5, False)"
   ]
  },
  {
   "cell_type": "code",
   "execution_count": 23,
   "metadata": {},
   "outputs": [
    {
     "name": "stdout",
     "output_type": "stream",
     "text": [
      "+--------+----------------+----------------+---------------+---+--------------+\n",
      "|personId|name            |graduate_program|spark_status   |id |status        |\n",
      "+--------+----------------+----------------+---------------+---+--------------+\n",
      "|0       |Bill Chambers   |0               |[100]          |100|Contributor   |\n",
      "|1       |Matei Zaharia   |1               |[500, 250, 100]|500|Vice President|\n",
      "|1       |Matei Zaharia   |1               |[500, 250, 100]|250|PMC Member    |\n",
      "|1       |Matei Zaharia   |1               |[500, 250, 100]|100|Contributor   |\n",
      "|2       |Michael Armbrust|1               |[250, 100]     |250|PMC Member    |\n",
      "|2       |Michael Armbrust|1               |[250, 100]     |100|Contributor   |\n",
      "+--------+----------------+----------------+---------------+---+--------------+\n",
      "\n"
     ]
    }
   ],
   "source": [
    "# COMMAND ----------\n",
    "from pyspark.sql.functions import expr\n",
    "\n",
    "person.withColumnRenamed(\"id\", \"personId\")\\\n",
    "  .join(sparkStatus, expr(\"array_contains(spark_status, id)\")).show(10, False)"
   ]
  },
  {
   "cell_type": "code",
   "execution_count": 24,
   "metadata": {},
   "outputs": [],
   "source": [
    "gradProgDupe = graduateProgram.withColumnRenamed(\"id\",\"graduate_program\")"
   ]
  },
  {
   "cell_type": "code",
   "execution_count": 25,
   "metadata": {},
   "outputs": [],
   "source": [
    "joinExpression = gradProgDupe[\"graduate_program\"] == person[\"graduate_program\"]"
   ]
  },
  {
   "cell_type": "code",
   "execution_count": 26,
   "metadata": {},
   "outputs": [
    {
     "name": "stdout",
     "output_type": "stream",
     "text": [
      "+----------------+---+----------------+---------------+-------+--------------------+-----------+\n",
      "|graduate_program| id|            name|   spark_status| degree|          department|     school|\n",
      "+----------------+---+----------------+---------------+-------+--------------------+-----------+\n",
      "|               0|  0|   Bill Chambers|          [100]|Masters|School of Informa...|UC Berkeley|\n",
      "|               1|  1|   Matei Zaharia|[500, 250, 100]|  Ph.D.|                EECS|UC Berkeley|\n",
      "|               1|  2|Michael Armbrust|     [250, 100]|  Ph.D.|                EECS|UC Berkeley|\n",
      "+----------------+---+----------------+---------------+-------+--------------------+-----------+\n",
      "\n"
     ]
    }
   ],
   "source": [
    "person.join(gradProgDupe, \"graduate_program\").show()"
   ]
  },
  {
   "cell_type": "code",
   "execution_count": 31,
   "metadata": {},
   "outputs": [],
   "source": [
    "res = person.join(gradProgDupe, joinExpression)"
   ]
  },
  {
   "cell_type": "code",
   "execution_count": 32,
   "metadata": {},
   "outputs": [
    {
     "name": "stdout",
     "output_type": "stream",
     "text": [
      "+---+----------------+----------------+---------------+----------------+-------+--------------------+-----------+\n",
      "| id|            name|graduate_program|   spark_status|graduate_program| degree|          department|     school|\n",
      "+---+----------------+----------------+---------------+----------------+-------+--------------------+-----------+\n",
      "|  0|   Bill Chambers|               0|          [100]|               0|Masters|School of Informa...|UC Berkeley|\n",
      "|  1|   Matei Zaharia|               1|[500, 250, 100]|               1|  Ph.D.|                EECS|UC Berkeley|\n",
      "|  2|Michael Armbrust|               1|     [250, 100]|               1|  Ph.D.|                EECS|UC Berkeley|\n",
      "+---+----------------+----------------+---------------+----------------+-------+--------------------+-----------+\n",
      "\n"
     ]
    }
   ],
   "source": [
    "res.show()"
   ]
  },
  {
   "cell_type": "code",
   "execution_count": 34,
   "metadata": {},
   "outputs": [],
   "source": [
    "# # res.select(\"graduate_program\").show()\n",
    "# #Py4JJavaError: An error occurred while calling o138.select.\n",
    "# : org.apache.spark.sql.AnalysisException: \n",
    "#         Reference 'graduate_program' is ambiguous, could be: graduate_program, graduate_program.;"
   ]
  },
  {
   "cell_type": "code",
   "execution_count": 44,
   "metadata": {},
   "outputs": [],
   "source": [
    "from pyspark.sql.functions import col\n",
    "res1 = person.join(gradProgDupe, joinExpression).drop(gradProgDupe[\"graduate_program\"])"
   ]
  },
  {
   "cell_type": "code",
   "execution_count": 46,
   "metadata": {},
   "outputs": [],
   "source": [
    "res2 = person.join(gradProgDupe, joinExpression).drop(person[\"graduate_program\"])"
   ]
  },
  {
   "cell_type": "code",
   "execution_count": 47,
   "metadata": {},
   "outputs": [
    {
     "name": "stdout",
     "output_type": "stream",
     "text": [
      "+----------------+\n",
      "|graduate_program|\n",
      "+----------------+\n",
      "|               0|\n",
      "|               1|\n",
      "|               1|\n",
      "+----------------+\n",
      "\n",
      "+----------------+\n",
      "|graduate_program|\n",
      "+----------------+\n",
      "|               0|\n",
      "|               1|\n",
      "|               1|\n",
      "+----------------+\n",
      "\n"
     ]
    }
   ],
   "source": [
    "res1.select(\"graduate_program\").show()\n",
    "res2.select(\"graduate_program\").show()"
   ]
  }
 ],
 "metadata": {
  "kernelspec": {
   "display_name": "pyspark-lab",
   "language": "python",
   "name": "pyspark-lab"
  },
  "language_info": {
   "codemirror_mode": {
    "name": "ipython",
    "version": 3
   },
   "file_extension": ".py",
   "mimetype": "text/x-python",
   "name": "python",
   "nbconvert_exporter": "python",
   "pygments_lexer": "ipython3",
   "version": "3.6.4"
  }
 },
 "nbformat": 4,
 "nbformat_minor": 2
}
