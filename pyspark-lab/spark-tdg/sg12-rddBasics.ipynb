{
 "cells": [
  {
   "cell_type": "code",
   "execution_count": 1,
   "metadata": {},
   "outputs": [
    {
     "data": {
      "text/plain": [
       "'/usr/hdp/current/spark2-client'"
      ]
     },
     "execution_count": 1,
     "metadata": {},
     "output_type": "execute_result"
    }
   ],
   "source": [
    "import findspark\n",
    "findspark.init('/usr/hdp/current/spark2-client')\n",
    "#findspark.init()\n",
    "findspark.find()"
   ]
  },
  {
   "cell_type": "code",
   "execution_count": 2,
   "metadata": {
    "collapsed": true
   },
   "outputs": [],
   "source": [
    "import pyspark\n",
    "from pyspark.sql import SparkSession\n",
    "spark = SparkSession.builder.master(\"yarn\").appName(\"sg12-rddBasics\").getOrCreate()\n",
    "#spark = SparkSession.builder.master(\"local[*]\").appName(\"sg12-rddBasics\").getOrCreate()"
   ]
  },
  {
   "cell_type": "code",
   "execution_count": 3,
   "metadata": {
    "collapsed": true
   },
   "outputs": [],
   "source": [
    "sc = spark.sparkContext"
   ]
  },
  {
   "cell_type": "code",
   "execution_count": 4,
   "metadata": {},
   "outputs": [
    {
     "name": "stdout",
     "output_type": "stream",
     "text": [
      "http://rm01.itversity.com:19288/proxy/application_1533622723243_16447\n"
     ]
    }
   ],
   "source": [
    "for x in sc._conf.getAll():\n",
    "    if '/proxy/' in x[1]:\n",
    "        print(x[1])"
   ]
  },
  {
   "cell_type": "code",
   "execution_count": null,
   "metadata": {
    "collapsed": true
   },
   "outputs": [],
   "source": [
    "spark.range(10).rdd\n",
    "\n",
    "\n",
    "# COMMAND ----------\n",
    "\n",
    "spark.range(10).toDF(\"id\").rdd.map(lambda row: row[0])\n",
    "\n",
    "\n",
    "# COMMAND ----------\n",
    "\n",
    "spark.range(10).rdd.toDF()\n",
    "\n",
    "\n",
    "# COMMAND ----------\n",
    "\n",
    "myCollection = \"Spark The Definitive Guide : Big Data Processing Made Simple\"\\\n",
    "  .split(\" \")\n",
    "words = spark.sparkContext.parallelize(myCollection, 2)\n",
    "\n",
    "\n",
    "# COMMAND ----------\n",
    "\n",
    "words.setName(\"myWords\")\n",
    "words.name() # myWords\n",
    "\n",
    "\n",
    "# COMMAND ----------\n",
    "\n",
    "def startsWithS(individual):\n",
    "  return individual.startswith(\"S\")\n",
    "\n",
    "\n",
    "# COMMAND ----------\n",
    "\n",
    "words.filter(lambda word: startsWithS(word)).collect()\n",
    "\n",
    "\n",
    "# COMMAND ----------\n",
    "\n",
    "words2 = words.map(lambda word: (word, word[0], word.startswith(\"S\")))\n",
    "\n",
    "\n",
    "# COMMAND ----------\n",
    "\n",
    "words2.filter(lambda record: record[2]).take(5)\n",
    "\n",
    "\n",
    "# COMMAND ----------\n",
    "\n",
    "words.flatMap(lambda word: list(word)).take(5)\n",
    "\n",
    "\n",
    "# COMMAND ----------\n",
    "\n",
    "words.sortBy(lambda word: len(word) * -1).take(2)\n",
    "\n",
    "\n",
    "# COMMAND ----------\n",
    "\n",
    "fiftyFiftySplit = words.randomSplit([0.5, 0.5])\n",
    "\n",
    "\n",
    "# COMMAND ----------\n",
    "\n",
    "spark.sparkContext.parallelize(range(1, 21)).reduce(lambda x, y: x + y) # 210\n",
    "\n",
    "\n",
    "# COMMAND ----------\n",
    "\n",
    "def wordLengthReducer(leftWord, rightWord):\n",
    "  if len(leftWord) > len(rightWord):\n",
    "    return leftWord\n",
    "  else:\n",
    "    return rightWord\n",
    "\n",
    "words.reduce(wordLengthReducer)\n",
    "\n",
    "\n",
    "# COMMAND ----------\n",
    "\n",
    "words.getStorageLevel()\n",
    "\n",
    "\n",
    "# COMMAND ----------\n",
    "\n",
    "words.mapPartitions(lambda part: [1]).sum() # 2\n",
    "\n",
    "\n",
    "# COMMAND ----------\n",
    "\n",
    "def indexedFunc(partitionIndex, withinPartIterator):\n",
    "  return [\"partition: {} => {}\".format(partitionIndex,\n",
    "    x) for x in withinPartIterator]\n",
    "words.mapPartitionsWithIndex(indexedFunc).collect()\n",
    "\n",
    "\n",
    "# COMMAND ----------\n",
    "\n",
    "spark.sparkContext.parallelize([\"Hello\", \"World\"], 2).glom().collect()\n",
    "# [['Hello'], ['World']]\n",
    "\n",
    "\n",
    "# COMMAND ----------\n",
    "\n"
   ]
  }
 ],
 "metadata": {
  "kernelspec": {
   "display_name": "pyspark2.7_home",
   "language": "python",
   "name": "pyspark2.7_home"
  },
  "language_info": {
   "codemirror_mode": {
    "name": "ipython",
    "version": 2
   },
   "file_extension": ".py",
   "mimetype": "text/x-python",
   "name": "python",
   "nbconvert_exporter": "python",
   "pygments_lexer": "ipython2",
   "version": "2.7.5"
  }
 },
 "nbformat": 4,
 "nbformat_minor": 2
}
