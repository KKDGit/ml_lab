{
 "cells": [
  {
   "cell_type": "code",
   "execution_count": 1,
   "metadata": {},
   "outputs": [
    {
     "data": {
      "text/plain": [
       "['',\n",
       " '/opt/anaconda/envs/py2/lib/python27.zip',\n",
       " '/opt/anaconda/envs/py2/lib/python2.7',\n",
       " '/opt/anaconda/envs/py2/lib/python2.7/plat-linux2',\n",
       " '/opt/anaconda/envs/py2/lib/python2.7/lib-tk',\n",
       " '/opt/anaconda/envs/py2/lib/python2.7/lib-old',\n",
       " '/opt/anaconda/envs/py2/lib/python2.7/lib-dynload',\n",
       " '/home/kranthidr/.local/lib/python2.7/site-packages',\n",
       " '/opt/anaconda/envs/py2/lib/python2.7/site-packages',\n",
       " '/opt/anaconda/envs/py2/lib/python2.7/site-packages/Sphinx-1.5.6-py2.7.egg',\n",
       " '/opt/anaconda/envs/py2/lib/python2.7/site-packages/setuptools-27.2.0-py2.7.egg',\n",
       " '/opt/anaconda/envs/py2/lib/python2.7/site-packages/IPython/extensions',\n",
       " '/home/kranthidr/.ipython']"
      ]
     },
     "execution_count": 1,
     "metadata": {},
     "output_type": "execute_result"
    }
   ],
   "source": [
    "import sys\n",
    "import os\n",
    "sys.path"
   ]
  },
  {
   "cell_type": "code",
   "execution_count": 2,
   "metadata": {
    "collapsed": true
   },
   "outputs": [],
   "source": [
    "# [(u'spark.history.kerberos.keytab', u'none'), \n",
    "#  (u'spark.dynamicAllocation.maxExecutors', u'4'), \n",
    "#  (u'spark.eventLog.enabled', u'true'), \n",
    "#  (u'spark.driver.appUIAddress', u'http://gw02.itversity.com:4041'), \n",
    "#  (u'spark.history.ui.port', u'18081'), \n",
    "#  (u'spark.driver.extraLibraryPath', \n",
    "#   u'/usr/hdp/current/hadoop-client/lib/native:/usr/hdp/current/hadoop-client/lib/native/Linux-amd64-64'), \n",
    "#  (u'spark.executor.extraLibraryPath', \n",
    "#   u'/usr/hdp/current/hadoop-client/lib/native:/usr/hdp/current/hadoop-client/lib/native/Linux-amd64-64'), \n",
    "#  (u'spark.history.provider', u'org.apache.spark.deploy.history.FsHistoryProvider'), \n",
    "#  (u'spark.org.apache.hadoop.yarn.server.webproxy.amfilter.AmIpFilter.param.PROXY_HOSTS', u'rm01.itversity.com'), \n",
    "#  (u'spark.serializer.objectStreamReset', u'100'), \n",
    "#  (u'spark.submit.deployMode', u'client'), \n",
    "#  (u'spark.app.id', u'application_1533622723243_11645'), \n",
    "#  (u'spark.ui.filters', u'org.apache.hadoop.yarn.server.webproxy.amfilter.AmIpFilter'), \n",
    "#  (u'spark.eventLog.dir', u'hdfs:///spark2-history/'), \n",
    "#  (u'spark.yarn.historyServer.address', u'gw03.itversity.com:18081'), \n",
    "#  (u'spark.shuffle.service.enabled', u'true'), \n",
    "#  (u'spark.yarn.queue', u'default'), \n",
    "#  (u'spark.executor.id', u'driver'), \n",
    "#  (u'spark.dynamicAllocation.executorIdleTimeout', u'10'), \n",
    "#  (u'spark.driver.host', u'gw02.itversity.com'), \n",
    "#  (u'spark.app.name', u'PySparkShell'), \n",
    "#  (u'spark.executorEnv.PYTHONPATH', \n",
    "#   u'/usr/hdp/current/spark2-client/python/lib/py4j-0.10.6-src.zip:/usr/hdp/current/spark2-client/python/:\n",
    "#   <CPS>{{PWD}}/pyspark.zip<CPS>{{PWD}}/py4j-0.10.6-src.zip'), \n",
    "#   (u'spark.history.fs.logDirectory', u'hdfs:///spark2-history/'), \n",
    "#   (u'spark.master', u'yarn'), \n",
    "#   (u'spark.sql.catalogImplementation', u'hive'), \n",
    "#   (u'spark.history.kerberos.principal', u'none'), \n",
    "#   (u'spark.rdd.compress', u'True'), \n",
    "#   (u'spark.org.apache.hadoop.yarn.server.webproxy.amfilter.AmIpFilter.param.PROXY_URI_BASES', \n",
    "#    u'http://rm01.itversity.com:19288/proxy/application_1533622723243_11645'), \n",
    "#   (u'spark.driver.port', u'45705'), (u'spark.dynamicAllocation.minExecutors', u'0'), \n",
    "#   (u'spark.yarn.isPython', u'true'), (u'spark.dynamicAllocation.enabled', u'true'), \n",
    "#   (u'spark.dynamicAllocation.initialExecutors', u'0'), (u'spark.ui.showConsoleProgress', u'true')]\n"
   ]
  },
  {
   "cell_type": "code",
   "execution_count": 3,
   "metadata": {
    "collapsed": true
   },
   "outputs": [],
   "source": [
    "sys.path.append('/usr/lib/python2.7/site-packages')"
   ]
  },
  {
   "cell_type": "code",
   "execution_count": 4,
   "metadata": {},
   "outputs": [
    {
     "data": {
      "text/plain": [
       "'/usr/hdp/current/spark2-client'"
      ]
     },
     "execution_count": 4,
     "metadata": {},
     "output_type": "execute_result"
    }
   ],
   "source": [
    "import findspark\n",
    "findspark.init('/usr/hdp/current/spark2-client')\n",
    "findspark.find()"
   ]
  },
  {
   "cell_type": "code",
   "execution_count": 5,
   "metadata": {
    "collapsed": true
   },
   "outputs": [],
   "source": [
    "import pyspark\n",
    "from pyspark.sql import SparkSession"
   ]
  },
  {
   "cell_type": "code",
   "execution_count": 6,
   "metadata": {
    "collapsed": true
   },
   "outputs": [],
   "source": [
    "spark = SparkSession.builder.master(\"local[*]\").appName(\"sparkLocal-python2\").getOrCreate()"
   ]
  },
  {
   "cell_type": "code",
   "execution_count": 7,
   "metadata": {},
   "outputs": [
    {
     "data": {
      "text/plain": [
       "[(u'spark.history.kerberos.keytab', u'none'),\n",
       " (u'spark.dynamicAllocation.maxExecutors', u'4'),\n",
       " (u'spark.eventLog.enabled', u'true'),\n",
       " (u'spark.app.name', u'sparkLocal-python2'),\n",
       " (u'spark.shuffle.service.enabled', u'true'),\n",
       " (u'spark.history.ui.port', u'18081'),\n",
       " (u'spark.driver.extraLibraryPath',\n",
       "  u'/usr/hdp/current/hadoop-client/lib/native:/usr/hdp/current/hadoop-client/lib/native/Linux-amd64-64'),\n",
       " (u'spark.yarn.queue', u'default'),\n",
       " (u'spark.executor.id', u'driver'),\n",
       " (u'spark.dynamicAllocation.executorIdleTimeout', u'10'),\n",
       " (u'spark.driver.host', u'gw02.itversity.com'),\n",
       " (u'spark.executor.extraLibraryPath',\n",
       "  u'/usr/hdp/current/hadoop-client/lib/native:/usr/hdp/current/hadoop-client/lib/native/Linux-amd64-64'),\n",
       " (u'spark.history.fs.logDirectory', u'hdfs:///spark2-history/'),\n",
       " (u'spark.driver.port', u'35344'),\n",
       " (u'spark.history.kerberos.principal', u'none'),\n",
       " (u'spark.rdd.compress', u'True'),\n",
       " (u'spark.history.provider',\n",
       "  u'org.apache.spark.deploy.history.FsHistoryProvider'),\n",
       " (u'spark.serializer.objectStreamReset', u'100'),\n",
       " (u'spark.dynamicAllocation.minExecutors', u'0'),\n",
       " (u'spark.master', u'local[*]'),\n",
       " (u'spark.submit.deployMode', u'client'),\n",
       " (u'spark.app.id', u'local-1535609452550'),\n",
       " (u'spark.dynamicAllocation.enabled', u'true'),\n",
       " (u'spark.dynamicAllocation.initialExecutors', u'0'),\n",
       " (u'spark.ui.showConsoleProgress', u'true'),\n",
       " (u'spark.eventLog.dir', u'hdfs:///spark2-history/'),\n",
       " (u'spark.yarn.historyServer.address', u'gw03.itversity.com:18081')]"
      ]
     },
     "execution_count": 7,
     "metadata": {},
     "output_type": "execute_result"
    }
   ],
   "source": [
    "spark.sparkContext._conf.getAll()"
   ]
  },
  {
   "cell_type": "code",
   "execution_count": 8,
   "metadata": {},
   "outputs": [
    {
     "data": {
      "text/html": [
       "\n",
       "            <div>\n",
       "                <p><b>SparkSession - in-memory</b></p>\n",
       "                \n",
       "        <div>\n",
       "            <p><b>SparkContext</b></p>\n",
       "\n",
       "            <p><a href=\"http://gw02.itversity.com:4040\">Spark UI</a></p>\n",
       "\n",
       "            <dl>\n",
       "              <dt>Version</dt>\n",
       "                <dd><code>v2.3.0.2.6.5.0-292</code></dd>\n",
       "              <dt>Master</dt>\n",
       "                <dd><code>local[*]</code></dd>\n",
       "              <dt>AppName</dt>\n",
       "                <dd><code>sparkLocal-python2</code></dd>\n",
       "            </dl>\n",
       "        </div>\n",
       "        \n",
       "            </div>\n",
       "        "
      ],
      "text/plain": [
       "<pyspark.sql.session.SparkSession at 0x697b1afe8c10>"
      ]
     },
     "execution_count": 8,
     "metadata": {},
     "output_type": "execute_result"
    }
   ],
   "source": [
    "spark"
   ]
  },
  {
   "cell_type": "code",
   "execution_count": 9,
   "metadata": {
    "collapsed": true
   },
   "outputs": [],
   "source": [
    "from pyspark.sql import Row"
   ]
  },
  {
   "cell_type": "code",
   "execution_count": 10,
   "metadata": {
    "collapsed": true
   },
   "outputs": [],
   "source": [
    "rdd = spark.sparkContext.parallelize([Row(\"1\"), Row(\"2\"), Row(\"3\")])"
   ]
  },
  {
   "cell_type": "code",
   "execution_count": 11,
   "metadata": {},
   "outputs": [
    {
     "data": {
      "text/plain": [
       "[<Row(1)>, <Row(2)>, <Row(3)>]"
      ]
     },
     "execution_count": 11,
     "metadata": {},
     "output_type": "execute_result"
    }
   ],
   "source": [
    "rdd.collect()"
   ]
  },
  {
   "cell_type": "code",
   "execution_count": 12,
   "metadata": {},
   "outputs": [
    {
     "name": "stdout",
     "output_type": "stream",
     "text": [
      "root\n",
      " |-- _1: string (nullable = true)\n",
      "\n",
      "None\n",
      "+---+\n",
      "| _1|\n",
      "+---+\n",
      "|  1|\n",
      "|  2|\n",
      "|  3|\n",
      "+---+\n",
      "\n"
     ]
    }
   ],
   "source": [
    "# Yarn Mode problem here\n",
    "rddDF = rdd.toDF()\n",
    "print(rddDF.printSchema())\n",
    "rddDF.show()"
   ]
  },
  {
   "cell_type": "code",
   "execution_count": null,
   "metadata": {
    "collapsed": true
   },
   "outputs": [],
   "source": []
  }
 ],
 "metadata": {
  "kernelspec": {
   "display_name": "Python 2",
   "language": "python",
   "name": "python2"
  },
  "language_info": {
   "codemirror_mode": {
    "name": "ipython",
    "version": 2
   },
   "file_extension": ".py",
   "mimetype": "text/x-python",
   "name": "python",
   "nbconvert_exporter": "python",
   "pygments_lexer": "ipython2",
   "version": "2.7.13"
  }
 },
 "nbformat": 4,
 "nbformat_minor": 2
}
