{
 "cells": [
  {
   "cell_type": "code",
   "execution_count": 1,
   "metadata": {},
   "outputs": [],
   "source": [
    "import platform,os\n",
    "os_name = platform.system()\n",
    "hdfs_home = \"/user/\" + os.getenv(\"HOME\").split(\"/\")[2]"
   ]
  },
  {
   "cell_type": "code",
   "execution_count": 2,
   "metadata": {},
   "outputs": [
    {
     "name": "stdout",
     "output_type": "stream",
     "text": [
      "/user/kranthidr5051\n",
      "Linux\n"
     ]
    }
   ],
   "source": [
    "print(hdfs_home)\n",
    "print(os_name)"
   ]
  },
  {
   "cell_type": "code",
   "execution_count": 3,
   "metadata": {},
   "outputs": [],
   "source": [
    "path = hdfs_home+\"/dataSets/spark-guide/activity-data/\""
   ]
  },
  {
   "cell_type": "code",
   "execution_count": 4,
   "metadata": {},
   "outputs": [],
   "source": [
    "spark_home = \"/usr/hdp/current/spark2-client\""
   ]
  },
  {
   "cell_type": "code",
   "execution_count": 5,
   "metadata": {},
   "outputs": [
    {
     "data": {
      "text/plain": [
       "'/usr/hdp/current/spark2-client'"
      ]
     },
     "execution_count": 5,
     "metadata": {},
     "output_type": "execute_result"
    }
   ],
   "source": [
    "import findspark\n",
    "findspark.init(spark_home)\n",
    "#findspark.init()\n",
    "findspark.find()"
   ]
  },
  {
   "cell_type": "code",
   "execution_count": 6,
   "metadata": {},
   "outputs": [],
   "source": [
    "import pyspark\n",
    "from pyspark.sql import SparkSession\n",
    "spark = SparkSession.builder.master(\"yarn\").appName(\"sg21-streamingBasics\").getOrCreate()\n",
    "#spark = SparkSession.builder.master(\"local[*]\").appName(\"sg21-streamingBasics\").getOrCreate()"
   ]
  },
  {
   "cell_type": "code",
   "execution_count": 7,
   "metadata": {},
   "outputs": [],
   "source": [
    "sc = spark.sparkContext"
   ]
  },
  {
   "cell_type": "code",
   "execution_count": 8,
   "metadata": {},
   "outputs": [
    {
     "name": "stdout",
     "output_type": "stream",
     "text": [
      "http://ip-172-31-35-141.ec2.internal:8088/proxy/application_1534772926501_6717\n"
     ]
    }
   ],
   "source": [
    "for x in sc._conf.getAll():\n",
    "    if '/proxy/' in x[1]:\n",
    "        print(x[1])"
   ]
  },
  {
   "cell_type": "code",
   "execution_count": 9,
   "metadata": {},
   "outputs": [],
   "source": [
    "static = spark.read.json(path).cache()\n",
    "dataSchema = static.schema"
   ]
  },
  {
   "cell_type": "code",
   "execution_count": 10,
   "metadata": {},
   "outputs": [
    {
     "data": {
      "text/plain": [
       "12"
      ]
     },
     "execution_count": 10,
     "metadata": {},
     "output_type": "execute_result"
    }
   ],
   "source": [
    "static.rdd.getNumPartitions()"
   ]
  },
  {
   "cell_type": "code",
   "execution_count": 11,
   "metadata": {},
   "outputs": [
    {
     "name": "stdout",
     "output_type": "stream",
     "text": [
      "+-------------+-------------------+--------+-----+------+----+-----+------------+------------+------------+\n",
      "|Arrival_Time |Creation_Time      |Device  |Index|Model |User|gt   |x           |y           |z           |\n",
      "+-------------+-------------------+--------+-----+------+----+-----+------------+------------+------------+\n",
      "|1424686735090|1424686733090638193|nexus4_1|18   |nexus4|g   |stand|3.356934E-4 |-5.645752E-4|-0.018814087|\n",
      "|1424686735292|1424688581345918092|nexus4_2|66   |nexus4|g   |stand|-0.005722046|0.029083252 |0.005569458 |\n",
      "|1424686735500|1424686733498505625|nexus4_1|99   |nexus4|g   |stand|0.0078125   |-0.017654419|0.010025024 |\n",
      "|1424686735691|1424688581745026978|nexus4_2|145  |nexus4|g   |stand|-3.814697E-4|0.0184021   |-0.013656616|\n",
      "|1424686735890|1424688581945252808|nexus4_2|185  |nexus4|g   |stand|-3.814697E-4|-0.031799316|-0.00831604 |\n",
      "|1424686736094|1424686734097840342|nexus4_1|218  |nexus4|g   |stand|-7.324219E-4|-0.013381958|0.01109314  |\n",
      "|1424686736294|1424688582347932252|nexus4_2|265  |nexus4|g   |stand|-0.005722046|0.015197754 |0.022659302 |\n",
      "|1424686736495|1424688582549592408|nexus4_2|305  |nexus4|g   |stand|-3.814697E-4|0.0087890625|0.0034332275|\n",
      "|1424686736697|1424688582750703248|nexus4_2|345  |nexus4|g   |stand|0.002822876 |-0.008300781|-0.015792847|\n",
      "|1424686736898|1424688582952241334|nexus4_2|385  |nexus4|g   |stand|6.866455E-4 |-0.008300781|0.004501343 |\n",
      "+-------------+-------------------+--------+-----+------+----+-----+------------+------------+------------+\n",
      "only showing top 10 rows\n",
      "\n"
     ]
    }
   ],
   "source": [
    "static.show(10,False)"
   ]
  },
  {
   "cell_type": "code",
   "execution_count": 12,
   "metadata": {},
   "outputs": [
    {
     "name": "stdout",
     "output_type": "stream",
     "text": [
      "root\n",
      " |-- Arrival_Time: long (nullable = true)\n",
      " |-- Creation_Time: long (nullable = true)\n",
      " |-- Device: string (nullable = true)\n",
      " |-- Index: long (nullable = true)\n",
      " |-- Model: string (nullable = true)\n",
      " |-- User: string (nullable = true)\n",
      " |-- gt: string (nullable = true)\n",
      " |-- x: double (nullable = true)\n",
      " |-- y: double (nullable = true)\n",
      " |-- z: double (nullable = true)\n",
      "\n"
     ]
    }
   ],
   "source": [
    "static.printSchema()"
   ]
  },
  {
   "cell_type": "code",
   "execution_count": 13,
   "metadata": {},
   "outputs": [
    {
     "name": "stdout",
     "output_type": "stream",
     "text": [
      "+----+------+\n",
      "|User| count|\n",
      "+----+------+\n",
      "|   g|733387|\n",
      "|   f|736442|\n",
      "|   e|768182|\n",
      "|   h|618617|\n",
      "|   d|649961|\n",
      "|   c|617237|\n",
      "|   i|740429|\n",
      "|   b|729907|\n",
      "|   a|646829|\n",
      "+----+------+\n",
      "\n"
     ]
    }
   ],
   "source": [
    "static.groupby(\"User\").count().show()"
   ]
  },
  {
   "cell_type": "code",
   "execution_count": 14,
   "metadata": {},
   "outputs": [
    {
     "name": "stdout",
     "output_type": "stream",
     "text": [
      "+--------+-------+\n",
      "|  Device|  count|\n",
      "+--------+-------+\n",
      "|nexus4_1|3091811|\n",
      "|nexus4_2|3149180|\n",
      "+--------+-------+\n",
      "\n"
     ]
    }
   ],
   "source": [
    "static.groupby(\"Device\").count().show()"
   ]
  },
  {
   "cell_type": "code",
   "execution_count": 15,
   "metadata": {},
   "outputs": [
    {
     "name": "stdout",
     "output_type": "stream",
     "text": [
      "+------+-------+\n",
      "| Model|  count|\n",
      "+------+-------+\n",
      "|nexus4|6240991|\n",
      "+------+-------+\n",
      "\n"
     ]
    }
   ],
   "source": [
    "static.groupby(\"Model\").count().show()"
   ]
  },
  {
   "cell_type": "code",
   "execution_count": 16,
   "metadata": {},
   "outputs": [
    {
     "data": {
      "text/plain": [
       "u'false'"
      ]
     },
     "execution_count": 16,
     "metadata": {},
     "output_type": "execute_result"
    }
   ],
   "source": [
    "spark.conf.get(\"spark.sql.streaming.schemaInference\")"
   ]
  },
  {
   "cell_type": "code",
   "execution_count": 17,
   "metadata": {},
   "outputs": [
    {
     "data": {
      "text/plain": [
       "u'200'"
      ]
     },
     "execution_count": 17,
     "metadata": {},
     "output_type": "execute_result"
    }
   ],
   "source": [
    "spark.conf.get(\"spark.sql.shuffle.partitions\")"
   ]
  },
  {
   "cell_type": "code",
   "execution_count": 18,
   "metadata": {},
   "outputs": [],
   "source": [
    "spark.conf.set(\"spark.sql.streaming.schemaInference\", \"true\")\n",
    "spark.conf.set(\"spark.sql.shuffle.partitions\", \"8\")"
   ]
  },
  {
   "cell_type": "code",
   "execution_count": 19,
   "metadata": {},
   "outputs": [
    {
     "data": {
      "text/plain": [
       "u'8'"
      ]
     },
     "execution_count": 19,
     "metadata": {},
     "output_type": "execute_result"
    }
   ],
   "source": [
    "spark.conf.get(\"spark.sql.shuffle.partitions\")"
   ]
  },
  {
   "cell_type": "code",
   "execution_count": 20,
   "metadata": {},
   "outputs": [
    {
     "data": {
      "text/plain": [
       "u'true'"
      ]
     },
     "execution_count": 20,
     "metadata": {},
     "output_type": "execute_result"
    }
   ],
   "source": [
    "spark.conf.get(\"spark.sql.streaming.schemaInference\")"
   ]
  },
  {
   "cell_type": "code",
   "execution_count": 21,
   "metadata": {},
   "outputs": [],
   "source": [
    "# COMMAND ----------\n",
    "#streaming = spark.readStream.schema(dataSchema).option(\"maxFilesPerTrigger\", 1).json(path)\n",
    "streaming = spark.readStream.option(\"maxFilesPerTrigger\", 1).json(path)"
   ]
  },
  {
   "cell_type": "code",
   "execution_count": 22,
   "metadata": {},
   "outputs": [],
   "source": [
    "# COMMAND ----------\n",
    "activityCounts = streaming.groupBy(\"gt\").count()"
   ]
  },
  {
   "cell_type": "code",
   "execution_count": 23,
   "metadata": {},
   "outputs": [],
   "source": [
    "# COMMAND ----------\n",
    "activityQuery = activityCounts.writeStream.queryName(\"activity_counts\")\\\n",
    "  .format(\"memory\").outputMode(\"complete\")\\\n",
    "  .start()"
   ]
  },
  {
   "cell_type": "code",
   "execution_count": 24,
   "metadata": {},
   "outputs": [
    {
     "name": "stdout",
     "output_type": "stream",
     "text": [
      "+---+-----+\n",
      "| gt|count|\n",
      "+---+-----+\n",
      "+---+-----+\n",
      "\n",
      "+----------+-----+\n",
      "|        gt|count|\n",
      "+----------+-----+\n",
      "|      bike|53984|\n",
      "|      null|52239|\n",
      "|  stairsup|52260|\n",
      "|     stand|56924|\n",
      "|       sit|61547|\n",
      "|      walk|66280|\n",
      "|stairsdown|46825|\n",
      "+----------+-----+\n",
      "\n",
      "+----------+------+\n",
      "|        gt| count|\n",
      "+----------+------+\n",
      "|      bike|140370|\n",
      "|      null|135827|\n",
      "|  stairsup|135888|\n",
      "|     stand|148005|\n",
      "|       sit|160006|\n",
      "|      walk|172327|\n",
      "|stairsdown|121732|\n",
      "+----------+------+\n",
      "\n"
     ]
    }
   ],
   "source": [
    "# COMMAND ----------\n",
    "from time import sleep\n",
    "for x in range(3):\n",
    "    spark.sql(\"SELECT * FROM activity_counts\").show()\n",
    "    sleep(5)"
   ]
  },
  {
   "cell_type": "code",
   "execution_count": 25,
   "metadata": {},
   "outputs": [
    {
     "name": "stdout",
     "output_type": "stream",
     "text": [
      "+----------+-------+\n",
      "|        gt|  count|\n",
      "+----------+-------+\n",
      "|      bike| 863710|\n",
      "|      null| 835725|\n",
      "|  stairsup| 836598|\n",
      "|     stand| 910783|\n",
      "|       sit| 984714|\n",
      "|      walk|1060402|\n",
      "|stairsdown| 749059|\n",
      "+----------+-------+\n",
      "\n"
     ]
    }
   ],
   "source": [
    "static.groupby(\"gt\").count().show()"
   ]
  },
  {
   "cell_type": "code",
   "execution_count": 26,
   "metadata": {},
   "outputs": [],
   "source": [
    "# COMMAND ----------\n",
    "from pyspark.sql.functions import expr\n",
    "simpleTransform = streaming.withColumn(\"stairs\", expr(\"gt like '%stairs%'\"))\\\n",
    "  .where(\"stairs\")\\\n",
    "  .where(\"gt is not null\")\\\n",
    "  .select(\"gt\", \"model\", \"arrival_time\", \"creation_time\")\\\n",
    "  .writeStream\\\n",
    "  .queryName(\"simple_transform\")\\\n",
    "  .format(\"memory\")\\\n",
    "  .outputMode(\"append\")\\\n",
    "  .start()"
   ]
  },
  {
   "cell_type": "code",
   "execution_count": 27,
   "metadata": {},
   "outputs": [
    {
     "name": "stdout",
     "output_type": "stream",
     "text": [
      "+---+-----+------------+-------------+\n",
      "| gt|model|arrival_time|creation_time|\n",
      "+---+-----+------------+-------------+\n",
      "+---+-----+------------+-------------+\n",
      "\n",
      "+--------+------+-------------+-------------------+\n",
      "|      gt| model| arrival_time|      creation_time|\n",
      "+--------+------+-------------+-------------------+\n",
      "|stairsup|nexus4|1424687983719|1424687981726802718|\n",
      "|stairsup|nexus4|1424687984000|1424687982009853255|\n",
      "|stairsup|nexus4|1424687984404|1424687982411977009|\n",
      "|stairsup|nexus4|1424687984805|1424687982814351277|\n",
      "|stairsup|nexus4|1424687985210|1424687983217500861|\n",
      "+--------+------+-------------+-------------------+\n",
      "only showing top 5 rows\n",
      "\n",
      "+--------+------+-------------+-------------------+\n",
      "|      gt| model| arrival_time|      creation_time|\n",
      "+--------+------+-------------+-------------------+\n",
      "|stairsup|nexus4|1424687983719|1424687981726802718|\n",
      "|stairsup|nexus4|1424687984000|1424687982009853255|\n",
      "|stairsup|nexus4|1424687984404|1424687982411977009|\n",
      "|stairsup|nexus4|1424687984805|1424687982814351277|\n",
      "|stairsup|nexus4|1424687985210|1424687983217500861|\n",
      "+--------+------+-------------+-------------------+\n",
      "only showing top 5 rows\n",
      "\n"
     ]
    }
   ],
   "source": [
    "for x in range(3):\n",
    "    spark.sql(\"SELECT * FROM simple_transform\").show(5)\n",
    "    sleep(5)"
   ]
  },
  {
   "cell_type": "code",
   "execution_count": 28,
   "metadata": {},
   "outputs": [
    {
     "data": {
      "text/plain": [
       "[<pyspark.sql.streaming.StreamingQuery at 0x7fbb0e5a4dd0>,\n",
       " <pyspark.sql.streaming.StreamingQuery at 0x7fbb0e6fe8d0>]"
      ]
     },
     "execution_count": 28,
     "metadata": {},
     "output_type": "execute_result"
    }
   ],
   "source": [
    "spark.streams.active"
   ]
  },
  {
   "cell_type": "code",
   "execution_count": 29,
   "metadata": {},
   "outputs": [],
   "source": [
    "# COMMAND ----------\n",
    "deviceModelStats = streaming.cube(\"gt\", \"model\").avg()\\\n",
    "  .drop(\"avg(Arrival_time)\")\\\n",
    "  .drop(\"avg(Creation_Time)\")\\\n",
    "  .drop(\"avg(Index)\")\\\n",
    "  .writeStream.queryName(\"device_counts\").format(\"memory\")\\\n",
    "  .outputMode(\"complete\")\\\n",
    "  .start()"
   ]
  },
  {
   "cell_type": "code",
   "execution_count": 30,
   "metadata": {},
   "outputs": [
    {
     "name": "stdout",
     "output_type": "stream",
     "text": [
      "+---+-----+------+------+------+\n",
      "| gt|model|avg(x)|avg(y)|avg(z)|\n",
      "+---+-----+------+------+------+\n",
      "+---+-----+------+------+------+\n",
      "\n",
      "+--------+------+--------------------+--------------------+--------------------+\n",
      "|      gt| model|              avg(x)|              avg(y)|              avg(z)|\n",
      "+--------+------+--------------------+--------------------+--------------------+\n",
      "|    null|nexus4|0.002921030154575719|-0.00836616384160...|-0.00897552622204...|\n",
      "|    walk|  null|0.001970352086338262| 7.48966684595554E-5|-0.00149828380428...|\n",
      "|stairsup|  null|-0.02623301318863349|-0.01385931765291...|-0.09395009728019485|\n",
      "|stairsup|nexus4|-0.02623301318863349|-0.01385931765291...|-0.09395009728019485|\n",
      "|    bike|nexus4| 0.02351254447093367|-0.01304747996973...|-0.08360475809007034|\n",
      "+--------+------+--------------------+--------------------+--------------------+\n",
      "only showing top 5 rows\n",
      "\n",
      "+--------+------+--------------------+--------------------+--------------------+\n",
      "|      gt| model|              avg(x)|              avg(y)|              avg(z)|\n",
      "+--------+------+--------------------+--------------------+--------------------+\n",
      "|    null|nexus4|0.001116290402170...|-0.00657669929797...|-0.00918707169429701|\n",
      "|stairsup|  null|-0.02442588571617778|-0.01150252324103...|-0.09947070802664441|\n",
      "|    walk|  null|-0.00371092404649...|0.003353258755646498|0.001107451361787122|\n",
      "|stairsup|nexus4|-0.02442588571617778|-0.01150252324103...|-0.09947070802664441|\n",
      "|    bike|nexus4| 0.02096106490343163|-0.00915222693840...|-0.08538726699652678|\n",
      "+--------+------+--------------------+--------------------+--------------------+\n",
      "only showing top 5 rows\n",
      "\n"
     ]
    }
   ],
   "source": [
    "for x in range(3):\n",
    "    spark.sql(\"SELECT * FROM device_counts\").show(5)\n",
    "    sleep(5)"
   ]
  },
  {
   "cell_type": "code",
   "execution_count": 31,
   "metadata": {},
   "outputs": [],
   "source": [
    "# COMMAND ----------\n",
    "\n",
    "historicalAgg = static.groupBy(\"gt\", \"model\").avg()"
   ]
  },
  {
   "cell_type": "code",
   "execution_count": 32,
   "metadata": {},
   "outputs": [],
   "source": [
    "deviceModelStats = streaming.drop(\"Arrival_Time\", \"Creation_Time\", \"Index\")\\\n",
    "  .cube(\"gt\", \"model\").avg()\\\n",
    "  .join(historicalAgg, [\"gt\", \"model\"])\\\n",
    "  .writeStream.queryName(\"device_counts1\").format(\"memory\")\\\n",
    "  .outputMode(\"complete\")\\\n",
    "  .start()"
   ]
  },
  {
   "cell_type": "code",
   "execution_count": 33,
   "metadata": {},
   "outputs": [
    {
     "name": "stdout",
     "output_type": "stream",
     "text": [
      "+---+-----+------+------+------+-----------------+------------------+----------+------+------+------+\n",
      "| gt|model|avg(x)|avg(y)|avg(z)|avg(Arrival_Time)|avg(Creation_Time)|avg(Index)|avg(x)|avg(y)|avg(z)|\n",
      "+---+-----+------+------+------+-----------------+------------------+----------+------+------+------+\n",
      "+---+-----+------+------+------+-----------------+------------------+----------+------+------+------+\n",
      "\n",
      "+---+-----+------+------+------+-----------------+------------------+----------+------+------+------+\n",
      "| gt|model|avg(x)|avg(y)|avg(z)|avg(Arrival_Time)|avg(Creation_Time)|avg(Index)|avg(x)|avg(y)|avg(z)|\n",
      "+---+-----+------+------+------+-----------------+------------------+----------+------+------+------+\n",
      "+---+-----+------+------+------+-----------------+------------------+----------+------+------+------+\n",
      "\n",
      "+--------+------+--------------------+--------------------+--------------------+--------------------+--------------------+------------------+--------------------+--------------------+--------------------+\n",
      "|      gt| model|              avg(x)|              avg(y)|              avg(z)|   avg(Arrival_Time)|  avg(Creation_Time)|        avg(Index)|              avg(x)|              avg(y)|              avg(z)|\n",
      "+--------+------+--------------------+--------------------+--------------------+--------------------+--------------------+------------------+--------------------+--------------------+--------------------+\n",
      "|stairsup|nexus4|-0.02623301318863349|-0.01385931765291...|-0.09395009728019485|1.424745996101163E12|1.424746915892737...|227912.96550673083|-0.02479965287771...|-0.00800392344379...|-0.10034088415060394|\n",
      "|    bike|nexus4| 0.02351254447093367|-0.01304747996973...|-0.08360475809007034|1.424751134339985E12|1.424752127369590...| 326459.6867328154| 0.02268875955086685|-0.00877912156368...|-0.08251001663412344|\n",
      "|    null|nexus4|-0.00302501221506...|-0.00410754501410...| 0.00596145206704953|1.424749002876339E12|1.424749919482127...| 219276.9663669269|-0.00847688860109...|-7.30455258739188...|0.003090601491419933|\n",
      "|     sit|nexus4|-4.92132825379805...|3.757376157445775...|-4.42863346250720...|1.424741207868231E12|1.424742112220356...| 74577.84690275553|-5.49433244039557...|2.791446281700041E-4|-2.33994461689905...|\n",
      "|    walk|nexus4|0.001970352086338262| 7.48966684595554E-5|-0.00149828380428...|1.424746420641789...|1.424747351060674...|149760.09974990616|-0.00390116006094...|0.001052508689953...|-6.95435553042997...|\n",
      "+--------+------+--------------------+--------------------+--------------------+--------------------+--------------------+------------------+--------------------+--------------------+--------------------+\n",
      "only showing top 5 rows\n",
      "\n"
     ]
    }
   ],
   "source": [
    "for x in range(3):\n",
    "    spark.sql(\"SELECT * FROM device_counts1\").show(5)\n",
    "    sleep(5)"
   ]
  },
  {
   "cell_type": "code",
   "execution_count": 34,
   "metadata": {},
   "outputs": [
    {
     "data": {
      "text/plain": [
       "[<pyspark.sql.streaming.StreamingQuery at 0x7fbb0d92e810>,\n",
       " <pyspark.sql.streaming.StreamingQuery at 0x7fbb0d92e650>,\n",
       " <pyspark.sql.streaming.StreamingQuery at 0x7fbb0e71ad90>,\n",
       " <pyspark.sql.streaming.StreamingQuery at 0x7fbb0e71ae50>]"
      ]
     },
     "execution_count": 34,
     "metadata": {},
     "output_type": "execute_result"
    }
   ],
   "source": [
    "spark.streams.active"
   ]
  },
  {
   "cell_type": "code",
   "execution_count": 35,
   "metadata": {},
   "outputs": [],
   "source": [
    "# # COMMAND ----------\n",
    "\n",
    "# # Subscribe to 1 topic\n",
    "# df1 = spark.readStream.format(\"kafka\")\\\n",
    "#   .option(\"kafka.bootstrap.servers\", \"host1:port1,host2:port2\")\\\n",
    "#   .option(\"subscribe\", \"topic1\")\\\n",
    "#   .load()\n",
    "    "
   ]
  },
  {
   "cell_type": "code",
   "execution_count": 36,
   "metadata": {},
   "outputs": [],
   "source": [
    "# # Subscribe to multiple topics\n",
    "# df2 = spark.readStream.format(\"kafka\")\\\n",
    "#   .option(\"kafka.bootstrap.servers\", \"host1:port1,host2:port2\")\\\n",
    "#   .option(\"subscribe\", \"topic1,topic2\")\\\n",
    "#   .load()\n",
    "    "
   ]
  },
  {
   "cell_type": "code",
   "execution_count": 37,
   "metadata": {},
   "outputs": [],
   "source": [
    "# # Subscribe to a pattern\n",
    "# df3 = spark.readStream.format(\"kafka\")\\\n",
    "#   .option(\"kafka.bootstrap.servers\", \"host1:port1,host2:port2\")\\\n",
    "#   .option(\"subscribePattern\", \"topic.*\")\\\n",
    "#   .load()"
   ]
  },
  {
   "cell_type": "code",
   "execution_count": 38,
   "metadata": {},
   "outputs": [],
   "source": [
    "# # COMMAND ----------\n",
    "\n",
    "# df1.selectExpr(\"topic\", \"CAST(key AS STRING)\", \"CAST(value AS STRING)\")\\\n",
    "#   .writeStream\\\n",
    "#   .format(\"kafka\")\\\n",
    "#   .option(\"kafka.bootstrap.servers\", \"host1:port1,host2:port2\")\\\n",
    "#   .option(\"checkpointLocation\", \"/to/HDFS-compatible/dir\")\\\n",
    "#   .start()\n",
    "    "
   ]
  },
  {
   "cell_type": "code",
   "execution_count": 39,
   "metadata": {},
   "outputs": [],
   "source": [
    "# df1.selectExpr(\"CAST(key AS STRING)\", \"CAST(value AS STRING)\")\\\n",
    "#   .writeStream\\\n",
    "#   .format(\"kafka\")\\\n",
    "#   .option(\"kafka.bootstrap.servers\", \"host1:port1,host2:port2\")\\\n",
    "#   .option(\"checkpointLocation\", \"/to/HDFS-compatible/dir\")\\\n",
    "#   .option(\"topic\", \"topic1\")\\\n",
    "#   .start()"
   ]
  },
  {
   "cell_type": "code",
   "execution_count": 40,
   "metadata": {},
   "outputs": [],
   "source": [
    "# COMMAND ----------\n",
    "# run ----- nc -lk 9999 on terminal\n",
    "socketDF = spark.readStream.format(\"socket\")\\\n",
    "  .option(\"host\", \"localhost\").option(\"port\", 9999).load()"
   ]
  },
  {
   "cell_type": "code",
   "execution_count": 41,
   "metadata": {},
   "outputs": [],
   "source": [
    "deviceModelStats = socketDF\\\n",
    "  .writeStream.queryName(\"socket\").format(\"memory\")\\\n",
    "  .outputMode(\"append\")\\\n",
    "  .start()"
   ]
  },
  {
   "cell_type": "code",
   "execution_count": 42,
   "metadata": {},
   "outputs": [
    {
     "name": "stdout",
     "output_type": "stream",
     "text": [
      "+-----+\n",
      "|value|\n",
      "+-----+\n",
      "+-----+\n",
      "\n",
      "+-----+\n",
      "|value|\n",
      "+-----+\n",
      "+-----+\n",
      "\n",
      "+-----+\n",
      "|value|\n",
      "+-----+\n",
      "+-----+\n",
      "\n",
      "+-------+\n",
      "|  value|\n",
      "+-------+\n",
      "|     hi|\n",
      "|kranthi|\n",
      "+-------+\n",
      "\n",
      "+---------------+\n",
      "|          value|\n",
      "+---------------+\n",
      "|             hi|\n",
      "|        kranthi|\n",
      "|          kumar|\n",
      "|   ddjfdkfjdskl|\n",
      "|fereopewrewrewp|\n",
      "+---------------+\n",
      "only showing top 5 rows\n",
      "\n",
      "+---------------+\n",
      "|          value|\n",
      "+---------------+\n",
      "|             hi|\n",
      "|        kranthi|\n",
      "|          kumar|\n",
      "|   ddjfdkfjdskl|\n",
      "|fereopewrewrewp|\n",
      "+---------------+\n",
      "only showing top 5 rows\n",
      "\n",
      "+---------------+\n",
      "|          value|\n",
      "+---------------+\n",
      "|             hi|\n",
      "|        kranthi|\n",
      "|          kumar|\n",
      "|   ddjfdkfjdskl|\n",
      "|fereopewrewrewp|\n",
      "+---------------+\n",
      "only showing top 5 rows\n",
      "\n",
      "+---------------+\n",
      "|          value|\n",
      "+---------------+\n",
      "|             hi|\n",
      "|        kranthi|\n",
      "|          kumar|\n",
      "|   ddjfdkfjdskl|\n",
      "|fereopewrewrewp|\n",
      "+---------------+\n",
      "only showing top 5 rows\n",
      "\n",
      "+---------------+\n",
      "|          value|\n",
      "+---------------+\n",
      "|             hi|\n",
      "|        kranthi|\n",
      "|          kumar|\n",
      "|   ddjfdkfjdskl|\n",
      "|fereopewrewrewp|\n",
      "+---------------+\n",
      "only showing top 5 rows\n",
      "\n",
      "+---------------+\n",
      "|          value|\n",
      "+---------------+\n",
      "|             hi|\n",
      "|        kranthi|\n",
      "|          kumar|\n",
      "|   ddjfdkfjdskl|\n",
      "|fereopewrewrewp|\n",
      "+---------------+\n",
      "only showing top 5 rows\n",
      "\n"
     ]
    }
   ],
   "source": [
    "for x in range(10):\n",
    "    spark.sql(\"SELECT * FROM socket\").show(5)\n",
    "    sleep(5)"
   ]
  },
  {
   "cell_type": "code",
   "execution_count": 43,
   "metadata": {},
   "outputs": [
    {
     "data": {
      "text/plain": [
       "[<pyspark.sql.streaming.StreamingQuery at 0x7fbb0d933090>,\n",
       " <pyspark.sql.streaming.StreamingQuery at 0x7fbb0d933990>,\n",
       " <pyspark.sql.streaming.StreamingQuery at 0x7fbb0d933a10>,\n",
       " <pyspark.sql.streaming.StreamingQuery at 0x7fbb0d933a50>,\n",
       " <pyspark.sql.streaming.StreamingQuery at 0x7fbb0d933f90>]"
      ]
     },
     "execution_count": 43,
     "metadata": {},
     "output_type": "execute_result"
    }
   ],
   "source": [
    "spark.streams.active"
   ]
  },
  {
   "cell_type": "code",
   "execution_count": 47,
   "metadata": {},
   "outputs": [
    {
     "name": "stdout",
     "output_type": "stream",
     "text": [
      "+-------------------+\n",
      "|              value|\n",
      "+-------------------+\n",
      "|                 hi|\n",
      "|            kranthi|\n",
      "|              kumar|\n",
      "|       ddjfdkfjdskl|\n",
      "|    fereopewrewrewp|\n",
      "| fdfdfsdjkfsdfdjfjd|\n",
      "| dfdsfdjfjdlkfjdskl|\n",
      "|it is working......|\n",
      "+-------------------+\n",
      "\n"
     ]
    }
   ],
   "source": [
    "spark.sql(\"SELECT * FROM socket\").show()"
   ]
  },
  {
   "cell_type": "code",
   "execution_count": 44,
   "metadata": {},
   "outputs": [],
   "source": [
    "# # COMMAND ----------\n",
    "\n",
    "# activityCounts.writeStream.trigger(processingTime='5 seconds')\\\n",
    "#   .format(\"console\").outputMode(\"complete\").start()"
   ]
  },
  {
   "cell_type": "code",
   "execution_count": 45,
   "metadata": {},
   "outputs": [],
   "source": [
    "# COMMAND ----------\n",
    "\n",
    "# activityCounts.writeStream.trigger(once=True)\\\n",
    "#   .format(\"console\").outputMode(\"complete\").start()"
   ]
  }
 ],
 "metadata": {
  "kernelspec": {
   "display_name": "pyspark2.7_home",
   "language": "python",
   "name": "pyspark2.7_home"
  },
  "language_info": {
   "codemirror_mode": {
    "name": "ipython",
    "version": 2
   },
   "file_extension": ".py",
   "mimetype": "text/x-python",
   "name": "python",
   "nbconvert_exporter": "python",
   "pygments_lexer": "ipython2",
   "version": "2.7.5"
  },
  "toc": {
   "base_numbering": 1,
   "nav_menu": {},
   "number_sections": true,
   "sideBar": true,
   "skip_h1_title": false,
   "title_cell": "Table of Contents",
   "title_sidebar": "Contents",
   "toc_cell": false,
   "toc_position": {},
   "toc_section_display": true,
   "toc_window_display": false
  }
 },
 "nbformat": 4,
 "nbformat_minor": 2
}
