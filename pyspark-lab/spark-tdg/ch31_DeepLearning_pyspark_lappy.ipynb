{
 "cells": [
  {
   "cell_type": "code",
   "execution_count": 1,
   "metadata": {},
   "outputs": [
    {
     "data": {
      "text/plain": [
       "'C:\\\\Spark\\\\spark-hadoop'"
      ]
     },
     "execution_count": 1,
     "metadata": {},
     "output_type": "execute_result"
    }
   ],
   "source": [
    "import findspark\n",
    "findspark.init()\n",
    "findspark.find()"
   ]
  },
  {
   "cell_type": "code",
   "execution_count": 2,
   "metadata": {
    "collapsed": true
   },
   "outputs": [],
   "source": [
    "from pyspark.sql import SparkSession\n",
    "\n",
    "spark = SparkSession.builder.master(\"local[*]\")\\\n",
    ".config(\"spark.driver.memory\", \"28g\")\\\n",
    ".config(\"spark.jars.packages\",\"databricks:spark-deep-learning:1.2.0-spark2.3-s_2.11\")\\\n",
    ".appName(\"ch31_DeepLearningLappy\").getOrCreate()\n",
    "\n",
    "#.config(\"spark.jars.packages\",\"databricks:spark-deep-learning:1.2.0-spark2.3-s_2.11,databricks:tensorframes:0.5.0-s_2.11\")\\\n",
    "# .config(\"spark.driver.memory\", \"8g\")\\\n",
    "# .config(\"spark.executor.memory\", \"3g\")\\\n",
    "# .config(\"spark.executor.cores\", \"4\")\\\n",
    "# .config(\"spark.executor.instances\", \"10\")\\\n",
    "\n",
    "\n",
    "#!/usr/bin/env bash\n",
    "\n",
    "# This file is sourced when running various Spark programs.\n",
    "# Copy it as spark-env.sh and edit that to configure Spark for your site.\n",
    "\n",
    "# Options read in YARN client mode\n",
    "#SPARK_EXECUTOR_INSTANCES=\"2\" #Number of workers to start (Default: 2)\n",
    "#SPARK_EXECUTOR_CORES=\"1\" #Number of cores for the workers (Default: 1).\n",
    "#SPARK_EXECUTOR_MEMORY=\"1G\" #Memory per Worker (e.g. 1000M, 2G) (Default: 1G)\n",
    "#SPARK_DRIVER_MEMORY=\"512M\" #Memory for Master (e.g. 1000M, 2G) (Default: 512 Mb)\n",
    "#SPARK_YARN_APP_NAME=\"spark\" #The name of your application (Default: Spark)\n",
    "#SPARK_YARN_QUEUE=\"default\" #The hadoop queue to use for allocation requests (Default: default)\n",
    "#SPARK_YARN_DIST_FILES=\"\" #Comma separated list of files to be distributed with the job.\n",
    "#SPARK_YARN_DIST_ARCHIVES=\"\" #Comma separated list of archives to be distributed with the job."
   ]
  },
  {
   "cell_type": "code",
   "execution_count": 3,
   "metadata": {
    "collapsed": true
   },
   "outputs": [],
   "source": [
    "sc = spark.sparkContext"
   ]
  },
  {
   "cell_type": "code",
   "execution_count": 4,
   "metadata": {},
   "outputs": [
    {
     "data": {
      "text/html": [
       "\n",
       "            <div>\n",
       "                <p><b>SparkSession - in-memory</b></p>\n",
       "                \n",
       "        <div>\n",
       "            <p><b>SparkContext</b></p>\n",
       "\n",
       "            <p><a href=\"http://WINDOWS-JVACTDB:4040\">Spark UI</a></p>\n",
       "\n",
       "            <dl>\n",
       "              <dt>Version</dt>\n",
       "                <dd><code>v2.3.0</code></dd>\n",
       "              <dt>Master</dt>\n",
       "                <dd><code>local[*]</code></dd>\n",
       "              <dt>AppName</dt>\n",
       "                <dd><code>ch31_DeepLearningLappy</code></dd>\n",
       "            </dl>\n",
       "        </div>\n",
       "        \n",
       "            </div>\n",
       "        "
      ],
      "text/plain": [
       "<pyspark.sql.session.SparkSession at 0x12cb5edd208>"
      ]
     },
     "execution_count": 4,
     "metadata": {},
     "output_type": "execute_result"
    }
   ],
   "source": [
    "spark"
   ]
  },
  {
   "cell_type": "code",
   "execution_count": 5,
   "metadata": {},
   "outputs": [
    {
     "name": "stderr",
     "output_type": "stream",
     "text": [
      "Using TensorFlow backend.\n"
     ]
    }
   ],
   "source": [
    "from sparkdl.image import imageIO\n",
    "from sparkdl import DeepImageFeaturizer\n",
    "from sparkdl.udf.keras_image_model import registerKerasImageUDF\n",
    "from sparkdl import DeepImagePredictor"
   ]
  },
  {
   "cell_type": "code",
   "execution_count": 6,
   "metadata": {
    "collapsed": true
   },
   "outputs": [],
   "source": [
    "from pyspark.sql.functions import lit\n",
    "from pyspark.sql.functions import expr\n",
    "from pyspark.sql.types import DoubleType\n",
    "\n",
    "from pyspark.ml import Pipeline\n",
    "from pyspark.ml.classification import LogisticRegression\n",
    "from pyspark.ml.evaluation import MulticlassClassificationEvaluator\n",
    "\n",
    "from pyspark.ml.image import ImageSchema"
   ]
  },
  {
   "cell_type": "code",
   "execution_count": 7,
   "metadata": {
    "collapsed": true
   },
   "outputs": [],
   "source": [
    "from pyspark.sql.functions import udf"
   ]
  },
  {
   "cell_type": "code",
   "execution_count": 37,
   "metadata": {
    "collapsed": true
   },
   "outputs": [],
   "source": [
    "import keras\n",
    "from keras import applications\n",
    "from keras.applications import InceptionV3\n",
    "from keras_applications import inception_v3"
   ]
  },
  {
   "cell_type": "code",
   "execution_count": 9,
   "metadata": {
    "collapsed": true
   },
   "outputs": [],
   "source": [
    "# In[15]:\n",
    "img_dir = \"D:/Learn/GitRepos/Spark-The-Definitive-Guide/data/deep-learning-images\""
   ]
  },
  {
   "cell_type": "code",
   "execution_count": 10,
   "metadata": {},
   "outputs": [
    {
     "data": {
      "text/plain": [
       "30"
      ]
     },
     "execution_count": 10,
     "metadata": {},
     "output_type": "execute_result"
    }
   ],
   "source": [
    "tulips_df = ImageSchema.readImages(img_dir + \"/tulips\").withColumn(\"label\", lit(1))\n",
    "tulips_df.count()"
   ]
  },
  {
   "cell_type": "code",
   "execution_count": 11,
   "metadata": {},
   "outputs": [
    {
     "data": {
      "text/plain": [
       "30"
      ]
     },
     "execution_count": 11,
     "metadata": {},
     "output_type": "execute_result"
    }
   ],
   "source": [
    "# In[16]:\n",
    "daisy_df = imageIO.readImagesWithCustomFn(img_dir + \"/daisy\", decode_f=imageIO.PIL_decode).withColumn(\"label\", lit(0))\n",
    "daisy_df.count()"
   ]
  },
  {
   "cell_type": "code",
   "execution_count": 12,
   "metadata": {
    "collapsed": true
   },
   "outputs": [],
   "source": [
    "# In[ ]:\n",
    "tulips_train, tulips_test = tulips_df.randomSplit([0.6, 0.4])\n",
    "daisy_train, daisy_test = daisy_df.randomSplit([0.6, 0.4])"
   ]
  },
  {
   "cell_type": "code",
   "execution_count": 13,
   "metadata": {
    "collapsed": true
   },
   "outputs": [],
   "source": [
    "# In[ ]:\n",
    "train_df = tulips_train.unionAll(daisy_train).cache()\n",
    "test_df = tulips_test.unionAll(daisy_test).cache()"
   ]
  },
  {
   "cell_type": "code",
   "execution_count": 14,
   "metadata": {
    "collapsed": true
   },
   "outputs": [],
   "source": [
    "featurizer = DeepImageFeaturizer(inputCol=\"image\", outputCol=\"features\", modelName=\"InceptionV3\")"
   ]
  },
  {
   "cell_type": "code",
   "execution_count": 15,
   "metadata": {
    "collapsed": true
   },
   "outputs": [],
   "source": [
    "lr = LogisticRegression(maxIter=1, regParam=0.05, elasticNetParam=0.3, labelCol=\"label\")"
   ]
  },
  {
   "cell_type": "code",
   "execution_count": 16,
   "metadata": {
    "collapsed": true
   },
   "outputs": [],
   "source": [
    "p = Pipeline(stages=[featurizer, lr])"
   ]
  },
  {
   "cell_type": "code",
   "execution_count": 17,
   "metadata": {
    "collapsed": true
   },
   "outputs": [],
   "source": [
    "p_model = p.fit(train_df)"
   ]
  },
  {
   "cell_type": "code",
   "execution_count": 18,
   "metadata": {
    "collapsed": true
   },
   "outputs": [],
   "source": [
    "tested_df = p_model.transform(test_df)"
   ]
  },
  {
   "cell_type": "code",
   "execution_count": 19,
   "metadata": {
    "collapsed": true
   },
   "outputs": [],
   "source": [
    "evaluator = MulticlassClassificationEvaluator(metricName=\"accuracy\")"
   ]
  },
  {
   "cell_type": "code",
   "execution_count": 20,
   "metadata": {},
   "outputs": [
    {
     "name": "stdout",
     "output_type": "stream",
     "text": [
      "Test set accuracy = 0.7916666666666666\n"
     ]
    }
   ],
   "source": [
    "print(\"Test set accuracy = \" + str(evaluator.evaluate(tested_df.select(\n",
    "  \"prediction\", \"label\"))))"
   ]
  },
  {
   "cell_type": "code",
   "execution_count": 21,
   "metadata": {
    "collapsed": true
   },
   "outputs": [],
   "source": [
    "# COMMAND ----------\n",
    "def _p1(v):\n",
    "  return float(v.array[1])\n",
    "\n",
    "p1 = udf(_p1, DoubleType())"
   ]
  },
  {
   "cell_type": "code",
   "execution_count": 22,
   "metadata": {
    "collapsed": true
   },
   "outputs": [],
   "source": [
    "df = tested_df.withColumn(\"p_1\", p1(tested_df.probability))"
   ]
  },
  {
   "cell_type": "code",
   "execution_count": 23,
   "metadata": {},
   "outputs": [
    {
     "name": "stdout",
     "output_type": "stream",
     "text": [
      "+--------------------+-----+--------------------+--------------------+--------------------+----------+------------------+\n",
      "|               image|label|            features|       rawPrediction|         probability|prediction|               p_1|\n",
      "+--------------------+-----+--------------------+--------------------+--------------------+----------+------------------+\n",
      "|[file:/D:/Learn/G...|    1|[0.0,0.3294818997...|[-5.3918399720315...|[0.00453294598533...|       1.0|0.9954670540146618|\n",
      "|[file:/D:/Learn/G...|    1|[0.0,0.0,0.359686...|[-4.6291384043407...|[0.00966876956653...|       1.0|0.9903312304334672|\n",
      "|[file:/D:/Learn/G...|    1|[0.16776393353939...|[-8.804625524635,...|[1.50014957699018...|       1.0| 0.999849985042301|\n",
      "|[file:/D:/Learn/G...|    1|[0.12303753197193...|[-11.211174730091...|[1.35220583753356...|       1.0|0.9999864779416247|\n",
      "|[file:/D:/Learn/G...|    1|[0.27778720855712...|[-6.5460241641661...|[0.00143375421856...|       1.0|0.9985662457814325|\n",
      "|[file:/D:/Learn/G...|    1|[0.0,0.0,0.0,0.0,...|[-6.2872273866807...|[0.00185645677290...|       1.0|0.9981435432270932|\n",
      "|[file:/D:/Learn/G...|    1|[2.29163527488708...|[-4.6235010512768...|[0.00972289830342...|       1.0|0.9902771016965742|\n",
      "|[file:/D:/Learn/G...|    1|[0.0,0.0,0.0,0.0,...|[0.54781988125848...|[0.63362963904372...|       0.0|0.3663703609562728|\n",
      "|[file:/D:/Learn/G...|    1|[0.0,0.8529530763...|[-6.5351718852005...|[0.00144937577920...|       1.0|0.9985506242207959|\n",
      "|[file:/D:/Learn/G...|    0|[0.0,0.0234446227...|[1.09110002859235...|[0.74858880756124...|       0.0|0.2514111924387556|\n",
      "+--------------------+-----+--------------------+--------------------+--------------------+----------+------------------+\n",
      "only showing top 10 rows\n",
      "\n"
     ]
    }
   ],
   "source": [
    "df.show(10)"
   ]
  },
  {
   "cell_type": "code",
   "execution_count": 24,
   "metadata": {
    "collapsed": true
   },
   "outputs": [],
   "source": [
    "wrong_df = df.orderBy(expr(\"abs(p_1 - label)\"), ascending=False)"
   ]
  },
  {
   "cell_type": "code",
   "execution_count": 25,
   "metadata": {},
   "outputs": [
    {
     "name": "stdout",
     "output_type": "stream",
     "text": [
      "+--------------------+-----+--------------------+--------------------+--------------------+----------+-------------------+\n",
      "|               image|label|            features|       rawPrediction|         probability|prediction|                p_1|\n",
      "+--------------------+-----+--------------------+--------------------+--------------------+----------+-------------------+\n",
      "|[file:/D:/Learn/G...|    0|[0.0,0.0,0.245340...|[-1.8436742601419...|[0.13661732352612...|       1.0| 0.8633826764738716|\n",
      "|[file:/D:/Learn/G...|    0|[0.60087662935256...|[-1.6599966513645...|[0.15976244645864...|       1.0| 0.8402375535413534|\n",
      "|[file:/D:/Learn/G...|    0|[0.0,0.0,0.0,0.0,...|[-1.1559568327055...|[0.23940272580155...|       1.0| 0.7605972741984476|\n",
      "|[file:/D:/Learn/G...|    1|[0.0,0.0,0.0,0.0,...|[0.54781988125848...|[0.63362963904372...|       0.0| 0.3663703609562728|\n",
      "|[file:/D:/Learn/G...|    0|[0.58451932668685...|[-0.0743093599174...|[0.48143120379124...|       1.0| 0.5185687962087551|\n",
      "|[file:/D:/Learn/G...|    0|[0.29323047399520...|[0.21224004595460...|[0.55286172691072...|       0.0|0.44713827308927595|\n",
      "|[file:/D:/Learn/G...|    0|[0.0,0.0,0.0,0.0,...|[0.42440602517676...|[0.60453709078797...|       0.0| 0.3954629092120234|\n",
      "|[file:/D:/Learn/G...|    0|[0.0,0.0,0.122637...|[0.68299592854979...|[0.66440702926605...|       0.0|0.33559297073394107|\n",
      "|[file:/D:/Learn/G...|    0|[0.0,0.0,0.108038...|[0.73139408740032...|[0.67511112088348...|       0.0| 0.3248888791165154|\n",
      "|[file:/D:/Learn/G...|    0|[0.0,0.0,0.731906...|[0.77497598791782...|[0.68459631555677...|       0.0| 0.3154036844432282|\n",
      "+--------------------+-----+--------------------+--------------------+--------------------+----------+-------------------+\n",
      "only showing top 10 rows\n",
      "\n"
     ]
    }
   ],
   "source": [
    "wrong_df.show(10)"
   ]
  },
  {
   "cell_type": "code",
   "execution_count": 26,
   "metadata": {
    "collapsed": true
   },
   "outputs": [],
   "source": [
    "# COMMAND ----------\n",
    "# image_df = imageIO.readImagesWithCustomFn(img_dir, decode_f=imageIO.PIL_decode)\n",
    "# image_df.count()"
   ]
  },
  {
   "cell_type": "code",
   "execution_count": 27,
   "metadata": {},
   "outputs": [
    {
     "name": "stdout",
     "output_type": "stream",
     "text": [
      "+--------------------+-----+\n",
      "|               image|label|\n",
      "+--------------------+-----+\n",
      "|[file:/D:/Learn/G...|    1|\n",
      "|[file:/D:/Learn/G...|    1|\n",
      "|[file:/D:/Learn/G...|    1|\n",
      "|[file:/D:/Learn/G...|    1|\n",
      "|[file:/D:/Learn/G...|    1|\n",
      "|[file:/D:/Learn/G...|    1|\n",
      "|[file:/D:/Learn/G...|    1|\n",
      "|[file:/D:/Learn/G...|    1|\n",
      "|[file:/D:/Learn/G...|    1|\n",
      "|[file:/D:/Learn/G...|    1|\n",
      "+--------------------+-----+\n",
      "only showing top 10 rows\n",
      "\n"
     ]
    }
   ],
   "source": [
    "train_df.show(10)"
   ]
  },
  {
   "cell_type": "code",
   "execution_count": 28,
   "metadata": {},
   "outputs": [
    {
     "name": "stdout",
     "output_type": "stream",
     "text": [
      "+--------------------+-----+\n",
      "|               image|label|\n",
      "+--------------------+-----+\n",
      "|[file:/D:/Learn/G...|    1|\n",
      "|[file:/D:/Learn/G...|    1|\n",
      "|[file:/D:/Learn/G...|    1|\n",
      "|[file:/D:/Learn/G...|    1|\n",
      "|[file:/D:/Learn/G...|    1|\n",
      "|[file:/D:/Learn/G...|    1|\n",
      "|[file:/D:/Learn/G...|    1|\n",
      "|[file:/D:/Learn/G...|    1|\n",
      "|[file:/D:/Learn/G...|    1|\n",
      "|[file:/D:/Learn/G...|    0|\n",
      "+--------------------+-----+\n",
      "only showing top 10 rows\n",
      "\n"
     ]
    }
   ],
   "source": [
    "test_df.show(10)"
   ]
  },
  {
   "cell_type": "code",
   "execution_count": 29,
   "metadata": {
    "collapsed": true
   },
   "outputs": [],
   "source": [
    "image_df = train_df.unionAll(test_df)"
   ]
  },
  {
   "cell_type": "code",
   "execution_count": 30,
   "metadata": {},
   "outputs": [
    {
     "name": "stdout",
     "output_type": "stream",
     "text": [
      "+--------------------+-----+\n",
      "|               image|label|\n",
      "+--------------------+-----+\n",
      "|[file:/D:/Learn/G...|    1|\n",
      "|[file:/D:/Learn/G...|    1|\n",
      "|[file:/D:/Learn/G...|    1|\n",
      "|[file:/D:/Learn/G...|    1|\n",
      "|[file:/D:/Learn/G...|    1|\n",
      "|[file:/D:/Learn/G...|    1|\n",
      "|[file:/D:/Learn/G...|    1|\n",
      "|[file:/D:/Learn/G...|    1|\n",
      "|[file:/D:/Learn/G...|    1|\n",
      "|[file:/D:/Learn/G...|    1|\n",
      "+--------------------+-----+\n",
      "only showing top 10 rows\n",
      "\n"
     ]
    }
   ],
   "source": [
    "image_df.show(10)"
   ]
  },
  {
   "cell_type": "code",
   "execution_count": 31,
   "metadata": {
    "collapsed": true
   },
   "outputs": [],
   "source": [
    "predictor = DeepImagePredictor(\n",
    "  inputCol=\"image\",\n",
    "  outputCol=\"predicted_labels\",\n",
    "  modelName=\"InceptionV3\",\n",
    "  decodePredictions=True,\n",
    "  topK=10)"
   ]
  },
  {
   "cell_type": "code",
   "execution_count": 32,
   "metadata": {},
   "outputs": [
    {
     "name": "stdout",
     "output_type": "stream",
     "text": [
      "INFO:tensorflow:Froze 378 variables.\n",
      "INFO:tensorflow:Converted 378 variables to const ops.\n",
      "INFO:tensorflow:Froze 0 variables.\n",
      "INFO:tensorflow:Converted 0 variables to const ops.\n"
     ]
    }
   ],
   "source": [
    "predictions_base_model_df = predictor.transform(image_df).cache()"
   ]
  },
  {
   "cell_type": "code",
   "execution_count": 33,
   "metadata": {
    "collapsed": true
   },
   "outputs": [],
   "source": [
    "predictions_transfer_df = p_model.transform(image_df)"
   ]
  },
  {
   "cell_type": "code",
   "execution_count": 34,
   "metadata": {},
   "outputs": [
    {
     "data": {
      "text/plain": [
       "60"
      ]
     },
     "execution_count": 34,
     "metadata": {},
     "output_type": "execute_result"
    }
   ],
   "source": [
    "predictions_transfer_df.count()"
   ]
  },
  {
   "cell_type": "code",
   "execution_count": 41,
   "metadata": {
    "collapsed": true
   },
   "outputs": [],
   "source": [
    "#predictions_base_model_df.count()\n",
    "\n",
    "# File \"d:\\learn\\.virtualenvs\\pyspark-lab\\lib\\site-packages\\keras_applications\\__init__.py\", line 39, in get_keras_submodule\n",
    "#     raise ImportError('You need to first `import keras` '\n",
    "# ImportError: You need to first `import keras` in order to use `keras_applications`. For instance, you can do:\n",
    "\n",
    "# ```\n",
    "# import keras\n",
    "# from keras_applications import vgg16\n",
    "# ```\n",
    "\n",
    "# Or, preferably, this equivalent formulation:\n",
    "\n",
    "# ```\n",
    "# from keras import applications"
   ]
  },
  {
   "cell_type": "code",
   "execution_count": null,
   "metadata": {
    "collapsed": true
   },
   "outputs": [],
   "source": []
  }
 ],
 "metadata": {
  "kernelspec": {
   "display_name": "pyspark-lab",
   "language": "python",
   "name": "pyspark-lab"
  },
  "language_info": {
   "codemirror_mode": {
    "name": "ipython",
    "version": 3
   },
   "file_extension": ".py",
   "mimetype": "text/x-python",
   "name": "python",
   "nbconvert_exporter": "python",
   "pygments_lexer": "ipython3",
   "version": "3.6.4"
  }
 },
 "nbformat": 4,
 "nbformat_minor": 2
}
