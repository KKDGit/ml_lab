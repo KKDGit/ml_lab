{
 "cells": [
  {
   "cell_type": "code",
   "execution_count": 1,
   "metadata": {},
   "outputs": [
    {
     "data": {
      "text/plain": [
       "'C:\\\\Spark\\\\spark-hadoop'"
      ]
     },
     "execution_count": 1,
     "metadata": {},
     "output_type": "execute_result"
    }
   ],
   "source": [
    "import findspark\n",
    "#findspark.init('/usr/hdp/current/spark2-client')\n",
    "findspark.init()\n",
    "findspark.find()"
   ]
  },
  {
   "cell_type": "code",
   "execution_count": 2,
   "metadata": {},
   "outputs": [],
   "source": [
    "import pyspark\n",
    "from pyspark.sql import SparkSession\n",
    "spark = SparkSession.builder.master(\"local[*]\")\\\n",
    ".config(\"spark.jars.packages\",\"mysql:mysql-connector-java:5.1.6,org.xerial:sqlite-jdbc:3.23.1,org.mongodb.spark:mongo-spark-connector_2.11:2.3.0,com.datastax.spark:spark-cassandra-connector_2.11:2.3.1\")\\\n",
    ".config(\"spark.mongodb.input.uri\",\"mongodb://127.0.0.1/SampleCollections.Sakila_customers\")\\\n",
    ".config(\"spark.mongodb.output.uri\",\"mongodb://127.0.0.1/SampleCollections.Sakila_customers\")\\\n",
    ".appName(\"ch09DataSources_1\").getOrCreate()"
   ]
  },
  {
   "cell_type": "code",
   "execution_count": 3,
   "metadata": {},
   "outputs": [],
   "source": [
    "# spark.conf.set(\"spark.mongodb.input.uri\",\"mongodb://127.0.0.1/SampleCollections.Sakila_customers\")\n",
    "# spark.conf.set(\"spark.mongodb.output.uri\",\"mongodb://127.0.0.1/SampleCollections.Sakila_customers\")"
   ]
  },
  {
   "cell_type": "code",
   "execution_count": 4,
   "metadata": {},
   "outputs": [],
   "source": [
    "# import pyspark\n",
    "# from pyspark.sql import SparkSession\n",
    "# spark = SparkSession.builder.master(\"yarn\")\\\n",
    "# .config(\"spark.jars\",\"/home/kranthidr/softwares/jars/mysql-connector-java-5.1.6.jar\")\\\n",
    "# .appName(\"ch09DataSources_1\").getOrCreate()\n",
    "\n",
    "\n",
    "# \"org.xerial:sqlite-jdbc:3.23.1\"\n",
    "# \"org.mongodb.spark:mongo-spark-connector_2.11:2.3.0\"\n",
    "# \"com.datastax.spark:spark-cassandra-connector_2.11:2.3.1\"\n"
   ]
  },
  {
   "cell_type": "code",
   "execution_count": 5,
   "metadata": {},
   "outputs": [],
   "source": [
    "sc = spark.sparkContext"
   ]
  },
  {
   "cell_type": "code",
   "execution_count": 6,
   "metadata": {},
   "outputs": [],
   "source": [
    "for x in sc._conf.getAll():\n",
    "    if '/proxy/' in x[1]:\n",
    "        print(x[1])"
   ]
  },
  {
   "cell_type": "code",
   "execution_count": 7,
   "metadata": {},
   "outputs": [
    {
     "data": {
      "text/html": [
       "\n",
       "            <div>\n",
       "                <p><b>SparkSession - in-memory</b></p>\n",
       "                \n",
       "        <div>\n",
       "            <p><b>SparkContext</b></p>\n",
       "\n",
       "            <p><a href=\"http://WINDOWS-JVACTDB:4040\">Spark UI</a></p>\n",
       "\n",
       "            <dl>\n",
       "              <dt>Version</dt>\n",
       "                <dd><code>v2.3.0</code></dd>\n",
       "              <dt>Master</dt>\n",
       "                <dd><code>local[*]</code></dd>\n",
       "              <dt>AppName</dt>\n",
       "                <dd><code>ch09DataSources_1</code></dd>\n",
       "            </dl>\n",
       "        </div>\n",
       "        \n",
       "            </div>\n",
       "        "
      ],
      "text/plain": [
       "<pyspark.sql.session.SparkSession at 0x1f27f883898>"
      ]
     },
     "execution_count": 7,
     "metadata": {},
     "output_type": "execute_result"
    }
   ],
   "source": [
    "spark"
   ]
  },
  {
   "cell_type": "code",
   "execution_count": 8,
   "metadata": {},
   "outputs": [
    {
     "data": {
      "text/plain": [
       "'mongodb://127.0.0.1/SampleCollections.Sakila_customers'"
      ]
     },
     "execution_count": 8,
     "metadata": {},
     "output_type": "execute_result"
    }
   ],
   "source": [
    "spark.conf.get(\"spark.mongodb.input.uri\")"
   ]
  },
  {
   "cell_type": "code",
   "execution_count": 9,
   "metadata": {},
   "outputs": [
    {
     "data": {
      "text/plain": [
       "'mongodb://127.0.0.1/SampleCollections.Sakila_customers'"
      ]
     },
     "execution_count": 9,
     "metadata": {},
     "output_type": "execute_result"
    }
   ],
   "source": [
    "spark.conf.get(\"spark.mongodb.output.uri\")"
   ]
  },
  {
   "cell_type": "code",
   "execution_count": 10,
   "metadata": {},
   "outputs": [],
   "source": [
    "mongo_df = spark.read.format(\"com.mongodb.spark.sql.DefaultSource\").load()"
   ]
  },
  {
   "cell_type": "code",
   "execution_count": 11,
   "metadata": {},
   "outputs": [
    {
     "name": "stdout",
     "output_type": "stream",
     "text": [
      "root\n",
      " |-- Address: string (nullable = true)\n",
      " |-- City: string (nullable = true)\n",
      " |-- Country: string (nullable = true)\n",
      " |-- District: string (nullable = true)\n",
      " |-- First Name: string (nullable = true)\n",
      " |-- Last Name: string (nullable = true)\n",
      " |-- Phone: string (nullable = true)\n",
      " |-- Rentals: array (nullable = true)\n",
      " |    |-- element: struct (containsNull = true)\n",
      " |    |    |-- Film Title: string (nullable = true)\n",
      " |    |    |-- Payments: array (nullable = true)\n",
      " |    |    |    |-- element: struct (containsNull = true)\n",
      " |    |    |    |    |-- Amount: double (nullable = true)\n",
      " |    |    |    |    |-- Payment Date: string (nullable = true)\n",
      " |    |    |    |    |-- Payment Id: integer (nullable = true)\n",
      " |    |    |-- Rental Date: string (nullable = true)\n",
      " |    |    |-- Return Date: string (nullable = true)\n",
      " |    |    |-- filmId: integer (nullable = true)\n",
      " |    |    |-- rentalId: integer (nullable = true)\n",
      " |    |    |-- staffId: integer (nullable = true)\n",
      " |-- _id: integer (nullable = true)\n",
      "\n"
     ]
    }
   ],
   "source": [
    "mongo_df.printSchema()"
   ]
  },
  {
   "cell_type": "code",
   "execution_count": 12,
   "metadata": {},
   "outputs": [
    {
     "data": {
      "text/plain": [
       "599"
      ]
     },
     "execution_count": 12,
     "metadata": {},
     "output_type": "execute_result"
    }
   ],
   "source": [
    "mongo_df.count()"
   ]
  },
  {
   "cell_type": "code",
   "execution_count": 13,
   "metadata": {},
   "outputs": [
    {
     "name": "stdout",
     "output_type": "stream",
     "text": [
      "+--------------------+--------------+-------------+--------------+----------+---------+------------+--------------------+---+\n",
      "|             Address|          City|      Country|      District|First Name|Last Name|       Phone|             Rentals|_id|\n",
      "+--------------------+--------------+-------------+--------------+----------+---------+------------+--------------------+---+\n",
      "|      1913 Hanoi Way|        Sasebo|        Japan|      Nagasaki|      MARY|    SMITH| 28303384290|[[MUSKETEERS WAIT...|  1|\n",
      "|    1121 Loja Avenue|San Bernardino|United States|    California|  PATRICIA|  JOHNSON|838635286649|[[DOORS PRESIDENT...|  2|\n",
      "|   692 Joliet Street|       Athenai|       Greece|        Attika|     LINDA| WILLIAMS|448477190408|[[RINGS HEARTBREA...|  3|\n",
      "|    1566 Inegl Manor|      Myingyan|      Myanmar|      Mandalay|   BARBARA|    JONES|705814003527|[[BEDAZZLED MARRI...|  4|\n",
      "|     53 Idfu Parkway|        Nantou|       Taiwan|        Nantou| ELIZABETH|    BROWN| 10655648674|[[BETRAYED REAR, ...|  5|\n",
      "|1795 Santiago de ...|        Laredo|United States|         Texas|  JENNIFER|    DAVIS|860452626434|[[BLUES INSTINCT,...|  6|\n",
      "|900 Santiago de C...|    Kragujevac|   Yugoslavia|Central Serbia|     MARIA|   MILLER|716571220373|[[RIDGEMONT SUBMA...|  7|\n",
      "|      478 Joliet Way|      Hamilton|  New Zealand|      Hamilton|     SUSAN|   WILSON|657282285970|[[HIGH ENCINO, [[...|  8|\n",
      "|   613 Korolev Drive|        Masqat|         Oman|        Masqat|  MARGARET|    MOORE|380657522649|[[CRUELTY UNFORGI...|  9|\n",
      "|      1531 Sal Drive|       Esfahan|         Iran|       Esfahan|   DOROTHY|   TAYLOR|648856936185|[[SNOWMAN ROLLERC...| 10|\n",
      "+--------------------+--------------+-------------+--------------+----------+---------+------------+--------------------+---+\n",
      "only showing top 10 rows\n",
      "\n"
     ]
    }
   ],
   "source": [
    "mongo_df.show(10)"
   ]
  },
  {
   "cell_type": "code",
   "execution_count": null,
   "metadata": {},
   "outputs": [],
   "source": []
  },
  {
   "cell_type": "code",
   "execution_count": 6,
   "metadata": {
    "collapsed": true
   },
   "outputs": [],
   "source": [
    "# COMMAND ----------\n",
    "mysql_url = \"jdbc:mysql://nn01.itversity.com/retail_db\"\n",
    "mysql_driver = \"com.mysql.jdbc.Driver\"\n",
    "mysql_dbtable = \"categories\"\n",
    "mysql_user = \"retail_dba\"\n",
    "mysql_password = \"itversity\""
   ]
  },
  {
   "cell_type": "code",
   "execution_count": 7,
   "metadata": {
    "collapsed": true
   },
   "outputs": [],
   "source": [
    "dataframe_mysql = spark.read.format(\"jdbc\")\\\n",
    ".option(\"url\", mysql_url)\\\n",
    ".option(\"dbtable\",mysql_dbtable)\\\n",
    ".option(\"driver\",mysql_driver)\\\n",
    ".option(\"user\", mysql_user)\\\n",
    ".option(\"password\", mysql_password).load()"
   ]
  },
  {
   "cell_type": "code",
   "execution_count": 8,
   "metadata": {},
   "outputs": [
    {
     "name": "stdout",
     "output_type": "stream",
     "text": [
      "+-----------+----------------------+-------------------+\n",
      "|category_id|category_department_id|      category_name|\n",
      "+-----------+----------------------+-------------------+\n",
      "|          1|                     2|           Football|\n",
      "|          2|                     2|             Soccer|\n",
      "|          3|                     2|Baseball & Softball|\n",
      "|          4|                     2|         Basketball|\n",
      "|          5|                     2|           Lacrosse|\n",
      "|          6|                     2|   Tennis & Racquet|\n",
      "|          7|                     2|             Hockey|\n",
      "|          8|                     2|        More Sports|\n",
      "|          9|                     3|   Cardio Equipment|\n",
      "|         10|                     3|  Strength Training|\n",
      "|         11|                     3|Fitness Accessories|\n",
      "|         12|                     3|       Boxing & MMA|\n",
      "|         13|                     3|        Electronics|\n",
      "|         14|                     3|     Yoga & Pilates|\n",
      "|         15|                     3|  Training by Sport|\n",
      "|         16|                     3|    As Seen on  TV!|\n",
      "|         17|                     4|             Cleats|\n",
      "|         18|                     4|     Men's Footwear|\n",
      "|         19|                     4|   Women's Footwear|\n",
      "|         20|                     4|     Kids' Footwear|\n",
      "+-----------+----------------------+-------------------+\n",
      "only showing top 20 rows\n",
      "\n"
     ]
    }
   ],
   "source": [
    "dataframe_mysql.show()"
   ]
  },
  {
   "cell_type": "code",
   "execution_count": 69,
   "metadata": {
    "collapsed": true
   },
   "outputs": [],
   "source": [
    "# COMMAND ----------\n",
    "spark.conf.set(\"spark.cassandra.connection.host\", \"wn05.itversity.com\")"
   ]
  },
  {
   "cell_type": "code",
   "execution_count": 70,
   "metadata": {
    "collapsed": true
   },
   "outputs": [],
   "source": [
    "from pyspark.sql import SQLContext\n",
    "sc = spark.sparkContext\n",
    "sqlContext = SQLContext(sc)"
   ]
  },
  {
   "cell_type": "code",
   "execution_count": 78,
   "metadata": {},
   "outputs": [
    {
     "name": "stdout",
     "output_type": "stream",
     "text": [
      "+--------+-----------------+--------------------+---------------+\n",
      "|order_id|order_customer_id|          order_date|   order_status|\n",
      "+--------+-----------------+--------------------+---------------+\n",
      "|   12300|              127|2013-10-08 00:00:...|PENDING_PAYMENT|\n",
      "|   52271|             3332|2014-06-18 00:00:...|         CLOSED|\n",
      "|   36223|             1020|2014-03-04 00:00:...|        PENDING|\n",
      "|   46440|            11945|2014-05-09 00:00:...|       COMPLETE|\n",
      "|   16058|             9182|2013-11-03 00:00:...|         CLOSED|\n",
      "|   48208|             9723|2014-05-20 00:00:...|     PROCESSING|\n",
      "|   67948|             2071|2013-12-26 00:00:...|         CLOSED|\n",
      "|   30697|             8412|2014-01-31 00:00:...|        ON_HOLD|\n",
      "|    4016|            11946|2013-08-17 00:00:...|PENDING_PAYMENT|\n",
      "|   68247|             2435|2014-03-19 00:00:...|         CLOSED|\n",
      "|   52486|             7946|2014-06-19 00:00:...|       COMPLETE|\n",
      "|    1006|             9028|2013-07-30 00:00:...|       COMPLETE|\n",
      "|   16751|             5338|2013-11-06 00:00:...|        PENDING|\n",
      "|   39090|             8309|2014-03-23 00:00:...|        ON_HOLD|\n",
      "|   33507|             9948|2014-02-16 00:00:...|       COMPLETE|\n",
      "|     178|             8503|2013-07-26 00:00:...|       COMPLETE|\n",
      "|   34309|             1902|2014-02-21 00:00:...|       COMPLETE|\n",
      "|    8172|              358|2013-09-14 00:00:...|PENDING_PAYMENT|\n",
      "|    9694|             3620|2013-09-24 00:00:...|       COMPLETE|\n",
      "|   42280|             2681|2014-04-11 00:00:...|        PENDING|\n",
      "+--------+-----------------+--------------------+---------------+\n",
      "only showing top 20 rows\n",
      "\n"
     ]
    }
   ],
   "source": [
    "spark.read.format(\"org.apache.spark.sql.cassandra\").options(table=\"orders\", keyspace=\"raj\").load().show()"
   ]
  },
  {
   "cell_type": "code",
   "execution_count": null,
   "metadata": {
    "collapsed": true
   },
   "outputs": [],
   "source": []
  }
 ],
 "metadata": {
  "kernelspec": {
   "display_name": "pyspark-lab",
   "language": "python",
   "name": "pyspark-lab"
  },
  "language_info": {
   "codemirror_mode": {
    "name": "ipython",
    "version": 3
   },
   "file_extension": ".py",
   "mimetype": "text/x-python",
   "name": "python",
   "nbconvert_exporter": "python",
   "pygments_lexer": "ipython3",
   "version": "3.6.4"
  }
 },
 "nbformat": 4,
 "nbformat_minor": 2
}
