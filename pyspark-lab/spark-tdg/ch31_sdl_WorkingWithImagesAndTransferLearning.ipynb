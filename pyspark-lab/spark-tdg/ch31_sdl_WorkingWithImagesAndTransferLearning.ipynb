{
 "cells": [
  {
   "cell_type": "markdown",
   "metadata": {},
   "source": [
    "## Part 1"
   ]
  },
  {
   "cell_type": "code",
   "execution_count": 1,
   "metadata": {},
   "outputs": [
    {
     "data": {
      "text/plain": [
       "'C:\\\\Spark\\\\spark-hadoop'"
      ]
     },
     "execution_count": 1,
     "metadata": {},
     "output_type": "execute_result"
    }
   ],
   "source": [
    "import findspark\n",
    "findspark.init()\n",
    "findspark.find()"
   ]
  },
  {
   "cell_type": "code",
   "execution_count": 2,
   "metadata": {},
   "outputs": [],
   "source": [
    "from pyspark.sql import SparkSession\n",
    "\n",
    "spark = SparkSession.builder.master(\"local[*]\")\\\n",
    ".config(\"spark.driver.memory\", \"12g\")\\\n",
    ".config(\"spark.jars.packages\",\"databricks:spark-deep-learning:1.2.0-spark2.3-s_2.11\")\\\n",
    ".appName(\"ch31_DeepLearningLappy-docs\").getOrCreate()\n",
    "\n",
    "#.config(\"spark.jars.packages\",\"databricks:spark-deep-learning:1.2.0-spark2.3-s_2.11,databricks:tensorframes:0.5.0-s_2.11\")\\\n",
    "# .config(\"spark.driver.memory\", \"8g\")\\\n",
    "# .config(\"spark.executor.memory\", \"3g\")\\\n",
    "# .config(\"spark.executor.cores\", \"4\")\\\n",
    "# .config(\"spark.executor.instances\", \"10\")\\\n",
    "\n",
    "\n",
    "#!/usr/bin/env bash\n",
    "\n",
    "# This file is sourced when running various Spark programs.\n",
    "# Copy it as spark-env.sh and edit that to configure Spark for your site.\n",
    "\n",
    "# Options read in YARN client mode\n",
    "#SPARK_EXECUTOR_INSTANCES=\"2\" #Number of workers to start (Default: 2)\n",
    "#SPARK_EXECUTOR_CORES=\"1\" #Number of cores for the workers (Default: 1).\n",
    "#SPARK_EXECUTOR_MEMORY=\"1G\" #Memory per Worker (e.g. 1000M, 2G) (Default: 1G)\n",
    "#SPARK_DRIVER_MEMORY=\"512M\" #Memory for Master (e.g. 1000M, 2G) (Default: 512 Mb)\n",
    "#SPARK_YARN_APP_NAME=\"spark\" #The name of your application (Default: Spark)\n",
    "#SPARK_YARN_QUEUE=\"default\" #The hadoop queue to use for allocation requests (Default: default)\n",
    "#SPARK_YARN_DIST_FILES=\"\" #Comma separated list of files to be distributed with the job.\n",
    "#SPARK_YARN_DIST_ARCHIVES=\"\" #Comma separated list of archives to be distributed with the job."
   ]
  },
  {
   "cell_type": "code",
   "execution_count": 3,
   "metadata": {},
   "outputs": [],
   "source": [
    "sc = spark.sparkContext"
   ]
  },
  {
   "cell_type": "code",
   "execution_count": 4,
   "metadata": {},
   "outputs": [
    {
     "data": {
      "text/html": [
       "\n",
       "            <div>\n",
       "                <p><b>SparkSession - in-memory</b></p>\n",
       "                \n",
       "        <div>\n",
       "            <p><b>SparkContext</b></p>\n",
       "\n",
       "            <p><a href=\"http://WINDOWS-JVACTDB:4040\">Spark UI</a></p>\n",
       "\n",
       "            <dl>\n",
       "              <dt>Version</dt>\n",
       "                <dd><code>v2.3.0</code></dd>\n",
       "              <dt>Master</dt>\n",
       "                <dd><code>local[*]</code></dd>\n",
       "              <dt>AppName</dt>\n",
       "                <dd><code>ch31_DeepLearningLappy-docs</code></dd>\n",
       "            </dl>\n",
       "        </div>\n",
       "        \n",
       "            </div>\n",
       "        "
      ],
      "text/plain": [
       "<pyspark.sql.session.SparkSession at 0x1f8f36bd518>"
      ]
     },
     "execution_count": 4,
     "metadata": {},
     "output_type": "execute_result"
    }
   ],
   "source": [
    "spark"
   ]
  },
  {
   "cell_type": "code",
   "execution_count": 5,
   "metadata": {},
   "outputs": [
    {
     "name": "stderr",
     "output_type": "stream",
     "text": [
      "Using TensorFlow backend.\n"
     ]
    }
   ],
   "source": [
    "from sparkdl.image import imageIO\n",
    "from pyspark.ml.image import ImageSchema"
   ]
  },
  {
   "cell_type": "code",
   "execution_count": 6,
   "metadata": {},
   "outputs": [],
   "source": [
    "from pyspark.sql.functions import lit\n",
    "from pyspark.sql.functions import expr\n",
    "from pyspark.sql.types import DoubleType\n",
    "from pyspark.sql.functions import udf"
   ]
  },
  {
   "cell_type": "code",
   "execution_count": 7,
   "metadata": {},
   "outputs": [],
   "source": [
    "# In[15]:\n",
    "img_dir = \"D:/Learn/GitRepos/Spark-The-Definitive-Guide/data/deep-learning-images\"\n",
    "img_dir_comb = \"D:\\Learn\\GitRepos\\Spark-The-Definitive-Guide\\data\\deep-learning-images\\Combined30\""
   ]
  },
  {
   "cell_type": "code",
   "execution_count": 8,
   "metadata": {},
   "outputs": [
    {
     "data": {
      "text/plain": [
       "30"
      ]
     },
     "execution_count": 8,
     "metadata": {},
     "output_type": "execute_result"
    }
   ],
   "source": [
    "tulips_df = ImageSchema.readImages(img_dir + \"/tulips\").withColumn(\"label\", lit(1))\n",
    "tulips_df.count()\n",
    "\n",
    "# Signature: ImageSchema.readImages(path, recursive=False, \n",
    "#                                   numPartitions=-1, dropImageFailures=False, \n",
    "#                                   sampleRatio=1.0, seed=0)\n",
    "# Docstring:\n",
    "# Reads the directory of images from the local or remote source.\n",
    "\n",
    "# .. note:: If multiple jobs are run in parallel with different sampleRatio or recursive flag,\n",
    "#     there may be a race condition where one job overwrites the hadoop configs of another.\n",
    "\n",
    "# .. note:: If sample ratio is less than 1, sampling uses a PathFilter that is efficient but\n",
    "#     potentially non-deterministic.\n",
    "\n",
    "# :param str path: Path to the image directory.\n",
    "# :param bool recursive: Recursive search flag.\n",
    "# :param int numPartitions: Number of DataFrame partitions.\n",
    "# :param bool dropImageFailures: Drop the files that are not valid images.\n",
    "# :param float sampleRatio: Fraction of the images loaded.\n",
    "# :param int seed: Random number seed.\n",
    "# :return: a :class:`DataFrame` with a single column of \"images\",\n",
    "#        see ImageSchema for details."
   ]
  },
  {
   "cell_type": "code",
   "execution_count": 9,
   "metadata": {},
   "outputs": [
    {
     "data": {
      "text/plain": [
       "30"
      ]
     },
     "execution_count": 9,
     "metadata": {},
     "output_type": "execute_result"
    }
   ],
   "source": [
    "# In[16]:\n",
    "daisy_df = imageIO.readImagesWithCustomFn(img_dir + \"/daisy\", decode_f=imageIO.PIL_decode).withColumn(\"label\", lit(0))\n",
    "daisy_df.count()\n",
    "\n",
    "# Signature: imageIO.readImagesWithCustomFn(path, decode_f, numPartition=None)\n",
    "# Docstring:\n",
    "# Read a directory of images (or a single image) into a DataFrame using a custom library to\n",
    "# decode the images.\n",
    "\n",
    "# :param path: str, file path.\n",
    "# :param decode_f: function to decode the raw bytes into an array compatible with one of the\n",
    "#     supported OpenCv modes. see @imageIO.PIL_decode for an example."
   ]
  },
  {
   "cell_type": "code",
   "execution_count": 10,
   "metadata": {},
   "outputs": [],
   "source": [
    "# In[ ]:\n",
    "tulips_train, tulips_test = tulips_df.randomSplit([0.8, 0.2])\n",
    "daisy_train, daisy_test = daisy_df.randomSplit([0.8, 0.2])"
   ]
  },
  {
   "cell_type": "code",
   "execution_count": 11,
   "metadata": {},
   "outputs": [],
   "source": [
    "# In[ ]:\n",
    "train_images_df = tulips_train.unionAll(daisy_train).cache()\n",
    "test_images_df = tulips_test.unionAll(daisy_test).cache()"
   ]
  },
  {
   "cell_type": "code",
   "execution_count": 12,
   "metadata": {},
   "outputs": [
    {
     "name": "stdout",
     "output_type": "stream",
     "text": [
      "48\n",
      "12\n"
     ]
    }
   ],
   "source": [
    "print(train_images_df.count())\n",
    "print(test_images_df.count())"
   ]
  },
  {
   "cell_type": "code",
   "execution_count": 13,
   "metadata": {},
   "outputs": [
    {
     "name": "stdout",
     "output_type": "stream",
     "text": [
      "root\n",
      " |-- image: struct (nullable = true)\n",
      " |    |-- origin: string (nullable = true)\n",
      " |    |-- height: integer (nullable = false)\n",
      " |    |-- width: integer (nullable = false)\n",
      " |    |-- nChannels: integer (nullable = false)\n",
      " |    |-- mode: integer (nullable = false)\n",
      " |    |-- data: binary (nullable = false)\n",
      " |-- label: integer (nullable = false)\n",
      "\n"
     ]
    }
   ],
   "source": [
    "train_images_df.printSchema()"
   ]
  },
  {
   "cell_type": "code",
   "execution_count": 14,
   "metadata": {},
   "outputs": [
    {
     "name": "stdout",
     "output_type": "stream",
     "text": [
      "StructType(List(StructField(image,StructType(List(StructField(origin,StringType,true),StructField(height,IntegerType,false),StructField(width,IntegerType,false),StructField(nChannels,IntegerType,false),StructField(mode,IntegerType,false),StructField(data,BinaryType,false))),true),StructField(label,IntegerType,false)))\n"
     ]
    }
   ],
   "source": [
    "print(train_images_df.schema)"
   ]
  },
  {
   "cell_type": "markdown",
   "metadata": {},
   "source": [
    "## Part 2 "
   ]
  },
  {
   "cell_type": "code",
   "execution_count": 15,
   "metadata": {},
   "outputs": [],
   "source": [
    "from pyspark.ml.classification import LogisticRegression\n",
    "from pyspark.ml.evaluation import MulticlassClassificationEvaluator\n",
    "from pyspark.ml import Pipeline"
   ]
  },
  {
   "cell_type": "code",
   "execution_count": 16,
   "metadata": {},
   "outputs": [],
   "source": [
    "from sparkdl import DeepImageFeaturizer"
   ]
  },
  {
   "cell_type": "code",
   "execution_count": 17,
   "metadata": {},
   "outputs": [],
   "source": [
    "featurizer = DeepImageFeaturizer(inputCol=\"image\", outputCol=\"features\", modelName=\"InceptionV3\")\n",
    "\n",
    "# Init signature: DeepImageFeaturizer(inputCol=None, outputCol=None, \n",
    "#                                     modelName=None, \n",
    "#                                     scaleHint='SCALE_AREA_AVERAGING')\n",
    "# Docstring:     \n",
    "# Applies the model specified by its popular name, with its prediction layer(s) chopped off,\n",
    "# to the image column in DataFrame. The output is a MLlib Vector so that DeepImageFeaturizer\n",
    "# can be used in a MLlib Pipeline.\n",
    "# The input image column should be ImageSchema."
   ]
  },
  {
   "cell_type": "code",
   "execution_count": 18,
   "metadata": {},
   "outputs": [],
   "source": [
    "lr = LogisticRegression(maxIter=20, regParam=0.05, elasticNetParam=0.3, labelCol=\"label\")\n",
    "\n",
    "p = Pipeline(stages=[featurizer, lr])\n",
    "\n",
    "model = p.fit(train_images_df)    # train_images_df is a dataset of images and labels"
   ]
  },
  {
   "cell_type": "code",
   "execution_count": 19,
   "metadata": {},
   "outputs": [],
   "source": [
    "# Inspect training error\n",
    "fitted_train_df = model.transform(train_images_df.limit(10))"
   ]
  },
  {
   "cell_type": "code",
   "execution_count": 20,
   "metadata": {},
   "outputs": [
    {
     "name": "stdout",
     "output_type": "stream",
     "text": [
      "root\n",
      " |-- image: struct (nullable = true)\n",
      " |    |-- origin: string (nullable = true)\n",
      " |    |-- height: integer (nullable = false)\n",
      " |    |-- width: integer (nullable = false)\n",
      " |    |-- nChannels: integer (nullable = false)\n",
      " |    |-- mode: integer (nullable = false)\n",
      " |    |-- data: binary (nullable = false)\n",
      " |-- label: integer (nullable = false)\n",
      " |-- features: vector (nullable = true)\n",
      " |-- rawPrediction: vector (nullable = true)\n",
      " |-- probability: vector (nullable = true)\n",
      " |-- prediction: double (nullable = false)\n",
      "\n"
     ]
    }
   ],
   "source": [
    "fitted_train_df.printSchema()"
   ]
  },
  {
   "cell_type": "code",
   "execution_count": 21,
   "metadata": {},
   "outputs": [],
   "source": [
    "predictionAndLabels = fitted_train_df.select(\"prediction\", \"label\")"
   ]
  },
  {
   "cell_type": "code",
   "execution_count": 22,
   "metadata": {},
   "outputs": [
    {
     "name": "stdout",
     "output_type": "stream",
     "text": [
      "Training set accuracy = 1.0\n"
     ]
    }
   ],
   "source": [
    "evaluator = MulticlassClassificationEvaluator(metricName=\"accuracy\")\n",
    "print(\"Training set accuracy = \" + str(evaluator.evaluate(predictionAndLabels)))"
   ]
  },
  {
   "cell_type": "code",
   "execution_count": 23,
   "metadata": {},
   "outputs": [
    {
     "name": "stdout",
     "output_type": "stream",
     "text": [
      "Test set accuracy = 1.0\n"
     ]
    }
   ],
   "source": [
    "# Inspect testing error\n",
    "fitted_test_df = model.transform(test_images_df.limit(10))\n",
    "predictionAndLabels = fitted_test_df.select(\"prediction\", \"label\")\n",
    "\n",
    "evaluator = MulticlassClassificationEvaluator(metricName=\"accuracy\")\n",
    "print(\"Test set accuracy = \" + str(evaluator.evaluate(predictionAndLabels)))"
   ]
  },
  {
   "cell_type": "code",
   "execution_count": 24,
   "metadata": {},
   "outputs": [
    {
     "name": "stdout",
     "output_type": "stream",
     "text": [
      "root\n",
      " |-- image: struct (nullable = true)\n",
      " |    |-- origin: string (nullable = true)\n",
      " |    |-- height: integer (nullable = false)\n",
      " |    |-- width: integer (nullable = false)\n",
      " |    |-- nChannels: integer (nullable = false)\n",
      " |    |-- mode: integer (nullable = false)\n",
      " |    |-- data: binary (nullable = false)\n",
      " |-- label: integer (nullable = false)\n",
      " |-- features: vector (nullable = true)\n",
      " |-- rawPrediction: vector (nullable = true)\n",
      " |-- probability: vector (nullable = true)\n",
      " |-- prediction: double (nullable = false)\n",
      "\n"
     ]
    }
   ],
   "source": [
    "fitted_test_df.printSchema()"
   ]
  },
  {
   "cell_type": "code",
   "execution_count": 25,
   "metadata": {},
   "outputs": [
    {
     "data": {
      "text/plain": [
       "[Row(probability=DenseVector([0.0148, 0.9852]))]"
      ]
     },
     "execution_count": 25,
     "metadata": {},
     "output_type": "execute_result"
    }
   ],
   "source": [
    "fitted_test_df.select(\"probability\").take(1)"
   ]
  },
  {
   "cell_type": "code",
   "execution_count": 26,
   "metadata": {},
   "outputs": [
    {
     "data": {
      "text/plain": [
       "0.9851838298776144"
      ]
     },
     "execution_count": 26,
     "metadata": {},
     "output_type": "execute_result"
    }
   ],
   "source": [
    "fitted_test_df.select(\"probability\").take(1)[0][0][1]"
   ]
  },
  {
   "cell_type": "code",
   "execution_count": 27,
   "metadata": {},
   "outputs": [],
   "source": [
    "# COMMAND ----------\n",
    "def _p11(v):\n",
    "  return float(v[1])\n",
    "\n",
    "p11 = udf(_p11, DoubleType())"
   ]
  },
  {
   "cell_type": "code",
   "execution_count": 28,
   "metadata": {},
   "outputs": [],
   "source": [
    "# COMMAND ----------\n",
    "def _p1(v):\n",
    "  return float(v.array[1])\n",
    "\n",
    "p1 = udf(_p1, DoubleType())"
   ]
  },
  {
   "cell_type": "code",
   "execution_count": 29,
   "metadata": {},
   "outputs": [
    {
     "name": "stdout",
     "output_type": "stream",
     "text": [
      "+--------------------+-----+--------------------+--------------------+--------------------+----------+------------------+\n",
      "|               image|label|            features|       rawPrediction|         probability|prediction|               p_1|\n",
      "+--------------------+-----+--------------------+--------------------+--------------------+----------+------------------+\n",
      "|[file:/D:/Learn/G...|    1|[0.0,0.4272569119...|[-4.1971090928960...|[0.01481617012238...|       1.0|0.9851838298776144|\n",
      "|[file:/D:/Learn/G...|    1|[1.04818153381347...|[-2.9468799135994...|[0.04988418288782...|       1.0|0.9501158171121739|\n",
      "|[file:/D:/Learn/G...|    1|[0.0,0.0,2.699823...|[-2.0780772894035...|[0.11124592357950...|       1.0|0.8887540764204914|\n",
      "|[file:/D:/Learn/G...|    1|[0.0,0.8529530763...|[-3.5127146706501...|[0.02895261692765...|       1.0| 0.971047383072343|\n",
      "|[file:/D:/Learn/G...|    1|[0.05848193168640...|[-3.5488074453439...|[0.02795496140989...|       1.0|0.9720450385901044|\n",
      "+--------------------+-----+--------------------+--------------------+--------------------+----------+------------------+\n",
      "only showing top 5 rows\n",
      "\n"
     ]
    }
   ],
   "source": [
    "fitted_test_df.withColumn(\"p_1\", p11(fitted_test_df.probability)).show(5)"
   ]
  },
  {
   "cell_type": "code",
   "execution_count": 30,
   "metadata": {},
   "outputs": [],
   "source": [
    "df = fitted_test_df.withColumn(\"p_1\", p1(fitted_test_df.probability))"
   ]
  },
  {
   "cell_type": "code",
   "execution_count": 31,
   "metadata": {},
   "outputs": [
    {
     "name": "stdout",
     "output_type": "stream",
     "text": [
      "+--------------------+-----+--------------------+--------------------+--------------------+----------+--------------------+\n",
      "|               image|label|            features|       rawPrediction|         probability|prediction|                 p_1|\n",
      "+--------------------+-----+--------------------+--------------------+--------------------+----------+--------------------+\n",
      "|[file:/D:/Learn/G...|    1|[0.0,0.4272569119...|[-4.1971090928960...|[0.01481617012238...|       1.0|  0.9851838298776144|\n",
      "|[file:/D:/Learn/G...|    1|[1.04818153381347...|[-2.9468799135994...|[0.04988418288782...|       1.0|  0.9501158171121739|\n",
      "|[file:/D:/Learn/G...|    1|[0.0,0.0,2.699823...|[-2.0780772894035...|[0.11124592357950...|       1.0|  0.8887540764204914|\n",
      "|[file:/D:/Learn/G...|    1|[0.0,0.8529530763...|[-3.5127146706501...|[0.02895261692765...|       1.0|   0.971047383072343|\n",
      "|[file:/D:/Learn/G...|    1|[0.05848193168640...|[-3.5488074453439...|[0.02795496140989...|       1.0|  0.9720450385901044|\n",
      "|[file:/D:/Learn/G...|    0|[0.0,0.0234446227...|[3.68833242920892...|[0.97559673605596...|       0.0|0.024403263944035167|\n",
      "|[file:/D:/Learn/G...|    0|[0.0,1.2654095888...|[2.56011979726147...|[0.92825043683049...|       0.0| 0.07174956316950797|\n",
      "|[file:/D:/Learn/G...|    0|[0.0,0.9883093833...|[4.05930321494049...|[0.98303184586159...|       0.0|0.016968154138408954|\n",
      "|[file:/D:/Learn/G...|    0|[0.29323047399520...|[3.00433183848632...|[0.95276944159999...|       0.0|  0.0472305584000098|\n",
      "|[file:/D:/Learn/G...|    0|[0.0,0.0,0.0,0.0,...|[1.40196189433121...|[0.80249502700031...|       0.0|  0.1975049729996854|\n",
      "+--------------------+-----+--------------------+--------------------+--------------------+----------+--------------------+\n",
      "\n"
     ]
    }
   ],
   "source": [
    "df.show(10)"
   ]
  },
  {
   "cell_type": "code",
   "execution_count": 32,
   "metadata": {},
   "outputs": [],
   "source": [
    "wrong_df = df.orderBy(expr(\"abs(p_1 - label)\"), ascending=False)"
   ]
  },
  {
   "cell_type": "code",
   "execution_count": 33,
   "metadata": {},
   "outputs": [
    {
     "name": "stdout",
     "output_type": "stream",
     "text": [
      "+--------------------+-----+--------------------+--------------------+--------------------+----------+--------------------+\n",
      "|               image|label|            features|       rawPrediction|         probability|prediction|                 p_1|\n",
      "+--------------------+-----+--------------------+--------------------+--------------------+----------+--------------------+\n",
      "|[file:/D:/Learn/G...|    0|[0.0,0.0,0.0,0.0,...|[1.40196189433121...|[0.80249502700031...|       0.0|  0.1975049729996854|\n",
      "|[file:/D:/Learn/G...|    1|[0.0,0.0,2.699823...|[-2.0780772894035...|[0.11124592357950...|       1.0|  0.8887540764204914|\n",
      "|[file:/D:/Learn/G...|    0|[0.0,1.2654095888...|[2.56011979726147...|[0.92825043683049...|       0.0| 0.07174956316950797|\n",
      "|[file:/D:/Learn/G...|    1|[1.04818153381347...|[-2.9468799135994...|[0.04988418288782...|       1.0|  0.9501158171121739|\n",
      "|[file:/D:/Learn/G...|    0|[0.29323047399520...|[3.00433183848632...|[0.95276944159999...|       0.0|  0.0472305584000098|\n",
      "|[file:/D:/Learn/G...|    1|[0.0,0.8529530763...|[-3.5127146706501...|[0.02895261692765...|       1.0|   0.971047383072343|\n",
      "|[file:/D:/Learn/G...|    1|[0.05848193168640...|[-3.5488074453439...|[0.02795496140989...|       1.0|  0.9720450385901044|\n",
      "|[file:/D:/Learn/G...|    0|[0.0,0.0234446227...|[3.68833242920892...|[0.97559673605596...|       0.0|0.024403263944035167|\n",
      "|[file:/D:/Learn/G...|    0|[0.0,0.9883093833...|[4.05930321494049...|[0.98303184586159...|       0.0|0.016968154138408954|\n",
      "|[file:/D:/Learn/G...|    1|[0.0,0.4272569119...|[-4.1971090928960...|[0.01481617012238...|       1.0|  0.9851838298776144|\n",
      "+--------------------+-----+--------------------+--------------------+--------------------+----------+--------------------+\n",
      "\n"
     ]
    }
   ],
   "source": [
    "wrong_df.show(10)"
   ]
  },
  {
   "cell_type": "code",
   "execution_count": 34,
   "metadata": {},
   "outputs": [
    {
     "data": {
      "text/plain": [
       "0"
      ]
     },
     "execution_count": 34,
     "metadata": {},
     "output_type": "execute_result"
    }
   ],
   "source": [
    "# COMMAND ----------\n",
    "image1_df = imageIO.readImagesWithCustomFn(img_dir_comb, decode_f=imageIO.PIL_decode)\n",
    "image1_df.count() \n",
    "#Will not recurse through directories"
   ]
  },
  {
   "cell_type": "code",
   "execution_count": 35,
   "metadata": {},
   "outputs": [
    {
     "name": "stdout",
     "output_type": "stream",
     "text": [
      "+--------------------+-----+\n",
      "|               image|label|\n",
      "+--------------------+-----+\n",
      "|[file:/D:/Learn/G...|    1|\n",
      "|[file:/D:/Learn/G...|    1|\n",
      "|[file:/D:/Learn/G...|    1|\n",
      "|[file:/D:/Learn/G...|    1|\n",
      "|[file:/D:/Learn/G...|    1|\n",
      "|[file:/D:/Learn/G...|    1|\n",
      "|[file:/D:/Learn/G...|    1|\n",
      "|[file:/D:/Learn/G...|    1|\n",
      "|[file:/D:/Learn/G...|    1|\n",
      "|[file:/D:/Learn/G...|    1|\n",
      "+--------------------+-----+\n",
      "only showing top 10 rows\n",
      "\n"
     ]
    }
   ],
   "source": [
    "train_images_df.show(10)"
   ]
  },
  {
   "cell_type": "code",
   "execution_count": 36,
   "metadata": {},
   "outputs": [
    {
     "name": "stdout",
     "output_type": "stream",
     "text": [
      "+--------------------+-----+\n",
      "|               image|label|\n",
      "+--------------------+-----+\n",
      "|[file:/D:/Learn/G...|    1|\n",
      "|[file:/D:/Learn/G...|    1|\n",
      "|[file:/D:/Learn/G...|    1|\n",
      "|[file:/D:/Learn/G...|    1|\n",
      "|[file:/D:/Learn/G...|    1|\n",
      "|[file:/D:/Learn/G...|    1|\n",
      "|[file:/D:/Learn/G...|    1|\n",
      "|[file:/D:/Learn/G...|    1|\n",
      "|[file:/D:/Learn/G...|    1|\n",
      "|[file:/D:/Learn/G...|    1|\n",
      "+--------------------+-----+\n",
      "only showing top 10 rows\n",
      "\n"
     ]
    }
   ],
   "source": [
    "train_images_df.show(10)"
   ]
  },
  {
   "cell_type": "code",
   "execution_count": 37,
   "metadata": {},
   "outputs": [],
   "source": [
    "image_df = train_images_df.unionAll(test_images_df)"
   ]
  },
  {
   "cell_type": "code",
   "execution_count": 38,
   "metadata": {},
   "outputs": [
    {
     "name": "stdout",
     "output_type": "stream",
     "text": [
      "+--------------------+-----+\n",
      "|               image|label|\n",
      "+--------------------+-----+\n",
      "|[file:/D:/Learn/G...|    1|\n",
      "|[file:/D:/Learn/G...|    1|\n",
      "|[file:/D:/Learn/G...|    1|\n",
      "|[file:/D:/Learn/G...|    1|\n",
      "|[file:/D:/Learn/G...|    1|\n",
      "|[file:/D:/Learn/G...|    1|\n",
      "|[file:/D:/Learn/G...|    1|\n",
      "|[file:/D:/Learn/G...|    1|\n",
      "|[file:/D:/Learn/G...|    1|\n",
      "|[file:/D:/Learn/G...|    1|\n",
      "+--------------------+-----+\n",
      "only showing top 10 rows\n",
      "\n"
     ]
    }
   ],
   "source": [
    "image_df.show(10)"
   ]
  },
  {
   "cell_type": "code",
   "execution_count": 39,
   "metadata": {},
   "outputs": [],
   "source": [
    "predictions_transfer_df = model.transform(image_df).cache()"
   ]
  },
  {
   "cell_type": "code",
   "execution_count": 40,
   "metadata": {},
   "outputs": [
    {
     "name": "stdout",
     "output_type": "stream",
     "text": [
      "+--------------------+-----+--------------------+--------------------+--------------------+----------+\n",
      "|               image|label|            features|       rawPrediction|         probability|prediction|\n",
      "+--------------------+-----+--------------------+--------------------+--------------------+----------+\n",
      "|[file:/D:/Learn/G...|    1|[0.0,0.0,0.0,0.0,...|[-3.2110744003065...|[0.03875109380452...|       1.0|\n",
      "|[file:/D:/Learn/G...|    1|[0.0,0.9765790700...|[-4.0164494456135...|[0.01769796022814...|       1.0|\n",
      "|[file:/D:/Learn/G...|    1|[1.43618118762969...|[-3.2169692472658...|[0.03853211006698...|       1.0|\n",
      "|[file:/D:/Learn/G...|    1|[0.0,0.0,0.0,0.0,...|[-3.4733017899780...|[0.03008149686384...|       1.0|\n",
      "|[file:/D:/Learn/G...|    1|[0.25410449504852...|[-3.4679241210213...|[0.03023879608859...|       1.0|\n",
      "+--------------------+-----+--------------------+--------------------+--------------------+----------+\n",
      "only showing top 5 rows\n",
      "\n"
     ]
    }
   ],
   "source": [
    "predictions_transfer_df.show(5)"
   ]
  },
  {
   "cell_type": "code",
   "execution_count": null,
   "metadata": {},
   "outputs": [],
   "source": []
  }
 ],
 "metadata": {
  "kernelspec": {
   "display_name": "pyspark-lab",
   "language": "python",
   "name": "pyspark-lab"
  },
  "language_info": {
   "codemirror_mode": {
    "name": "ipython",
    "version": 3
   },
   "file_extension": ".py",
   "mimetype": "text/x-python",
   "name": "python",
   "nbconvert_exporter": "python",
   "pygments_lexer": "ipython3",
   "version": "3.6.4"
  }
 },
 "nbformat": 4,
 "nbformat_minor": 2
}
