{
 "cells": [
  {
   "cell_type": "raw",
   "metadata": {
    "collapsed": true
   },
   "source": [
    "Traceback (most recent call last):\n",
    "  File \"/usr/lib/python3.5/site-packages/notebook/base/handlers.py\", line 516, in wrapper\n",
    "    result = yield gen.maybe_future(method(self, *args, **kwargs))\n",
    "  File \"/usr/lib64/python3.5/site-packages/tornado/gen.py\", line 1055, in run\n",
    "    value = future.result()\n",
    "  File \"/usr/lib64/python3.5/site-packages/tornado/concurrent.py\", line 238, in result\n",
    "    raise_exc_info(self._exc_info)\n",
    "  File \"<string>\", line 4, in raise_exc_info\n",
    "  File \"/usr/lib64/python3.5/site-packages/tornado/gen.py\", line 1069, in run\n",
    "    yielded = self.gen.send(value)\n",
    "  File \"/usr/lib/python3.5/site-packages/notebook/services/sessions/handlers.py\", line 69, in post\n",
    "    model = yield gen.maybe_future(sm.get_session(path=path))\n",
    "  File \"/usr/lib/python3.5/site-packages/notebook/services/sessions/sessionmanager.py\", line 170, in get_session\n",
    "    return self.row_to_model(row)\n",
    "  File \"/usr/lib/python3.5/site-packages/notebook/services/sessions/sessionmanager.py\", line 209, in row_to_model\n",
    "    raise KeyError\n",
    "KeyError\n"
   ]
  }
 ],
 "metadata": {
  "kernelspec": {
   "display_name": "Scala",
   "language": "scala",
   "name": "scala"
  }
 },
 "nbformat": 4,
 "nbformat_minor": 2
}
