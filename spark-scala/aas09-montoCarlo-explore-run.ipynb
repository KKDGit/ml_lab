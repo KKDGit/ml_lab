{
 "cells": [
  {
   "cell_type": "code",
   "execution_count": 5,
   "metadata": {},
   "outputs": [
    {
     "data": {
      "text/plain": [
       "Waiting for a Spark session to start..."
      ]
     },
     "metadata": {},
     "output_type": "display_data"
    },
    {
     "data": {
      "text/plain": [
       "Name: java.lang.SecurityException\n",
       "Message: Not allowed to invoke System.exit!\n",
       "StackTrace:   at org.apache.toree.security.KernelSecurityManager.checkExit(KernelSecurityManager.scala:147)\n",
       "  at java.lang.Runtime.exit(Runtime.java:107)\n",
       "  at java.lang.System.exit(System.java:971)\n",
       "  at org.apache.spark.ui.WebUI.bind(WebUI.scala:135)\n",
       "  at org.apache.spark.SparkContext$$anonfun$11.apply(SparkContext.scala:451)\n",
       "  at org.apache.spark.SparkContext$$anonfun$11.apply(SparkContext.scala:451)\n",
       "  at scala.Option.foreach(Option.scala:257)\n",
       "  at org.apache.spark.SparkContext.<init>(SparkContext.scala:451)\n",
       "  at org.apache.spark.SparkContext$.getOrCreate(SparkContext.scala:2493)\n",
       "  at org.apache.spark.sql.SparkSession$Builder$$anonfun$7.apply(SparkSession.scala:930)\n",
       "  at org.apache.spark.sql.SparkSession$Builder$$anonfun$7.apply(SparkSession.scala:921)\n",
       "  at scala.Option.getOrElse(Option.scala:121)\n",
       "  at org.apache.spark.sql.SparkSession$Builder.getOrCreate(SparkSession.scala:921)\n",
       "  at org.apache.toree.kernel.api.Kernel$$anonfun$1.apply(Kernel.scala:428)\n",
       "  at org.apache.toree.kernel.api.Kernel$$anonfun$1.apply(Kernel.scala:428)\n",
       "  at scala.concurrent.impl.Future$PromiseCompletingRunnable.liftedTree1$1(Future.scala:24)\n",
       "  at scala.concurrent.impl.Future$PromiseCompletingRunnable.run(Future.scala:24)\n",
       "  at scala.concurrent.impl.ExecutionContextImpl$AdaptedForkJoinTask.exec(ExecutionContextImpl.scala:121)\n",
       "  at scala.concurrent.forkjoin.ForkJoinTask.doExec(ForkJoinTask.java:260)\n",
       "  at scala.concurrent.forkjoin.ForkJoinPool$WorkQueue.runTask(ForkJoinPool.java:1339)\n",
       "  at scala.concurrent.forkjoin.ForkJoinPool.runWorker(ForkJoinPool.java:1979)"
      ]
     },
     "execution_count": 5,
     "metadata": {},
     "output_type": "execute_result"
    }
   ],
   "source": [
    "spark"
   ]
  },
  {
   "cell_type": "code",
   "execution_count": 2,
   "metadata": {},
   "outputs": [
    {
     "data": {
      "text/plain": [
       "Waiting for a Spark session to start..."
      ]
     },
     "metadata": {},
     "output_type": "display_data"
    },
    {
     "data": {
      "text/plain": [
       "lastException = null\n"
      ]
     },
     "metadata": {},
     "output_type": "display_data"
    },
    {
     "data": {
      "text/plain": [
       "Name: java.lang.SecurityException\n",
       "Message: Not allowed to invoke System.exit!\n",
       "StackTrace:   at java.lang.Runtime.exit(Runtime.java:107)\n",
       "  at java.lang.System.exit(System.java:971)\n",
       "  at org.apache.spark.ui.WebUI.bind(WebUI.scala:135)\n",
       "  at org.apache.spark.SparkContext$$anonfun$11.apply(SparkContext.scala:451)\n",
       "  at org.apache.spark.SparkContext$$anonfun$11.apply(SparkContext.scala:451)\n",
       "  at scala.Option.foreach(Option.scala:257)\n",
       "  at org.apache.spark.SparkContext.<init>(SparkContext.scala:451)\n",
       "  at org.apache.spark.SparkContext$.getOrCreate(SparkContext.scala:2493)\n",
       "  at org.apache.spark.sql.SparkSession$Builder$$anonfun$7.apply(SparkSession.scala:930)\n",
       "  at org.apache.spark.sql.SparkSession$Builder$$anonfun$7.apply(SparkSession.scala:921)\n",
       "  at scala.Option.getOrElse(Option.scala:121)\n",
       "  at org.apache.spark.sql.SparkSession$Builder.getOrCreate(SparkSession.scala:921)\n",
       "  at org.apache.toree.kernel.api.Kernel$$anonfun$1.apply(Kernel.scala:428)\n",
       "  at org.apache.toree.kernel.api.Kernel$$anonfun$1.apply(Kernel.scala:428)\n",
       "  at scala.concurrent.impl.Future$PromiseCompletingRunnable.liftedTree1$1(Future.scala:24)\n",
       "  at scala.concurrent.impl.Future$PromiseCompletingRunnable.run(Future.scala:24)\n",
       "  at scala.concurrent.impl.ExecutionContextImpl$AdaptedForkJoinTask.exec(ExecutionContextImpl.scala:121)\n",
       "  at scala.concurrent.forkjoin.ForkJoinTask.doExec(ForkJoinTask.java:260)\n",
       "  at scala.concurrent.forkjoin.ForkJoinPool$WorkQueue.runTask(ForkJoinPool.java:1339)\n",
       "  at scala.concurrent.forkjoin.ForkJoinPool.runWorker(ForkJoinPool.java:1979)"
      ]
     },
     "execution_count": 2,
     "metadata": {},
     "output_type": "execute_result"
    }
   ],
   "source": [
    "spark.sparkContext.getConf.getAll.foreach(x=>if(x._2.contains(\"/proxy/\")){println(x._2)})"
   ]
  },
  {
   "cell_type": "code",
   "execution_count": 3,
   "metadata": {},
   "outputs": [
    {
     "data": {
      "text/plain": [
       "lastException: Throwable = null\n"
      ]
     },
     "metadata": {},
     "output_type": "display_data"
    }
   ],
   "source": [
    "import scala.collection.JavaConversions._"
   ]
  },
  {
   "cell_type": "code",
   "execution_count": 4,
   "metadata": {},
   "outputs": [
    {
     "data": {
      "text/plain": [
       "os_name = Linux\n",
       "hdfs_home = /user/kranthidr\n"
      ]
     },
     "metadata": {},
     "output_type": "display_data"
    },
    {
     "data": {
      "text/plain": [
       "/user/kranthidr"
      ]
     },
     "execution_count": 4,
     "metadata": {},
     "output_type": "execute_result"
    }
   ],
   "source": [
    "val os_name = System.getProperty(\"os.name\")\n",
    "val hdfs_home = \"/user/\" + System.getProperty(\"user.home\").split(\"/\")(2)"
   ]
  },
  {
   "cell_type": "code",
   "execution_count": 4,
   "metadata": {},
   "outputs": [
    {
     "data": {
      "text/plain": [
       "path = /user/kranthidr/dataSets/nyc_taxidata2013/trip_data_1.csv\n"
      ]
     },
     "metadata": {},
     "output_type": "display_data"
    },
    {
     "data": {
      "text/plain": [
       "/user/kranthidr/dataSets/nyc_taxidata2013/trip_data_1.csv"
      ]
     },
     "execution_count": 4,
     "metadata": {},
     "output_type": "execute_result"
    }
   ],
   "source": [
    "val path = hdfs_home+\"/dataSets/nyc_taxidata2013/trip_data_1.csv\""
   ]
  },
  {
   "cell_type": "code",
   "execution_count": null,
   "metadata": {
    "collapsed": true
   },
   "outputs": [],
   "source": []
  },
  {
   "cell_type": "code",
   "execution_count": null,
   "metadata": {
    "collapsed": true
   },
   "outputs": [],
   "source": [
    "import java.io.File\n",
    "import java.time.LocalDate\n",
    "import java.time.format.DateTimeFormatter\n",
    "\n",
    "import scala.collection.mutable.ArrayBuffer\n",
    "import org.apache.spark.mllib.stat.KernelDensity\n",
    "import org.apache.spark.sql.{Dataset, SparkSession}\n",
    "import org.apache.spark.sql.functions\n",
    "import org.apache.spark.util.StatCounter\n",
    "import breeze.plot._\n",
    "import org.apache.commons.math3.distribution.ChiSquaredDistribution\n",
    "import org.apache.commons.math3.distribution.MultivariateNormalDistribution\n",
    "import org.apache.commons.math3.random.MersenneTwister\n",
    "import org.apache.commons.math3.stat.correlation.Covariance\n",
    "import org.apache.commons.math3.stat.regression.OLSMultipleLinearRegression"
   ]
  }
 ],
 "metadata": {
  "kernelspec": {
   "display_name": "0609 - Scala",
   "language": "scala",
   "name": "0609_scala"
  },
  "language_info": {
   "codemirror_mode": "text/x-scala",
   "file_extension": ".scala",
   "mimetype": "text/x-scala",
   "name": "scala",
   "pygments_lexer": "scala",
   "version": "2.11.8"
  }
 },
 "nbformat": 4,
 "nbformat_minor": 2
}
