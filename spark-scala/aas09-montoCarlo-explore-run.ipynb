{
 "cells": [
  {
   "cell_type": "code",
   "execution_count": 1,
   "metadata": {},
   "outputs": [],
   "source": [
    "import org.apache.spark.sql.SparkSession"
   ]
  },
  {
   "cell_type": "code",
   "execution_count": 3,
   "metadata": {},
   "outputs": [
    {
     "data": {
      "text/plain": [
       "spark = org.apache.spark.sql.SparkSession@49165f1f\n"
      ]
     },
     "metadata": {},
     "output_type": "display_data"
    },
    {
     "data": {
      "text/plain": [
       "lastException: Throwable = null\n"
      ]
     },
     "metadata": {},
     "output_type": "display_data"
    },
    {
     "data": {
      "text/html": [
       "<ul>\n",
       "<li><a href=\"Some(http://ip-172-31-38-146.ec2.internal:4042)\" target=\"new_tab\">Spark UI: application_1534772926501_7000</a></li>\n",
       "</ul>"
      ],
      "text/plain": [
       "Spark application_1534772926501_7000: Some(http://ip-172-31-38-146.ec2.internal:4042)"
      ]
     },
     "execution_count": 3,
     "metadata": {},
     "output_type": "execute_result"
    }
   ],
   "source": [
    "val spark = SparkSession.builder()\n",
    "                        .master(\"yarn\")\n",
    "                        .appName(\"aas09-montoCarlo-explore-run\")\n",
    "                        .config(\"spark.jars\",\"file://home/kranthidr5051/gitRepos/aas/ch06-lsa/target/ch06-lsa-2.0.0-jar-with-dependencies.jar\")\n",
    "                        .getOrCreate()"
   ]
  },
  {
   "cell_type": "code",
   "execution_count": 1,
   "metadata": {},
   "outputs": [
    {
     "data": {
      "text/plain": [
       "Waiting for a Spark session to start..."
      ]
     },
     "metadata": {},
     "output_type": "display_data"
    },
    {
     "data": {
      "text/html": [
       "<ul>\n",
       "<li><a href=\"Some(http://ip-172-31-38-146.ec2.internal:4041)\" target=\"new_tab\">Spark UI: application_1534772926501_6986</a></li>\n",
       "</ul>"
      ],
      "text/plain": [
       "Spark application_1534772926501_6986: Some(http://ip-172-31-38-146.ec2.internal:4041)"
      ]
     },
     "execution_count": 1,
     "metadata": {},
     "output_type": "execute_result"
    }
   ],
   "source": [
    "spark"
   ]
  },
  {
   "cell_type": "code",
   "execution_count": null,
   "metadata": {},
   "outputs": [],
   "source": [
    "spark.sparkContext.getConf.getAll.foreach(x=>if(x._2.contains(\"/proxy/\")){println(x._2)})"
   ]
  },
  {
   "cell_type": "code",
   "execution_count": null,
   "metadata": {},
   "outputs": [],
   "source": [
    "import scala.collection.JavaConversions._"
   ]
  },
  {
   "cell_type": "code",
   "execution_count": null,
   "metadata": {},
   "outputs": [],
   "source": [
    "val os_name = System.getProperty(\"os.name\")\n",
    "val hdfs_home = \"/user/\" + System.getProperty(\"user.home\").split(\"/\")(2)"
   ]
  },
  {
   "cell_type": "code",
   "execution_count": null,
   "metadata": {},
   "outputs": [],
   "source": [
    "val path = hdfs_home+\"/dataSets/nyc_taxidata2013/trip_data_1.csv\""
   ]
  },
  {
   "cell_type": "code",
   "execution_count": null,
   "metadata": {
    "collapsed": true
   },
   "outputs": [],
   "source": [
    "import java.io.File\n",
    "import java.time.LocalDate\n",
    "import java.time.format.DateTimeFormatter\n",
    "\n",
    "import scala.collection.mutable.ArrayBuffer\n",
    "import org.apache.spark.mllib.stat.KernelDensity\n",
    "import org.apache.spark.sql.{Dataset, SparkSession}\n",
    "import org.apache.spark.sql.functions\n",
    "import org.apache.spark.util.StatCounter\n",
    "import breeze.plot._\n",
    "import org.apache.commons.math3.distribution.ChiSquaredDistribution\n",
    "import org.apache.commons.math3.distribution.MultivariateNormalDistribution\n",
    "import org.apache.commons.math3.random.MersenneTwister\n",
    "import org.apache.commons.math3.stat.correlation.Covariance\n",
    "import org.apache.commons.math3.stat.regression.OLSMultipleLinearRegression"
   ]
  },
  {
   "cell_type": "code",
   "execution_count": null,
   "metadata": {},
   "outputs": [],
   "source": [
    "val spark = SparkSession.builder().getOrCreate()\n",
    "    val runRisk = new RunRisk(spark)\n",
    "\n",
    "    val (stocksReturns, factorsReturns) = runRisk.readStocksAndFactors()\n",
    "    runRisk.plotDistribution(factorsReturns(2))\n",
    "    runRisk.plotDistribution(factorsReturns(3))\n",
    "\n",
    "    val numTrials = 10000000\n",
    "    val parallelism = 1000\n",
    "    val baseSeed = 1001L\n",
    "    val trials = runRisk.computeTrialReturns(stocksReturns, factorsReturns, baseSeed, numTrials,\n",
    "      parallelism)\n",
    "    trials.cache()\n",
    "    val valueAtRisk = runRisk.fivePercentVaR(trials)\n",
    "    val conditionalValueAtRisk = runRisk.fivePercentCVaR(trials)\n",
    "    println(\"VaR 5%: \" + valueAtRisk)\n",
    "    println(\"CVaR 5%: \" + conditionalValueAtRisk)\n",
    "    val varConfidenceInterval = runRisk.bootstrappedConfidenceInterval(trials,\n",
    "      runRisk.fivePercentVaR, 100, .05)\n",
    "    val cvarConfidenceInterval = runRisk.bootstrappedConfidenceInterval(trials,\n",
    "      runRisk.fivePercentCVaR, 100, .05)\n",
    "    println(\"VaR confidence interval: \" + varConfidenceInterval)\n",
    "    println(\"CVaR confidence interval: \" + cvarConfidenceInterval)\n",
    "    println(\"Kupiec test p-value: \" + runRisk.kupiecTestPValue(stocksReturns, valueAtRisk, 0.05))\n",
    "    runRisk.plotDistribution(trials)"
   ]
  }
 ],
 "metadata": {
  "kernelspec": {
   "display_name": "nsc - Scala",
   "language": "scala",
   "name": "nsc_scala"
  },
  "language_info": {
   "codemirror_mode": "text/x-scala",
   "file_extension": ".scala",
   "mimetype": "text/x-scala",
   "name": "scala",
   "pygments_lexer": "scala",
   "version": "2.11.8"
  },
  "toc": {
   "base_numbering": 1,
   "nav_menu": {},
   "number_sections": true,
   "sideBar": true,
   "skip_h1_title": false,
   "title_cell": "Table of Contents",
   "title_sidebar": "Contents",
   "toc_cell": false,
   "toc_position": {},
   "toc_section_display": true,
   "toc_window_display": false
  }
 },
 "nbformat": 4,
 "nbformat_minor": 2
}
