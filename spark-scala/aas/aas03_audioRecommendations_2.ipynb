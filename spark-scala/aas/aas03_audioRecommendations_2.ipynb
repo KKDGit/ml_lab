{
 "cells": [
  {
   "cell_type": "code",
   "execution_count": 1,
   "metadata": {},
   "outputs": [
    {
     "data": {
      "text/plain": [
       "Waiting for a Spark session to start..."
      ]
     },
     "metadata": {},
     "output_type": "display_data"
    },
    {
     "data": {
      "text/html": [
       "<ul>\n",
       "<li><a href=\"Some(http://gw02.itversity.com:4052)\" target=\"new_tab\">Spark UI: application_1533622723243_14892</a></li>\n",
       "</ul>"
      ],
      "text/plain": [
       "Spark application_1533622723243_14892: Some(http://gw02.itversity.com:4052)"
      ]
     },
     "execution_count": 1,
     "metadata": {},
     "output_type": "execute_result"
    }
   ],
   "source": [
    "spark"
   ]
  },
  {
   "cell_type": "code",
   "execution_count": 2,
   "metadata": {
    "collapsed": true
   },
   "outputs": [],
   "source": [
    "import scala.collection.Map\n",
    "import scala.collection.mutable.ArrayBuffer\n",
    "import scala.util.Random\n",
    "import org.apache.spark.broadcast.Broadcast\n",
    "import org.apache.spark.ml.recommendation.{ALS, ALSModel}\n",
    "import org.apache.spark.sql.{DataFrame, Dataset, SparkSession}\n",
    "import org.apache.spark.sql.functions._"
   ]
  },
  {
   "cell_type": "code",
   "execution_count": 3,
   "metadata": {},
   "outputs": [
    {
     "data": {
      "text/plain": [
       "Waiting for a Spark session to start..."
      ]
     },
     "metadata": {},
     "output_type": "display_data"
    },
    {
     "name": "stdout",
     "output_type": "stream",
     "text": [
      "http://rm01.itversity.com:19288/proxy/application_1533622723243_14892\n"
     ]
    }
   ],
   "source": [
    "spark.sparkContext.getConf.getAll.foreach(x=>if(x._2.contains(\"/proxy/\")){println(x._2)})"
   ]
  },
  {
   "cell_type": "code",
   "execution_count": 4,
   "metadata": {
    "collapsed": true
   },
   "outputs": [],
   "source": [
    "spark.sparkContext.setCheckpointDir(\"hdfs:///tmp/\")"
   ]
  },
  {
   "cell_type": "code",
   "execution_count": 5,
   "metadata": {},
   "outputs": [
    {
     "data": {
      "text/plain": [
       "base = hdfs:///user/kranthidr/dataSets/recommendations/audio_profiledata_06-May-2005/\n",
       "rawUserArtistData = [value: string]\n",
       "rawArtistData = [value: string]\n",
       "rawArtistAlias = [value: string]\n"
      ]
     },
     "metadata": {},
     "output_type": "display_data"
    },
    {
     "data": {
      "text/plain": [
       "[value: string]"
      ]
     },
     "execution_count": 5,
     "metadata": {},
     "output_type": "execute_result"
    }
   ],
   "source": [
    "val base = \"hdfs:///user/kranthidr/dataSets/recommendations/audio_profiledata_06-May-2005/\"\n",
    "val rawUserArtistData = spark.read.textFile(base + \"user_artist_data.txt\")\n",
    "val rawArtistData = spark.read.textFile(base + \"artist_data.txt\")\n",
    "val rawArtistAlias = spark.read.textFile(base + \"artist_alias.txt\")"
   ]
  },
  {
   "cell_type": "code",
   "execution_count": 6,
   "metadata": {},
   "outputs": [
    {
     "data": {
      "text/plain": [
       "24296858"
      ]
     },
     "execution_count": 6,
     "metadata": {},
     "output_type": "execute_result"
    }
   ],
   "source": [
    "rawUserArtistData.count()"
   ]
  },
  {
   "cell_type": "code",
   "execution_count": 7,
   "metadata": {},
   "outputs": [
    {
     "data": {
      "text/plain": [
       "1848707"
      ]
     },
     "execution_count": 7,
     "metadata": {},
     "output_type": "execute_result"
    }
   ],
   "source": [
    "rawArtistData.count()"
   ]
  },
  {
   "cell_type": "code",
   "execution_count": 8,
   "metadata": {},
   "outputs": [
    {
     "data": {
      "text/plain": [
       "193027"
      ]
     },
     "execution_count": 8,
     "metadata": {},
     "output_type": "execute_result"
    }
   ],
   "source": [
    "rawArtistAlias.count()"
   ]
  },
  {
   "cell_type": "code",
   "execution_count": 9,
   "metadata": {},
   "outputs": [
    {
     "name": "stdout",
     "output_type": "stream",
     "text": [
      "1000002 1 55\n",
      "1000002 1000006 33\n",
      "1000002 1000007 8\n",
      "1000002 1000009 144\n",
      "1000002 1000010 314\n"
     ]
    }
   ],
   "source": [
    "rawUserArtistData.take(5).foreach(println)"
   ]
  },
  {
   "cell_type": "code",
   "execution_count": 10,
   "metadata": {},
   "outputs": [
    {
     "name": "stdout",
     "output_type": "stream",
     "text": [
      "1134999\t06Crazy Life\n",
      "6821360\tPang Nakarin\n",
      "10113088\tTerfel, Bartoli- Mozart: Don\n",
      "10151459\tThe Flaming Sidebur\n",
      "6826647\tBodenstandig 3000\n"
     ]
    }
   ],
   "source": [
    "rawArtistData.take(5).foreach(println)"
   ]
  },
  {
   "cell_type": "code",
   "execution_count": 11,
   "metadata": {},
   "outputs": [
    {
     "name": "stdout",
     "output_type": "stream",
     "text": [
      "1092764\t1000311\n",
      "1095122\t1000557\n",
      "6708070\t1007267\n",
      "10088054\t1042317\n",
      "1195917\t1042317\n"
     ]
    }
   ],
   "source": [
    "rawArtistAlias.take(5).foreach(println)"
   ]
  },
  {
   "cell_type": "code",
   "execution_count": 12,
   "metadata": {},
   "outputs": [
    {
     "data": {
      "text/plain": [
       "buildCounts: (rawUserArtistData: org.apache.spark.sql.Dataset[String], bArtistAlias: org.apache.spark.broadcast.Broadcast[scala.collection.Map[Int,Int]])org.apache.spark.sql.DataFrame\n"
      ]
     },
     "metadata": {},
     "output_type": "display_data"
    }
   ],
   "source": [
    "def buildCounts(\n",
    "      rawUserArtistData: Dataset[String],\n",
    "      bArtistAlias: Broadcast[Map[Int,Int]]): DataFrame = {\n",
    "    rawUserArtistData.map { line =>\n",
    "      val Array(userID, artistID, count) = line.split(' ').map(_.toInt)\n",
    "      val finalArtistID = bArtistAlias.value.getOrElse(artistID, artistID)\n",
    "      (userID, finalArtistID, count)\n",
    "    }.toDF(\"user\", \"artist\", \"count\")\n",
    "  }"
   ]
  },
  {
   "cell_type": "code",
   "execution_count": 13,
   "metadata": {},
   "outputs": [
    {
     "data": {
      "text/plain": [
       "buildArtistAlias: (rawArtistAlias: org.apache.spark.sql.Dataset[String])scala.collection.Map[Int,Int]\n"
      ]
     },
     "metadata": {},
     "output_type": "display_data"
    }
   ],
   "source": [
    "def buildArtistAlias(rawArtistAlias: Dataset[String]): Map[Int,Int] = {\n",
    "    rawArtistAlias.flatMap { line =>\n",
    "      val Array(artist, alias) = line.split('\\t')\n",
    "      if (artist.isEmpty) {\n",
    "        None\n",
    "      } else {\n",
    "        Some((artist.toInt, alias.toInt))\n",
    "      }\n",
    "    }.collect().toMap\n",
    "  }"
   ]
  },
  {
   "cell_type": "code",
   "execution_count": 14,
   "metadata": {},
   "outputs": [
    {
     "data": {
      "text/plain": [
       "bArtistAlias = Broadcast(17)\n"
      ]
     },
     "metadata": {},
     "output_type": "display_data"
    },
    {
     "data": {
      "text/plain": [
       "Broadcast(17)"
      ]
     },
     "execution_count": 14,
     "metadata": {},
     "output_type": "execute_result"
    }
   ],
   "source": [
    "val bArtistAlias = spark.sparkContext.broadcast(buildArtistAlias(rawArtistAlias))"
   ]
  },
  {
   "cell_type": "code",
   "execution_count": 15,
   "metadata": {},
   "outputs": [
    {
     "data": {
      "text/plain": [
       "allData = [user: int, artist: int ... 1 more field]\n",
       "trainData = [user: int, artist: int ... 1 more field]\n",
       "cvData = [user: int, artist: int ... 1 more field]\n"
      ]
     },
     "metadata": {},
     "output_type": "display_data"
    },
    {
     "data": {
      "text/plain": [
       "[user: int, artist: int ... 1 more field]"
      ]
     },
     "execution_count": 15,
     "metadata": {},
     "output_type": "execute_result"
    }
   ],
   "source": [
    "val allData = buildCounts(rawUserArtistData, bArtistAlias)\n",
    "val Array(trainData, cvData) = allData.randomSplit(Array(0.9, 0.1))\n",
    "trainData.cache()\n",
    "cvData.cache()"
   ]
  },
  {
   "cell_type": "code",
   "execution_count": 16,
   "metadata": {},
   "outputs": [
    {
     "data": {
      "text/plain": [
       "bAllArtistIDs = Broadcast(23)\n"
      ]
     },
     "metadata": {},
     "output_type": "display_data"
    },
    {
     "data": {
      "text/plain": [
       "Broadcast(23)"
      ]
     },
     "execution_count": 16,
     "metadata": {},
     "output_type": "execute_result"
    }
   ],
   "source": [
    "val bAllArtistIDs = spark.sparkContext.broadcast(allData.select(\"artist\").as[Int].distinct().collect())"
   ]
  },
  {
   "cell_type": "code",
   "execution_count": 17,
   "metadata": {
    "collapsed": true
   },
   "outputs": [],
   "source": [
    "import org.apache.spark.ml.evaluation.RegressionEvaluator"
   ]
  },
  {
   "cell_type": "code",
   "execution_count": 18,
   "metadata": {},
   "outputs": [
    {
     "data": {
      "text/plain": [
       "Name: Syntax Error.\n",
       "Message: \n",
       "StackTrace: "
      ]
     },
     "execution_count": 18,
     "metadata": {},
     "output_type": "execute_result"
    }
   ],
   "source": [
    "// val evaluations =\n",
    "//       for (rank     <- Seq(5,  30);\n",
    "//            regParam <- Seq(1.0, 0.0001);\n",
    "//            alpha    <- Seq(1.0, 40.0))\n",
    "//       yield {\n",
    "//         val model = new ALS().\n",
    "//           setSeed(Random.nextLong()).\n",
    "//           setImplicitPrefs(true).\n",
    "//           setRank(rank).setRegParam(regParam).\n",
    "//           setAlpha(alpha).setMaxIter(20).\n",
    "//           setUserCol(\"user\").setItemCol(\"artist\").\n",
    "//           setRatingCol(\"count\").\n",
    "//           setColdStartStrategy(\"drop\").\n",
    "//           fit(trainData)\n",
    "//         val predictions = model.transform(cvData)\n",
    "//         val evaluator = new RegressionEvaluator().setMetricName(\"rmse\").setLabelCol(\"count\").setPredictionCol(\"prediction\")\n",
    "//         val rmse = evaluator.evaluate(predictions)\n",
    "          \n",
    "//         model.userFactors.unpersist()\n",
    "//         model.itemFactors.unpersist()\n",
    "//         println(rmse, rank, regParam, alpha)\n",
    "//         (rmse, (rank, regParam, alpha))\n",
    "//       }"
   ]
  },
  {
   "cell_type": "code",
   "execution_count": 19,
   "metadata": {},
   "outputs": [
    {
     "data": {
      "text/plain": [
       "Name: Syntax Error.\n",
       "Message: \n",
       "StackTrace: "
      ]
     },
     "execution_count": 19,
     "metadata": {},
     "output_type": "execute_result"
    }
   ],
   "source": [
    "// evaluations.sorted.reverse.foreach(println)"
   ]
  },
  {
   "cell_type": "code",
   "execution_count": 20,
   "metadata": {},
   "outputs": [
    {
     "data": {
      "text/plain": [
       "Name: Syntax Error.\n",
       "Message: \n",
       "StackTrace: "
      ]
     },
     "execution_count": 20,
     "metadata": {},
     "output_type": "execute_result"
    }
   ],
   "source": [
    "// evaluations.sorted.foreach(println)"
   ]
  },
  {
   "cell_type": "code",
   "execution_count": 21,
   "metadata": {},
   "outputs": [
    {
     "data": {
      "text/plain": [
       "Name: Syntax Error.\n",
       "Message: \n",
       "StackTrace: "
      ]
     },
     "execution_count": 21,
     "metadata": {},
     "output_type": "execute_result"
    }
   ],
   "source": [
    "// val rank =evaluations.sorted.head._2._1\n",
    "// val regParam=evaluations.sorted.head._2._2 \n",
    "// val alpha = evaluations.sorted.head._2._3"
   ]
  },
  {
   "cell_type": "code",
   "execution_count": 22,
   "metadata": {},
   "outputs": [
    {
     "data": {
      "text/plain": [
       "rank = 30\n",
       "regParam = 1.0E-4\n",
       "alpha = 40.0\n",
       "model = als_bb123a861b44\n",
       "predictions = [user: int, artist: int ... 2 more fields]\n",
       "evaluator = regEval_55c0d1b6b76d\n",
       "rmse = 294.1692232344606\n"
      ]
     },
     "metadata": {},
     "output_type": "display_data"
    },
    {
     "data": {
      "text/plain": [
       "294.1692232344606"
      ]
     },
     "execution_count": 22,
     "metadata": {},
     "output_type": "execute_result"
    }
   ],
   "source": [
    "val rank = 30\n",
    "val regParam = 1.0E-4\n",
    "val alpha = 40.0\n",
    "val model = new ALS().\n",
    "          setSeed(Random.nextLong()).\n",
    "          setImplicitPrefs(true).\n",
    "          setRank(rank).setRegParam(regParam).\n",
    "          setAlpha(alpha).setMaxIter(20).\n",
    "          setUserCol(\"user\").setItemCol(\"artist\").\n",
    "          setRatingCol(\"count\").\n",
    "          setColdStartStrategy(\"drop\").\n",
    "          fit(trainData)\n",
    "val predictions = model.transform(cvData)\n",
    "val evaluator = new RegressionEvaluator().setMetricName(\"rmse\").setLabelCol(\"count\").setPredictionCol(\"prediction\")\n",
    "val rmse = evaluator.evaluate(predictions)"
   ]
  },
  {
   "cell_type": "code",
   "execution_count": 23,
   "metadata": {},
   "outputs": [
    {
     "name": "stdout",
     "output_type": "stream",
     "text": [
      "+-------+------+-----+----------+\n",
      "|user   |artist|count|prediction|\n",
      "+-------+------+-----+----------+\n",
      "|1042671|463   |41   |1.0113472 |\n",
      "|1064119|463   |2    |0.9421004 |\n",
      "|1070243|463   |1    |0.9754186 |\n",
      "|2017486|463   |3    |0.9949184 |\n",
      "|2033127|463   |39   |1.0008838 |\n",
      "+-------+------+-----+----------+\n",
      "only showing top 5 rows\n",
      "\n"
     ]
    }
   ],
   "source": [
    "predictions.show(5, false)"
   ]
  },
  {
   "cell_type": "code",
   "execution_count": 24,
   "metadata": {},
   "outputs": [
    {
     "name": "stdout",
     "output_type": "stream",
     "text": [
      "+----+--------+-----+\n",
      "|user|artist  |count|\n",
      "+----+--------+-----+\n",
      "|116 |785     |3    |\n",
      "|120 |463     |1    |\n",
      "|120 |1012523 |1    |\n",
      "|120 |10647021|1    |\n",
      "|1014|979     |3    |\n",
      "+----+--------+-----+\n",
      "only showing top 5 rows\n",
      "\n"
     ]
    }
   ],
   "source": [
    "cvData.show(5,false)"
   ]
  },
  {
   "cell_type": "code",
   "execution_count": 32,
   "metadata": {},
   "outputs": [
    {
     "data": {
      "text/plain": [
       "users = [user: int]\n"
      ]
     },
     "metadata": {},
     "output_type": "display_data"
    },
    {
     "data": {
      "text/plain": [
       "[user: int]"
      ]
     },
     "execution_count": 32,
     "metadata": {},
     "output_type": "execute_result"
    }
   ],
   "source": [
    "// Generate top 10 movie recommendations for a specified set of users\n",
    "val users = cvData.select(model.getUserCol).distinct().limit(10)"
   ]
  },
  {
   "cell_type": "code",
   "execution_count": 33,
   "metadata": {},
   "outputs": [
    {
     "data": {
      "text/plain": [
       "userSubsetRecs = [user: int, recommendations: array<struct<artist:int,rating:float>>]\n"
      ]
     },
     "metadata": {},
     "output_type": "display_data"
    },
    {
     "data": {
      "text/plain": [
       "[user: int, recommendations: array<struct<artist:int,rating:float>>]"
      ]
     },
     "execution_count": 33,
     "metadata": {},
     "output_type": "execute_result"
    }
   ],
   "source": [
    "val userSubsetRecs = model.recommendForUserSubset(users, 10)"
   ]
  },
  {
   "cell_type": "code",
   "execution_count": 34,
   "metadata": {},
   "outputs": [
    {
     "data": {
      "text/plain": [
       "movies = [artist: int]\n"
      ]
     },
     "metadata": {},
     "output_type": "display_data"
    },
    {
     "data": {
      "text/plain": [
       "[artist: int]"
      ]
     },
     "execution_count": 34,
     "metadata": {},
     "output_type": "execute_result"
    }
   ],
   "source": [
    "// Generate top 10 user recommendations for a specified set of artists\n",
    "val movies = cvData.select(model.getItemCol).distinct().limit(10)"
   ]
  },
  {
   "cell_type": "code",
   "execution_count": 35,
   "metadata": {},
   "outputs": [
    {
     "data": {
      "text/plain": [
       "movieSubSetRecs = [artist: int, recommendations: array<struct<user:int,rating:float>>]\n"
      ]
     },
     "metadata": {},
     "output_type": "display_data"
    },
    {
     "data": {
      "text/plain": [
       "[artist: int, recommendations: array<struct<user:int,rating:float>>]"
      ]
     },
     "execution_count": 35,
     "metadata": {},
     "output_type": "execute_result"
    }
   ],
   "source": [
    "val movieSubSetRecs = model.recommendForItemSubset(movies, 10)"
   ]
  },
  {
   "cell_type": "code",
   "execution_count": 36,
   "metadata": {},
   "outputs": [
    {
     "name": "stdout",
     "output_type": "stream",
     "text": [
      "+-------+--------------------+\n",
      "|   user|     recommendations|\n",
      "+-------+--------------------+\n",
      "|1000092|[[1003214, 1.3375...|\n",
      "|1002892|[[506, 1.2277234]...|\n",
      "|1002401|[[1034635, 0.7877...|\n",
      "|1000614|[[4629, 1.1762543...|\n",
      "|1001824|[[4629, 1.3214068...|\n",
      "|1000693|[[1000113, 0.9633...|\n",
      "|1000349|[[1002782, 1.1347...|\n",
      "|1000565|[[615, 1.1303912]...|\n",
      "|1001375|[[1250092, 1.2189...|\n",
      "|1002195|[[1037206, 1.1342...|\n",
      "+-------+--------------------+\n",
      "\n",
      "+-------+--------------------+\n",
      "| artist|     recommendations|\n",
      "+-------+--------------------+\n",
      "|1006924|[[2037213, 1.4493...|\n",
      "|1322464|[[2051047, 1.3214...|\n",
      "|2152724|[[2024005, 0.5749...|\n",
      "|    137|[[2131285, 1.5404...|\n",
      "|1023157|[[1044581, 1.2914...|\n",
      "|   2923|[[1059334, 1.2451...|\n",
      "|1128583|[[2166359, 1.2187...|\n",
      "|   2259|[[1044648, 1.7408...|\n",
      "|1275899|[[2037213, 1.4853...|\n",
      "|1327749|[[1043751, 0.7366...|\n",
      "+-------+--------------------+\n",
      "\n"
     ]
    }
   ],
   "source": [
    "userSubsetRecs.show()\n",
    "movieSubSetRecs.show()"
   ]
  },
  {
   "cell_type": "code",
   "execution_count": 39,
   "metadata": {},
   "outputs": [
    {
     "name": "stdout",
     "output_type": "stream",
     "text": [
      "+-------+---------------------+\n",
      "|user   |col                  |\n",
      "+-------+---------------------+\n",
      "|1000144|[1037447, 1.3648036] |\n",
      "|1000144|[1011231, 1.3306216] |\n",
      "|1000144|[1008629, 1.256475]  |\n",
      "|1000144|[1301399, 1.2554127] |\n",
      "|1000144|[1010695, 1.2514899] |\n",
      "|1000144|[1051076, 1.2150977] |\n",
      "|1000144|[1012005, 1.210488]  |\n",
      "|1000144|[1022927, 1.2059901] |\n",
      "|1000144|[2160922, 1.1977018] |\n",
      "|1000144|[914, 1.1943628]     |\n",
      "|1001410|[1034635, 0.43859312]|\n",
      "|1001410|[1000113, 0.43616775]|\n",
      "|1001410|[979, 0.4360511]     |\n",
      "|1001410|[1177, 0.43496805]   |\n",
      "|1001410|[1231740, 0.43461528]|\n",
      "|1001410|[352, 0.43445012]    |\n",
      "|1001410|[189, 0.43409985]    |\n",
      "|1001410|[1205, 0.43408656]   |\n",
      "|1001410|[1270639, 0.43386883]|\n",
      "|1001410|[1307, 0.43364018]   |\n",
      "+-------+---------------------+\n",
      "only showing top 20 rows\n",
      "\n"
     ]
    }
   ],
   "source": [
    "userSubsetRecs.selectExpr(\"user\",\"explode(recommendations)\").show(20, false)"
   ]
  },
  {
   "cell_type": "code",
   "execution_count": 40,
   "metadata": {},
   "outputs": [
    {
     "name": "stdout",
     "output_type": "stream",
     "text": [
      "+--------+----------------------+\n",
      "|artist  |col                   |\n",
      "+--------+----------------------+\n",
      "|10628801|[2051151, 0.124753475]|\n",
      "|10628801|[2062682, 0.1136824]  |\n",
      "|10628801|[1070844, 0.11345446] |\n",
      "|10628801|[1004646, 0.10658086] |\n",
      "|10628801|[1052918, 0.098159686]|\n",
      "|10628801|[2078841, 0.09698816] |\n",
      "|10628801|[2053493, 0.09281278] |\n",
      "|10628801|[2009373, 0.092252836]|\n",
      "|10628801|[2049131, 0.08965781] |\n",
      "|10628801|[2025300, 0.08833962] |\n",
      "|1017864 |[1061434, 0.89051497] |\n",
      "|1017864 |[1026084, 0.79273033] |\n",
      "|1017864 |[2016026, 0.79050434] |\n",
      "|1017864 |[1062331, 0.77775455] |\n",
      "|1017864 |[1001440, 0.7684743]  |\n",
      "|1017864 |[1050213, 0.7631943]  |\n",
      "|1017864 |[1021827, 0.74281824] |\n",
      "|1017864 |[2055171, 0.728516]   |\n",
      "|1017864 |[2135148, 0.7182686]  |\n",
      "|1017864 |[1006261, 0.69207144] |\n",
      "+--------+----------------------+\n",
      "only showing top 20 rows\n",
      "\n"
     ]
    }
   ],
   "source": [
    "movieSubSetRecs.selectExpr(\"artist\",\"explode(recommendations)\").show(20, false)"
   ]
  },
  {
   "cell_type": "code",
   "execution_count": null,
   "metadata": {
    "collapsed": true
   },
   "outputs": [],
   "source": []
  }
 ],
 "metadata": {
  "kernelspec": {
   "display_name": "Spark - Scala",
   "language": "scala",
   "name": "spark_scala"
  },
  "language_info": {
   "codemirror_mode": "text/x-scala",
   "file_extension": ".scala",
   "mimetype": "text/x-scala",
   "name": "scala",
   "pygments_lexer": "scala",
   "version": "2.11.8"
  }
 },
 "nbformat": 4,
 "nbformat_minor": 2
}
