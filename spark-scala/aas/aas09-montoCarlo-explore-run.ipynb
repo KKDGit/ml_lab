{
 "cells": [
  {
   "cell_type": "code",
   "execution_count": 1,
   "metadata": {},
   "outputs": [
    {
     "data": {
      "text/plain": [
       "Waiting for a Spark session to start..."
      ]
     },
     "metadata": {},
     "output_type": "display_data"
    },
    {
     "data": {
      "text/html": [
       "<ul>\n",
       "<li><a href=\"Some(http://gw02.itversity.com:4045)\" target=\"new_tab\">Spark UI: application_1533622723243_21490</a></li>\n",
       "</ul>"
      ],
      "text/plain": [
       "Spark application_1533622723243_21490: Some(http://gw02.itversity.com:4045)"
      ]
     },
     "execution_count": 1,
     "metadata": {},
     "output_type": "execute_result"
    }
   ],
   "source": [
    "spark"
   ]
  },
  {
   "cell_type": "code",
   "execution_count": 2,
   "metadata": {},
   "outputs": [
    {
     "data": {
      "text/plain": [
       "Waiting for a Spark session to start..."
      ]
     },
     "metadata": {},
     "output_type": "display_data"
    },
    {
     "name": "stdout",
     "output_type": "stream",
     "text": [
      "http://rm01.itversity.com:19288/proxy/application_1533622723243_21490\n"
     ]
    }
   ],
   "source": [
    "spark.sparkContext.getConf.getAll.foreach(x=>if(x._2.contains(\"/proxy/\")){println(x._2)})"
   ]
  },
  {
   "cell_type": "code",
   "execution_count": 3,
   "metadata": {
    "collapsed": true
   },
   "outputs": [],
   "source": [
    "import scala.collection.JavaConversions._"
   ]
  },
  {
   "cell_type": "code",
   "execution_count": 4,
   "metadata": {},
   "outputs": [
    {
     "data": {
      "text/plain": [
       "os_name = Linux\n",
       "hdfs_home = /user/kranthidr\n"
      ]
     },
     "metadata": {},
     "output_type": "display_data"
    },
    {
     "data": {
      "text/plain": [
       "/user/kranthidr"
      ]
     },
     "execution_count": 4,
     "metadata": {},
     "output_type": "execute_result"
    }
   ],
   "source": [
    "val os_name = System.getProperty(\"os.name\")\n",
    "val hdfs_home = \"/user/\" + System.getProperty(\"user.home\").split(\"/\")(2)"
   ]
  },
  {
   "cell_type": "code",
   "execution_count": 5,
   "metadata": {},
   "outputs": [
    {
     "data": {
      "text/plain": [
       "path = /user/kranthidr\n"
      ]
     },
     "metadata": {},
     "output_type": "display_data"
    },
    {
     "data": {
      "text/plain": [
       "/user/kranthidr"
      ]
     },
     "execution_count": 5,
     "metadata": {},
     "output_type": "execute_result"
    }
   ],
   "source": [
    "val path = hdfs_home+\"\""
   ]
  },
  {
   "cell_type": "code",
   "execution_count": 6,
   "metadata": {
    "collapsed": true
   },
   "outputs": [],
   "source": [
    "import com.cloudera.datascience.risk._\n",
    "import com.cloudera.datascience.risk.RunRisk"
   ]
  },
  {
   "cell_type": "code",
   "execution_count": 7,
   "metadata": {
    "collapsed": true
   },
   "outputs": [],
   "source": [
    "import java.io.File\n",
    "import java.time.LocalDate\n",
    "import java.time.format.DateTimeFormatter\n",
    "\n",
    "import scala.collection.mutable.ArrayBuffer\n",
    "import org.apache.spark.mllib.stat.KernelDensity\n",
    "import org.apache.spark.sql.{Dataset, SparkSession}\n",
    "import org.apache.spark.sql.functions\n",
    "import org.apache.spark.util.StatCounter\n",
    "import breeze.plot._\n",
    "import org.apache.commons.math3.distribution.ChiSquaredDistribution\n",
    "import org.apache.commons.math3.distribution.MultivariateNormalDistribution\n",
    "import org.apache.commons.math3.random.MersenneTwister\n",
    "import org.apache.commons.math3.stat.correlation.Covariance\n",
    "import org.apache.commons.math3.stat.regression.OLSMultipleLinearRegression"
   ]
  },
  {
   "cell_type": "code",
   "execution_count": 8,
   "metadata": {},
   "outputs": [
    {
     "data": {
      "text/plain": [
       "runRisk = RunRisk(org.apache.spark.sql.SparkSession@4fb5bb20)\n"
      ]
     },
     "metadata": {},
     "output_type": "display_data"
    },
    {
     "data": {
      "text/plain": [
       "RunRisk(org.apache.spark.sql.SparkSession@4fb5bb20)"
      ]
     },
     "execution_count": 8,
     "metadata": {},
     "output_type": "execute_result"
    }
   ],
   "source": [
    "val runRisk = new RunRisk(spark)"
   ]
  },
  {
   "cell_type": "code",
   "execution_count": 9,
   "metadata": {},
   "outputs": [
    {
     "data": {
      "text/plain": [
       "stocksReturnsA = WrappedArray(Array(0.022950819672131244, 0.0, 0.015459723352319064, -0.006535947712418306, 0.021207177814029348, 0.0075187969924811904, 0.0057755775577557995, 0.0023923444976077465, 0.044887780548628506, 0.008012820512820484, 0.050986842105263094, 0.031249999999999903, 0.084703947368421, 0.04712460063897762, 0.03980099502487551, 0.028712059064807192, -0.01670644391408121, 0.0071599045346061934, 0.0182829888712242, 0.0, -0.035742035742035674, -0.03942380591357086, -0.05263157894736838, -0.019138755980861122, -0.02392344497607647, -0.029126213592232966, -0.03870458135860981, -0.032786885245901634, -0.08450704225352114, -0.040290088638195005, -0.06866614048934484, -0.041867954911433136, -0.02845528455284564, -0.022058823529411728, -0.0033333333333332624...\n"
      ]
     },
     "metadata": {},
     "output_type": "display_data"
    },
    {
     "data": {
      "text/plain": [
       "WrappedArray([D@1f0f5b4f, [D@5ed95ea1, [D@cd03e13, [D@78605bd8, [D@1d50a2b8, [D@968cbe5, [D@4455c7d, [D@7e8169b6, [D@66dc51bc, [D@29249961, [D@72c8e8c, [D@72158b06, [D@76406549, [D@7ba21571, [D@1819ac67, [D@468a49d9, [D@3395066c, [D@58f794f2, [D@dd8711f, [D@190835fc, [D@235f6d7, [D@6681b267, [D@281f6721, [D@70e0000b, [D@5d4ed38e, [D@363750ca, [D@65420f42, [D@1552abb9, [D@3e2bd83e, [D@32967e31, [D@475b4f3e, [D@47d42b0f, [D@27def1e3, [D@26b864df, [D@3b07fd89, [D@5ded35b5, [D@d6c9602, [D@681795ec, [D@6c78d6d2, [D@588c0675, [D@313947e0, [D@65d51cde, [D@4fb188f0, [D@77b690dd, [D@ccbcf8c, [D@41b50127, [D@280e7e9, [D@41f3af1c, [D@1396bf01, [D@7a43286d, [D@7ff92763, [D@23aefccf, [D@5e6210c, [D@6605619d, [D@50f18001, [D@4ed5654, [D@3037e984, [D@7df37f96, [D@215e09a1, [D@4fefa428, [D@409b0f98, [D@2672d7d2, [D@77b0c1bc, [D@45ccf586, [D@5d33d568, [D@6d4f555b, [D@1c83d46f, [D@3ec162bc, [D@7d9a7899, [D@6ae81ffc, [D@684a8e62, [D@5d2bd555, [D@73db20d9, [D@5966c6a1, [D@65637a71, [D@66619af5, [D@4c16a308, [D@23aa27e5, [D@5de46113, [D@3738fe68, [D@4e4f0564, [D@3ca88647, [D@42ba8438, [D@3201f9b9, [D@4d3beb8, [D@7cb18adb, [D@6abc5a31, [D@574dbaee, [D@4e72f8c1, [D@3e655486, [D@3600eca9, [D@c20ba4d, [D@55cdeff8, [D@411850a3, [D@704c898d, [D@7937b71b, [D@433f25ea, [D@40a1e866, [D@5435111e, [D@107efbec, [D@2a548c7c, [D@6579a388, [D@1938f3d8, [D@7efeda88, [D@70c79e47, [D@580a0634, [D@6f298de, [D@ed02812, [D@4229ba29, [D@4a1a3ffe, [D@58bc7a0b, [D@57a359b6, [D@58d44999, [D@432a68b2, [D@78fd2efe, [D@355eb6be, [D@4f3ca90d, [D@5f4327a0, [D@4ed86868, [D@ef3dc4b, [D@24ad6859, [D@6215354b, [D@6f839a49, [D@7f021276, [D@30a2526f, [D@7b56865d, [D@8f40aac, [D@670a2866, [D@45192fc2, [D@ab23d52, [D@223bf7c2, [D@14c4a2fb, [D@18afe89e, [D@36c0e74, [D@7e146c3c, [D@4f76da7f, [D@287a2017, [D@4b0684c2, [D@162e6412, [D@6f72f18a, [D@16711eeb, [D@69aea873, [D@c454fa0, [D@74431103, [D@6a5bcf26, [D@762a1f2e, [D@50347604, [D@3c13ae08, [D@8857453, [D@2ef0d902, [D@5d070e8e, [D@7cc588c8, [D@5f415cef, [D@77d1a6cc, [D@12c7b5c6, [D@4294ec9e, [D@17676607, [D@6dfa45e1, [D@423ca41d, [D@272950d8, [D@b525d64, [D@3438c4a2, [D@13038274, [D@7ec1af5c, [D@67e1749d, [D@158eb117, [D@1a1181f0, [D@695966a1, [D@570b28b, [D@6516bd3b, [D@731eae68, [D@51d0a2c4, [D@51b4b69f, [D@19b26f7, [D@770b542, [D@53e2f1ea, [D@2716b547, [D@7fe293cc, [D@7dbaf3d7, [D@3993302b, [D@2b3d06d3, [D@40aa8c8b, [D@6a24fb02, [D@4a968c05, [D@95e001a, [D@1d041b6e, [D@50b51f27, [D@2e3d5790, [D@579acc9d, [D@6af8726b, [D@12cc0434, [D@5609402a, [D@57768052, [D@7e34cbfd, [D@c2b8dab, [D@10bf8414, [D@7328e241, [D@2b9bb4fa, [D@7b0d22f7, [D@177e86a6, [D@23f054e2, [D@553a1802, [D@47b292c8, [D@241a772e, [D@56c600b, [D@1392ac, [D@536474b4, [D@2430caf1, [D@423a9a44, [D@5ea0e65d, [D@2e91f8e9, [D@c54c888, [D@1a2a9bfc, [D@43e114ea, [D@6296eacf, [D@482c6e9d, [D@617e91f, [D@4d9afb73, [D@180fa09d, [D@337c7d87, [D@a1a35e6, [D@10c116b5, [D@75af4778, [D@25ef8c0f, [D@7e813851, [D@666ded8a, [D@6976f2b8, [D@30a0946d, [D@47147198, [D@4e1cc54d, [D@10a11d04, [D@2416e081, [D@406add2a, [D@68f44ec7, [D@70a527e0, [D@63a4c39d, [D@7531d14e, [D@3ff93b59, [D@66ba9161, [D@23c70e00, [D@58070097, [D@2e52cb3d, [D@1cd1760f, [D@7fdcc9b, [D@671e674b, [D@5f2d43b6, [D@48db2752, [D@212bb3c6, [D@359bbc97, [D@9e7961, [D@116e2f97, [D@6d271bff, [D@5b07dc8, [D@7616596e, [D@1664c2ac, [D@4349cb7c, [D@4591a0e0, [D@1084c15, [D@31c98f3a, [D@3cd6b054, [D@7408818e, [D@37a303fe, [D@4a6efa6f, [D@43b3a766, [D@73875a6f, [D@5c941b12, [D@61943f6d, [D@3fc22cae, [D@76df4d1b, [D@aef9459, [D@4a40bd3e, [D@64494f84, [D@68f27183, [D@1e497d98, [D@51af9a22, [D@7f34cafc, [D@431c2f0, [D@51c1ca53, [D@7c9224c3, [D@25a87287, [D@2f840280, [D@70c8d671, [D@1d115097, [D@7bcb25f8, [D@74d4a803, [D@429983b6, [D@559bf69a, [D@77dded34, [D@2698c77c, [D@2892642a, [D@22b76884, [D@3a9b95ab, [D@5a5806a3, [D@61509af6, [D@783a2d10, [D@1e6ac971, [D@41da901, [D@617f145e, [D@4804e7cc, [D@ed8efc, [D@69d16a41, [D@70954ec1, [D@1fc0fd98, [D@73b60af2, [D@1157f5a7, [D@4b6e420a, [D@535a5ac2, [D@10f82bc1, [D@3e2c1eb4, [D@76b7569, [D@666b30c, [D@57112622, [D@9964bca, [D@550ab7ac, [D@664790d2, [D@38b99a0e, [D@3ca4ec8, [D@37d3eca, [D@5966ef77, [D@2dfb67bf, [D@7c96c0c6, [D@16772af0, [D@7804621e, [D@eb4343e, [D@44ee55de, [D@6b61c719, [D@302e4cf9, [D@1f949b06, [D@29626d8f, [D@4c5e3eb5, [D@e55fa43, [D@35221c24, [D@f16011a, [D@32003ddb, [D@13264e3a, [D@36c0b346, [D@9617a55, [D@3a3c6047, [D@1b4aaea4, [D@28237408, [D@2a12108b, [D@73f563d6, [D@3d84dc82, [D@e346c0e, [D@3498b30b, [D@6cab8d9d, [D@77d03c46, [D@5a296aae, [D@2bd88a0b, [D@1baf3d88, [D@6deb00b7, [D@7c866bbe, [D@13613ef7, [D@7140026e, [D@449b5a49, [D@b0f12ff, [D@118303ef, [D@60a120c3, [D@7e76778c, [D@d9d1a57, [D@408ec70, [D@6dc6630a, [D@2041a329, [D@456b5ad4, [D@6c34565, [D@58c3a884, [D@7536005e, [D@6a1449d6, [D@76e0d19c, [D@33a2c04c, [D@76530296, [D@3e41bf73, [D@4eddf516, [D@6b58fc21, [D@571046e, [D@36789994, [D@17acbf08, [D@3bb9f028, [D@3666c145, [D@44a04a24, [D@3686e947, [D@42ca670f, [D@42a6eafa, [D@41179e0, [D@5dc64f4, [D@143f895f, [D@61bb4018, [D@6eeaebb6, [D@8f7c95b, [D@606acc6b, [D@5b6aebfe, [D@62640c7e, [D@546fbc78, [D@62d02b0a, [D@6ee919b5, [D@2c2cffea, [D@5890a6b, [D@6662f9ab, [D@40e06063, [D@b78043a, [D@46ef9d6c, [D@37318bbb, [D@74110646, [D@3f03852a, [D@5bd7b5b, [D@3eea5404, [D@423556a9, [D@613ca110, [D@f3569cf, [D@63935659, [D@bfbd49c, [D@f4bc0d2, [D@2b94bbe5, [D@52cc0150, [D@74660a1, [D@56da6dcb, [D@581fbf66, [D@6aebe3b4, [D@5e1cd520, [D@5b2d5f1d, [D@7eec2f91, [D@4baf85bb, [D@73a2ec3b, [D@42c690e5, [D@5dc9af8b, [D@6a7c6bd4, [D@e5b8194, [D@786c7902, [D@68493473, [D@6162c065, [D@33e7aafc, [D@285861eb, [D@913223f, [D@7e85ba90, [D@703b4ff6, [D@1b872f23, [D@b95e4b6, [D@58979e6e, [D@72793e75, [D@5025f92e, [D@74b107c8, [D@10b193de, [D@2b809d2b, [D@5493fdfc, [D@28602fe1, [D@34537650, [D@1b15cc34, [D@5022beb7, [D@79949c75, [D@565a84e1, [D@631b9672, [D@26094ba0, [D@7ba31c20, [D@795ce239, [D@464b5366, [D@2af34444, [D@49d20f26, [D@5781710f, [D@4b4dd8fa, [D@7bac74b3, [D@225effdf, [D@7e8beb92, [D@5ba466b1, [D@4335989a, [D@16c03724, [D@37369915, [D@4f5fe0ac, [D@20414095, [D@372f2aae, [D@3452e36f, [D@4382fc9, [D@2e579233, [D@6063a70d, [D@430969f5, [D@60a503a, [D@14de8cc2, [D@69780a9b, [D@61b68080, [D@35e9970c, [D@5531b5ef, [D@7cb44100, [D@29536c96, [D@507bdf47, [D@83d966a, [D@56df6a2c, [D@64da8bbd, [D@6a55e186, [D@e3fa460, [D@231c3181, [D@132bd13c, [D@56b74b0e, [D@25d8f91c, [D@678a541f, [D@2ae5dbe3, [D@46e60a8a, [D@24141b53, [D@118b9962, [D@15b57273, [D@63f18815, [D@67bbc9bb, [D@2a361ca7, [D@142ed578, [D@7b7046c8, [D@42bfbe0c, [D@58f651d8, [D@3a11caab, [D@432e8d27, [D@7c5e1490, [D@16ccf252, [D@223c36b2, [D@154cc067, [D@193aacca, [D@689583dd, [D@2bdfa1db, [D@58e3033f, [D@14f3b815, [D@50bc4a3d, [D@63be888, [D@4601e98b, [D@4f3bd24e, [D@7d648436, [D@24c25cba, [D@6d46b418, [D@7cfeb25c, [D@25e2ccc1, [D@1373634b, [D@4bcde349, [D@4228c43e, [D@719f8c7e, [D@79fed03d, [D@5d8da3e0, [D@5980855b, [D@54f11e69, [D@5b0153f2, [D@6b2379d1, [D@365483b3, [D@6a8ac146, [D@3bc59126, [D@4b589a7e, [D@5903d1bd, [D@65bfbb2a, [D@72644a1a, [D@7de0a542, [D@3aa91d7a, [D@22d787ee, [D@72b33d34, [D@a015c95, [D@78b1c262, [D@6647d26d, [D@d76190c, [D@d1309c3, [D@7b4768d1, [D@23cb096e, [D@1ec8ca62, [D@b809569, [D@4bc16528, [D@303a8547, [D@6879d2f8, [D@67dd2943, [D@27f5f8b5, [D@438151b1, [D@65c9a52b, [D@6b501fe0, [D@63e8626f, [D@2aadbb7a, [D@2e5a3f9, [D@6921035a, [D@49faff0b, [D@ecbfb25, [D@219e7b6e, [D@404497d4, [D@5e582a70, [D@f9bf04d, [D@5d0cbfdb, [D@39126999, [D@2606cf61, [D@76cf4a74, [D@4e85c111, [D@647137f9, [D@741c91d1, [D@780cf9cc, [D@18e13295, [D@7542008f, [D@65c085ef, [D@7a1dd202, [D@6b79324e, [D@e5a01d6, [D@6fd4120f, [D@7bcd5035, [D@5984e640, [D@70e0817, [D@48853693, [D@59588b4e, [D@2790c0c3, [D@50292a96, [D@3179bfae, [D@2c664034, [D@dd10ba3, [D@14b5ed15, [D@68cda4e2, [D@76b43e2f, [D@73bdbf49, [D@48db296e, [D@4db46e23, [D@1aa664fc, [D@47fd716, [D@15fe0eae, [D@7bd5af44, [D@527da546, [D@28c00f78, [D@4d2effb0, [D@1b57d6de, [D@24bf0767, [D@c2c7747, [D@36c5da0d, [D@13011b2d, [D@4f59a215, [D@20a062f6, [D@38add15d, [D@236e6d16, [D@21253a64, [D@2314b64, [D@54c05546, [D@4169415, [D@c6878e9, [D@48a686b, [D@523667d9, [D@6230f7b6, [D@2d506429, [D@7ace88d8, [D@1ba730f7, [D@7ecfe972, [D@5090bbae, [D@5e96712c, [D@7c14c281, [D@7d913008, [D@2809b9df, [D@457ba2e3, [D@1fa17007, [D@6b44128b, [D@e66897d, [D@16125ee8, [D@2273565, [D@493cafe0, [D@732bfadb, [D@774a1f48, [D@4cfd80d9, [D@60926509, [D@4cc3b6e2, [D@6b54406d, [D@4b0fee96, [D@384670d3, [D@69e3b59f, [D@20fdc7e6, [D@14b2e631, [D@1ff9cc9c, [D@6bc2ddb1, [D@25cef5d8, [D@26ce1c3e, [D@7702b957, [D@ad0dd53, [D@58e289e4, [D@e1b412a, [D@6c3199bf, [D@6087eb2f, [D@2c66f372, [D@7820e5c5, [D@183c671f, [D@473d29a4, [D@5c5baf52, [D@23aa67d1, [D@5855e824, [D@760b9a83, [D@77ab8a2f, [D@7cfefe4, [D@702c33f1, [D@5ad970f5, [D@71886373, [D@9401269, [D@18621b0b, [D@92d8e2a, [D@3b8cf787, [D@325669c5, [D@3a6486c7, [D@5fdd037f, [D@331e7cc, [D@228be2e, [D@1c645212, [D@2b956c1a, [D@2716e123, [D@6088e221, [D@5e42c8e0, [D@5e379a8e, [D@4e387792, [D@69060d9e, [D@21cbdd96, [D@43cad0cb, [D@4ec3abc7, [D@1770357c, [D@68286d69, [D@7df1b42f, [D@2e3fb5c5, [D@38f2beab, [D@131adff9, [D@63ba5179, [D@30f85156, [D@1d52a604, [D@58f25740, [D@6972f4be, [D@1b727a27, [D@13988dcb, [D@591a90af, [D@27b35836, [D@2f18ada5, [D@78399b58, [D@75abe318, [D@48e47773, [D@22fb8e4f, [D@16ac3213, [D@3c35b0fd, [D@570117e7, [D@297672be, [D@5ebde129, [D@4f1e105b, [D@107f9870, [D@a06fb43, [D@3b83f783, [D@420b460, [D@6870008c, [D@55113222, [D@718af8ec, [D@7088c109, [D@1814cbf4, [D@44c86af6, [D@62a3b71b, [D@5495b2cf, [D@6a6088c2, [D@6df8c0a2, [D@129cb969, [D@6be6723f, [D@5aec119, [D@2ef8ecde, [D@59585f99, [D@177a907, [D@72a20639, [D@1b558aaf, [D@6abacb, [D@3ce90450, [D@5e185e3a, [D@69afa7a4, [D@3cc6e4b8, [D@4879acf4, [D@540cc24f, [D@400acded, [D@4be20270, [D@4e7919f4, [D@7cd5a4ce, [D@6aa66b1c, [D@310c15ba, [D@37bc1cd6, [D@669e3d3b, [D@3f39547f, [D@6ec927e7, [D@3944cc44, [D@2e2459b2, [D@5bcb6aa5, [D@7c9a8824, [D@63a35d1f, [D@6f466110, [D@6fd8a01f, [D@472bce68, [D@3e993837, [D@620b9015, [D@48f90c13, [D@5138c3ea, [D@2697117a, [D@18a2b685, [D@183bb816, [D@f8b0f68, [D@1189c322, [D@1c925908, [D@59acb984, [D@e8b0d96, [D@51c45fb6, [D@5f90169f, [D@63cce470, [D@35fdb222, [D@46b772c4, [D@194ca063, [D@1da7285e, [D@4593e56a, [D@38cf9e4e, [D@44fc6e8c, [D@603d5b95, [D@3a5f5a4d, [D@7e269ea6, [D@590907e0, [D@53621ea7, [D@13afbbb4, [D@59b6d4c9, [D@4891ee18, [D@bc5568b, [D@65592e5c, [D@aa6aea2, [D@4d8070c0, [D@6c5006f5, [D@40d7feed, [D@7fbb9beb, [D@31f3f2ac, [D@5df82dc9, [D@2227800d, [D@1602361, [D@2f28d773, [D@33a2213a, [D@2d9be8ab, [D@2de0bd52, [D@441a64d2, [D@6693369a, [D@14bf5453, [D@3c9d61bb, [D@2b36be0e, [D@54ee7a14, [D@3a9db116, [D@6d5a8f47, [D@73029a2c, [D@549b7082, [D@3d97e06, [D@3ac0f98d, [D@5d74c703, [D@5264a34f, [D@1a05de4b, [D@27b45017, [D@5c83c73d, [D@2b0a6939, [D@1f490d95, [D@1af8d283, [D@580054ce, [D@20bbad56, [D@77c92971, [D@2bf981c1, [D@71850654, [D@ca9d42f, [D@3215f66a, [D@55058e60, [D@c6b8532, [D@4e21203c, [D@531a2934, [D@2a95cbb9, [D@7a8799cc, [D@3de07660, [D@3fb1ab61, [D@3bfd672d, [D@7df2c067, [D@439ffacf, [D@71c7ab7e, [D@21536e64, [D@4ac963d1, [D@76bca1c5, [D@3a6c6837, [D@f60150, [D@1202d74, [D@1201061c, [D@4b75f9bb, [D@7bb98d04, [D@7b72448a, [D@61598c1e, [D@50509af, [D@326375a6, [D@5b5c2174, [D@76487f7d, [D@5b2d586a, [D@724ac8ec, [D@48271050, [D@7d213dbe, [D@4c7ec478, [D@685768b3, [D@18825079, [D@6cba521a, [D@565d16f1, [D@59cfe79, [D@f97772b, [D@3183ce41, [D@fd7ac1e, [D@6ddaf4ab, [D@59c0f814, [D@769ec4ab, [D@449b313a, [D@7e5eeaae, [D@2000ad29, [D@20bb9e1e, [D@3d3479d2, [D@3436ef40, [D@11fa650a, [D@6dcd5245, [D@73a95cc7, [D@7066f11d, [D@32f6082e, [D@352e3b4f, [D@c581649, [D@4b71e0c6, [D@49c436fe, [D@d7498ca, [D@41523d73, [D@561924f, [D@6dfa27db, [D@44614066, [D@1408443c, [D@1df25f18, [D@210a6782, [D@6fa671b5, [D@39d9e1d9, [D@365c6365, [D@4418245b, [D@18efdeb4, [D@6e4e3359, [D@3bdc22be, [D@3e63e362, [D@589f9064, [D@47d4b4d5, [D@1dc7b743, [D@3c1e3f6a, [D@18a6843d, [D@7ab6e9e0, [D@5aeb345a, [D@1743b502, [D@3be85cbb, [D@76dc4bcf, [D@7596f8aa, [D@7f77a8bf, [D@6033e6e, [D@12959f52, [D@50847602, [D@12f40efd, [D@d9ba283, [D@33cac36d, [D@400d9770, [D@72bcea6a, [D@22e3c104, [D@4757bf9e, [D@6b4d1613, [D@7eb75eaa, [D@42604b99, [D@3831b704, [D@3b4fc39f, [D@7f499852, [D@3fb538a1, [D@a8921c4, [D@4f1f5831, [D@7c27d288, [D@6ac18d9d, [D@29850600, [D@1cee1dd1, [D@5e9f3f56, [D@3854ec7d, [D@39604871, [D@550cda19, [D@724e3a61, [D@6d660751, [D@567ee94c, [D@65912d88, [D@660f8e69, [D@3b0e5176, [D@1a9bebd2, [D@768a6864, [D@6cecdc1a, [D@2520b510, [D@60a00f1d, [D@454c8225, [D@4f4a8a9a, [D@6fe23e56, [D@f5a0c50, [D@2e26fa34, [D@3523bb30, [D@4b4d234c, [D@14aa9ef9, [D@d442102, [D@2596f1a1, [D@7e3f11c, [D@477eea4f, [D@6b9e9f93, [D@799760b8, [D@61640587, [D@51f8b776, [D@4e85c8dd, [D@c55e315, [D@4d5c8725, [D@590bdaff, [D@39282223, [D@1a462358, [D@330aea9a, [D@34511226, [D@4c1007b5, [D@6767a18c, [D@35dd9c0, [D@3fa12baf, [D@73c0be41, [D@29710a74, [D@448f4543, [D@72c5e22e, [D@4017881, [D@2582f0df, [D@1b191c71, [D@461049ae, [D@49daf49d, [D@7b6cf171, [D@28c580f9, [D@6c5cf176, [D@72bc9e7c, [D@6ec71e23, [D@6a81994a, [D@61dd122d, [D@77842f14, [D@21e411c1, [D@4749977e, [D@4e8cb9c0, [D@1826c38a, [D@194db356, [D@12342566, [D@395dcc59, [D@1749726b, [D@63eab4d7, [D@50c6a2d9, [D@7ae839c, [D@5ba86328, [D@6d522886, [D@8678f9f, [D@7b265f6c, [D@638fd203, [D@1fe5c0ec, [D@2bcabff8, [D@62de48d2, [D@7f5c9140, [D@4e0fcce7, [D@30c48fa1, [D@20ccd9b3, [D@3b019a7b, [D@b590108, [D@1f743e45, [D@59336d59, [D@6ed6e646, [D@2d44ebd5, [D@13fc7e2e, [D@51e780ad, [D@85ab801, [D@24ae09c, [D@72b7e3f5, [D@1f38f7e6, [D@427fceb0, [D@17648863, [D@5a816931, [D@25e2240, [D@3ee866f5, [D@dfcc6db, [D@5c65feb4, [D@2fda8b5a, [D@52f89f9a, [D@39595100, [D@4a3a88c1, [D@31415a87, [D@2753077a, [D@54f193c1, [D@4a13751e, [D@713d8bb9, [D@4e6a2a33, [D@165dc7a4, [D@4737ebf4, [D@5a4ac0e8, [D@45ee4220, [D@3df6ddde, [D@4566e9df, [D@49272c1b, [D@7e6f985d, [D@757cb263, [D@7269502, [D@77113609, [D@753ef5c6, [D@65c1bea8, [D@56fcb997, [D@28237c3f, [D@2a313c38, [D@426df328, [D@716ecaf3, [D@421f8265, [D@616cb6e2, [D@4cb5fd54, [D@4b8b9f63, [D@75b930dd, [D@7166432e, [D@12da4f0b, [D@5bdaab4, [D@393e5d06, [D@7a02163c, [D@3ae0ac60, [D@52604982, [D@197df8a5, [D@73a4ae40, [D@4c189ff8, [D@1c64f3a0, [D@6aaa8859, [D@3caaede2, [D@344552d0, [D@f075e0b, [D@3151e7f2, [D@5affd9c7, [D@4432d39a, [D@71702a11, [D@4fa02dba, [D@6b35f468, [D@39494497, [D@4919c10d, [D@79af869, [D@4348da46, [D@30564344, [D@37c0fdea, [D@674902cb, [D@62d67e8e, [D@60185df3, [D@5087c3b7, [D@7ff7cc36, [D@2e04ef48, [D@cd1c8be, [D@622538e8, [D@2372cee6, [D@2a851b6f, [D@2813a2b9, [D@633a2d2b, [D@568ada54, [D@5456fd89, [D@61659bd0, [D@5384b1a2, [D@535c89fc, [D@30058cab, [D@7df33a60, [D@b0c8ddd, [D@3ca8f629, [D@205455c3, [D@44104b93, [D@2b1d44a9, [D@50ffe65d, [D@52874bcc, [D@140ddedc, [D@55f4f8f8, [D@7a163115, [D@12a7ccb0, [D@68a60b06, [D@1a671dd2, [D@51321912, [D@7ddc8dc8, [D@25fa574e, [D@75157ae, [D@46ea24df, [D@5f415307, [D@28f63f86, [D@2597e111, [D@324cf5a0, [D@67c04185, [D@7ed348f4, [D@64d6b156, [D@3162b999, [D@54cb0a59, [D@30bb6cdc, [D@61b6379c, [D@45bce442, [D@49a9a76e, [D@229fff0b, [D@72453613, [D@50f952ed, [D@546f1d4b, [D@955d76a, [D@52fb8dfd, [D@480fd375, [D@64a60a7a, [D@43ef7f03, [D@4df586e6, [D@7bd77056, [D@2ff6508c, [D@17d93516, [D@767a53bd, [D@36efd8e4, [D@2b809c85, [D@75af6d66, [D@516c3fd5, [D@190ce5e4, [D@364736f4, [D@388da907, [D@82fab54, [D@76724c70, [D@798d24dc, [D@2c1d7f7b, [D@591d04a7, [D@3de8d238, [D@2d53aa9d, [D@6a72feeb, [D@5bfbf73e, [D@2079876b, [D@104ec6bb, [D@6d36e7ff, [D@6970bf60, [D@5de3ffa, [D@63c35ae4, [D@3990407c, [D@55777391, [D@21a2b72a, [D@58cfcd80, [D@63e7e545, [D@de2f953, [D@394d1422, [D@1f487d46, [D@43d96e27, [D@596b3f6e, [D@8d6dc65, [D@54a83274, [D@5c08d690, [D@5c981230, [D@6213c832, [D@77bd6d96, [D@6d9b99a7, [D@718e0fb6, [D@d200bed, [D@11ed1602, [D@200af339, [D@21f8bb31, [D@2c0aa380, [D@55aeed05, [D@224a4fb2, [D@468f59f9, [D@3f60f40b, [D@1d84f027, [D@6dc31bfa, [D@513fc72a, [D@69c7b1aa, [D@53f8617d, [D@2691ac33, [D@9b8295c, [D@5d269320, [D@4dc5e270, [D@661e2fcf, [D@2ea41899, [D@477231fe, [D@25c68d02, [D@3231be22, [D@3c5f182d, [D@6a743399, [D@7bcb0d48, [D@44346cbd, [D@ee8a66, [D@4bcd9919, [D@684f6c65, [D@ff9a455, [D@7b30a276, [D@5c92f958, [D@4f2d8aeb, [D@d345457, [D@73e97495, [D@38fa1b89, [D@1ba3b4af, [D@341acd60, [D@c6f5aaa, [D@64a12efd, [D@62a1f80a, [D@3258f3, [D@76fee855, [D@1bc5f6b1, [D@76492c6b, [D@642e1791, [D@6513f701, [D@51d7f56c, [D@6ec2b149, [D@7ac4a19f, [D@95fa39, [D@6e8703d2, [D@1534afb2, [D@4aa33cd2, [D@65c8438d, [D@33874575, [D@37e2588, [D@5068cc99, [D@779b3932, [D@7ebe7659, [D@c1e5e63, [D@1a04577d, [D@34f8afa6, [D@39f90bde, [D@47eab7c4, [D@7f6dbffb, [D@e99aa2f, [D@7f4ff7d9, [D@6d093b63, [D@7f89c35e, [D@3c82d652, [D@3c730f24, [D@1885e9ea, [D@29275a97, [D@3bd39a7, [D@27931cdb, [D@10ee6b7a, [D@38e6812, [D@691419c5, [D@56deb5f8, [D@3588b1e2, [D@453691b9, [D@ca562eb, [D@2f7777f2, [D@5f80d45f, [D@2e4a2d4f, [D@95fb057, [D@1d039e69, [D@44f883ba, [D@3b27fe3f, [D@4f0e3c04, [D@4e7f135a, [D@4e1abc7c, [D@4a486586, [D@74988ed7, [D@424bb6dd, [D@59290bb4, [D@50c43142, [D@601af3bb, [D@7f784c3b, [D@6e1d9ccb, [D@1fa2fe6b, [D@2812410f, [D@15b6d9a2, [D@17cfe41b, [D@1f16012f, [D@253621fb, [D@6ee9736, [D@6ee954cc, [D@41593f47, [D@55f4e76e, [D@27519dc1, [D@33af2d3, [D@b9146f4, [D@79ac0f7f, [D@52382a1e, [D@6c0e6e0, [D@767a62a, [D@1ea9864e, [D@d52375f, [D@ca437f3, [D@36c886bb, [D@6401fdda, [D@78f5c6ca, [D@55436d88, [D@274cc4c5, [D@4c4812db, [D@1add4e0e, [D@54bc4ff0, [D@1517c34e, [D@19c5c5fd, [D@699845f5, [D@5fed44f9, [D@74cbe1f9, [D@439638b0, [D@688a6ada, [D@5df531be, [D@769ad7d0, [D@43b220b, [D@3f5c44ec, [D@4bd0ea78, [D@6bd49085, [D@3622cc8e, [D@6b048582, [D@274b31b0, [D@68d4dd64, [D@48323a4c, [D@7d58e5d, [D@796de9a6, [D@371c3412, [D@6e2598e7, [D@45a95418, [D@531fa5d2, [D@5f5a707, [D@4755f5fe, [D@48537098, [D@664c6d75, [D@4ea92324, [D@263bc50a, [D@75bfb6e5, [D@701d4ae2, [D@772af7c6, [D@f416fbc, [D@741e82f, [D@1d91e87f, [D@3da5b8cc, [D@391d1c4b, [D@31958bd7, [D@23d55f8a, [D@3326e0e4, [D@62084d8f, [D@7fdeb92a, [D@767e9054, [D@72db6fbf, [D@529f305e, [D@5802c4ce, [D@5afc13aa, [D@73f339dd, [D@5845ea3d, [D@16af614f, [D@2cf44173, [D@4623a8e1, [D@31c0a61a, [D@5c081c74, [D@5279315f, [D@9c6ef51, [D@3d026805, [D@21f5386d, [D@3a1d06c5, [D@49fdab0, [D@2af3d866, [D@224dbb05, [D@70b4aaa7, [D@a04b45b, [D@3e807d95, [D@71da7cd3, [D@24ee11dd, [D@be7df77, [D@36b6774b, [D@14a8b9aa, [D@409c321b, [D@75355118, [D@703c7cda, [D@2188fe9e, [D@a50c5e, [D@5fc730c3, [D@4c8e4d4d, [D@2a14264c, [D@27b18ac, [D@645c6108, [D@5a06bceb, [D@51abd7a1, [D@b4f0b40, [D@c1c6f00, [D@63927b8c, [D@6c0bae80, [D@1fedbd4a, [D@70e6a5d8, [D@d8ee53, [D@31962f66, [D@4363d3f3, [D@66e7622, [D@4183baca, [D@416e5083, [D@1ccfff16, [D@69e555cb, [D@356ce7d7, [D@63553b1, [D@65e12b2e, [D@26e97154, [D@74696801, [D@586d15e6, [D@3439ed9e, [D@59b7599c, [D@66a10bcb, [D@56d3f0dc, [D@2d7db285, [D@4e65650f, [D@2074d05b, [D@69e89199, [D@2941ffbb, [D@4ce9ba81, [D@4a994d4f, [D@675069dc, [D@414afeaa, [D@407669b0, [D@4085b7c4, [D@247f3881, [D@32562d0a, [D@411ee919, [D@2cc85d69, [D@71aed341, [D@72938e03, [D@44f3e769, [D@2abec98b, [D@2d0d3346, [D@43804372, [D@18132cc4, [D@44bd4cdc, [D@6ed00e, [D@41b498a2, [D@4040e95c, [D@6e358624, [D@18adc54c, [D@7d393f73, [D@3af42381, [D@7832865d, [D@ec3bbb2, [D@3a35cfbe, [D@21461b52, [D@4d2a7149, [D@5ea74d75, [D@4afb2120, [D@5b762fa6, [D@45c8adb8, [D@21e09c91, [D@32014bac, [D@58605955, [D@58459a8c, [D@7d649101, [D@4500f92a, [D@1ff0ba2e, [D@6b95c2a6, [D@32a0ba4c, [D@70abcc9b, [D@6a90296a, [D@2fd5566c, [D@1810eb00, [D@36f1338d, [D@5dc19740, [D@58a2dca2, [D@4775645d, [D@78a75a65, [D@290da9a6, [D@678427e9, [D@b3fe0c8, [D@4989e7b8, [D@d8d27b6, [D@4bf0e281, [D@3f3d7297, [D@390ff6ef, [D@5d5bd6ef, [D@1173c32f, [D@458ea25c, [D@3709c8c, [D@9fdea3, [D@f7a0f24, [D@3fd6c0d5, [D@38c5bf5f, [D@46511422, [D@190d20e3, [D@10d48b7f, [D@5fee17d, [D@4b4005e4, [D@3bba2e57, [D@f01d52c, [D@7d8628b8, [D@36226dc9, [D@5c0025cc, [D@5da933d5, [D@11261330, [D@34cf78f8, [D@69bc05e8, [D@7d9fb491, [D@5c018781, [D@13c62c41, [D@1a5cf894, [D@1a67fc72, [D@4a8a4d30, [D@680cd404, [D@156909c9, [D@30c8e37a, [D@28b3cb9e, [D@26918678, [D@7bebe422, [D@c4f0b16, [D@3a96de3a, [D@109e3d56, [D@34701193, [D@4013abb0, [D@4cf8da86, [D@2ded2ac2, [D@19255a65, [D@44363cda, [D@4e90f230, [D@a6f6a1a, [D@39aaff40, [D@4c8fd443, [D@5c7ae90, [D@74092b88, [D@1ab79ab6, [D@28a8786f, [D@1023e0c4, [D@2dcbdc23, [D@b0f8106, [D@600feb08, [D@6f25020d, [D@1cfce10e, [D@6b8c4426, [D@74c4a5f4, [D@33b6e40b, [D@483997e2, [D@411d57b7, [D@1027b165, [D@14b589d6, [D@10379a25, [D@3b3cc77b, [D@163df5e0, [D@2efe25c8, [D@2346480, [D@5fee6ca2, [D@2605004a, [D@798ab127, [D@58bbcaf2, [D@741c363b, [D@7a156fa2, [D@563aea4e, [D@50505621, [D@45680ffe, [D@14d1108e, [D@1538f0c0, [D@478b4d18, [D@4299ade8, [D@5ed09055, [D@cbcd5bf, [D@1142aabd, [D@1e3ba390, [D@44b3ca3a, [D@2ec8ee3e, [D@2a5bae18, [D@69bfafe0, [D@33074af7, [D@5a57fbb7, [D@2d8bb58b, [D@395fcf75, [D@30867a5b, [D@55e9b5bf, [D@253e6564, [D@625d22d1, [D@610ad863, [D@79d6ddb0, [D@2f1592ab, [D@24d57632, [D@132b6b0b, [D@5c5f1f83, [D@5f5c4e69, [D@5037c756, [D@188c8d68, [D@3c0b3afd, [D@1990413, [D@6f7a7e01, [D@1361494b, [D@76584508, [D@3f287e4c, [D@39e85de, [D@1aacbff7, [D@2ee8c9af, [D@524e0820, [D@2509c7c2, [D@5a258793, [D@32e888c9, [D@10c599bc, [D@7b196bb1, [D@df6625e, [D@7bae1de9, [D@471a6359, [D@77eedce8, [D@4934a4d9, [D@427eb943, [D@566a1afe, [D@57628547, [D@3b9cf11e, [D@c9ff38f, [D@a24a508, [D@492f51b6, [D@15674d8c, [D@6697c724, [D@49b4321b, [D@7a25687a, [D@5501519f, [D@df702fc, [D@65bbddb3, [D@340c1fc6, [D@6b5e3d71, [D@5e8b2204, [D@65e62a23, [D@3140eb76, [D@2beffd9a, [D@2cf371e1, [D@7890f16e, [D@4e3dae51, [D@1aea8921, [D@2d219fe4, [D@524500af, [D@71a96390, [D@3fc45f05, [D@1e3b39a6, [D@640102b6, [D@5e0e5845, [D@432f08f6, [D@41eef3c, [D@686649bb, [D@4406f882, [D@7fd5304c, [D@c415785, [D@5630fc27, [D@2501cc8b, [D@7380cf37, [D@75fb53bd, [D@247b48e1, [D@f35bd71, [D@7a3932d7, [D@55f0f096, [D@2b328689, [D@94e78ab, [D@3ad25cdf, [D@68746f53, [D@574dba1a, [D@2dbc0b78, [D@5208eb4, [D@4e6577b4, [D@74428908, [D@39e8bb33, [D@38bcd794, [D@5d01cfe0, [D@3deb1781, [D@4126022c, [D@1f786deb, [D@4cd5cf2b, [D@29e78e2f, [D@5821de5d, [D@46ae787, [D@6624ccb6, [D@73a7a0ab, [D@25a24bb4, [D@7627d658, [D@3626e556, [D@78cab9c1, [D@4f82a287, [D@75f3839, [D@65271d1, [D@2b7bd46b, [D@7137cd19, [D@fd7adf6, [D@1a1e8924, [D@6fb3de80, [D@2023896a, [D@12293885, [D@7c90c44d, [D@d264281, [D@31f2f296, [D@6a44193d, [D@108c1a94, [D@2f81704e, [D@9c1416a, [D@43862c9e, [D@332ec6c0, [D@1789d3eb, [D@14c00a61, [D@665026bb, [D@238de477, [D@7ac27d66, [D@6ec5e35d, [D@9c765c0, [D@452586d3, [D@2c65fa5c, [D@6d7b3b86, [D@5f20ba8c, [D@36daaca5, [D@35ee0738, [D@1fdbd08, [D@5bd39361, [D@388fb33a, [D@7d9da4d4, [D@11645392, [D@566b8244, [D@1338fdd0, [D@3934067, [D@30587b44, [D@3a2ba6a9, [D@6e290a41, [D@7720ff9b, [D@4512860, [D@6328c8ad, [D@45f5ad8b, [D@35595e89, [D@3846626a, [D@1d8ea86f, [D@75ffd7a0, [D@aad6280, [D@1f3148d, [D@69d6190c, [D@621f8141, [D@34746e0, [D@1a096d79, [D@43ce094d, [D@5dc58dfc, [D@648ca0e2, [D@35bf7baf, [D@6888834, [D@77d34f74, [D@76d96adc, [D@38f505ab, [D@7a7ee3a9, [D@17bbab7d, [D@2a89acdc, [D@3ac13c7b, [D@372ff321, [D@7d0546fa, [D@1a0deaca, [D@291c3f14, [D@616267ed, [D@3607cfad, [D@43a9281d, [D@b054be3, [D@792a0861, [D@7158ca4e, [D@7b3bfdb8, [D@5ac0fb6f, [D@73008956)"
      ]
     },
     "execution_count": 9,
     "metadata": {},
     "output_type": "execute_result"
    }
   ],
   "source": [
    "val (stocksReturnsA, factorsReturns) = runRisk.readStocksAndFactors()"
   ]
  },
  {
   "cell_type": "code",
   "execution_count": 10,
   "metadata": {},
   "outputs": [
    {
     "data": {
      "text/plain": [
       "class scala.collection.mutable.WrappedArray$ofRef"
      ]
     },
     "execution_count": 10,
     "metadata": {},
     "output_type": "execute_result"
    }
   ],
   "source": [
    "stocksReturnsA.getClass"
   ]
  },
  {
   "cell_type": "code",
   "execution_count": 11,
   "metadata": {},
   "outputs": [
    {
     "data": {
      "text/plain": [
       "1799"
      ]
     },
     "execution_count": 11,
     "metadata": {},
     "output_type": "execute_result"
    }
   ],
   "source": [
    "stocksReturnsA.length"
   ]
  },
  {
   "cell_type": "code",
   "execution_count": 12,
   "metadata": {},
   "outputs": [
    {
     "data": {
      "text/plain": [
       "stocksReturns = WrappedArray(Array(0.1217765042979942, 0.0864022662889519, 0.12160228898426317, 0.13011695906432758, 0.12482065997130562, 0.10703812316715536, 0.17925925925925926, 0.19911504424778767, 0.024611398963730623, 0.03575989782886326, 0.04823989569752272, 0.03954081632653068, 0.09831824062095727, 0.08163265306122457, 0.09933774834437098, 0.042713567839196075, 0.0, 0.03666245259165602, 0.01972872996300865, 0.043532338308457895, 0.0012269938650306487, 0.04711425206124857, 0.11792452830188678, 0.11807228915662633, 0.11686746987951792, 0.09963099630996293, 0.09878048780487812, 0.09794437726723101, 0.06436233611442183, 0.10539215686274503, -0.0056242969628797195, -0.06329113924050629, -0.03340517241379297, -0.03451995685005397, 0.04026845637583906, 0.032186459489...\n"
      ]
     },
     "metadata": {},
     "output_type": "display_data"
    },
    {
     "data": {
      "text/plain": [
       "WrappedArray([D@1fdbd08, [D@5bd39361, [D@388fb33a, [D@7d9da4d4, [D@11645392, [D@566b8244, [D@1338fdd0, [D@3934067, [D@30587b44, [D@3a2ba6a9, [D@6e290a41, [D@7720ff9b, [D@4512860, [D@6328c8ad, [D@45f5ad8b, [D@35595e89, [D@3846626a, [D@1d8ea86f, [D@75ffd7a0, [D@aad6280, [D@1f3148d, [D@69d6190c, [D@621f8141, [D@34746e0, [D@1a096d79, [D@43ce094d, [D@5dc58dfc, [D@648ca0e2, [D@35bf7baf, [D@6888834, [D@77d34f74, [D@76d96adc, [D@38f505ab, [D@7a7ee3a9, [D@17bbab7d, [D@2a89acdc, [D@3ac13c7b, [D@372ff321, [D@7d0546fa, [D@1a0deaca, [D@291c3f14, [D@616267ed, [D@3607cfad, [D@43a9281d, [D@b054be3, [D@792a0861, [D@7158ca4e, [D@7b3bfdb8, [D@5ac0fb6f, [D@73008956)"
      ]
     },
     "execution_count": 12,
     "metadata": {},
     "output_type": "execute_result"
    }
   ],
   "source": [
    "val stocksReturns =stocksReturnsA.drop(stocksReturnsA.length-50)"
   ]
  },
  {
   "cell_type": "code",
   "execution_count": 13,
   "metadata": {},
   "outputs": [
    {
     "data": {
      "text/plain": [
       "50"
      ]
     },
     "execution_count": 13,
     "metadata": {},
     "output_type": "execute_result"
    }
   ],
   "source": [
    "stocksReturns.length"
   ]
  },
  {
   "cell_type": "code",
   "execution_count": 14,
   "metadata": {},
   "outputs": [
    {
     "data": {
      "text/plain": [
       "Name: Syntax Error.\n",
       "Message: \n",
       "StackTrace: "
      ]
     },
     "execution_count": 14,
     "metadata": {},
     "output_type": "execute_result"
    }
   ],
   "source": [
    "    //runRisk.plotDistribution(factorsReturns(2))"
   ]
  },
  {
   "cell_type": "code",
   "execution_count": 15,
   "metadata": {},
   "outputs": [
    {
     "data": {
      "text/plain": [
       "Name: Syntax Error.\n",
       "Message: \n",
       "StackTrace: "
      ]
     },
     "execution_count": 15,
     "metadata": {},
     "output_type": "execute_result"
    }
   ],
   "source": [
    "   // runRisk.plotDistribution(factorsReturns(3))"
   ]
  },
  {
   "cell_type": "code",
   "execution_count": 16,
   "metadata": {},
   "outputs": [
    {
     "data": {
      "text/plain": [
       "numTrials = 10000\n",
       "parallelism = 10\n",
       "baseSeed = 1001\n"
      ]
     },
     "metadata": {},
     "output_type": "display_data"
    },
    {
     "data": {
      "text/plain": [
       "1001"
      ]
     },
     "execution_count": 16,
     "metadata": {},
     "output_type": "execute_result"
    }
   ],
   "source": [
    "    val numTrials = 10000\n",
    "    val parallelism = 10\n",
    "    val baseSeed = 1001L"
   ]
  },
  {
   "cell_type": "code",
   "execution_count": 17,
   "metadata": {},
   "outputs": [
    {
     "data": {
      "text/plain": [
       "Name: Syntax Error.\n",
       "Message: \n",
       "StackTrace: "
      ]
     },
     "execution_count": 17,
     "metadata": {},
     "output_type": "execute_result"
    }
   ],
   "source": [
    "// val numTrials = 100\n",
    "//     val parallelism = 10\n",
    "//     val baseSeed = 1001L   "
   ]
  },
  {
   "cell_type": "code",
   "execution_count": 18,
   "metadata": {},
   "outputs": [
    {
     "data": {
      "text/plain": [
       "trials = [value: double]\n"
      ]
     },
     "metadata": {},
     "output_type": "display_data"
    },
    {
     "data": {
      "text/plain": [
       "[value: double]"
      ]
     },
     "execution_count": 18,
     "metadata": {},
     "output_type": "execute_result"
    }
   ],
   "source": [
    "val trials = runRisk.computeTrialReturns(stocksReturns, factorsReturns, baseSeed, numTrials,parallelism)"
   ]
  },
  {
   "cell_type": "code",
   "execution_count": 19,
   "metadata": {},
   "outputs": [
    {
     "data": {
      "text/plain": [
       "[value: double]"
      ]
     },
     "execution_count": 19,
     "metadata": {},
     "output_type": "execute_result"
    }
   ],
   "source": [
    "trials.cache()"
   ]
  },
  {
   "cell_type": "code",
   "execution_count": 20,
   "metadata": {},
   "outputs": [
    {
     "name": "stdout",
     "output_type": "stream",
     "text": [
      "+--------------------+\n",
      "|               value|\n",
      "+--------------------+\n",
      "|0.001080037349040371|\n",
      "|  0.0346173452407481|\n",
      "|   0.012759993794705|\n",
      "|0.030657992545194333|\n",
      "|0.011450293420272407|\n",
      "|0.001465034302548169|\n",
      "|-0.01524684641389705|\n",
      "| 0.05331208096165766|\n",
      "|0.033709838627152294|\n",
      "|-0.00297358349177...|\n",
      "| 0.04732186154613125|\n",
      "|-0.02049310444646962|\n",
      "|-0.00197982427863...|\n",
      "|-0.07589173492974757|\n",
      "|0.014186193961475923|\n",
      "|-0.00304341182138...|\n",
      "|0.029393460994808555|\n",
      "|0.017577397735689056|\n",
      "|-0.03776400860932112|\n",
      "|0.030530308857399005|\n",
      "+--------------------+\n",
      "only showing top 20 rows\n",
      "\n"
     ]
    }
   ],
   "source": [
    "trials.show()"
   ]
  },
  {
   "cell_type": "code",
   "execution_count": 21,
   "metadata": {},
   "outputs": [
    {
     "data": {
      "text/plain": [
       "valueAtRisk = -0.034644817100609716\n"
      ]
     },
     "metadata": {},
     "output_type": "display_data"
    },
    {
     "data": {
      "text/plain": [
       "-0.034644817100609716"
      ]
     },
     "execution_count": 21,
     "metadata": {},
     "output_type": "execute_result"
    }
   ],
   "source": [
    "    val valueAtRisk = runRisk.fivePercentVaR(trials)"
   ]
  },
  {
   "cell_type": "code",
   "execution_count": 22,
   "metadata": {},
   "outputs": [
    {
     "data": {
      "text/plain": [
       "conditionalValueAtRisk = -0.04641286434568296\n"
      ]
     },
     "metadata": {},
     "output_type": "display_data"
    },
    {
     "data": {
      "text/plain": [
       "-0.04641286434568296"
      ]
     },
     "execution_count": 22,
     "metadata": {},
     "output_type": "execute_result"
    }
   ],
   "source": [
    "    val conditionalValueAtRisk = runRisk.fivePercentCVaR(trials)"
   ]
  },
  {
   "cell_type": "code",
   "execution_count": 23,
   "metadata": {},
   "outputs": [
    {
     "name": "stdout",
     "output_type": "stream",
     "text": [
      "VaR 5%: -0.034644817100609716\n"
     ]
    }
   ],
   "source": [
    "    println(\"VaR 5%: \" + valueAtRisk)"
   ]
  },
  {
   "cell_type": "code",
   "execution_count": 24,
   "metadata": {},
   "outputs": [
    {
     "name": "stdout",
     "output_type": "stream",
     "text": [
      "CVaR 5%: -0.04641286434568296\n"
     ]
    }
   ],
   "source": [
    "    println(\"CVaR 5%: \" + conditionalValueAtRisk)"
   ]
  },
  {
   "cell_type": "code",
   "execution_count": 25,
   "metadata": {},
   "outputs": [
    {
     "data": {
      "text/plain": [
       "varConfidenceInterval = (-0.03586685496507723,-0.03312941707749002)\n"
      ]
     },
     "metadata": {},
     "output_type": "display_data"
    },
    {
     "data": {
      "text/plain": [
       "(-0.03586685496507723,-0.03312941707749002)"
      ]
     },
     "execution_count": 25,
     "metadata": {},
     "output_type": "execute_result"
    }
   ],
   "source": [
    "    val varConfidenceInterval = runRisk.bootstrappedConfidenceInterval(trials,runRisk.fivePercentVaR, 100, .05)"
   ]
  },
  {
   "cell_type": "code",
   "execution_count": 26,
   "metadata": {},
   "outputs": [
    {
     "data": {
      "text/plain": [
       "cvarConfidenceInterval = (-0.0478720139315135,-0.044929612214073884)\n"
      ]
     },
     "metadata": {},
     "output_type": "display_data"
    },
    {
     "data": {
      "text/plain": [
       "(-0.0478720139315135,-0.044929612214073884)"
      ]
     },
     "execution_count": 26,
     "metadata": {},
     "output_type": "execute_result"
    }
   ],
   "source": [
    "    val cvarConfidenceInterval = runRisk.bootstrappedConfidenceInterval(trials,runRisk.fivePercentCVaR, 100, .05)"
   ]
  },
  {
   "cell_type": "code",
   "execution_count": 27,
   "metadata": {},
   "outputs": [
    {
     "name": "stdout",
     "output_type": "stream",
     "text": [
      "VaR confidence interval: (-0.03586685496507723,-0.03312941707749002)\n",
      "CVaR confidence interval: (-0.0478720139315135,-0.044929612214073884)\n"
     ]
    }
   ],
   "source": [
    "    println(\"VaR confidence interval: \" + varConfidenceInterval)\n",
    "    println(\"CVaR confidence interval: \" + cvarConfidenceInterval)"
   ]
  },
  {
   "cell_type": "code",
   "execution_count": 28,
   "metadata": {},
   "outputs": [
    {
     "name": "stdout",
     "output_type": "stream",
     "text": [
      "Kupiec test p-value: 0.0\n"
     ]
    }
   ],
   "source": [
    "    println(\"Kupiec test p-value: \" + runRisk.kupiecTestPValue(stocksReturns, valueAtRisk, 0.05))"
   ]
  },
  {
   "cell_type": "code",
   "execution_count": 29,
   "metadata": {},
   "outputs": [
    {
     "data": {
      "text/plain": [
       "Name: Syntax Error.\n",
       "Message: \n",
       "StackTrace: "
      ]
     },
     "execution_count": 29,
     "metadata": {},
     "output_type": "execute_result"
    }
   ],
   "source": [
    "//    plotDistribution(trials)"
   ]
  },
  {
   "cell_type": "code",
   "execution_count": null,
   "metadata": {
    "collapsed": true
   },
   "outputs": [],
   "source": []
  }
 ],
 "metadata": {
  "kernelspec": {
   "display_name": "0609 - Scala",
   "language": "scala",
   "name": "0609_scala"
  },
  "language_info": {
   "codemirror_mode": "text/x-scala",
   "file_extension": ".scala",
   "mimetype": "text/x-scala",
   "name": "scala",
   "pygments_lexer": "scala",
   "version": "2.11.8"
  },
  "toc": {
   "base_numbering": 1,
   "nav_menu": {},
   "number_sections": true,
   "sideBar": true,
   "skip_h1_title": false,
   "title_cell": "Table of Contents",
   "title_sidebar": "Contents",
   "toc_cell": false,
   "toc_position": {},
   "toc_section_display": true,
   "toc_window_display": false
  }
 },
 "nbformat": 4,
 "nbformat_minor": 2
}
