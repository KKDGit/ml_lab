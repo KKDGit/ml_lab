{
 "cells": [
  {
   "cell_type": "code",
   "execution_count": 1,
   "metadata": {},
   "outputs": [
    {
     "data": {
      "text/plain": [
       "Waiting for a Spark session to start..."
      ]
     },
     "metadata": {},
     "output_type": "display_data"
    },
    {
     "data": {
      "text/html": [
       "<ul>\n",
       "<li><a href=\"Some(http://gw02.itversity.com:4052)\" target=\"new_tab\">Spark UI: application_1533622723243_5726</a></li>\n",
       "</ul>"
      ],
      "text/plain": [
       "Spark application_1533622723243_5726: Some(http://gw02.itversity.com:4052)"
      ]
     },
     "execution_count": 1,
     "metadata": {},
     "output_type": "execute_result"
    }
   ],
   "source": [
    "spark"
   ]
  },
  {
   "cell_type": "code",
   "execution_count": 2,
   "metadata": {},
   "outputs": [
    {
     "name": "stdout",
     "output_type": "stream",
     "text": [
      "Types will be printed.\n"
     ]
    }
   ],
   "source": [
    "%showtypes on"
   ]
  },
  {
   "cell_type": "code",
   "execution_count": 3,
   "metadata": {
    "collapsed": true
   },
   "outputs": [],
   "source": [
    "import org.apache.spark.sql.DataFrame\n",
    "import util.Random\n",
    "\n",
    "import org.apache.spark.ml.Pipeline\n",
    "import org.apache.spark.ml.clustering.{KMeans, KMeansModel}\n",
    "import org.apache.spark.ml.feature.VectorAssembler\n",
    "import org.apache.spark.ml.feature.StandardScaler"
   ]
  },
  {
   "cell_type": "code",
   "execution_count": 4,
   "metadata": {},
   "outputs": [
    {
     "data": {
      "text/plain": [
       "Waiting for a Spark session to start..."
      ]
     },
     "metadata": {},
     "output_type": "display_data"
    },
    {
     "data": {
      "text/plain": [
       "dataWithoutHeader = [_c0: int, _c1: string ... 40 more fields]\n"
      ]
     },
     "metadata": {},
     "output_type": "display_data"
    },
    {
     "data": {
      "text/plain": [
       "[_c0: int, _c1: string ... 40 more fields]"
      ]
     },
     "execution_count": 4,
     "metadata": {},
     "output_type": "execute_result"
    }
   ],
   "source": [
    "val dataWithoutHeader = spark\n",
    "                        .read\n",
    "                        .option(\"inferSchema\",true)\n",
    "                        .option(\"header\",false)\n",
    "                        .csv(\"hdfs:///user/kranthidr/dataSets/KDDCup1999DataSet\")"
   ]
  },
  {
   "cell_type": "code",
   "execution_count": 5,
   "metadata": {},
   "outputs": [
    {
     "data": {
      "text/plain": [
       "[_c0: int, _c1: string ... 40 more fields]"
      ]
     },
     "execution_count": 5,
     "metadata": {},
     "output_type": "execute_result"
    }
   ],
   "source": [
    "dataWithoutHeader"
   ]
  },
  {
   "cell_type": "code",
   "execution_count": 6,
   "metadata": {},
   "outputs": [
    {
     "name": "stdout",
     "output_type": "stream",
     "text": [
      "root\n",
      " |-- _c0: integer (nullable = true)\n",
      " |-- _c1: string (nullable = true)\n",
      " |-- _c2: string (nullable = true)\n",
      " |-- _c3: string (nullable = true)\n",
      " |-- _c4: integer (nullable = true)\n",
      " |-- _c5: integer (nullable = true)\n",
      " |-- _c6: integer (nullable = true)\n",
      " |-- _c7: integer (nullable = true)\n",
      " |-- _c8: integer (nullable = true)\n",
      " |-- _c9: integer (nullable = true)\n",
      " |-- _c10: integer (nullable = true)\n",
      " |-- _c11: integer (nullable = true)\n",
      " |-- _c12: integer (nullable = true)\n",
      " |-- _c13: integer (nullable = true)\n",
      " |-- _c14: integer (nullable = true)\n",
      " |-- _c15: integer (nullable = true)\n",
      " |-- _c16: integer (nullable = true)\n",
      " |-- _c17: integer (nullable = true)\n",
      " |-- _c18: integer (nullable = true)\n",
      " |-- _c19: integer (nullable = true)\n",
      " |-- _c20: integer (nullable = true)\n",
      " |-- _c21: integer (nullable = true)\n",
      " |-- _c22: integer (nullable = true)\n",
      " |-- _c23: integer (nullable = true)\n",
      " |-- _c24: double (nullable = true)\n",
      " |-- _c25: double (nullable = true)\n",
      " |-- _c26: double (nullable = true)\n",
      " |-- _c27: double (nullable = true)\n",
      " |-- _c28: double (nullable = true)\n",
      " |-- _c29: double (nullable = true)\n",
      " |-- _c30: double (nullable = true)\n",
      " |-- _c31: integer (nullable = true)\n",
      " |-- _c32: integer (nullable = true)\n",
      " |-- _c33: double (nullable = true)\n",
      " |-- _c34: double (nullable = true)\n",
      " |-- _c35: double (nullable = true)\n",
      " |-- _c36: double (nullable = true)\n",
      " |-- _c37: double (nullable = true)\n",
      " |-- _c38: double (nullable = true)\n",
      " |-- _c39: double (nullable = true)\n",
      " |-- _c40: double (nullable = true)\n",
      " |-- _c41: string (nullable = true)\n",
      "\n"
     ]
    }
   ],
   "source": [
    "dataWithoutHeader.printSchema()"
   ]
  },
  {
   "cell_type": "code",
   "execution_count": 7,
   "metadata": {},
   "outputs": [
    {
     "data": {
      "text/html": [
       "<table>\n",
       "<tr><td>0</td><td>tcp</td><td>http</td><td>SF</td><td>215</td><td>45076</td><td>0</td><td>0</td><td>0</td><td>0</td><td>0</td><td>1</td><td>0</td><td>0</td><td>0</td><td>0</td><td>0</td><td>0</td><td>0</td><td>0</td><td>0</td><td>0</td><td>1</td><td>1</td><td>0.0</td><td>0.0</td><td>0.0</td><td>0.0</td><td>1.0</td><td>0.0</td><td>0.0</td><td>0</td><td>0</td><td>0.0</td><td>0.0</td><td>0.0</td><td>0.0</td><td>0.0</td><td>0.0</td><td>0.0</td><td>0.0</td><td>normal.</td></tr>\n",
       "<tr><td>0</td><td>tcp</td><td>http</td><td>SF</td><td>162</td><td>4528</td><td>0</td><td>0</td><td>0</td><td>0</td><td>0</td><td>1</td><td>0</td><td>0</td><td>0</td><td>0</td><td>0</td><td>0</td><td>0</td><td>0</td><td>0</td><td>0</td><td>2</td><td>2</td><td>0.0</td><td>0.0</td><td>0.0</td><td>0.0</td><td>1.0</td><td>0.0</td><td>0.0</td><td>1</td><td>1</td><td>1.0</td><td>0.0</td><td>1.0</td><td>0.0</td><td>0.0</td><td>0.0</td><td>0.0</td><td>0.0</td><td>normal.</td></tr>\n",
       "<tr><td>0</td><td>tcp</td><td>http</td><td>SF</td><td>236</td><td>1228</td><td>0</td><td>0</td><td>0</td><td>0</td><td>0</td><td>1</td><td>0</td><td>0</td><td>0</td><td>0</td><td>0</td><td>0</td><td>0</td><td>0</td><td>0</td><td>0</td><td>1</td><td>1</td><td>0.0</td><td>0.0</td><td>0.0</td><td>0.0</td><td>1.0</td><td>0.0</td><td>0.0</td><td>2</td><td>2</td><td>1.0</td><td>0.0</td><td>0.5</td><td>0.0</td><td>0.0</td><td>0.0</td><td>0.0</td><td>0.0</td><td>normal.</td></tr>\n",
       "</table>"
      ],
      "text/plain": [
       "+-----+-----+------+-----+-----+-------+-----+-----+-----+-----+-----+-----+-----+-----+-----+-----+-----+-----+-----+-----+-----+-----+-----+-----+-----+-----+-----+-----+-----+-----+-----+-----+-----+-----+-----+-----+-----+-----+-----+-----+-----+---------+\n",
       "| 0   | tcp | http | SF  | 215 | 45076 | 0   | 0   | 0   | 0   | 0   | 1   | 0   | 0   | 0   | 0   | 0   | 0   | 0   | 0   | 0   | 0   | 1   | 1   | 0.0 | 0.0 | 0.0 | 0.0 | 1.0 | 0.0 | 0.0 | 0   | 0   | 0.0 | 0.0 | 0.0 | 0.0 | 0.0 | 0.0 | 0.0 | 0.0 | normal. |\n",
       "| 0   | tcp | http | SF  | 162 | 4528  | 0   | 0   | 0   | 0   | 0   | 1   | 0   | 0   | 0   | 0   | 0   | 0   | 0   | 0   | 0   | 0   | 2   | 2   | 0.0 | 0.0 | 0.0 | 0.0 | 1.0 | 0.0 | 0.0 | 1   | 1   | 1.0 | 0.0 | 1.0 | 0.0 | 0.0 | 0.0 | 0.0 | 0.0 | normal. |\n",
       "| 0   | tcp | http | SF  | 236 | 1228  | 0   | 0   | 0   | 0   | 0   | 1   | 0   | 0   | 0   | 0   | 0   | 0   | 0   | 0   | 0   | 0   | 1   | 1   | 0.0 | 0.0 | 0.0 | 0.0 | 1.0 | 0.0 | 0.0 | 2   | 2   | 1.0 | 0.0 | 0.5 | 0.0 | 0.0 | 0.0 | 0.0 | 0.0 | normal. |\n",
       "+-----+-----+------+-----+-----+-------+-----+-----+-----+-----+-----+-----+-----+-----+-----+-----+-----+-----+-----+-----+-----+-----+-----+-----+-----+-----+-----+-----+-----+-----+-----+-----+-----+-----+-----+-----+-----+-----+-----+-----+-----+---------+"
      ]
     },
     "execution_count": 7,
     "metadata": {},
     "output_type": "execute_result"
    }
   ],
   "source": [
    "dataWithoutHeader.take(3)"
   ]
  },
  {
   "cell_type": "code",
   "execution_count": 8,
   "metadata": {},
   "outputs": [
    {
     "data": {
      "text/plain": [
       "data = [duration: int, protocol_type: string ... 40 more fields]\n"
      ]
     },
     "metadata": {},
     "output_type": "display_data"
    },
    {
     "data": {
      "text/plain": [
       "[duration: int, protocol_type: string ... 40 more fields]"
      ]
     },
     "execution_count": 8,
     "metadata": {},
     "output_type": "execute_result"
    }
   ],
   "source": [
    "val data = dataWithoutHeader.toDF(\n",
    "        \"duration\", \"protocol_type\", \"service\", \"flag\",\n",
    "        \"src_bytes\", \"dst_bytes\", \"land\", \"wrong_fragment\", \"urgent\",\n",
    "        \"hot\", \"num_failed_logins\", \"logged_in\", \"num_compromised\",\n",
    "        \"root_shell\", \"su_attempted\", \"num_root\", \"num_file_creations\",\n",
    "        \"num_shells\", \"num_access_files\", \"num_outbound_cmds\",\n",
    "        \"is_host_login\", \"is_guest_login\", \"count\", \"srv_count\",\n",
    "        \"serror_rate\", \"srv_serror_rate\", \"rerror_rate\", \"srv_rerror_rate\",\n",
    "        \"same_srv_rate\", \"diff_srv_rate\", \"srv_diff_host_rate\",\n",
    "        \"dst_host_count\", \"dst_host_srv_count\",\n",
    "        \"dst_host_same_srv_rate\", \"dst_host_diff_srv_rate\",\n",
    "        \"dst_host_same_src_port_rate\", \"dst_host_srv_diff_host_rate\",\n",
    "        \"dst_host_serror_rate\", \"dst_host_srv_serror_rate\",\n",
    "        \"dst_host_rerror_rate\", \"dst_host_srv_rerror_rate\",\n",
    "        \"label\")\n"
   ]
  },
  {
   "cell_type": "code",
   "execution_count": 9,
   "metadata": {},
   "outputs": [
    {
     "name": "stdout",
     "output_type": "stream",
     "text": [
      "root\n",
      " |-- duration: integer (nullable = true)\n",
      " |-- protocol_type: string (nullable = true)\n",
      " |-- service: string (nullable = true)\n",
      " |-- flag: string (nullable = true)\n",
      " |-- src_bytes: integer (nullable = true)\n",
      " |-- dst_bytes: integer (nullable = true)\n",
      " |-- land: integer (nullable = true)\n",
      " |-- wrong_fragment: integer (nullable = true)\n",
      " |-- urgent: integer (nullable = true)\n",
      " |-- hot: integer (nullable = true)\n",
      " |-- num_failed_logins: integer (nullable = true)\n",
      " |-- logged_in: integer (nullable = true)\n",
      " |-- num_compromised: integer (nullable = true)\n",
      " |-- root_shell: integer (nullable = true)\n",
      " |-- su_attempted: integer (nullable = true)\n",
      " |-- num_root: integer (nullable = true)\n",
      " |-- num_file_creations: integer (nullable = true)\n",
      " |-- num_shells: integer (nullable = true)\n",
      " |-- num_access_files: integer (nullable = true)\n",
      " |-- num_outbound_cmds: integer (nullable = true)\n",
      " |-- is_host_login: integer (nullable = true)\n",
      " |-- is_guest_login: integer (nullable = true)\n",
      " |-- count: integer (nullable = true)\n",
      " |-- srv_count: integer (nullable = true)\n",
      " |-- serror_rate: double (nullable = true)\n",
      " |-- srv_serror_rate: double (nullable = true)\n",
      " |-- rerror_rate: double (nullable = true)\n",
      " |-- srv_rerror_rate: double (nullable = true)\n",
      " |-- same_srv_rate: double (nullable = true)\n",
      " |-- diff_srv_rate: double (nullable = true)\n",
      " |-- srv_diff_host_rate: double (nullable = true)\n",
      " |-- dst_host_count: integer (nullable = true)\n",
      " |-- dst_host_srv_count: integer (nullable = true)\n",
      " |-- dst_host_same_srv_rate: double (nullable = true)\n",
      " |-- dst_host_diff_srv_rate: double (nullable = true)\n",
      " |-- dst_host_same_src_port_rate: double (nullable = true)\n",
      " |-- dst_host_srv_diff_host_rate: double (nullable = true)\n",
      " |-- dst_host_serror_rate: double (nullable = true)\n",
      " |-- dst_host_srv_serror_rate: double (nullable = true)\n",
      " |-- dst_host_rerror_rate: double (nullable = true)\n",
      " |-- dst_host_srv_rerror_rate: double (nullable = true)\n",
      " |-- label: string (nullable = true)\n",
      "\n"
     ]
    }
   ],
   "source": [
    "data.printSchema()"
   ]
  },
  {
   "cell_type": "code",
   "execution_count": 10,
   "metadata": {},
   "outputs": [
    {
     "name": "stdout",
     "output_type": "stream",
     "text": [
      "+----------------+-------+\n",
      "|           label|  count|\n",
      "+----------------+-------+\n",
      "|          smurf.|2807886|\n",
      "|        neptune.|1072017|\n",
      "|         normal.| 972781|\n",
      "|          satan.|  15892|\n",
      "|        ipsweep.|  12481|\n",
      "|      portsweep.|  10413|\n",
      "|           nmap.|   2316|\n",
      "|           back.|   2203|\n",
      "|    warezclient.|   1020|\n",
      "|       teardrop.|    979|\n",
      "|            pod.|    264|\n",
      "|   guess_passwd.|     53|\n",
      "|buffer_overflow.|     30|\n",
      "|           land.|     21|\n",
      "|    warezmaster.|     20|\n",
      "|           imap.|     12|\n",
      "|        rootkit.|     10|\n",
      "|     loadmodule.|      9|\n",
      "|      ftp_write.|      8|\n",
      "|       multihop.|      7|\n",
      "|            phf.|      4|\n",
      "|           perl.|      3|\n",
      "|            spy.|      2|\n",
      "+----------------+-------+\n",
      "\n"
     ]
    }
   ],
   "source": [
    "data.select(\"label\").groupBy(\"label\").count().orderBy($\"count\".desc).show(25)"
   ]
  },
  {
   "cell_type": "code",
   "execution_count": 11,
   "metadata": {},
   "outputs": [
    {
     "data": {
      "text/plain": [
       "numericOnly = [duration: int, src_bytes: int ... 37 more fields]\n"
      ]
     },
     "metadata": {},
     "output_type": "display_data"
    },
    {
     "data": {
      "text/plain": [
       "[duration: int, src_bytes: int ... 37 more fields]"
      ]
     },
     "execution_count": 11,
     "metadata": {},
     "output_type": "execute_result"
    }
   ],
   "source": [
    "val numericOnly = data.drop(\"protocol_type\", \"service\", \"flag\").cache()"
   ]
  },
  {
   "cell_type": "code",
   "execution_count": 12,
   "metadata": {},
   "outputs": [
    {
     "data": {
      "text/plain": [
       "assembler = vecAssembler_64f4e128eb04\n",
       "kmeans = kmeans_5bcea36b73a5\n"
      ]
     },
     "metadata": {},
     "output_type": "display_data"
    },
    {
     "data": {
      "text/plain": [
       "kmeans_5bcea36b73a5"
      ]
     },
     "execution_count": 12,
     "metadata": {},
     "output_type": "execute_result"
    }
   ],
   "source": [
    "val assembler = new VectorAssembler().setInputCols(numericOnly.columns.filter(_!=\"label\")).setOutputCol(\"featureVector\")\n",
    "val kmeans = new KMeans().setPredictionCol(\"cluster\").setFeaturesCol(\"featureVector\")"
   ]
  },
  {
   "cell_type": "code",
   "execution_count": 13,
   "metadata": {},
   "outputs": [
    {
     "data": {
      "text/plain": [
       "pipeline = pipeline_bd9f9e8bd0f5\n"
      ]
     },
     "metadata": {},
     "output_type": "display_data"
    },
    {
     "data": {
      "text/plain": [
       "pipeline_bd9f9e8bd0f5"
      ]
     },
     "execution_count": 13,
     "metadata": {},
     "output_type": "execute_result"
    }
   ],
   "source": [
    "val pipeline = new Pipeline().setStages(Array(assembler, kmeans))"
   ]
  },
  {
   "cell_type": "code",
   "execution_count": 14,
   "metadata": {},
   "outputs": [
    {
     "data": {
      "text/plain": [
       "pipelineModel = pipeline_bd9f9e8bd0f5\n"
      ]
     },
     "metadata": {},
     "output_type": "display_data"
    },
    {
     "data": {
      "text/plain": [
       "pipeline_bd9f9e8bd0f5"
      ]
     },
     "execution_count": 14,
     "metadata": {},
     "output_type": "execute_result"
    }
   ],
   "source": [
    "val pipelineModel = pipeline.fit(numericOnly)"
   ]
  },
  {
   "cell_type": "code",
   "execution_count": 15,
   "metadata": {},
   "outputs": [
    {
     "data": {
      "text/plain": [
       "kmeansModel = kmeans_5bcea36b73a5\n"
      ]
     },
     "metadata": {},
     "output_type": "display_data"
    },
    {
     "data": {
      "text/plain": [
       "kmeans_5bcea36b73a5"
      ]
     },
     "execution_count": 15,
     "metadata": {},
     "output_type": "execute_result"
    }
   ],
   "source": [
    "val kmeansModel = pipelineModel.stages.last.asInstanceOf[KMeansModel]"
   ]
  },
  {
   "cell_type": "code",
   "execution_count": 16,
   "metadata": {},
   "outputs": [
    {
     "name": "stdout",
     "output_type": "stream",
     "text": [
      "[48.34019491959669,1834.6215497618625,826.2031900016945,5.7161172049003456E-6,6.487793027561892E-4,7.961734678254053E-6,0.012437658596734055,3.205108575604837E-5,0.14352904910348827,0.00808830584493399,6.818511237273984E-5,3.6746467745787934E-5,0.012934960793560386,0.0011887482315762398,7.430952366370449E-5,0.0010211435092468404,0.0,4.082940860643104E-7,8.351655530445469E-4,334.9735084506668,295.26714620807076,0.17797031701994342,0.17803698940272533,0.05766489875327374,0.05772990937912738,0.7898841322630883,0.021179610609908736,0.028260810096292836,232.98107822302248,189.21428335201279,0.753713389800642,0.030710978823798966,0.6050519309248854,0.006464107887636004,0.17809118431826013,0.17788589813474293,0.05792761150001129,0.05765922142400886]\n",
      "[10999.0,0.0,1.309937401E9,0.0,0.0,0.0,0.0,0.0,0.0,0.0,0.0,0.0,0.0,0.0,0.0,0.0,0.0,0.0,0.0,1.0,1.0,0.0,0.0,1.0,1.0,1.0,0.0,0.0,255.0,1.0,0.0,0.65,1.0,0.0,0.0,0.0,1.0,1.0]\n"
     ]
    }
   ],
   "source": [
    "kmeansModel.clusterCenters.foreach(println)"
   ]
  },
  {
   "cell_type": "code",
   "execution_count": 17,
   "metadata": {},
   "outputs": [
    {
     "name": "stdout",
     "output_type": "stream",
     "text": [
      "Available line magics:\n",
      "%lsmagic %showtypes %adddeps %truncation %addjar\n",
      "\n",
      "Available cell magics:\n",
      "%%sql %%html %%javascript %%dataframe %%pyspark %%scala %%sparkr\n",
      "\n",
      "Type %<magic_name> for usage info.\n",
      "         \n"
     ]
    }
   ],
   "source": [
    "%lsmagic"
   ]
  },
  {
   "cell_type": "code",
   "execution_count": 18,
   "metadata": {},
   "outputs": [
    {
     "data": {
      "text/plain": [
       "withCluster = [duration: int, src_bytes: int ... 39 more fields]\n"
      ]
     },
     "metadata": {},
     "output_type": "display_data"
    },
    {
     "data": {
      "text/plain": [
       "[duration: int, src_bytes: int ... 39 more fields]"
      ]
     },
     "execution_count": 18,
     "metadata": {},
     "output_type": "execute_result"
    }
   ],
   "source": [
    "val withCluster = pipelineModel.transform(numericOnly)"
   ]
  },
  {
   "cell_type": "code",
   "execution_count": 19,
   "metadata": {},
   "outputs": [
    {
     "data": {
      "text/plain": [
       "cluster_label_count = [cluster: int, label: string ... 1 more field]\n"
      ]
     },
     "metadata": {},
     "output_type": "display_data"
    },
    {
     "data": {
      "text/plain": [
       "[cluster: int, label: string ... 1 more field]"
      ]
     },
     "execution_count": 19,
     "metadata": {},
     "output_type": "execute_result"
    }
   ],
   "source": [
    "val cluster_label_count = withCluster.select(\"cluster\",\"label\").groupBy(\"cluster\",\"label\").count()"
   ]
  },
  {
   "cell_type": "code",
   "execution_count": 20,
   "metadata": {},
   "outputs": [
    {
     "name": "stdout",
     "output_type": "stream",
     "text": [
      "+-------+-----+\n",
      "|cluster|count|\n",
      "+-------+-----+\n",
      "|      1|    1|\n",
      "|      0|   23|\n",
      "+-------+-----+\n",
      "\n"
     ]
    }
   ],
   "source": [
    "cluster_label_count.groupBy(\"cluster\").count().show()"
   ]
  },
  {
   "cell_type": "code",
   "execution_count": 21,
   "metadata": {},
   "outputs": [
    {
     "name": "stdout",
     "output_type": "stream",
     "text": [
      "+-------+----------------+-------+\n",
      "|cluster|           label|  count|\n",
      "+-------+----------------+-------+\n",
      "|      0|          smurf.|2807886|\n",
      "|      0|        neptune.|1072017|\n",
      "|      0|         normal.| 972781|\n",
      "|      0|          satan.|  15892|\n",
      "|      0|        ipsweep.|  12481|\n",
      "|      0|      portsweep.|  10412|\n",
      "|      0|           nmap.|   2316|\n",
      "|      0|           back.|   2203|\n",
      "|      0|    warezclient.|   1020|\n",
      "|      0|       teardrop.|    979|\n",
      "|      0|            pod.|    264|\n",
      "|      0|   guess_passwd.|     53|\n",
      "|      0|buffer_overflow.|     30|\n",
      "|      0|           land.|     21|\n",
      "|      0|    warezmaster.|     20|\n",
      "|      0|           imap.|     12|\n",
      "|      0|        rootkit.|     10|\n",
      "|      0|     loadmodule.|      9|\n",
      "|      0|      ftp_write.|      8|\n",
      "|      0|       multihop.|      7|\n",
      "|      0|            phf.|      4|\n",
      "|      0|           perl.|      3|\n",
      "|      0|            spy.|      2|\n",
      "|      1|      portsweep.|      1|\n",
      "+-------+----------------+-------+\n",
      "\n",
      "+-------+----------------+-------+\n",
      "|cluster|           label|  count|\n",
      "+-------+----------------+-------+\n",
      "|      0|            spy.|      2|\n",
      "|      0|           perl.|      3|\n",
      "|      0|            phf.|      4|\n",
      "|      0|       multihop.|      7|\n",
      "|      0|      ftp_write.|      8|\n",
      "|      0|     loadmodule.|      9|\n",
      "|      0|        rootkit.|     10|\n",
      "|      0|           imap.|     12|\n",
      "|      0|    warezmaster.|     20|\n",
      "|      0|           land.|     21|\n",
      "|      0|buffer_overflow.|     30|\n",
      "|      0|   guess_passwd.|     53|\n",
      "|      0|            pod.|    264|\n",
      "|      0|       teardrop.|    979|\n",
      "|      0|    warezclient.|   1020|\n",
      "|      0|           back.|   2203|\n",
      "|      0|           nmap.|   2316|\n",
      "|      0|      portsweep.|  10412|\n",
      "|      0|        ipsweep.|  12481|\n",
      "|      0|          satan.|  15892|\n",
      "|      0|         normal.| 972781|\n",
      "|      0|        neptune.|1072017|\n",
      "|      0|          smurf.|2807886|\n",
      "|      1|      portsweep.|      1|\n",
      "+-------+----------------+-------+\n",
      "\n"
     ]
    }
   ],
   "source": [
    "cluster_label_count.orderBy($\"count\".desc,$\"cluster\").show(25)\n",
    "cluster_label_count.orderBy($\"cluster\", $\"count\").show(25)"
   ]
  },
  {
   "cell_type": "code",
   "execution_count": 22,
   "metadata": {},
   "outputs": [
    {
     "data": {
      "text/plain": [
       "clusterScore0: (data: org.apache.spark.sql.DataFrame, k: Int)Double\n"
      ]
     },
     "metadata": {},
     "output_type": "display_data"
    }
   ],
   "source": [
    "def clusterScore0(data: DataFrame, k: Int) = {\n",
    "    val assembler = new VectorAssembler().setInputCols(data.columns.filter(_!=\"label\")).setOutputCol(\"featureVector\")\n",
    "    \n",
    "    val kmeans = new KMeans().setSeed(Random.nextLong()).setK(k).setPredictionCol(\"cluster\").\n",
    "                setFeaturesCol(\"featureVector\")\n",
    "    \n",
    "    val pipeline = new Pipeline().setStages(Array(assembler, kmeans))\n",
    "    \n",
    "    val kmeansModel = pipeline.fit(data).stages.last.asInstanceOf[KMeansModel]\n",
    "    \n",
    "    kmeansModel.computeCost(assembler.transform(data))/ data.count()\n",
    "}"
   ]
  },
  {
   "cell_type": "code",
   "execution_count": 23,
   "metadata": {},
   "outputs": [
    {
     "data": {
      "text/plain": [
       "k_kScore = Vector((20,6.982127937698625E7), (40,4.0042114138487235E7), (60,1.257456556431137E7), (80,1.5947382916869406E7), (100,1.1825431477712497E7), (120,1.018226421778534E7), (140,7368383.047505253), (160,9727025.294877974), (180,3368921.756771228), (200,6039924.684517559), (220,8246238.134979978), (240,1667048.2109641863), (260,2778021.1095718606), (280,4254596.4870235175))\n"
      ]
     },
     "metadata": {},
     "output_type": "display_data"
    },
    {
     "data": {
      "text/plain": [
       "Vector((20,6.982127937698625E7), (40,4.0042114138487235E7), (60,1.257456556431137E7), (80,1.5947382916869406E7), (100,1.1825431477712497E7), (120,1.018226421778534E7), (140,7368383.047505253), (160,9727025.294877974), (180,3368921.756771228), (200,6039924.684517559), (220,8246238.134979978), (240,1667048.2109641863), (260,2778021.1095718606), (280,4254596.4870235175))"
      ]
     },
     "execution_count": 23,
     "metadata": {},
     "output_type": "execute_result"
    }
   ],
   "source": [
    "val k_kScore = (20 to 280 by 20).map(k => (k, clusterScore0(numericOnly, k))) "
   ]
  },
  {
   "cell_type": "code",
   "execution_count": 24,
   "metadata": {},
   "outputs": [
    {
     "name": "stdout",
     "output_type": "stream",
     "text": [
      "Marking co.theasi:plotly_2.11:0.2.0 for download\n",
      "Preparing to fetch from:\n",
      "-> file:/tmp/toree-tmp-dir4383593501787824200/toree_add_deps/\n",
      "-> https://repo1.maven.org/maven2\n",
      "-> New file at /tmp/toree-tmp-dir4383593501787824200/toree_add_deps/https/repo1.maven.org/maven2/org/json4s/json4s-scalap_2.11/3.3.0/json4s-scalap_2.11-3.3.0.jar\n",
      "-> New file at /tmp/toree-tmp-dir4383593501787824200/toree_add_deps/https/repo1.maven.org/maven2/com/thoughtworks/paranamer/paranamer/2.8/paranamer-2.8.jar\n",
      "-> New file at /tmp/toree-tmp-dir4383593501787824200/toree_add_deps/https/repo1.maven.org/maven2/org/scalaj/scalaj-http_2.11/2.2.1/scalaj-http_2.11-2.2.1.jar\n",
      "-> New file at /tmp/toree-tmp-dir4383593501787824200/toree_add_deps/https/repo1.maven.org/maven2/com/thoughtworks/paranamer/paranamer/2.8/paranamer-2.8.pom\n",
      "-> New file at /tmp/toree-tmp-dir4383593501787824200/toree_add_deps/https/repo1.maven.org/maven2/org/scalaj/scalaj-http_2.11/2.2.1/scalaj-http_2.11-2.2.1.pom\n",
      "-> New file at /tmp/toree-tmp-dir4383593501787824200/toree_add_deps/https/repo1.maven.org/maven2/org/json4s/json4s-core_2.11/3.3.0/json4s-core_2.11-3.3.0.pom\n",
      "-> New file at /tmp/toree-tmp-dir4383593501787824200/toree_add_deps/https/repo1.maven.org/maven2/co/theasi/plotly_2.11/0.2.0/plotly_2.11-0.2.0.pom\n",
      "-> New file at /tmp/toree-tmp-dir4383593501787824200/toree_add_deps/https/repo1.maven.org/maven2/org/json4s/json4s-core_2.11/3.3.0/json4s-core_2.11-3.3.0.jar\n",
      "-> New file at /tmp/toree-tmp-dir4383593501787824200/toree_add_deps/https/repo1.maven.org/maven2/co/theasi/plotly_2.11/0.2.0/plotly_2.11-0.2.0.jar\n",
      "-> New file at /tmp/toree-tmp-dir4383593501787824200/toree_add_deps/https/repo1.maven.org/maven2/org/json4s/json4s-ast_2.11/3.3.0/json4s-ast_2.11-3.3.0.jar\n",
      "-> New file at /tmp/toree-tmp-dir4383593501787824200/toree_add_deps/https/repo1.maven.org/maven2/org/json4s/json4s-native_2.11/3.3.0/json4s-native_2.11-3.3.0.jar\n",
      "-> New file at /tmp/toree-tmp-dir4383593501787824200/toree_add_deps/https/repo1.maven.org/maven2/org/json4s/json4s-ast_2.11/3.3.0/json4s-ast_2.11-3.3.0.pom\n",
      "-> New file at /tmp/toree-tmp-dir4383593501787824200/toree_add_deps/https/repo1.maven.org/maven2/org/json4s/json4s-native_2.11/3.3.0/json4s-native_2.11-3.3.0.pom\n",
      "-> New file at /tmp/toree-tmp-dir4383593501787824200/toree_add_deps/https/repo1.maven.org/maven2/org/json4s/json4s-scalap_2.11/3.3.0/json4s-scalap_2.11-3.3.0.pom\n"
     ]
    }
   ],
   "source": [
    "%AddDeps co.theasi plotly_2.11 0.2.0 --transitive"
   ]
  },
  {
   "cell_type": "code",
   "execution_count": 25,
   "metadata": {},
   "outputs": [
    {
     "data": {
      "text/plain": [
       "Vector(20, 40, 60, 80, 100, 120, 140, 160, 180, 200, 220, 240, 260, 280)"
      ]
     },
     "execution_count": 25,
     "metadata": {},
     "output_type": "execute_result"
    }
   ],
   "source": [
    " k_kScore.map(_._1)"
   ]
  },
  {
   "cell_type": "code",
   "execution_count": 26,
   "metadata": {},
   "outputs": [
    {
     "data": {
      "text/plain": [
       "Vector(6.982127937698625E7, 4.0042114138487235E7, 1.257456556431137E7, 1.5947382916869406E7, 1.1825431477712497E7, 1.018226421778534E7, 7368383.047505253, 9727025.294877974, 3368921.756771228, 6039924.684517559, 8246238.134979978, 1667048.2109641863, 2778021.1095718606, 4254596.4870235175)"
      ]
     },
     "execution_count": 26,
     "metadata": {},
     "output_type": "execute_result"
    }
   ],
   "source": [
    " k_kScore.map(_._2)"
   ]
  },
  {
   "cell_type": "code",
   "execution_count": 27,
   "metadata": {
    "collapsed": true
   },
   "outputs": [],
   "source": [
    "import co.theasi.plotly._"
   ]
  },
  {
   "cell_type": "code",
   "execution_count": 28,
   "metadata": {},
   "outputs": [
    {
     "data": {
      "text/plain": [
       "xs = Vector(20, 40, 60, 80, 100, 120, 140, 160, 180, 200, 220, 240, 260, 280)\n",
       "ys = Vector(6.982127937698625E7, 4.0042114138487235E7, 1.257456556431137E7, 1.5947382916869406E7, 1.1825431477712497E7, 1.018226421778534E7, 7368383.047505253, 9727025.294877974, 3368921.756771228, 6039924.684517559, 8246238.134979978, 1667048.2109641863, 2778021.1095718606, 4254596.4870235175)\n",
       "plot = CartesianPlot(Vector(Scatter(Vector(PInt(20), PInt(40), PInt(60), PInt(80), PInt(100), PInt(120), PInt(140), PInt(160), PInt(180), PInt(200), PInt(220), PInt(240), PInt(260), PInt(280)),Vector(PDouble(6.982127937698625E7), PDouble(4.0042114138487235E7), PDouble(1.257456556431137E7), PDouble(1...\n"
      ]
     },
     "metadata": {},
     "output_type": "display_data"
    },
    {
     "data": {
      "text/plain": [
       "CartesianPlot(Vector(Scatter(Vector(PInt(20), PInt(40), PInt(60), PInt(80), PInt(100), PInt(120), PInt(140), PInt(160), PInt(180), PInt(200), PInt(220), PInt(240), PInt(260), PInt(280)),Vector(PDouble(6.982127937698625E7), PDouble(4.0042114138487235E7), PDouble(1.257456556431137E7), PDouble(1.5947382916869406E7), PDouble(1.1825431477712497E7), PDouble(1.018226421778534E7), PDouble(7368383.047505253), PDouble(9727025.294877974), PDouble(3368921.756771228), PDouble(6039924.684517559), PDouble(8246238.134979978), PDouble(1667048.2109641863), PDouble(2778021.1095718606), PDouble(4254596.4870235175)),ScatterOptions(None,List(),None,MarkerOptions(None,None,None,None,None)))),CartesianPlotOptions(Axis(AxisOptions(None,None,None,None,None,None,None,Font(None,None,None),Font(None,None,None),None,None,None,None)),Axis(AxisOptions(None,None,None,None,None,None,None,Font(None,None,None),Font(None,None,None),None,None,None,None))))"
      ]
     },
     "execution_count": 28,
     "metadata": {},
     "output_type": "execute_result"
    }
   ],
   "source": [
    "val xs =  k_kScore.map(_._1)\n",
    "val ys =  k_kScore.map(_._2)\n",
    "\n",
    "val plot = Plot().withScatter(xs, ys)\n",
    "\n",
    "draw(plot, \"clustering_elbow_ch05_traffic_anamoly\")"
   ]
  },
  {
   "cell_type": "code",
   "execution_count": null,
   "metadata": {
    "collapsed": true
   },
   "outputs": [],
   "source": []
  }
 ],
 "metadata": {
  "kernelspec": {
   "display_name": "Spark - Scala",
   "language": "scala",
   "name": "spark_scala"
  },
  "language_info": {
   "codemirror_mode": "text/x-scala",
   "file_extension": ".scala",
   "mimetype": "text/x-scala",
   "name": "scala",
   "pygments_lexer": "scala",
   "version": "2.11.8"
  }
 },
 "nbformat": 4,
 "nbformat_minor": 2
}
