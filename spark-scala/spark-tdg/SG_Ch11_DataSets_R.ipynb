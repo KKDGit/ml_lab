{
 "cells": [
  {
   "cell_type": "code",
   "execution_count": 1,
   "metadata": {},
   "outputs": [
    {
     "name": "stdout",
     "output_type": "stream",
     "text": [
      "Types will be printed.\n"
     ]
    }
   ],
   "source": [
    "%showtypes on"
   ]
  },
  {
   "cell_type": "code",
   "execution_count": 2,
   "metadata": {},
   "outputs": [
    {
     "data": {
      "text/plain": [
       "Waiting for a Spark session to start..."
      ]
     },
     "metadata": {},
     "output_type": "display_data"
    },
    {
     "data": {
      "text/html": [
       "<ul>\n",
       "<li><a href=\"Some(http://gw02.itversity.com:4045)\" target=\"new_tab\">Spark UI: application_1540458187951_76634</a></li>\n",
       "</ul>"
      ],
      "text/plain": [
       "Spark application_1540458187951_76634: Some(http://gw02.itversity.com:4045)"
      ]
     },
     "execution_count": 2,
     "metadata": {},
     "output_type": "execute_result"
    }
   ],
   "source": [
    "spark"
   ]
  },
  {
   "cell_type": "code",
   "execution_count": 3,
   "metadata": {},
   "outputs": [
    {
     "data": {
      "text/plain": [
       "Waiting for a Spark session to start..."
      ]
     },
     "metadata": {},
     "output_type": "display_data"
    },
    {
     "data": {
      "text/plain": [
       "http://rm01.itversity.com:19288/proxy/application_1540458187951_76634"
      ]
     },
     "execution_count": 3,
     "metadata": {},
     "output_type": "execute_result"
    }
   ],
   "source": [
    "sc.getConf.getAll.filter(_._2.contains(\"/proxy/\"))(0)._2"
   ]
  },
  {
   "cell_type": "code",
   "execution_count": 4,
   "metadata": {},
   "outputs": [
    {
     "data": {
      "text/plain": [
       "getType: (o: Any)String\n"
      ]
     },
     "metadata": {},
     "output_type": "display_data"
    }
   ],
   "source": [
    "def getType(o: Any) = o.getClass.getCanonicalName"
   ]
  },
  {
   "cell_type": "code",
   "execution_count": 5,
   "metadata": {},
   "outputs": [
    {
     "data": {
      "text/plain": [
       "os_name = Linux\n",
       "hdfs_home = /user/kranthidr\n"
      ]
     },
     "metadata": {},
     "output_type": "display_data"
    },
    {
     "data": {
      "text/plain": [
       "/user/kranthidr"
      ]
     },
     "execution_count": 5,
     "metadata": {},
     "output_type": "execute_result"
    }
   ],
   "source": [
    "val os_name = System.getProperty(\"os.name\")\n",
    "val hdfs_home = \"/user/\" + System.getenv(\"HOME\").split(\"/\")(2)"
   ]
  },
  {
   "cell_type": "code",
   "execution_count": 6,
   "metadata": {},
   "outputs": [
    {
     "data": {
      "text/plain": [
       "path = /user/kranthidr/dataSets/spark-guide/flight-data/parquet/2010-summary.parquet/\n"
      ]
     },
     "metadata": {},
     "output_type": "display_data"
    },
    {
     "data": {
      "text/plain": [
       "/user/kranthidr/dataSets/spark-guide/flight-data/parquet/2010-summary.parquet/"
      ]
     },
     "execution_count": 6,
     "metadata": {},
     "output_type": "execute_result"
    }
   ],
   "source": [
    "val path = hdfs_home+\"/dataSets/spark-guide/flight-data/parquet/2010-summary.parquet/\""
   ]
  },
  {
   "cell_type": "code",
   "execution_count": 7,
   "metadata": {},
   "outputs": [
    {
     "data": {
      "text/plain": [
       "defined class Flight\n"
      ]
     },
     "metadata": {},
     "output_type": "display_data"
    }
   ],
   "source": [
    "case class Flight(DEST_COUNTRY_NAME: String,\n",
    "                  ORIGIN_COUNTRY_NAME: String, \n",
    "                  count: BigInt)"
   ]
  },
  {
   "cell_type": "code",
   "execution_count": 8,
   "metadata": {},
   "outputs": [
    {
     "data": {
      "text/plain": [
       "flightsDF = [DEST_COUNTRY_NAME: string, ORIGIN_COUNTRY_NAME: string ... 1 more field]\n"
      ]
     },
     "metadata": {},
     "output_type": "display_data"
    },
    {
     "data": {
      "text/plain": [
       "[DEST_COUNTRY_NAME: string, ORIGIN_COUNTRY_NAME: string ... 1 more field]"
      ]
     },
     "execution_count": 8,
     "metadata": {},
     "output_type": "execute_result"
    }
   ],
   "source": [
    "val flightsDF = spark.\n",
    "                read.\n",
    "                parquet(path)"
   ]
  },
  {
   "cell_type": "code",
   "execution_count": 9,
   "metadata": {},
   "outputs": [
    {
     "data": {
      "text/plain": [
       "flights = [DEST_COUNTRY_NAME: string, ORIGIN_COUNTRY_NAME: string ... 1 more field]\n"
      ]
     },
     "metadata": {},
     "output_type": "display_data"
    },
    {
     "data": {
      "text/plain": [
       "[DEST_COUNTRY_NAME: string, ORIGIN_COUNTRY_NAME: string ... 1 more field]"
      ]
     },
     "execution_count": 9,
     "metadata": {},
     "output_type": "execute_result"
    }
   ],
   "source": [
    "val flights = flightsDF.as[Flight].cache()"
   ]
  },
  {
   "cell_type": "code",
   "execution_count": 10,
   "metadata": {},
   "outputs": [
    {
     "name": "stdout",
     "output_type": "stream",
     "text": [
      "org.apache.spark.sql.Dataset\n",
      "org.apache.spark.sql.Dataset\n"
     ]
    }
   ],
   "source": [
    "println(flightsDF.getClass().getName)\n",
    "println(flights.getClass().getName)"
   ]
  },
  {
   "cell_type": "code",
   "execution_count": 11,
   "metadata": {},
   "outputs": [
    {
     "name": "stdout",
     "output_type": "stream",
     "text": [
      "+-----------------+-------------------+-----+\n",
      "|DEST_COUNTRY_NAME|ORIGIN_COUNTRY_NAME|count|\n",
      "+-----------------+-------------------+-----+\n",
      "|    United States|            Romania|    1|\n",
      "|    United States|            Ireland|  264|\n",
      "+-----------------+-------------------+-----+\n",
      "only showing top 2 rows\n",
      "\n"
     ]
    }
   ],
   "source": [
    "flights.show(2)"
   ]
  },
  {
   "cell_type": "code",
   "execution_count": 12,
   "metadata": {},
   "outputs": [
    {
     "data": {
      "text/plain": [
       "United States"
      ]
     },
     "execution_count": 12,
     "metadata": {},
     "output_type": "execute_result"
    }
   ],
   "source": [
    "flights.first.DEST_COUNTRY_NAME"
   ]
  },
  {
   "cell_type": "code",
   "execution_count": 13,
   "metadata": {},
   "outputs": [
    {
     "data": {
      "text/plain": [
       "originIsDestination: (flight_row: Flight)Boolean\n"
      ]
     },
     "metadata": {},
     "output_type": "display_data"
    }
   ],
   "source": [
    "def originIsDestination(flight_row: Flight): Boolean = {\n",
    "  return flight_row.ORIGIN_COUNTRY_NAME == flight_row.DEST_COUNTRY_NAME\n",
    "}"
   ]
  },
  {
   "cell_type": "code",
   "execution_count": 14,
   "metadata": {},
   "outputs": [
    {
     "data": {
      "text/plain": [
       "[Flight(United States,United States,348113)]"
      ]
     },
     "execution_count": 14,
     "metadata": {},
     "output_type": "execute_result"
    }
   ],
   "source": [
    "flights.filter(x => originIsDestination(x)).collect()"
   ]
  },
  {
   "cell_type": "code",
   "execution_count": 15,
   "metadata": {},
   "outputs": [
    {
     "data": {
      "text/plain": [
       "[Flight(United States,United States,348113)]"
      ]
     },
     "execution_count": 15,
     "metadata": {},
     "output_type": "execute_result"
    }
   ],
   "source": [
    "flights.collect().filter(x => originIsDestination(x))"
   ]
  },
  {
   "cell_type": "code",
   "execution_count": 16,
   "metadata": {},
   "outputs": [
    {
     "name": "stdout",
     "output_type": "stream",
     "text": [
      "+-----------------+-------------------+------+\n",
      "|DEST_COUNTRY_NAME|ORIGIN_COUNTRY_NAME| count|\n",
      "+-----------------+-------------------+------+\n",
      "|    United States|      United States|348113|\n",
      "+-----------------+-------------------+------+\n",
      "\n"
     ]
    }
   ],
   "source": [
    "flights.filter(x => originIsDestination(x)).show()"
   ]
  },
  {
   "cell_type": "code",
   "execution_count": 17,
   "metadata": {},
   "outputs": [
    {
     "data": {
      "text/plain": [
       "destinations = [value: string]\n"
      ]
     },
     "metadata": {},
     "output_type": "display_data"
    },
    {
     "data": {
      "text/plain": [
       "[value: string]"
      ]
     },
     "execution_count": 17,
     "metadata": {},
     "output_type": "execute_result"
    }
   ],
   "source": [
    "val destinations = flights.map(f => f.DEST_COUNTRY_NAME)"
   ]
  },
  {
   "cell_type": "code",
   "execution_count": 18,
   "metadata": {},
   "outputs": [
    {
     "data": {
      "text/plain": [
       "localDestinations = Array(United States, United States, United States, Egypt, Equatorial Guinea)\n"
      ]
     },
     "metadata": {},
     "output_type": "display_data"
    },
    {
     "data": {
      "text/plain": [
       "[United States, United States, United States, Egypt, Equatorial Guinea]"
      ]
     },
     "execution_count": 18,
     "metadata": {},
     "output_type": "execute_result"
    }
   ],
   "source": [
    "val localDestinations = destinations.take(5)"
   ]
  },
  {
   "cell_type": "code",
   "execution_count": 19,
   "metadata": {},
   "outputs": [
    {
     "data": {
      "text/plain": [
       "defined class FlightMetadata\n"
      ]
     },
     "metadata": {},
     "output_type": "display_data"
    }
   ],
   "source": [
    "case class FlightMetadata(count: BigInt, randomData: BigInt)"
   ]
  },
  {
   "cell_type": "code",
   "execution_count": 20,
   "metadata": {},
   "outputs": [
    {
     "name": "stdout",
     "output_type": "stream",
     "text": [
      "+---+--------------------+\n",
      "| _1|                  _2|\n",
      "+---+--------------------+\n",
      "|  0|-5183701258119263509|\n",
      "|  1| 8983338770324918353|\n",
      "|  2| 1547762808549480808|\n",
      "|  3| 7091183739042959552|\n",
      "|  4|-2441987337371666469|\n",
      "|  5|-4090101999647053880|\n",
      "|  6| -994483537529894480|\n",
      "|  7|-7163532810552512961|\n",
      "|  8|-7836866877273270709|\n",
      "|  9|-7817897955762684866|\n",
      "| 10| 7728398141736455413|\n",
      "| 11|-4582317743524655046|\n",
      "| 12|   69662947042071568|\n",
      "| 13| 7999406056282772309|\n",
      "| 14|-2580036455355426926|\n",
      "| 15| 6602252326686772978|\n",
      "| 16|-3191246305972909392|\n",
      "| 17| 5753536055347111814|\n",
      "| 18|-8757599984427314983|\n",
      "| 19| 5750159507242086581|\n",
      "+---+--------------------+\n",
      "only showing top 20 rows\n",
      "\n"
     ]
    }
   ],
   "source": [
    "spark.range(500).map(x => (x, scala.util.Random.nextLong)).show()"
   ]
  },
  {
   "cell_type": "code",
   "execution_count": 21,
   "metadata": {},
   "outputs": [
    {
     "data": {
      "text/plain": [
       "flightsMeta1 = [count: bigint, randomData: bigint]\n"
      ]
     },
     "metadata": {},
     "output_type": "display_data"
    },
    {
     "data": {
      "text/plain": [
       "[count: bigint, randomData: bigint]"
      ]
     },
     "execution_count": 21,
     "metadata": {},
     "output_type": "execute_result"
    }
   ],
   "source": [
    "val flightsMeta1 = spark.range(500).map(x => (x, scala.util.Random.nextLong))\n",
    "  .withColumnRenamed(\"_1\", \"count\").withColumnRenamed(\"_2\", \"randomData\")"
   ]
  },
  {
   "cell_type": "code",
   "execution_count": 22,
   "metadata": {},
   "outputs": [
    {
     "name": "stdout",
     "output_type": "stream",
     "text": [
      "+-----+--------------------+\n",
      "|count|          randomData|\n",
      "+-----+--------------------+\n",
      "|    0|-7211380657512360076|\n",
      "|    1|-8254723276110045762|\n",
      "|    2| 5949081505669866887|\n",
      "|    3| 6616553353156927936|\n",
      "|    4|-3391809214036079431|\n",
      "|    5|-5030046179718028277|\n",
      "|    6|-2583442328315128201|\n",
      "|    7| 8583465300654768446|\n",
      "|    8|-6585179668944574011|\n",
      "|    9|-5689440713427345025|\n",
      "|   10|-6497727397996804751|\n",
      "|   11|-6248144817110949934|\n",
      "|   12|-7962032803534689908|\n",
      "|   13|-6840392436845325650|\n",
      "|   14|-4977081244864977898|\n",
      "|   15|-3058304738573760051|\n",
      "|   16|-4441616574255991560|\n",
      "|   17|  -77870753525344957|\n",
      "|   18| -813165034660053706|\n",
      "|   19| 8373022487123225042|\n",
      "+-----+--------------------+\n",
      "only showing top 20 rows\n",
      "\n"
     ]
    }
   ],
   "source": [
    "flightsMeta1.show()"
   ]
  },
  {
   "cell_type": "code",
   "execution_count": 23,
   "metadata": {},
   "outputs": [
    {
     "data": {
      "text/plain": [
       "flightsMeta = [count: bigint, randomData: bigint]\n"
      ]
     },
     "metadata": {},
     "output_type": "display_data"
    },
    {
     "data": {
      "text/plain": [
       "[count: bigint, randomData: bigint]"
      ]
     },
     "execution_count": 23,
     "metadata": {},
     "output_type": "execute_result"
    }
   ],
   "source": [
    "val flightsMeta = flightsMeta1.as[FlightMetadata]"
   ]
  },
  {
   "cell_type": "code",
   "execution_count": 24,
   "metadata": {},
   "outputs": [
    {
     "data": {
      "text/plain": [
       "flights2 = [_1: struct<DEST_COUNTRY_NAME: string, ORIGIN_COUNTRY_NAME: string ... 1 more field>, _2: struct<count: bigint, randomData: bigint>]\n"
      ]
     },
     "metadata": {},
     "output_type": "display_data"
    },
    {
     "data": {
      "text/plain": [
       "[_1: struct<DEST_COUNTRY_NAME: string, ORIGIN_COUNTRY_NAME: string ... 1 more field>, _2: struct<count: bigint, randomData: bigint>]"
      ]
     },
     "execution_count": 24,
     "metadata": {},
     "output_type": "execute_result"
    }
   ],
   "source": [
    "val flights2 = flights.joinWith(flightsMeta, flights.col(\"count\") === flightsMeta.col(\"count\"))"
   ]
  },
  {
   "cell_type": "code",
   "execution_count": 25,
   "metadata": {},
   "outputs": [
    {
     "name": "stdout",
     "output_type": "stream",
     "text": [
      "+--------------------+--------------------+\n",
      "|                  _1|                  _2|\n",
      "+--------------------+--------------------+\n",
      "|[United States, R...|[1, -787775299908...|\n",
      "|[United States, I...|[264, -1242102980...|\n",
      "|[United States, I...|[69, -69849434228...|\n",
      "|[Egypt, United St...|[24, -42334799634...|\n",
      "|[Equatorial Guine...|[1, -787775299908...|\n",
      "|[United States, S...|[25, -86329372422...|\n",
      "|[United States, G...|[54, -26530291982...|\n",
      "|[Costa Rica, Unit...|[477, -3792473526...|\n",
      "|[Senegal, United ...|[29, -41509673180...|\n",
      "|[United States, M...|[44, 811656018454...|\n",
      "|[Guyana, United S...|[17, 125496987054...|\n",
      "|[United States, S...|[53, -54674333291...|\n",
      "|[Malta, United St...|[1, -787775299908...|\n",
      "|[Bolivia, United ...|[46, 896996701485...|\n",
      "|[Anguilla, United...|[21, -19589532279...|\n",
      "|[Turks and Caicos...|[136, 21241592356...|\n",
      "|[United States, A...|[2, 7062705438322...|\n",
      "|[Saint Vincent an...|[1, -787775299908...|\n",
      "|[Italy, United St...|[390, -4988177798...|\n",
      "|[United States, R...|[156, 84312575115...|\n",
      "+--------------------+--------------------+\n",
      "only showing top 20 rows\n",
      "\n"
     ]
    }
   ],
   "source": [
    "flights2.show()"
   ]
  },
  {
   "cell_type": "code",
   "execution_count": 26,
   "metadata": {},
   "outputs": [
    {
     "name": "stdout",
     "output_type": "stream",
     "text": [
      "(Flight(United States,Romania,1),FlightMetadata(1,-3711323035090670621))\n",
      "(Flight(United States,Ireland,264),FlightMetadata(264,3268759325966498349))\n",
      "(Flight(United States,India,69),FlightMetadata(69,8899882629814114251))\n",
      "(Flight(Egypt,United States,24),FlightMetadata(24,2734710184603806714))\n",
      "(Flight(Equatorial Guinea,United States,1),FlightMetadata(1,-3711323035090670621))\n",
      "(Flight(United States,Singapore,25),FlightMetadata(25,2330288661222830564))\n",
      "(Flight(United States,Grenada,54),FlightMetadata(54,1520795149216698869))\n",
      "(Flight(Costa Rica,United States,477),FlightMetadata(477,848690072306216806))\n",
      "(Flight(Senegal,United States,29),FlightMetadata(29,-2619022139339652656))\n",
      "(Flight(United States,Marshall Islands,44),FlightMetadata(44,-4682407921014983147))\n"
     ]
    }
   ],
   "source": [
    "flights2.take(10).foreach(println)"
   ]
  },
  {
   "cell_type": "code",
   "execution_count": 27,
   "metadata": {},
   "outputs": [
    {
     "name": "stdout",
     "output_type": "stream",
     "text": [
      "+--------------------+\n",
      "|   DEST_COUNTRY_NAME|\n",
      "+--------------------+\n",
      "|       United States|\n",
      "|       United States|\n",
      "|       United States|\n",
      "|               Egypt|\n",
      "|   Equatorial Guinea|\n",
      "|       United States|\n",
      "|       United States|\n",
      "|          Costa Rica|\n",
      "|             Senegal|\n",
      "|       United States|\n",
      "|              Guyana|\n",
      "|       United States|\n",
      "|               Malta|\n",
      "|             Bolivia|\n",
      "|            Anguilla|\n",
      "|Turks and Caicos ...|\n",
      "|       United States|\n",
      "|Saint Vincent and...|\n",
      "|               Italy|\n",
      "|       United States|\n",
      "+--------------------+\n",
      "only showing top 20 rows\n",
      "\n"
     ]
    }
   ],
   "source": [
    "flights2.selectExpr(\"_1.DEST_COUNTRY_NAME\").show()"
   ]
  },
  {
   "cell_type": "code",
   "execution_count": 28,
   "metadata": {},
   "outputs": [
    {
     "data": {
      "text/html": [
       "<table>\n",
       "<tr><td>United States</td></tr>\n",
       "<tr><td>United States</td></tr>\n",
       "<tr><td>United States</td></tr>\n",
       "<tr><td>Egypt</td></tr>\n",
       "</table>"
      ],
      "text/plain": [
       "+---------------+\n",
       "| United States |\n",
       "| United States |\n",
       "| United States |\n",
       "| Egypt         |\n",
       "+---------------+"
      ]
     },
     "execution_count": 28,
     "metadata": {},
     "output_type": "execute_result"
    }
   ],
   "source": [
    "flights2.selectExpr(\"_1.DEST_COUNTRY_NAME\").take(4)"
   ]
  },
  {
   "cell_type": "code",
   "execution_count": 29,
   "metadata": {},
   "outputs": [
    {
     "data": {
      "text/plain": [
       "flights3 = [count: bigint, DEST_COUNTRY_NAME: string ... 2 more fields]\n"
      ]
     },
     "metadata": {},
     "output_type": "display_data"
    },
    {
     "data": {
      "text/plain": [
       "[count: bigint, DEST_COUNTRY_NAME: string ... 2 more fields]"
      ]
     },
     "execution_count": 29,
     "metadata": {},
     "output_type": "execute_result"
    }
   ],
   "source": [
    "val flights3 = flights.join(flightsMeta, Seq(\"count\"))"
   ]
  },
  {
   "cell_type": "code",
   "execution_count": 30,
   "metadata": {},
   "outputs": [
    {
     "data": {
      "text/html": [
       "<table>\n",
       "<tr><td>1</td><td>United States</td><td>Romania</td><td>-754198562442490722</td></tr>\n",
       "<tr><td>264</td><td>United States</td><td>Ireland</td><td>4815993716481545711</td></tr>\n",
       "<tr><td>69</td><td>United States</td><td>India</td><td>-8182651667234887706</td></tr>\n",
       "<tr><td>24</td><td>Egypt</td><td>United States</td><td>-1831832207685697426</td></tr>\n",
       "</table>"
      ],
      "text/plain": [
       "+-----+---------------+---------------+----------------------+\n",
       "| 1   | United States | Romania       | -754198562442490722  |\n",
       "| 264 | United States | Ireland       | 4815993716481545711  |\n",
       "| 69  | United States | India         | -8182651667234887706 |\n",
       "| 24  | Egypt         | United States | -1831832207685697426 |\n",
       "+-----+---------------+---------------+----------------------+"
      ]
     },
     "execution_count": 30,
     "metadata": {},
     "output_type": "execute_result"
    }
   ],
   "source": [
    "flights3.take(4)"
   ]
  },
  {
   "cell_type": "code",
   "execution_count": 31,
   "metadata": {},
   "outputs": [
    {
     "data": {
      "text/plain": [
       "flights4 = [count: bigint, DEST_COUNTRY_NAME: string ... 2 more fields]\n"
      ]
     },
     "metadata": {},
     "output_type": "display_data"
    },
    {
     "data": {
      "text/plain": [
       "[count: bigint, DEST_COUNTRY_NAME: string ... 2 more fields]"
      ]
     },
     "execution_count": 31,
     "metadata": {},
     "output_type": "execute_result"
    }
   ],
   "source": [
    "val flights4 = flights.join(flightsMeta.toDF(), Seq(\"count\"))"
   ]
  },
  {
   "cell_type": "code",
   "execution_count": 32,
   "metadata": {},
   "outputs": [
    {
     "data": {
      "text/html": [
       "<table>\n",
       "<tr><td>1</td><td>United States</td><td>Romania</td><td>7226310089114737951</td></tr>\n",
       "<tr><td>264</td><td>United States</td><td>Ireland</td><td>1631453143985871172</td></tr>\n",
       "<tr><td>69</td><td>United States</td><td>India</td><td>-7242784686862571070</td></tr>\n",
       "<tr><td>24</td><td>Egypt</td><td>United States</td><td>-585294014783270265</td></tr>\n",
       "</table>"
      ],
      "text/plain": [
       "+-----+---------------+---------------+----------------------+\n",
       "| 1   | United States | Romania       | 7226310089114737951  |\n",
       "| 264 | United States | Ireland       | 1631453143985871172  |\n",
       "| 69  | United States | India         | -7242784686862571070 |\n",
       "| 24  | Egypt         | United States | -585294014783270265  |\n",
       "+-----+---------------+---------------+----------------------+"
      ]
     },
     "execution_count": 32,
     "metadata": {},
     "output_type": "execute_result"
    }
   ],
   "source": [
    "flights4.take(4)"
   ]
  },
  {
   "cell_type": "code",
   "execution_count": 33,
   "metadata": {},
   "outputs": [
    {
     "name": "stdout",
     "output_type": "stream",
     "text": [
      "+-----+--------------------+-------------------+--------------------+\n",
      "|count|   DEST_COUNTRY_NAME|ORIGIN_COUNTRY_NAME|          randomData|\n",
      "+-----+--------------------+-------------------+--------------------+\n",
      "|    1|       United States|            Romania| 8573313110040646214|\n",
      "|  264|       United States|            Ireland|-5683022886700030174|\n",
      "|   69|       United States|              India|  884836151796415090|\n",
      "|   24|               Egypt|      United States| 6720525618521304454|\n",
      "|    1|   Equatorial Guinea|      United States| 8573313110040646214|\n",
      "|   25|       United States|          Singapore| 2163182119373336278|\n",
      "|   54|       United States|            Grenada|-3949040492800661041|\n",
      "|  477|          Costa Rica|      United States| 1398907436853517000|\n",
      "|   29|             Senegal|      United States|-5007689991307430076|\n",
      "|   44|       United States|   Marshall Islands|-1669305580376728871|\n",
      "|   17|              Guyana|      United States| 7318973232601248040|\n",
      "|   53|       United States|       Sint Maarten| 2110565057264003139|\n",
      "|    1|               Malta|      United States| 8573313110040646214|\n",
      "|   46|             Bolivia|      United States| 2094486228627277411|\n",
      "|   21|            Anguilla|      United States|-2039618271535150211|\n",
      "|  136|Turks and Caicos ...|      United States| 1503714567337154117|\n",
      "|    2|       United States|        Afghanistan| 4317329318414837361|\n",
      "|    1|Saint Vincent and...|      United States| 8573313110040646214|\n",
      "|  390|               Italy|      United States|-7372418134340594916|\n",
      "|  156|       United States|             Russia| -731792505673419415|\n",
      "+-----+--------------------+-------------------+--------------------+\n",
      "only showing top 20 rows\n",
      "\n"
     ]
    }
   ],
   "source": [
    "flights4.show()"
   ]
  },
  {
   "cell_type": "code",
   "execution_count": 34,
   "metadata": {},
   "outputs": [
    {
     "name": "stdout",
     "output_type": "stream",
     "text": [
      "+-----+--------------------+-------------------+--------------------+\n",
      "|count|   DEST_COUNTRY_NAME|ORIGIN_COUNTRY_NAME|          randomData|\n",
      "+-----+--------------------+-------------------+--------------------+\n",
      "|    1|       United States|            Romania| 6236791750707601741|\n",
      "|  264|       United States|            Ireland|-7099746024893441802|\n",
      "|   69|       United States|              India|-1195023238738311532|\n",
      "|   24|               Egypt|      United States|-1080671725318375702|\n",
      "|    1|   Equatorial Guinea|      United States| 6236791750707601741|\n",
      "|   25|       United States|          Singapore| 7665241361836221272|\n",
      "|   54|       United States|            Grenada| 3249716655202423101|\n",
      "|  477|          Costa Rica|      United States|-2812948112567178255|\n",
      "|   29|             Senegal|      United States|-8895246107753437057|\n",
      "|   44|       United States|   Marshall Islands| 6768718532109343926|\n",
      "|   17|              Guyana|      United States|-4901922489851049716|\n",
      "|   53|       United States|       Sint Maarten| 4397075175539132821|\n",
      "|    1|               Malta|      United States| 6236791750707601741|\n",
      "|   46|             Bolivia|      United States|-5311962850614976289|\n",
      "|   21|            Anguilla|      United States|  931580471035725539|\n",
      "|  136|Turks and Caicos ...|      United States|-5656592481555737554|\n",
      "|    2|       United States|        Afghanistan|-4989882851831186604|\n",
      "|    1|Saint Vincent and...|      United States| 6236791750707601741|\n",
      "|  390|               Italy|      United States|-5053635160335400393|\n",
      "|  156|       United States|             Russia|-2964289929447253516|\n",
      "+-----+--------------------+-------------------+--------------------+\n",
      "only showing top 20 rows\n",
      "\n"
     ]
    }
   ],
   "source": [
    "flights.join(flightsMeta.toDF(), \"count\").show()"
   ]
  },
  {
   "cell_type": "code",
   "execution_count": 35,
   "metadata": {},
   "outputs": [
    {
     "data": {
      "text/html": [
       "<table>\n",
       "<tr><td>Anguilla</td><td>1</td></tr>\n",
       "<tr><td>Russia</td><td>1</td></tr>\n",
       "<tr><td>Paraguay</td><td>1</td></tr>\n",
       "<tr><td>Senegal</td><td>1</td></tr>\n",
       "<tr><td>Sweden</td><td>1</td></tr>\n",
       "<tr><td>Kiribati</td><td>1</td></tr>\n",
       "<tr><td>Guyana</td><td>1</td></tr>\n",
       "<tr><td>Philippines</td><td>1</td></tr>\n",
       "<tr><td>Malaysia</td><td>1</td></tr>\n",
       "<tr><td>Singapore</td><td>1</td></tr>\n",
       "</table>"
      ],
      "text/plain": [
       "+-------------+-----+\n",
       "| Anguilla    | 1   |\n",
       "| Russia      | 1   |\n",
       "| Paraguay    | 1   |\n",
       "| Senegal     | 1   |\n",
       "| Sweden      | 1   |\n",
       "| Kiribati    | 1   |\n",
       "| Guyana      | 1   |\n",
       "| Philippines | 1   |\n",
       "| Malaysia    | 1   |\n",
       "| Singapore   | 1   |\n",
       "+-------------+-----+"
      ]
     },
     "execution_count": 35,
     "metadata": {},
     "output_type": "execute_result"
    }
   ],
   "source": [
    "flights.groupBy(\"DEST_COUNTRY_NAME\").count().take(10)"
   ]
  },
  {
   "cell_type": "code",
   "execution_count": 36,
   "metadata": {},
   "outputs": [
    {
     "data": {
      "text/plain": [
       "[(Anguilla,1), (Russia,1), (Paraguay,1), (Senegal,1), (Sweden,1), (Kiribati,1), (Guyana,1), (Philippines,1), (Malaysia,1), (Singapore,1)]"
      ]
     },
     "execution_count": 36,
     "metadata": {},
     "output_type": "execute_result"
    }
   ],
   "source": [
    "flights.groupByKey(x => x.DEST_COUNTRY_NAME).count().take(10)"
   ]
  },
  {
   "cell_type": "code",
   "execution_count": 37,
   "metadata": {},
   "outputs": [
    {
     "name": "stdout",
     "output_type": "stream",
     "text": [
      "== Physical Plan ==\n",
      "*(2) HashAggregate(keys=[value#432], functions=[count(1)])\n",
      "+- Exchange hashpartitioning(value#432, 200)\n",
      "   +- *(1) HashAggregate(keys=[value#432], functions=[partial_count(1)])\n",
      "      +- *(1) Project [value#432]\n",
      "         +- AppendColumns <function1>, newInstance(class $line33.$read$$iw$$iw$Flight), [staticinvoke(class org.apache.spark.unsafe.types.UTF8String, StringType, fromString, input[0, java.lang.String, true], true, false) AS value#432]\n",
      "            +- InMemoryTableScan [DEST_COUNTRY_NAME#0, ORIGIN_COUNTRY_NAME#1, count#2L]\n",
      "                  +- InMemoryRelation [DEST_COUNTRY_NAME#0, ORIGIN_COUNTRY_NAME#1, count#2L], true, 10000, StorageLevel(disk, memory, deserialized, 1 replicas)\n",
      "                        +- *(1) FileScan parquet [DEST_COUNTRY_NAME#0,ORIGIN_COUNTRY_NAME#1,count#2L] Batched: true, Format: Parquet, Location: InMemoryFileIndex[hdfs://nn01.itversity.com:8020/user/kranthidr/dataSets/spark-guide/flight-data/..., PartitionFilters: [], PushedFilters: [], ReadSchema: struct<DEST_COUNTRY_NAME:string,ORIGIN_COUNTRY_NAME:string,count:bigint>\n"
     ]
    }
   ],
   "source": [
    "flights.groupByKey(x => x.DEST_COUNTRY_NAME).count().explain"
   ]
  },
  {
   "cell_type": "code",
   "execution_count": 38,
   "metadata": {},
   "outputs": [
    {
     "data": {
      "text/plain": [
       "grpSum: (countryName: String, values: Iterator[Flight])Iterator[(String, Flight)]\n"
      ]
     },
     "metadata": {},
     "output_type": "display_data"
    }
   ],
   "source": [
    "def grpSum(countryName:String, values: Iterator[Flight]) = {\n",
    "  values.dropWhile(_.count < 5).map(x => (countryName, x))\n",
    "}"
   ]
  },
  {
   "cell_type": "code",
   "execution_count": 39,
   "metadata": {},
   "outputs": [
    {
     "data": {
      "text/plain": [
       "[Flight(United States,Romania,1), Flight(United States,Ireland,264), Flight(United States,India,69), Flight(Egypt,United States,24), Flight(Equatorial Guinea,United States,1), Flight(United States,Singapore,25), Flight(United States,Grenada,54), Flight(Costa Rica,United States,477), Flight(Senegal,United States,29), Flight(United States,Marshall Islands,44)]"
      ]
     },
     "execution_count": 39,
     "metadata": {},
     "output_type": "execute_result"
    }
   ],
   "source": [
    "flights.take(10)"
   ]
  },
  {
   "cell_type": "code",
   "execution_count": 40,
   "metadata": {},
   "outputs": [
    {
     "data": {
      "text/plain": [
       "[(Anguilla,Flight(Anguilla,United States,21)), (Paraguay,Flight(Paraguay,United States,90)), (Russia,Flight(Russia,United States,152)), (Senegal,Flight(Senegal,United States,29)), (Sweden,Flight(Sweden,United States,65)), (Kiribati,Flight(Kiribati,United States,17)), (Guyana,Flight(Guyana,United States,17)), (Philippines,Flight(Philippines,United States,132)), (Singapore,Flight(Singapore,United States,25)), (Fiji,Flight(Fiji,United States,53))]"
      ]
     },
     "execution_count": 40,
     "metadata": {},
     "output_type": "execute_result"
    }
   ],
   "source": [
    "flights.groupByKey(x => x.DEST_COUNTRY_NAME).flatMapGroups(grpSum).take(10)"
   ]
  },
  {
   "cell_type": "code",
   "execution_count": 41,
   "metadata": {},
   "outputs": [
    {
     "data": {
      "text/plain": [
       "[(Anguilla,1), (Russia,1), (Paraguay,1), (Senegal,1), (Sweden,1), (Kiribati,1), (Guyana,1), (Philippines,1), (Malaysia,1), (Singapore,1)]"
      ]
     },
     "execution_count": 41,
     "metadata": {},
     "output_type": "execute_result"
    }
   ],
   "source": [
    "flights.groupByKey(x => x.DEST_COUNTRY_NAME).count().take(10)"
   ]
  },
  {
   "cell_type": "code",
   "execution_count": 42,
   "metadata": {},
   "outputs": [
    {
     "data": {
      "text/plain": [
       "[Flight(Afghanistan,United States,11), Flight(Angola,United States,14), Flight(Anguilla,United States,21), Flight(Antigua and Barbuda,United States,123), Flight(Argentina,United States,184), Flight(Aruba,United States,359), Flight(Australia,United States,290), Flight(Austria,United States,36), Flight(Azerbaijan,United States,1), Flight(Bahrain,United States,30)]"
      ]
     },
     "execution_count": 42,
     "metadata": {},
     "output_type": "execute_result"
    }
   ],
   "source": [
    "flights.sort(\"DEST_COUNTRY_NAME\").take(10)"
   ]
  },
  {
   "cell_type": "code",
   "execution_count": 43,
   "metadata": {},
   "outputs": [
    {
     "data": {
      "text/plain": [
       "grpSum2: (f: Flight)Integer\n"
      ]
     },
     "metadata": {},
     "output_type": "display_data"
    }
   ],
   "source": [
    "def grpSum2(f:Flight):Integer = {\n",
    "  1\n",
    "}"
   ]
  },
  {
   "cell_type": "code",
   "execution_count": 44,
   "metadata": {},
   "outputs": [
    {
     "data": {
      "text/plain": [
       "[(Anguilla,1), (Russia,1), (Paraguay,1), (Senegal,1), (Sweden,1), (Kiribati,1), (Guyana,1), (Philippines,1), (Malaysia,1), (Singapore,1)]"
      ]
     },
     "execution_count": 44,
     "metadata": {},
     "output_type": "execute_result"
    }
   ],
   "source": [
    "flights.groupByKey(x => x.DEST_COUNTRY_NAME).mapValues(grpSum2).count().take(10)"
   ]
  },
  {
   "cell_type": "code",
   "execution_count": 45,
   "metadata": {},
   "outputs": [
    {
     "data": {
      "text/plain": [
       "sum2: (left: Flight, right: Flight)Flight\n",
       "sum3: (left: Flight, right: Flight)Flight\n",
       "sum4: (left: Flight, right: Flight)Flight\n"
      ]
     },
     "metadata": {},
     "output_type": "display_data"
    }
   ],
   "source": [
    "def sum2(left:Flight, right:Flight) = {\n",
    " Flight(null, null, left.count + right.count)\n",
    "}\n",
    "def sum3(left:Flight, right:Flight) = {\n",
    " Flight(null, null, left.count - right.count)\n",
    "}\n",
    "def sum4(left:Flight, right:Flight) = {\n",
    " Flight(null, null, left.count * right.count)\n",
    "}"
   ]
  },
  {
   "cell_type": "code",
   "execution_count": 46,
   "metadata": {},
   "outputs": [
    {
     "data": {
      "text/plain": [
       "[(Anguilla,Flight(Anguilla,United States,21)), (Russia,Flight(Russia,United States,152)), (Paraguay,Flight(Paraguay,United States,90)), (Senegal,Flight(Senegal,United States,29)), (Sweden,Flight(Sweden,United States,65)), (Kiribati,Flight(Kiribati,United States,17)), (Guyana,Flight(Guyana,United States,17)), (Philippines,Flight(Philippines,United States,132)), (Malaysia,Flight(Malaysia,United States,1)), (Singapore,Flight(Singapore,United States,25))]"
      ]
     },
     "execution_count": 46,
     "metadata": {},
     "output_type": "execute_result"
    }
   ],
   "source": [
    "flights.groupByKey(x => x.DEST_COUNTRY_NAME).reduceGroups((l, r) => sum2(l, r)).take(10)"
   ]
  },
  {
   "cell_type": "code",
   "execution_count": 47,
   "metadata": {},
   "outputs": [
    {
     "data": {
      "text/plain": [
       "[(Anguilla,Flight(Anguilla,United States,21)), (Russia,Flight(Russia,United States,152)), (Paraguay,Flight(Paraguay,United States,90)), (Senegal,Flight(Senegal,United States,29)), (Sweden,Flight(Sweden,United States,65)), (Kiribati,Flight(Kiribati,United States,17)), (Guyana,Flight(Guyana,United States,17)), (Philippines,Flight(Philippines,United States,132)), (Malaysia,Flight(Malaysia,United States,1)), (Singapore,Flight(Singapore,United States,25))]"
      ]
     },
     "execution_count": 47,
     "metadata": {},
     "output_type": "execute_result"
    }
   ],
   "source": [
    "flights.groupByKey(x => x.DEST_COUNTRY_NAME).reduceGroups((l, r) => sum2(l, r)).take(10)"
   ]
  },
  {
   "cell_type": "code",
   "execution_count": 48,
   "metadata": {},
   "outputs": [
    {
     "data": {
      "text/plain": [
       "[(Anguilla,Flight(Anguilla,United States,21)), (Russia,Flight(Russia,United States,152)), (Paraguay,Flight(Paraguay,United States,90)), (Senegal,Flight(Senegal,United States,29)), (Sweden,Flight(Sweden,United States,65)), (Kiribati,Flight(Kiribati,United States,17)), (Guyana,Flight(Guyana,United States,17)), (Philippines,Flight(Philippines,United States,132)), (Malaysia,Flight(Malaysia,United States,1)), (Singapore,Flight(Singapore,United States,25))]"
      ]
     },
     "execution_count": 48,
     "metadata": {},
     "output_type": "execute_result"
    }
   ],
   "source": [
    "flights.groupByKey(x => x.DEST_COUNTRY_NAME).reduceGroups((l, r) => sum3(l, r)).take(10)"
   ]
  },
  {
   "cell_type": "code",
   "execution_count": 49,
   "metadata": {},
   "outputs": [
    {
     "data": {
      "text/plain": [
       "125"
      ]
     },
     "execution_count": 49,
     "metadata": {},
     "output_type": "execute_result"
    }
   ],
   "source": [
    "flights.groupByKey(x => x.DEST_COUNTRY_NAME).reduceGroups((l, r) => sum2(l, r)).count()"
   ]
  },
  {
   "cell_type": "code",
   "execution_count": 50,
   "metadata": {},
   "outputs": [
    {
     "data": {
      "text/plain": [
       "125"
      ]
     },
     "execution_count": 50,
     "metadata": {},
     "output_type": "execute_result"
    }
   ],
   "source": [
    "flights.groupByKey(x => x.DEST_COUNTRY_NAME).count().count()"
   ]
  },
  {
   "cell_type": "code",
   "execution_count": 51,
   "metadata": {},
   "outputs": [
    {
     "name": "stdout",
     "output_type": "stream",
     "text": [
      "== Physical Plan ==\n",
      "*(2) HashAggregate(keys=[DEST_COUNTRY_NAME#0], functions=[count(1)])\n",
      "+- Exchange hashpartitioning(DEST_COUNTRY_NAME#0, 200)\n",
      "   +- *(1) HashAggregate(keys=[DEST_COUNTRY_NAME#0], functions=[partial_count(1)])\n",
      "      +- InMemoryTableScan [DEST_COUNTRY_NAME#0]\n",
      "            +- InMemoryRelation [DEST_COUNTRY_NAME#0, ORIGIN_COUNTRY_NAME#1, count#2L], true, 10000, StorageLevel(disk, memory, deserialized, 1 replicas)\n",
      "                  +- *(1) FileScan parquet [DEST_COUNTRY_NAME#0,ORIGIN_COUNTRY_NAME#1,count#2L] Batched: true, Format: Parquet, Location: InMemoryFileIndex[hdfs://nn01.itversity.com:8020/user/kranthidr/dataSets/spark-guide/flight-data/..., PartitionFilters: [], PushedFilters: [], ReadSchema: struct<DEST_COUNTRY_NAME:string,ORIGIN_COUNTRY_NAME:string,count:bigint>\n"
     ]
    }
   ],
   "source": [
    "flights.groupBy(\"DEST_COUNTRY_NAME\").count().explain"
   ]
  },
  {
   "cell_type": "code",
   "execution_count": null,
   "metadata": {
    "collapsed": true
   },
   "outputs": [],
   "source": []
  }
 ],
 "metadata": {
  "kernelspec": {
   "display_name": "Spark - Scala",
   "language": "scala",
   "name": "spark_scala"
  },
  "language_info": {
   "codemirror_mode": "text/x-scala",
   "file_extension": ".scala",
   "mimetype": "text/x-scala",
   "name": "scala",
   "pygments_lexer": "scala",
   "version": "2.11.8"
  }
 },
 "nbformat": 4,
 "nbformat_minor": 2
}
