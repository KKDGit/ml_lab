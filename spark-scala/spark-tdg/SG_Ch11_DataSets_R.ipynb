{
 "cells": [
  {
   "cell_type": "code",
   "execution_count": 2,
   "metadata": {},
   "outputs": [
    {
     "name": "stdout",
     "output_type": "stream",
     "text": [
      "Types will be printed.\n"
     ]
    }
   ],
   "source": [
    "%showtypes on"
   ]
  },
  {
   "cell_type": "code",
   "execution_count": 3,
   "metadata": {},
   "outputs": [
    {
     "data": {
      "text/plain": [
       "defined class Flight\n"
      ]
     },
     "metadata": {},
     "output_type": "display_data"
    }
   ],
   "source": [
    "case class Flight(DEST_COUNTRY_NAME: String,\n",
    "                  ORIGIN_COUNTRY_NAME: String, \n",
    "                  count: BigInt)"
   ]
  },
  {
   "cell_type": "code",
   "execution_count": 4,
   "metadata": {},
   "outputs": [
    {
     "data": {
      "text/plain": [
       "Waiting for a Spark session to start..."
      ]
     },
     "metadata": {},
     "output_type": "display_data"
    },
    {
     "data": {
      "text/html": [
       "<ul>\n",
       "<li><a href=\"Some(http://gw02.itversity.com:4048)\" target=\"new_tab\">Spark UI: application_1533622723243_9054</a></li>\n",
       "</ul>"
      ],
      "text/plain": [
       "Spark application_1533622723243_9054: Some(http://gw02.itversity.com:4048)"
      ]
     },
     "execution_count": 4,
     "metadata": {},
     "output_type": "execute_result"
    }
   ],
   "source": [
    "spark"
   ]
  },
  {
   "cell_type": "code",
   "execution_count": 5,
   "metadata": {},
   "outputs": [
    {
     "data": {
      "text/plain": [
       "Waiting for a Spark session to start..."
      ]
     },
     "metadata": {},
     "output_type": "display_data"
    },
    {
     "data": {
      "text/plain": [
       "flightsDF = [DEST_COUNTRY_NAME: string, ORIGIN_COUNTRY_NAME: string ... 1 more field]\n"
      ]
     },
     "metadata": {},
     "output_type": "display_data"
    },
    {
     "data": {
      "text/plain": [
       "[DEST_COUNTRY_NAME: string, ORIGIN_COUNTRY_NAME: string ... 1 more field]"
      ]
     },
     "execution_count": 5,
     "metadata": {},
     "output_type": "execute_result"
    }
   ],
   "source": [
    "val flightsDF = spark.\n",
    "                read.\n",
    "                parquet(\"/user/kranthidr/dataSets/spark-guide/flight-data/parquet/2010-summary.parquet/\")"
   ]
  },
  {
   "cell_type": "code",
   "execution_count": 22,
   "metadata": {},
   "outputs": [
    {
     "data": {
      "text/plain": [
       "flights = [DEST_COUNTRY_NAME: string, ORIGIN_COUNTRY_NAME: string ... 1 more field]\n"
      ]
     },
     "metadata": {},
     "output_type": "display_data"
    },
    {
     "data": {
      "text/plain": [
       "[DEST_COUNTRY_NAME: string, ORIGIN_COUNTRY_NAME: string ... 1 more field]"
      ]
     },
     "execution_count": 22,
     "metadata": {},
     "output_type": "execute_result"
    }
   ],
   "source": [
    "val flights = flightsDF.as[Flight].cache()"
   ]
  },
  {
   "cell_type": "code",
   "execution_count": 23,
   "metadata": {},
   "outputs": [
    {
     "name": "stdout",
     "output_type": "stream",
     "text": [
      "org.apache.spark.sql.Dataset\n",
      "org.apache.spark.sql.Dataset\n"
     ]
    }
   ],
   "source": [
    "println(flightsDF.getClass().getName)\n",
    "println(flights.getClass().getName)"
   ]
  },
  {
   "cell_type": "code",
   "execution_count": 24,
   "metadata": {},
   "outputs": [
    {
     "name": "stdout",
     "output_type": "stream",
     "text": [
      "+-----------------+-------------------+-----+\n",
      "|DEST_COUNTRY_NAME|ORIGIN_COUNTRY_NAME|count|\n",
      "+-----------------+-------------------+-----+\n",
      "|    United States|            Romania|    1|\n",
      "|    United States|            Ireland|  264|\n",
      "+-----------------+-------------------+-----+\n",
      "only showing top 2 rows\n",
      "\n"
     ]
    }
   ],
   "source": [
    "flights.show(2)"
   ]
  },
  {
   "cell_type": "code",
   "execution_count": 25,
   "metadata": {},
   "outputs": [
    {
     "data": {
      "text/plain": [
       "United States"
      ]
     },
     "execution_count": 25,
     "metadata": {},
     "output_type": "execute_result"
    }
   ],
   "source": [
    "flights.first.DEST_COUNTRY_NAME"
   ]
  },
  {
   "cell_type": "code",
   "execution_count": 26,
   "metadata": {},
   "outputs": [
    {
     "data": {
      "text/plain": [
       "originIsDestination: (flight_row: Flight)Boolean\n"
      ]
     },
     "metadata": {},
     "output_type": "display_data"
    }
   ],
   "source": [
    "def originIsDestination(flight_row: Flight): Boolean = {\n",
    "  return flight_row.ORIGIN_COUNTRY_NAME == flight_row.DEST_COUNTRY_NAME\n",
    "}"
   ]
  },
  {
   "cell_type": "code",
   "execution_count": 27,
   "metadata": {},
   "outputs": [
    {
     "data": {
      "text/plain": [
       "[Flight(United States,United States,348113)]"
      ]
     },
     "execution_count": 27,
     "metadata": {},
     "output_type": "execute_result"
    }
   ],
   "source": [
    "flights.filter(x => originIsDestination(x)).collect()"
   ]
  },
  {
   "cell_type": "code",
   "execution_count": 28,
   "metadata": {},
   "outputs": [
    {
     "data": {
      "text/plain": [
       "[Flight(United States,United States,348113)]"
      ]
     },
     "execution_count": 28,
     "metadata": {},
     "output_type": "execute_result"
    }
   ],
   "source": [
    "flights.collect().filter(x => originIsDestination(x))"
   ]
  },
  {
   "cell_type": "code",
   "execution_count": 29,
   "metadata": {},
   "outputs": [
    {
     "name": "stdout",
     "output_type": "stream",
     "text": [
      "+-----------------+-------------------+------+\n",
      "|DEST_COUNTRY_NAME|ORIGIN_COUNTRY_NAME| count|\n",
      "+-----------------+-------------------+------+\n",
      "|    United States|      United States|348113|\n",
      "+-----------------+-------------------+------+\n",
      "\n"
     ]
    }
   ],
   "source": [
    "flights.filter(x => originIsDestination(x)).show()"
   ]
  },
  {
   "cell_type": "code",
   "execution_count": 30,
   "metadata": {},
   "outputs": [
    {
     "data": {
      "text/plain": [
       "destinations = [value: string]\n"
      ]
     },
     "metadata": {},
     "output_type": "display_data"
    },
    {
     "data": {
      "text/plain": [
       "[value: string]"
      ]
     },
     "execution_count": 30,
     "metadata": {},
     "output_type": "execute_result"
    }
   ],
   "source": [
    "val destinations = flights.map(f => f.DEST_COUNTRY_NAME)"
   ]
  },
  {
   "cell_type": "code",
   "execution_count": 31,
   "metadata": {},
   "outputs": [
    {
     "data": {
      "text/plain": [
       "localDestinations = Array(United States, United States, United States, Egypt, Equatorial Guinea)\n"
      ]
     },
     "metadata": {},
     "output_type": "display_data"
    },
    {
     "data": {
      "text/plain": [
       "[United States, United States, United States, Egypt, Equatorial Guinea]"
      ]
     },
     "execution_count": 31,
     "metadata": {},
     "output_type": "execute_result"
    }
   ],
   "source": [
    "val localDestinations = destinations.take(5)"
   ]
  },
  {
   "cell_type": "code",
   "execution_count": 32,
   "metadata": {},
   "outputs": [
    {
     "data": {
      "text/plain": [
       "defined class FlightMetadata\n"
      ]
     },
     "metadata": {},
     "output_type": "display_data"
    }
   ],
   "source": [
    "case class FlightMetadata(count: BigInt, randomData: BigInt)"
   ]
  },
  {
   "cell_type": "code",
   "execution_count": 36,
   "metadata": {},
   "outputs": [
    {
     "name": "stdout",
     "output_type": "stream",
     "text": [
      "+---+--------------------+\n",
      "| _1|                  _2|\n",
      "+---+--------------------+\n",
      "|  0| 8797984346824714710|\n",
      "|  1| 9146943581127446671|\n",
      "|  2|-3816535872406726930|\n",
      "|  3|-8655133167090689937|\n",
      "|  4|-1125574671320092950|\n",
      "|  5| -731329737330901770|\n",
      "|  6| 6493083979319074284|\n",
      "|  7|-6995937290632452009|\n",
      "|  8|-7274215871035376116|\n",
      "|  9|  556681772115901767|\n",
      "| 10| 3157650557017053308|\n",
      "| 11| 2202492472679610047|\n",
      "| 12| 3910438635826861293|\n",
      "| 13|-1226799466950852608|\n",
      "| 14|-1334646806594159823|\n",
      "| 15| 2077318981243930839|\n",
      "| 16|-3524326559222748382|\n",
      "| 17|-5464992708199015902|\n",
      "| 18|-5952215271453299007|\n",
      "| 19| 8137380566034050706|\n",
      "+---+--------------------+\n",
      "only showing top 20 rows\n",
      "\n"
     ]
    }
   ],
   "source": [
    "spark.range(500).map(x => (x, scala.util.Random.nextLong)).show()"
   ]
  },
  {
   "cell_type": "code",
   "execution_count": 37,
   "metadata": {},
   "outputs": [
    {
     "data": {
      "text/plain": [
       "flightsMeta1 = [count: bigint, randomData: bigint]\n"
      ]
     },
     "metadata": {},
     "output_type": "display_data"
    },
    {
     "data": {
      "text/plain": [
       "[count: bigint, randomData: bigint]"
      ]
     },
     "execution_count": 37,
     "metadata": {},
     "output_type": "execute_result"
    }
   ],
   "source": [
    "val flightsMeta1 = spark.range(500).map(x => (x, scala.util.Random.nextLong))\n",
    "  .withColumnRenamed(\"_1\", \"count\").withColumnRenamed(\"_2\", \"randomData\")"
   ]
  },
  {
   "cell_type": "code",
   "execution_count": 38,
   "metadata": {},
   "outputs": [
    {
     "name": "stdout",
     "output_type": "stream",
     "text": [
      "+-----+--------------------+\n",
      "|count|          randomData|\n",
      "+-----+--------------------+\n",
      "|    0|-5222736348851663315|\n",
      "|    1| 5280068547074691804|\n",
      "|    2|-5006658480135877938|\n",
      "|    3|  246838347996943929|\n",
      "|    4| 1522855005557778159|\n",
      "|    5| 8177965701404726124|\n",
      "|    6| 7947173060641809733|\n",
      "|    7| 3885003387053804639|\n",
      "|    8| 5440324391055950483|\n",
      "|    9| 6812969115974481843|\n",
      "|   10| 7487278294913786887|\n",
      "|   11|-8316462468292808770|\n",
      "|   12|-7178179202350921756|\n",
      "|   13|-8856298219954500137|\n",
      "|   14|-4295637448613503904|\n",
      "|   15|-6164241860741630512|\n",
      "|   16|-6720407068351684401|\n",
      "|   17|-3384102449598802493|\n",
      "|   18|-7681307719970982656|\n",
      "|   19|-2371163396209271279|\n",
      "+-----+--------------------+\n",
      "only showing top 20 rows\n",
      "\n"
     ]
    }
   ],
   "source": [
    "flightsMeta1.show()"
   ]
  },
  {
   "cell_type": "code",
   "execution_count": 46,
   "metadata": {},
   "outputs": [
    {
     "data": {
      "text/plain": [
       "flightsMeta = [count: bigint, randomData: bigint]\n"
      ]
     },
     "metadata": {},
     "output_type": "display_data"
    },
    {
     "data": {
      "text/plain": [
       "[count: bigint, randomData: bigint]"
      ]
     },
     "execution_count": 46,
     "metadata": {},
     "output_type": "execute_result"
    }
   ],
   "source": [
    "val flightsMeta = flightsMeta1.as[FlightMetadata]"
   ]
  },
  {
   "cell_type": "code",
   "execution_count": 47,
   "metadata": {},
   "outputs": [
    {
     "data": {
      "text/plain": [
       "flights2 = [_1: struct<DEST_COUNTRY_NAME: string, ORIGIN_COUNTRY_NAME: string ... 1 more field>, _2: struct<count: bigint, randomData: bigint>]\n"
      ]
     },
     "metadata": {},
     "output_type": "display_data"
    },
    {
     "data": {
      "text/plain": [
       "[_1: struct<DEST_COUNTRY_NAME: string, ORIGIN_COUNTRY_NAME: string ... 1 more field>, _2: struct<count: bigint, randomData: bigint>]"
      ]
     },
     "execution_count": 47,
     "metadata": {},
     "output_type": "execute_result"
    }
   ],
   "source": [
    "val flights2 = flights.joinWith(flightsMeta, flights.col(\"count\") === flightsMeta.col(\"count\"))"
   ]
  },
  {
   "cell_type": "code",
   "execution_count": 56,
   "metadata": {},
   "outputs": [
    {
     "name": "stdout",
     "output_type": "stream",
     "text": [
      "+--------------------+--------------------+\n",
      "|                  _1|                  _2|\n",
      "+--------------------+--------------------+\n",
      "|[United States, R...|[1, 7486920142528...|\n",
      "|[United States, I...|[264, 14887601199...|\n",
      "|[United States, I...|[69, 512362281235...|\n",
      "|[Egypt, United St...|[24, -85075162359...|\n",
      "|[Equatorial Guine...|[1, 7486920142528...|\n",
      "|[United States, S...|[25, 399857725670...|\n",
      "|[United States, G...|[54, -14531997253...|\n",
      "|[Costa Rica, Unit...|[477, 48287764903...|\n",
      "|[Senegal, United ...|[29, -20906581262...|\n",
      "|[United States, M...|[44, 472327486055...|\n",
      "|[Guyana, United S...|[17, -71481597569...|\n",
      "|[United States, S...|[53, 532571079948...|\n",
      "|[Malta, United St...|[1, 7486920142528...|\n",
      "|[Bolivia, United ...|[46, 115383893391...|\n",
      "|[Anguilla, United...|[21, -83428689467...|\n",
      "|[Turks and Caicos...|[136, -1717177994...|\n",
      "|[United States, A...|[2, -652902625537...|\n",
      "|[Saint Vincent an...|[1, 7486920142528...|\n",
      "|[Italy, United St...|[390, 72596013790...|\n",
      "|[United States, R...|[156, -2166141797...|\n",
      "+--------------------+--------------------+\n",
      "only showing top 20 rows\n",
      "\n"
     ]
    }
   ],
   "source": [
    "flights2.show()"
   ]
  },
  {
   "cell_type": "code",
   "execution_count": 53,
   "metadata": {},
   "outputs": [
    {
     "name": "stdout",
     "output_type": "stream",
     "text": [
      "(Flight(United States,Romania,1),FlightMetadata(1,-2436322164652305444))\n",
      "(Flight(United States,Ireland,264),FlightMetadata(264,-1517365464521077716))\n",
      "(Flight(United States,India,69),FlightMetadata(69,-8615909625094518161))\n",
      "(Flight(Egypt,United States,24),FlightMetadata(24,5250523965836945935))\n",
      "(Flight(Equatorial Guinea,United States,1),FlightMetadata(1,-2436322164652305444))\n",
      "(Flight(United States,Singapore,25),FlightMetadata(25,-3100869301626318215))\n",
      "(Flight(United States,Grenada,54),FlightMetadata(54,1822674138899312223))\n",
      "(Flight(Costa Rica,United States,477),FlightMetadata(477,7053284717368381739))\n",
      "(Flight(Senegal,United States,29),FlightMetadata(29,-903613913428713617))\n",
      "(Flight(United States,Marshall Islands,44),FlightMetadata(44,-4981955470875250154))\n"
     ]
    }
   ],
   "source": [
    "flights2.take(10).foreach(println)"
   ]
  },
  {
   "cell_type": "code",
   "execution_count": 55,
   "metadata": {},
   "outputs": [
    {
     "name": "stdout",
     "output_type": "stream",
     "text": [
      "+--------------------+\n",
      "|   DEST_COUNTRY_NAME|\n",
      "+--------------------+\n",
      "|       United States|\n",
      "|       United States|\n",
      "|       United States|\n",
      "|               Egypt|\n",
      "|   Equatorial Guinea|\n",
      "|       United States|\n",
      "|       United States|\n",
      "|          Costa Rica|\n",
      "|             Senegal|\n",
      "|       United States|\n",
      "|              Guyana|\n",
      "|       United States|\n",
      "|               Malta|\n",
      "|             Bolivia|\n",
      "|            Anguilla|\n",
      "|Turks and Caicos ...|\n",
      "|       United States|\n",
      "|Saint Vincent and...|\n",
      "|               Italy|\n",
      "|       United States|\n",
      "+--------------------+\n",
      "only showing top 20 rows\n",
      "\n"
     ]
    }
   ],
   "source": [
    "flights2.selectExpr(\"_1.DEST_COUNTRY_NAME\").show()"
   ]
  },
  {
   "cell_type": "code",
   "execution_count": 60,
   "metadata": {},
   "outputs": [
    {
     "data": {
      "text/html": [
       "<table>\n",
       "<tr><td>United States</td></tr>\n",
       "<tr><td>United States</td></tr>\n",
       "<tr><td>United States</td></tr>\n",
       "<tr><td>Egypt</td></tr>\n",
       "</table>"
      ],
      "text/plain": [
       "+---------------+\n",
       "| United States |\n",
       "| United States |\n",
       "| United States |\n",
       "| Egypt         |\n",
       "+---------------+"
      ]
     },
     "execution_count": 60,
     "metadata": {},
     "output_type": "execute_result"
    }
   ],
   "source": [
    "flights2.selectExpr(\"_1.DEST_COUNTRY_NAME\").take(4)"
   ]
  },
  {
   "cell_type": "code",
   "execution_count": 57,
   "metadata": {},
   "outputs": [
    {
     "data": {
      "text/plain": [
       "flights3 = [count: bigint, DEST_COUNTRY_NAME: string ... 2 more fields]\n"
      ]
     },
     "metadata": {},
     "output_type": "display_data"
    },
    {
     "data": {
      "text/plain": [
       "[count: bigint, DEST_COUNTRY_NAME: string ... 2 more fields]"
      ]
     },
     "execution_count": 57,
     "metadata": {},
     "output_type": "execute_result"
    }
   ],
   "source": [
    "val flights3 = flights.join(flightsMeta, Seq(\"count\"))"
   ]
  },
  {
   "cell_type": "code",
   "execution_count": 61,
   "metadata": {},
   "outputs": [
    {
     "data": {
      "text/html": [
       "<table>\n",
       "<tr><td>1</td><td>United States</td><td>Romania</td><td>-7596727126198596367</td></tr>\n",
       "<tr><td>264</td><td>United States</td><td>Ireland</td><td>-613671581099459947</td></tr>\n",
       "<tr><td>69</td><td>United States</td><td>India</td><td>-880858559134314524</td></tr>\n",
       "<tr><td>24</td><td>Egypt</td><td>United States</td><td>5919292528565860569</td></tr>\n",
       "</table>"
      ],
      "text/plain": [
       "+-----+---------------+---------------+----------------------+\n",
       "| 1   | United States | Romania       | -7596727126198596367 |\n",
       "| 264 | United States | Ireland       | -613671581099459947  |\n",
       "| 69  | United States | India         | -880858559134314524  |\n",
       "| 24  | Egypt         | United States | 5919292528565860569  |\n",
       "+-----+---------------+---------------+----------------------+"
      ]
     },
     "execution_count": 61,
     "metadata": {},
     "output_type": "execute_result"
    }
   ],
   "source": [
    "flights3.take(4)"
   ]
  },
  {
   "cell_type": "code",
   "execution_count": null,
   "metadata": {
    "collapsed": true
   },
   "outputs": [],
   "source": [
    "val flights4 = flights.join(flightsMeta.toDF(), Seq(\"count\"))"
   ]
  },
  {
   "cell_type": "code",
   "execution_count": 62,
   "metadata": {},
   "outputs": [
    {
     "data": {
      "text/html": [
       "<table>\n",
       "<tr><td>1</td><td>United States</td><td>Romania</td><td>-8729287246109974057</td></tr>\n",
       "<tr><td>264</td><td>United States</td><td>Ireland</td><td>4726576919667245594</td></tr>\n",
       "<tr><td>69</td><td>United States</td><td>India</td><td>4524141979811486012</td></tr>\n",
       "<tr><td>24</td><td>Egypt</td><td>United States</td><td>7088040882726746808</td></tr>\n",
       "</table>"
      ],
      "text/plain": [
       "+-----+---------------+---------------+----------------------+\n",
       "| 1   | United States | Romania       | -8729287246109974057 |\n",
       "| 264 | United States | Ireland       | 4726576919667245594  |\n",
       "| 69  | United States | India         | 4524141979811486012  |\n",
       "| 24  | Egypt         | United States | 7088040882726746808  |\n",
       "+-----+---------------+---------------+----------------------+"
      ]
     },
     "execution_count": 62,
     "metadata": {},
     "output_type": "execute_result"
    }
   ],
   "source": [
    "flights4.take(4)"
   ]
  },
  {
   "cell_type": "code",
   "execution_count": 65,
   "metadata": {},
   "outputs": [
    {
     "name": "stdout",
     "output_type": "stream",
     "text": [
      "+-----+--------------------+-------------------+--------------------+\n",
      "|count|   DEST_COUNTRY_NAME|ORIGIN_COUNTRY_NAME|          randomData|\n",
      "+-----+--------------------+-------------------+--------------------+\n",
      "|    1|       United States|            Romania| 4214651092576403978|\n",
      "|  264|       United States|            Ireland|-8818261377422385763|\n",
      "|   69|       United States|              India|-4720274176553143199|\n",
      "|   24|               Egypt|      United States|-3234539002274696978|\n",
      "|    1|   Equatorial Guinea|      United States| 4214651092576403978|\n",
      "|   25|       United States|          Singapore| 6751583061209774868|\n",
      "|   54|       United States|            Grenada| 3432990127083356520|\n",
      "|  477|          Costa Rica|      United States|  413833460887673837|\n",
      "|   29|             Senegal|      United States| 8331522646064446304|\n",
      "|   44|       United States|   Marshall Islands|-4103919259039256814|\n",
      "|   17|              Guyana|      United States|-7198676132565158101|\n",
      "|   53|       United States|       Sint Maarten|-8521853305743953988|\n",
      "|    1|               Malta|      United States| 4214651092576403978|\n",
      "|   46|             Bolivia|      United States| 8206462985762082019|\n",
      "|   21|            Anguilla|      United States| -932770018940383366|\n",
      "|  136|Turks and Caicos ...|      United States| 7747036145252760704|\n",
      "|    2|       United States|        Afghanistan|-6200310299918728397|\n",
      "|    1|Saint Vincent and...|      United States| 4214651092576403978|\n",
      "|  390|               Italy|      United States|-2280679926751377740|\n",
      "|  156|       United States|             Russia|-9103001392388597548|\n",
      "+-----+--------------------+-------------------+--------------------+\n",
      "only showing top 20 rows\n",
      "\n"
     ]
    }
   ],
   "source": [
    "flights4.show()"
   ]
  },
  {
   "cell_type": "code",
   "execution_count": 64,
   "metadata": {},
   "outputs": [
    {
     "name": "stdout",
     "output_type": "stream",
     "text": [
      "+-----+--------------------+-------------------+--------------------+\n",
      "|count|   DEST_COUNTRY_NAME|ORIGIN_COUNTRY_NAME|          randomData|\n",
      "+-----+--------------------+-------------------+--------------------+\n",
      "|    1|       United States|            Romania|  494087802871862969|\n",
      "|  264|       United States|            Ireland|-1843332084659968982|\n",
      "|   69|       United States|              India| 6767226877438942883|\n",
      "|   24|               Egypt|      United States| 8902839180265810567|\n",
      "|    1|   Equatorial Guinea|      United States|  494087802871862969|\n",
      "|   25|       United States|          Singapore|-8947056371109695183|\n",
      "|   54|       United States|            Grenada| 3866869310290976879|\n",
      "|  477|          Costa Rica|      United States|-8712358538864828642|\n",
      "|   29|             Senegal|      United States|-6057149665589125323|\n",
      "|   44|       United States|   Marshall Islands|-4184943351838451479|\n",
      "|   17|              Guyana|      United States|-6702928344961400592|\n",
      "|   53|       United States|       Sint Maarten|  648712199194354064|\n",
      "|    1|               Malta|      United States|  494087802871862969|\n",
      "|   46|             Bolivia|      United States| 5480926328682778916|\n",
      "|   21|            Anguilla|      United States|-4766103038645507691|\n",
      "|  136|Turks and Caicos ...|      United States|-4010191835271975316|\n",
      "|    2|       United States|        Afghanistan|-5438213106481112291|\n",
      "|    1|Saint Vincent and...|      United States|  494087802871862969|\n",
      "|  390|               Italy|      United States|-5879013053084842418|\n",
      "|  156|       United States|             Russia| 3113263763094555641|\n",
      "+-----+--------------------+-------------------+--------------------+\n",
      "only showing top 20 rows\n",
      "\n"
     ]
    }
   ],
   "source": [
    "flights.join(flightsMeta.toDF(), \"count\").show()"
   ]
  },
  {
   "cell_type": "code",
   "execution_count": 71,
   "metadata": {},
   "outputs": [
    {
     "data": {
      "text/html": [
       "<table>\n",
       "<tr><td>Anguilla</td><td>1</td></tr>\n",
       "<tr><td>Russia</td><td>1</td></tr>\n",
       "<tr><td>Paraguay</td><td>1</td></tr>\n",
       "<tr><td>Senegal</td><td>1</td></tr>\n",
       "<tr><td>Sweden</td><td>1</td></tr>\n",
       "<tr><td>Kiribati</td><td>1</td></tr>\n",
       "<tr><td>Guyana</td><td>1</td></tr>\n",
       "<tr><td>Philippines</td><td>1</td></tr>\n",
       "<tr><td>Malaysia</td><td>1</td></tr>\n",
       "<tr><td>Singapore</td><td>1</td></tr>\n",
       "</table>"
      ],
      "text/plain": [
       "+-------------+-----+\n",
       "| Anguilla    | 1   |\n",
       "| Russia      | 1   |\n",
       "| Paraguay    | 1   |\n",
       "| Senegal     | 1   |\n",
       "| Sweden      | 1   |\n",
       "| Kiribati    | 1   |\n",
       "| Guyana      | 1   |\n",
       "| Philippines | 1   |\n",
       "| Malaysia    | 1   |\n",
       "| Singapore   | 1   |\n",
       "+-------------+-----+"
      ]
     },
     "execution_count": 71,
     "metadata": {},
     "output_type": "execute_result"
    }
   ],
   "source": [
    "flights.groupBy(\"DEST_COUNTRY_NAME\").count().take(10)"
   ]
  },
  {
   "cell_type": "code",
   "execution_count": 69,
   "metadata": {},
   "outputs": [
    {
     "data": {
      "text/plain": [
       "[(Anguilla,1), (Russia,1), (Paraguay,1), (Senegal,1), (Sweden,1), (Kiribati,1), (Guyana,1), (Philippines,1), (Malaysia,1), (Singapore,1)]"
      ]
     },
     "execution_count": 69,
     "metadata": {},
     "output_type": "execute_result"
    }
   ],
   "source": [
    "flights.groupByKey(x => x.DEST_COUNTRY_NAME).count().take(10)"
   ]
  },
  {
   "cell_type": "code",
   "execution_count": 72,
   "metadata": {},
   "outputs": [
    {
     "name": "stdout",
     "output_type": "stream",
     "text": [
      "== Physical Plan ==\n",
      "*(2) HashAggregate(keys=[value#687], functions=[count(1)])\n",
      "+- Exchange hashpartitioning(value#687, 200)\n",
      "   +- *(1) HashAggregate(keys=[value#687], functions=[partial_count(1)])\n",
      "      +- *(1) Project [value#687]\n",
      "         +- AppendColumns <function1>, newInstance(class $line21.$read$$iw$$iw$Flight), [staticinvoke(class org.apache.spark.unsafe.types.UTF8String, StringType, fromString, input[0, java.lang.String, true], true, false) AS value#687]\n",
      "            +- InMemoryTableScan [DEST_COUNTRY_NAME#0, ORIGIN_COUNTRY_NAME#1, count#2L]\n",
      "                  +- InMemoryRelation [DEST_COUNTRY_NAME#0, ORIGIN_COUNTRY_NAME#1, count#2L], true, 10000, StorageLevel(disk, memory, deserialized, 1 replicas)\n",
      "                        +- *(1) FileScan parquet [DEST_COUNTRY_NAME#0,ORIGIN_COUNTRY_NAME#1,count#2L] Batched: true, Format: Parquet, Location: InMemoryFileIndex[hdfs://nn01.itversity.com:8020/user/kranthidr/dataSets/spark-guide/flight-data/..., PartitionFilters: [], PushedFilters: [], ReadSchema: struct<DEST_COUNTRY_NAME:string,ORIGIN_COUNTRY_NAME:string,count:bigint>\n"
     ]
    }
   ],
   "source": [
    "flights.groupByKey(x => x.DEST_COUNTRY_NAME).count().explain"
   ]
  },
  {
   "cell_type": "code",
   "execution_count": 73,
   "metadata": {},
   "outputs": [
    {
     "data": {
      "text/plain": [
       "grpSum: (countryName: String, values: Iterator[Flight])Iterator[(String, Flight)]\n"
      ]
     },
     "metadata": {},
     "output_type": "display_data"
    }
   ],
   "source": [
    "def grpSum(countryName:String, values: Iterator[Flight]) = {\n",
    "  values.dropWhile(_.count < 5).map(x => (countryName, x))\n",
    "}"
   ]
  },
  {
   "cell_type": "code",
   "execution_count": 75,
   "metadata": {},
   "outputs": [
    {
     "data": {
      "text/plain": [
       "[Flight(United States,Romania,1), Flight(United States,Ireland,264), Flight(United States,India,69), Flight(Egypt,United States,24), Flight(Equatorial Guinea,United States,1), Flight(United States,Singapore,25), Flight(United States,Grenada,54), Flight(Costa Rica,United States,477), Flight(Senegal,United States,29), Flight(United States,Marshall Islands,44)]"
      ]
     },
     "execution_count": 75,
     "metadata": {},
     "output_type": "execute_result"
    }
   ],
   "source": [
    "flights.take(10)"
   ]
  },
  {
   "cell_type": "code",
   "execution_count": 82,
   "metadata": {},
   "outputs": [
    {
     "data": {
      "text/plain": [
       "[(Anguilla,Flight(Anguilla,United States,21)), (Paraguay,Flight(Paraguay,United States,90)), (Russia,Flight(Russia,United States,152)), (Senegal,Flight(Senegal,United States,29)), (Sweden,Flight(Sweden,United States,65)), (Kiribati,Flight(Kiribati,United States,17)), (Guyana,Flight(Guyana,United States,17)), (Philippines,Flight(Philippines,United States,132)), (Singapore,Flight(Singapore,United States,25)), (Fiji,Flight(Fiji,United States,53))]"
      ]
     },
     "execution_count": 82,
     "metadata": {},
     "output_type": "execute_result"
    }
   ],
   "source": [
    "flights.groupByKey(x => x.DEST_COUNTRY_NAME).flatMapGroups(grpSum).take(10)"
   ]
  },
  {
   "cell_type": "code",
   "execution_count": 83,
   "metadata": {},
   "outputs": [
    {
     "data": {
      "text/plain": [
       "[(Anguilla,1), (Russia,1), (Paraguay,1), (Senegal,1), (Sweden,1), (Kiribati,1), (Guyana,1), (Philippines,1), (Malaysia,1), (Singapore,1)]"
      ]
     },
     "execution_count": 83,
     "metadata": {},
     "output_type": "execute_result"
    }
   ],
   "source": [
    "flights.groupByKey(x => x.DEST_COUNTRY_NAME).count().take(10)"
   ]
  },
  {
   "cell_type": "code",
   "execution_count": 92,
   "metadata": {},
   "outputs": [
    {
     "data": {
      "text/plain": [
       "[Flight(Afghanistan,United States,11), Flight(Angola,United States,14), Flight(Anguilla,United States,21), Flight(Antigua and Barbuda,United States,123), Flight(Argentina,United States,184), Flight(Aruba,United States,359), Flight(Australia,United States,290), Flight(Austria,United States,36), Flight(Azerbaijan,United States,1), Flight(Bahrain,United States,30)]"
      ]
     },
     "execution_count": 92,
     "metadata": {},
     "output_type": "execute_result"
    }
   ],
   "source": [
    "flights.sort(\"DEST_COUNTRY_NAME\").take(10)"
   ]
  },
  {
   "cell_type": "code",
   "execution_count": 93,
   "metadata": {},
   "outputs": [
    {
     "data": {
      "text/plain": [
       "grpSum2: (f: Flight)Integer\n"
      ]
     },
     "metadata": {},
     "output_type": "display_data"
    }
   ],
   "source": [
    "def grpSum2(f:Flight):Integer = {\n",
    "  1\n",
    "}"
   ]
  },
  {
   "cell_type": "code",
   "execution_count": 94,
   "metadata": {},
   "outputs": [
    {
     "data": {
      "text/plain": [
       "[(Anguilla,1), (Russia,1), (Paraguay,1), (Senegal,1), (Sweden,1), (Kiribati,1), (Guyana,1), (Philippines,1), (Malaysia,1), (Singapore,1)]"
      ]
     },
     "execution_count": 94,
     "metadata": {},
     "output_type": "execute_result"
    }
   ],
   "source": [
    "flights.groupByKey(x => x.DEST_COUNTRY_NAME).mapValues(grpSum2).count().take(10)"
   ]
  },
  {
   "cell_type": "code",
   "execution_count": 104,
   "metadata": {},
   "outputs": [
    {
     "data": {
      "text/plain": [
       "sum2: (left: Flight, right: Flight)Flight\n",
       "sum3: (left: Flight, right: Flight)Flight\n",
       "sum4: (left: Flight, right: Flight)Flight\n"
      ]
     },
     "metadata": {},
     "output_type": "display_data"
    }
   ],
   "source": [
    "def sum2(left:Flight, right:Flight) = {\n",
    " Flight(null, null, left.count + right.count)\n",
    "}\n",
    "def sum3(left:Flight, right:Flight) = {\n",
    " Flight(null, null, left.count - right.count)\n",
    "}\n",
    "def sum4(left:Flight, right:Flight) = {\n",
    " Flight(null, null, left.count * right.count)\n",
    "}"
   ]
  },
  {
   "cell_type": "code",
   "execution_count": 105,
   "metadata": {},
   "outputs": [
    {
     "data": {
      "text/plain": [
       "[(Anguilla,Flight(Anguilla,United States,21)), (Russia,Flight(Russia,United States,152)), (Paraguay,Flight(Paraguay,United States,90)), (Senegal,Flight(Senegal,United States,29)), (Sweden,Flight(Sweden,United States,65)), (Kiribati,Flight(Kiribati,United States,17)), (Guyana,Flight(Guyana,United States,17)), (Philippines,Flight(Philippines,United States,132)), (Malaysia,Flight(Malaysia,United States,1)), (Singapore,Flight(Singapore,United States,25))]"
      ]
     },
     "execution_count": 105,
     "metadata": {},
     "output_type": "execute_result"
    }
   ],
   "source": [
    "flights.groupByKey(x => x.DEST_COUNTRY_NAME).reduceGroups((l, r) => sum2(l, r)).take(10)"
   ]
  },
  {
   "cell_type": "code",
   "execution_count": 106,
   "metadata": {},
   "outputs": [
    {
     "data": {
      "text/plain": [
       "[(Anguilla,Flight(Anguilla,United States,21)), (Russia,Flight(Russia,United States,152)), (Paraguay,Flight(Paraguay,United States,90)), (Senegal,Flight(Senegal,United States,29)), (Sweden,Flight(Sweden,United States,65)), (Kiribati,Flight(Kiribati,United States,17)), (Guyana,Flight(Guyana,United States,17)), (Philippines,Flight(Philippines,United States,132)), (Malaysia,Flight(Malaysia,United States,1)), (Singapore,Flight(Singapore,United States,25))]"
      ]
     },
     "execution_count": 106,
     "metadata": {},
     "output_type": "execute_result"
    }
   ],
   "source": [
    "flights.groupByKey(x => x.DEST_COUNTRY_NAME).reduceGroups((l, r) => sum2(l, r)).take(10)"
   ]
  },
  {
   "cell_type": "code",
   "execution_count": 107,
   "metadata": {},
   "outputs": [
    {
     "data": {
      "text/plain": [
       "[(Anguilla,Flight(Anguilla,United States,21)), (Russia,Flight(Russia,United States,152)), (Paraguay,Flight(Paraguay,United States,90)), (Senegal,Flight(Senegal,United States,29)), (Sweden,Flight(Sweden,United States,65)), (Kiribati,Flight(Kiribati,United States,17)), (Guyana,Flight(Guyana,United States,17)), (Philippines,Flight(Philippines,United States,132)), (Malaysia,Flight(Malaysia,United States,1)), (Singapore,Flight(Singapore,United States,25))]"
      ]
     },
     "execution_count": 107,
     "metadata": {},
     "output_type": "execute_result"
    }
   ],
   "source": [
    "flights.groupByKey(x => x.DEST_COUNTRY_NAME).reduceGroups((l, r) => sum3(l, r)).take(10)"
   ]
  },
  {
   "cell_type": "code",
   "execution_count": 101,
   "metadata": {},
   "outputs": [
    {
     "data": {
      "text/plain": [
       "125"
      ]
     },
     "execution_count": 101,
     "metadata": {},
     "output_type": "execute_result"
    }
   ],
   "source": [
    "flights.groupByKey(x => x.DEST_COUNTRY_NAME).reduceGroups((l, r) => sum2(l, r)).count()"
   ]
  },
  {
   "cell_type": "code",
   "execution_count": 102,
   "metadata": {},
   "outputs": [
    {
     "data": {
      "text/plain": [
       "125"
      ]
     },
     "execution_count": 102,
     "metadata": {},
     "output_type": "execute_result"
    }
   ],
   "source": [
    "flights.groupByKey(x => x.DEST_COUNTRY_NAME).count().count()"
   ]
  },
  {
   "cell_type": "code",
   "execution_count": 103,
   "metadata": {},
   "outputs": [
    {
     "name": "stdout",
     "output_type": "stream",
     "text": [
      "== Physical Plan ==\n",
      "*(2) HashAggregate(keys=[DEST_COUNTRY_NAME#0], functions=[count(1)])\n",
      "+- Exchange hashpartitioning(DEST_COUNTRY_NAME#0, 200)\n",
      "   +- *(1) HashAggregate(keys=[DEST_COUNTRY_NAME#0], functions=[partial_count(1)])\n",
      "      +- InMemoryTableScan [DEST_COUNTRY_NAME#0]\n",
      "            +- InMemoryRelation [DEST_COUNTRY_NAME#0, ORIGIN_COUNTRY_NAME#1, count#2L], true, 10000, StorageLevel(disk, memory, deserialized, 1 replicas)\n",
      "                  +- *(1) FileScan parquet [DEST_COUNTRY_NAME#0,ORIGIN_COUNTRY_NAME#1,count#2L] Batched: true, Format: Parquet, Location: InMemoryFileIndex[hdfs://nn01.itversity.com:8020/user/kranthidr/dataSets/spark-guide/flight-data/..., PartitionFilters: [], PushedFilters: [], ReadSchema: struct<DEST_COUNTRY_NAME:string,ORIGIN_COUNTRY_NAME:string,count:bigint>\n"
     ]
    }
   ],
   "source": [
    "flights.groupBy(\"DEST_COUNTRY_NAME\").count().explain"
   ]
  }
 ],
 "metadata": {
  "kernelspec": {
   "display_name": "Spark - Scala",
   "language": "scala",
   "name": "spark_scala"
  },
  "language_info": {
   "codemirror_mode": "text/x-scala",
   "file_extension": ".scala",
   "mimetype": "text/x-scala",
   "name": "scala",
   "pygments_lexer": "scala",
   "version": "2.11.8"
  }
 },
 "nbformat": 4,
 "nbformat_minor": 2
}
