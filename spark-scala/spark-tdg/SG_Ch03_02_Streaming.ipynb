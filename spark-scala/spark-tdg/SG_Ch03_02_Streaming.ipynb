{
 "cells": [
  {
   "cell_type": "code",
   "execution_count": 1,
   "metadata": {},
   "outputs": [
    {
     "data": {
      "text/plain": [
       "Waiting for a Spark session to start..."
      ]
     },
     "metadata": {},
     "output_type": "display_data",
     "source": "user"
    },
    {
     "data": {
      "text/plain": [
       "org.apache.spark.sql.SparkSession@5503153"
      ]
     },
     "execution_count": 1,
     "metadata": {},
     "output_type": "execute_result"
    }
   ],
   "source": [
    "spark"
   ]
  },
  {
   "cell_type": "code",
   "execution_count": 2,
   "metadata": {},
   "outputs": [
    {
     "data": {
      "text/plain": [
       "Waiting for a Spark session to start..."
      ]
     },
     "metadata": {},
     "output_type": "display_data",
     "source": "user"
    },
    {
     "data": {
      "text/plain": [
       "http://gw02.itversity.com:4044"
      ]
     },
     "execution_count": 2,
     "metadata": {},
     "output_type": "execute_result"
    }
   ],
   "source": [
    "spark.conf.get(\"spark.driver.appUIAddress\")"
   ]
  },
  {
   "cell_type": "code",
   "execution_count": 3,
   "metadata": {},
   "outputs": [
    {
     "data": {
      "text/plain": [
       "getType: (o: Any)String\n"
      ]
     },
     "metadata": {},
     "output_type": "display_data",
     "source": "user"
    }
   ],
   "source": [
    "def getType(o: Any) = o.getClass.getTypeName"
   ]
  },
  {
   "cell_type": "code",
   "execution_count": 4,
   "metadata": {},
   "outputs": [
    {
     "data": {
      "text/plain": [
       "os_name = Linux\n",
       "envHome = Some(kkdosapati)\n",
       "path = /user/kkdosapati/dataSets/spark-guide/retail-data/by-day/*.csv\n"
      ]
     },
     "metadata": {},
     "output_type": "display_data",
     "source": "user"
    },
    {
     "data": {
      "text/plain": [
       "/user/kkdosapati/dataSets/spark-guide/retail-data/by-day/*.csv"
      ]
     },
     "execution_count": 4,
     "metadata": {},
     "output_type": "execute_result"
    }
   ],
   "source": [
    "val os_name = System.getProperty(\"os.name\")\n",
    "val envHome: Option[String] = System.getenv(\"HOME\").split(\"/\").lift(2)\n",
    "val path = if(envHome.isDefined)  \"/user/kkdosapati/dataSets/spark-guide/retail-data/by-day/*.csv\" else \n",
    "\"/databricks-datasets/definitive-guide/data/retail-data/by-day/*.csv\""
   ]
  },
  {
   "cell_type": "code",
   "execution_count": 5,
   "metadata": {},
   "outputs": [
    {
     "data": {
      "text/plain": [
       "staticDataFrame = [InvoiceNo: string, StockCode: string ... 6 more fields]\n"
      ]
     },
     "metadata": {},
     "output_type": "display_data",
     "source": "user"
    },
    {
     "data": {
      "text/plain": [
       "[InvoiceNo: string, StockCode: string ... 6 more fields]"
      ]
     },
     "execution_count": 5,
     "metadata": {},
     "output_type": "execute_result"
    }
   ],
   "source": [
    "val staticDataFrame = spark.read.format(\"csv\")\n",
    "  .option(\"header\", \"true\")\n",
    "  .option(\"inferSchema\", \"true\")\n",
    "  .load(path)"
   ]
  },
  {
   "cell_type": "code",
   "execution_count": 6,
   "metadata": {},
   "outputs": [
    {
     "data": {
      "text/plain": [
       "staticSchema = StructType(StructField(InvoiceNo,StringType,true), StructField(StockCode,StringType,true), StructField(Description,StringType,true), StructField(Quantity,IntegerType,true), StructField(InvoiceDate,TimestampType,true), StructField(UnitPrice,DoubleType,true), StructField(CustomerID,DoubleType,true), StructField(Country,StringType,true))\n"
      ]
     },
     "metadata": {},
     "output_type": "display_data",
     "source": "user"
    },
    {
     "data": {
      "text/plain": [
       "StructType(StructField(InvoiceNo,StringType,true), StructField(StockCode,StringType,true), StructField(Description,StringType,true), StructField(Quantity,IntegerType,true), StructField(InvoiceDate,TimestampType,true), StructField(UnitPrice,DoubleType,true), StructField(CustomerID,DoubleType,true), StructField(Country,StringType,true))"
      ]
     },
     "execution_count": 6,
     "metadata": {},
     "output_type": "execute_result"
    }
   ],
   "source": [
    "staticDataFrame.createOrReplaceTempView(\"retail_data\")\n",
    "val staticSchema = staticDataFrame.schema"
   ]
  },
  {
   "cell_type": "code",
   "execution_count": 7,
   "metadata": {},
   "outputs": [
    {
     "name": "stdout",
     "output_type": "stream",
     "text": [
      "root\n",
      " |-- InvoiceNo: string (nullable = true)\n",
      " |-- StockCode: string (nullable = true)\n",
      " |-- Description: string (nullable = true)\n",
      " |-- Quantity: integer (nullable = true)\n",
      " |-- InvoiceDate: timestamp (nullable = true)\n",
      " |-- UnitPrice: double (nullable = true)\n",
      " |-- CustomerID: double (nullable = true)\n",
      " |-- Country: string (nullable = true)\n",
      "\n"
     ]
    }
   ],
   "source": [
    "staticDataFrame.printSchema()"
   ]
  },
  {
   "cell_type": "code",
   "execution_count": 8,
   "metadata": {},
   "outputs": [
    {
     "name": "stdout",
     "output_type": "stream",
     "text": [
      "+---------+---------+-------------------------------+--------+-------------------+---------+----------+--------------+\n",
      "|InvoiceNo|StockCode|Description                    |Quantity|InvoiceDate        |UnitPrice|CustomerID|Country       |\n",
      "+---------+---------+-------------------------------+--------+-------------------+---------+----------+--------------+\n",
      "|580538   |23084    |RABBIT NIGHT LIGHT             |48      |2011-12-05 08:38:00|1.79     |14075.0   |United Kingdom|\n",
      "|580538   |23077    |DOUGHNUT LIP GLOSS             |20      |2011-12-05 08:38:00|1.25     |14075.0   |United Kingdom|\n",
      "|580538   |22906    |12 MESSAGE CARDS WITH ENVELOPES|24      |2011-12-05 08:38:00|1.65     |14075.0   |United Kingdom|\n",
      "|580538   |21914    |BLUE HARMONICA IN BOX          |24      |2011-12-05 08:38:00|1.25     |14075.0   |United Kingdom|\n",
      "|580538   |22467    |GUMBALL COAT RACK              |6       |2011-12-05 08:38:00|2.55     |14075.0   |United Kingdom|\n",
      "+---------+---------+-------------------------------+--------+-------------------+---------+----------+--------------+\n",
      "only showing top 5 rows\n",
      "\n"
     ]
    }
   ],
   "source": [
    "staticDataFrame.show(truncate=false, numRows=5)"
   ]
  },
  {
   "cell_type": "code",
   "execution_count": 9,
   "metadata": {},
   "outputs": [
    {
     "data": {
      "text/plain": [
       "2.3.0.2.6.5.0-292"
      ]
     },
     "execution_count": 9,
     "metadata": {},
     "output_type": "execute_result"
    }
   ],
   "source": [
    "sc.version"
   ]
  },
  {
   "cell_type": "code",
   "execution_count": 10,
   "metadata": {},
   "outputs": [
    {
     "data": {
      "text/plain": [
       "t1 = [CustomerId: double, window: struct<start: timestamp, end: timestamp> ... 1 more field]\n"
      ]
     },
     "metadata": {},
     "output_type": "display_data",
     "source": "user"
    },
    {
     "data": {
      "text/plain": [
       "[CustomerId: double, window: struct<start: timestamp, end: timestamp> ... 1 more field]"
      ]
     },
     "execution_count": 10,
     "metadata": {},
     "output_type": "execute_result"
    }
   ],
   "source": [
    "import org.apache.spark.sql.functions.{window, column, desc, col}\n",
    "\n",
    "val t1 = staticDataFrame\n",
    "  .selectExpr(\"CustomerId\", \"(UnitPrice * Quantity) as total_cost\", \"InvoiceDate\")\n",
    "  .groupBy(col(\"CustomerId\"), window(col(\"InvoiceDate\"), \"1 day\"))\n",
    "  .sum(\"total_cost\")"
   ]
  },
  {
   "cell_type": "code",
   "execution_count": 11,
   "metadata": {},
   "outputs": [
    {
     "name": "stdout",
     "output_type": "stream",
     "text": [
      "+----------+------------------------------------------+------------------+\n",
      "|CustomerId|window                                    |sum(total_cost)   |\n",
      "+----------+------------------------------------------+------------------+\n",
      "|14799.0   |[2011-10-18 20:00:00, 2011-10-19 20:00:00]|157.7             |\n",
      "|16210.0   |[2011-09-01 20:00:00, 2011-09-02 20:00:00]|344.88            |\n",
      "|17790.0   |[2010-12-12 19:00:00, 2010-12-13 19:00:00]|154.8             |\n",
      "|14541.0   |[2011-10-11 20:00:00, 2011-10-12 20:00:00]|146.0             |\n",
      "|12682.0   |[2011-07-03 20:00:00, 2011-07-04 20:00:00]|474.36000000000007|\n",
      "+----------+------------------------------------------+------------------+\n",
      "only showing top 5 rows\n",
      "\n"
     ]
    }
   ],
   "source": [
    " t1.show(numRows=5, truncate=false)"
   ]
  },
  {
   "cell_type": "code",
   "execution_count": 12,
   "metadata": {},
   "outputs": [
    {
     "name": "stdout",
     "output_type": "stream",
     "text": [
      "+----------+---------+--------+----------+-------------------+\n",
      "|CustomerId|UnitPrice|Quantity|total_cost|        InvoiceDate|\n",
      "+----------+---------+--------+----------+-------------------+\n",
      "|   16057.0|    12.75|      -1|    -12.75|2011-12-05 16:36:00|\n",
      "|   16057.0|     9.95|      -2|     -19.9|2011-12-05 16:36:00|\n",
      "|   16057.0|     4.95|      -1|     -4.95|2011-12-05 16:36:00|\n",
      "+----------+---------+--------+----------+-------------------+\n",
      "\n"
     ]
    }
   ],
   "source": [
    "staticDataFrame\n",
    "  .selectExpr(\"CustomerId\", \"UnitPrice\", \"Quantity\", \"(UnitPrice * Quantity) as total_cost\", \"InvoiceDate\")\n",
    "  .where(\"CustomerId == 16057.0\").where(col(\"InvoiceDate\") >= \"2011-12-04 19:00:00\")\n",
    ".where(col(\"InvoiceDate\") <= \"2011-12-05 19:00:00\").show()"
   ]
  },
  {
   "cell_type": "code",
   "execution_count": 13,
   "metadata": {},
   "outputs": [
    {
     "data": {
      "text/plain": [
       "Array([14799.0,[2011-10-18 20:00:00.0,2011-10-19 20:00:00.0],157.7])"
      ]
     },
     "execution_count": 13,
     "metadata": {},
     "output_type": "execute_result"
    }
   ],
   "source": [
    "t1.take(1)"
   ]
  },
  {
   "cell_type": "code",
   "execution_count": 14,
   "metadata": {},
   "outputs": [
    {
     "name": "stdout",
     "output_type": "stream",
     "text": [
      "== Physical Plan ==\n",
      "*(2) HashAggregate(keys=[CustomerId#16, window#128], functions=[sum(total_cost#60)])\n",
      "+- Exchange hashpartitioning(CustomerId#16, window#128, 200)\n",
      "   +- *(1) HashAggregate(keys=[CustomerId#16, window#128], functions=[partial_sum(total_cost#60)])\n",
      "      +- *(1) Project [named_struct(start, precisetimestampconversion(((((CASE WHEN (cast(CEIL((cast((precisetimestampconversion(InvoiceDate#14, TimestampType, LongType) - 0) as double) / 8.64E10)) as double) = (cast((precisetimestampconversion(InvoiceDate#14, TimestampType, LongType) - 0) as double) / 8.64E10)) THEN (CEIL((cast((precisetimestampconversion(InvoiceDate#14, TimestampType, LongType) - 0) as double) / 8.64E10)) + 1) ELSE CEIL((cast((precisetimestampconversion(InvoiceDate#14, TimestampType, LongType) - 0) as double) / 8.64E10)) END + 0) - 1) * 86400000000) + 0), LongType, TimestampType), end, precisetimestampconversion(((((CASE WHEN (cast(CEIL((cast((precisetimestampconversion(InvoiceDate#14, TimestampType, LongType) - 0) as double) / 8.64E10)) as double) = (cast((precisetimestampconversion(InvoiceDate#14, TimestampType, LongType) - 0) as double) / 8.64E10)) THEN (CEIL((cast((precisetimestampconversion(InvoiceDate#14, TimestampType, LongType) - 0) as double) / 8.64E10)) + 1) ELSE CEIL((cast((precisetimestampconversion(InvoiceDate#14, TimestampType, LongType) - 0) as double) / 8.64E10)) END + 0) - 1) * 86400000000) + 86400000000), LongType, TimestampType)) AS window#128, CustomerId#16, (UnitPrice#15 * cast(Quantity#13 as double)) AS total_cost#60]\n",
      "         +- *(1) Filter isnotnull(InvoiceDate#14)\n",
      "            +- *(1) FileScan csv [Quantity#13,InvoiceDate#14,UnitPrice#15,CustomerID#16] Batched: false, Format: CSV, Location: InMemoryFileIndex[hdfs://nn01.itversity.com:8020/user/kkdosapati/dataSets/spark-guide/retail-data..., PartitionFilters: [], PushedFilters: [IsNotNull(InvoiceDate)], ReadSchema: struct<Quantity:int,InvoiceDate:timestamp,UnitPrice:double,CustomerID:double>\n"
     ]
    }
   ],
   "source": [
    "t1.explain()"
   ]
  },
  {
   "cell_type": "code",
   "execution_count": 15,
   "metadata": {},
   "outputs": [
    {
     "name": "stdout",
     "output_type": "stream",
     "text": [
      "root\n",
      " |-- CustomerId: double (nullable = true)\n",
      " |-- window: struct (nullable = false)\n",
      " |    |-- start: timestamp (nullable = true)\n",
      " |    |-- end: timestamp (nullable = true)\n",
      " |-- sum(total_cost): double (nullable = true)\n",
      "\n"
     ]
    }
   ],
   "source": [
    "t1.printSchema()"
   ]
  },
  {
   "cell_type": "code",
   "execution_count": 16,
   "metadata": {},
   "outputs": [],
   "source": [
    "spark.conf.set(\"spark.sql.shuffle.partitions\", \"5\")"
   ]
  },
  {
   "cell_type": "code",
   "execution_count": 17,
   "metadata": {},
   "outputs": [
    {
     "data": {
      "text/plain": [
       "streamingDataFrame = [InvoiceNo: string, StockCode: string ... 6 more fields]\n"
      ]
     },
     "metadata": {},
     "output_type": "display_data",
     "source": "user"
    },
    {
     "data": {
      "text/plain": [
       "[InvoiceNo: string, StockCode: string ... 6 more fields]"
      ]
     },
     "execution_count": 17,
     "metadata": {},
     "output_type": "execute_result"
    }
   ],
   "source": [
    "val streamingDataFrame = spark.readStream\n",
    "    .schema(staticSchema)\n",
    "    .option(\"maxFilesPerTrigger\", 15)\n",
    "    .format(\"csv\")\n",
    "    .option(\"header\", \"true\")\n",
    "    .load(path)"
   ]
  },
  {
   "cell_type": "code",
   "execution_count": 18,
   "metadata": {},
   "outputs": [
    {
     "name": "stdout",
     "output_type": "stream",
     "text": [
      "== Physical Plan ==\n",
      "StreamingRelation FileSource[/user/kkdosapati/dataSets/spark-guide/retail-data/by-day/*.csv], [InvoiceNo#129, StockCode#130, Description#131, Quantity#132, InvoiceDate#133, UnitPrice#134, CustomerID#135, Country#136]\n"
     ]
    }
   ],
   "source": [
    "streamingDataFrame.explain() "
   ]
  },
  {
   "cell_type": "code",
   "execution_count": 19,
   "metadata": {},
   "outputs": [
    {
     "data": {
      "text/plain": [
       "purchaseByCustomerPerDay = [CustomerId: double, window: struct<start: timestamp, end: timestamp> ... 1 more field]\n"
      ]
     },
     "metadata": {},
     "output_type": "display_data",
     "source": "user"
    },
    {
     "data": {
      "text/plain": [
       "[CustomerId: double, window: struct<start: timestamp, end: timestamp> ... 1 more field]"
      ]
     },
     "execution_count": 19,
     "metadata": {},
     "output_type": "execute_result"
    }
   ],
   "source": [
    "val purchaseByCustomerPerDay = streamingDataFrame\n",
    "  .selectExpr(\n",
    "    \"CustomerId\",\n",
    "    \"(UnitPrice * Quantity) as total_cost\",\n",
    "    \"InvoiceDate\")\n",
    "  .groupBy(\n",
    "    col(\"CustomerId\"), window($\"InvoiceDate\", \"1 day\"))\n",
    "  .sum(\"total_cost\")"
   ]
  },
  {
   "cell_type": "code",
   "execution_count": 20,
   "metadata": {},
   "outputs": [
    {
     "data": {
      "text/plain": [
       "staticDFPurchaseByCustomerPerDay = [CustomerId: double, window: struct<start: timestamp, end: timestamp> ... 1 more field]\n"
      ]
     },
     "metadata": {},
     "output_type": "display_data",
     "source": "user"
    },
    {
     "data": {
      "text/plain": [
       "[CustomerId: double, window: struct<start: timestamp, end: timestamp> ... 1 more field]"
      ]
     },
     "execution_count": 20,
     "metadata": {},
     "output_type": "execute_result"
    }
   ],
   "source": [
    "val staticDFPurchaseByCustomerPerDay = staticDataFrame\n",
    "  .selectExpr(\n",
    "    \"CustomerId\",\n",
    "    \"(UnitPrice * Quantity) as total_cost\",\n",
    "    \"InvoiceDate\")\n",
    "  .groupBy(\n",
    "    col(\"CustomerId\"), window($\"InvoiceDate\", \"1 day\"))\n",
    "  .sum(\"total_cost\")"
   ]
  },
  {
   "cell_type": "code",
   "execution_count": 21,
   "metadata": {},
   "outputs": [
    {
     "data": {
      "text/plain": [
       "org.apache.spark.sql.execution.streaming.StreamingQueryWrapper@182e46a5"
      ]
     },
     "execution_count": 21,
     "metadata": {},
     "output_type": "execute_result"
    }
   ],
   "source": [
    "purchaseByCustomerPerDay.writeStream\n",
    "    .format(\"memory\")\n",
    "    .queryName(\"customer_purchases\")\n",
    "    .outputMode(\"complete\")\n",
    "    .start()"
   ]
  },
  {
   "cell_type": "code",
   "execution_count": 22,
   "metadata": {},
   "outputs": [
    {
     "name": "stdout",
     "output_type": "stream",
     "text": [
      "+----------+------+---------------+\n",
      "|CustomerId|window|sum(total_cost)|\n",
      "+----------+------+---------------+\n",
      "+----------+------+---------------+\n",
      "\n"
     ]
    }
   ],
   "source": [
    "spark.sql(\"\"\"\n",
    "  SELECT *\n",
    "  FROM customer_purchases\n",
    "  ORDER BY `sum(total_cost)` DESC\n",
    "  \"\"\")\n",
    "  .show(20)"
   ]
  },
  {
   "cell_type": "code",
   "execution_count": 23,
   "metadata": {},
   "outputs": [
    {
     "data": {
      "text/plain": [
       "true"
      ]
     },
     "execution_count": 23,
     "metadata": {},
     "output_type": "execute_result"
    }
   ],
   "source": [
    "streamingDataFrame.isStreaming"
   ]
  },
  {
   "cell_type": "code",
   "execution_count": 24,
   "metadata": {},
   "outputs": [
    {
     "data": {
      "text/plain": [
       "streamCount: org.apache.spark.sql.Dataset[org.apache.spark.sql.Row] = [CustomerId: double, window: struct<start: timestamp, end: timestamp> ... 1 more field]\n"
      ]
     },
     "metadata": {},
     "output_type": "display_data",
     "source": "user"
    }
   ],
   "source": [
    "val streamCount = spark.sql(\"\"\"\n",
    "  SELECT *\n",
    "  FROM customer_purchases\n",
    "  \"\"\").orderBy(desc(\"window\"), desc(\"sum(total_cost)\"))"
   ]
  },
  {
   "cell_type": "code",
   "execution_count": 25,
   "metadata": {},
   "outputs": [
    {
     "data": {
      "text/plain": [
       "lastException: Throwable = null\n"
      ]
     },
     "metadata": {},
     "output_type": "display_data",
     "source": "user"
    },
    {
     "data": {
      "text/plain": [
       "true"
      ]
     },
     "execution_count": 25,
     "metadata": {},
     "output_type": "execute_result"
    }
   ],
   "source": [
    "streamingDataFrame.isStreaming"
   ]
  },
  {
   "cell_type": "code",
   "execution_count": 26,
   "metadata": {},
   "outputs": [
    {
     "data": {
      "text/plain": [
       "19576"
      ]
     },
     "execution_count": 26,
     "metadata": {},
     "output_type": "execute_result"
    }
   ],
   "source": [
    "staticDFPurchaseByCustomerPerDay.count"
   ]
  },
  {
   "cell_type": "code",
   "execution_count": 27,
   "metadata": {},
   "outputs": [
    {
     "data": {
      "text/plain": [
       "loop: ()Long\n"
      ]
     },
     "metadata": {},
     "output_type": "display_data",
     "source": "user"
    }
   ],
   "source": [
    "def loop() : Long = {\n",
    "    Thread.sleep(5000)\n",
    "    val cnt = streamCount.count\n",
    "    println(cnt)\n",
    "    if(cnt != 19576) loop() else cnt\n",
    "}"
   ]
  },
  {
   "cell_type": "code",
   "execution_count": 28,
   "metadata": {},
   "outputs": [
    {
     "name": "stdout",
     "output_type": "stream",
     "text": [
      "root\n",
      " |-- CustomerId: double (nullable = true)\n",
      " |-- window: struct (nullable = false)\n",
      " |    |-- start: timestamp (nullable = true)\n",
      " |    |-- end: timestamp (nullable = true)\n",
      " |-- sum(total_cost): double (nullable = true)\n",
      "\n"
     ]
    }
   ],
   "source": [
    "staticDFPurchaseByCustomerPerDay.printSchema"
   ]
  },
  {
   "cell_type": "code",
   "execution_count": 29,
   "metadata": {},
   "outputs": [
    {
     "name": "stdout",
     "output_type": "stream",
     "text": [
      "+----------+--------------------+------------------+\n",
      "|CustomerId|              window|   sum(total_cost)|\n",
      "+----------+--------------------+------------------+\n",
      "|   14075.0|[2011-12-04 19:00...|316.78000000000003|\n",
      "|   18180.0|[2011-12-04 19:00...|            310.73|\n",
      "|   15358.0|[2011-12-04 19:00...| 830.0600000000003|\n",
      "|   15392.0|[2011-12-04 19:00...|304.40999999999997|\n",
      "|   15290.0|[2011-12-04 19:00...|263.02000000000004|\n",
      "|   16811.0|[2011-12-04 19:00...|             232.3|\n",
      "|   12748.0|[2011-12-04 19:00...| 363.7899999999999|\n",
      "|   16500.0|[2011-12-04 19:00...| 52.74000000000001|\n",
      "|   16873.0|[2011-12-04 19:00...|1854.8300000000002|\n",
      "|   14060.0|[2011-12-04 19:00...|297.47999999999996|\n",
      "|   14649.0|[2011-12-04 19:00...| 513.9899999999998|\n",
      "|   16904.0|[2011-12-04 19:00...| 349.0200000000001|\n",
      "|   17857.0|[2011-12-04 19:00...|            2979.6|\n",
      "|   14083.0|[2011-12-04 19:00...| 446.5700000000001|\n",
      "|   14777.0|[2011-12-04 19:00...|             -2.95|\n",
      "|   16684.0|[2011-12-04 19:00...| 5401.979999999999|\n",
      "|   13685.0|[2011-12-04 19:00...|              5.48|\n",
      "|   15159.0|[2011-12-04 19:00...|           1730.84|\n",
      "|   18015.0|[2011-12-04 19:00...|            120.03|\n",
      "|   13305.0|[2011-12-04 19:00...|213.15999999999997|\n",
      "+----------+--------------------+------------------+\n",
      "only showing top 20 rows\n",
      "\n"
     ]
    }
   ],
   "source": [
    "staticDFPurchaseByCustomerPerDay.show"
   ]
  },
  {
   "cell_type": "code",
   "execution_count": 30,
   "metadata": {},
   "outputs": [
    {
     "name": "stdout",
     "output_type": "stream",
     "text": [
      "3301\n",
      "4822\n",
      "6594\n",
      "8520\n",
      "10106\n",
      "19576\n"
     ]
    },
    {
     "data": {
      "text/plain": [
       "19576"
      ]
     },
     "execution_count": 30,
     "metadata": {},
     "output_type": "execute_result"
    }
   ],
   "source": [
    "loop()"
   ]
  },
  {
   "cell_type": "code",
   "execution_count": 31,
   "metadata": {},
   "outputs": [
    {
     "data": {
      "text/plain": [
       "Name: Syntax Error.\n",
       "Message: \n",
       "StackTrace: "
      ]
     },
     "execution_count": 31,
     "metadata": {},
     "output_type": "execute_result"
    }
   ],
   "source": [
    "//purchaseByCustomerPerDay.writeStream\n",
    "//     .format(\"console\")\n",
    "//     .queryName(\"customer_purchases_2\")\n",
    "//     .outputMode(\"complete\")\n",
    "//     .start()\n",
    "\n",
    "//check on Console"
   ]
  },
  {
   "cell_type": "code",
   "execution_count": 32,
   "metadata": {},
   "outputs": [
    {
     "data": {
      "text/plain": [
       "true"
      ]
     },
     "execution_count": 32,
     "metadata": {},
     "output_type": "execute_result"
    }
   ],
   "source": [
    "streamingDataFrame.isStreaming"
   ]
  },
  {
   "cell_type": "code",
   "execution_count": 33,
   "metadata": {},
   "outputs": [
    {
     "name": "stdout",
     "output_type": "stream",
     "text": [
      "+----------+------------------------------------------+------------------+\n",
      "|CustomerId|window                                    |sum(total_cost)   |\n",
      "+----------+------------------------------------------+------------------+\n",
      "|null      |[2011-12-08 19:00:00, 2011-12-09 19:00:00]|16571.320000000036|\n",
      "|12433.0   |[2011-12-08 19:00:00, 2011-12-09 19:00:00]|2638.690000000001 |\n",
      "|14051.0   |[2011-12-08 19:00:00, 2011-12-09 19:00:00]|1203.9            |\n",
      "|17581.0   |[2011-12-08 19:00:00, 2011-12-09 19:00:00]|984.6800000000001 |\n",
      "|12713.0   |[2011-12-08 19:00:00, 2011-12-09 19:00:00]|848.5499999999998 |\n",
      "|17389.0   |[2011-12-08 19:00:00, 2011-12-09 19:00:00]|741.9             |\n",
      "|17490.0   |[2011-12-08 19:00:00, 2011-12-09 19:00:00]|730.7             |\n",
      "|16558.0   |[2011-12-08 19:00:00, 2011-12-09 19:00:00]|598.9700000000001 |\n",
      "|12985.0   |[2011-12-08 19:00:00, 2011-12-09 19:00:00]|485.0             |\n",
      "|18102.0   |[2011-12-08 19:00:00, 2011-12-09 19:00:00]|469.43999999999994|\n",
      "|15796.0   |[2011-12-08 19:00:00, 2011-12-09 19:00:00]|447.6499999999999 |\n",
      "|15311.0   |[2011-12-08 19:00:00, 2011-12-09 19:00:00]|439.84999999999997|\n",
      "|17364.0   |[2011-12-08 19:00:00, 2011-12-09 19:00:00]|420.52            |\n",
      "|17428.0   |[2011-12-08 19:00:00, 2011-12-09 19:00:00]|415.6             |\n",
      "|17001.0   |[2011-12-08 19:00:00, 2011-12-09 19:00:00]|407.68            |\n",
      "|15694.0   |[2011-12-08 19:00:00, 2011-12-09 19:00:00]|406.8             |\n",
      "|16626.0   |[2011-12-08 19:00:00, 2011-12-09 19:00:00]|389.21000000000004|\n",
      "|14422.0   |[2011-12-08 19:00:00, 2011-12-09 19:00:00]|382.01            |\n",
      "|13113.0   |[2011-12-08 19:00:00, 2011-12-09 19:00:00]|339.2             |\n",
      "|12518.0   |[2011-12-08 19:00:00, 2011-12-09 19:00:00]|339.14000000000004|\n",
      "+----------+------------------------------------------+------------------+\n",
      "only showing top 20 rows\n",
      "\n"
     ]
    }
   ],
   "source": [
    "streamCount.orderBy(desc(\"window\"), desc(\"sum(total_cost)\")).show(false)"
   ]
  },
  {
   "cell_type": "code",
   "execution_count": null,
   "metadata": {},
   "outputs": [],
   "source": []
  }
 ],
 "metadata": {
  "kernelspec": {
   "display_name": "my_spark - Scala",
   "language": "scala",
   "name": "my_spark_scala"
  },
  "language_info": {
   "codemirror_mode": "text/x-scala",
   "file_extension": ".scala",
   "mimetype": "text/x-scala",
   "name": "scala",
   "pygments_lexer": "scala",
   "version": "2.11.12"
  }
 },
 "nbformat": 4,
 "nbformat_minor": 4
}
