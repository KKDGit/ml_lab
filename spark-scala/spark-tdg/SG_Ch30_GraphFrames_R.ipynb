{
 "cells": [
  {
   "cell_type": "code",
   "execution_count": 1,
   "metadata": {},
   "outputs": [
    {
     "data": {
      "text/plain": [
       "Waiting for a Spark session to start..."
      ]
     },
     "metadata": {},
     "output_type": "display_data"
    },
    {
     "data": {
      "text/html": [
       "<ul>\n",
       "<li><a href=\"Some(http://gw02.itversity.com:4048)\" target=\"new_tab\">Spark UI: application_1540458187951_76658</a></li>\n",
       "</ul>"
      ],
      "text/plain": [
       "Spark application_1540458187951_76658: Some(http://gw02.itversity.com:4048)"
      ]
     },
     "execution_count": 1,
     "metadata": {},
     "output_type": "execute_result"
    }
   ],
   "source": [
    "spark"
   ]
  },
  {
   "cell_type": "code",
   "execution_count": 2,
   "metadata": {},
   "outputs": [
    {
     "data": {
      "text/plain": [
       "Waiting for a Spark session to start..."
      ]
     },
     "metadata": {},
     "output_type": "display_data"
    },
    {
     "data": {
      "text/plain": [
       "http://rm01.itversity.com:19288/proxy/application_1540458187951_76658"
      ]
     },
     "execution_count": 2,
     "metadata": {},
     "output_type": "execute_result"
    }
   ],
   "source": [
    "sc.getConf.getAll.filter(_._2.contains(\"/proxy/\"))(0)._2"
   ]
  },
  {
   "cell_type": "code",
   "execution_count": 3,
   "metadata": {},
   "outputs": [
    {
     "data": {
      "text/plain": [
       "getType: (o: Any)String\n"
      ]
     },
     "metadata": {},
     "output_type": "display_data"
    }
   ],
   "source": [
    "def getType(o: Any) = o.getClass.getCanonicalName"
   ]
  },
  {
   "cell_type": "code",
   "execution_count": 6,
   "metadata": {},
   "outputs": [
    {
     "data": {
      "text/plain": [
       "os_name = Linux\n",
       "hdfs_home = /user/kranthidr\n"
      ]
     },
     "metadata": {},
     "output_type": "display_data"
    },
    {
     "data": {
      "text/plain": [
       "/user/kranthidr"
      ]
     },
     "execution_count": 6,
     "metadata": {},
     "output_type": "execute_result"
    }
   ],
   "source": [
    "val os_name = System.getProperty(\"os.name\")\n",
    "val hdfs_home = \"/user/\" + System.getenv(\"HOME\").split(\"/\")(2)"
   ]
  },
  {
   "cell_type": "code",
   "execution_count": 7,
   "metadata": {},
   "outputs": [
    {
     "data": {
      "text/plain": [
       "bikeStations_path = /user/kranthidr/dataSets/spark-guide/bike-data/201508_station_data.csv\n",
       "tripData_path = /user/kranthidr/dataSets/spark-guide/bike-data/201508_trip_data.csv\n"
      ]
     },
     "metadata": {},
     "output_type": "display_data"
    },
    {
     "data": {
      "text/plain": [
       "/user/kranthidr/dataSets/spark-guide/bike-data/201508_trip_data.csv"
      ]
     },
     "execution_count": 7,
     "metadata": {},
     "output_type": "execute_result"
    }
   ],
   "source": [
    "val bikeStations_path = hdfs_home + \"/dataSets/spark-guide/bike-data/201508_station_data.csv\"\n",
    " \n",
    "val tripData_path = hdfs_home + \"/dataSets/spark-guide/bike-data/201508_trip_data.csv\""
   ]
  },
  {
   "cell_type": "code",
   "execution_count": 9,
   "metadata": {},
   "outputs": [
    {
     "data": {
      "text/plain": [
       "bikeStations = [station_id: string, name: string ... 5 more fields]\n"
      ]
     },
     "metadata": {},
     "output_type": "display_data"
    },
    {
     "data": {
      "text/plain": [
       "lastException: Throwable = null\n"
      ]
     },
     "metadata": {},
     "output_type": "display_data"
    },
    {
     "data": {
      "text/plain": [
       "[station_id: string, name: string ... 5 more fields]"
      ]
     },
     "execution_count": 9,
     "metadata": {},
     "output_type": "execute_result"
    }
   ],
   "source": [
    "// in Scala\n",
    "val bikeStations = spark.read.option(\"header\",\"true\").csv(bikeStations_path)"
   ]
  },
  {
   "cell_type": "code",
   "execution_count": 10,
   "metadata": {},
   "outputs": [
    {
     "data": {
      "text/plain": [
       "tripData = [Trip ID: string, Duration: string ... 9 more fields]\n"
      ]
     },
     "metadata": {},
     "output_type": "display_data"
    },
    {
     "data": {
      "text/plain": [
       "[Trip ID: string, Duration: string ... 9 more fields]"
      ]
     },
     "execution_count": 10,
     "metadata": {},
     "output_type": "execute_result"
    }
   ],
   "source": [
    "val tripData = spark.read.option(\"header\",\"true\").csv(tripData_path)"
   ]
  },
  {
   "cell_type": "code",
   "execution_count": 11,
   "metadata": {},
   "outputs": [
    {
     "name": "stdout",
     "output_type": "stream",
     "text": [
      "+----------+--------------------+---------+-----------+---------+--------+------------+\n",
      "|station_id|                name|      lat|       long|dockcount|landmark|installation|\n",
      "+----------+--------------------+---------+-----------+---------+--------+------------+\n",
      "|         2|San Jose Diridon ...|37.329732|-121.901782|       27|San Jose|    8/6/2013|\n",
      "|         3|San Jose Civic Ce...|37.330698|-121.888979|       15|San Jose|    8/5/2013|\n",
      "|         4|Santa Clara at Al...|37.333988|-121.894902|       11|San Jose|    8/6/2013|\n",
      "|         5|    Adobe on Almaden|37.331415|  -121.8932|       19|San Jose|    8/5/2013|\n",
      "|         6|    San Pedro Square|37.336721|-121.894074|       15|San Jose|    8/7/2013|\n",
      "+----------+--------------------+---------+-----------+---------+--------+------------+\n",
      "only showing top 5 rows\n",
      "\n"
     ]
    }
   ],
   "source": [
    "bikeStations.show(5)"
   ]
  },
  {
   "cell_type": "code",
   "execution_count": 14,
   "metadata": {},
   "outputs": [
    {
     "name": "stdout",
     "output_type": "stream",
     "text": [
      "root\n",
      " |-- station_id: string (nullable = true)\n",
      " |-- name: string (nullable = true)\n",
      " |-- lat: string (nullable = true)\n",
      " |-- long: string (nullable = true)\n",
      " |-- dockcount: string (nullable = true)\n",
      " |-- landmark: string (nullable = true)\n",
      " |-- installation: string (nullable = true)\n",
      "\n"
     ]
    }
   ],
   "source": [
    "bikeStations.printSchema"
   ]
  },
  {
   "cell_type": "code",
   "execution_count": 15,
   "metadata": {},
   "outputs": [
    {
     "name": "stdout",
     "output_type": "stream",
     "text": [
      "root\n",
      " |-- Trip ID: string (nullable = true)\n",
      " |-- Duration: string (nullable = true)\n",
      " |-- Start Date: string (nullable = true)\n",
      " |-- Start Station: string (nullable = true)\n",
      " |-- Start Terminal: string (nullable = true)\n",
      " |-- End Date: string (nullable = true)\n",
      " |-- End Station: string (nullable = true)\n",
      " |-- End Terminal: string (nullable = true)\n",
      " |-- Bike #: string (nullable = true)\n",
      " |-- Subscriber Type: string (nullable = true)\n",
      " |-- Zip Code: string (nullable = true)\n",
      "\n"
     ]
    }
   ],
   "source": [
    "tripData.printSchema"
   ]
  },
  {
   "cell_type": "code",
   "execution_count": 13,
   "metadata": {},
   "outputs": [
    {
     "name": "stdout",
     "output_type": "stream",
     "text": [
      "+-------+--------+---------------+--------------------+--------------+---------------+--------------------+------------+------+---------------+--------+\n",
      "|Trip ID|Duration|     Start Date|       Start Station|Start Terminal|       End Date|         End Station|End Terminal|Bike #|Subscriber Type|Zip Code|\n",
      "+-------+--------+---------------+--------------------+--------------+---------------+--------------------+------------+------+---------------+--------+\n",
      "| 913460|     765|8/31/2015 23:26|Harry Bridges Pla...|            50|8/31/2015 23:39|San Francisco Cal...|          70|   288|     Subscriber|    2139|\n",
      "| 913459|    1036|8/31/2015 23:11|San Antonio Shopp...|            31|8/31/2015 23:28|Mountain View Cit...|          27|    35|     Subscriber|   95032|\n",
      "| 913455|     307|8/31/2015 23:13|      Post at Kearny|            47|8/31/2015 23:18|   2nd at South Park|          64|   468|     Subscriber|   94107|\n",
      "| 913454|     409|8/31/2015 23:10|  San Jose City Hall|            10|8/31/2015 23:17| San Salvador at 1st|           8|    68|     Subscriber|   95113|\n",
      "| 913453|     789|8/31/2015 23:09|Embarcadero at Fo...|            51|8/31/2015 23:22|Embarcadero at Sa...|          60|   487|       Customer|    9069|\n",
      "+-------+--------+---------------+--------------------+--------------+---------------+--------------------+------------+------+---------------+--------+\n",
      "only showing top 5 rows\n",
      "\n"
     ]
    }
   ],
   "source": [
    "tripData.show(5)"
   ]
  },
  {
   "cell_type": "code",
   "execution_count": 16,
   "metadata": {},
   "outputs": [
    {
     "data": {
      "text/plain": [
       "stationVertices = [station_id: string, id: string ... 5 more fields]\n"
      ]
     },
     "metadata": {},
     "output_type": "display_data"
    },
    {
     "data": {
      "text/plain": [
       "[station_id: string, id: string ... 5 more fields]"
      ]
     },
     "execution_count": 16,
     "metadata": {},
     "output_type": "execute_result"
    }
   ],
   "source": [
    "// COMMAND ----------\n",
    "\n",
    "// in Scala\n",
    "val stationVertices = bikeStations.withColumnRenamed(\"name\", \"id\").distinct()"
   ]
  },
  {
   "cell_type": "code",
   "execution_count": 17,
   "metadata": {},
   "outputs": [
    {
     "data": {
      "text/plain": [
       "tripEdges = [Trip ID: string, Duration: string ... 9 more fields]\n"
      ]
     },
     "metadata": {},
     "output_type": "display_data"
    },
    {
     "data": {
      "text/plain": [
       "[Trip ID: string, Duration: string ... 9 more fields]"
      ]
     },
     "execution_count": 17,
     "metadata": {},
     "output_type": "execute_result"
    }
   ],
   "source": [
    "val tripEdges = tripData\n",
    "  .withColumnRenamed(\"Start Station\", \"src\")\n",
    "  .withColumnRenamed(\"End Station\", \"dst\")"
   ]
  },
  {
   "cell_type": "code",
   "execution_count": 18,
   "metadata": {
    "collapsed": true
   },
   "outputs": [],
   "source": [
    "// COMMAND ----------\n",
    "\n",
    "// in Scala\n",
    "import org.graphframes.GraphFrame"
   ]
  },
  {
   "cell_type": "code",
   "execution_count": 19,
   "metadata": {},
   "outputs": [
    {
     "data": {
      "text/plain": [
       "stationGraph = GraphFrame(v:[id: string, station_id: string ... 5 more fields], e:[src: string, dst: string ... 9 more fields])\n"
      ]
     },
     "metadata": {},
     "output_type": "display_data"
    },
    {
     "data": {
      "text/plain": [
       "GraphFrame(v:[id: string, station_id: string ... 5 more fields], e:[src: string, dst: string ... 9 more fields])"
      ]
     },
     "execution_count": 19,
     "metadata": {},
     "output_type": "execute_result"
    }
   ],
   "source": [
    "val stationGraph = GraphFrame(stationVertices, tripEdges)"
   ]
  },
  {
   "cell_type": "code",
   "execution_count": 21,
   "metadata": {},
   "outputs": [
    {
     "data": {
      "text/plain": [
       "GraphFrame(v:[id: string, station_id: string ... 5 more fields], e:[src: string, dst: string ... 9 more fields])"
      ]
     },
     "execution_count": 21,
     "metadata": {},
     "output_type": "execute_result"
    }
   ],
   "source": [
    "stationGraph.cache()"
   ]
  },
  {
   "cell_type": "code",
   "execution_count": 22,
   "metadata": {},
   "outputs": [
    {
     "name": "stdout",
     "output_type": "stream",
     "text": [
      "+----------+--------------------+---------+-----------+---------+-------------+------------+\n",
      "|station_id|                  id|      lat|       long|dockcount|     landmark|installation|\n",
      "+----------+--------------------+---------+-----------+---------+-------------+------------+\n",
      "|        51|Embarcadero at Fo...|37.791464|-122.391034|       19|San Francisco|   8/20/2013|\n",
      "|        58|San Francisco Cit...| 37.77865|-122.418235|       19|San Francisco|   8/21/2013|\n",
      "|        60|Embarcadero at Sa...| 37.80477|-122.403234|       15|San Francisco|   8/21/2013|\n",
      "|        65|     Townsend at 7th|37.771058|-122.402717|       15|San Francisco|   8/22/2013|\n",
      "|        63|       Howard at 2nd|37.786978|-122.398108|       19|San Francisco|   8/22/2013|\n",
      "+----------+--------------------+---------+-----------+---------+-------------+------------+\n",
      "only showing top 5 rows\n",
      "\n"
     ]
    }
   ],
   "source": [
    "stationGraph.vertices.show(5)"
   ]
  },
  {
   "cell_type": "code",
   "execution_count": 23,
   "metadata": {},
   "outputs": [
    {
     "name": "stdout",
     "output_type": "stream",
     "text": [
      "+-------+--------+---------------+--------------------+--------------+---------------+--------------------+------------+------+---------------+--------+\n",
      "|Trip ID|Duration|     Start Date|                 src|Start Terminal|       End Date|                 dst|End Terminal|Bike #|Subscriber Type|Zip Code|\n",
      "+-------+--------+---------------+--------------------+--------------+---------------+--------------------+------------+------+---------------+--------+\n",
      "| 913460|     765|8/31/2015 23:26|Harry Bridges Pla...|            50|8/31/2015 23:39|San Francisco Cal...|          70|   288|     Subscriber|    2139|\n",
      "| 913459|    1036|8/31/2015 23:11|San Antonio Shopp...|            31|8/31/2015 23:28|Mountain View Cit...|          27|    35|     Subscriber|   95032|\n",
      "| 913455|     307|8/31/2015 23:13|      Post at Kearny|            47|8/31/2015 23:18|   2nd at South Park|          64|   468|     Subscriber|   94107|\n",
      "| 913454|     409|8/31/2015 23:10|  San Jose City Hall|            10|8/31/2015 23:17| San Salvador at 1st|           8|    68|     Subscriber|   95113|\n",
      "| 913453|     789|8/31/2015 23:09|Embarcadero at Fo...|            51|8/31/2015 23:22|Embarcadero at Sa...|          60|   487|       Customer|    9069|\n",
      "+-------+--------+---------------+--------------------+--------------+---------------+--------------------+------------+------+---------------+--------+\n",
      "only showing top 5 rows\n",
      "\n"
     ]
    }
   ],
   "source": [
    "stationGraph.edges.show(5)"
   ]
  },
  {
   "cell_type": "code",
   "execution_count": 24,
   "metadata": {},
   "outputs": [
    {
     "name": "stdout",
     "output_type": "stream",
     "text": [
      "Total Number of Stations: 70\n",
      "Total Number of Trips in Graph: 354152\n",
      "Total Number of Trips in Original Data: 354152\n"
     ]
    }
   ],
   "source": [
    "// COMMAND ----------\n",
    "\n",
    "// in Scala\n",
    "println(s\"Total Number of Stations: ${stationGraph.vertices.count()}\")\n",
    "println(s\"Total Number of Trips in Graph: ${stationGraph.edges.count()}\")\n",
    "println(s\"Total Number of Trips in Original Data: ${tripData.count()}\")"
   ]
  },
  {
   "cell_type": "code",
   "execution_count": 25,
   "metadata": {},
   "outputs": [
    {
     "name": "stdout",
     "output_type": "stream",
     "text": [
      "+--------------------+--------------------+-----+\n",
      "|                 src|                 dst|count|\n",
      "+--------------------+--------------------+-----+\n",
      "|San Francisco Cal...|     Townsend at 7th| 3748|\n",
      "|Harry Bridges Pla...|Embarcadero at Sa...| 3145|\n",
      "|     2nd at Townsend|Harry Bridges Pla...| 2973|\n",
      "|     Townsend at 7th|San Francisco Cal...| 2734|\n",
      "|Harry Bridges Pla...|     2nd at Townsend| 2640|\n",
      "|Embarcadero at Fo...|San Francisco Cal...| 2439|\n",
      "|   Steuart at Market|     2nd at Townsend| 2356|\n",
      "|Embarcadero at Sa...|   Steuart at Market| 2330|\n",
      "|     Townsend at 7th|San Francisco Cal...| 2192|\n",
      "|Temporary Transba...|San Francisco Cal...| 2184|\n",
      "+--------------------+--------------------+-----+\n",
      "only showing top 10 rows\n",
      "\n"
     ]
    }
   ],
   "source": [
    "// COMMAND ----------\n",
    "\n",
    "// in Scala\n",
    "import org.apache.spark.sql.functions.desc\n",
    "stationGraph.edges.groupBy(\"src\", \"dst\").count().orderBy(desc(\"count\")).show(10)"
   ]
  },
  {
   "cell_type": "code",
   "execution_count": 26,
   "metadata": {},
   "outputs": [
    {
     "name": "stdout",
     "output_type": "stream",
     "text": [
      "+--------------------+--------------------+-----+\n",
      "|                 src|                 dst|count|\n",
      "+--------------------+--------------------+-----+\n",
      "|San Francisco Cal...|     Townsend at 7th| 3748|\n",
      "|     Townsend at 7th|San Francisco Cal...| 2734|\n",
      "|     Townsend at 7th|San Francisco Cal...| 2192|\n",
      "|     Townsend at 7th|Civic Center BART...| 1844|\n",
      "|Civic Center BART...|     Townsend at 7th| 1765|\n",
      "|San Francisco Cal...|     Townsend at 7th| 1198|\n",
      "|Temporary Transba...|     Townsend at 7th|  834|\n",
      "|     Townsend at 7th|Harry Bridges Pla...|  827|\n",
      "|   Steuart at Market|     Townsend at 7th|  746|\n",
      "|     Townsend at 7th|Temporary Transba...|  740|\n",
      "+--------------------+--------------------+-----+\n",
      "only showing top 10 rows\n",
      "\n"
     ]
    }
   ],
   "source": [
    "// COMMAND ----------\n",
    "\n",
    "// in Scala\n",
    "stationGraph.edges\n",
    "  .where(\"src = 'Townsend at 7th' OR dst = 'Townsend at 7th'\")\n",
    "  .groupBy(\"src\", \"dst\").count()\n",
    "  .orderBy(desc(\"count\"))\n",
    "  .show(10)"
   ]
  },
  {
   "cell_type": "code",
   "execution_count": 27,
   "metadata": {},
   "outputs": [
    {
     "data": {
      "text/plain": [
       "townAnd7thEdges = [Trip ID: string, Duration: string ... 9 more fields]\n"
      ]
     },
     "metadata": {},
     "output_type": "display_data"
    },
    {
     "data": {
      "text/plain": [
       "[Trip ID: string, Duration: string ... 9 more fields]"
      ]
     },
     "execution_count": 27,
     "metadata": {},
     "output_type": "execute_result"
    }
   ],
   "source": [
    "// COMMAND ----------\n",
    "\n",
    "// in Scala\n",
    "val townAnd7thEdges = stationGraph.edges\n",
    "  .where(\"src = 'Townsend at 7th' OR dst = 'Townsend at 7th'\")"
   ]
  },
  {
   "cell_type": "code",
   "execution_count": 28,
   "metadata": {},
   "outputs": [
    {
     "data": {
      "text/plain": [
       "subgraph = GraphFrame(v:[id: string, station_id: string ... 5 more fields], e:[src: string, dst: string ... 9 more fields])\n"
      ]
     },
     "metadata": {},
     "output_type": "display_data"
    },
    {
     "data": {
      "text/plain": [
       "GraphFrame(v:[id: string, station_id: string ... 5 more fields], e:[src: string, dst: string ... 9 more fields])"
      ]
     },
     "execution_count": 28,
     "metadata": {},
     "output_type": "execute_result"
    }
   ],
   "source": [
    "val subgraph = GraphFrame(stationGraph.vertices, townAnd7thEdges)"
   ]
  },
  {
   "cell_type": "code",
   "execution_count": 29,
   "metadata": {},
   "outputs": [
    {
     "data": {
      "text/plain": [
       "motifs = [a: struct<station_id: string, id: string ... 5 more fields>, ab: struct<Trip ID: string, Duration: string ... 9 more fields> ... 4 more fields]\n"
      ]
     },
     "metadata": {},
     "output_type": "display_data"
    },
    {
     "data": {
      "text/plain": [
       "[a: struct<station_id: string, id: string ... 5 more fields>, ab: struct<Trip ID: string, Duration: string ... 9 more fields> ... 4 more fields]"
      ]
     },
     "execution_count": 29,
     "metadata": {},
     "output_type": "execute_result"
    }
   ],
   "source": [
    "// COMMAND ----------\n",
    "\n",
    "// in Scala\n",
    "val motifs = stationGraph.find(\"(a)-[ab]->(b); (b)-[bc]->(c); (c)-[ca]->(a)\")"
   ]
  },
  {
   "cell_type": "code",
   "execution_count": 30,
   "metadata": {},
   "outputs": [
    {
     "name": "stdout",
     "output_type": "stream",
     "text": [
      "+---------------------------------------+---------------+----------------------------------------+---------------+---------------+\n",
      "|id                                     |id             |id                                      |Start Date     |End Date       |\n",
      "+---------------------------------------+---------------+----------------------------------------+---------------+---------------+\n",
      "|San Francisco Caltrain 2 (330 Townsend)|Townsend at 7th|San Francisco Caltrain (Townsend at 4th)|5/19/2015 16:09|5/19/2015 16:33|\n",
      "+---------------------------------------+---------------+----------------------------------------+---------------+---------------+\n",
      "\n"
     ]
    }
   ],
   "source": [
    "// COMMAND ----------\n",
    "\n",
    "// in Scala\n",
    "import org.apache.spark.sql.functions.expr\n",
    "motifs.selectExpr(\"*\",\n",
    "    \"to_timestamp(ab.`Start Date`, 'MM/dd/yyyy HH:mm') as abStart\",\n",
    "    \"to_timestamp(bc.`Start Date`, 'MM/dd/yyyy HH:mm') as bcStart\",\n",
    "    \"to_timestamp(ca.`Start Date`, 'MM/dd/yyyy HH:mm') as caStart\")\n",
    "  .where(\"ca.`Bike #` = bc.`Bike #`\").where(\"ab.`Bike #` = bc.`Bike #`\")\n",
    "  .where(\"a.id != b.id\").where(\"b.id != c.id\")\n",
    "  .where(\"abStart < bcStart\").where(\"bcStart < caStart\")\n",
    "  .orderBy(expr(\"cast(caStart as long) - cast(abStart as long)\"))\n",
    "  .selectExpr(\"a.id\", \"b.id\", \"c.id\", \"ab.`Start Date`\", \"ca.`End Date`\")\n",
    "  .limit(1).show(false)"
   ]
  },
  {
   "cell_type": "code",
   "execution_count": 31,
   "metadata": {},
   "outputs": [
    {
     "name": "stdout",
     "output_type": "stream",
     "text": [
      "+--------------------+------------------+\n",
      "|                  id|          pagerank|\n",
      "+--------------------+------------------+\n",
      "|San Jose Diridon ...| 4.051504835990035|\n",
      "|San Francisco Cal...|3.3511832964285686|\n",
      "|Mountain View Cal...|2.5143907710154836|\n",
      "|Redwood City Calt...|2.3263087713711736|\n",
      "|San Francisco Cal...| 2.231144291369887|\n",
      "|Harry Bridges Pla...|1.8251120118883386|\n",
      "|     2nd at Townsend|1.5821217785038677|\n",
      "|Santa Clara at Al...| 1.573007408490723|\n",
      "|     Townsend at 7th|1.5684565805341752|\n",
      "|Embarcadero at Sa...| 1.541424208774836|\n",
      "+--------------------+------------------+\n",
      "only showing top 10 rows\n",
      "\n"
     ]
    },
    {
     "data": {
      "text/plain": [
       "ranks = GraphFrame(v:[id: string, station_id: string ... 6 more fields], e:[src: string, dst: string ... 10 more fields])\n"
      ]
     },
     "metadata": {},
     "output_type": "display_data"
    },
    {
     "data": {
      "text/plain": [
       "GraphFrame(v:[id: string, station_id: string ... 6 more fields], e:[src: string, dst: string ... 10 more fields])"
      ]
     },
     "execution_count": 31,
     "metadata": {},
     "output_type": "execute_result"
    }
   ],
   "source": [
    "// COMMAND ----------\n",
    "\n",
    "// in Scala\n",
    "import org.apache.spark.sql.functions.desc\n",
    "val ranks = stationGraph.pageRank.resetProbability(0.15).maxIter(10).run()\n",
    "ranks.vertices.orderBy(desc(\"pagerank\")).select(\"id\", \"pagerank\").show(10)"
   ]
  },
  {
   "cell_type": "code",
   "execution_count": 32,
   "metadata": {},
   "outputs": [
    {
     "name": "stdout",
     "output_type": "stream",
     "text": [
      "+----------------------------------------+--------+\n",
      "|id                                      |inDegree|\n",
      "+----------------------------------------+--------+\n",
      "|San Francisco Caltrain (Townsend at 4th)|34810   |\n",
      "|San Francisco Caltrain 2 (330 Townsend) |22523   |\n",
      "|Harry Bridges Plaza (Ferry Building)    |17810   |\n",
      "|2nd at Townsend                         |15463   |\n",
      "|Townsend at 7th                         |15422   |\n",
      "+----------------------------------------+--------+\n",
      "only showing top 5 rows\n",
      "\n"
     ]
    },
    {
     "data": {
      "text/plain": [
       "inDeg = [id: string, inDegree: int]\n"
      ]
     },
     "metadata": {},
     "output_type": "display_data"
    },
    {
     "data": {
      "text/plain": [
       "[id: string, inDegree: int]"
      ]
     },
     "execution_count": 32,
     "metadata": {},
     "output_type": "execute_result"
    }
   ],
   "source": [
    "// COMMAND ----------\n",
    "\n",
    "// in Scala\n",
    "val inDeg = stationGraph.inDegrees\n",
    "inDeg.orderBy(desc(\"inDegree\")).show(5, false)"
   ]
  },
  {
   "cell_type": "code",
   "execution_count": 33,
   "metadata": {},
   "outputs": [
    {
     "name": "stdout",
     "output_type": "stream",
     "text": [
      "+---------------------------------------------+---------+\n",
      "|id                                           |outDegree|\n",
      "+---------------------------------------------+---------+\n",
      "|San Francisco Caltrain (Townsend at 4th)     |26304    |\n",
      "|San Francisco Caltrain 2 (330 Townsend)      |21758    |\n",
      "|Harry Bridges Plaza (Ferry Building)         |17255    |\n",
      "|Temporary Transbay Terminal (Howard at Beale)|14436    |\n",
      "|Embarcadero at Sansome                       |14158    |\n",
      "+---------------------------------------------+---------+\n",
      "only showing top 5 rows\n",
      "\n"
     ]
    },
    {
     "data": {
      "text/plain": [
       "outDeg = [id: string, outDegree: int]\n"
      ]
     },
     "metadata": {},
     "output_type": "display_data"
    },
    {
     "data": {
      "text/plain": [
       "[id: string, outDegree: int]"
      ]
     },
     "execution_count": 33,
     "metadata": {},
     "output_type": "execute_result"
    }
   ],
   "source": [
    "// COMMAND ----------\n",
    "\n",
    "// in Scala\n",
    "val outDeg = stationGraph.outDegrees\n",
    "outDeg.orderBy(desc(\"outDegree\")).show(5, false)"
   ]
  },
  {
   "cell_type": "code",
   "execution_count": 34,
   "metadata": {},
   "outputs": [
    {
     "name": "stdout",
     "output_type": "stream",
     "text": [
      "+----------------------------------------+------------------+\n",
      "|id                                      |degreeRatio       |\n",
      "+----------------------------------------+------------------+\n",
      "|Redwood City Medical Center             |1.5333333333333334|\n",
      "|San Mateo County Center                 |1.4724409448818898|\n",
      "|SJSU 4th at San Carlos                  |1.3621052631578947|\n",
      "|San Francisco Caltrain (Townsend at 4th)|1.3233728710462287|\n",
      "|Washington at Kearny                    |1.3086466165413533|\n",
      "|Paseo de San Antonio                    |1.2535046728971964|\n",
      "|California Ave Caltrain Station         |1.24              |\n",
      "|Franklin at Maple                       |1.2345679012345678|\n",
      "|Embarcadero at Vallejo                  |1.2201707365495336|\n",
      "|Market at Sansome                       |1.2173913043478262|\n",
      "+----------------------------------------+------------------+\n",
      "only showing top 10 rows\n",
      "\n",
      "+-------------------------------+------------------+\n",
      "|id                             |degreeRatio       |\n",
      "+-------------------------------+------------------+\n",
      "|Grant Avenue at Columbus Avenue|0.5180520570948782|\n",
      "|2nd at Folsom                  |0.5909488686085761|\n",
      "|Powell at Post (Union Square)  |0.6434241245136186|\n",
      "|Mezes Park                     |0.6839622641509434|\n",
      "|Evelyn Park and Ride           |0.7413087934560327|\n",
      "|Beale at Market                |0.75726761574351  |\n",
      "|Golden Gate at Polk            |0.7822270981897971|\n",
      "|Ryland Park                    |0.7857142857142857|\n",
      "|San Francisco City Hall        |0.7928849902534113|\n",
      "|Palo Alto Caltrain Station     |0.8064516129032258|\n",
      "+-------------------------------+------------------+\n",
      "only showing top 10 rows\n",
      "\n"
     ]
    },
    {
     "data": {
      "text/plain": [
       "degreeRatio = [id: string, degreeRatio: double]\n"
      ]
     },
     "metadata": {},
     "output_type": "display_data"
    },
    {
     "data": {
      "text/plain": [
       "[id: string, degreeRatio: double]"
      ]
     },
     "execution_count": 34,
     "metadata": {},
     "output_type": "execute_result"
    }
   ],
   "source": [
    "// COMMAND ----------\n",
    "\n",
    "// in Scala\n",
    "val degreeRatio = inDeg.join(outDeg, Seq(\"id\"))\n",
    "  .selectExpr(\"id\", \"double(inDegree)/double(outDegree) as degreeRatio\")\n",
    "degreeRatio.orderBy(desc(\"degreeRatio\")).show(10, false)\n",
    "degreeRatio.orderBy(\"degreeRatio\").show(10, false)"
   ]
  },
  {
   "cell_type": "code",
   "execution_count": 35,
   "metadata": {},
   "outputs": [
    {
     "name": "stdout",
     "output_type": "stream",
     "text": [
      "+--------------------+--------------------+--------------------+\n",
      "|                from|                  e0|                  to|\n",
      "+--------------------+--------------------+--------------------+\n",
      "|[65, Townsend at ...|[913371, 663, 8/3...|[49, Spear at Fol...|\n",
      "|[65, Townsend at ...|[913265, 658, 8/3...|[49, Spear at Fol...|\n",
      "|[65, Townsend at ...|[911919, 722, 8/3...|[49, Spear at Fol...|\n",
      "|[65, Townsend at ...|[910777, 704, 8/2...|[49, Spear at Fol...|\n",
      "|[65, Townsend at ...|[908994, 1115, 8/...|[49, Spear at Fol...|\n",
      "|[65, Townsend at ...|[906912, 892, 8/2...|[49, Spear at Fol...|\n",
      "|[65, Townsend at ...|[905201, 980, 8/2...|[49, Spear at Fol...|\n",
      "|[65, Townsend at ...|[904010, 969, 8/2...|[49, Spear at Fol...|\n",
      "|[65, Townsend at ...|[903375, 850, 8/2...|[49, Spear at Fol...|\n",
      "|[65, Townsend at ...|[899944, 910, 8/2...|[49, Spear at Fol...|\n",
      "+--------------------+--------------------+--------------------+\n",
      "only showing top 10 rows\n",
      "\n"
     ]
    }
   ],
   "source": [
    "// COMMAND ----------\n",
    "\n",
    "// in Scala\n",
    "stationGraph.bfs.fromExpr(\"id = 'Townsend at 7th'\")\n",
    "  .toExpr(\"id = 'Spear at Folsom'\").maxPathLength(2).run().show(10)"
   ]
  },
  {
   "cell_type": "code",
   "execution_count": 36,
   "metadata": {
    "collapsed": true
   },
   "outputs": [],
   "source": [
    "// COMMAND ----------\n",
    "\n",
    "// in Scala\n",
    "spark.sparkContext.setCheckpointDir(\"/tmp/checkpoints\")"
   ]
  },
  {
   "cell_type": "code",
   "execution_count": 37,
   "metadata": {},
   "outputs": [
    {
     "data": {
      "text/plain": [
       "minGraph = GraphFrame(v:[id: string, station_id: string ... 5 more fields], e:[src: string, dst: string ... 9 more fields])\n",
       "cc = [station_id: string, id: string ... 6 more fields]\n"
      ]
     },
     "metadata": {},
     "output_type": "display_data"
    },
    {
     "data": {
      "text/plain": [
       "[station_id: string, id: string ... 6 more fields]"
      ]
     },
     "execution_count": 37,
     "metadata": {},
     "output_type": "execute_result"
    }
   ],
   "source": [
    "// COMMAND ----------\n",
    "\n",
    "// in Scala\n",
    "val minGraph = GraphFrame(stationVertices, tripEdges.sample(false, 0.1))\n",
    "val cc = minGraph.connectedComponents.run()"
   ]
  },
  {
   "cell_type": "code",
   "execution_count": 38,
   "metadata": {},
   "outputs": [
    {
     "name": "stdout",
     "output_type": "stream",
     "text": [
      "+----------+--------------------+---------+-----------+---------+-------------+------------+------------+\n",
      "|station_id|                  id|      lat|       long|dockcount|     landmark|installation|   component|\n",
      "+----------+--------------------+---------+-----------+---------+-------------+------------+------------+\n",
      "|        47|     Post at Kearney|37.788975|-122.403452|       19|San Francisco|   8/19/2013|317827579904|\n",
      "|        46|Washington at Kea...|37.795425|-122.404767|       15|San Francisco|   8/19/2013| 17179869184|\n",
      "+----------+--------------------+---------+-----------+---------+-------------+------------+------------+\n",
      "\n"
     ]
    }
   ],
   "source": [
    "// COMMAND ----------\n",
    "\n",
    "// in Scala\n",
    "cc.where(\"component != 0\").show()"
   ]
  },
  {
   "cell_type": "code",
   "execution_count": 41,
   "metadata": {},
   "outputs": [
    {
     "name": "stdout",
     "output_type": "stream",
     "text": [
      "+------------+-----+\n",
      "|   component|count|\n",
      "+------------+-----+\n",
      "|           0|   68|\n",
      "| 17179869184|    1|\n",
      "|317827579904|    1|\n",
      "+------------+-----+\n",
      "\n"
     ]
    }
   ],
   "source": [
    "cc.groupBy(\"component\").count().show()"
   ]
  },
  {
   "cell_type": "code",
   "execution_count": 39,
   "metadata": {},
   "outputs": [
    {
     "data": {
      "text/plain": [
       "scc = [station_id: string, id: string ... 6 more fields]\n"
      ]
     },
     "metadata": {},
     "output_type": "display_data"
    },
    {
     "data": {
      "text/plain": [
       "[station_id: string, id: string ... 6 more fields]"
      ]
     },
     "execution_count": 39,
     "metadata": {},
     "output_type": "execute_result"
    }
   ],
   "source": [
    "// COMMAND ----------\n",
    "\n",
    "// in Scala\n",
    "val scc = minGraph.stronglyConnectedComponents.maxIter(3).run()"
   ]
  },
  {
   "cell_type": "code",
   "execution_count": 40,
   "metadata": {},
   "outputs": [
    {
     "name": "stdout",
     "output_type": "stream",
     "text": [
      "+------------+-----+\n",
      "|   component|count|\n",
      "+------------+-----+\n",
      "|128849018880|   16|\n",
      "|           0|   52|\n",
      "| 17179869184|    1|\n",
      "|317827579904|    1|\n",
      "+------------+-----+\n",
      "\n"
     ]
    }
   ],
   "source": [
    "// COMMAND ----------\n",
    "\n",
    "scc.groupBy(\"component\").count().show()\n",
    "\n",
    "\n",
    "// COMMAND ----------"
   ]
  },
  {
   "cell_type": "code",
   "execution_count": null,
   "metadata": {
    "collapsed": true
   },
   "outputs": [],
   "source": []
  }
 ],
 "metadata": {
  "kernelspec": {
   "display_name": "Spark - Scala",
   "language": "scala",
   "name": "spark_scala"
  },
  "language_info": {
   "codemirror_mode": "text/x-scala",
   "file_extension": ".scala",
   "mimetype": "text/x-scala",
   "name": "scala",
   "pygments_lexer": "scala",
   "version": "2.11.8"
  }
 },
 "nbformat": 4,
 "nbformat_minor": 2
}
