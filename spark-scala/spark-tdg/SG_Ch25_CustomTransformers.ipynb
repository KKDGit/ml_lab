{
 "cells": [
  {
   "cell_type": "code",
   "execution_count": 1,
   "metadata": {},
   "outputs": [
    {
     "data": {
      "text/plain": [
       "Waiting for a Spark session to start..."
      ]
     },
     "metadata": {},
     "output_type": "display_data"
    },
    {
     "data": {
      "text/html": [
       "<ul>\n",
       "<li><a href=\"Some(http://gw02.itversity.com:4049)\" target=\"new_tab\">Spark UI: application_1533622723243_15481</a></li>\n",
       "</ul>"
      ],
      "text/plain": [
       "Spark application_1533622723243_15481: Some(http://gw02.itversity.com:4049)"
      ]
     },
     "execution_count": 1,
     "metadata": {},
     "output_type": "execute_result"
    }
   ],
   "source": [
    "spark"
   ]
  },
  {
   "cell_type": "code",
   "execution_count": 2,
   "metadata": {},
   "outputs": [
    {
     "data": {
      "text/plain": [
       "Waiting for a Spark session to start..."
      ]
     },
     "metadata": {},
     "output_type": "display_data"
    },
    {
     "name": "stdout",
     "output_type": "stream",
     "text": [
      "http://rm01.itversity.com:19288/proxy/application_1533622723243_15481\n"
     ]
    }
   ],
   "source": [
    "spark.sparkContext.getConf.getAll.foreach(x=>if(x._2.contains(\"/proxy/\")){println(x._2)})"
   ]
  },
  {
   "cell_type": "code",
   "execution_count": 7,
   "metadata": {},
   "outputs": [
    {
     "data": {
      "text/plain": [
       "defined class MyTokenizer\n",
       "defined object MyTokenizer\n"
      ]
     },
     "metadata": {},
     "output_type": "display_data"
    }
   ],
   "source": [
    "import org.apache.spark.ml.UnaryTransformer\n",
    "import org.apache.spark.ml.util.{DefaultParamsReadable, DefaultParamsWritable, Identifiable}\n",
    "import org.apache.spark.sql.types.{ArrayType, StringType, DataType}\n",
    "import org.apache.spark.ml.param.{IntParam, ParamValidators}\n",
    "\n",
    "class MyTokenizer(override val uid: String) \n",
    "    extends UnaryTransformer[String, Seq[String], MyTokenizer] \n",
    "    with DefaultParamsWritable {\n",
    "\n",
    "  def this() = this(Identifiable.randomUID(\"myTokenizer\"))\n",
    "\n",
    "  val maxWords: IntParam = new IntParam(this, \n",
    "                                        \"maxWords\",\n",
    "                                        \"The max number of words to return.\",\n",
    "                                        ParamValidators.gtEq(0))\n",
    "\n",
    "  def setMaxWords(value: Int): this.type = set(maxWords, value)\n",
    "\n",
    "  def getMaxWords: Integer = $(maxWords)\n",
    "\n",
    "  override protected def createTransformFunc: String => Seq[String] = (\n",
    "    inputString: String) => {\n",
    "      inputString.split(\"\\\\s\").take($(maxWords))\n",
    "  }\n",
    "\n",
    "  override protected def validateInputType(inputType: DataType): Unit = {\n",
    "    require(\n",
    "      inputType == StringType, s\"Bad input type: $inputType. Requires String.\")\n",
    "  }\n",
    "\n",
    "  override protected def outputDataType: DataType = new ArrayType(StringType,\n",
    "    true)\n",
    "}\n",
    "// this will allow you to read it back in by using this object.\n",
    "object MyTokenizer extends DefaultParamsReadable[MyTokenizer]"
   ]
  },
  {
   "cell_type": "code",
   "execution_count": 9,
   "metadata": {},
   "outputs": [
    {
     "name": "stdout",
     "output_type": "stream",
     "text": [
      "+----------------------------------+--------------------------------+\n",
      "|someCol                           |myTokenizer_84efc6874d3e__output|\n",
      "+----------------------------------+--------------------------------+\n",
      "|hello world. This text won't show.|[hello, world.]                 |\n",
      "+----------------------------------+--------------------------------+\n",
      "\n"
     ]
    },
    {
     "data": {
      "text/plain": [
       "myT = myTokenizer_84efc6874d3e\n"
      ]
     },
     "metadata": {},
     "output_type": "display_data"
    },
    {
     "data": {
      "text/plain": [
       "myTokenizer_84efc6874d3e"
      ]
     },
     "execution_count": 9,
     "metadata": {},
     "output_type": "execute_result"
    }
   ],
   "source": [
    "// COMMAND ----------\n",
    "\n",
    "val myT = new MyTokenizer().setInputCol(\"someCol\").setMaxWords(2)\n",
    "\n",
    "myT.transform(Seq(\"hello world. This text won't show.\").toDF(\"someCol\")).show(3, false)\n",
    "\n",
    "\n",
    "// COMMAND ----------"
   ]
  },
  {
   "cell_type": "code",
   "execution_count": 10,
   "metadata": {},
   "outputs": [
    {
     "name": "stdout",
     "output_type": "stream",
     "text": [
      "+----------------------------------+--------------------------------+\n",
      "|someCol                           |myTokenizer_60bf7c689a3c__output|\n",
      "+----------------------------------+--------------------------------+\n",
      "|hello world. This text won't show.|[hello, world., This]           |\n",
      "+----------------------------------+--------------------------------+\n",
      "\n"
     ]
    },
    {
     "data": {
      "text/plain": [
       "myT1 = myTokenizer_60bf7c689a3c\n"
      ]
     },
     "metadata": {},
     "output_type": "display_data"
    },
    {
     "data": {
      "text/plain": [
       "myTokenizer_60bf7c689a3c"
      ]
     },
     "execution_count": 10,
     "metadata": {},
     "output_type": "execute_result"
    }
   ],
   "source": [
    "val myT1 = new MyTokenizer().setInputCol(\"someCol\").setMaxWords(3)\n",
    "\n",
    "myT1.transform(Seq(\"hello world. This text won't show.\").toDF(\"someCol\")).show(3, false)\n"
   ]
  },
  {
   "cell_type": "code",
   "execution_count": null,
   "metadata": {
    "collapsed": true
   },
   "outputs": [],
   "source": []
  }
 ],
 "metadata": {
  "kernelspec": {
   "display_name": "Spark - Scala",
   "language": "scala",
   "name": "spark_scala"
  },
  "language_info": {
   "codemirror_mode": "text/x-scala",
   "file_extension": ".scala",
   "mimetype": "text/x-scala",
   "name": "scala",
   "pygments_lexer": "scala",
   "version": "2.11.8"
  }
 },
 "nbformat": 4,
 "nbformat_minor": 2
}
