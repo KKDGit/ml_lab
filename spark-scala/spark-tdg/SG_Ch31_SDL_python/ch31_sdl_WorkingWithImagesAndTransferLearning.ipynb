{
 "cells": [
  {
   "cell_type": "markdown",
   "metadata": {},
   "source": [
    "## Part 1"
   ]
  },
  {
   "cell_type": "code",
   "execution_count": 1,
   "metadata": {
    "collapsed": true
   },
   "outputs": [],
   "source": [
    "import platform,os, sys\n",
    "os_name = platform.system()"
   ]
  },
  {
   "cell_type": "code",
   "execution_count": 2,
   "metadata": {
    "collapsed": true
   },
   "outputs": [],
   "source": [
    "import findspark"
   ]
  },
  {
   "cell_type": "code",
   "execution_count": 3,
   "metadata": {
    "collapsed": true
   },
   "outputs": [],
   "source": [
    "if os_name == \"Windows\":\n",
    "    findspark.init()\n",
    "    img_dir = \"D:/Learn/GitRepos/Spark-The-Definitive-Guide/data/deep-learning-images\"\n",
    "    temp_loc = \"D:/temp/\"\n",
    "    master = \"local[*]\"\n",
    "else:\n",
    "    spark_home = \"/usr/hdp/current/spark2-client\"\n",
    "    findspark.init(spark_home)\n",
    "    hdfs_home = \"/user/\" + os.getenv(\"HOME\").split(\"/\")[2]\n",
    "    img_dir = hdfs_home+\"/dataSets/spark-guide/deep-learning-images/\"\n",
    "    temp_loc = os.getenv(\"HOME\") + \"/temp/\"\n",
    "    master = \"yarn\"\n",
    "   # sys.path.append(os.path.expanduser('hdfs:///user/kranthidr/pythonpath/sparkdl.zip'))\n",
    "    sys.path.append(os.path.expanduser('~/pythonpath/sparkdl.zip'))\n",
    "    sys.path.append(os.path.expanduser('~/pythonpath/tensorframes.zip'))\n",
    "    sys.path.append(os.path.expanduser('~/pythonpath/tensorflow.zip'))\n",
    "    sys.path.append(os.path.expanduser(\"~/.local/lib/python2.7/site-packages\"))\n",
    "    "
   ]
  },
  {
   "cell_type": "code",
   "execution_count": 4,
   "metadata": {},
   "outputs": [
    {
     "data": {
      "text/plain": [
       "['/usr/hdp/current/spark2-client/python',\n",
       " '/usr/hdp/current/spark2-client/python/lib/py4j-0.10.6-src.zip',\n",
       " '',\n",
       " '/usr/lib/python2.7/site-packages/avro-1.7.7-py2.7.egg',\n",
       " '/usr/lib64/python27.zip',\n",
       " '/usr/lib64/python2.7',\n",
       " '/usr/lib64/python2.7/plat-linux2',\n",
       " '/usr/lib64/python2.7/lib-tk',\n",
       " '/usr/lib64/python2.7/lib-old',\n",
       " '/usr/lib64/python2.7/lib-dynload',\n",
       " '/home/kranthidr/.local/lib/python2.7/site-packages',\n",
       " '/usr/lib64/python2.7/site-packages',\n",
       " '/usr/lib64/python2.7/site-packages/gtk-2.0',\n",
       " '/usr/lib/python2.7/site-packages',\n",
       " '/usr/lib/python2.7/site-packages/IPython/extensions',\n",
       " '/home/kranthidr/.ipython',\n",
       " '/home/kranthidr/pythonpath/sparkdl.zip',\n",
       " '/home/kranthidr/pythonpath/tensorframes.zip',\n",
       " '/home/kranthidr/pythonpath/tensorflow.zip',\n",
       " '/home/kranthidr/.local/lib/python2.7/site-packages']"
      ]
     },
     "execution_count": 4,
     "metadata": {},
     "output_type": "execute_result"
    }
   ],
   "source": [
    "sys.path\n",
    "#/home/kranthidr/.local/lib/python2.7/site-packages"
   ]
  },
  {
   "cell_type": "code",
   "execution_count": 5,
   "metadata": {},
   "outputs": [
    {
     "data": {
      "text/plain": [
       "'/usr/hdp/current/spark2-client'"
      ]
     },
     "execution_count": 5,
     "metadata": {},
     "output_type": "execute_result"
    }
   ],
   "source": [
    "findspark.find()"
   ]
  },
  {
   "cell_type": "code",
   "execution_count": 6,
   "metadata": {},
   "outputs": [
    {
     "data": {
      "text/plain": [
       "'/user/kranthidr/dataSets/spark-guide/deep-learning-images/'"
      ]
     },
     "execution_count": 6,
     "metadata": {},
     "output_type": "execute_result"
    }
   ],
   "source": [
    "img_dir"
   ]
  },
  {
   "cell_type": "code",
   "execution_count": 7,
   "metadata": {},
   "outputs": [
    {
     "data": {
      "text/plain": [
       "'/home/kranthidr/temp/'"
      ]
     },
     "execution_count": 7,
     "metadata": {},
     "output_type": "execute_result"
    }
   ],
   "source": [
    "temp_loc"
   ]
  },
  {
   "cell_type": "code",
   "execution_count": 8,
   "metadata": {
    "collapsed": true
   },
   "outputs": [],
   "source": [
    "from pyspark.sql import SparkSession\n",
    "\n",
    "spark = SparkSession.builder.master(\"local[*]\")\\\n",
    ".config(\"spark.driver.memory\", \"2g\")\\\n",
    ".config(\"spark.jars.packages\",\"databricks:spark-deep-learning:1.2.0-spark2.3-s_2.11,databricks:tensorframes:0.5.0-s_2.11\")\\\n",
    ".appName(\"ch31_DeepLearningImgTransLearn\").getOrCreate()\n",
    "\n",
    "# https://mvnrepository.com/artifact/org.tensorflow/tensorflow\n",
    "#'org.tensorflow:tensorflow:jar:1.6.0'\n",
    "\n",
    "#.config(\"spark.jars.packages\",\"databricks:spark-deep-learning:1.2.0-spark2.3-s_2.11,databricks:tensorframes:0.5.0-s_2.11\")\\\n",
    "# .config(\"spark.driver.memory\", \"8g\")\\\n",
    "# .config(\"spark.executor.memory\", \"3g\")\\\n",
    "# .config(\"spark.executor.cores\", \"4\")\\\n",
    "# .config(\"spark.executor.instances\", \"10\")\\\n",
    "\n",
    "\n",
    "#!/usr/bin/env bash\n",
    "\n",
    "# This file is sourced when running various Spark programs.\n",
    "# Copy it as spark-env.sh and edit that to configure Spark for your site.\n",
    "\n",
    "# Options read in YARN client mode\n",
    "#SPARK_EXECUTOR_INSTANCES=\"2\" #Number of workers to start (Default: 2)\n",
    "#SPARK_EXECUTOR_CORES=\"1\" #Number of cores for the workers (Default: 1).\n",
    "#SPARK_EXECUTOR_MEMORY=\"1G\" #Memory per Worker (e.g. 1000M, 2G) (Default: 1G)\n",
    "#SPARK_DRIVER_MEMORY=\"512M\" #Memory for Master (e.g. 1000M, 2G) (Default: 512 Mb)\n",
    "#SPARK_YARN_APP_NAME=\"spark\" #The name of your application (Default: Spark)\n",
    "#SPARK_YARN_QUEUE=\"default\" #The hadoop queue to use for allocation requests (Default: default)\n",
    "#SPARK_YARN_DIST_FILES=\"\" #Comma separated list of files to be distributed with the job.\n",
    "#SPARK_YARN_DIST_ARCHIVES=\"\" #Comma separated list of archives to be distributed with the job."
   ]
  },
  {
   "cell_type": "code",
   "execution_count": 9,
   "metadata": {
    "collapsed": true
   },
   "outputs": [],
   "source": [
    "sc = spark.sparkContext"
   ]
  },
  {
   "cell_type": "code",
   "execution_count": 10,
   "metadata": {
    "collapsed": true
   },
   "outputs": [],
   "source": [
    "for x in sc._conf.getAll():\n",
    "    if \"/proxy/\" in x[1]:\n",
    "        print(x[1])"
   ]
  },
  {
   "cell_type": "code",
   "execution_count": 11,
   "metadata": {},
   "outputs": [
    {
     "data": {
      "text/html": [
       "\n",
       "            <div>\n",
       "                <p><b>SparkSession - in-memory</b></p>\n",
       "                \n",
       "        <div>\n",
       "            <p><b>SparkContext</b></p>\n",
       "\n",
       "            <p><a href=\"http://gw02.itversity.com:4042\">Spark UI</a></p>\n",
       "\n",
       "            <dl>\n",
       "              <dt>Version</dt>\n",
       "                <dd><code>v2.3.0.2.6.5.0-292</code></dd>\n",
       "              <dt>Master</dt>\n",
       "                <dd><code>local[*]</code></dd>\n",
       "              <dt>AppName</dt>\n",
       "                <dd><code>ch31_DeepLearningImgTransLearn</code></dd>\n",
       "            </dl>\n",
       "        </div>\n",
       "        \n",
       "            </div>\n",
       "        "
      ],
      "text/plain": [
       "<pyspark.sql.session.SparkSession at 0x741fd5e17ed0>"
      ]
     },
     "execution_count": 11,
     "metadata": {},
     "output_type": "execute_result"
    }
   ],
   "source": [
    "spark"
   ]
  },
  {
   "cell_type": "code",
   "execution_count": 12,
   "metadata": {},
   "outputs": [
    {
     "name": "stderr",
     "output_type": "stream",
     "text": [
      "/home/kranthidr/.local/lib/python2.7/site-packages/pandas/core/nanops.py:39: UserWarning: The installed version of bottleneck 0.7.0 is not supported in pandas and will be not be used\n",
      "The minimum supported version is 1.0.0\n",
      "\n",
      "  ver=ver, min_ver=_MIN_BOTTLENECK_VERSION), UserWarning)\n",
      "Using TensorFlow backend.\n"
     ]
    }
   ],
   "source": [
    "from sparkdl.image import imageIO\n",
    "from pyspark.ml.image import ImageSchema"
   ]
  },
  {
   "cell_type": "code",
   "execution_count": 13,
   "metadata": {
    "collapsed": true
   },
   "outputs": [],
   "source": [
    "from pyspark.sql.functions import lit\n",
    "from pyspark.sql.functions import expr\n",
    "from pyspark.sql.types import DoubleType\n",
    "from pyspark.sql.functions import udf"
   ]
  },
  {
   "cell_type": "code",
   "execution_count": 14,
   "metadata": {},
   "outputs": [
    {
     "data": {
      "text/plain": [
       "30"
      ]
     },
     "execution_count": 14,
     "metadata": {},
     "output_type": "execute_result"
    }
   ],
   "source": [
    "tulips_df = ImageSchema.readImages(img_dir + \"/tulips\").withColumn(\"label\", lit(1))\n",
    "tulips_df.count()\n",
    "\n",
    "# Signature: ImageSchema.readImages(path, recursive=False, \n",
    "#                                   numPartitions=-1, dropImageFailures=False, \n",
    "#                                   sampleRatio=1.0, seed=0)\n",
    "# Docstring:\n",
    "# Reads the directory of images from the local or remote source.\n",
    "\n",
    "# .. note:: If multiple jobs are run in parallel with different sampleRatio or recursive flag,\n",
    "#     there may be a race condition where one job overwrites the hadoop configs of another.\n",
    "\n",
    "# .. note:: If sample ratio is less than 1, sampling uses a PathFilter that is efficient but\n",
    "#     potentially non-deterministic.\n",
    "\n",
    "# :param str path: Path to the image directory.\n",
    "# :param bool recursive: Recursive search flag.\n",
    "# :param int numPartitions: Number of DataFrame partitions.\n",
    "# :param bool dropImageFailures: Drop the files that are not valid images.\n",
    "# :param float sampleRatio: Fraction of the images loaded.\n",
    "# :param int seed: Random number seed.\n",
    "# :return: a :class:`DataFrame` with a single column of \"images\",\n",
    "#        see ImageSchema for details."
   ]
  },
  {
   "cell_type": "code",
   "execution_count": 15,
   "metadata": {},
   "outputs": [
    {
     "data": {
      "text/plain": [
       "30"
      ]
     },
     "execution_count": 15,
     "metadata": {},
     "output_type": "execute_result"
    }
   ],
   "source": [
    "# In[16]:\n",
    "daisy_df = imageIO.readImagesWithCustomFn(img_dir + \"/daisy\", decode_f=imageIO.PIL_decode).withColumn(\"label\", lit(0))\n",
    "daisy_df.count()\n",
    "\n",
    "# Signature: imageIO.readImagesWithCustomFn(path, decode_f, numPartition=None)\n",
    "# Docstring:\n",
    "# Read a directory of images (or a single image) into a DataFrame using a custom library to\n",
    "# decode the images.\n",
    "\n",
    "# :param path: str, file path.\n",
    "# :param decode_f: function to decode the raw bytes into an array compatible with one of the\n",
    "#     supported OpenCv modes. see @imageIO.PIL_decode for an example."
   ]
  },
  {
   "cell_type": "code",
   "execution_count": 16,
   "metadata": {
    "collapsed": true
   },
   "outputs": [],
   "source": [
    "# In[ ]:\n",
    "tulips_train, tulips_test = tulips_df.randomSplit([0.8, 0.2])\n",
    "daisy_train, daisy_test = daisy_df.randomSplit([0.8, 0.2])"
   ]
  },
  {
   "cell_type": "code",
   "execution_count": 17,
   "metadata": {
    "collapsed": true
   },
   "outputs": [],
   "source": [
    "# In[ ]:\n",
    "train_images_df = tulips_train.unionAll(daisy_train).cache()\n",
    "test_images_df = tulips_test.unionAll(daisy_test).cache()"
   ]
  },
  {
   "cell_type": "code",
   "execution_count": 18,
   "metadata": {},
   "outputs": [
    {
     "name": "stdout",
     "output_type": "stream",
     "text": [
      "47\n",
      "13\n"
     ]
    }
   ],
   "source": [
    "print(train_images_df.count())\n",
    "print(test_images_df.count())"
   ]
  },
  {
   "cell_type": "code",
   "execution_count": 19,
   "metadata": {},
   "outputs": [
    {
     "name": "stdout",
     "output_type": "stream",
     "text": [
      "root\n",
      " |-- image: struct (nullable = true)\n",
      " |    |-- origin: string (nullable = true)\n",
      " |    |-- height: integer (nullable = false)\n",
      " |    |-- width: integer (nullable = false)\n",
      " |    |-- nChannels: integer (nullable = false)\n",
      " |    |-- mode: integer (nullable = false)\n",
      " |    |-- data: binary (nullable = false)\n",
      " |-- label: integer (nullable = false)\n",
      "\n"
     ]
    }
   ],
   "source": [
    "train_images_df.printSchema()"
   ]
  },
  {
   "cell_type": "code",
   "execution_count": 20,
   "metadata": {},
   "outputs": [
    {
     "name": "stdout",
     "output_type": "stream",
     "text": [
      "StructType(List(StructField(image,StructType(List(StructField(origin,StringType,true),StructField(height,IntegerType,false),StructField(width,IntegerType,false),StructField(nChannels,IntegerType,false),StructField(mode,IntegerType,false),StructField(data,BinaryType,false))),true),StructField(label,IntegerType,false)))\n"
     ]
    }
   ],
   "source": [
    "print(train_images_df.schema)"
   ]
  },
  {
   "cell_type": "markdown",
   "metadata": {},
   "source": [
    "## Part 2 "
   ]
  },
  {
   "cell_type": "code",
   "execution_count": 21,
   "metadata": {
    "collapsed": true
   },
   "outputs": [],
   "source": [
    "from pyspark.ml.classification import LogisticRegression\n",
    "from pyspark.ml.evaluation import MulticlassClassificationEvaluator\n",
    "from pyspark.ml import Pipeline"
   ]
  },
  {
   "cell_type": "code",
   "execution_count": 22,
   "metadata": {
    "collapsed": true
   },
   "outputs": [],
   "source": [
    "from sparkdl import DeepImageFeaturizer"
   ]
  },
  {
   "cell_type": "code",
   "execution_count": 23,
   "metadata": {
    "collapsed": true
   },
   "outputs": [],
   "source": [
    "featurizer = DeepImageFeaturizer(inputCol=\"image\", outputCol=\"features\", modelName=\"InceptionV3\")\n",
    "\n",
    "# Init signature: DeepImageFeaturizer(inputCol=None, outputCol=None, \n",
    "#                                     modelName=None, \n",
    "#                                     scaleHint='SCALE_AREA_AVERAGING')\n",
    "# Docstring:     \n",
    "# Applies the model specified by its popular name, with its prediction layer(s) chopped off,\n",
    "# to the image column in DataFrame. The output is a MLlib Vector so that DeepImageFeaturizer\n",
    "# can be used in a MLlib Pipeline.\n",
    "# The input image column should be ImageSchema."
   ]
  },
  {
   "cell_type": "code",
   "execution_count": 24,
   "metadata": {
    "collapsed": true
   },
   "outputs": [],
   "source": [
    "lr = LogisticRegression(maxIter=20, regParam=0.05, elasticNetParam=0.3, labelCol=\"label\")\n",
    "\n",
    "p = Pipeline(stages=[featurizer, lr])\n",
    "\n",
    "model = p.fit(train_images_df)    # train_images_df is a dataset of images and labels"
   ]
  },
  {
   "cell_type": "code",
   "execution_count": 25,
   "metadata": {
    "collapsed": true
   },
   "outputs": [],
   "source": [
    "# Inspect training error\n",
    "fitted_train_df = model.transform(train_images_df.limit(10))"
   ]
  },
  {
   "cell_type": "code",
   "execution_count": 26,
   "metadata": {},
   "outputs": [
    {
     "name": "stdout",
     "output_type": "stream",
     "text": [
      "root\n",
      " |-- image: struct (nullable = true)\n",
      " |    |-- origin: string (nullable = true)\n",
      " |    |-- height: integer (nullable = false)\n",
      " |    |-- width: integer (nullable = false)\n",
      " |    |-- nChannels: integer (nullable = false)\n",
      " |    |-- mode: integer (nullable = false)\n",
      " |    |-- data: binary (nullable = false)\n",
      " |-- label: integer (nullable = false)\n",
      " |-- features: vector (nullable = true)\n",
      " |-- rawPrediction: vector (nullable = true)\n",
      " |-- probability: vector (nullable = true)\n",
      " |-- prediction: double (nullable = false)\n",
      "\n"
     ]
    }
   ],
   "source": [
    "fitted_train_df.printSchema()"
   ]
  },
  {
   "cell_type": "code",
   "execution_count": 27,
   "metadata": {
    "collapsed": true
   },
   "outputs": [],
   "source": [
    "predictionAndLabels = fitted_train_df.select(\"prediction\", \"label\")"
   ]
  },
  {
   "cell_type": "code",
   "execution_count": 28,
   "metadata": {},
   "outputs": [
    {
     "name": "stdout",
     "output_type": "stream",
     "text": [
      "Training set accuracy = 1.0\n"
     ]
    }
   ],
   "source": [
    "evaluator = MulticlassClassificationEvaluator(metricName=\"accuracy\")\n",
    "print(\"Training set accuracy = \" + str(evaluator.evaluate(predictionAndLabels)))"
   ]
  },
  {
   "cell_type": "code",
   "execution_count": 29,
   "metadata": {},
   "outputs": [
    {
     "name": "stdout",
     "output_type": "stream",
     "text": [
      "Test set accuracy = 1.0\n"
     ]
    }
   ],
   "source": [
    "# Inspect testing error\n",
    "fitted_test_df = model.transform(test_images_df.limit(10))\n",
    "predictionAndLabels = fitted_test_df.select(\"prediction\", \"label\")\n",
    "\n",
    "evaluator = MulticlassClassificationEvaluator(metricName=\"accuracy\")\n",
    "print(\"Test set accuracy = \" + str(evaluator.evaluate(predictionAndLabels)))"
   ]
  },
  {
   "cell_type": "code",
   "execution_count": 30,
   "metadata": {},
   "outputs": [
    {
     "name": "stdout",
     "output_type": "stream",
     "text": [
      "root\n",
      " |-- image: struct (nullable = true)\n",
      " |    |-- origin: string (nullable = true)\n",
      " |    |-- height: integer (nullable = false)\n",
      " |    |-- width: integer (nullable = false)\n",
      " |    |-- nChannels: integer (nullable = false)\n",
      " |    |-- mode: integer (nullable = false)\n",
      " |    |-- data: binary (nullable = false)\n",
      " |-- label: integer (nullable = false)\n",
      " |-- features: vector (nullable = true)\n",
      " |-- rawPrediction: vector (nullable = true)\n",
      " |-- probability: vector (nullable = true)\n",
      " |-- prediction: double (nullable = false)\n",
      "\n"
     ]
    }
   ],
   "source": [
    "fitted_test_df.printSchema()"
   ]
  },
  {
   "cell_type": "code",
   "execution_count": 31,
   "metadata": {},
   "outputs": [
    {
     "data": {
      "text/plain": [
       "[Row(probability=DenseVector([0.0174, 0.9826]))]"
      ]
     },
     "execution_count": 31,
     "metadata": {},
     "output_type": "execute_result"
    }
   ],
   "source": [
    "fitted_test_df.select(\"probability\").take(1)"
   ]
  },
  {
   "cell_type": "code",
   "execution_count": 32,
   "metadata": {},
   "outputs": [
    {
     "data": {
      "text/plain": [
       "0.9826166501737116"
      ]
     },
     "execution_count": 32,
     "metadata": {},
     "output_type": "execute_result"
    }
   ],
   "source": [
    "fitted_test_df.select(\"probability\").take(1)[0][0][1]"
   ]
  },
  {
   "cell_type": "code",
   "execution_count": 33,
   "metadata": {
    "collapsed": true
   },
   "outputs": [],
   "source": [
    "# COMMAND ----------\n",
    "def _p11(v):\n",
    "  return float(v[1])\n",
    "\n",
    "p11 = udf(_p11, DoubleType())"
   ]
  },
  {
   "cell_type": "code",
   "execution_count": 34,
   "metadata": {
    "collapsed": true
   },
   "outputs": [],
   "source": [
    "# COMMAND ----------\n",
    "def _p1(v):\n",
    "  return float(v.array[1])\n",
    "\n",
    "p1 = udf(_p1, DoubleType())"
   ]
  },
  {
   "cell_type": "code",
   "execution_count": 35,
   "metadata": {},
   "outputs": [
    {
     "name": "stdout",
     "output_type": "stream",
     "text": [
      "+--------------------+-----+--------------------+--------------------+--------------------+----------+------------------+\n",
      "|               image|label|            features|       rawPrediction|         probability|prediction|               p_1|\n",
      "+--------------------+-----+--------------------+--------------------+--------------------+----------+------------------+\n",
      "|[hdfs://nn01.itve...|    1|[0.0,0.4272569119...|[-4.0347062230499...|[0.01738334982628...|       1.0|0.9826166501737116|\n",
      "|[hdfs://nn01.itve...|    1|[0.0,0.0,0.0,0.0,...|[-3.9517044147499...|[0.01885939804503...|       1.0|0.9811406019549624|\n",
      "|[hdfs://nn01.itve...|    1|[0.0,0.0,2.751705...|[-3.6991019136515...|[0.02414817581778...|       1.0| 0.975851824182212|\n",
      "|[hdfs://nn01.itve...|    1|[0.0,0.3870728909...|[-2.1245066400553...|[0.10673762407765...|       1.0| 0.893262375922349|\n",
      "|[hdfs://nn01.itve...|    1|[0.0,0.0,2.664251...|[-3.7499874029297...|[0.02297765270852...|       1.0|0.9770223472914745|\n",
      "+--------------------+-----+--------------------+--------------------+--------------------+----------+------------------+\n",
      "only showing top 5 rows\n",
      "\n"
     ]
    }
   ],
   "source": [
    "fitted_test_df.withColumn(\"p_1\", p11(fitted_test_df.probability)).show(5)"
   ]
  },
  {
   "cell_type": "code",
   "execution_count": 36,
   "metadata": {
    "collapsed": true
   },
   "outputs": [],
   "source": [
    "df = fitted_test_df.withColumn(\"p_1\", p1(fitted_test_df.probability))"
   ]
  },
  {
   "cell_type": "code",
   "execution_count": 37,
   "metadata": {},
   "outputs": [
    {
     "name": "stdout",
     "output_type": "stream",
     "text": [
      "+--------------------+-----+--------------------+--------------------+--------------------+----------+--------------------+\n",
      "|               image|label|            features|       rawPrediction|         probability|prediction|                 p_1|\n",
      "+--------------------+-----+--------------------+--------------------+--------------------+----------+--------------------+\n",
      "|[hdfs://nn01.itve...|    1|[0.0,0.4272569119...|[-4.0347062230499...|[0.01738334982628...|       1.0|  0.9826166501737116|\n",
      "|[hdfs://nn01.itve...|    1|[0.0,0.0,0.0,0.0,...|[-3.9517044147499...|[0.01885939804503...|       1.0|  0.9811406019549624|\n",
      "|[hdfs://nn01.itve...|    1|[0.0,0.0,2.751705...|[-3.6991019136515...|[0.02414817581778...|       1.0|   0.975851824182212|\n",
      "|[hdfs://nn01.itve...|    1|[0.0,0.3870728909...|[-2.1245066400553...|[0.10673762407765...|       1.0|   0.893262375922349|\n",
      "|[hdfs://nn01.itve...|    1|[0.0,0.0,2.664251...|[-3.7499874029297...|[0.02297765270852...|       1.0|  0.9770223472914745|\n",
      "|[hdfs://nn01.itve...|    1|[0.05437384545803...|[-3.0934721893845...|[0.04337732525674...|       1.0|  0.9566226747432591|\n",
      "|[hdfs://nn01.itve...|    0|[0.0,0.0,0.0,0.41...|[4.68976972030833...|[0.99089486338955...|       0.0|0.009105136610447538|\n",
      "|[hdfs://nn01.itve...|    0|[0.0,0.0,0.108038...|[3.92966145929049...|[0.98072836991087...|       0.0| 0.01927163008912013|\n",
      "|[hdfs://nn01.itve...|    0|[0.0,0.5201152563...|[0.65368643126472...|[0.65784071003978...|       0.0| 0.34215928996021183|\n",
      "|[hdfs://nn01.itve...|    0|[0.60087662935256...|[2.50445830281958...|[0.92445377317046...|       0.0| 0.07554622682953908|\n",
      "+--------------------+-----+--------------------+--------------------+--------------------+----------+--------------------+\n",
      "\n"
     ]
    }
   ],
   "source": [
    "df.show(10)"
   ]
  },
  {
   "cell_type": "code",
   "execution_count": 38,
   "metadata": {
    "collapsed": true
   },
   "outputs": [],
   "source": [
    "wrong_df = df.orderBy(expr(\"abs(p_1 - label)\"), ascending=False)"
   ]
  },
  {
   "cell_type": "code",
   "execution_count": 39,
   "metadata": {},
   "outputs": [
    {
     "name": "stdout",
     "output_type": "stream",
     "text": [
      "+--------------------+-----+--------------------+--------------------+--------------------+----------+--------------------+\n",
      "|               image|label|            features|       rawPrediction|         probability|prediction|                 p_1|\n",
      "+--------------------+-----+--------------------+--------------------+--------------------+----------+--------------------+\n",
      "|[hdfs://nn01.itve...|    0|[0.0,0.5201152563...|[0.65368643126472...|[0.65784071003978...|       0.0| 0.34215928996021183|\n",
      "|[hdfs://nn01.itve...|    1|[0.0,0.3870728909...|[-2.1245066400553...|[0.10673762407765...|       1.0|   0.893262375922349|\n",
      "|[hdfs://nn01.itve...|    0|[0.60087662935256...|[2.50445830281958...|[0.92445377317046...|       0.0| 0.07554622682953908|\n",
      "|[hdfs://nn01.itve...|    1|[0.05437384545803...|[-3.0934721893845...|[0.04337732525674...|       1.0|  0.9566226747432591|\n",
      "|[hdfs://nn01.itve...|    1|[0.0,0.0,2.751705...|[-3.6991019136515...|[0.02414817581778...|       1.0|   0.975851824182212|\n",
      "|[hdfs://nn01.itve...|    1|[0.0,0.0,2.664251...|[-3.7499874029297...|[0.02297765270852...|       1.0|  0.9770223472914745|\n",
      "|[hdfs://nn01.itve...|    0|[0.0,0.0,0.108038...|[3.92966145929049...|[0.98072836991087...|       0.0| 0.01927163008912013|\n",
      "|[hdfs://nn01.itve...|    1|[0.0,0.0,0.0,0.0,...|[-3.9517044147499...|[0.01885939804503...|       1.0|  0.9811406019549624|\n",
      "|[hdfs://nn01.itve...|    1|[0.0,0.4272569119...|[-4.0347062230499...|[0.01738334982628...|       1.0|  0.9826166501737116|\n",
      "|[hdfs://nn01.itve...|    0|[0.0,0.0,0.0,0.41...|[4.68976972030833...|[0.99089486338955...|       0.0|0.009105136610447538|\n",
      "+--------------------+-----+--------------------+--------------------+--------------------+----------+--------------------+\n",
      "\n"
     ]
    }
   ],
   "source": [
    "wrong_df.show(10)"
   ]
  },
  {
   "cell_type": "code",
   "execution_count": 40,
   "metadata": {
    "collapsed": true
   },
   "outputs": [],
   "source": [
    "# COMMAND ----------\n",
    "# img_dir_comb = \"D:\\Learn\\GitRepos\\Spark-The-Definitive-Guide\\data\\deep-learning-images\\Combined30\"\n",
    "# image1_df = imageIO.readImagesWithCustomFn(img_dir_comb, decode_f=imageIO.PIL_decode)\n",
    "# image1_df.count() \n",
    "#Will not recurse through directories"
   ]
  },
  {
   "cell_type": "code",
   "execution_count": 41,
   "metadata": {},
   "outputs": [
    {
     "name": "stdout",
     "output_type": "stream",
     "text": [
      "+--------------------+-----+\n",
      "|               image|label|\n",
      "+--------------------+-----+\n",
      "|[hdfs://nn01.itve...|    1|\n",
      "|[hdfs://nn01.itve...|    1|\n",
      "|[hdfs://nn01.itve...|    1|\n",
      "|[hdfs://nn01.itve...|    1|\n",
      "|[hdfs://nn01.itve...|    1|\n",
      "|[hdfs://nn01.itve...|    1|\n",
      "|[hdfs://nn01.itve...|    1|\n",
      "|[hdfs://nn01.itve...|    1|\n",
      "|[hdfs://nn01.itve...|    1|\n",
      "|[hdfs://nn01.itve...|    1|\n",
      "+--------------------+-----+\n",
      "only showing top 10 rows\n",
      "\n"
     ]
    }
   ],
   "source": [
    "train_images_df.show(10)"
   ]
  },
  {
   "cell_type": "code",
   "execution_count": 42,
   "metadata": {},
   "outputs": [
    {
     "name": "stdout",
     "output_type": "stream",
     "text": [
      "+--------------------+-----+\n",
      "|               image|label|\n",
      "+--------------------+-----+\n",
      "|[hdfs://nn01.itve...|    1|\n",
      "|[hdfs://nn01.itve...|    1|\n",
      "|[hdfs://nn01.itve...|    1|\n",
      "|[hdfs://nn01.itve...|    1|\n",
      "|[hdfs://nn01.itve...|    1|\n",
      "|[hdfs://nn01.itve...|    1|\n",
      "|[hdfs://nn01.itve...|    1|\n",
      "|[hdfs://nn01.itve...|    1|\n",
      "|[hdfs://nn01.itve...|    1|\n",
      "|[hdfs://nn01.itve...|    1|\n",
      "+--------------------+-----+\n",
      "only showing top 10 rows\n",
      "\n"
     ]
    }
   ],
   "source": [
    "train_images_df.show(10)"
   ]
  },
  {
   "cell_type": "code",
   "execution_count": 43,
   "metadata": {
    "collapsed": true
   },
   "outputs": [],
   "source": [
    "image_df = train_images_df.unionAll(test_images_df)"
   ]
  },
  {
   "cell_type": "code",
   "execution_count": 44,
   "metadata": {},
   "outputs": [
    {
     "name": "stdout",
     "output_type": "stream",
     "text": [
      "+--------------------+-----+\n",
      "|               image|label|\n",
      "+--------------------+-----+\n",
      "|[hdfs://nn01.itve...|    1|\n",
      "|[hdfs://nn01.itve...|    1|\n",
      "|[hdfs://nn01.itve...|    1|\n",
      "|[hdfs://nn01.itve...|    1|\n",
      "|[hdfs://nn01.itve...|    1|\n",
      "|[hdfs://nn01.itve...|    1|\n",
      "|[hdfs://nn01.itve...|    1|\n",
      "|[hdfs://nn01.itve...|    1|\n",
      "|[hdfs://nn01.itve...|    1|\n",
      "|[hdfs://nn01.itve...|    1|\n",
      "+--------------------+-----+\n",
      "only showing top 10 rows\n",
      "\n"
     ]
    }
   ],
   "source": [
    "image_df.show(10)"
   ]
  },
  {
   "cell_type": "code",
   "execution_count": 45,
   "metadata": {
    "collapsed": true
   },
   "outputs": [],
   "source": [
    "predictions_transfer_df = model.transform(image_df).cache()"
   ]
  },
  {
   "cell_type": "code",
   "execution_count": 46,
   "metadata": {},
   "outputs": [
    {
     "name": "stdout",
     "output_type": "stream",
     "text": [
      "+--------------------+-----+--------------------+--------------------+--------------------+----------+\n",
      "|               image|label|            features|       rawPrediction|         probability|prediction|\n",
      "+--------------------+-----+--------------------+--------------------+--------------------+----------+\n",
      "|[hdfs://nn01.itve...|    1|[0.0,0.0,0.0,0.0,...|[-3.2850161604833...|[0.03608881550804...|       1.0|\n",
      "|[hdfs://nn01.itve...|    1|[0.0,0.9765790700...|[-4.2179093221610...|[0.01451560059519...|       1.0|\n",
      "|[hdfs://nn01.itve...|    1|[1.43618118762969...|[-3.2848202070215...|[0.03609563264576...|       1.0|\n",
      "|[hdfs://nn01.itve...|    1|[1.04818153381347...|[-3.3858371871075...|[0.03274103154254...|       1.0|\n",
      "|[hdfs://nn01.itve...|    1|[0.0,0.0,0.0,0.0,...|[-3.7595377075086...|[0.02276422536008...|       1.0|\n",
      "+--------------------+-----+--------------------+--------------------+--------------------+----------+\n",
      "only showing top 5 rows\n",
      "\n"
     ]
    }
   ],
   "source": [
    "predictions_transfer_df.show(5)"
   ]
  },
  {
   "cell_type": "code",
   "execution_count": null,
   "metadata": {
    "collapsed": true
   },
   "outputs": [],
   "source": []
  }
 ],
 "metadata": {
  "kernelspec": {
   "display_name": "pyspark2.7_home",
   "language": "python",
   "name": "pyspark2.7_home"
  },
  "language_info": {
   "codemirror_mode": {
    "name": "ipython",
    "version": 2
   },
   "file_extension": ".py",
   "mimetype": "text/x-python",
   "name": "python",
   "nbconvert_exporter": "python",
   "pygments_lexer": "ipython2",
   "version": "2.7.5"
  }
 },
 "nbformat": 4,
 "nbformat_minor": 2
}
