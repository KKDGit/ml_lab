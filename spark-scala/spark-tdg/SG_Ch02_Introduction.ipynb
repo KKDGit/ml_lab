{
 "cells": [
  {
   "cell_type": "code",
   "execution_count": 1,
   "metadata": {},
   "outputs": [
    {
     "data": {
      "text/plain": [
       "Waiting for a Spark session to start..."
      ]
     },
     "metadata": {},
     "output_type": "display_data"
    },
    {
     "data": {
      "text/html": [
       "<ul>\n",
       "<li><a href=\"Some(http://gw02.itversity.com:4048)\" target=\"new_tab\">Spark UI: application_1540458187951_76654</a></li>\n",
       "</ul>"
      ],
      "text/plain": [
       "Spark application_1540458187951_76654: Some(http://gw02.itversity.com:4048)"
      ]
     },
     "execution_count": 1,
     "metadata": {},
     "output_type": "execute_result"
    }
   ],
   "source": [
    "spark"
   ]
  },
  {
   "cell_type": "code",
   "execution_count": 2,
   "metadata": {},
   "outputs": [
    {
     "data": {
      "text/plain": [
       "Waiting for a Spark session to start..."
      ]
     },
     "metadata": {},
     "output_type": "display_data"
    },
    {
     "data": {
      "text/plain": [
       "http://rm01.itversity.com:19288/proxy/application_1540458187951_76654"
      ]
     },
     "execution_count": 2,
     "metadata": {},
     "output_type": "execute_result"
    }
   ],
   "source": [
    "sc.getConf.getAll.filter(_._2.contains(\"/proxy/\"))(0)._2"
   ]
  },
  {
   "cell_type": "code",
   "execution_count": 3,
   "metadata": {},
   "outputs": [
    {
     "name": "stdout",
     "output_type": "stream",
     "text": [
      "(spark.history.kerberos.keytab,none)\n",
      "(spark.dynamicAllocation.maxExecutors,4)\n",
      "(spark.eventLog.enabled,true)\n",
      "(spark.dynamicAllocation.executorIdleTimeout,300)\n",
      "(spark.repl.class.outputDir,/tmp/spark-6b6d5df9-82d1-4ef0-ac63-41ddfb198464/repl-a3c8683a-cc9a-45c2-892a-94cb5cf013fc)\n",
      "(spark.driver.appUIAddress,http://gw02.itversity.com:4048)\n",
      "(spark.history.ui.port,18081)\n",
      "(spark.driver.extraLibraryPath,/usr/hdp/current/hadoop-client/lib/native:/usr/hdp/current/hadoop-client/lib/native/Linux-amd64-64)\n",
      "(spark.app.name,Apache Toree)\n",
      "(spark.executor.extraLibraryPath,/usr/hdp/current/hadoop-client/lib/native:/usr/hdp/current/hadoop-client/lib/native/Linux-amd64-64)\n",
      "(spark.history.provider,org.apache.spark.deploy.history.FsHistoryProvider)\n",
      "(spark.yarn.dist.jars,file:///home/kranthidr/.ivy2/jars/graphframes_graphframes-0.6.0-spark2.3-s_2.11.jar,file:///home/kranthidr/.ivy2/jars/mysql_mysql-connector-java-5.1.6.jar,file:///home/kranthidr/.ivy2/jars/org.xerial_sqlite-jdbc-3.23.1.jar,file:///home/kranthidr/.ivy2/jars/org.mongodb.spark_mongo-spark-connector_2.11-2.3.0.jar,file:///home/kranthidr/.ivy2/jars/com.datastax.spark_spark-cassandra-connector_2.11-2.3.1.jar,file:///home/kranthidr/.ivy2/jars/com.typesafe.scala-logging_scala-logging-api_2.11-2.1.2.jar,file:///home/kranthidr/.ivy2/jars/com.typesafe.scala-logging_scala-logging-slf4j_2.11-2.1.2.jar,file:///home/kranthidr/.ivy2/jars/org.slf4j_slf4j-api-1.7.7.jar,file:///home/kranthidr/.ivy2/jars/org.mongodb_mongo-java-driver-3.8.0.jar,file:///home/kranthidr/.ivy2/jars/commons-beanutils_commons-beanutils-1.9.3.jar,file:///home/kranthidr/.ivy2/jars/joda-time_joda-time-2.3.jar,file:///home/kranthidr/.ivy2/jars/org.joda_joda-convert-1.2.jar,file:///home/kranthidr/.ivy2/jars/io.netty_netty-all-4.0.33.Final.jar,file:///home/kranthidr/.ivy2/jars/com.twitter_jsr166e-1.1.0.jar,file:///home/kranthidr/.ivy2/jars/org.scala-lang_scala-reflect-2.11.8.jar,file:///home/kranthidr/.ivy2/jars/commons-collections_commons-collections-3.2.2.jar)\n",
      "(spark.org.apache.hadoop.yarn.server.webproxy.amfilter.AmIpFilter.param.PROXY_HOSTS,rm01.itversity.com)\n",
      "(spark.submit.deployMode,client)\n",
      "(spark.yarn.secondary.jars,graphframes_graphframes-0.6.0-spark2.3-s_2.11.jar,mysql_mysql-connector-java-5.1.6.jar,org.xerial_sqlite-jdbc-3.23.1.jar,org.mongodb.spark_mongo-spark-connector_2.11-2.3.0.jar,com.datastax.spark_spark-cassandra-connector_2.11-2.3.1.jar,com.typesafe.scala-logging_scala-logging-api_2.11-2.1.2.jar,com.typesafe.scala-logging_scala-logging-slf4j_2.11-2.1.2.jar,org.slf4j_slf4j-api-1.7.7.jar,org.mongodb_mongo-java-driver-3.8.0.jar,commons-beanutils_commons-beanutils-1.9.3.jar,joda-time_joda-time-2.3.jar,org.joda_joda-convert-1.2.jar,io.netty_netty-all-4.0.33.Final.jar,com.twitter_jsr166e-1.1.0.jar,org.scala-lang_scala-reflect-2.11.8.jar,commons-collections_commons-collections-3.2.2.jar)\n",
      "(spark.ui.filters,org.apache.hadoop.yarn.server.webproxy.amfilter.AmIpFilter)\n",
      "(spark.eventLog.dir,hdfs:///spark2-history/)\n",
      "(spark.driver.port,46314)\n",
      "(spark.yarn.historyServer.address,gw03.itversity.com:18081)\n",
      "(spark.shuffle.service.enabled,true)\n",
      "(spark.yarn.queue,default)\n",
      "(spark.executor.id,driver)\n",
      "(spark.driver.host,gw02.itversity.com)\n",
      "(spark.history.fs.logDirectory,hdfs:///spark2-history/)\n",
      "(spark.master,yarn)\n",
      "(spark.history.kerberos.principal,none)\n",
      "(spark.jars,file:/home/kranthidr/.local/share/jupyter/kernels/spark_scala/lib/toree-assembly-0.2.0-incubating.jar)\n",
      "(spark.org.apache.hadoop.yarn.server.webproxy.amfilter.AmIpFilter.param.PROXY_URI_BASES,http://rm01.itversity.com:19288/proxy/application_1540458187951_76654)\n",
      "(spark.repl.class.uri,spark://gw02.itversity.com:46314/classes)\n",
      "(spark.dynamicAllocation.minExecutors,0)\n",
      "(spark.app.id,application_1540458187951_76654)\n",
      "(spark.dynamicAllocation.enabled,true)\n",
      "(spark.repl.local.jars,file:///home/kranthidr/.ivy2/jars/graphframes_graphframes-0.6.0-spark2.3-s_2.11.jar,file:///home/kranthidr/.ivy2/jars/mysql_mysql-connector-java-5.1.6.jar,file:///home/kranthidr/.ivy2/jars/org.xerial_sqlite-jdbc-3.23.1.jar,file:///home/kranthidr/.ivy2/jars/org.mongodb.spark_mongo-spark-connector_2.11-2.3.0.jar,file:///home/kranthidr/.ivy2/jars/com.datastax.spark_spark-cassandra-connector_2.11-2.3.1.jar,file:///home/kranthidr/.ivy2/jars/com.typesafe.scala-logging_scala-logging-api_2.11-2.1.2.jar,file:///home/kranthidr/.ivy2/jars/com.typesafe.scala-logging_scala-logging-slf4j_2.11-2.1.2.jar,file:///home/kranthidr/.ivy2/jars/org.slf4j_slf4j-api-1.7.7.jar,file:///home/kranthidr/.ivy2/jars/org.mongodb_mongo-java-driver-3.8.0.jar,file:///home/kranthidr/.ivy2/jars/commons-beanutils_commons-beanutils-1.9.3.jar,file:///home/kranthidr/.ivy2/jars/joda-time_joda-time-2.3.jar,file:///home/kranthidr/.ivy2/jars/org.joda_joda-convert-1.2.jar,file:///home/kranthidr/.ivy2/jars/io.netty_netty-all-4.0.33.Final.jar,file:///home/kranthidr/.ivy2/jars/com.twitter_jsr166e-1.1.0.jar,file:///home/kranthidr/.ivy2/jars/org.scala-lang_scala-reflect-2.11.8.jar,file:///home/kranthidr/.ivy2/jars/commons-collections_commons-collections-3.2.2.jar)\n",
      "(spark.dynamicAllocation.initialExecutors,0)\n"
     ]
    }
   ],
   "source": [
    "sc.getConf.getAll.foreach(println)"
   ]
  },
  {
   "cell_type": "code",
   "execution_count": 4,
   "metadata": {},
   "outputs": [
    {
     "data": {
      "text/plain": [
       "getType: (o: Any)String\n"
      ]
     },
     "metadata": {},
     "output_type": "display_data"
    }
   ],
   "source": [
    "def getType(o: Any) = o.getClass.getCanonicalName"
   ]
  },
  {
   "cell_type": "code",
   "execution_count": 5,
   "metadata": {},
   "outputs": [
    {
     "data": {
      "text/plain": [
       "org.apache.spark.sql.SparkSession"
      ]
     },
     "execution_count": 5,
     "metadata": {},
     "output_type": "execute_result"
    }
   ],
   "source": [
    "getType(spark)"
   ]
  },
  {
   "cell_type": "code",
   "execution_count": 6,
   "metadata": {},
   "outputs": [
    {
     "data": {
      "text/plain": [
       "org.apache.spark.SparkContext"
      ]
     },
     "execution_count": 6,
     "metadata": {},
     "output_type": "execute_result"
    }
   ],
   "source": [
    "getType(sc)"
   ]
  },
  {
   "cell_type": "code",
   "execution_count": 7,
   "metadata": {},
   "outputs": [
    {
     "data": {
      "text/plain": [
       "os_name = Linux\n",
       "hdfs_home = /user/kranthidr\n"
      ]
     },
     "metadata": {},
     "output_type": "display_data"
    },
    {
     "data": {
      "text/plain": [
       "/user/kranthidr"
      ]
     },
     "execution_count": 7,
     "metadata": {},
     "output_type": "execute_result"
    }
   ],
   "source": [
    "val os_name = System.getProperty(\"os.name\")\n",
    "val hdfs_home = \"/user/\" + System.getenv(\"HOME\").split(\"/\")(2)"
   ]
  },
  {
   "cell_type": "code",
   "execution_count": 8,
   "metadata": {},
   "outputs": [
    {
     "data": {
      "text/plain": [
       "Name: Syntax Error.\n",
       "Message: \n",
       "StackTrace: "
      ]
     },
     "execution_count": 8,
     "metadata": {},
     "output_type": "execute_result"
    }
   ],
   "source": [
    "// import platform,os\n",
    "// os_name = platform.system()\n",
    "// hdfs_home = \"/user/\" + os.getenv(\"HOME\").split(\"/\")[2]\n",
    "// print(hdfs_home)\n",
    "// print(os_name)"
   ]
  },
  {
   "cell_type": "code",
   "execution_count": 9,
   "metadata": {},
   "outputs": [
    {
     "data": {
      "text/plain": [
       "path = /user/kranthidr/dataSets/spark-guide/flight-data/csv/2015-summary.csv\n"
      ]
     },
     "metadata": {},
     "output_type": "display_data"
    },
    {
     "data": {
      "text/plain": [
       "/user/kranthidr/dataSets/spark-guide/flight-data/csv/2015-summary.csv"
      ]
     },
     "execution_count": 9,
     "metadata": {},
     "output_type": "execute_result"
    }
   ],
   "source": [
    "val path = hdfs_home + \"/dataSets/spark-guide/flight-data/csv/2015-summary.csv\""
   ]
  },
  {
   "cell_type": "code",
   "execution_count": 10,
   "metadata": {},
   "outputs": [
    {
     "data": {
      "text/plain": [
       "Name: Syntax Error.\n",
       "Message: \n",
       "StackTrace: "
      ]
     },
     "execution_count": 10,
     "metadata": {},
     "output_type": "execute_result"
    }
   ],
   "source": [
    "// import findspark\n",
    "// findspark.init('/usr/hdp/current/spark2-client')\n",
    "// findspark.find()\n",
    "\n",
    "// import pyspark\n",
    "\n",
    "// from pyspark.sql import SparkSession\n",
    "// spark = SparkSession.builder.master(\"yarn\").appName(\"ch02Introduction\").getOrCreate()"
   ]
  },
  {
   "cell_type": "code",
   "execution_count": 11,
   "metadata": {},
   "outputs": [
    {
     "name": "stdout",
     "output_type": "stream",
     "text": [
      "2.3.0.2.6.5.0-292"
     ]
    }
   ],
   "source": [
    "print(spark.version)"
   ]
  },
  {
   "cell_type": "code",
   "execution_count": 12,
   "metadata": {},
   "outputs": [
    {
     "data": {
      "text/plain": [
       "[(spark.history.kerberos.keytab,none), (spark.dynamicAllocation.maxExecutors,4), (spark.eventLog.enabled,true), (spark.dynamicAllocation.executorIdleTimeout,300), (spark.repl.class.outputDir,/tmp/spark-6b6d5df9-82d1-4ef0-ac63-41ddfb198464/repl-a3c8683a-cc9a-45c2-892a-94cb5cf013fc), (spark.driver.appUIAddress,http://gw02.itversity.com:4048), (spark.history.ui.port,18081), (spark.driver.extraLibraryPath,/usr/hdp/current/hadoop-client/lib/native:/usr/hdp/current/hadoop-client/lib/native/Linux-amd64-64), (spark.app.name,Apache Toree), (spark.executor.extraLibraryPath,/usr/hdp/current/hadoop-client/lib/native:/usr/hdp/current/hadoop-client/lib/native/Linux-amd64-64), (spark.history.provider,org.apache.spark.deploy.history.FsHistoryProvider), (spark.yarn.dist.jars,file:///home/kranthidr/.ivy2/jars/graphframes_graphframes-0.6.0-spark2.3-s_2.11.jar,file:///home/kranthidr/.ivy2/jars/mysql_mysql-connector-java-5.1.6.jar,file:///home/kranthidr/.ivy2/jars/org.xerial_sqlite-jdbc-3.23.1.jar,file:///home/kranthidr/.ivy2/jars/org.mongodb.spark_mongo-spark-connector_2.11-2.3.0.jar,file:///home/kranthidr/.ivy2/jars/com.datastax.spark_spark-cassandra-connector_2.11-2.3.1.jar,file:///home/kranthidr/.ivy2/jars/com.typesafe.scala-logging_scala-logging-api_2.11-2.1.2.jar,file:///home/kranthidr/.ivy2/jars/com.typesafe.scala-logging_scala-logging-slf4j_2.11-2.1.2.jar,file:///home/kranthidr/.ivy2/jars/org.slf4j_slf4j-api-1.7.7.jar,file:///home/kranthidr/.ivy2/jars/org.mongodb_mongo-java-driver-3.8.0.jar,file:///home/kranthidr/.ivy2/jars/commons-beanutils_commons-beanutils-1.9.3.jar,file:///home/kranthidr/.ivy2/jars/joda-time_joda-time-2.3.jar,file:///home/kranthidr/.ivy2/jars/org.joda_joda-convert-1.2.jar,file:///home/kranthidr/.ivy2/jars/io.netty_netty-all-4.0.33.Final.jar,file:///home/kranthidr/.ivy2/jars/com.twitter_jsr166e-1.1.0.jar,file:///home/kranthidr/.ivy2/jars/org.scala-lang_scala-reflect-2.11.8.jar,file:///home/kranthidr/.ivy2/jars/commons-collections_commons-collections-3.2.2.jar), (spark.org.apache.hadoop.yarn.server.webproxy.amfilter.AmIpFilter.param.PROXY_HOSTS,rm01.itversity.com), (spark.submit.deployMode,client), (spark.yarn.secondary.jars,graphframes_graphframes-0.6.0-spark2.3-s_2.11.jar,mysql_mysql-connector-java-5.1.6.jar,org.xerial_sqlite-jdbc-3.23.1.jar,org.mongodb.spark_mongo-spark-connector_2.11-2.3.0.jar,com.datastax.spark_spark-cassandra-connector_2.11-2.3.1.jar,com.typesafe.scala-logging_scala-logging-api_2.11-2.1.2.jar,com.typesafe.scala-logging_scala-logging-slf4j_2.11-2.1.2.jar,org.slf4j_slf4j-api-1.7.7.jar,org.mongodb_mongo-java-driver-3.8.0.jar,commons-beanutils_commons-beanutils-1.9.3.jar,joda-time_joda-time-2.3.jar,org.joda_joda-convert-1.2.jar,io.netty_netty-all-4.0.33.Final.jar,com.twitter_jsr166e-1.1.0.jar,org.scala-lang_scala-reflect-2.11.8.jar,commons-collections_commons-collections-3.2.2.jar), (spark.ui.filters,org.apache.hadoop.yarn.server.webproxy.amfilter.AmIpFilter), (spark.eventLog.dir,hdfs:///spark2-history/), (spark.driver.port,46314), (spark.yarn.historyServer.address,gw03.itversity.com:18081), (spark.shuffle.service.enabled,true), (spark.yarn.queue,default), (spark.executor.id,driver), (spark.driver.host,gw02.itversity.com), (spark.history.fs.logDirectory,hdfs:///spark2-history/), (spark.master,yarn), (spark.history.kerberos.principal,none), (spark.jars,file:/home/kranthidr/.local/share/jupyter/kernels/spark_scala/lib/toree-assembly-0.2.0-incubating.jar), (spark.org.apache.hadoop.yarn.server.webproxy.amfilter.AmIpFilter.param.PROXY_URI_BASES,http://rm01.itversity.com:19288/proxy/application_1540458187951_76654), (spark.repl.class.uri,spark://gw02.itversity.com:46314/classes), (spark.dynamicAllocation.minExecutors,0), (spark.app.id,application_1540458187951_76654), (spark.dynamicAllocation.enabled,true), (spark.repl.local.jars,file:///home/kranthidr/.ivy2/jars/graphframes_graphframes-0.6.0-spark2.3-s_2.11.jar,file:///home/kranthidr/.ivy2/jars/mysql_mysql-connector-java-5.1.6.jar,file:///home/kranthidr/.ivy2/jars/org.xerial_sqlite-jdbc-3.23.1.jar,file:///home/kranthidr/.ivy2/jars/org.mongodb.spark_mongo-spark-connector_2.11-2.3.0.jar,file:///home/kranthidr/.ivy2/jars/com.datastax.spark_spark-cassandra-connector_2.11-2.3.1.jar,file:///home/kranthidr/.ivy2/jars/com.typesafe.scala-logging_scala-logging-api_2.11-2.1.2.jar,file:///home/kranthidr/.ivy2/jars/com.typesafe.scala-logging_scala-logging-slf4j_2.11-2.1.2.jar,file:///home/kranthidr/.ivy2/jars/org.slf4j_slf4j-api-1.7.7.jar,file:///home/kranthidr/.ivy2/jars/org.mongodb_mongo-java-driver-3.8.0.jar,file:///home/kranthidr/.ivy2/jars/commons-beanutils_commons-beanutils-1.9.3.jar,file:///home/kranthidr/.ivy2/jars/joda-time_joda-time-2.3.jar,file:///home/kranthidr/.ivy2/jars/org.joda_joda-convert-1.2.jar,file:///home/kranthidr/.ivy2/jars/io.netty_netty-all-4.0.33.Final.jar,file:///home/kranthidr/.ivy2/jars/com.twitter_jsr166e-1.1.0.jar,file:///home/kranthidr/.ivy2/jars/org.scala-lang_scala-reflect-2.11.8.jar,file:///home/kranthidr/.ivy2/jars/commons-collections_commons-collections-3.2.2.jar), (spark.dynamicAllocation.initialExecutors,0)]"
      ]
     },
     "execution_count": 12,
     "metadata": {},
     "output_type": "execute_result"
    }
   ],
   "source": [
    "sc.getConf.getAll"
   ]
  },
  {
   "cell_type": "code",
   "execution_count": 13,
   "metadata": {},
   "outputs": [
    {
     "data": {
      "text/plain": [
       "Name: Syntax Error.\n",
       "Message: \n",
       "StackTrace: "
      ]
     },
     "execution_count": 13,
     "metadata": {},
     "output_type": "execute_result"
    }
   ],
   "source": [
    "// for x in sc._conf.getAll():\n",
    "//     if 'PROXY' in x[1]:\n",
    "//         print(x[1])\n",
    "\n",
    "// sc._jsc.sc().uiWebUrl().get()"
   ]
  },
  {
   "cell_type": "code",
   "execution_count": 14,
   "metadata": {},
   "outputs": [
    {
     "name": "stdout",
     "output_type": "stream",
     "text": [
      "http://rm01.itversity.com:19288/proxy/application_1540458187951_76654\n"
     ]
    },
    {
     "data": {
      "text/plain": [
       "http://rm01.itversity.com:19288/proxy/application_1540458187951_76654"
      ]
     },
     "execution_count": 14,
     "metadata": {},
     "output_type": "execute_result"
    }
   ],
   "source": [
    "sc.getConf.getAll.foreach(x=>if(x._2.contains(\"/proxy/\")){println(x._2)})\n",
    "sc.getConf.getAll.filter(_._2.contains(\"/proxy/\"))(0)._2"
   ]
  },
  {
   "cell_type": "code",
   "execution_count": 15,
   "metadata": {},
   "outputs": [
    {
     "data": {
      "text/plain": [
       "myRange = [number: bigint]\n"
      ]
     },
     "metadata": {},
     "output_type": "display_data"
    },
    {
     "data": {
      "text/plain": [
       "[number: bigint]"
      ]
     },
     "execution_count": 15,
     "metadata": {},
     "output_type": "execute_result"
    }
   ],
   "source": [
    "val myRange = spark.range(1000).toDF(\"number\")"
   ]
  },
  {
   "cell_type": "code",
   "execution_count": 16,
   "metadata": {},
   "outputs": [
    {
     "name": "stdout",
     "output_type": "stream",
     "text": [
      "+------+\n",
      "|number|\n",
      "+------+\n",
      "|     0|\n",
      "|     1|\n",
      "|     2|\n",
      "|     3|\n",
      "|     4|\n",
      "+------+\n",
      "only showing top 5 rows\n",
      "\n"
     ]
    }
   ],
   "source": [
    "myRange.show(5)"
   ]
  },
  {
   "cell_type": "code",
   "execution_count": 17,
   "metadata": {},
   "outputs": [
    {
     "data": {
      "text/plain": [
       "org.apache.spark.sql.Dataset"
      ]
     },
     "execution_count": 17,
     "metadata": {},
     "output_type": "execute_result"
    }
   ],
   "source": [
    "getType(myRange)"
   ]
  },
  {
   "cell_type": "code",
   "execution_count": 18,
   "metadata": {},
   "outputs": [
    {
     "data": {
      "text/plain": [
       "org.apache.spark.sql.Dataset"
      ]
     },
     "execution_count": 18,
     "metadata": {},
     "output_type": "execute_result"
    }
   ],
   "source": [
    "myRange.getClass.getName"
   ]
  },
  {
   "cell_type": "code",
   "execution_count": 19,
   "metadata": {},
   "outputs": [
    {
     "data": {
      "text/html": [
       "<table>\n",
       "<tr><td>0</td></tr>\n",
       "<tr><td>1</td></tr>\n",
       "<tr><td>2</td></tr>\n",
       "</table>"
      ],
      "text/plain": [
       "+-----+\n",
       "| 0   |\n",
       "| 1   |\n",
       "| 2   |\n",
       "+-----+"
      ]
     },
     "execution_count": 19,
     "metadata": {},
     "output_type": "execute_result"
    }
   ],
   "source": [
    "myRange.take(3)"
   ]
  },
  {
   "cell_type": "code",
   "execution_count": 20,
   "metadata": {},
   "outputs": [
    {
     "data": {
      "text/plain": [
       "org.apache.spark.sql.Row[]"
      ]
     },
     "execution_count": 20,
     "metadata": {},
     "output_type": "execute_result"
    }
   ],
   "source": [
    "getType(myRange.take(3))"
   ]
  },
  {
   "cell_type": "code",
   "execution_count": 21,
   "metadata": {},
   "outputs": [
    {
     "data": {
      "text/plain": [
       "org.apache.spark.sql.catalyst.expressions.GenericRowWithSchema"
      ]
     },
     "execution_count": 21,
     "metadata": {},
     "output_type": "execute_result"
    }
   ],
   "source": [
    "getType(myRange.take(3)(0))"
   ]
  },
  {
   "cell_type": "code",
   "execution_count": 22,
   "metadata": {},
   "outputs": [
    {
     "data": {
      "text/plain": [
       "1000"
      ]
     },
     "execution_count": 22,
     "metadata": {},
     "output_type": "execute_result"
    }
   ],
   "source": [
    "myRange.count()"
   ]
  },
  {
   "cell_type": "code",
   "execution_count": 23,
   "metadata": {},
   "outputs": [
    {
     "data": {
      "text/plain": [
       "divisBy2 = [number: bigint]\n"
      ]
     },
     "metadata": {},
     "output_type": "display_data"
    },
    {
     "data": {
      "text/plain": [
       "[number: bigint]"
      ]
     },
     "execution_count": 23,
     "metadata": {},
     "output_type": "execute_result"
    }
   ],
   "source": [
    "val divisBy2 = myRange.where(\"number%2 = 0\") //both = and == works"
   ]
  },
  {
   "cell_type": "code",
   "execution_count": 24,
   "metadata": {},
   "outputs": [
    {
     "name": "stdout",
     "output_type": "stream",
     "text": [
      "+------+\n",
      "|number|\n",
      "+------+\n",
      "|     0|\n",
      "|     2|\n",
      "|     4|\n",
      "|     6|\n",
      "|     8|\n",
      "+------+\n",
      "only showing top 5 rows\n",
      "\n"
     ]
    }
   ],
   "source": [
    "divisBy2.show(5)"
   ]
  },
  {
   "cell_type": "code",
   "execution_count": 25,
   "metadata": {
    "collapsed": true
   },
   "outputs": [],
   "source": [
    "import sys.process._"
   ]
  },
  {
   "cell_type": "code",
   "execution_count": 26,
   "metadata": {},
   "outputs": [
    {
     "name": "stdout",
     "output_type": "stream",
     "text": [
      "/home/kranthidr/projects/ml_lab/spark-scala/spark-tdg\n"
     ]
    },
    {
     "data": {
      "text/plain": [
       "warning: there was one feature warning; re-run with -feature for details\n"
      ]
     },
     "metadata": {},
     "output_type": "display_data"
    },
    {
     "data": {
      "text/plain": [
       "0"
      ]
     },
     "execution_count": 26,
     "metadata": {},
     "output_type": "execute_result"
    }
   ],
   "source": [
    "\"pwd\" !"
   ]
  },
  {
   "cell_type": "code",
   "execution_count": 27,
   "metadata": {},
   "outputs": [
    {
     "data": {
      "text/plain": [
       "flightData2015 = [DEST_COUNTRY_NAME: string, ORIGIN_COUNTRY_NAME: string ... 1 more field]\n"
      ]
     },
     "metadata": {},
     "output_type": "display_data"
    },
    {
     "data": {
      "text/plain": [
       "[DEST_COUNTRY_NAME: string, ORIGIN_COUNTRY_NAME: string ... 1 more field]"
      ]
     },
     "execution_count": 27,
     "metadata": {},
     "output_type": "execute_result"
    }
   ],
   "source": [
    "val flightData2015 = spark.read.option(\"inferSchema\", true)\n",
    "                .option(\"header\", true)\n",
    "                .csv(path)"
   ]
  },
  {
   "cell_type": "code",
   "execution_count": 28,
   "metadata": {},
   "outputs": [
    {
     "data": {
      "text/plain": [
       "org.apache.spark.sql.Dataset"
      ]
     },
     "execution_count": 28,
     "metadata": {},
     "output_type": "execute_result"
    }
   ],
   "source": [
    "getType(flightData2015)"
   ]
  },
  {
   "cell_type": "code",
   "execution_count": 29,
   "metadata": {},
   "outputs": [
    {
     "data": {
      "text/plain": [
       "org.apache.spark.sql.Row[]"
      ]
     },
     "execution_count": 29,
     "metadata": {},
     "output_type": "execute_result"
    }
   ],
   "source": [
    "getType(flightData2015.take(1))"
   ]
  },
  {
   "cell_type": "code",
   "execution_count": 30,
   "metadata": {},
   "outputs": [
    {
     "data": {
      "text/plain": [
       "[Lorg.apache.spark.sql.Row;"
      ]
     },
     "execution_count": 30,
     "metadata": {},
     "output_type": "execute_result"
    }
   ],
   "source": [
    "flightData2015.take(1).getClass.getName"
   ]
  },
  {
   "cell_type": "code",
   "execution_count": 31,
   "metadata": {},
   "outputs": [
    {
     "data": {
      "text/html": [
       "<table>\n",
       "<tr><td>United States</td><td>Romania</td><td>15</td></tr>\n",
       "<tr><td>United States</td><td>Croatia</td><td>1</td></tr>\n",
       "<tr><td>United States</td><td>Ireland</td><td>344</td></tr>\n",
       "</table>"
      ],
      "text/plain": [
       "+---------------+---------+-----+\n",
       "| United States | Romania | 15  |\n",
       "| United States | Croatia | 1   |\n",
       "| United States | Ireland | 344 |\n",
       "+---------------+---------+-----+"
      ]
     },
     "execution_count": 31,
     "metadata": {},
     "output_type": "execute_result"
    }
   ],
   "source": [
    "flightData2015.take(3)"
   ]
  },
  {
   "cell_type": "code",
   "execution_count": 32,
   "metadata": {},
   "outputs": [
    {
     "data": {
      "text/plain": [
       "org.apache.spark.sql.catalyst.expressions.GenericRowWithSchema"
      ]
     },
     "execution_count": 32,
     "metadata": {},
     "output_type": "execute_result"
    }
   ],
   "source": [
    "getType(flightData2015.take(1)(0))"
   ]
  },
  {
   "cell_type": "code",
   "execution_count": 33,
   "metadata": {},
   "outputs": [
    {
     "name": "stdout",
     "output_type": "stream",
     "text": [
      "root\n",
      " |-- DEST_COUNTRY_NAME: string (nullable = true)\n",
      " |-- ORIGIN_COUNTRY_NAME: string (nullable = true)\n",
      " |-- count: integer (nullable = true)\n",
      "\n"
     ]
    }
   ],
   "source": [
    "flightData2015.printSchema"
   ]
  },
  {
   "cell_type": "code",
   "execution_count": 34,
   "metadata": {},
   "outputs": [
    {
     "data": {
      "text/plain": [
       "StructType(StructField(DEST_COUNTRY_NAME,StringType,true), StructField(ORIGIN_COUNTRY_NAME,StringType,true), StructField(count,IntegerType,true))"
      ]
     },
     "execution_count": 34,
     "metadata": {},
     "output_type": "execute_result"
    }
   ],
   "source": [
    "flightData2015.schema"
   ]
  },
  {
   "cell_type": "code",
   "execution_count": 35,
   "metadata": {},
   "outputs": [
    {
     "data": {
      "text/plain": [
       "[DEST_COUNTRY_NAME, ORIGIN_COUNTRY_NAME, count]"
      ]
     },
     "execution_count": 35,
     "metadata": {},
     "output_type": "execute_result"
    }
   ],
   "source": [
    "flightData2015.columns"
   ]
  },
  {
   "cell_type": "code",
   "execution_count": 36,
   "metadata": {},
   "outputs": [
    {
     "name": "stdout",
     "output_type": "stream",
     "text": [
      "+--------------------+-------------------+-----+\n",
      "|   DEST_COUNTRY_NAME|ORIGIN_COUNTRY_NAME|count|\n",
      "+--------------------+-------------------+-----+\n",
      "|               Malta|      United States|    1|\n",
      "|Saint Vincent and...|      United States|    1|\n",
      "|       United States|            Croatia|    1|\n",
      "|       United States|          Gibraltar|    1|\n",
      "|       United States|          Singapore|    1|\n",
      "+--------------------+-------------------+-----+\n",
      "only showing top 5 rows\n",
      "\n"
     ]
    }
   ],
   "source": [
    "flightData2015.sort(\"count\").show(5)"
   ]
  },
  {
   "cell_type": "code",
   "execution_count": 37,
   "metadata": {},
   "outputs": [
    {
     "name": "stdout",
     "output_type": "stream",
     "text": [
      "+-----------------+-------------------+------+\n",
      "|DEST_COUNTRY_NAME|ORIGIN_COUNTRY_NAME| count|\n",
      "+-----------------+-------------------+------+\n",
      "|    United States|      United States|370002|\n",
      "|    United States|             Canada|  8483|\n",
      "|           Canada|      United States|  8399|\n",
      "|    United States|             Mexico|  7187|\n",
      "|           Mexico|      United States|  7140|\n",
      "+-----------------+-------------------+------+\n",
      "only showing top 5 rows\n",
      "\n"
     ]
    }
   ],
   "source": [
    "import org.apache.spark.sql.functions.desc\n",
    "flightData2015.sort(desc(\"count\")).show(5)"
   ]
  },
  {
   "cell_type": "code",
   "execution_count": 38,
   "metadata": {
    "scrolled": true
   },
   "outputs": [
    {
     "name": "stdout",
     "output_type": "stream",
     "text": [
      "== Physical Plan ==\n",
      "*(2) Sort [count#37 ASC NULLS FIRST], true, 0\n",
      "+- Exchange rangepartitioning(count#37 ASC NULLS FIRST, 200)\n",
      "   +- *(1) FileScan csv [DEST_COUNTRY_NAME#35,ORIGIN_COUNTRY_NAME#36,count#37] Batched: false, Format: CSV, Location: InMemoryFileIndex[hdfs://nn01.itversity.com:8020/user/kranthidr/dataSets/spark-guide/flight-data/..., PartitionFilters: [], PushedFilters: [], ReadSchema: struct<DEST_COUNTRY_NAME:string,ORIGIN_COUNTRY_NAME:string,count:int>\n"
     ]
    }
   ],
   "source": [
    "flightData2015.sort(\"count\").explain()"
   ]
  },
  {
   "cell_type": "code",
   "execution_count": 39,
   "metadata": {},
   "outputs": [
    {
     "data": {
      "text/html": [
       "<table>\n",
       "<tr><td>United States</td><td>United States</td><td>370002</td></tr>\n",
       "<tr><td>United States</td><td>Canada</td><td>8483</td></tr>\n",
       "</table>"
      ],
      "text/plain": [
       "+---------------+---------------+--------+\n",
       "| United States | United States | 370002 |\n",
       "| United States | Canada        | 8483   |\n",
       "+---------------+---------------+--------+"
      ]
     },
     "execution_count": 39,
     "metadata": {},
     "output_type": "execute_result"
    }
   ],
   "source": [
    "spark.conf.set(\"spark.sql.shuffle.partitions\", \"5\")\n",
    "flightData2015.sort(desc(\"count\")).take(2)"
   ]
  },
  {
   "cell_type": "code",
   "execution_count": 40,
   "metadata": {},
   "outputs": [
    {
     "name": "stdout",
     "output_type": "stream",
     "text": [
      "== Physical Plan ==\n",
      "*(2) Sort [count#37 ASC NULLS FIRST], true, 0\n",
      "+- Exchange rangepartitioning(count#37 ASC NULLS FIRST, 5)\n",
      "   +- *(1) FileScan csv [DEST_COUNTRY_NAME#35,ORIGIN_COUNTRY_NAME#36,count#37] Batched: false, Format: CSV, Location: InMemoryFileIndex[hdfs://nn01.itversity.com:8020/user/kranthidr/dataSets/spark-guide/flight-data/..., PartitionFilters: [], PushedFilters: [], ReadSchema: struct<DEST_COUNTRY_NAME:string,ORIGIN_COUNTRY_NAME:string,count:int>\n"
     ]
    }
   ],
   "source": [
    "flightData2015.sort(\"count\").explain()"
   ]
  },
  {
   "cell_type": "code",
   "execution_count": 41,
   "metadata": {},
   "outputs": [
    {
     "data": {
      "text/plain": [
       "http://rm01.itversity.com:19288/proxy/application_1540458187951_76654"
      ]
     },
     "execution_count": 41,
     "metadata": {},
     "output_type": "execute_result"
    }
   ],
   "source": [
    "spark.conf.get(\"spark.org.apache.hadoop.yarn.server.webproxy.amfilter.AmIpFilter.param.PROXY_URI_BASES\")"
   ]
  },
  {
   "cell_type": "code",
   "execution_count": 42,
   "metadata": {},
   "outputs": [
    {
     "data": {
      "text/plain": [
       "http://gw02.itversity.com:4048"
      ]
     },
     "execution_count": 42,
     "metadata": {},
     "output_type": "execute_result"
    }
   ],
   "source": [
    "spark.conf.get(\"spark.driver.appUIAddress\")"
   ]
  },
  {
   "cell_type": "code",
   "execution_count": 43,
   "metadata": {
    "collapsed": true
   },
   "outputs": [],
   "source": [
    "flightData2015.createOrReplaceTempView(\"flight_data_2015\")"
   ]
  },
  {
   "cell_type": "code",
   "execution_count": 44,
   "metadata": {},
   "outputs": [
    {
     "data": {
      "text/plain": [
       "sqlWay = [DEST_COUNTRY_NAME: string, count(1): bigint]\n"
      ]
     },
     "metadata": {},
     "output_type": "display_data"
    },
    {
     "data": {
      "text/plain": [
       "[DEST_COUNTRY_NAME: string, count(1): bigint]"
      ]
     },
     "execution_count": 44,
     "metadata": {},
     "output_type": "execute_result"
    }
   ],
   "source": [
    "val sqlWay = spark.sql(\"\"\"\n",
    "SELECT DEST_COUNTRY_NAME, COUNT(1) \n",
    "FROM flight_data_2015\n",
    "GROUP BY DEST_COUNTRY_NAME\"\"\")"
   ]
  },
  {
   "cell_type": "code",
   "execution_count": 45,
   "metadata": {},
   "outputs": [
    {
     "data": {
      "text/plain": [
       "dataFrameWay = [DEST_COUNTRY_NAME: string, count: bigint]\n"
      ]
     },
     "metadata": {},
     "output_type": "display_data"
    },
    {
     "data": {
      "text/plain": [
       "[DEST_COUNTRY_NAME: string, count: bigint]"
      ]
     },
     "execution_count": 45,
     "metadata": {},
     "output_type": "execute_result"
    }
   ],
   "source": [
    "val dataFrameWay = flightData2015.groupBy(\"DEST_COUNTRY_NAME\").count().orderBy(desc(\"count\"))"
   ]
  },
  {
   "cell_type": "code",
   "execution_count": 46,
   "metadata": {},
   "outputs": [
    {
     "name": "stdout",
     "output_type": "stream",
     "text": [
      "== Physical Plan ==\n",
      "*(2) HashAggregate(keys=[DEST_COUNTRY_NAME#35], functions=[count(1)])\n",
      "+- Exchange hashpartitioning(DEST_COUNTRY_NAME#35, 5)\n",
      "   +- *(1) HashAggregate(keys=[DEST_COUNTRY_NAME#35], functions=[partial_count(1)])\n",
      "      +- *(1) FileScan csv [DEST_COUNTRY_NAME#35] Batched: false, Format: CSV, Location: InMemoryFileIndex[hdfs://nn01.itversity.com:8020/user/kranthidr/dataSets/spark-guide/flight-data/..., PartitionFilters: [], PushedFilters: [], ReadSchema: struct<DEST_COUNTRY_NAME:string>\n"
     ]
    }
   ],
   "source": [
    "sqlWay.explain()"
   ]
  },
  {
   "cell_type": "code",
   "execution_count": 47,
   "metadata": {},
   "outputs": [
    {
     "name": "stdout",
     "output_type": "stream",
     "text": [
      "== Physical Plan ==\n",
      "*(3) Sort [count#105L DESC NULLS LAST], true, 0\n",
      "+- Exchange rangepartitioning(count#105L DESC NULLS LAST, 5)\n",
      "   +- *(2) HashAggregate(keys=[DEST_COUNTRY_NAME#35], functions=[count(1)])\n",
      "      +- Exchange hashpartitioning(DEST_COUNTRY_NAME#35, 5)\n",
      "         +- *(1) HashAggregate(keys=[DEST_COUNTRY_NAME#35], functions=[partial_count(1)])\n",
      "            +- *(1) FileScan csv [DEST_COUNTRY_NAME#35] Batched: false, Format: CSV, Location: InMemoryFileIndex[hdfs://nn01.itversity.com:8020/user/kranthidr/dataSets/spark-guide/flight-data/..., PartitionFilters: [], PushedFilters: [], ReadSchema: struct<DEST_COUNTRY_NAME:string>\n"
     ]
    }
   ],
   "source": [
    "dataFrameWay.explain()"
   ]
  },
  {
   "cell_type": "code",
   "execution_count": 48,
   "metadata": {},
   "outputs": [
    {
     "name": "stdout",
     "output_type": "stream",
     "text": [
      "+--------------------+--------+\n",
      "|   DEST_COUNTRY_NAME|count(1)|\n",
      "+--------------------+--------+\n",
      "|             Moldova|       1|\n",
      "|             Bolivia|       1|\n",
      "|             Algeria|       1|\n",
      "|Turks and Caicos ...|       1|\n",
      "|            Pakistan|       1|\n",
      "+--------------------+--------+\n",
      "only showing top 5 rows\n",
      "\n",
      "+--------------------+-----+\n",
      "|   DEST_COUNTRY_NAME|count|\n",
      "+--------------------+-----+\n",
      "|       United States|  125|\n",
      "|    Marshall Islands|    1|\n",
      "|             Bolivia|    1|\n",
      "|             Algeria|    1|\n",
      "|Turks and Caicos ...|    1|\n",
      "+--------------------+-----+\n",
      "only showing top 5 rows\n",
      "\n"
     ]
    }
   ],
   "source": [
    "sqlWay.show(5)\n",
    "dataFrameWay.show(5)"
   ]
  },
  {
   "cell_type": "code",
   "execution_count": 49,
   "metadata": {},
   "outputs": [
    {
     "name": "stdout",
     "output_type": "stream",
     "text": [
      "+----------+\n",
      "|max(count)|\n",
      "+----------+\n",
      "|    370002|\n",
      "+----------+\n",
      "\n"
     ]
    }
   ],
   "source": [
    "spark.sql(\"SELECT max(count) FROM flight_data_2015\").show()"
   ]
  },
  {
   "cell_type": "code",
   "execution_count": 50,
   "metadata": {},
   "outputs": [
    {
     "name": "stdout",
     "output_type": "stream",
     "text": [
      "+----------+\n",
      "|max(count)|\n",
      "+----------+\n",
      "|    370002|\n",
      "+----------+\n",
      "\n"
     ]
    }
   ],
   "source": [
    "import org.apache.spark.sql.functions.max\n",
    "flightData2015.select(max(\"count\")).show()"
   ]
  },
  {
   "cell_type": "code",
   "execution_count": 51,
   "metadata": {},
   "outputs": [
    {
     "data": {
      "text/plain": [
       "maxSql = [DEST_COUNTRY_NAME: string, destination_total: bigint]\n"
      ]
     },
     "metadata": {},
     "output_type": "display_data"
    },
    {
     "data": {
      "text/plain": [
       "[DEST_COUNTRY_NAME: string, destination_total: bigint]"
      ]
     },
     "execution_count": 51,
     "metadata": {},
     "output_type": "execute_result"
    }
   ],
   "source": [
    "val maxSql = spark.sql(\"\"\"\n",
    "SELECT DEST_COUNTRY_NAME, SUM(count) AS destination_total\n",
    "FROM flight_data_2015\n",
    "GROUP BY DEST_COUNTRY_NAME\n",
    "ORDER BY destination_total DESC\n",
    "LIMIT 5\"\"\")"
   ]
  },
  {
   "cell_type": "code",
   "execution_count": 52,
   "metadata": {},
   "outputs": [
    {
     "data": {
      "text/plain": [
       "maxDataFrame = [DEST_COUNTRY_NAME: string, destination_total: bigint]\n"
      ]
     },
     "metadata": {},
     "output_type": "display_data"
    },
    {
     "data": {
      "text/plain": [
       "[DEST_COUNTRY_NAME: string, destination_total: bigint]"
      ]
     },
     "execution_count": 52,
     "metadata": {},
     "output_type": "execute_result"
    }
   ],
   "source": [
    "val maxDataFrame = flightData2015.groupBy(\"DEST_COUNTRY_NAME\").sum(\"count\")\n",
    ".withColumnRenamed(\"sum(count)\", \"destination_total\")\n",
    ".sort(desc(\"destination_total\"))\n",
    ".limit(5)"
   ]
  },
  {
   "cell_type": "code",
   "execution_count": 53,
   "metadata": {},
   "outputs": [
    {
     "name": "stdout",
     "output_type": "stream",
     "text": [
      "== Physical Plan ==\n",
      "TakeOrderedAndProject(limit=5, orderBy=[destination_total#159L DESC NULLS LAST], output=[DEST_COUNTRY_NAME#35,destination_total#159L])\n",
      "+- *(2) HashAggregate(keys=[DEST_COUNTRY_NAME#35], functions=[sum(cast(count#37 as bigint))])\n",
      "   +- Exchange hashpartitioning(DEST_COUNTRY_NAME#35, 5)\n",
      "      +- *(1) HashAggregate(keys=[DEST_COUNTRY_NAME#35], functions=[partial_sum(cast(count#37 as bigint))])\n",
      "         +- *(1) FileScan csv [DEST_COUNTRY_NAME#35,count#37] Batched: false, Format: CSV, Location: InMemoryFileIndex[hdfs://nn01.itversity.com:8020/user/kranthidr/dataSets/spark-guide/flight-data/..., PartitionFilters: [], PushedFilters: [], ReadSchema: struct<DEST_COUNTRY_NAME:string,count:int>\n"
     ]
    }
   ],
   "source": [
    "maxSql.explain()"
   ]
  },
  {
   "cell_type": "code",
   "execution_count": 54,
   "metadata": {},
   "outputs": [
    {
     "name": "stdout",
     "output_type": "stream",
     "text": [
      "== Physical Plan ==\n",
      "TakeOrderedAndProject(limit=5, orderBy=[destination_total#171L DESC NULLS LAST], output=[DEST_COUNTRY_NAME#35,destination_total#171L])\n",
      "+- *(2) HashAggregate(keys=[DEST_COUNTRY_NAME#35], functions=[sum(cast(count#37 as bigint))])\n",
      "   +- Exchange hashpartitioning(DEST_COUNTRY_NAME#35, 5)\n",
      "      +- *(1) HashAggregate(keys=[DEST_COUNTRY_NAME#35], functions=[partial_sum(cast(count#37 as bigint))])\n",
      "         +- *(1) FileScan csv [DEST_COUNTRY_NAME#35,count#37] Batched: false, Format: CSV, Location: InMemoryFileIndex[hdfs://nn01.itversity.com:8020/user/kranthidr/dataSets/spark-guide/flight-data/..., PartitionFilters: [], PushedFilters: [], ReadSchema: struct<DEST_COUNTRY_NAME:string,count:int>\n"
     ]
    }
   ],
   "source": [
    "maxDataFrame.explain()"
   ]
  },
  {
   "cell_type": "code",
   "execution_count": 55,
   "metadata": {},
   "outputs": [
    {
     "name": "stdout",
     "output_type": "stream",
     "text": [
      "+-----------------+-----------------+\n",
      "|DEST_COUNTRY_NAME|destination_total|\n",
      "+-----------------+-----------------+\n",
      "|    United States|           411352|\n",
      "|           Canada|             8399|\n",
      "|           Mexico|             7140|\n",
      "|   United Kingdom|             2025|\n",
      "|            Japan|             1548|\n",
      "+-----------------+-----------------+\n",
      "\n"
     ]
    }
   ],
   "source": [
    "maxSql.show(5)"
   ]
  },
  {
   "cell_type": "code",
   "execution_count": 56,
   "metadata": {},
   "outputs": [
    {
     "name": "stdout",
     "output_type": "stream",
     "text": [
      "+-----------------+-----------------+\n",
      "|DEST_COUNTRY_NAME|destination_total|\n",
      "+-----------------+-----------------+\n",
      "|    United States|           411352|\n",
      "|           Canada|             8399|\n",
      "|           Mexico|             7140|\n",
      "|   United Kingdom|             2025|\n",
      "|            Japan|             1548|\n",
      "+-----------------+-----------------+\n",
      "\n"
     ]
    }
   ],
   "source": [
    "maxDataFrame.show(5)"
   ]
  }
 ],
 "metadata": {
  "kernelspec": {
   "display_name": "Spark - Scala",
   "language": "scala",
   "name": "spark_scala"
  },
  "language_info": {
   "codemirror_mode": "text/x-scala",
   "file_extension": ".scala",
   "mimetype": "text/x-scala",
   "name": "scala",
   "pygments_lexer": "scala",
   "version": "2.11.8"
  },
  "toc": {
   "base_numbering": 1,
   "nav_menu": {},
   "number_sections": true,
   "sideBar": true,
   "skip_h1_title": false,
   "title_cell": "Table of Contents",
   "title_sidebar": "Contents",
   "toc_cell": false,
   "toc_position": {},
   "toc_section_display": true,
   "toc_window_display": false
  }
 },
 "nbformat": 4,
 "nbformat_minor": 2
}
