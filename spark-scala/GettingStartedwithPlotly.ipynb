{
 "cells": [
  {
   "cell_type": "code",
   "execution_count": 1,
   "metadata": {},
   "outputs": [
    {
     "data": {
      "text/plain": [
       "Name: Syntax Error.\n",
       "Message: \n",
       "StackTrace: "
      ]
     },
     "execution_count": 1,
     "metadata": {},
     "output_type": "execute_result"
    }
   ],
   "source": [
    "//%addjar http://central.maven.org/maven2/co/theasi/plotly_2.11/0.2.0/plotly_2.11-0.2.0.jar -- NOT WORKING 'NoClassFoundError'"
   ]
  },
  {
   "cell_type": "code",
   "execution_count": 2,
   "metadata": {},
   "outputs": [
    {
     "data": {
      "text/plain": [
       "Name: Syntax Error.\n",
       "Message: \n",
       "StackTrace: "
      ]
     },
     "execution_count": 2,
     "metadata": {},
     "output_type": "execute_result"
    }
   ],
   "source": [
    "//https://mvnrepository.com/artifact/co.theasi/plotly\n",
    "// co.theasi:plotly_2.10:jar:0.1"
   ]
  },
  {
   "cell_type": "code",
   "execution_count": 3,
   "metadata": {},
   "outputs": [
    {
     "name": "stdout",
     "output_type": "stream",
     "text": [
      "Marking co.theasi:plotly_2.11:0.2.0 for download\n",
      "Preparing to fetch from:\n",
      "-> file:/tmp/toree-tmp-dir783639986249888037/toree_add_deps/\n",
      "-> https://repo1.maven.org/maven2\n",
      "-> New file at /tmp/toree-tmp-dir783639986249888037/toree_add_deps/https/repo1.maven.org/maven2/org/json4s/json4s-scalap_2.11/3.3.0/json4s-scalap_2.11-3.3.0.jar\n",
      "-> New file at /tmp/toree-tmp-dir783639986249888037/toree_add_deps/https/repo1.maven.org/maven2/co/theasi/plotly_2.11/0.2.0/plotly_2.11-0.2.0.jar\n",
      "-> New file at /tmp/toree-tmp-dir783639986249888037/toree_add_deps/https/repo1.maven.org/maven2/org/json4s/json4s-ast_2.11/3.3.0/json4s-ast_2.11-3.3.0.jar\n",
      "-> New file at /tmp/toree-tmp-dir783639986249888037/toree_add_deps/https/repo1.maven.org/maven2/org/json4s/json4s-core_2.11/3.3.0/json4s-core_2.11-3.3.0.jar\n",
      "-> New file at /tmp/toree-tmp-dir783639986249888037/toree_add_deps/https/repo1.maven.org/maven2/com/thoughtworks/paranamer/paranamer/2.8/paranamer-2.8.jar\n",
      "-> New file at /tmp/toree-tmp-dir783639986249888037/toree_add_deps/https/repo1.maven.org/maven2/org/scalaj/scalaj-http_2.11/2.2.1/scalaj-http_2.11-2.2.1.jar\n",
      "-> New file at /tmp/toree-tmp-dir783639986249888037/toree_add_deps/https/repo1.maven.org/maven2/org/json4s/json4s-native_2.11/3.3.0/json4s-native_2.11-3.3.0.jar\n",
      "-> New file at /tmp/toree-tmp-dir783639986249888037/toree_add_deps/https/repo1.maven.org/maven2/com/thoughtworks/paranamer/paranamer/2.8/paranamer-2.8.pom\n",
      "-> New file at /tmp/toree-tmp-dir783639986249888037/toree_add_deps/https/repo1.maven.org/maven2/org/json4s/json4s-ast_2.11/3.3.0/json4s-ast_2.11-3.3.0.pom\n",
      "-> New file at /tmp/toree-tmp-dir783639986249888037/toree_add_deps/https/repo1.maven.org/maven2/org/scalaj/scalaj-http_2.11/2.2.1/scalaj-http_2.11-2.2.1.pom\n",
      "-> New file at /tmp/toree-tmp-dir783639986249888037/toree_add_deps/https/repo1.maven.org/maven2/org/json4s/json4s-native_2.11/3.3.0/json4s-native_2.11-3.3.0.pom\n",
      "-> New file at /tmp/toree-tmp-dir783639986249888037/toree_add_deps/https/repo1.maven.org/maven2/org/json4s/json4s-scalap_2.11/3.3.0/json4s-scalap_2.11-3.3.0.pom\n",
      "-> New file at /tmp/toree-tmp-dir783639986249888037/toree_add_deps/https/repo1.maven.org/maven2/org/json4s/json4s-core_2.11/3.3.0/json4s-core_2.11-3.3.0.pom\n",
      "-> New file at /tmp/toree-tmp-dir783639986249888037/toree_add_deps/https/repo1.maven.org/maven2/co/theasi/plotly_2.11/0.2.0/plotly_2.11-0.2.0.pom\n"
     ]
    },
    {
     "data": {
      "text/plain": [
       "Waiting for a Spark session to start..."
      ]
     },
     "metadata": {},
     "output_type": "display_data"
    },
    {
     "data": {
      "text/plain": [
       "Waiting for a Spark session to start..."
      ]
     },
     "metadata": {},
     "output_type": "display_data"
    }
   ],
   "source": [
    "//https://mvnrepository.com/artifact/co.theasi/plotly\n",
    "%AddDeps co.theasi plotly_2.11 0.2.0 --transitive"
   ]
  },
  {
   "cell_type": "code",
   "execution_count": 4,
   "metadata": {
    "collapsed": true
   },
   "outputs": [],
   "source": [
    "import co.theasi.plotly._"
   ]
  },
  {
   "cell_type": "code",
   "execution_count": 5,
   "metadata": {},
   "outputs": [
    {
     "data": {
      "text/plain": [
       "xs = NumericRange(0.0, 0.1, 0.2, 0.30000000000000004, 0.4, 0.5, 0.6, 0.7, 0.7999999999999999, 0.8999999999999999, 0.9999999999999999, 1.0999999999999999, 1.2, 1.3, 1.4000000000000001, 1.5000000000000002, 1.6000000000000003, 1.7000000000000004, 1.8000000000000005, 1.9000000000000006, 2.0000000000000004)\n",
       "ys = Vector(0.0, 0.010000000000000002, 0.04000000000000001, 0.09000000000000002, 0.16000000000000003, 0.25, 0.36, 0.48999999999999994, 0.6399999999999999, 0.8099999999999998, 0.9999999999999998, 1.2099999999999997, 1.44, 1.6900000000000002, 1.9600000000000004, 2.250000000000001, 2.560000000000001, 2.8900000000000015, 3.2400000000000015, 3.610000000000002, 4.000000000000002)\n"
      ]
     },
     "metadata": {},
     "output_type": "display_data"
    },
    {
     "data": {
      "text/plain": [
       "plot: co.theasi.plot...\n"
      ]
     },
     "metadata": {},
     "output_type": "display_data"
    },
    {
     "data": {
      "text/plain": [
       "Vector(0.0, 0.010000000000000002, 0.04000000000000001, 0.09000000000000002, 0.16000000000000003, 0.25, 0.36, 0.48999999999999994, 0.6399999999999999, 0.8099999999999998, 0.9999999999999998, 1.2099999999999997, 1.44, 1.6900000000000002, 1.9600000000000004, 2.250000000000001, 2.560000000000001, 2.8900000000000015, 3.2400000000000015, 3.610000000000002, 4.000000000000002)"
      ]
     },
     "execution_count": 5,
     "metadata": {},
     "output_type": "execute_result"
    }
   ],
   "source": [
    "val xs = (0.0 to 2.0 by 0.1)\n",
    "val ys = xs.map { x => x*x }\n",
    "\n",
    "val plot = Plot().withScatter(xs, ys)\n",
    "\n",
    "draw(plot, \"my-first-plot\")"
   ]
  },
  {
   "cell_type": "code",
   "execution_count": null,
   "metadata": {
    "collapsed": true
   },
   "outputs": [],
   "source": []
  }
 ],
 "metadata": {
  "kernelspec": {
   "display_name": "Spark - Scala",
   "language": "scala",
   "name": "spark_scala"
  },
  "language_info": {
   "codemirror_mode": "text/x-scala",
   "file_extension": ".scala",
   "mimetype": "text/x-scala",
   "name": "scala",
   "pygments_lexer": "scala",
   "version": "2.11.8"
  }
 },
 "nbformat": 4,
 "nbformat_minor": 2
}
