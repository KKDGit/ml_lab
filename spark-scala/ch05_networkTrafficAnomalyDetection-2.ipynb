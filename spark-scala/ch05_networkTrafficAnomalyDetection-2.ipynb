{
 "cells": [
  {
   "cell_type": "code",
   "execution_count": 1,
   "metadata": {},
   "outputs": [
    {
     "data": {
      "text/plain": [
       "Waiting for a Spark session to start..."
      ]
     },
     "metadata": {},
     "output_type": "display_data"
    },
    {
     "data": {
      "text/html": [
       "<ul>\n",
       "<li><a href=\"Some(http://gw02.itversity.com:4051)\" target=\"new_tab\">Spark UI: application_1533622723243_6549</a></li>\n",
       "</ul>"
      ],
      "text/plain": [
       "Spark application_1533622723243_6549: Some(http://gw02.itversity.com:4051)"
      ]
     },
     "execution_count": 1,
     "metadata": {},
     "output_type": "execute_result"
    }
   ],
   "source": [
    "spark"
   ]
  },
  {
   "cell_type": "code",
   "execution_count": 2,
   "metadata": {
    "collapsed": true
   },
   "outputs": [],
   "source": [
    "import org.apache.spark.ml.feature.{OneHotEncoder, StringIndexer, VectorAssembler, StandardScaler}\n",
    "import org.apache.spark.ml.clustering.{KMeans, KMeansModel}\n",
    "import org.apache.spark.ml.Pipeline\n",
    "\n",
    "import util.Random"
   ]
  },
  {
   "cell_type": "code",
   "execution_count": 3,
   "metadata": {},
   "outputs": [
    {
     "data": {
      "text/plain": [
       "Waiting for a Spark session to start..."
      ]
     },
     "metadata": {},
     "output_type": "display_data"
    },
    {
     "data": {
      "text/plain": [
       "dataWithoutHeader = [_c0: int, _c1: string ... 40 more fields]\n"
      ]
     },
     "metadata": {},
     "output_type": "display_data"
    },
    {
     "data": {
      "text/plain": [
       "[_c0: int, _c1: string ... 40 more fields]"
      ]
     },
     "execution_count": 3,
     "metadata": {},
     "output_type": "execute_result"
    }
   ],
   "source": [
    "val dataWithoutHeader = spark.read.option(\"inferSchema\", \"true\").csv(\"hdfs:///user/kranthidr/dataSets/KDDCup1999DataSet\")"
   ]
  },
  {
   "cell_type": "code",
   "execution_count": 4,
   "metadata": {},
   "outputs": [
    {
     "data": {
      "text/html": [
       "<table>\n",
       "<tr><td>0</td><td>tcp</td><td>http</td><td>SF</td><td>215</td><td>45076</td><td>0</td><td>0</td><td>0</td><td>0</td><td>0</td><td>1</td><td>0</td><td>0</td><td>0</td><td>0</td><td>0</td><td>0</td><td>0</td><td>0</td><td>0</td><td>0</td><td>1</td><td>1</td><td>0.0</td><td>0.0</td><td>0.0</td><td>0.0</td><td>1.0</td><td>0.0</td><td>0.0</td><td>0</td><td>0</td><td>0.0</td><td>0.0</td><td>0.0</td><td>0.0</td><td>0.0</td><td>0.0</td><td>0.0</td><td>0.0</td><td>normal.</td></tr>\n",
       "<tr><td>0</td><td>tcp</td><td>http</td><td>SF</td><td>162</td><td>4528</td><td>0</td><td>0</td><td>0</td><td>0</td><td>0</td><td>1</td><td>0</td><td>0</td><td>0</td><td>0</td><td>0</td><td>0</td><td>0</td><td>0</td><td>0</td><td>0</td><td>2</td><td>2</td><td>0.0</td><td>0.0</td><td>0.0</td><td>0.0</td><td>1.0</td><td>0.0</td><td>0.0</td><td>1</td><td>1</td><td>1.0</td><td>0.0</td><td>1.0</td><td>0.0</td><td>0.0</td><td>0.0</td><td>0.0</td><td>0.0</td><td>normal.</td></tr>\n",
       "<tr><td>0</td><td>tcp</td><td>http</td><td>SF</td><td>236</td><td>1228</td><td>0</td><td>0</td><td>0</td><td>0</td><td>0</td><td>1</td><td>0</td><td>0</td><td>0</td><td>0</td><td>0</td><td>0</td><td>0</td><td>0</td><td>0</td><td>0</td><td>1</td><td>1</td><td>0.0</td><td>0.0</td><td>0.0</td><td>0.0</td><td>1.0</td><td>0.0</td><td>0.0</td><td>2</td><td>2</td><td>1.0</td><td>0.0</td><td>0.5</td><td>0.0</td><td>0.0</td><td>0.0</td><td>0.0</td><td>0.0</td><td>normal.</td></tr>\n",
       "</table>"
      ],
      "text/plain": [
       "+-----+-----+------+-----+-----+-------+-----+-----+-----+-----+-----+-----+-----+-----+-----+-----+-----+-----+-----+-----+-----+-----+-----+-----+-----+-----+-----+-----+-----+-----+-----+-----+-----+-----+-----+-----+-----+-----+-----+-----+-----+---------+\n",
       "| 0   | tcp | http | SF  | 215 | 45076 | 0   | 0   | 0   | 0   | 0   | 1   | 0   | 0   | 0   | 0   | 0   | 0   | 0   | 0   | 0   | 0   | 1   | 1   | 0.0 | 0.0 | 0.0 | 0.0 | 1.0 | 0.0 | 0.0 | 0   | 0   | 0.0 | 0.0 | 0.0 | 0.0 | 0.0 | 0.0 | 0.0 | 0.0 | normal. |\n",
       "| 0   | tcp | http | SF  | 162 | 4528  | 0   | 0   | 0   | 0   | 0   | 1   | 0   | 0   | 0   | 0   | 0   | 0   | 0   | 0   | 0   | 0   | 2   | 2   | 0.0 | 0.0 | 0.0 | 0.0 | 1.0 | 0.0 | 0.0 | 1   | 1   | 1.0 | 0.0 | 1.0 | 0.0 | 0.0 | 0.0 | 0.0 | 0.0 | normal. |\n",
       "| 0   | tcp | http | SF  | 236 | 1228  | 0   | 0   | 0   | 0   | 0   | 1   | 0   | 0   | 0   | 0   | 0   | 0   | 0   | 0   | 0   | 0   | 1   | 1   | 0.0 | 0.0 | 0.0 | 0.0 | 1.0 | 0.0 | 0.0 | 2   | 2   | 1.0 | 0.0 | 0.5 | 0.0 | 0.0 | 0.0 | 0.0 | 0.0 | normal. |\n",
       "+-----+-----+------+-----+-----+-------+-----+-----+-----+-----+-----+-----+-----+-----+-----+-----+-----+-----+-----+-----+-----+-----+-----+-----+-----+-----+-----+-----+-----+-----+-----+-----+-----+-----+-----+-----+-----+-----+-----+-----+-----+---------+"
      ]
     },
     "execution_count": 4,
     "metadata": {},
     "output_type": "execute_result"
    }
   ],
   "source": [
    "dataWithoutHeader.take(3)"
   ]
  },
  {
   "cell_type": "code",
   "execution_count": 5,
   "metadata": {},
   "outputs": [
    {
     "name": "stdout",
     "output_type": "stream",
     "text": [
      "root\n",
      " |-- _c0: integer (nullable = true)\n",
      " |-- _c1: string (nullable = true)\n",
      " |-- _c2: string (nullable = true)\n",
      " |-- _c3: string (nullable = true)\n",
      " |-- _c4: integer (nullable = true)\n",
      " |-- _c5: integer (nullable = true)\n",
      " |-- _c6: integer (nullable = true)\n",
      " |-- _c7: integer (nullable = true)\n",
      " |-- _c8: integer (nullable = true)\n",
      " |-- _c9: integer (nullable = true)\n",
      " |-- _c10: integer (nullable = true)\n",
      " |-- _c11: integer (nullable = true)\n",
      " |-- _c12: integer (nullable = true)\n",
      " |-- _c13: integer (nullable = true)\n",
      " |-- _c14: integer (nullable = true)\n",
      " |-- _c15: integer (nullable = true)\n",
      " |-- _c16: integer (nullable = true)\n",
      " |-- _c17: integer (nullable = true)\n",
      " |-- _c18: integer (nullable = true)\n",
      " |-- _c19: integer (nullable = true)\n",
      " |-- _c20: integer (nullable = true)\n",
      " |-- _c21: integer (nullable = true)\n",
      " |-- _c22: integer (nullable = true)\n",
      " |-- _c23: integer (nullable = true)\n",
      " |-- _c24: double (nullable = true)\n",
      " |-- _c25: double (nullable = true)\n",
      " |-- _c26: double (nullable = true)\n",
      " |-- _c27: double (nullable = true)\n",
      " |-- _c28: double (nullable = true)\n",
      " |-- _c29: double (nullable = true)\n",
      " |-- _c30: double (nullable = true)\n",
      " |-- _c31: integer (nullable = true)\n",
      " |-- _c32: integer (nullable = true)\n",
      " |-- _c33: double (nullable = true)\n",
      " |-- _c34: double (nullable = true)\n",
      " |-- _c35: double (nullable = true)\n",
      " |-- _c36: double (nullable = true)\n",
      " |-- _c37: double (nullable = true)\n",
      " |-- _c38: double (nullable = true)\n",
      " |-- _c39: double (nullable = true)\n",
      " |-- _c40: double (nullable = true)\n",
      " |-- _c41: string (nullable = true)\n",
      "\n"
     ]
    }
   ],
   "source": [
    "dataWithoutHeader.printSchema()"
   ]
  },
  {
   "cell_type": "code",
   "execution_count": 6,
   "metadata": {},
   "outputs": [
    {
     "data": {
      "text/plain": [
       "data = [duration: int, protocol_type: string ... 40 more fields]\n"
      ]
     },
     "metadata": {},
     "output_type": "display_data"
    },
    {
     "data": {
      "text/plain": [
       "[duration: int, protocol_type: string ... 40 more fields]"
      ]
     },
     "execution_count": 6,
     "metadata": {},
     "output_type": "execute_result"
    }
   ],
   "source": [
    "val data = dataWithoutHeader.toDF(\n",
    "        \"duration\", \"protocol_type\", \"service\", \"flag\",\n",
    "        \"src_bytes\", \"dst_bytes\", \"land\", \"wrong_fragment\", \"urgent\",\n",
    "        \"hot\", \"num_failed_logins\", \"logged_in\", \"num_compromised\",\n",
    "        \"root_shell\", \"su_attempted\", \"num_root\", \"num_file_creations\",\n",
    "        \"num_shells\", \"num_access_files\", \"num_outbound_cmds\",\n",
    "        \"is_host_login\", \"is_guest_login\", \"count\", \"srv_count\",\n",
    "        \"serror_rate\", \"srv_serror_rate\", \"rerror_rate\", \"srv_rerror_rate\",\n",
    "        \"same_srv_rate\", \"diff_srv_rate\", \"srv_diff_host_rate\",\n",
    "        \"dst_host_count\", \"dst_host_srv_count\",\n",
    "        \"dst_host_same_srv_rate\", \"dst_host_diff_srv_rate\",\n",
    "        \"dst_host_same_src_port_rate\", \"dst_host_srv_diff_host_rate\",\n",
    "        \"dst_host_serror_rate\", \"dst_host_srv_serror_rate\",\n",
    "        \"dst_host_rerror_rate\", \"dst_host_srv_rerror_rate\",\n",
    "        \"label\").cache()"
   ]
  },
  {
   "cell_type": "code",
   "execution_count": 7,
   "metadata": {},
   "outputs": [
    {
     "name": "stdout",
     "output_type": "stream",
     "text": [
      "root\n",
      " |-- duration: integer (nullable = true)\n",
      " |-- protocol_type: string (nullable = true)\n",
      " |-- service: string (nullable = true)\n",
      " |-- flag: string (nullable = true)\n",
      " |-- src_bytes: integer (nullable = true)\n",
      " |-- dst_bytes: integer (nullable = true)\n",
      " |-- land: integer (nullable = true)\n",
      " |-- wrong_fragment: integer (nullable = true)\n",
      " |-- urgent: integer (nullable = true)\n",
      " |-- hot: integer (nullable = true)\n",
      " |-- num_failed_logins: integer (nullable = true)\n",
      " |-- logged_in: integer (nullable = true)\n",
      " |-- num_compromised: integer (nullable = true)\n",
      " |-- root_shell: integer (nullable = true)\n",
      " |-- su_attempted: integer (nullable = true)\n",
      " |-- num_root: integer (nullable = true)\n",
      " |-- num_file_creations: integer (nullable = true)\n",
      " |-- num_shells: integer (nullable = true)\n",
      " |-- num_access_files: integer (nullable = true)\n",
      " |-- num_outbound_cmds: integer (nullable = true)\n",
      " |-- is_host_login: integer (nullable = true)\n",
      " |-- is_guest_login: integer (nullable = true)\n",
      " |-- count: integer (nullable = true)\n",
      " |-- srv_count: integer (nullable = true)\n",
      " |-- serror_rate: double (nullable = true)\n",
      " |-- srv_serror_rate: double (nullable = true)\n",
      " |-- rerror_rate: double (nullable = true)\n",
      " |-- srv_rerror_rate: double (nullable = true)\n",
      " |-- same_srv_rate: double (nullable = true)\n",
      " |-- diff_srv_rate: double (nullable = true)\n",
      " |-- srv_diff_host_rate: double (nullable = true)\n",
      " |-- dst_host_count: integer (nullable = true)\n",
      " |-- dst_host_srv_count: integer (nullable = true)\n",
      " |-- dst_host_same_srv_rate: double (nullable = true)\n",
      " |-- dst_host_diff_srv_rate: double (nullable = true)\n",
      " |-- dst_host_same_src_port_rate: double (nullable = true)\n",
      " |-- dst_host_srv_diff_host_rate: double (nullable = true)\n",
      " |-- dst_host_serror_rate: double (nullable = true)\n",
      " |-- dst_host_srv_serror_rate: double (nullable = true)\n",
      " |-- dst_host_rerror_rate: double (nullable = true)\n",
      " |-- dst_host_srv_rerror_rate: double (nullable = true)\n",
      " |-- label: string (nullable = true)\n",
      "\n"
     ]
    }
   ],
   "source": [
    "data.printSchema()"
   ]
  },
  {
   "cell_type": "code",
   "execution_count": 8,
   "metadata": {},
   "outputs": [
    {
     "data": {
      "text/plain": [
       "cat_columns = Array(protocol_type, service, flag)\n",
       "indexers = Array(strIdx_ca7e563d7d03, strIdx_0ec04a997e80, strIdx_2e24545cdc74)\n",
       "encoders = Array(oneHot_c1b88428618b, oneHot_b35c216b8c22, oneHot_80f711d05a05)\n"
      ]
     },
     "metadata": {},
     "output_type": "display_data"
    },
    {
     "data": {
      "text/plain": [
       "warning: there were two deprecation warnings; re-run with -deprecation for details\n"
      ]
     },
     "metadata": {},
     "output_type": "display_data"
    },
    {
     "data": {
      "text/plain": [
       "[oneHot_c1b88428618b, oneHot_b35c216b8c22, oneHot_80f711d05a05]"
      ]
     },
     "execution_count": 8,
     "metadata": {},
     "output_type": "execute_result"
    }
   ],
   "source": [
    "val cat_columns = Array(\"protocol_type\", \"service\", \"flag\")\n",
    "var indexers:Array[StringIndexer] = Array()\n",
    "for (column <- cat_columns) {\n",
    "    val index = new StringIndexer().setInputCol(column).setOutputCol(column + \"_indexed\")\n",
    "    indexers = indexers :+ index\n",
    "}\n",
    "var encoders:Array[OneHotEncoder] = Array()\n",
    "for (column <- cat_columns) {\n",
    "    val encoder = new OneHotEncoder().setInputCol(column + \"_indexed\").setOutputCol(column + \"_encoded\")\n",
    "    encoders = encoders :+ encoder\n",
    "}"
   ]
  },
  {
   "cell_type": "code",
   "execution_count": 9,
   "metadata": {},
   "outputs": [
    {
     "data": {
      "text/plain": [
       "[strIdx_ca7e563d7d03, strIdx_0ec04a997e80, strIdx_2e24545cdc74]"
      ]
     },
     "execution_count": 9,
     "metadata": {},
     "output_type": "execute_result"
    }
   ],
   "source": [
    "indexers"
   ]
  },
  {
   "cell_type": "code",
   "execution_count": 10,
   "metadata": {},
   "outputs": [
    {
     "data": {
      "text/plain": [
       "[oneHot_c1b88428618b, oneHot_b35c216b8c22, oneHot_80f711d05a05]"
      ]
     },
     "execution_count": 10,
     "metadata": {},
     "output_type": "execute_result"
    }
   ],
   "source": [
    "encoders"
   ]
  },
  {
   "cell_type": "code",
   "execution_count": 11,
   "metadata": {},
   "outputs": [
    {
     "data": {
      "text/plain": [
       "assembleCols = Set(num_file_creations, root_shell, duration, dst_host_same_srv_rate, dst_host_srv_count, count, dst_host_srv_rerror_rate, land, urgent, serror_rate, src_bytes, logged_in, num_failed_logins, num_shells, su_attempted, is_guest_login, srv_serror_rate, diff_srv_rate, num_outbound_cmds, num_root, num_access_files, dst_host_count, dst_host_rerror_rate, dst_host_srv_serror_rate, dst_host_serror_rate, srv_count, dst_bytes, same_srv_rate, dst_host_diff_srv_rate, hot, rerror_rate, is_host_login, dst_host_srv_diff_host_rate, dst_host_same_src_port_rate, srv_rerror_rate, wrong_fragment, num_compromised, srv_diff_host_rate)\n"
      ]
     },
     "metadata": {},
     "output_type": "display_data"
    },
    {
     "data": {
      "text/plain": [
       "Set(num_file_creations, root_shell, duration, dst_host_same_srv_rate, dst_host_srv_count, count, dst_host_srv_rerror_rate, land, urgent, serror_rate, src_bytes, logged_in, num_failed_logins, num_shells, su_attempted, is_guest_login, srv_serror_rate, diff_srv_rate, num_outbound_cmds, num_root, num_access_files, dst_host_count, dst_host_rerror_rate, dst_host_srv_serror_rate, dst_host_serror_rate, srv_count, dst_bytes, same_srv_rate, dst_host_diff_srv_rate, hot, rerror_rate, is_host_login, dst_host_srv_diff_host_rate, dst_host_same_src_port_rate, srv_rerror_rate, wrong_fragment, num_compromised, srv_diff_host_rate)"
      ]
     },
     "execution_count": 11,
     "metadata": {},
     "output_type": "execute_result"
    }
   ],
   "source": [
    "val assembleCols = Set(data.columns: _*) --\n",
    "      Seq(\"label\", \"protocol_type\", \"service\", \"flag\")--\n",
    "      Seq(\"protocol_type_indexed\", \"service_indexed\", \"flag_indexed\")\n",
    "    "
   ]
  },
  {
   "cell_type": "code",
   "execution_count": 12,
   "metadata": {},
   "outputs": [
    {
     "data": {
      "text/plain": [
       "assembler = vecAssembler_ec78db96d9d0\n",
       "scalar = stdScal_cf9fd3c1e9e0\n",
       "kmeans = kmeans_b0684fbb52b9\n"
      ]
     },
     "metadata": {},
     "output_type": "display_data"
    },
    {
     "data": {
      "text/plain": [
       "kmeans_b0684fbb52b9"
      ]
     },
     "execution_count": 12,
     "metadata": {},
     "output_type": "execute_result"
    }
   ],
   "source": [
    " val assembler = new VectorAssembler().\n",
    "      setInputCols(assembleCols.toArray).\n",
    "      setOutputCol(\"featureVector\")\n",
    "    \n",
    "    val scalar = new StandardScaler().setInputCol(\"featureVector\").setOutputCol(\"scaledFeatureVector\").\n",
    "        setWithStd(true).\n",
    "        setWithMean(false)\n",
    "    \n",
    "     val kmeans = new KMeans().\n",
    "        setSeed(Random.nextLong()).\n",
    "        setK(180).\n",
    "        setMaxIter(40).\n",
    "        setTol(1.0e-5).\n",
    "        setPredictionCol(\"cluster\").\n",
    "        setFeaturesCol(\"scaledFeatureVector\")"
   ]
  },
  {
   "cell_type": "code",
   "execution_count": 13,
   "metadata": {},
   "outputs": [
    {
     "data": {
      "text/plain": [
       "[strIdx_ca7e563d7d03, strIdx_0ec04a997e80, strIdx_2e24545cdc74, oneHot_c1b88428618b, oneHot_b35c216b8c22, oneHot_80f711d05a05, vecAssembler_ec78db96d9d0, stdScal_cf9fd3c1e9e0, kmeans_b0684fbb52b9]"
      ]
     },
     "execution_count": 13,
     "metadata": {},
     "output_type": "execute_result"
    }
   ],
   "source": [
    "indexers ++ encoders ++ Array(assembler, scalar, kmeans)"
   ]
  },
  {
   "cell_type": "code",
   "execution_count": 14,
   "metadata": {},
   "outputs": [
    {
     "data": {
      "text/plain": [
       "pipeline = pipeline_6c95c7595f62\n",
       "pipelineModel = pipeline_6c95c7595f62\n"
      ]
     },
     "metadata": {},
     "output_type": "display_data"
    },
    {
     "data": {
      "text/plain": [
       "pipeline_6c95c7595f62"
      ]
     },
     "execution_count": 14,
     "metadata": {},
     "output_type": "execute_result"
    }
   ],
   "source": [
    "    val pipeline = new Pipeline().setStages(\n",
    "      indexers ++ encoders ++ Array(assembler, scalar, kmeans))\n",
    "    \n",
    "    val pipelineModel = pipeline.fit(data)\n",
    "    "
   ]
  },
  {
   "cell_type": "code",
   "execution_count": 15,
   "metadata": {},
   "outputs": [
    {
     "data": {
      "text/plain": [
       "transformed_data = [duration: int, protocol_type: string ... 49 more fields]\n"
      ]
     },
     "metadata": {},
     "output_type": "display_data"
    },
    {
     "data": {
      "text/plain": [
       "[duration: int, protocol_type: string ... 49 more fields]"
      ]
     },
     "execution_count": 15,
     "metadata": {},
     "output_type": "execute_result"
    }
   ],
   "source": [
    "val transformed_data = pipelineModel.transform(data)"
   ]
  },
  {
   "cell_type": "code",
   "execution_count": 16,
   "metadata": {},
   "outputs": [
    {
     "data": {
      "text/plain": [
       "kmeansModel = kmeans_b0684fbb52b9\n"
      ]
     },
     "metadata": {},
     "output_type": "display_data"
    },
    {
     "data": {
      "text/plain": [
       "0.34505630607300264"
      ]
     },
     "execution_count": 16,
     "metadata": {},
     "output_type": "execute_result"
    }
   ],
   "source": [
    "val kmeansModel = pipelineModel.stages.last.asInstanceOf[KMeansModel]\n",
    "    \n",
    "kmeansModel.computeCost(transformed_data)/ data.count()"
   ]
  },
  {
   "cell_type": "code",
   "execution_count": 17,
   "metadata": {},
   "outputs": [
    {
     "name": "stdout",
     "output_type": "stream",
     "text": [
      "root\n",
      " |-- duration: integer (nullable = true)\n",
      " |-- protocol_type: string (nullable = true)\n",
      " |-- service: string (nullable = true)\n",
      " |-- flag: string (nullable = true)\n",
      " |-- src_bytes: integer (nullable = true)\n",
      " |-- dst_bytes: integer (nullable = true)\n",
      " |-- land: integer (nullable = true)\n",
      " |-- wrong_fragment: integer (nullable = true)\n",
      " |-- urgent: integer (nullable = true)\n",
      " |-- hot: integer (nullable = true)\n",
      " |-- num_failed_logins: integer (nullable = true)\n",
      " |-- logged_in: integer (nullable = true)\n",
      " |-- num_compromised: integer (nullable = true)\n",
      " |-- root_shell: integer (nullable = true)\n",
      " |-- su_attempted: integer (nullable = true)\n",
      " |-- num_root: integer (nullable = true)\n",
      " |-- num_file_creations: integer (nullable = true)\n",
      " |-- num_shells: integer (nullable = true)\n",
      " |-- num_access_files: integer (nullable = true)\n",
      " |-- num_outbound_cmds: integer (nullable = true)\n",
      " |-- is_host_login: integer (nullable = true)\n",
      " |-- is_guest_login: integer (nullable = true)\n",
      " |-- count: integer (nullable = true)\n",
      " |-- srv_count: integer (nullable = true)\n",
      " |-- serror_rate: double (nullable = true)\n",
      " |-- srv_serror_rate: double (nullable = true)\n",
      " |-- rerror_rate: double (nullable = true)\n",
      " |-- srv_rerror_rate: double (nullable = true)\n",
      " |-- same_srv_rate: double (nullable = true)\n",
      " |-- diff_srv_rate: double (nullable = true)\n",
      " |-- srv_diff_host_rate: double (nullable = true)\n",
      " |-- dst_host_count: integer (nullable = true)\n",
      " |-- dst_host_srv_count: integer (nullable = true)\n",
      " |-- dst_host_same_srv_rate: double (nullable = true)\n",
      " |-- dst_host_diff_srv_rate: double (nullable = true)\n",
      " |-- dst_host_same_src_port_rate: double (nullable = true)\n",
      " |-- dst_host_srv_diff_host_rate: double (nullable = true)\n",
      " |-- dst_host_serror_rate: double (nullable = true)\n",
      " |-- dst_host_srv_serror_rate: double (nullable = true)\n",
      " |-- dst_host_rerror_rate: double (nullable = true)\n",
      " |-- dst_host_srv_rerror_rate: double (nullable = true)\n",
      " |-- label: string (nullable = true)\n",
      " |-- protocol_type_indexed: double (nullable = false)\n",
      " |-- service_indexed: double (nullable = false)\n",
      " |-- flag_indexed: double (nullable = false)\n",
      " |-- protocol_type_encoded: vector (nullable = true)\n",
      " |-- service_encoded: vector (nullable = true)\n",
      " |-- flag_encoded: vector (nullable = true)\n",
      " |-- featureVector: vector (nullable = true)\n",
      " |-- scaledFeatureVector: vector (nullable = true)\n",
      " |-- cluster: integer (nullable = false)\n",
      "\n"
     ]
    }
   ],
   "source": [
    "transformed_data.printSchema()"
   ]
  },
  {
   "cell_type": "code",
   "execution_count": 18,
   "metadata": {},
   "outputs": [
    {
     "data": {
      "text/plain": [
       "clusterLabel = [cluster: int, label: string]\n"
      ]
     },
     "metadata": {},
     "output_type": "display_data"
    },
    {
     "data": {
      "text/plain": [
       "[cluster: int, label: string]"
      ]
     },
     "execution_count": 18,
     "metadata": {},
     "output_type": "execute_result"
    }
   ],
   "source": [
    "val clusterLabel = transformed_data.select(\"cluster\",\"label\").as[(Int, String)]"
   ]
  },
  {
   "cell_type": "code",
   "execution_count": 19,
   "metadata": {},
   "outputs": [
    {
     "data": {
      "text/plain": [
       "entropy: (counts: Iterable[Int])Double\n"
      ]
     },
     "metadata": {},
     "output_type": "display_data"
    }
   ],
   "source": [
    "def entropy(counts: Iterable[Int]): Double = {\n",
    "    val values = counts.filter(_ > 0)\n",
    "    val n = values.map(_.toDouble).sum\n",
    "    values.map(v => -(v/n)*math.log(v/n)).sum\n",
    "}"
   ]
  },
  {
   "cell_type": "code",
   "execution_count": 20,
   "metadata": {},
   "outputs": [
    {
     "data": {
      "text/plain": [
       "4898431"
      ]
     },
     "execution_count": 20,
     "metadata": {},
     "output_type": "execute_result"
    }
   ],
   "source": [
    "clusterLabel.count()"
   ]
  },
  {
   "cell_type": "code",
   "execution_count": 21,
   "metadata": {},
   "outputs": [
    {
     "data": {
      "text/plain": [
       "2447957"
      ]
     },
     "execution_count": 21,
     "metadata": {},
     "output_type": "execute_result"
    }
   ],
   "source": [
    "clusterLabel.sample(0.5).count()"
   ]
  },
  {
   "cell_type": "code",
   "execution_count": 22,
   "metadata": {},
   "outputs": [
    {
     "name": "stdout",
     "output_type": "stream",
     "text": [
      "+-------+--------+\n",
      "|cluster|   label|\n",
      "+-------+--------+\n",
      "|     10|  smurf.|\n",
      "|     10|  smurf.|\n",
      "|     50|neptune.|\n",
      "|     50|neptune.|\n",
      "|     17|neptune.|\n",
      "+-------+--------+\n",
      "\n"
     ]
    }
   ],
   "source": [
    "clusterLabel.sample(0.000001).show()"
   ]
  },
  {
   "cell_type": "code",
   "execution_count": 23,
   "metadata": {},
   "outputs": [
    {
     "name": "stdout",
     "output_type": "stream",
     "text": [
      "+-------+-------+\n",
      "|cluster|  label|\n",
      "+-------+-------+\n",
      "|    168|normal.|\n",
      "|    121|normal.|\n",
      "|    121|normal.|\n",
      "+-------+-------+\n",
      "only showing top 3 rows\n",
      "\n"
     ]
    }
   ],
   "source": [
    "clusterLabel.show(3)"
   ]
  },
  {
   "cell_type": "code",
   "execution_count": 24,
   "metadata": {},
   "outputs": [
    {
     "data": {
      "text/plain": [
       "class org.apache.spark.sql.Dataset"
      ]
     },
     "execution_count": 24,
     "metadata": {},
     "output_type": "execute_result"
    }
   ],
   "source": [
    "clusterLabel.getClass()"
   ]
  },
  {
   "cell_type": "code",
   "execution_count": 25,
   "metadata": {},
   "outputs": [
    {
     "data": {
      "text/plain": [
       "test = [value: double]\n"
      ]
     },
     "metadata": {},
     "output_type": "display_data"
    },
    {
     "data": {
      "text/plain": [
       "[value: double]"
      ]
     },
     "execution_count": 25,
     "metadata": {},
     "output_type": "execute_result"
    }
   ],
   "source": [
    "val test = clusterLabel.\n",
    "      // Extract collections of labels, per cluster\n",
    "      groupByKey { case (cluster, _) => cluster }.\n",
    "      mapGroups { case (_, clusterLabels) =>\n",
    "        val labels = clusterLabels.map { case (_, label) => label }.toSeq\n",
    "        // Count labels in collections\n",
    "        val labelCounts = labels.groupBy(identity).values.map(_.size)\n",
    "        labels.size * entropy(labelCounts)\n",
    "      }\n",
    "//toSeq ??\n",
    "//identity ??"
   ]
  },
  {
   "cell_type": "code",
   "execution_count": 26,
   "metadata": {},
   "outputs": [
    {
     "name": "stdout",
     "output_type": "stream",
     "text": [
      "+-----------------+\n",
      "|            value|\n",
      "+-----------------+\n",
      "|63.68774925443596|\n",
      "|69.65084707608688|\n",
      "|354.9852695070798|\n",
      "|              0.0|\n",
      "|              0.0|\n",
      "+-----------------+\n",
      "only showing top 5 rows\n",
      "\n"
     ]
    }
   ],
   "source": [
    "test.show(5)"
   ]
  },
  {
   "cell_type": "code",
   "execution_count": 27,
   "metadata": {},
   "outputs": [
    {
     "data": {
      "text/plain": [
       "weightedClusterEntropy = Array(63.68774925443596, 69.65084707608688, 354.9852695070798, 0.0, 0.0, 0.0, 8.616037337020266, 19.105892719140797, 232.55563149876315, 0.0, 0.0, 0.0, 68.69861031408027, 44.33016446758562, 1.9095425048844383, 10.273483584969675, 92.34200628860641, 76.92683474784087, 113.42844664375863, 4633.335023052716, 0.0, 0.0, 286.55244166242034, 0.0, 0.0, 645.62822096013, 0.0, 17.888274940282262, 608.8886911216919, 0.0, 0.0, 232.8458723839342, 34.55327460504769, 9.802296941911234, 0.0, 0.0, 0.0, 0.0, 0.0, 15.745384049326631, 0.0, 32.81206114993599, 52.54487255380844, 57.879476785531374, 9.46663646595531, 35.21047222593583, 0.0, 1071.048526611695, 0.0, 1335.349766281197, 787.105777113715, 0.0, 87.88369148521541, 0.0, 1293.5995214098957, 0.0, 592.2994396545613...\n"
      ]
     },
     "metadata": {},
     "output_type": "display_data"
    },
    {
     "data": {
      "text/plain": [
       "[63.68774925443596, 69.65084707608688, 354.9852695070798, 0.0, 0.0, 0.0, 8.616037337020266, 19.105892719140797, 232.55563149876315, 0.0, 0.0, 0.0, 68.69861031408027, 44.33016446758562, 1.9095425048844383, 10.273483584969675, 92.34200628860641, 76.92683474784087, 113.42844664375863, 4633.335023052716, 0.0, 0.0, 286.55244166242034, 0.0, 0.0, 645.62822096013, 0.0, 17.888274940282262, 608.8886911216919, 0.0, 0.0, 232.8458723839342, 34.55327460504769, 9.802296941911234, 0.0, 0.0, 0.0, 0.0, 0.0, 15.745384049326631, 0.0, 32.81206114993599, 52.54487255380844, 57.879476785531374, 9.46663646595531, 35.21047222593583, 0.0, 1071.048526611695, 0.0, 1335.349766281197, 787.105777113715, 0.0, 87.88369148521541, 0.0, 1293.5995214098957, 0.0, 592.2994396545613, 0.0, 80.8634633681106, 0.0, 866.9853013702398, 821.4837122025122, 0.0, 82.64898643527505, 0.0, 16.161735557597122, 4.1986036933543245, 81.42493330133429, 27.282081801504898, 0.0, 0.0, 120.50075689683277, 8.955249691343504, 0.0, 0.0, 0.0, 102.15377663080618, 123.19298964038646, 0.0, 32.53675423181527, 0.0, 18.628503036725498, 125.47807427628757, 0.0, 19.4795531696078, 0.0, 0.0, 0.0, 0.0, 0.0, 0.0, 86.0557351608757, 0.0, 0.0, 43.118993295881566, 0.0, 70.89037005654558, 43.46555515917554, 297.415830745856, 4201.644577525022, 19.208848451717355, 0.0, 0.0, 2112.713336270253, 1262.5165460231149, 255.73717407761472, 0.0, 53.02204269725991, 14.086465696856068, 675.3304516360706, 33.33986184326284, 1.9095425048844383, 29.770158975471634, 389.3743202107707, 1.3862943611198906, 119.92736074638347, 0.0, 0.0, 3.1394888625872874, 0.0, 217.9929318723309, 566.3785284690102, 324.7199082739401, 4.960798052028234, 0.0, 0.0, 74.17626280628976, 0.0, 0.0, 0.0, 50.10688260597759, 2838.2749084531447, 0.0, 0.0, 0.0, 0.0, 39.391021600703354, 0.0, 0.0, 0.0, 20.709264877176153, 0.0, 0.0, 20.306905018605097, 519.6607484773084, 0.0, 103.96737573173974, 65.79315756923171, 0.0, 0.0, 22.629711535302267, 0.0, 0.0, 832.3659719093145, 6.681877155571675, 0.0, 14.431016779026658, 0.0, 821.9114115642109, 6.7120808221282315, 592.2113384242905, 1199.8888614438642, 73.59764212798338, 270.6274128818033, 0.0, 169.86177212210194, 0.0, 0.0, 960.6427207175132, 262.8610178420919, 0.0, 0.0, 6793.950398728667, 0.0, 178.75826347394374, 2.249340578475233, 10.567106745194577, 0.0, 0.0, 0.0]"
      ]
     },
     "execution_count": 27,
     "metadata": {},
     "output_type": "execute_result"
    }
   ],
   "source": [
    "val weightedClusterEntropy = clusterLabel.\n",
    "      // Extract collections of labels, per cluster\n",
    "      groupByKey { case (cluster, _) => cluster }.\n",
    "      mapGroups { case (_, clusterLabels) =>\n",
    "        val labels = clusterLabels.map { case (_, label) => label }.toSeq\n",
    "        // Count labels in collections\n",
    "        val labelCounts = labels.groupBy(identity).values.map(_.size)\n",
    "        labels.size * entropy(labelCounts)\n",
    "      }.collect()"
   ]
  },
  {
   "cell_type": "code",
   "execution_count": 28,
   "metadata": {},
   "outputs": [
    {
     "data": {
      "text/plain": [
       "0.008637329852285882"
      ]
     },
     "execution_count": 28,
     "metadata": {},
     "output_type": "execute_result"
    }
   ],
   "source": [
    "weightedClusterEntropy.sum/data.count()    /// for k=180"
   ]
  },
  {
   "cell_type": "code",
   "execution_count": 29,
   "metadata": {},
   "outputs": [
    {
     "data": {
      "text/plain": [
       "countByClusterLabel = [cluster: int, label: string ... 1 more field]\n"
      ]
     },
     "metadata": {},
     "output_type": "display_data"
    },
    {
     "data": {
      "text/plain": [
       "[cluster: int, label: string ... 1 more field]"
      ]
     },
     "execution_count": 29,
     "metadata": {},
     "output_type": "execute_result"
    }
   ],
   "source": [
    "val countByClusterLabel = transformed_data.select(\"cluster\",\"label\").\n",
    "groupBy(\"cluster\",\"label\").count().orderBy(\"cluster\",\"label\")"
   ]
  },
  {
   "cell_type": "code",
   "execution_count": 30,
   "metadata": {},
   "outputs": [
    {
     "name": "stdout",
     "output_type": "stream",
     "text": [
      "+-------+-------------+------+\n",
      "|cluster|        label| count|\n",
      "+-------+-------------+------+\n",
      "|      0|        nmap.|    55|\n",
      "|      0|      normal.| 92953|\n",
      "|      0|       satan.|    43|\n",
      "|      0|       smurf.|  1093|\n",
      "|      1|      normal.|102479|\n",
      "|      2|    teardrop.|   259|\n",
      "|      3|   ftp_write.|     2|\n",
      "|      3|guess_passwd.|     1|\n",
      "|      3|    multihop.|     2|\n",
      "|      3|      normal.|  2128|\n",
      "|      3| warezclient.|     1|\n",
      "|      3| warezmaster.|     1|\n",
      "|      4|     neptune.|364025|\n",
      "|      4|      normal.|    11|\n",
      "|      5|      normal.|     2|\n",
      "|      6|        land.|    21|\n",
      "|      6|      normal.|     7|\n",
      "|      7|      normal.|     6|\n",
      "|      8|      normal.|    17|\n",
      "|      9|      normal.|  6087|\n",
      "+-------+-------------+------+\n",
      "only showing top 20 rows\n",
      "\n"
     ]
    }
   ],
   "source": [
    "countByClusterLabel.show()"
   ]
  },
  {
   "cell_type": "code",
   "execution_count": 31,
   "metadata": {
    "collapsed": true
   },
   "outputs": [],
   "source": [
    "import org.apache.spark.ml.linalg.{Vector, Vectors}"
   ]
  },
  {
   "cell_type": "code",
   "execution_count": 32,
   "metadata": {},
   "outputs": [
    {
     "data": {
      "text/plain": [
       "KmeansModel = kmeans_b0684fbb52b9\n"
      ]
     },
     "metadata": {},
     "output_type": "display_data"
    },
    {
     "data": {
      "text/plain": [
       "kmeans_b0684fbb52b9"
      ]
     },
     "execution_count": 32,
     "metadata": {},
     "output_type": "execute_result"
    }
   ],
   "source": [
    "val KmeansModel = pipelineModel.stages.last.asInstanceOf[KMeansModel]"
   ]
  },
  {
   "cell_type": "code",
   "execution_count": 33,
   "metadata": {},
   "outputs": [
    {
     "data": {
      "text/plain": [
       "centroids = Array([0.0,0.0,0.004902480388564476,2.275436732377507,2.244516623346322,0.07932482976885182,5.518468004621867E-6,0.0,0.0,6.870406066372829E-4,1.0671307353891673E-4,0.0,0.0,0.0,0.0,0.0,6.680203308143666E-4,0.008049228448055033,0.0,0.0,0.0,3.968011694396108,5.61588950291064E-4,9.171835314385382E-6,1.5578154208843668E-5,0.09519767561987116,1.657662238830651E-4,2.5677378089913665,0.08702189793956057,0.0,1.5092462460102963E-5,0.0,4.4022688695659356E-4,0.050399597409161646,1.506602962540001E-5,0.0,0.0,0.027962252184663385], [0.0,0.0,4.0710348443062037E-4,2.4311347544800244,2.3901180762370076,0.03783673215787629,0.005086951618258676,0.0,0.0,0.0031233527252109133,2.9456479796868314E-4,2.852159245902337,0.0,0.0,0.0,0.0,0.0031284289798914023,3...\n"
      ]
     },
     "metadata": {},
     "output_type": "display_data"
    },
    {
     "data": {
      "text/plain": [
       "[[0.0,0.0,0.004902480388564476,2.275436732377507,2.244516623346322,0.07932482976885182,5.518468004621867E-6,0.0,0.0,6.870406066372829E-4,1.0671307353891673E-4,0.0,0.0,0.0,0.0,0.0,6.680203308143666E-4,0.008049228448055033,0.0,0.0,0.0,3.968011694396108,5.61588950291064E-4,9.171835314385382E-6,1.5578154208843668E-5,0.09519767561987116,1.657662238830651E-4,2.5677378089913665,0.08702189793956057,0.0,1.5092462460102963E-5,0.0,4.4022688695659356E-4,0.050399597409161646,1.506602962540001E-5,0.0,0.0,0.027962252184663385], [0.0,0.0,4.0710348443062037E-4,2.4311347544800244,2.3901180762370076,0.03783673215787629,0.005086951618258676,0.0,0.0,0.0031233527252109133,2.9456479796868314E-4,2.852159245902337,0.0,0.0,0.0,0.0,0.0031284289798914023,3.5155987190202995E-4,0.0,1.9823078097691498E-5,0.0,0.34342586837153405,0.008703757764554907,0.0023492817598901867,0.003952937091377023,0.03634820261238812,0.008384659503512313,2.568703192768809,0.0031842781868392602,0.002704928880040211,0.00286121863003926,0.0,0.9193850795813874,0.1729700294127205,0.0027790353848618624,0.0,7.590933307917979E-6,0.018178468645735083], [0.0,0.0,0.0,0.6702525030871952,0.6616868091901618,0.3979738853719448,0.0,0.0,0.0,0.6880285584214073,2.974195430625095E-5,0.0,0.0,0.0,0.0,0.0,0.0,0.22499102099318968,0.0,0.0,0.0,3.9336190199005583,2.4719886629855283,0.0,0.16178596247516525,0.18757814859386662,0.0,1.8938262792656548,6.212496395006685,0.0,0.0,0.0,0.0,0.5729843926897338,0.0,70.00458360038334,0.0,0.0], [0.01885820557779483,0.0,0.04335401375353925,0.669349531417878,0.2779451415188723,0.0050110437328332496,0.033357842398735946,0.0,0.0,0.011038821982598552,3.067854227850769E-4,2.8494874339652836,0.0,0.0,0.0,34.6174555317819,0.011027891730365268,0.5428220210047388,0.0,0.0,0.026380046512974657,1.9618142890948498,0.04597790489953125,0.004473319726076028,0.004759424748552218,0.004147035554356661,0.0014366204964384023,2.505743232126578,0.7725476150451371,10.622526584889659,0.003690557885308918,0.0,0.0416621122663227,0.06229375125573129,0.006039498799462033,0.0,0.0,0.08887195470563257], [0.0,0.0,0.0,0.10178852984812266,0.10114308833048491,0.587024979174178,0.0,0.0,0.0,2.61824644766487,7.243924046826827E-8,7.834827450871002E-5,0.0,0.0,0.0,0.0,2.6159461461039246,0.7513269328612712,0.0,0.0,0.0,3.982442843145874,1.1894637283760719E-7,2.6165024142898723,2.6188996922446894,0.0439244010789418,6.613922517652854E-9,0.2233581981683082,0.5872324479100884,0.0,3.382676844409372E-5,0.0,1.7975978104092138E-5,8.166909004960453E-5,1.771024010929062E-6,0.0,0.0,1.6553074615071237E-4], [0.0,0.0,0.03387113266837834,0.08511962651282463,0.08969645716557725,0.007075779344972779,0.12988266295678028,0.0,0.0,0.6546634703568863,2.5121329262243976E-4,2.8521592459052765,0.0,0.0,0.0,0.0,1.3080304913516583,6.044883240377202,0.0,2.412345949193326,0.0,3.983071953535191,0.0,1.5307026040755634,0.7594839775943566,0.0040651611150373575,0.008288988784103246,1.9265554058515435,2.7638761516863513,2.1322954361356987,0.0,1564.9971245980628,0.0,0.0,0.0,0.0,2.074430011899004,0.0], [0.0,0.0,0.0,2.1948703693664062,0.04080177186855205,0.01802639023600208,0.0,418.26418514730693,0.0,2.5559932349791006,0.0,0.0,0.0,0.0,0.0,0.0,2.6160609827033166,0.4663195642576699,0.0,0.0,0.0,0.037934018605097056,0.020103925113215904,1.7605883431491824,2.4103327712569667,0.007404400602389474,0.0,2.4164509233395073,0.18425841011242342,0.0,0.10302807429820729,0.0,14.039961552637944,1.8763472867784192,0.0,0.0,0.0,5.843989147544173], [268.4151260572797,0.0,16.133258280098733,1.1106084602149497,0.15578858349810787,0.004717186229981853,0.2236868084255661,0.0,0.0,0.0,0.007774334413123198,2.852159245905276,0.0,0.0,0.0,0.0,0.0,0.0,0.0,0.0,126.72314843670202,1.2912442411460487,0.38249006241041533,0.388126871118875,0.33609348433773256,0.0040651611150373575,0.028887044518807393,2.568740541135391,1.1516150632026463,0.0,0.0,0.0,2.7064290868011485,0.37076483783063874,0.0,0.0,0.3025210434019381,0.0], [0.0,121.10721758763151,17.914616913287862,0.48496728382937054,0.20438573521320388,0.004717186229981853,0.24193829374302211,0.0,0.0,0.0,8.369610880929189E-4,2.8521592459052765,0.0,0.0,247.4502791489686,0.0,0.0,0.0,0.0,123.63459703698548,102.7037281447781,2.046205591816118,0.03056524361104318,0.4602112404410191,0.7610245130458665,0.004065161115037358,0.22090895405556668,2.568740541135391,0.9863244306017956,0.0,0.2532735803643375,0.0,0.6558160034742029,0.0330202879211454,0.25282999876179296,0.0,113.1174482959045,0.0], [0.0,0.0,1.3627355455438322E-6,2.4319893289378878,1.9673502045979938,0.004782282934979229,4.190229079882065,0.0,0.0,4.3020435048916466E-4,0.0,0.0,0.0,0.0,0.0,0.0,0.001719113509251399,0.0,0.0,0.0,0.0,0.17131326718014153,4.292309832855365,7.049778976026875E-4,1.3337640593817835E-4,0.008915037904490612,0.0,2.56874054113541,0.0,0.0,4.304943514318333,0.0,4.901327686881611,0.7415194289625746,4.229617015592724,0.0,0.0,7.061276713221657], [0.0,0.0,0.0,2.4316249092600035,2.407272258490396,2.408905206839735,0.0,0.0,0.0,0.0,0.0010227651866095994,0.0,0.0,0.0,0.0,0.0,0.0,0.0,0.0,0.0,0.0,3.9830434010940006,4.304947794622281E-5,0.0,6.8503019624110875E-6,2.0759296778968617,4.7154443837675634E-11,2.568740541120473,1.7180547306305224E-4,0.0,0.0,0.0,0.0,2.0787436308940532,0.0,0.0,0.0,0.0], [0.0,0.0,0.0,0.9384124341660174,0.6797233337474916,0.044650607590690304,4.976347239723382E-4,0.0,0.0,0.006621883378322529,0.004676501092398671,2.8521592459052783,0.0,114.44803940834373,0.0,0.0,0.002255224985089066,0.2807049228864816,0.0,0.0,0.0,2.0892500588370804,0.05325495989318727,0.010977629442726797,0.01053584590400416,0.03838540064371482,8.687350586537614E-6,2.4962548166700214,0.5615116204719107,0.0,0.0,0.0,0.4868229366119412,0.7979867771356496,0.0,0.0,0.0,0.19605546800331858], [0.0,0.0,1.7229501632031626E-7,2.4236877103285694,1.777769707851295,0.0047201256531063185,3.18339860188187E-4,0.0,0.0,0.0,9.134975870856101E-6,0.004620896086337063,0.0,0.0,0.0,0.0,0.0,0.0015067007079703893,0.0,0.0,0.0,0.02630892491741919,1.942706161718846E-4,0.0,4.243000184243235E-5,0.1083250939847889,1.2030344896606458E-5,2.5685804750498127,0.007842004867072856,0.0,0.0,0.0,12.20862263394575,2.07112397415283,0.0,0.0,0.0,7.111185324819663], [0.0,0.0,0.03179738985194701,2.4319893289378465,0.018883464666437318,0.004717186229981853,0.0,0.0,0.0,0.0,1.1047011599464582E-4,0.0,684.9870962801865,0.0,0.0,0.0,0.0,0.0,0.0,0.0,0.0,0.015619890013863495,0.0,0.0,0.0,0.0040651611150373575,4.278987944285974E-4,2.568740541135391,0.0,0.0,0.0,0.0,24.23667838926402,2.079055165405451,0.0,0.0,0.0,0.0], [0.0,0.0,47.80391940437494,0.024319893289378464,0.009441732333218659,0.004717186229981853,4.329422098559343,0.0,0.0,0.0,1240.1539832653898,0.0,0.0,0.0,0.0,0.0,0.0,0.0,0.0,0.0,0.0,1.2495912011090795,0.4330076178231117,0.0,0.0,0.0040651611150373575,0.0,2.568740541135391,1.1055504606745403,0.0,4.305650866193737,0.0,0.0,0.20790551654054512,4.29810997895048,0.0,0.0,0.0], [0.006766767883796968,0.0,0.006519800944432839,0.650015568035271,0.5207472422068407,0.004958991574543985,0.010696219302323088,0.0,0.0,0.0022005494801912145,0.0017902023276120383,2.377598295746239,0.0,0.0,0.0,0.0,0.0027479632171253324,0.004063787052354422,0.0,0.02240568993058817,0.0,2.1305661238489733,0.39290892918100506,0.005145218837228784,0.09298231832327314,0.010507929067104977,4.584004585838837E-4,2.5667977961883266,5.796707646536805,0.005375534712947139,0.0,0.0,0.30489334074561497,0.2687047768397967,0.0,0.0,0.0,6.913723140557004], [0.0,121.10721758763151,10.078390087856247,0.024319893289378464,0.3776692933287463,0.004717186229981853,0.0,0.0,692.9926551340907,0.0,8.965074798027026E-4,2.8521592459052765,0.0,0.0,0.0,0.0,0.0,0.0,0.0,5.58648535602665,0.0,2.046205591816118,0.0,0.0,0.0,0.0040651611150373575,0.013978027284667514,2.568740541135391,0.18425841011242342,0.0,0.0,0.0,1.211833919463201,0.02079055165405451,0.0,0.0,1.2965187574368775,0.0], [0.0,0.0,9.628361831339693E-8,0.1011207661331575,0.10049747580724512,1.1633930083371538,4.329379024026936,0.0,0.0,0.0,1.1322800092285453E-7,2.8376870419911217E-5,0.0,0.0,0.0,0.0,0.0,0.7802500251322997,0.0,0.0,0.0,3.982973892135493,4.3299947550588715,0.0,0.0,0.04312900955630651,1.3573922960191635E-8,0.10741736388435992,0.6732939064811996,0.0,4.305208777668624,0.0,0.0,1.7582299180127692E-5,4.297975703111184,0.0,0.0,3.0366001929421095E-4], [16.104907563436782,0.0,7.365934483964072,0.9727957315751387,0.07553385866574927,0.004717186229981853,0.0,0.0,0.0,0.0,0.0017037890966866529,2.8521592459052765,0.0,0.0,0.0,0.0,0.0,0.0,0.0,1896.3578472185006,0.0,0.3123978002772699,0.0,0.0,0.0,0.0040651611150373575,1.427271932396095,2.568740541135391,0.921292050562117,4.264590872271397,0.0,0.0,0.0,0.10395275827027256,0.0,0.0,1939.3327573740814,0.0], [64.41963025374713,0.0,10.79037512149767,0.34047850605129854,0.06609212633253062,0.004717186229981853,0.0,0.0,0.0,0.0,0.0019417247311366592,2.8521592459052765,273.9948385120746,0.0,123.72513957448432,0.0,0.0,0.0,0.0,2.5393115254666587,0.0,0.7966143907070382,0.0,0.0,0.0,0.0040651611150373575,0.2305723351630792,2.568740541135391,0.7370336404496937,2.1322954361356987,0.0,0.0,0.0,0.04158110330810902,0.0,0.0,4.9267712782601345,0.0], [0.019882601930168865,0.0,23.78961233827903,0.02437994240861158,0.019396348891945588,0.019742297925479643,0.014965903550575506,0.0,0.0,0.0010991880489942783,1.8221799095071188E-4,0.01408473701681618,0.0,0.0,0.0,0.0,0.0,6.988482051381254,0.0,0.0,0.0,3.8858429591526042,0.0036351256804903207,0.005039350136874283,0.004138524867265971,0.006915792612989496,4.989051885765322E-4,1.091809868521105,6.6062327013270306,0.0,0.008823926466520499,0.0,0.0,1.9663755089100154,0.021225234463952986,0.0,0.0,0.0], [0.0,0.0,15.206064825285441,0.0,0.009441732333218659,0.004717186229981853,4.329422098559343,0.0,0.0,0.0,0.0,0.0,0.0,0.0,0.0,0.0,0.0,0.0,0.0,0.0,0.0,3.983071953535191,4.330076178231117,0.0,0.0,0.0040651611150373575,2030.8718647276455,2.568740541135391,5.988398328653761,0.0,4.305650866193737,0.0,0.0,2.079055165405451,4.29810997895048,0.0,0.0,0.0], [100.6556722714799,121.10721758763151,13.983939058801912,0.29791869279488614,0.08261515791566326,0.004717186229981853,0.4112950993631376,0.0,0.0,0.0,0.0028706296968800987,2.8521592459052765,0.0,0.0,0.0,0.0,0.0,0.0,0.0,0.7617934576399976,0.0,1.2456862286056136,1.3314984248060684,0.12428781827963975,0.013094551337833736,0.0040651611150373575,0.1512742391046281,2.568740541135391,3.3857482858157804,6.9299601674410205,0.0,0.0,2.302484446980082,0.03638346539459539,0.0,0.0,2.00960407402716,0.0], [0.0,0.0,0.0010310420162848491,2.430336693803769,2.3464571961582634,0.01930621753191881,0.010694974267426074,0.0,0.0,0.006628887703755474,2.854957062047068E-4,2.852019810107438,0.0,0.0,0.0,0.0,0.010516680254592705,0.0,0.0,2.482827206518366E-5,0.0,0.3418934674332517,0.011769847739410913,0.0030777340841211132,0.006341462994504069,0.03496952748183171,0.0075357672505631705,2.5687405411350817,0.0015448700725632172,0.003856999811147438,0.006121159970125342,0.0,0.9231265590952247,0.2749831237959341,0.011035772969664093,0.0,3.803037176544251E-5,2.3391369472610752], [0.04448869492662094,0.0,0.01254939022982199,1.5824054324254704,1.2394229847363278,0.005082051463240116,0.005501475594854413,0.0,0.0,0.004774341330779502,0.0014700612328044404,2.8521592459052765,0.0,0.0,0.0,0.19125666039658418,0.0028906751190091893,0.5570643781739875,0.0,0.0014029345444567176,56.321399305200956,1.789038341864111,0.025358457176381126,0.00404775680352418,0.026912558550685913,0.006468322658180991,7.877360182644807E-4,2.500051567549229,0.7492496676394677,0.023561275537411035,0.0,0.0,0.2718257300011379,0.052952731008393004,0.0,0.0,0.004297852234597384,2.8536298676742264], [16.104907563436782,121.10721758763151,0.07396349378605066,0.06079973322344616,0.037766929332874635,0.004717186229981853,0.0,0.0,138.59853102681814,0.0,4.928666713607274E-4,2.8521592459052765,0.0,57.2240197041718,0.0,0.0,0.0,0.0,0.0,1.9044836440999942,0.0,2.530422182245886,0.0,0.0,0.0,0.0040651611150373575,0.00831767040619357,2.568740541135391,0.27638761516863514,1.0661477180678494,0.0,0.0,9.088754395974007,0.010395275827027255,0.0,0.0,0.6482593787184388,0.0], [0.0,0.0,1.643796885711128E-4,4.091961854634627E-5,0.009457618590649862,2.3321313669974724,0.0,0.0,0.0,0.4413966559305756,1.6382976993468017E-7,0.02559425010346855,0.0,0.0,0.0,0.0,2.569109804101815,12.085426912303236,0.0,0.0,0.0,3.9830719535350694,3.5365041127456616,2.5696250530761047,0.4506787646648966,0.004072000982308984,1.0712512593496388E-6,0.009825468586956461,9.16062956029455,0.0023918064342520456,3.558694093377645,0.0,0.0,0.015368450409446907,0.0,0.0,0.0,0.0], [0.0,0.0,0.007564766529245527,1.10113499145807,0.9762232311069147,0.010084715787432232,0.0032868924176300556,0.0,0.0,6.098402145848965E-5,0.0012493233669943979,0.0,0.0,0.0,0.0,0.0,0.0,12.08785193925303,0.0,0.0,0.0,3.570137935232063,0.008369732715258099,4.265509905902867E-4,0.0017077197832293647,0.005468181322882163,1.1802650505215525E-4,1.2663759260224423,0.16786653478337124,0.0,0.013015218500976878,0.0,0.037704008300019486,0.1664599827355364,0.0,0.0,0.0,0.051196000591879676], [1.238839043341291,121.10721758763154,0.07901491859530645,1.4591935973627077,0.04212465194820632,0.005805767667669972,0.03996389629439393,0.0,0.0,0.0,5.264489329537745E-4,2.8521592459052765,0.0,0.0,0.0,0.0,0.0,0.464991018490554,0.0,0.5859949674153828,0.0,0.3244131002879342,0.0,0.024153098289160763,0.0,0.004690570517350798,0.01862266118874114,2.519341684575095,1.3110694565691665,1.8042499844225142,0.0,0.0,14.075917064534107,1.1642708926270526,0.0,0.0,0.3789824060200104,0.0], [0.24157361345155173,0.0,0.6586207184985893,1.5287484921703305,0.2188593554840086,0.006651232584274412,2.0253036577060617,0.0,0.0,0.05237307762855091,1.7266266687432377E-4,0.3137375170495804,136.99741925603718,0.0,0.0,0.3461745553178174,0.05232121965406633,0.13903231452867565,0.0,0.28440289085226583,0.28160699652600446,1.0698062670495108,2.02604264379434,0.17060138424910537,0.22522628301074044,0.005203406227247814,0.004046883855467477,2.5322644254512676,0.6043675851687488,1.5139297596563452,2.109768924434929,0.0,0.16238574520806898,0.11788242787848897,2.1060738896857374,0.0,0.33190880190384064,0.0], [0.0,0.0,0.008150576483670423,1.0551365101773436,1.0044070827274394,0.016176334017459135,0.005640527427288609,0.0,0.0,0.003258142441781613,0.013353245378401499,2.8521592459052463,0.0,0.0,0.0,0.0,0.0018530729213449314,0.013912957335365036,0.0,0.02439248663336871,0.0,3.6481143380176193,0.039088177444749246,0.025669939647266812,0.06332485032709957,0.012669401091683293,0.012249487565490491,2.5598669330620143,0.2582670290909859,0.001744446770768229,0.0,0.0,0.12471942219945617,0.23367259034195217,0.0,0.0,0.005674700315479108,0.021802103191505617], [0.0,0.0,9.723466563193815E-4,2.4232296230696018,2.3191330487569104,0.00958784917962485,0.02065008737388554,0.0,0.0,0.007571390668477607,5.302291004662331E-4,2.8521592459049367,0.0,0.0,0.0,0.0,0.016892267237108197,0.0,0.0,2.2891679052723527E-4,0.0,0.3515230517429137,0.02069224241539554,0.003233741318777704,0.006805904325892592,0.017531965130119596,0.00830598745146656,2.5687405411350026,0.012737417548748497,0.022892206370576665,0.010945852308582991,0.0,0.9559405186364162,0.3760701031696519,0.01791877189224807,0.0,1.4875645471329523E-4,4.217501639126758], [120.78680672577588,0.0,18.701012718577704,0.5253096950505749,0.17561622139786706,0.004717186229981853,0.303059546899154,0.0,0.0,0.0,0.004241415126602123,2.852159245905277,0.0,0.0,0.0,0.0,0.0,0.0,0.0,0.6094347661119981,50.6892593746808,1.3214426951728517,0.07794137120816011,0.13606245369560563,0.026189102675667472,0.004065161115037358,0.025411607100435708,2.568740541135391,0.4790718662923009,2.558754523362839,0.8611301732387475,0.0,1.017940492349089,0.024948661984865412,0.859621995790096,0.0,0.41488600237980083,0.0], [0.04709037299250521,0.0,0.006908433671113327,1.90971606500849,1.7058615230104708,0.008372315911108172,0.0053801298008412865,0.0,0.0,0.005666093193732115,0.0012385912014263045,2.852159245905267,0.0,0.0,0.0,0.0,0.004551334165814249,0.13397723673116724,0.0,0.0,28.160699652600584,2.5533724592399394,0.012091294591259407,0.0029455715627984794,0.013439144794092523,0.012801691581565026,0.003096726676519871,2.5494374323906106,0.3954551842763699,0.0031173909885024833,0.008372098906487822,0.0,0.21898051527142057,0.06273640148241012,0.3717488104601031,0.0,0.0,5.893528582626572], [0.005404331397126437,0.0,24.510956265405795,0.013514678955439884,0.014447751489757518,0.005255388685751674,0.0065958309823689314,0.0,0.0,0.0,1.6728708666228576E-4,0.013399405853246265,0.0,0.0,0.0,0.0,0.0,0.0,0.0,0.0,0.0,3.9059055036076855,0.0019470812345066095,8.780488751652402E-5,1.7576578976958034E-5,0.0045289714435987095,4.67754439360493E-4,2.568740541135408,7.101801412846449,0.0,0.020227889975406817,0.0,0.0,2.0040277853760045,0.020192462988357956,0.0,0.0,0.0], [0.0,0.0,5.278751250514992E-4,2.4276463221212357,2.401953361772601,0.05428392128457214,0.002798354945823771,0.0,0.0,0.0036964062647682747,2.881922588432884E-4,2.8521592459037897,0.0,0.0,0.0,0.0,0.006001809841288962,4.398219682181735E-4,0.0,0.0,0.0,3.9480872617749654,0.002750602033218068,6.432295314799884E-4,5.915384074556958E-4,0.07582973861451946,0.0043504385964137525,2.5686951770626005,0.004514941174940126,0.0016568829879023527,0.0025145761438415347,0.0,0.026224835053601563,8.125296390361665E-4,0.012891673268431762,0.0,0.0,1.2772877552615276], [0.0,0.0,1.450766579396401E-4,0.12711647927642697,0.018912605815614096,0.004717186229981926,4.294947070737475,0.0,0.0,0.0,0.0,0.039613322859795505,0.0,0.0,0.0,0.0,0.0,0.0,0.0,0.0,0.0,0.578490340189367,3.9922233208679025,0.0,0.0,0.004065161115037383,3.241875036068335E-6,2.5687405411354085,9.212920505621081,0.0,4.305650866193765,0.0,24.22433563638096,0.1086691334140164,4.29810997895042,0.0,0.0,0.0], [0.0,0.0,55.160867669467805,0.012159946644689232,0.014162598499827988,0.007075779344972779,4.329422098559343,0.0,0.0,0.0,0.0,0.0,0.0,0.0,0.0,0.0,0.0,0.0,0.0,0.0,0.0,3.983071953535191,4.330076178231117,0.0,0.0,0.006097741672556036,620.5944275164686,2.568740541135391,4.606460252810585,0.0,4.305650866193737,0.0,0.0,2.079055165405451,4.29810997895048,0.0,0.0,0.0], [0.0,0.0,54.45886606435795,0.04800188773837998,0.033866410401774676,0.009387973906881977,4.221399468493633,0.0,0.0,0.0,2.1804962050519462E-5,0.0,0.0,0.0,0.0,0.0,0.0,0.10068198970857767,0.0,0.0,0.0,3.6827091504817155,3.3475038100495693,0.0,0.0,0.008077008641680799,1.0757959236501348E-4,2.5581286949654674,3.6872826430202545,0.0,4.197515503455894,0.0,0.0031785807723624946,1.6321605534579782,4.19946483189259,0.0,0.0,0.019827076509130633], [0.0,0.0,3.5374436340250712,0.01959920915694161,0.01753947358266134,0.020398713361260024,0.0,0.0,0.0,6.128457596953232E-4,1.5538896001896524E-4,0.0,0.0,0.0,0.0,0.0,0.0,6.651967934969711,0.0,0.0,0.0,3.9486153018854906,0.0,0.0,0.0,0.006998747921896438,1.6280551298506927E-4,1.0639126400397985,7.08022579925802,0.0,6.283025768399452E-4,0.0,0.0,2.025275640958884,0.0,0.0,0.0,0.0], [0.0,0.0,1.0051573992163916,0.0258474888225594,0.027064077117548397,0.010498133344130066,6.814477266046626E-4,0.0,0.0,9.630236398306653E-4,2.8914965972700045E-4,0.0,0.0,0.0,0.0,0.0,0.0010274908537537299,0.054882346807308136,0.0,0.0,0.0,3.837460940007746,0.05114177939837845,1.6550924222370384E-4,0.01316774830029882,0.006960646569437188,1.0240344606722296E-4,2.517271263537874,5.119188145557252,0.0,0.0,0.0,2.1391596107029143E-4,1.7517186643632001,0.0,0.0,0.0,8.89564332933928E-4], [0.0,0.0,0.0196860008197388,1.6792987244246813,1.6016957052047482,0.008248187911508467,0.0014906095144132997,0.0,0.0,0.008854962402613893,5.1073065225953074E-5,0.0,0.0,0.0,0.0,0.0,0.0046884831014941085,0.0038279924608598326,0.0,0.0,0.0,3.80917403261847,0.008519055499747663,0.008896230331016329,0.011021482189667616,0.00920628402535523,9.421010069843925E-5,2.5578117464568617,0.16046851394051373,0.0,0.025148283571374427,0.0,0.057667350363634656,0.11842881098974181,0.020149455019672552,0.0,0.0,7.04968536480616], [0.0,0.0,26.447824633159662,0.024319893289378464,0.018883464666437318,0.13679840066947374,2.8790656955419633,0.0,0.0,1.0343682831638805,698.3752388409072,0.0,0.0,0.0,0.0,0.0,0.8763804292056111,2.3575044637471088,0.0,0.0,0.0,2.569471907280545,0.17320304712924467,0.8765561920774594,0.23570192408100724,0.008130322230074715,0.0,1.3485887840960804,0.7830982429777995,1.0661477180678494,2.604918774047211,0.0,0.0,0.2598818956756814,2.858243136002069,0.0,0.0,0.0], [0.9662944538062069,0.0,1.76865377327795,1.2675528382424055,0.9369975167486198,0.004717186229981852,0.03463537678847474,0.0,0.0,0.0,8.875424050046755E-4,2.8521592459052765,0.0,4.577921576333744,123.72513957448429,0.0,0.0,0.0,0.0,6.307649829259182,2.2528559722080357,1.9574846165373732,0.008660152356462234,0.22921290276413564,0.23674948818803393,0.004878193338044829,0.06185469317851278,2.568740541135391,0.9176068823598686,0.25587545233628384,0.0,0.0,0.23267211253693462,0.11393222306421871,0.0,0.0,6.264778635934992,1.1383074513477351], [0.0,0.0,1.2892337080418372E-5,1.9752940326787057E-4,0.00962137874069966,2.083806817868515,4.329197438768702,0.0,0.0,0.27142267722039315,1.038487215110982E-9,4.289928925179028E-4,0.0,0.0,0.0,0.0,1.318162636994226E-4,12.069963885136094,0.0,0.0,0.0,3.9830719535358816,3.8448647165235172,1.3577830315971776E-4,0.2745197795848546,0.00414953988225878,5.013566359751434E-9,0.14274601493989442,9.165335081818169,0.0,3.840007855355706,0.0,0.0,0.228055011852703,4.297893408771351,0.0,0.0,0.0], [0.0,0.0,0.03413451695927711,0.636134214763712,0.5456238152587382,0.022686499170981367,0.006535749086700047,0.0,0.0,0.012948843176677648,0.006467704384757847,0.5609036777323952,0.0,0.0,0.0,0.0,0.019399910155376312,7.463268513029482,0.0,0.014005027322933038,0.0,3.3517389391961165,0.042222677892994255,0.018405985396530336,0.004811927784404078,0.010093078873074193,1.4043956342033162E-4,1.4227730070670597,0.4131732076740897,0.008736161572569835,0.03232291321548528,0.0,0.13710947906942614,0.3769819095065781,0.006312383391714225,0.0,2.4516585391179527E-4,0.18690771577439966], [84.18474408160137,0.0,13.69659999734336,0.4980050875847727,0.15986569518745233,0.013722723578129026,0.1318505820924891,0.0,0.0,0.5350385998644007,0.0038468755493074338,2.8521592459052765,0.0,0.0,0.0,0.0,0.47564745140060305,0.29674881361851724,0.0,0.09810976348393909,1.920047703586394,1.648253393962914,0.03444378778138389,0.42341113212968173,0.3059363358021155,0.004157551140379116,0.044908795936746286,2.481753645537852,0.7600659417137468,2.083834176223524,0.2446392537610078,0.0,0.7105753436852407,0.09686507020639032,0.19536863540684,0.0,0.23573068317034138,0.0], [72.47208403546551,121.10721758763151,3.4755929603389033,0.024319893289378464,0.018883464666437318,0.004717186229981853,0.0,0.0,277.1970620536363,0.0,0.0020575059104002784,2.8521592459052765,0.0,0.0,247.45027914896863,0.0,0.0,0.0,0.0,19.552698746093274,0.0,3.983071953535191,0.0,0.0,0.0,0.0040651611150373575,0.13139438669064513,2.568740541135391,0.09212920505621171,2.1322954361356987,0.0,0.0,0.0,0.0,0.0,0.0,19.18847761006579,0.0], [0.0,0.0,0.0018233512512466144,2.3949301262052667,2.365582648154707,0.01425077705600857,0.0059863614202302125,0.0,0.0,0.0061592846666956086,9.067869006943177E-4,2.852159245905088,0.0,0.0,0.0,0.0,0.017469115039505823,0.0,0.0,0.0018113058892217592,0.0,3.8675633311224584,0.005951627339626312,0.0015768906648623683,0.0020165728809247406,0.02219760129665103,0.006119125873000016,2.568740541135181,0.01847639201538826,0.04874932410003885,0.008434114453943287,0.0,0.061107016295564955,0.008059547184411207,0.12300416431758258,0.0,0.0022053268302081367,3.618140422417886], [0.0,0.0,9.278491348686025E-6,2.4298674590535376,2.0694819825800117,0.004891310553907357,3.6837861319151255,0.0,0.0,0.0,9.65971909994483E-7,0.028713012542670568,0.0,0.0,0.0,0.0,0.04046993667873251,0.0,0.0,0.0,0.0,0.463407542324051,4.110666277924782,0.0014926830877809083,0.0011424776335022722,0.02263121573774155,5.202543459155206E-9,2.568740541135398,0.0021641088436022884,0.014310707625071804,4.293658617136899,0.0,2.2130201978921935,0.43513647874610034,1.1335183330393226,0.0,0.0,3.3253952369594346], [0.0,0.0,0.0,0.1089006070601636,0.10822446469502484,1.1601313565343367,0.0,0.0,0.0,2.6183275065046505,9.343384310904057E-9,5.912803959419691E-6,0.0,0.0,0.0,0.0,2.6157609630155276,0.717333162238352,0.0,0.0,0.0,3.9827529304616127,3.949734681720858E-6,2.616580223551039,2.618867593611985,0.04660349008566374,1.2309784919609848E-9,0.11749332007567202,0.6077125951645783,0.0,3.5704134719768966E-6,0.0,0.0,1.3749167605040513E-5,5.5155380246913095E-5,0.0,0.0,6.690096035348034E-4], [0.0,0.0,0.01623418814903529,0.41420888676311185,0.3816156283503961,0.10444877427958567,8.693453205139144E-4,0.0,0.0,0.0015276311660783074,0.007119103968538801,0.0,0.0,0.0,0.0,0.0,0.0016555772302033742,0.05072685612261731,0.0,0.0,0.0,3.654449267503981,0.03574744085092781,0.0038845390282338872,0.028761157677693366,0.08827953086445656,3.131450110329566E-4,2.4771698788491605,0.2908102019898701,8.116845969302241E-4,2.0487489846753604E-4,0.0,0.09230604007787797,0.4003764029465932,2.0451608198279787E-4,0.0,0.0,0.0785104991781759], [0.0,0.0,14.501816234844522,0.04270573261614868,0.02268533555261351,0.019239830236686163,0.08549165503955182,0.0,0.0,0.002758315421770348,1.9554201929529273E-4,0.057043184918105526,0.0,0.0,0.0,0.0,0.0,7.116358944344843,0.0,3.385748700622212E-4,0.0,3.8030475144954416,0.02257413047584489,3.837658950388876E-4,1.0475641070266988E-4,0.0068728323918231604,6.369862691090957E-4,1.1112714079690555,5.985573033032045,0.0,0.05976243402276907,0.0,0.0,1.876638354501571,0.12034707941061343,0.0,3.4573833531650064E-4,0.0], [0.4473585434287995,121.10721758763151,13.920651500256007,0.5863796493105696,0.1437241477389951,0.004979252131647511,0.20685016693116862,0.0,0.0,0.5819230847616766,7.346970855413144E-4,2.8521592459052765,0.0,0.0,247.45027914896858,0.0,0.5813468850451814,0.0,0.0,65.78227579583906,45.370016106967384,1.394509069571035,0.223720602541941,0.39684882327884974,0.279350428540453,0.0042910033992061,0.12439004173079762,2.568740541135391,1.366583208333807,0.23692171512618873,0.0,0.0,3.043049619985372,0.1986652713609653,0.0,0.0,60.489802916416096,0.0], [267.7440882421365,0.0,18.05365933604839,0.4377580792088124,0.10739970529036225,0.004717186229981853,0.2056475496815688,0.0,0.0,0.0,0.009043147428080935,2.8521592459052765,0.0,0.0,0.0,0.0,0.0,0.0,0.0,0.06348278813666647,7.0401749131501115,1.052390089684053,0.03247557133673338,0.1668073350595165,0.042557291847959644,0.0040651611150373575,0.02833492329356868,2.568740541135391,0.7024851885536142,0.0,0.0,0.0,0.3635501758389603,0.04158110330810901,0.0,0.0,0.29171672042329744,0.0], [0.0,0.0,8.030238591766283,0.026115440966444792,0.01874542764402199,0.019823906166788034,0.016108741580165977,0.0,0.0,8.039726828944217E-4,1.6003615748220827E-4,0.010424558647314607,0.0,0.0,0.0,0.0,0.0,6.876938440788796,0.0,0.0,0.0,3.8642329072893977,0.0026271661022893474,0.0,0.0,0.006956536674197806,2.1664439078671329E-4,1.0909073042276574,6.215354045787803,0.0,0.008120306458172398,0.0,0.0,1.9364696715323872,0.01885135955680035,0.0,0.0,0.0], [0.0,0.0,0.0,1.537688775330291,0.5211977169314812,0.02142095388764149,0.0,0.0,0.0,0.009673385606765932,0.0015202799703034682,0.0,0.0,0.0,0.0,0.0,0.0,0.0031577748270627177,0.0,0.0,0.0,1.142350165193001,0.040392501662603705,0.0,0.17345394496011105,0.021736477156151245,0.0,2.559251536897615,1.0708301259332067,0.0,0.0,0.0,4.98931920423767,1.3145369320072897,0.0,23.334861200127822,0.0,2.4847382799941236], [0.0,0.0,0.012790098746107004,1.5509919645200112,0.7642069790747977,0.009641862551045162,0.0016515506643005667,0.0,0.0,0.06443172901714099,0.0012906561839655145,0.0011102215826801387,0.0,0.0,0.0,0.0,0.04038652338420145,0.01237683372689143,0.0,3.9537742708706247E-4,0.0,1.2969190422410044,0.054610536463483135,0.004114833015916449,0.03711736973223241,0.021071111486118125,1.0473817600467019E-4,2.563621058235208,0.47413009733288014,0.002490029703544996,0.0041900066817767,0.0,0.39227757392977625,0.602642747945044,0.006993421452710396,0.0,0.0,3.8980882284997964], [0.0,0.0,0.0034587516550418254,2.2156528236318778,2.037946423767065,0.028526111638035794,3.9358382714175846E-5,0.0,0.0,0.006832306036088233,1.1606990797587758E-4,0.23076561171415422,0.0,0.0,0.0,0.0,0.007539012104699558,4.460684203526362,0.0,0.0,0.0,3.669381962356782,0.0011022012090042845,1.4272285352685907E-4,0.0014284965095818624,0.0229533778959064,3.6003962692084546E-4,1.0342683506080599,0.11943295128196109,0.0019384503964869988,0.04012083761680529,0.0,0.004406668798048004,0.026328398594634442,0.001289432993685144,0.0,0.0,0.5840940109728067], [0.0,0.0,0.0039046028901026284,1.4460817996039963,1.2318521016702733,0.0047485233883850664,0.0071625704159773975,0.0,0.0,0.0010479645755672904,0.002367067953691134,2.8521592459053644,0.0,0.0,0.0,0.0,0.002294863804260313,6.289697624852219E-4,0.0,0.011483200031124238,0.0,2.101810349951744,0.02394122477927042,0.004686984696820085,0.007311316642606573,0.010118652594568645,8.555401058455112E-4,2.568189538682214,0.35671124496513285,0.0032426455327819975,0.0,0.0,0.27020385247644113,0.030758168462744127,0.00491939912750055,0.0,8.301704865931663E-5,7.099354531162861], [0.0,0.0,0.024856838976755884,0.30714877304165095,0.3140541966643157,0.013680357870046244,0.016158106624700113,0.0,0.0,0.020121379989015163,0.010972866008069265,2.8521592459052774,0.0,0.0,0.0,0.0,0.020101456508148426,0.0246174718131717,0.0,0.058535172376289614,0.0,3.5648155353154665,0.4464113662562748,0.013441954810762349,0.036236403866826396,0.011726941174882812,0.002442542151481999,2.5625372160086246,4.887044752732055,0.008192133947831992,0.0,0.0,0.13501771989628433,0.11025154230596844,0.0,0.0,0.006831273365199794,0.026200751229909787], [0.0,0.0,0.0,0.019006499856569145,0.011077451120494365,0.012794062363896979,0.0,0.0,0.0,2.6160831143832235,0.0,0.0,0.0,0.0,0.0,0.0,2.616060982703361,0.008261534361246995,0.0,0.0,0.0,3.522518218622141,0.03600756321454942,2.610390459643972,2.5397128078872537,0.004299915366146422,0.0,2.5407786012699223,8.978030934693258,0.0,8.288067114906135E-5,0.0,0.002099423537087355,2.021946181362425,0.0,0.0,0.0,0.0], [0.00682411337433762,0.0,0.02678291569696052,0.6651078613063848,0.5180310463705446,0.008063190360909725,0.07220595499970131,0.0,0.0,0.0155343874321973,0.003166547739343861,2.2793103126175285,0.0,0.0,0.0,0.0,0.015519005829595945,0.0,0.0,0.16871357931914066,0.0,0.933209005158788,1.6616483856157764,0.0054770902970688665,0.012717250706065646,0.007358630628576158,0.008737674199836976,2.568740541135404,6.821855332022434,0.003614060061246947,0.0036488566662658786,0.0,0.8119287260403396,0.5052104051935233,6.192192342555777E-4,0.0,4.394978838769076E-4,0.035572107854616716], [0.0,0.0,0.11441716924977616,2.407051562474538,1.9622169130741112,0.015591665939665383,0.17126551891760064,0.0,0.0,0.035947868359788374,0.1360364411317435,2.8497834364543184,0.0,0.0,0.0,0.0,0.034833598341118294,0.008056487450731798,0.0,0.0,0.0,2.898091363430122,0.17881176721016792,0.007268898905501619,0.01206378490599261,0.015331126154378519,0.014754048270397382,2.5678846509092916,0.013314799731155959,4.412901300357579,0.11464400661214733,0.0,0.13496226158453145,0.09617686681448705,0.22297899999086704,0.0,0.2245283212587508,0.4566148954932467], [0.0,0.0,0.0015941835197432887,2.306595394379727,1.0473231312974909,0.004773669229107272,0.0593646085285042,0.0,0.0,0.004275741098121898,2.620689826103802E-5,0.14902428570767773,0.0,0.0,0.0,0.0,0.004746119344527062,0.048385386169347275,0.0,6.44963014450893E-4,0.0,0.07938032639121063,0.05371745447522564,0.0030001490013265722,0.003221373660033118,0.0042052882216877035,0.002638913434028171,2.560734198157052,0.05010946240176393,7.73692103097133E-4,0.05936673908394847,0.0,24.22023332809344,1.9711419428323933,0.058015127437212564,0.0,0.0018817398511420573,0.07008582933620057], [16.104907563436782,121.10721758763151,3.652552347341043,0.19455914631502771,0.009441732333218659,0.004717186229981853,0.0,0.0,1940.379434375454,0.0,0.0037867881107780032,2.8521592459052765,0.0,0.0,247.45027914896863,0.0,0.0,0.0,0.0,49.516574746599844,56.32139930520089,0.18743868016636195,0.0,0.0,0.20951282140533978,0.0040651611150373575,0.13665165050190373,2.568740541135391,3.040263766854986,8.529181744542795,0.0,0.0,0.0,0.16632441323243607,0.0,0.0,16.595440095192032,0.0], [0.07528363837636752,0.0,0.006709650435904019,1.0358735418219167,0.8279255112472872,0.011137376765933574,0.008484484155752757,0.0,0.0,0.00793788285524423,0.006805665224490533,2.609094973600478,0.0,0.0,0.0,0.0,0.008146381916652541,12.015862838117545,0.0,0.08007825270889099,0.0,1.9491387312553219,0.01163094895770818,0.005654685273079615,0.01251539642429417,0.004278578419170992,0.004250243047967884,1.2447815544249263,0.7443218192027946,0.009200843305871407,0.0329774769686899,0.0,1.1813310879772574,0.13941107775793177,0.00146825044228801,0.0,0.002517512150362869,0.007777001645309949], [0.0,0.0,3.466659797669806,0.004580577915314504,0.011358362038209663,0.005162067073200205,0.0,0.0,0.0,0.0,1.5540531858889274E-4,0.0,0.0,0.0,0.0,0.0,0.0,1.2602488787750792E-4,0.0,0.0,0.0,3.9675017674568926,0.0,0.0,0.0,0.004445426638773,1.6278758483694443E-4,2.5681937307272102,7.6236904547651765,0.0,0.0,0.0,0.0,2.0604364034236275,0.0,0.0,0.0,0.0], [0.0,0.0,0.07878323670555863,2.0338512956647654,1.8430443086218473,0.009576924791089585,0.681348749769152,0.0,0.0,0.0,0.004194219617674043,0.26641047901313003,0.0,0.0,0.0,0.0,0.0010421122046482994,0.0,0.0,0.0,0.0,2.2877774897090934,0.679667314404491,0.025806435374430687,0.047881450084221726,0.00882832379515675,6.396483018582731E-4,2.568740541135405,0.16198541548344883,0.10544318090780928,4.22758137246604,0.0,0.418149286496094,0.04740702712325615,4.1918380289214605,0.0,0.0217273747812224,0.06361934673998759], [0.0,0.0,1.1716061109781505E-5,2.3929675792531935,0.1039657419064586,0.004770487769303681,4.245035057655223,0.0,0.0,0.0,5.101021218787969E-8,0.0,0.0,0.0,0.0,0.0,0.0,0.0,0.0,0.0,0.0,0.05749354996628291,4.268427636032573,0.008869781857601412,0.004142908897845701,0.005213511712505536,1.9707940052901502E-7,2.5687405411353916,0.06089896605410604,0.0,4.305650866193732,0.0,13.221313456923086,1.3660684504895704,4.244565727517799,0.0,0.0,1.0623398989802484], [0.0,0.0,0.0,2.431989328937786,2.2268037924873547,0.006317113855325992,4.097480749945775,0.0,0.0,0.0,2.849886831007382E-7,0.0031708273995611743,0.0,0.0,0.0,0.0,0.0,0.0,0.0,0.0,0.0,0.291371581831702,4.295364163064824,2.5937990025494574E-4,1.9410118714595123E-4,0.005513238240043442,7.843570255399294E-6,2.5687405411354107,0.0,1.9754450955491E-4,4.292427563783784,0.0,3.797304152750343,0.3502554998639531,4.282464922338112,0.0,0.0,0.00396124454708628], [0.0,0.0,0.27664863155049296,0.6707282262688452,0.2976205399696255,0.0050629485714465145,0.022062674568574657,0.0,0.0,0.0,9.717299319243085E-4,2.8521592459052645,0.0,0.0,0.0,34.6174555317817,0.0,0.5167161974060651,0.0,0.0,0.0,2.131419860896986,0.037406417246499186,0.003516179666586667,0.01320881443851292,0.004150295379226619,0.004128873791633448,2.507054904405865,0.7222415167757451,39.527473163409105,0.0,0.0,0.012266381732786328,0.054316676834414594,0.0,0.0,0.0,0.11174484142811535], [0.0,0.0,0.0037911049323392726,0.20150298594162966,0.06408623732533786,0.00607999984310929,0.013913907285627119,0.0,0.0,0.02149138807964555,8.167394778609039E-5,1.0420608882197875,0.0,0.0,0.0,0.0,0.021576308104975257,0.03893591911257847,0.0,0.02267856030863322,0.0,1.3304278308222333,0.04708005695816916,0.014782469662203436,0.02875839894628436,0.004689512653003206,0.010766028619380818,2.539351229531481,1.052753818805387,0.011541517922250062,0.002913160261294816,0.0,8.20062279816443,0.09004081267767423,0.002908058172496942,0.0,0.0024561925039399577,0.02613755692159253], [0.0,0.0,0.001979732269092385,2.42928839833129,2.3275901042068967,0.0071999550184829895,0.005970084778738017,0.0,0.0,0.004956612209064058,8.819810153810068E-4,2.8521592459048426,0.0,0.0,0.0,0.0,0.00479683452744479,0.0,0.0,0.0016034803223406162,0.0,0.02847310284790775,0.005263491447214398,0.00256722390121917,0.004444436873682615,0.016904960784958106,0.010010912522602748,2.5687405411348925,0.0097954092044137,0.008415405462687263,0.003789407779466427,0.0,0.9493990357755621,1.6546417113150507,0.0036267105276644265,0.0,0.0,0.13670651095000186], [0.0,0.0,0.40382231834854343,0.07734523439572824,0.056820654746304516,0.013892500101905689,4.2584479657960744E-4,0.0,0.0,0.032797566646076144,4.560592615745249E-4,0.4278238868857914,0.0,0.0,0.0,0.0,0.04717487017989587,12.089568287861278,0.0,0.01914890658548628,0.0,3.61682394227573,0.043052314788478235,0.04694840970045408,0.029645205569751455,0.004241762376592299,1.652020767276007E-4,1.2420913278906527,6.6107990729761505,0.0,0.046021055159972395,0.0,0.05423453442843506,1.612102783542534,0.0,0.0,0.001062720292981047,0.011371411527295509], [0.0,0.0,16.713286529466973,0.014312396970300954,0.01589683853068828,0.005409040210379277,0.002906186787998455,0.0,0.0,0.0,1.5600705036941589E-4,0.01573605101189118,0.0,0.0,0.0,0.0,0.0,7.781918654278697E-4,0.0,4.6699982077547743E-4,0.0,3.884038260067931,0.005594259338312385,0.002297783258696788,0.00275738138516223,0.004638956270125467,3.072602744148108E-4,2.567724855220293,6.567859259765918,0.0,0.0,0.0,0.012814795470185573,1.9628192536292077,0.0,0.0,4.7688046250551815E-4,0.0], [0.0,0.0,0.0022603079141033495,0.1606564577027157,0.10844107282711409,0.00551902627686033,0.010111972029507116,0.0,0.0,0.01493946569897462,0.0031524298439257158,0.5057894856492907,0.0,0.0,0.0,0.0,0.014143928323439211,0.01532137361099066,0.0,0.011971667658990737,0.0,1.5972080700032485,0.017998283768512556,0.012630231761070658,0.024104848829507045,0.004793092214356388,0.009128773830785787,2.558096711384509,0.6998552025961307,0.01383409668773161,0.0,0.0,4.698686845863309,0.06258747383746505,0.0,0.0,5.607780092720059E-4,0.032094903540108334], [0.0,0.0,18.28967973169497,0.48496728382937054,0.48097295297455056,0.004717186229981852,0.0025467188815054957,0.0,0.0,0.0,6.278926445872149E-4,2.8521592459052765,0.0,0.0,0.0,34.61745553178174,0.0,0.0,0.0,0.0,0.0,3.9830719535351893,0.0,0.0,0.32505298026857865,0.00430428823945132,0.00240305482378379,2.568740541135391,0.18425841011242342,11.288622897188992,0.2532735803643375,0.0,0.0,0.0,0.25282999876179296,0.0,0.0,0.4184953865249026], [0.0,0.0,0.007631800384021078,0.7047043965677962,0.5953939101762369,0.023089864291185046,0.00452782783872487,0.0,0.0,0.003478906314255407,0.020331715971927174,2.8521592459053777,0.0,0.0,0.0,0.0,0.003831336779299213,0.015244886435452009,0.0,0.017933198616899185,0.0,2.3022452013805577,0.03351683664056741,0.0070280505972126145,0.006448103234761479,0.02027521167418877,0.027227434496001908,2.5631024468458947,0.3358782827461879,0.0012343244203390441,1.1215877799057494E-4,0.0,0.5326924943423349,0.4999420613518107,3.110065107778929E-4,0.0,0.008005518618037643,0.0510879302965581], [0.0,0.0,0.0012266812015229015,0.00817930837319517,0.010155182906553668,0.004998719117170924,4.322025263160281,0.0,0.0,0.004400197095841367,5.2498445581373415E-6,0.005114015041326059,0.0,0.0,0.0,0.0,0.0,0.0028180551991512574,0.0,0.0,0.0,3.806111882986113,4.289392982990976,4.691623856543779E-5,5.433702143260925E-4,0.004065161115037428,9.084525738511036E-6,2.5636741215230265,9.186230410611188,5.461822326167261E-4,4.297313079168124,0.0,0.002669511195538814,1.9722373157442963,4.2970090286484135,0.0,1.328400366226309E-4,0.0], [0.2005949340641592,0.0,0.0719586297345779,0.7136287548667976,0.4672649490815134,0.004927025475087829,0.017949383433528948,0.0,0.0,0.0,0.0014425244750733226,2.852159245905267,0.0,0.0,0.0,34.4942617398537,0.0,0.31192458001946416,0.0,4.5183479100830223E-4,0.0,2.720945929656978,0.03967952369731363,0.006006041789875829,0.016869137310661263,0.00416642847377495,0.005383063496798931,2.53331751765889,0.5540866780960767,61.916244167790964,0.0038306502368271682,0.0,0.02673797260025568,0.042764906961008896,0.0,0.0,9.227891512006245E-4,0.07595467869313177], [0.0,0.0,0.2714298930840114,1.2241012955653825,0.03776692933287463,0.004717186229981853,0.0,0.0,277.1970620536363,0.0,1.4127428295469127E-4,1.9014394972701842,0.0,0.0,0.0,0.0,0.0,0.0,0.0,0.08464371751555529,9.386899884200147,0.45818344040666253,0.0,0.0,0.06983760713511325,0.0040651611150373575,0.024104965419477653,2.568740541135391,3.2552319119861464,0.0,0.0,0.0,5.655224957494938,0.6999485723531684,0.0,0.0,0.08643458382912517,0.0], [10.736605042291188,0.0,0.07188975096961932,0.12970609754335183,0.10700629977647813,0.006289581639975804,0.04329422098559342,0.0,0.0,0.4364423135712575,1.7384880433772787E-4,0.9507197486350921,547.9896770241492,0.0,0.0,11.539151843927245,0.0,4.029922160251468,0.0,0.0,0.0,2.400256432130357,0.04330076178231117,0.08721952159974719,0.33172863389178797,0.0040651611150373575,0.006487731238232623,2.140617117612826,1.6276159559930732,0.7107651453785662,0.0,0.0,0.0,0.013860367769369672,0.0,0.0,0.0,0.0], [0.0,0.0,0.003939178468767093,1.7021569896122748,1.3549468042554487,0.008000367818258858,0.008865061709090245,0.0,0.0,0.0026914135156032248,0.0020058725937374833,2.8521592459050797,0.0,0.0,0.0,0.0,0.002859045212639507,2.1114701977501736E-4,0.0,7.257095653622625E-4,0.0,2.0875819736617887,0.007741199962987391,0.0042485762201856115,0.006284275815373053,0.007640007216516607,0.0013563628378762292,2.5685937171189885,0.31793474172508635,0.0029340926879877307,7.223558214254643E-4,0.0,0.22234378576317654,0.0311489667517641,9.94058777878465E-4,0.0,4.117021722477515E-5,0.007458941059539106], [0.0,121.10721758763151,20.777520525430937,0.7187879572194079,0.0807792655175374,0.004717186229981852,0.07696750397438831,0.0,0.0,0.0,0.0011696141554561326,2.8521592459052765,0.0,0.0,247.45027914896863,0.0,0.0,0.0,0.0,200.91597080942307,184.60903105593624,1.2357068544300898,0.2261262004187361,0.09594147375972191,0.2415217246756,0.0040651611150373575,0.280541405490241,2.568740541135391,2.1394448729720272,0.0,0.0,0.0,4.03944639821067,0.2864476005669732,0.0,0.0,184.3073442516379,0.0], [0.0,0.0,0.001340406451834976,2.4196199542093235,2.3934854828074874,0.06083593304744973,0.004358476800299561,0.0,0.0,0.0034758261473062527,3.019173580960894E-4,2.852159245907595,0.0,0.0,0.0,0.0,0.00351389626226632,4.0491315232832743E-4,0.0,4.7779318718012895E-6,0.0,3.9551767736347125,0.004214926134354367,7.737833247795104E-4,7.912249597885492E-4,0.05914360684074,0.0061693128770088975,2.5686235751521522,0.01141040775367011,0.004012096279733491,0.0015390055372828705,0.0,0.021155409755607583,6.963217877110744E-4,0.0015133962256540393,0.0,1.6263406390327114E-5,0.06423862186630849], [0.0,0.0,0.0019726512693852673,1.2817929528348504,0.8428332169153232,0.010935295351321586,0.0,0.0,0.0,0.008176824372836998,2.3800700842279145E-4,0.0,0.0,0.0,0.0,0.0,0.007755121490227222,11.331169473315752,0.0,0.0,0.0,2.3222084309741304,0.005647925449866674,0.015513353644223809,0.017856206369773274,0.01403524993670013,7.571935976051097E-5,1.286451661124745,0.47066006930890686,0.0,0.024421379418924947,0.0,0.429171222070762,0.1959899829838734,0.012741432743924346,0.0,0.0,5.861102324219569], [0.0,0.0,0.0036473678344029043,2.4315359133960217,2.183511685435916,0.004768961090121581,0.04274742883963187,0.0,0.0,0.007087019976799851,0.0024425258163980326,2.851730414264169,0.0,0.0,0.0,0.0,0.010938604109003042,2.544831314547612E-4,0.0,6.872291002616126E-4,0.0,0.2024996265892925,0.038346336926449065,0.002982065736247553,0.0067097024446455215,0.009627176773861075,0.007534428916750978,2.5683813577489647,0.0030335732833123388,0.04328069220843773,0.0022657913143404123,0.0,0.8999748100731719,0.6339633438363225,0.004071281441495719,0.0,1.559487304088862E-4,7.079710553035105], [12.883926050749427,0.0,7.769346586520513,0.5934053962608346,0.1378492920649924,0.004717186229981853,1.021743615260005,0.0,0.0,0.5237307762855091,0.0016608757054733484,2.8521592459052765,136.99741925603732,0.0,123.72513957448433,0.0,0.5232121965406633,0.0,0.0,8.532086725567973,5.63213993052009,0.9528132908456732,0.2338241136244803,0.07326439814378764,0.03142692321080096,0.004065161115037358,0.1432995853950553,2.5687405411353916,0.7923111634834207,0.0,0.8611301732387475,0.0,0.0,0.04573921363891992,0.859621995790096,0.0,8.660745299678343,0.0], [0.0,121.10721758763151,0.5170532088968774,0.012159946644689232,0.014162598499827988,0.004717186229981853,0.0,0.0,138.59853102681814,0.0,4.7321573726552606E-4,2.8521592459052765,0.0,0.0,247.45027914896863,0.0,0.0,0.0,0.0,24.63132179702659,0.0,3.983071953535191,0.0,0.0,0.0,0.0040651611150373575,0.10622432535894848,2.568740541135391,0.13819380758431757,1.0661477180678494,0.0,0.0,0.0,0.0,0.0,0.0,24.893160142788048,0.0], [0.0,0.0,3.9212602845276824E-8,2.431471702407917,2.4062357847922398,2.147296048386337,0.0,0.0,0.0,0.0,5.630596023317803E-4,0.0,0.0,0.0,0.0,0.0,0.0,7.955508286538101E-5,0.0,0.0,0.0,3.981561817576825,1.839794793282981E-4,0.0,2.0798915230105443E-6,1.8504824076892463,1.6147180073522447E-8,2.5686625821663447,1.9964237035813583E-4,0.0,0.0,0.0,0.0,2.0787196284855756,0.0,0.0,0.0,0.0], [0.0,0.0,10.966626716987037,0.01228015423378858,0.014086455497140757,0.005455933917403671,0.0011262804626845327,0.0,0.0,0.0,0.0049608586100021185,0.0014839538220110702,0.0,0.0,0.0,0.0,0.0,6.290201082598546E-4,0.0,0.0,0.0,3.8950698832878725,5.632253093432775E-4,0.0,0.0,0.004693336375789677,0.0011991607364352144,2.5682059437283065,6.607921695328626,0.0,0.0011200964792387454,0.0,0.0,1.9725062924645234,0.0011181347499871178,0.0,0.0,0.0], [0.0,0.0,2.462877454193978E-5,0.09071724565710038,0.08688187899973486,0.08255075902468346,0.033668712471931816,0.0,0.0,2.5778066129254236,8.84083880973047E-6,6.774725049656238E-4,0.0,0.0,0.0,0.0,2.594082342095625,4.189635346103577,0.0,0.0,0.0,3.9647028144711562,0.031369910554880996,2.59433534723269,2.5266947668391024,0.015745981544635,0.0,0.9128730340176513,0.7783933073276489,0.0030389008591007586,0.06624156926445803,0.0,0.008462688178674136,0.0514924185503151,0.036110249395600647,0.0,0.0,0.008905701111345848], [0.0,0.0,0.0,2.4308595750297366,0.9627285810490643,0.004775732867588084,4.291439863552814,0.0,0.0,0.0,0.0,0.0,0.0,0.0,0.0,0.0,0.0,0.0,0.0,0.0,0.0,0.07806621626077727,4.326083909414327,0.0016887183969312742,2.414598119033171E-4,0.004115615242351687,0.0,2.5687405411354085,0.004214421082358621,0.0,4.3056508661937745,0.0,7.313804459466644,0.9624772084699135,4.2981099789504205,0.0,0.0,0.0], [0.0,0.0,48.80346344189484,1.8969516765715204,1.435143314649236,0.004717186229981853,0.04329422098559343,0.0,0.0,0.0,230.79473886863443,0.0,0.0,0.0,0.0,0.0,0.0,0.0,0.0,0.0,0.0,1.233971311095216,0.3897068560408005,0.0,0.0,0.0040651611150373575,0.0,2.568740541135391,1.0134212556183286,0.0,4.305650866193737,0.0,0.24236678389264021,0.18711496488649057,4.29810997895048,0.0,0.0,0.0], [0.0,0.0,0.045769011394478414,0.6567326783153379,0.2982771236113086,0.005152761382848564,0.026027567036525714,0.0,0.0,0.005144703106930344,0.0011950977523323587,2.846555789626475,0.0,0.0,0.0,34.549444813644655,0.005139609003346398,0.6890454334119553,0.0,0.0,0.0,2.080636862141374,0.04364104281792855,0.0025189134921734455,0.0034472885643805906,0.004208919268417856,0.00503884609358485,2.490467130933021,0.6707874930025931,49.00509236132705,0.0,0.0,0.009047090164951206,0.04533892403929367,0.0,0.0,0.010698190139950658,0.03047041065739271], [0.0,0.0,0.014032481474270365,2.249364439864151,2.199740691651025,0.01053020666676571,1.0596178907344916E-4,0.0,0.0,0.00453444247467262,9.265666030514628E-5,0.0,0.0,0.0,0.0,0.0,0.0035428604783092027,0.0033781317721055543,0.0,0.0,0.0,3.93158652777248,7.330130997209518E-4,3.7356923385573956E-5,0.001046923133679548,0.018690786664549656,9.233278041153316E-5,2.5631294436041925,0.08557136443524017,0.0,4.3908330269159054E-4,0.0,0.002718778934141385,0.026307277679329926,2.892874348467588E-4,0.0,0.0,4.226442352405525], [0.0,0.0,0.018521221130463783,2.308716183535368,0.9116726224474175,0.04823979207678776,5.271687411432409E-4,0.0,0.0,0.0074565620128680095,0.0011858349686427144,0.0,0.0,0.0,0.0,0.0,0.0063779316643339645,0.0022681261188751837,0.0,0.0,0.0,0.9191686084770389,0.066691062342811,4.1536851632241825E-4,0.007707679447163588,0.05992730204769906,0.011074317872279365,2.5675705095909587,0.12589966499564006,3.846478643701089E-4,0.0,0.0,0.14497848929160023,1.959487459573005,4.0705470171353874E-4,0.0,0.0,0.0799225405121763], [0.07693427179985725,0.0,13.454064747821281,0.6759226392879167,0.1540145000342229,0.005348147445457131,2.072607419921786,0.0,0.0,0.0,0.0011527984195377086,2.179994328080466,0.0,0.0,0.0,0.0,0.0,0.03272707486828422,0.0,0.013747864946794012,0.0,1.2398412060685786,0.6430301025188438,0.1780778194191016,0.15988697397851767,0.004388820439483003,0.014768334593716475,2.5524609434383874,0.76696096183738,0.10865199674576809,2.7538339600563293,0.0,0.22615754038389682,0.12586891303935546,2.7718702889728437,0.0,0.052025911922626296,0.0], [16.104907563436775,0.0,0.003674028368837235,1.460193045032134,1.2262611541266593,0.004911043198337271,0.0023722860814023796,0.0,0.0,0.0,0.0013003956528352873,2.852159245905275,0.0,0.0,0.0,0.0,0.0,0.1656132394623891,0.0,0.0,0.0,2.0919954063773067,5.931611203056325E-4,0.0043012366816313685,0.0025112838182146896,0.00929975213987998,5.154409242000228E-4,2.551146427839944,0.5906365474836587,0.0,0.0,0.0,0.2921681778431827,0.028765009822732952,0.029439109444866298,0.0,0.0,7.065692656054006], [0.0,121.10721758763151,12.427249451267462,2.4319893289378465,0.10385905566540525,0.004717186229981853,0.0,0.0,138.59853102681814,0.0,4.939288840145222E-4,2.8521592459052765,273.9948385120746,0.0,247.45027914896863,0.0,0.0,0.0,0.0,265.3580544112658,0.0,0.015619890013863495,0.0,0.0,0.0,0.0040651611150373575,0.4966757738432403,2.568740541135391,0.0,0.0,0.0,0.0,17.692775224162734,2.079055165405451,0.0,0.0,270.4538128013327,0.0], [0.0,0.0,6.296260380785415E-4,2.4299741618803536,2.3512022565303887,0.02816842349068258,0.008677180433891025,0.0,0.0,0.004479205764802632,2.837655500359937E-4,2.8521592459048057,0.0,0.0,0.0,0.0,0.008509927180567796,0.0,0.0,0.0,0.0,1.4564429749916918,0.009580652190238799,0.002427299207578177,0.0031217968555939182,0.047958570944073894,0.00588839272699515,2.5687405411348347,0.0014852443741557462,0.002330536715497724,0.0040412352552429785,0.0,0.6150973943015232,0.02539205362543916,0.009991439482456775,0.0,0.0,1.839475759679296], [0.0,0.0,0.001039074587834714,2.1423355241810995,1.996593482773876,0.009623247844869528,0.012108582921070381,0.0,0.0,0.005070381619019073,0.004469609086078413,2.85215924590538,0.0,0.0,0.0,0.0,0.02281497008421339,0.0,0.0,0.02240866545381932,0.0,1.8883762489748415,0.012222545706281856,0.003502680389344423,0.005613441131278536,0.016685785811821386,0.005420827810415972,2.56874054113541,0.10224139469485127,0.021238002351949194,0.0033793355403990686,0.0,0.546918511541012,0.09282442912795127,0.023408431638347844,0.0,3.6157893633697783E-4,4.352013555462843], [0.0,121.10721758763151,0.0,1.7267124235458708,0.04720866166609329,0.004717186229981853,0.0,0.0,0.0,2.6186538814275453,2.3793563445000636E-4,2.8521592459052765,0.0,0.0,247.45027914896863,0.0,2.6160609827033166,0.0,0.0,442.60199888883864,0.0,0.10933923009704447,0.0,0.5233171295984832,0.36664743745934464,0.0040651611150373575,4.304309940696852,2.568740541135391,3.961555817417103,0.0,0.0,0.0,0.0,0.29106772315676316,0.0,0.0,450.929223836546,0.0], [26.17047479058477,121.10721758763151,0.22258172896362907,1.2463945310806464,0.023604330833046645,0.004717186229981853,0.05411777623199179,0.0,0.0,0.0,4.8211176824105646E-4,2.8521592459052765,0.0,171.67205911251543,0.0,0.0,0.0,0.0,0.0,3.23762219496999,10.560262369725168,1.202731531067489,0.3734690703724338,0.163536602999526,0.0098209135033753,0.0040651611150373575,0.0102017429059376,2.568740541135391,0.2072907113764763,6.396886308407096,0.0,0.0,0.9088754395974008,1.0499228585297529,0.0,0.0,2.1392559497708477,0.0], [0.0,0.0,8.315434991556627E-4,2.4319893289371217,2.3943287509771527,0.044621195276537365,0.009157632927851883,0.0,0.0,0.004930446878760338,2.750667209942314E-4,2.852159245904704,0.0,0.0,0.0,0.0,0.005500601395233858,1.7597045081152335E-4,0.0,6.264491243287674E-6,0.0,0.442899312840863,0.010996374535268551,0.0028499384817779355,0.004488360584380444,0.08169945892503779,0.006686099095008786,2.568721529856744,0.0,0.001998944777924178,0.002779792356439869,0.0,0.8799346273181827,0.14707565011351856,0.004297579806262804,0.0,1.2794066929190847E-5,1.0456154982201096], [0.0,0.0,8.930847615983319E-7,2.4304968290266933,2.3429280627643965,0.004964015742015842,3.001788590687174,0.0,0.0,0.0,5.544365789832651E-7,0.0073699205320549785,0.0,0.0,0.0,0.0,0.0,0.0,0.0,0.0,0.0,1.2625169628065984,1.8647859076095332,4.901872337970288E-4,0.003349768946887701,0.004656027556176515,1.889373562168925E-5,2.568740541135406,2.9757495173194997E-4,0.002754903664258009,4.304260152089664,0.0,2.479405936514118,0.054044689829402796,4.296360748145055,0.0,0.0,0.005744849459724922], [0.0,0.0,0.0014921130334206386,2.3626410578550088,2.3166282625718715,0.03485424544245561,2.2387772637555858E-5,0.0,0.0,0.0013360709280402544,4.597578242697329E-5,0.0,0.0,0.0,0.0,0.0,6.944297015191085E-4,0.004146968076652807,0.0,0.0,0.0,3.9436459672524324,1.5673808453478145E-4,2.706112882522537E-5,3.8370658061393355E-5,0.052540184115689476,7.970814726389916E-5,2.567868280708527,0.05234126689050578,0.0,3.710808296297283E-4,0.0,5.222071530910976E-4,0.01342077323871989,2.6671026328056074E-4,0.0,0.0,1.6212640396915774], [0.0,0.0,0.0030533252484583107,1.5973519521915962,1.5390588400056104,0.0057779888750018,0.007694119929087016,0.0,0.0,0.005345150480801782,0.0019599769279266353,2.8521592459053626,0.0,0.0,0.0,0.0,0.004671537469113066,0.002623718973096052,0.0,0.005467417160095678,0.0,3.6121609562510213,0.027736313318693317,0.010496300083154778,0.050981930567533265,0.010014939814677165,0.003796193046554594,2.5643268900518303,0.20795192576683383,0.020404741015652615,0.0029393498309029363,0.0,0.12633969143275617,0.011128913714341361,0.10315610843191943,0.0,8.197401576412251E-4,7.070460961899879], [0.0,0.0,49.86798475432959,0.024319893289378464,0.009441732333218659,0.004717186229981853,4.329422098559343,0.0,0.0,0.0,1465.8151036132926,0.0,0.0,0.0,0.0,0.0,0.0,0.0,0.0,0.0,0.0,1.202731531067489,0.25980457069386703,0.0,0.0,0.0040651611150373575,0.0,2.568740541135391,1.1055504606745403,0.0,4.305650866193737,0.0,0.0,0.12474330992432706,4.29810997895048,0.0,0.0,0.0], [0.0,0.0,0.13215399839524322,0.007011182885092157,0.013265652233197233,0.017962437910638864,0.0,0.0,0.0,0.002381055972061882,0.0018910593704612973,0.022118334594069613,0.0,0.0,0.0,0.0,0.0025359257296464874,7.877450887329348,0.0,2.953832716711894E-4,0.0,3.9625916673458086,0.041420309932904895,0.0025364343233738036,0.002157884574865971,0.004581384560238589,1.7718415226054834E-4,0.8230676967312746,6.4335585026778075,0.0,0.003138667556589463,0.0,0.0,1.9423848988420263,0.0,0.0,5.027215034652491E-5,5.930983473239701E-4], [0.0,0.0,0.0,2.431989328937864,2.2102722559517964,0.004717186229981932,4.026605128672098,0.0,0.0,0.0,0.0,0.0,0.0,0.0,0.0,0.0,0.0,0.0,0.0,0.0,0.0,0.015619890013863182,4.3300761782311366,2.932139733609432E-4,0.0,0.004164946286484443,0.0,2.5687405411354094,0.0,0.0,4.3056508661938,0.0,3.7098672337034952,2.079055165405423,4.297915027323833,0.0,0.0,0.0016134627362019325], [0.2128401880630412,121.10721758763144,0.02307000818984395,2.3114612234288123,2.0845015753814398,0.06639387667309268,0.04501073194977996,0.0,0.0,8.075144127750141E-4,0.001357713662989092,2.8521592459052796,0.0,0.0,0.0,0.0,0.0010372047949043987,0.05325888317512954,0.0,0.036915101471541735,0.4962237824246775,2.5869840747189996,0.027468324654858194,0.003919115067477628,0.002999632905583059,0.0630726759786853,0.07232247730391944,2.563082522322324,0.052355363225776705,2.6019640344034705,0.0859233410742627,0.0,0.2861422823049674,0.11201253159871659,0.0863408876828819,0.0,0.059399978314288664,0.39583764070820193], [190.78121267455884,0.0,24.127519113143926,0.4340165571642926,0.13436311397272707,0.005080046709211227,0.5395125999743182,0.0,0.0,0.0,0.006582450106899902,2.8521592459052765,0.0,0.0,0.0,0.0,0.0,0.929982036981108,0.0,0.13673215906358932,0.0,1.9897336817659959,0.09326317922343945,0.3421688924297775,0.6688293914093539,0.0040651611150373575,0.060878501946692504,2.469942828014799,1.2189402515129548,7.709068115259834,0.33120391278413364,0.0,0.20507958637069557,0.04957746932889922,0.3306238445346523,0.0,0.418875290864222,0.0], [0.0,0.0,0.002940545369331193,2.4319893289378514,2.2172770427529445,0.03749893151076414,3.3664333279030516,0.0,0.0,0.018733670070899155,2.8832623422007475E-4,2.820573872196456,0.0,0.0,0.0,0.0,0.020192630176569342,0.0,0.0,0.0,0.0,0.5229232429447424,1.1413083401780593,0.0011397456864640273,0.012258317531467808,0.04666907001759383,0.006855489421505545,2.5677923164985916,0.0,0.004722691995870871,0.010124398677613179,0.0,3.8529071791570804,0.23756793150655484,0.012343778381777309,0.0,0.0,0.6205487903261269], [0.0,0.0,18.745827861722482,0.08370750367666735,0.021959641975002237,0.009114821134706927,4.285848560018987,0.0,0.0,0.0,0.11652371730600813,0.10120565066115496,0.0,0.0,0.0,0.0,0.0,0.0,0.0,0.0,0.0,3.77588167051259,4.168326880992692,0.0010128718637389996,6.75847810984967E-4,0.007854940348088334,8.723164027655358E-4,2.5687405411354036,6.204753365043822,0.0,4.3056508661937425,0.0,0.0,1.9709442968043684,4.298109978950469,0.0,0.0,0.0], [0.0,0.0,0.0,0.09705278699641426,0.09626446093054743,0.581078481902667,4.32942209856833,0.0,0.0,0.0,0.0,0.0,0.0,0.0,0.0,0.0,0.0,0.8013683464378716,0.0,0.0,0.0,3.9793943268571184,4.330076178240563,0.0,0.0,0.04225156977420184,0.0,0.2160041129197014,0.6106460461270018,0.0,4.305572634306641,0.0,0.0,5.636354130401243E-5,4.298109978957827,0.0,0.0,0.0], [12.078680672577587,121.10721758763151,1.2179782808506658,0.7052769053919755,0.056650393999311946,0.004717186229981853,0.10823555246398359,0.0,0.0,0.6546634703568863,6.707872908713349E-4,2.8521592459052765,0.0,0.0,123.72513957448432,0.0,0.6540152456758291,0.0,0.0,17.013387220626612,7.0401749131501115,2.5187072647354887,0.010825190445577794,0.0327073205999052,0.006547275668916868,0.0040651611150373575,0.03422531453299677,2.568740541135391,0.18425841011242342,0.5330738590339247,0.0,0.0,0.0,0.5249614292648763,0.0,0.0,17.24369947391047,0.0], [0.0,0.0,0.11798362315741813,0.010817517365811486,0.017167210036343847,0.010867353211477172,0.0,0.0,0.0,0.0,0.00397596034046765,0.0028176431177132887,0.0,0.0,0.0,0.0,0.0,0.10522187473000379,0.0,0.0,0.0,3.9490276143470533,0.23314396335296778,5.363709774842443E-4,0.03494683175021766,0.005868329641243086,2.8816976878077294E-5,2.4767125088071555,7.496322921759579,0.0,0.0,0.0,0.0,1.9159964451470581,0.0,0.0,0.0,0.0], [0.2351081396122158,0.0,0.0010494854156148806,0.37101151076497074,0.25906183825232804,0.032159503202942,0.03191763736894114,0.0,0.0,0.010130558811362036,0.003951244991067337,2.290054868975038,0.0,0.0,0.0,0.0,0.004773833910042548,11.208184238836619,0.0,0.018535120623844225,0.0,2.988871654842564,0.05594331996692757,0.007639666125525302,0.03268858801123458,0.009613957673519004,4.1057326141605695E-4,1.1354958187675865,5.658212637539892,0.0,0.0908272336007292,0.0,0.14683535082546814,0.12504682162730593,0.03137306553978452,0.0,0.0,6.890602906903788], [0.0,0.0,0.019486639978002557,2.3547175043202464,0.6352496633442825,0.03127926318690433,0.011308926498406742,0.0,0.0,0.006851034953269832,0.016410841527738806,2.8515698350258845,0.0,0.0,0.0,0.0,0.006709096258596441,0.0,0.0,0.0020990382520906454,0.0,0.25295248213399335,0.00348088372252925,0.011452631540500044,0.008166843549820658,0.03906301440134759,0.007642336533296543,2.5687405411354107,0.06827347165355965,0.0052877754150916275,0.0031943142404702455,0.0,2.4307299832803793,0.49889160702909935,0.00441446716168297,0.0,3.75103587603147E-4,0.3824644818061575], [0.0,0.0,0.0035304174096827783,2.2306202963511685,0.8629430366959642,0.019340923457085518,0.011788072259255803,0.0,0.0,0.0020816468618692803,0.0022649539359024316,2.852159245904992,0.0,0.0,0.0,0.0,0.0029348854443587416,0.0013437439507370834,0.0,7.262249406599476E-4,0.0,0.6412896358594002,0.009259636416236837,0.004243341691089414,0.004296476773050653,0.021328818353393737,0.004167285182975267,2.5683014259174044,0.3424978799603573,0.00429646789211613,9.627194656942772E-4,0.0,0.34845049677747025,0.15122845921699596,0.0023969960103604224,0.0,1.6854322488617192E-5,0.09494527376938447], [0.0,0.0,3.995148869449304E-6,2.431989328937854,1.9640274260518986,0.0051605152034744,4.236703164434405,0.0,0.0,0.0,1.8631095171470802E-7,0.002508495378984412,0.0,0.0,0.0,0.0,0.0,0.0,0.0,0.0,0.0,0.149859882077976,4.304353599803262,9.073723317576398E-4,3.81698192031339E-4,0.0044497655024758895,1.2613434902623665E-5,2.5687405411354103,0.0,2.679099681034927E-4,4.297189956588715,0.0,5.296440506204231,0.6390136309743291,4.289572082384596,0.0,0.0,3.396758634188806E-4], [8.052453781718391,0.0,3.3166060110791684,0.0729596798681354,0.009441732333218659,0.004717186229981853,0.0,0.0,415.7955930804544,0.0,0.0023772319191924744,2.8521592459052765,273.9948385120746,0.0,0.0,0.0,0.0,0.0,0.0,3.0471738305599905,0.0,0.5623160404990858,0.0,0.0,0.0,0.0040651611150373575,0.7137072826637856,2.568740541135391,1.0134212556183286,0.0,0.0,0.0,0.0,0.06237165496216353,0.0,0.0,5.4453787812348855,0.0], [0.0,0.0,0.0015826419707170285,0.016495798933546323,0.01820001487288006,0.9444426516405653,4.266511997288035,0.0,0.0,0.023764459486949708,2.8477551040071617E-9,0.0,0.0,0.0,0.0,0.0,0.023986403648378937,6.3907218686604175,0.0,0.0,0.0,3.898921366449811,3.649627343949576,0.024131513750922012,0.022292332706499798,0.006032350340946872,3.1173417241854927E-8,0.07110521739201846,3.298744230906792,0.00285830487417654,4.230850282781052,0.0,6.497769005164617E-4,1.4099672778577998,4.258701034907515,0.0,0.0,0.0], [0.0,0.0,36.738345071235265,0.06268013734375907,0.023945011896616512,0.009064778487305379,2.7809172502354365,0.0,0.0,0.0,2.569152939505925E-4,0.09997259212451484,0.0,0.0,0.0,0.0,0.0,0.4469474494843845,0.0,0.0,0.0,3.7371150462447296,2.660452371857928,0.001726407025479532,7.019759480075818E-4,0.006940110109795752,8.078707501834469E-4,2.458946744397799,6.2096983779125,0.01758594174132535,2.730759188538547,0.0,0.01249313319034228,1.9219900494045126,2.745473137069805,0.0,0.0,0.007334455227756025], [0.0,0.0,0.2650934567004713,0.5449176090151362,0.044405647379669004,0.005085716404199184,0.45661873695743066,0.0,0.0,0.0,5.4421801434261375E-5,1.0249947289972088,0.0,0.0,0.0,0.0,0.03883215521200235,0.09445130063089378,0.0,0.035709068326874885,0.0,0.2589484891360807,1.8166022716485233,0.0,0.0,0.005462560248331448,0.0015787973294887573,2.535427187242543,8.264277597307997,0.0,0.0,0.0,23.01727050780418,0.4658382979986587,0.0,0.0,0.0,0.23344195779592225], [0.0,0.0,1.163798143209443E-4,2.4263763896939516,2.216379602760878,0.04939726232764268,2.854715543542523,0.0,0.0,0.02131846951523441,3.1098650608435267E-4,2.829149893868828,0.0,0.0,0.0,0.0,0.022958206168795854,0.0,0.0,0.0,0.0,1.2432577767470911,2.0607730138312497,0.0024412900118063203,0.005171681798106209,0.0515367181136128,0.01008652278817263,2.568740541135408,0.0029729522501478344,0.002243734236551068,0.009348291428179317,0.0,1.8015562554376823,0.0634655107138673,0.010824422886308119,0.0,0.0,0.44088951355690514], [0.0,0.0,0.005889824265643745,2.240840276812025,1.0394229511922444,0.004978592016026267,0.05568996351799256,0.0,0.0,0.0032980527473898554,0.0046331860876810856,0.19876508598668166,0.0,0.0,0.0,0.0,0.004634667232161207,4.06037497254556E-4,0.0,0.0057566256244836085,0.0,0.1351756560645598,0.01501529354835811,0.0016916632652847691,0.004969552648783249,0.0908363835050285,2.833757540148646E-4,2.5666268839311153,0.10380973399280949,0.00895170208285348,0.0,0.0,6.109840738532935,1.850254358915338,0.002995324334617043,0.0,0.0,7.026551595013895], [0.0,0.0,4.209866939331222E-4,2.421414895880298,2.371570614550384,0.053128989528368115,0.01921747198840593,0.0,0.0,0.0037576726039894874,3.212408065072644E-4,2.852159245905585,0.0,0.0,0.0,0.0,0.0031216986833556377,0.0,0.0,2.4004079204688607E-5,0.0,2.5680682040312424,0.01777956348579821,0.0016234109972577055,0.0036878970209716596,0.05125784399276577,0.0068276165237922725,2.5687405411357194,0.006197877892456847,0.002284410285751631,0.0023986610572947226,0.0,0.47431674483252434,0.018632621317887392,0.002501452335241218,0.0,0.0,0.04207766980282066], [8.052453781718361,0.0,0.011680283235871341,1.2907961603597895,0.9943036036904211,0.020670341289521506,0.004265961514052771,0.0,0.0,0.008785711719447465,0.007436610473803728,2.8521592459052822,0.0,0.0,0.0,0.0,0.002577714811947079,0.09372522548597878,0.0,0.0012407059570684002,0.0,1.9780784493778,0.028032659297180296,0.005348232879854206,0.018276922632774455,0.01678037597078528,3.6279638555855673E-4,2.5360246599763174,0.6439291262194314,0.010418381609783544,3.506230347063304E-5,0.0,0.33690561897779847,0.39828805184171934,0.0035000895594059283,0.0,0.001689275253989417,0.05671839346851756], [0.0,0.0,0.39979206394135475,0.454372659772843,0.1699511819979359,0.018323855421414674,0.0,0.0,0.0,0.0012099390871282388,0.009169247494956581,0.7059800113626923,0.0,0.0,0.0,0.0,8.633864629383883E-4,7.585829713930788,0.0,0.015923075572233176,0.0,0.8934783291098417,0.004430110941424575,0.0018134752015789024,0.006568883839441346,0.007392421697642195,7.487768400138823E-5,1.1338064685526312,4.700109741778614,0.014074557334229035,0.0,0.0,0.26076426253795615,1.2938859159752671,0.0,0.0,0.0,0.10753812143507895], [0.0,0.0,6.437746533472966,0.012342802985210777,0.01487676261465575,0.005436468461140098,0.0,0.0,0.0,0.0,9.757257022103801E-4,4.2889612720380094E-4,0.0,0.0,0.0,0.0,0.0,3.2724179947906653E-4,0.0,0.0,0.0,3.899095666651469,0.0,0.0016997969923800355,0.0014807673091805967,0.0046789087480443355,0.00614441989588843,2.5680027524987836,6.560111998586814,6.412918604919394E-4,0.0,0.0,0.0,1.9678741732367981,0.0,0.0,0.0,0.0], [0.0,0.0,6.439391775296357E-4,0.6321256360149137,0.5550957611916825,0.005604416727201548,1.0658350808861013E-4,0.0,0.0,0.0025786842751625264,7.086600620275221E-4,2.852159245905269,0.0,0.0,0.0,0.0,0.0025761309529328574,0.0,0.0,1.961933848233521,0.0,1.8738945943958274,0.03438903434508514,0.008966733682928212,0.005428661854483511,0.005174023378814193,1.1162424576544325E-5,2.5687405411354067,0.49403208875785143,0.0,0.002119965960705927,0.0,0.6637341467310983,0.5474845268901022,0.0021162530669377056,0.0,0.0071496849253042975,0.008547114048770536], [0.0,0.0,0.0,2.431989328937846,1.9516459679199591,0.005265309982057207,4.126975882119669,0.0,0.0,0.0,0.0,0.0,0.0,0.0,0.0,0.0,0.09681267932468963,0.0,0.0,0.0,0.0,0.14360398882463923,4.252775170401433,0.0,0.0,0.027826314111382474,0.0,2.568740541135396,0.0,0.0,4.261078283283144,0.0,5.292812653880832,0.8123688440318407,0.9162238666396554,0.0,0.0,2.683189065005629], [0.0,0.0,0.04286205390424388,0.6808742913771226,0.2824169868650507,0.004893679592328112,0.028421036225236507,0.0,0.0,0.0,7.687818276362087E-4,2.8424580239804302,0.0,0.0,0.0,34.617455531781786,0.0,0.21259895478061316,0.0,0.0,0.0,1.9767130199177037,0.03947144271312718,6.229965828553371E-4,0.0050774790901804276,0.004134296508150241,0.003337272048990528,2.538859273616066,0.7495682261716269,29.699829289032955,0.014645070973448086,0.0,0.0,0.06357382971767002,0.014619421697110476,0.0,0.0,0.07259613847880964], [0.0,0.0,0.2625126545119971,0.0076904991710534725,0.011084416171756805,0.0050147830101649644,4.319175347197414,0.0,0.0,0.0,5.6090821796775044E-6,0.0044704690374690855,0.0,0.0,0.0,0.0,0.0,0.0,0.0,0.0,0.0,3.8782926051231006,3.9823126933211035,5.229070064561646E-4,0.006280458792127162,0.004321623081934364,1.2537730168179253E-5,2.5687405411354085,6.044571151172339,8.355389640030167E-4,4.305650866193835,0.0,2.849139309082761E-4,1.913960914124302,4.29810997895041,0.0,2.0321610618132874E-4,0.0], [0.043538544372632555,0.0,0.017710066388501117,2.144555672591523,1.9583107497617362,0.01739709503904117,0.009176174439768934,0.0,0.0,0.003376852937120679,0.0010432148699241405,2.8521592459053022,0.0,0.0,0.0,0.0,0.004490940048706694,0.148580909493132,0.0,0.00253999801141569,28.16069965260069,3.2829216794749785,0.01411752330615498,0.004053267305487033,0.009586386867492233,0.019776310966503532,0.005452931642347077,2.550622552295662,0.23823083167414388,5.764518616208972E-4,0.004260254709453658,0.0,0.09382785469971903,0.05208035999634202,0.034219880746172375,0.0,0.008271922864425605,0.27140200807596476], [0.0,0.0,0.5053019996037665,0.9241559449963817,0.03068563008296064,0.004717186229981853,0.0,0.0,138.59853102681814,0.0,2.291723800562003E-4,2.8521592459052765,0.0,0.0,0.0,0.0,0.0,0.0,0.0,1.7140352796899945,0.0,1.2925458986472043,0.0,0.0,0.0,0.0040651611150373575,0.1558505081859854,2.568740541135391,2.464456235253663,0.0,0.0,0.0,4.726152285906484,0.7848433249405578,0.0,0.0,2.3337337633863795,0.0], [0.0,0.0,0.007352204401476089,0.7030764059161507,0.363807137335371,0.033878507800856376,0.01396819636668565,0.0,0.0,0.003583077875943334,0.01357723741073122,0.0,0.0,0.0,0.0,0.0,0.003340653413164307,0.007259212303053973,0.0,0.0,0.0,1.217398408976191,0.04192290134928249,0.003801072122844542,0.005565365482820313,0.031678223547935244,3.9369225256829246E-4,2.5662492750599593,0.6843537837123833,8.850147078593104E-4,0.0,0.0,0.4169996298407392,0.5270842055682367,0.0,0.0,0.0,0.04959818801311945], [0.0,0.0,3.0218474556376344E-4,0.6926138540071078,0.27168013567715815,0.48389271954488294,0.002534790455830997,0.0,0.0,2.6175295569663497,4.185947061769736E-4,0.03562415919944139,0.0,0.0,0.0,0.0,2.602153585910012,0.6034501707880064,0.0,0.0,0.0,1.310509991514436,0.009566054320370058,2.307375081721458,2.442864706957719,0.04533876413000678,0.0015000142820689986,0.8752567302066975,0.8420364814973642,0.004993666126781496,0.0,0.0,0.3328049749158109,0.08032196731921613,0.0032210660263797515,0.0,0.0,0.05531587731959135], [0.0,0.0,0.0,0.5814541013025943,0.5149528782244068,0.24344927077771333,0.0,0.0,0.0,0.0026886319738988864,2.9741954306250906E-5,0.0,0.0,0.0,0.0,0.0,0.0,0.07600739264271753,0.0,0.0,0.0,3.669795397139001,0.3975631123979286,0.0,0.014844174934309418,0.20894699430244754,1.221097682790184E-7,2.5602142012238924,0.28493969327511853,0.0,0.009446997681100194,0.0,0.0,0.49707255635340725,0.0,70.0045836003834,0.0,0.0], [0.0,0.0,0.007929136395010038,2.065088389390617,0.8274286161550036,0.08490835988342017,0.003114561122648917,0.0,0.0,0.034454522566952674,6.952081273083979E-4,0.0,0.0,0.0,0.0,0.0,0.0324008562603221,0.010986073032574461,0.0,0.0,0.0,1.5244572378970007,0.013170572473121995,0.004590308015199146,0.007453482524227623,0.1106067574819026,2.5468102483325116E-4,2.566357674962417,0.23148577080278462,0.0017941063829496834,0.0020015751818023056,0.0,0.034259671597781725,0.12741975452093576,0.0018986182069406833,0.0,0.0,0.20939206272688154], [40.262268908591956,0.0,0.8737369733230655,0.6079973322344616,0.05665039399931195,0.004717186229981853,0.0,0.0,0.0,0.0,5.544750052808184E-4,2.8521592459052765,0.0,228.8960788166872,0.0,0.0,0.0,0.0,0.0,1.2696557627333294,0.0,0.3748773603327239,0.0,1.308292823996208,0.3142692321080096,0.0040651611150373575,0.013171841150236825,2.568740541135391,1.566196485955599,6.396886308407096,0.0,0.0,0.0,0.08316220661621804,0.0,0.0,1.2965187574368775,0.0], [11.149551390071618,121.10721758763152,5.785742457843401,0.47143177760949034,0.27163137635567525,0.005080046709211226,0.1964891567807702,0.0,0.0,0.9064571128018426,7.328450224526467E-4,2.8521592459052765,10.538263019695176,0.0,247.45027914896863,0.0,1.0061773010397372,0.929982036981108,0.0,6.309212482505622,2.1662076655846496,2.57968491228961,0.4629850682877887,1.185514574359641,0.6547275668916868,0.0040651611150373575,0.06630189257529753,2.469942828014799,0.4110379917892523,1.3121818068527378,0.49680586917620045,0.0,1.0067543330925055,0.020790551654054516,0.3306238445346523,0.0,5.56505743576752,0.0], [0.0,121.10721758763151,18.829584773196444,0.4377580792088123,0.42487795499483966,0.004717186229981853,0.0,0.0,0.0,0.0,0.0010877057574857434,2.8521592459052765,0.0,0.0,123.72513957448432,0.0,0.0,0.0,0.0,51.80195511951984,84.48209895780134,3.983071953535191,0.0,0.9419708332772697,0.6285384642160192,0.0040651611150373575,0.25691756782150366,2.568740541135391,0.18425841011242342,0.0,0.0,0.0,0.0,0.0,0.0,0.0,45.118852758803335,0.0], [88.57699159890231,121.10721758763151,20.098715376852418,0.2918387194725416,0.28325196999655977,0.004717186229981853,0.5628248728127146,0.0,0.0,0.0,0.004731095160001466,2.8521592459052765,136.9974192560373,0.0,123.72513957448432,0.0,0.0,0.0,0.0,5.58648535602665,0.0,3.983071953535191,0.08660152356462235,0.0,0.7594839775943566,0.0040651611150373575,0.21026574672313078,2.568740541135391,0.4606460252810585,0.0,0.0,0.0,0.0,0.0,0.0,0.0,5.9639862842096365,0.0], [0.06564500365531296,0.0,0.0024957544886157227,1.4310186485247427,1.2341130970544545,0.01031457206447128,0.0023921625725735495,0.0,0.0,0.0011859845477479826,0.0017218245823708745,2.8521592459052805,0.0,0.0,0.0,0.0,0.0021563546143659584,11.487358823049428,0.0,0.012190535403055517,0.0,2.112788202690431,0.006079364199509268,0.00803462440823758,0.014470428108838012,0.010796243106240522,9.85832457673176E-4,1.2538432090643514,0.6147788529430338,0.007725708101940938,0.03377439900474435,0.0,0.2744189129219204,0.051091274128124906,0.006462737830668294,0.0,0.0011743829324609397,6.9502872254419445], [0.0,0.0,4.499054614913772E-6,2.4319893289378456,2.2315014218338938,0.005096578706870287,1.9346941467118577,0.0,0.0,0.0,2.513557604748896E-7,0.010607751728146077,0.0,0.0,0.0,0.0,0.001155396528855486,0.0,0.0,0.0,0.0,0.12593218624845245,4.300182346875146,0.002250433960383993,8.887979987557995E-4,0.004671816957867254,0.0,2.5687405411354085,0.0,0.001982608494779822,4.296583177479768,0.0,1.4909331866422189,0.8055541359850584,4.288178967051123,0.0,0.0,0.006747289634906379], [0.0,0.0,0.007893832758919939,0.9013733713864355,0.363462666025292,0.005435762785222653,0.05724707355193493,0.0,0.0,0.01199424886622772,2.979523004971573E-4,1.3714009223834696,0.0,0.0,0.0,0.0,0.013554720117633765,0.4943649588917811,0.0,0.005525962905160603,0.0,0.8234514659847424,0.03132013650160954,0.021800361253739926,0.01894299861929109,0.0051646502870837385,0.010844933803961227,2.504295765486814,0.7871557468274242,0.011048162881532118,0.004818759518641696,0.0,13.521554968319267,0.68587275845267,0.0029841799853853076,0.0,0.020690558408837212,0.03745208453916123], [0.0,121.10721758763151,20.00781631673218,0.4681579458205354,0.15342815041480318,0.004717186229981853,0.05411777623199179,0.0,0.0,0.0,0.0010191930413159871,2.8521592459052765,0.0,0.0,247.45027914896863,0.0,0.0,0.0,0.0,196.09833255416274,63.361574218351,1.7025680115111208,0.08660152356462235,0.2551171006792605,0.07202003235808555,0.0040651611150373575,0.21675321956837157,2.568740541135391,0.9903889543542757,0.0,0.0,0.0,0.0,0.06237165496216353,0.0,0.0,182.09605948200945,0.0], [0.0,121.10721758763151,20.429131732270477,0.5593575456557047,0.19355551283098252,0.004717186229981853,0.49788354133432444,0.0,0.0,0.0,0.001419116105469681,2.8521592459052765,0.0,0.0,247.45027914896863,0.0,0.0,0.0,0.0,233.8705914954793,239.3659470471038,1.5073193863378271,0.10825190445577793,0.15699513887954494,0.03928365401350121,0.0040651611150373575,0.41666877661177293,2.568740541135391,0.5988398328653761,0.0,0.0,0.0,0.0,0.031185827481081764,0.0,0.0,213.27733559836634,0.0], [0.0,0.0,3.5207446590671427E-4,2.4245723899315452,2.38294824536079,0.05139287774211666,0.0076224471074719455,0.0,0.0,0.002758891539712472,3.529349591050872E-4,2.8521592459035525,0.0,0.0,0.0,0.0,0.0030027588244315295,8.718431898347985E-5,0.0,2.616004044023961E-5,0.0,1.2877994672931308,0.00989640356594741,0.0023272116990781196,0.0029902909083496247,0.05277380558954693,0.007225133123639262,2.5686174871663976,0.011454260294500815,0.0022699183915182307,0.0028003992859226092,0.0,0.6649158621993965,0.026664210020417585,0.0029571138348679755,0.0,4.452254451114773E-6,0.0958732468525475], [0.0,121.10721758763151,6.561322271188717,0.024319893289378464,0.018883464666437318,0.004717186229981853,0.0,0.0,0.0,0.0,0.0019056095009076404,2.8521592459052765,410.99225776811187,0.0,247.45027914896863,0.0,0.0,0.0,0.0,2.2853803729199926,0.0,3.983071953535191,3.33415865723796,0.0,0.0,0.0040651611150373575,5.971560229943701,2.568740541135391,0.18425841011242342,0.0,0.0,0.0,0.0,0.0,0.0,0.0,4.667467526772759,0.0], [3.2209815126873567,0.0,2.8910739851474605,0.45235001518243956,0.2841961432298816,0.004717186229981853,0.25976532591356055,0.0,0.0,0.0,4.5834476011240066E-4,1.711295547543166,328.79380621448945,0.0,0.0,0.0,0.0,0.0,0.0,1.8790905288453275,0.0,2.5319841712472724,0.12124213299047129,0.54163322913443,0.48973622003498174,0.004065161115037358,0.03267968517391855,2.568740541135391,0.45143310477543724,0.0,1.2916952598581213,0.0,0.0,0.016632441323243607,1.289432993685144,0.0,2.0225692616015287,0.0], [0.0,0.0,3.783215979937265E-6,2.431989328937832,2.249515489927991,0.005071251810965734,4.078249045067014,0.0,0.0,0.0,2.138543849508427E-7,0.001858326326495489,0.0,0.0,0.0,0.0,0.0,0.0,0.0,0.0,0.0,0.41028773648221223,4.300413407226356,1.7730317135210535E-4,2.1841315757658574E-4,0.004638860553085912,7.9332103222731E-6,2.5687405411354103,0.0,0.0,4.305129071131882,0.0,2.2108310189300004,0.34593754888644157,4.297303453231123,0.0,0.0,9.548936953415486E-4], [136.13204883810712,0.0,18.185811531567197,0.4483119951645805,0.16923859842561745,0.004717186229981852,0.3283825818152558,0.0,0.0,0.0,0.004039053595180145,2.8521592459052747,0.0,0.0,0.0,0.0,0.0,0.0,0.0,0.2826780754764771,0.0,1.7529642604237747,0.1854579797091441,0.2685703004731838,0.3473762109621553,0.004065161115037357,0.047299490445340604,2.568740541135392,1.022112690057594,4.546214797798754,0.0,0.0,1.2850012504496586,0.07335534262845647,0.0,0.0,0.45011217239317997,0.0], [0.0,0.0,0.04856142437292519,0.012790462396636086,0.012857075016716334,0.22756638163305135,4.309859524632491,0.0,0.0,0.043838205718713046,7.325333190243252E-6,0.031690658287836404,0.0,0.0,0.0,0.0,0.0,12.080064816294545,0.0,0.0,0.0,3.772357708866708,1.5094324810930086,0.0019059080645870683,0.11332445046693154,0.004065161115037351,1.2124564784341532E-4,0.5975651606989417,3.92038202454013,0.0,3.9996307175927988,0.0,0.00538592853094756,0.325025624191719,4.298109978950458,0.0,0.0,0.0], [0.0,0.0,0.040289024280619236,1.1898008420607173,0.9748488700386826,0.00504071890113221,4.3061803237033836,0.0,0.0,0.0,4.340591250815481E-6,0.03864059943648131,0.0,0.0,0.0,0.0,0.0,0.0014331645277778295,0.0,0.0,0.0,3.138328198086034,2.519620364472649,0.0015287418265154673,0.023727637479224562,0.004319879084988898,8.384929161156046E-5,2.5676530133872513,0.8827553636038019,0.014443999567388306,4.302369675863871,0.0,0.0020522166290655396,0.18222099929815322,4.296399469475347,0.0,0.0,0.0], [0.0,0.0,1.9416299011634368E-4,2.4307379236289894,2.36775663226061,0.05124388629096804,0.011744643775989992,0.0,0.0,0.0042755799166649885,2.8504087657204734E-4,2.8521592459048204,0.0,0.0,0.0,0.0,0.007318609958679481,0.0,0.0,0.0,0.0,2.457385837605148,0.011244486767614576,0.0022211756878985607,0.0038743138182196104,0.0798369714405518,0.005187127318266781,2.5687405411348547,8.204891035540487E-4,0.0012057084739246246,0.004020189987448353,0.0,0.4893246264567298,0.020312962645884204,0.00591795182286933,0.0,1.8327943984123233E-5,1.1529808201235017], [179.8381344583774,0.0,16.273811959879083,0.4836956554220828,0.17729475159043925,0.004717186229981852,0.038483751987194156,0.0,0.0,0.0,0.006818579071964394,2.8521592459052765,0.0,0.0,0.0,3.8463839479757485,0.0,0.0,0.0,0.2821457250518509,31.289666280667163,1.9403374483888203,0.03848956602872104,0.36922930810559645,0.41320584221608675,0.0040651611150373575,0.03872845839767333,2.568740541135391,1.2898088707869637,8.766103459668983,0.0,0.0,1.804286057867433,0.0600615936672686,0.0,0.0,0.2881152794304172,0.0], [0.0,0.0,49.3301941172684,0.0729596798681354,0.018883464666437318,0.004717186229981853,2.1647110492796715,0.0,0.0,0.0,405.45622546644904,0.0,0.0,0.0,0.0,0.0,0.0,0.0,0.0,0.0,0.0,1.2183514210813526,0.3464060942584894,0.0,0.0,0.0040651611150373575,0.0,2.568740541135391,1.1055504606745403,0.0,4.305650866193737,0.0,0.0,0.16632441323243607,4.29810997895048,0.0,0.0,0.0], [120.78680672577586,121.10721758763151,2.2513934510389433,0.09727957315751386,0.09913818949879591,0.004717186229981853,0.0,0.0,0.0,0.0,0.0018216947012578612,2.8521592459052765,0.0,0.0,123.72513957448432,0.0,0.0,0.0,0.0,16.251593762986616,0.0,3.983071953535191,0.0,1.1774635415965873,1.2701714797698722,0.0040651611150373575,0.039465911996283964,2.568740541135391,0.4145814227529527,1.0661477180678494,0.0,0.0,0.0,0.0,0.0,0.0,15.298921337755154,0.0], [0.0,0.0,0.004175622790295822,1.474187544975221,0.8852965683579094,0.007506051357759763,0.004566900947847409,0.0,0.0,0.00476414319951946,0.011376644474697991,2.7558838283219877,0.0,0.0,0.0,0.0,0.004759425912935049,0.0057013046198643265,0.0,0.06995869429803901,0.0,0.2330499996037164,0.011005207263610484,0.007046402154558873,0.011388262071920927,0.0067399543927648105,0.007132000204725021,2.568134856470709,2.4116402929904135,0.0015877106747101256,0.0,0.0,0.484132012104232,0.47093773035591535,1.2801518924647744E-4,0.0,0.005599261945743775,0.020200789965590236], [8.052453781718409,0.0,0.003499987875833464,1.5794590612241066,1.3015049555277929,0.004856512405550936,0.004110210853062667,0.0,0.0,0.0,0.0015110624877169283,2.852159245905276,0.0,0.0,0.0,0.0,0.004139336997948285,0.017088910426382806,0.0,0.0,0.0,1.9787500752372595,0.003562720906139527,0.004636987224290357,0.008619198348953853,0.009957071845059867,5.133123968081942E-4,2.5669521774675155,0.6186651048394973,0.013495540735036065,0.0,0.0,0.266910255679237,0.06662626152428011,0.0,0.0,0.0,7.011757765975837], [0.0,0.0,6.646611591126046E-6,2.3998496545754624,1.9933058472694931,0.004977538623829018,3.7149438897860994,0.0,0.0,0.0,0.0,5.484921626740917E-4,0.0,0.0,0.0,0.0,0.003390817504503914,1.627468564716939E-4,0.0,0.0,0.0,0.5394329016287752,4.027828533921026,0.0010013471999047899,8.662549346566931E-4,0.008919119838742667,0.0,2.568246552569807,0.028382882019240583,0.0,4.3056508661938295,0.0,1.891393094300645,0.43931235281619146,4.2296543119395045,0.0,0.0,7.06286937769405], [310.01947059615804,0.0,19.116106905666705,0.4894378524487416,0.3044958677463017,0.004717186229981853,0.16235332869597538,0.0,0.0,0.0,0.010721045091331342,2.8521592459052765,0.0,0.0,0.0,0.0,0.0,0.0,0.0,0.06348278813666647,14.080349826300223,2.602664173560005,0.027062976113944485,0.6933951967179902,1.2636242041009556,0.0040651611150373575,0.03989148525378633,2.568740541135391,0.9788728037222493,0.0,0.0,0.0,0.8785795916108207,0.0727669307891908,0.0,0.0,0.22689078255145356,0.0], [0.0,0.0,0.0,0.0684166155414232,0.06717289696526743,0.019697439798167765,0.0,0.0,0.0,2.6033957471264046,1.725884470871469E-5,0.004534434413203938,0.0,0.0,0.0,0.0,2.6122762203913448,9.476531741925568,0.0,0.0,0.0,3.9614673361869244,0.0,2.6143184950859943,2.6105622308632483,0.006223768130017543,0.0,1.0259851926064312,0.7403292002490065,0.0,0.020843731140794804,0.0,0.006935774419821183,0.0011072869322906618,0.006218251320898151,0.0,0.0,0.020811662465022186], [0.0,0.0,0.004715867755995594,1.008382438717964,0.7290844229166499,0.01924781352913336,0.01338891595771611,0.0,0.0,0.004566833868871289,0.018373537907103978,2.8521592459052236,0.0,0.0,0.0,0.0,0.004625677394792071,0.009835800613394265,0.0,0.01686000100972381,0.0,0.929293878198169,0.03009182383603652,0.0069436357760003795,0.006511360571210308,0.016940632940458705,0.011587213518235585,2.5655252692604296,0.7108591537528164,0.001215242821762883,0.0,0.0,0.5300402886611442,0.49866516569687275,2.9088868561679527E-4,0.0,0.006483979252836703,0.030668493927233142], [0.0,0.0,5.821576692350222E-4,2.4276783231715156,0.797766356184776,0.0068094012145587645,0.022310933626831616,0.0,0.0,0.013455611193273926,5.218022338617411E-4,0.8490346895065822,0.0,0.0,0.0,0.0,0.010800790295080258,0.009856279329859611,0.0,0.0,0.0,0.11970186468365393,6.477301687705485E-4,0.015284617734346117,0.01807968718746528,0.007579990022279869,0.0020346633362516796,2.5677030543050305,0.014746185401667403,0.006379343114841282,0.0,0.0,6.3423236111083545,1.8369548671990248,0.002153877102391041,0.0,0.0,0.0893958731424923], [88.57699159890231,121.10721758763151,1.365905268422767,0.024319893289378464,0.018883464666437318,0.004717186229981853,0.0,0.0,0.0,0.0,0.015278866812182552,2.8521592459052765,0.0,0.0,123.72513957448432,0.0,0.0,0.0,0.0,102.08032332375969,0.0,3.983071953535191,0.21650380891155585,0.0,0.0,0.0040651611150373575,0.11551562055826219,2.568740541135391,0.09212920505621171,0.0,0.0,0.0,0.0,0.0,0.0,0.0,64.04802661738175,0.0], [0.0,0.0,0.001217794730972412,0.9761605089435209,0.4223603003963757,0.004799425954152388,3.096591576975838E-4,0.0,0.0,0.004682438768757346,6.311036529117524E-4,0.0,0.0,0.0,0.0,0.0,0.0020874693134221817,0.0026211608150048665,0.0,0.0,0.0,1.328807853861554,0.023886070647908802,0.001181381986800331,0.0066145923163845035,0.010897066887045687,3.7617387707359484E-4,2.5667023138396945,0.5947008140418878,0.0,0.011548460079196434,0.0,0.675907546407794,0.5889339659983418,0.008799885428517298,0.0,0.0,6.902626799123731], [0.0,0.0,0.00508609448908897,2.3483928766086297,0.7342986246808683,0.01043139806970883,4.224622903545772,0.0,0.0,3.9142808392041037E-4,1.7061707394081657E-4,0.013642615227050651,0.0,0.0,0.0,0.0,3.910405056357723E-4,0.008348986717651025,0.0,0.0,0.0,0.6188091434550557,4.128679092488472,0.003645228436366112,0.0027480941821103988,0.004751802678563913,4.755218974024696E-5,2.5445506077883935,0.10824148755483146,0.0063745752948750345,4.301918014919678,0.0,0.42307313935698687,0.2622530751842083,4.295848492085555,0.0,1.5503961224955188E-4,0.003913463584603575], [17.2355603204589,0.0,0.4636803715232922,1.0688259951458692,0.7885786580223857,0.025169096391478542,0.010527019486223059,0.0,0.0,0.06860514449630384,0.005771652498974082,2.852159245905278,0.0,0.0,0.0,0.0,0.06575988908576144,0.23558483313524847,0.0,0.04869912514593591,0.09644075223493302,2.1552238652690416,0.0458216965436101,0.04095135757303199,0.058656414896871664,0.02134209585394615,0.013182465349756027,2.516837906913823,0.6717228683721732,0.20446668565684784,0.0,0.0,0.38015064048914127,0.5448263741672095,0.0,0.0,0.06216185823327494,0.07236243858096689], [0.0,0.0,0.0027922473196943277,0.2288701557838117,0.20484792859952908,0.045424275654323616,0.0027592373759731718,0.0,0.0,0.01034974619803092,0.001086999563836964,0.2916238018509293,0.0,0.0,0.0,0.0,0.001595305413569652,3.7947786966505466,0.0,2.328575447470572E-4,0.0,3.694544439097543,0.12110712832283273,6.47847890837187E-4,0.003013968258410152,0.017759218296229153,2.207749529427965E-5,1.5025424383072452,0.5203335845403076,0.0,4.540576337572487E-4,0.0,0.03411581964926205,0.5056460439879249,0.0029560591327032187,0.0,0.0,0.09097717451309127], [222.78455462754215,0.0,20.04767826198136,0.42559813256412315,0.1801797253589227,0.00511028508248034,0.30666739864795345,0.0,0.0,0.0,0.009115643441702419,2.852159245905276,0.0,0.0,0.0,0.0,0.0,0.0,0.0,0.12696557627333294,9.386899884200147,1.3263889936772415,0.28145495158502254,0.39902931131884334,0.19205341962156144,0.004403924541290471,0.033476362446250824,2.568740541135391,1.2207119669948048,0.3553825726892831,0.7176084776989562,0.0,1.2522283834453076,0.04331364927928023,0.7163516631584133,0.0,0.4537815651029071,0.0], [0.0,0.0,3.9984023454122815E-6,0.12849417796544527,0.12648553458899217,0.14653486534772198,2.1763380608375712E-4,0.0,0.0,2.617265392591456,2.3483223557414904E-6,7.856105896998421E-4,0.0,0.0,0.0,0.0,2.615545768930051,1.5768312285179402,0.0,0.0,0.0,3.9771206485198665,5.96347084180019E-6,2.615733392785793,2.617554104144979,0.034969287401982456,5.950590249720797E-5,0.9028074067274048,0.6841998696394699,2.936641559200797E-4,0.0022978098204793763,0.0,0.003387994568944082,0.0016950842279576134,8.464808249413564E-4,0.0,0.0,0.00280226493497325], [0.0,0.0,0.003120807776070009,2.149609809563721,1.9452366831447887,0.004762046915207491,0.007473686396212965,0.0,0.0,0.003133431994870567,0.002098757278304145,2.8521592459053875,0.0,0.0,0.0,0.0,0.004780523139212273,0.0010915282124191407,0.0,6.113666848360798E-4,0.0,1.238044102929818,0.006036148085219251,0.0028159715532746063,0.006730917805772208,0.010193977511416675,0.00269538585473746,2.5676180506858715,0.3164023222641987,0.007957284039991172,0.0,0.0,0.37106305014406804,0.03153746736399853,0.0037356872574963837,0.0,1.2486035944980162E-4,7.101951849234057], [0.0,0.0,0.0029946060718585576,1.6269983769027978,1.041283234557459,0.0048034350895495475,0.00602758153251931,0.0,0.0,0.0018723776475988577,0.002502454313602423,2.8521592459053577,0.0,0.0,0.0,0.0,0.0031585128514354647,0.0017041754589827457,0.0,0.011282947023268604,0.0,0.5990937815317288,0.012968113743180427,0.0044874844769961795,0.008167040905905273,0.010305743995312441,6.343849363306756E-4,2.5678536828076237,1.063814707413639,0.005880692214061682,0.0,0.0,0.35243447757872065,0.1099117253735695,0.009939653720473837,0.0,1.324329680732255E-4,7.062716658280911], [0.0,0.0,7.130910298101855,0.09727957315751386,0.10385905566540525,0.004717186229981853,0.0,0.0,0.0,0.0,95.15462409016042,2.8521592459052765,0.0,0.0,0.0,0.0,0.0,0.0,0.0,0.0,0.0,3.983071953535191,0.0,0.0,0.0,0.0040651611150373575,10.89692651180489,2.568740541135391,0.2763876151686351,0.0,0.0,0.0,0.0,0.02079055165405451,0.0,0.0,0.0,0.0]]"
      ]
     },
     "execution_count": 33,
     "metadata": {},
     "output_type": "execute_result"
    }
   ],
   "source": [
    "val centroids = KmeansModel.clusterCenters"
   ]
  },
  {
   "cell_type": "code",
   "execution_count": 34,
   "metadata": {},
   "outputs": [
    {
     "data": {
      "text/plain": [
       "threshold = 828.9728200429139\n"
      ]
     },
     "metadata": {},
     "output_type": "display_data"
    },
    {
     "data": {
      "text/plain": [
       "828.9728200429139"
      ]
     },
     "execution_count": 34,
     "metadata": {},
     "output_type": "execute_result"
    }
   ],
   "source": [
    "val threshold = transformed_data.select(\"cluster\",\"scaledFeatureVector\").as[(Int,Vector)].\n",
    "map { case(cluster, vec) => Vectors.sqdist(centroids(cluster), vec)}.\n",
    "orderBy($\"value\".desc).take(100).last\n"
   ]
  },
  {
   "cell_type": "code",
   "execution_count": 35,
   "metadata": {},
   "outputs": [
    {
     "data": {
      "text/plain": [
       "originalCols = Array(duration, protocol_type, service, flag, src_bytes, dst_bytes, land, wrong_fragment, urgent, hot, num_failed_logins, logged_in, num_compromised, root_shell, su_attempted, num_root, num_file_creations, num_shells, num_access_files, num_outbound_cmds, is_host_login, is_guest_login, count, srv_count, serror_rate, srv_serror_rate, rerror_rate, srv_rerror_rate, same_srv_rate, diff_srv_rate, srv_diff_host_rate, dst_host_count, dst_host_srv_count, dst_host_same_srv_rate, dst_host_diff_srv_rate, dst_host_same_src_port_rate, dst_host_srv_diff_host_rate, dst_host_serror_rate, dst_host_srv_serror_rate, dst_host_rerror_rate, dst_host_srv_rerror_rate, label)\n",
       "anomalies = [duration: int, protocol_type: string .....\n"
      ]
     },
     "metadata": {},
     "output_type": "display_data"
    },
    {
     "data": {
      "text/plain": [
       "[duration: int, protocol_type: string ... 49 more fields]"
      ]
     },
     "execution_count": 35,
     "metadata": {},
     "output_type": "execute_result"
    }
   ],
   "source": [
    "val originalCols = data.columns\n",
    "val anomalies = transformed_data.filter{ row => \n",
    "val cluster = row.getAs[Int](\"cluster\")\n",
    "val vec = row.getAs[Vector](\"scaledFeatureVector\")\n",
    "Vectors.sqdist(centroids(cluster), vec) >= threshold\n",
    "}"
   ]
  },
  {
   "cell_type": "code",
   "execution_count": 36,
   "metadata": {},
   "outputs": [
    {
     "data": {
      "text/plain": [
       "duration"
      ]
     },
     "execution_count": 36,
     "metadata": {},
     "output_type": "execute_result"
    }
   ],
   "source": [
    "originalCols.head"
   ]
  },
  {
   "cell_type": "code",
   "execution_count": 37,
   "metadata": {},
   "outputs": [
    {
     "data": {
      "text/plain": [
       "[protocol_type, service, flag, src_bytes, dst_bytes, land, wrong_fragment, urgent, hot, num_failed_logins, logged_in, num_compromised, root_shell, su_attempted, num_root, num_file_creations, num_shells, num_access_files, num_outbound_cmds, is_host_login, is_guest_login, count, srv_count, serror_rate, srv_serror_rate, rerror_rate, srv_rerror_rate, same_srv_rate, diff_srv_rate, srv_diff_host_rate, dst_host_count, dst_host_srv_count, dst_host_same_srv_rate, dst_host_diff_srv_rate, dst_host_same_src_port_rate, dst_host_srv_diff_host_rate, dst_host_serror_rate, dst_host_srv_serror_rate, dst_host_rerror_rate, dst_host_srv_rerror_rate, label]"
      ]
     },
     "execution_count": 37,
     "metadata": {},
     "output_type": "execute_result"
    }
   ],
   "source": [
    "originalCols.tail"
   ]
  },
  {
   "cell_type": "code",
   "execution_count": 38,
   "metadata": {},
   "outputs": [
    {
     "data": {
      "text/plain": [
       "100"
      ]
     },
     "execution_count": 38,
     "metadata": {},
     "output_type": "execute_result"
    }
   ],
   "source": [
    "anomalies.count()"
   ]
  },
  {
   "cell_type": "code",
   "execution_count": 39,
   "metadata": {},
   "outputs": [
    {
     "data": {
      "text/plain": [
       "51"
      ]
     },
     "execution_count": 39,
     "metadata": {},
     "output_type": "execute_result"
    }
   ],
   "source": [
    "anomalies.columns.size"
   ]
  },
  {
   "cell_type": "code",
   "execution_count": 40,
   "metadata": {},
   "outputs": [
    {
     "name": "stdout",
     "output_type": "stream",
     "text": [
      "root\n",
      " |-- duration: integer (nullable = true)\n",
      " |-- protocol_type: string (nullable = true)\n",
      " |-- service: string (nullable = true)\n",
      " |-- flag: string (nullable = true)\n",
      " |-- src_bytes: integer (nullable = true)\n",
      " |-- dst_bytes: integer (nullable = true)\n",
      " |-- land: integer (nullable = true)\n",
      " |-- wrong_fragment: integer (nullable = true)\n",
      " |-- urgent: integer (nullable = true)\n",
      " |-- hot: integer (nullable = true)\n",
      " |-- num_failed_logins: integer (nullable = true)\n",
      " |-- logged_in: integer (nullable = true)\n",
      " |-- num_compromised: integer (nullable = true)\n",
      " |-- root_shell: integer (nullable = true)\n",
      " |-- su_attempted: integer (nullable = true)\n",
      " |-- num_root: integer (nullable = true)\n",
      " |-- num_file_creations: integer (nullable = true)\n",
      " |-- num_shells: integer (nullable = true)\n",
      " |-- num_access_files: integer (nullable = true)\n",
      " |-- num_outbound_cmds: integer (nullable = true)\n",
      " |-- is_host_login: integer (nullable = true)\n",
      " |-- is_guest_login: integer (nullable = true)\n",
      " |-- count: integer (nullable = true)\n",
      " |-- srv_count: integer (nullable = true)\n",
      " |-- serror_rate: double (nullable = true)\n",
      " |-- srv_serror_rate: double (nullable = true)\n",
      " |-- rerror_rate: double (nullable = true)\n",
      " |-- srv_rerror_rate: double (nullable = true)\n",
      " |-- same_srv_rate: double (nullable = true)\n",
      " |-- diff_srv_rate: double (nullable = true)\n",
      " |-- srv_diff_host_rate: double (nullable = true)\n",
      " |-- dst_host_count: integer (nullable = true)\n",
      " |-- dst_host_srv_count: integer (nullable = true)\n",
      " |-- dst_host_same_srv_rate: double (nullable = true)\n",
      " |-- dst_host_diff_srv_rate: double (nullable = true)\n",
      " |-- dst_host_same_src_port_rate: double (nullable = true)\n",
      " |-- dst_host_srv_diff_host_rate: double (nullable = true)\n",
      " |-- dst_host_serror_rate: double (nullable = true)\n",
      " |-- dst_host_srv_serror_rate: double (nullable = true)\n",
      " |-- dst_host_rerror_rate: double (nullable = true)\n",
      " |-- dst_host_srv_rerror_rate: double (nullable = true)\n",
      " |-- label: string (nullable = true)\n",
      " |-- protocol_type_indexed: double (nullable = false)\n",
      " |-- service_indexed: double (nullable = false)\n",
      " |-- flag_indexed: double (nullable = false)\n",
      " |-- protocol_type_encoded: vector (nullable = true)\n",
      " |-- service_encoded: vector (nullable = true)\n",
      " |-- flag_encoded: vector (nullable = true)\n",
      " |-- featureVector: vector (nullable = true)\n",
      " |-- scaledFeatureVector: vector (nullable = true)\n",
      " |-- cluster: integer (nullable = false)\n",
      "\n"
     ]
    }
   ],
   "source": [
    "anomalies.printSchema()"
   ]
  },
  {
   "cell_type": "code",
   "execution_count": 41,
   "metadata": {},
   "outputs": [
    {
     "data": {
      "text/plain": [
       "final_list = [duration: int, protocol_type: string ... 40 more fields]\n"
      ]
     },
     "metadata": {},
     "output_type": "display_data"
    },
    {
     "data": {
      "text/plain": [
       "[duration: int, protocol_type: string ... 40 more fields]"
      ]
     },
     "execution_count": 41,
     "metadata": {},
     "output_type": "execute_result"
    }
   ],
   "source": [
    "val final_list = anomalies.select(originalCols.head,originalCols.tail:_*)"
   ]
  },
  {
   "cell_type": "code",
   "execution_count": 42,
   "metadata": {},
   "outputs": [
    {
     "data": {
      "text/plain": [
       "42"
      ]
     },
     "execution_count": 42,
     "metadata": {},
     "output_type": "execute_result"
    }
   ],
   "source": [
    "final_list.columns.size"
   ]
  },
  {
   "cell_type": "code",
   "execution_count": 43,
   "metadata": {},
   "outputs": [
    {
     "name": "stdout",
     "output_type": "stream",
     "text": [
      "root\n",
      " |-- duration: integer (nullable = true)\n",
      " |-- protocol_type: string (nullable = true)\n",
      " |-- service: string (nullable = true)\n",
      " |-- flag: string (nullable = true)\n",
      " |-- src_bytes: integer (nullable = true)\n",
      " |-- dst_bytes: integer (nullable = true)\n",
      " |-- land: integer (nullable = true)\n",
      " |-- wrong_fragment: integer (nullable = true)\n",
      " |-- urgent: integer (nullable = true)\n",
      " |-- hot: integer (nullable = true)\n",
      " |-- num_failed_logins: integer (nullable = true)\n",
      " |-- logged_in: integer (nullable = true)\n",
      " |-- num_compromised: integer (nullable = true)\n",
      " |-- root_shell: integer (nullable = true)\n",
      " |-- su_attempted: integer (nullable = true)\n",
      " |-- num_root: integer (nullable = true)\n",
      " |-- num_file_creations: integer (nullable = true)\n",
      " |-- num_shells: integer (nullable = true)\n",
      " |-- num_access_files: integer (nullable = true)\n",
      " |-- num_outbound_cmds: integer (nullable = true)\n",
      " |-- is_host_login: integer (nullable = true)\n",
      " |-- is_guest_login: integer (nullable = true)\n",
      " |-- count: integer (nullable = true)\n",
      " |-- srv_count: integer (nullable = true)\n",
      " |-- serror_rate: double (nullable = true)\n",
      " |-- srv_serror_rate: double (nullable = true)\n",
      " |-- rerror_rate: double (nullable = true)\n",
      " |-- srv_rerror_rate: double (nullable = true)\n",
      " |-- same_srv_rate: double (nullable = true)\n",
      " |-- diff_srv_rate: double (nullable = true)\n",
      " |-- srv_diff_host_rate: double (nullable = true)\n",
      " |-- dst_host_count: integer (nullable = true)\n",
      " |-- dst_host_srv_count: integer (nullable = true)\n",
      " |-- dst_host_same_srv_rate: double (nullable = true)\n",
      " |-- dst_host_diff_srv_rate: double (nullable = true)\n",
      " |-- dst_host_same_src_port_rate: double (nullable = true)\n",
      " |-- dst_host_srv_diff_host_rate: double (nullable = true)\n",
      " |-- dst_host_serror_rate: double (nullable = true)\n",
      " |-- dst_host_srv_serror_rate: double (nullable = true)\n",
      " |-- dst_host_rerror_rate: double (nullable = true)\n",
      " |-- dst_host_srv_rerror_rate: double (nullable = true)\n",
      " |-- label: string (nullable = true)\n",
      "\n"
     ]
    }
   ],
   "source": [
    "final_list.printSchema()"
   ]
  },
  {
   "cell_type": "code",
   "execution_count": 44,
   "metadata": {},
   "outputs": [
    {
     "data": {
      "text/html": [
       "<table>\n",
       "<tr><td>0</td><td>tcp</td><td>telnet</td><td>S1</td><td>167</td><td>19827</td><td>0</td><td>0</td><td>0</td><td>0</td><td>0</td><td>1</td><td>83</td><td>1</td><td>2</td><td>91</td><td>0</td><td>0</td><td>0</td><td>0</td><td>0</td><td>0</td><td>1</td><td>1</td><td>1.0</td><td>1.0</td><td>0.0</td><td>0.0</td><td>1.0</td><td>0.0</td><td>0.0</td><td>21</td><td>8</td><td>0.29</td><td>0.14</td><td>0.05</td><td>0.25</td><td>0.05</td><td>0.12</td><td>0.0</td><td>0.0</td><td>normal.</td></tr>\n",
       "</table>"
      ],
      "text/plain": [
       "+-----+-----+--------+-----+-----+-------+-----+-----+-----+-----+-----+-----+-----+-----+-----+-----+-----+-----+-----+-----+-----+-----+-----+-----+-----+-----+-----+-----+-----+-----+-----+-----+-----+------+------+------+------+------+------+-----+-----+---------+\n",
       "| 0   | tcp | telnet | S1  | 167 | 19827 | 0   | 0   | 0   | 0   | 0   | 1   | 83  | 1   | 2   | 91  | 0   | 0   | 0   | 0   | 0   | 0   | 1   | 1   | 1.0 | 1.0 | 0.0 | 0.0 | 1.0 | 0.0 | 0.0 | 21  | 8   | 0.29 | 0.14 | 0.05 | 0.25 | 0.05 | 0.12 | 0.0 | 0.0 | normal. |\n",
       "+-----+-----+--------+-----+-----+-------+-----+-----+-----+-----+-----+-----+-----+-----+-----+-----+-----+-----+-----+-----+-----+-----+-----+-----+-----+-----+-----+-----+-----+-----+-----+-----+-----+------+------+------+------+------+------+-----+-----+---------+"
      ]
     },
     "execution_count": 44,
     "metadata": {},
     "output_type": "execute_result"
    }
   ],
   "source": [
    "final_list.take(1)"
   ]
  },
  {
   "cell_type": "code",
   "execution_count": 45,
   "metadata": {},
   "outputs": [
    {
     "data": {
      "text/plain": [
       "Name: Compile Error\n",
       "Message: <console>:60: error: overloaded method value select with alternatives:\n",
       "  [U1](c1: org.apache.spark.sql.TypedColumn[org.apache.spark.sql.Row,U1])org.apache.spark.sql.Dataset[U1] <and>\n",
       "  (col: String,cols: String*)org.apache.spark.sql.DataFrame <and>\n",
       "  (cols: org.apache.spark.sql.Column*)org.apache.spark.sql.DataFrame\n",
       " cannot be applied to (Array[String])\n",
       "       anomalies.select(originalCols)\n",
       "                 ^\n",
       "\n",
       "StackTrace: "
      ]
     },
     "execution_count": 45,
     "metadata": {},
     "output_type": "execute_result"
    }
   ],
   "source": [
    "anomalies.select(originalCols)"
   ]
  },
  {
   "cell_type": "code",
   "execution_count": null,
   "metadata": {
    "collapsed": true
   },
   "outputs": [],
   "source": []
  }
 ],
 "metadata": {
  "kernelspec": {
   "display_name": "Spark - Scala",
   "language": "scala",
   "name": "spark_scala"
  },
  "language_info": {
   "codemirror_mode": "text/x-scala",
   "file_extension": ".scala",
   "mimetype": "text/x-scala",
   "name": "scala",
   "pygments_lexer": "scala",
   "version": "2.11.8"
  }
 },
 "nbformat": 4,
 "nbformat_minor": 2
}
