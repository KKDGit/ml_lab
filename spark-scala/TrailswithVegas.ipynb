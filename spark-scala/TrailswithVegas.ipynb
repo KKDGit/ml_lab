{
 "cells": [
  {
   "cell_type": "code",
   "execution_count": 4,
   "metadata": {},
   "outputs": [
    {
     "name": "stdout",
     "output_type": "stream",
     "text": [
      "Marking org.vegas-viz:vegas_2.11:0.3.6 for download\n",
      "Preparing to fetch from:\n",
      "-> file:/tmp/toree-tmp-dir2023978934651127866/toree_add_deps/\n",
      "-> https://repo1.maven.org/maven2\n",
      "-> New file at /tmp/toree-tmp-dir2023978934651127866/toree_add_deps/https/repo1.maven.org/maven2/org/scalaz/scalaz-core_2.11/7.1.1/scalaz-core_2.11-7.1.1.jar\n",
      "-> New file at /tmp/toree-tmp-dir2023978934651127866/toree_add_deps/https/repo1.maven.org/maven2/org/spire-math/algebra_2.11/0.3.1/algebra_2.11-0.3.1.jar\n",
      "-> New file at /tmp/toree-tmp-dir2023978934651127866/toree_add_deps/https/repo1.maven.org/maven2/org/vegas-viz/vegas_2.11/0.3.6/vegas_2.11-0.3.6.jar\n",
      "-> New file at /tmp/toree-tmp-dir2023978934651127866/toree_add_deps/https/repo1.maven.org/maven2/org/spire-math/algebra-std_2.11/0.3.1/algebra-std_2.11-0.3.1.jar\n",
      "-> New file at /tmp/toree-tmp-dir2023978934651127866/toree_add_deps/https/repo1.maven.org/maven2/org/typelevel/cats-core_2.11/0.4.1/cats-core_2.11-0.4.1.jar\n",
      "-> New file at /tmp/toree-tmp-dir2023978934651127866/toree_add_deps/https/repo1.maven.org/maven2/io/circe/circe-core_2.11/0.4.1/circe-core_2.11-0.4.1.jar\n",
      "-> New file at /tmp/toree-tmp-dir2023978934651127866/toree_add_deps/https/repo1.maven.org/maven2/com/github/julien-truffaut/monocle-macro_2.11/1.1.0/monocle-macro_2.11-1.1.0.jar\n",
      "-> New file at /tmp/toree-tmp-dir2023978934651127866/toree_add_deps/https/repo1.maven.org/maven2/com/github/mpilquist/simulacrum_2.11/0.7.0/simulacrum_2.11-0.7.0.jar\n",
      "-> New file at /tmp/toree-tmp-dir2023978934651127866/toree_add_deps/https/repo1.maven.org/maven2/io/circe/circe-numbers_2.11/0.4.1/circe-numbers_2.11-0.4.1.jar\n",
      "-> New file at /tmp/toree-tmp-dir2023978934651127866/toree_add_deps/https/repo1.maven.org/maven2/io/circe/circe-jawn_2.11/0.4.1/circe-jawn_2.11-0.4.1.jar\n",
      "-> New file at /tmp/toree-tmp-dir2023978934651127866/toree_add_deps/https/repo1.maven.org/maven2/org/typelevel/macro-compat_2.11/1.1.1/macro-compat_2.11-1.1.1.jar\n",
      "-> New file at /tmp/toree-tmp-dir2023978934651127866/toree_add_deps/https/repo1.maven.org/maven2/org/scalafx/scalafx_2.11/8.0.92-R10/scalafx_2.11-8.0.92-R10.pom\n",
      "-> New file at /tmp/toree-tmp-dir2023978934651127866/toree_add_deps/https/repo1.maven.org/maven2/org/spire-math/algebra-std_2.11/0.3.1/algebra-std_2.11-0.3.1.pom\n",
      "-> New file at /tmp/toree-tmp-dir2023978934651127866/toree_add_deps/https/repo1.maven.org/maven2/org/spire-math/algebra_2.11/0.3.1/algebra_2.11-0.3.1.pom\n",
      "-> New file at /tmp/toree-tmp-dir2023978934651127866/toree_add_deps/https/repo1.maven.org/maven2/org/spire-math/jawn-parser_2.11/0.8.4/jawn-parser_2.11-0.8.4.pom\n",
      "-> New file at /tmp/toree-tmp-dir2023978934651127866/toree_add_deps/https/repo1.maven.org/maven2/org/vegas-viz/vegas_2.11/0.3.6/vegas_2.11-0.3.6.pom\n",
      "-> New file at /tmp/toree-tmp-dir2023978934651127866/toree_add_deps/https/repo1.maven.org/maven2/com/github/julien-truffaut/monocle-macro_2.11/1.1.0/monocle-macro_2.11-1.1.0.pom\n",
      "-> New file at /tmp/toree-tmp-dir2023978934651127866/toree_add_deps/https/repo1.maven.org/maven2/org/typelevel/machinist_2.11/0.4.1/machinist_2.11-0.4.1.pom\n",
      "-> New file at /tmp/toree-tmp-dir2023978934651127866/toree_add_deps/https/repo1.maven.org/maven2/io/circe/circe-numbers_2.11/0.4.1/circe-numbers_2.11-0.4.1.pom\n",
      "-> New file at /tmp/toree-tmp-dir2023978934651127866/toree_add_deps/https/repo1.maven.org/maven2/org/typelevel/cats-macros_2.11/0.4.1/cats-macros_2.11-0.4.1.pom\n",
      "-> New file at /tmp/toree-tmp-dir2023978934651127866/toree_add_deps/https/repo1.maven.org/maven2/io/circe/circe-generic_2.11/0.4.1/circe-generic_2.11-0.4.1.pom\n",
      "-> New file at /tmp/toree-tmp-dir2023978934651127866/toree_add_deps/https/repo1.maven.org/maven2/io/circe/circe-parser_2.11/0.4.1/circe-parser_2.11-0.4.1.pom\n",
      "-> New file at /tmp/toree-tmp-dir2023978934651127866/toree_add_deps/https/repo1.maven.org/maven2/org/webjars/bower/vega/3.0.0-rc4/vega-3.0.0-rc4.jar\n",
      "-> New file at /tmp/toree-tmp-dir2023978934651127866/toree_add_deps/https/repo1.maven.org/maven2/org/scalafx/scalafx_2.11/8.0.92-R10/scalafx_2.11-8.0.92-R10.jar\n",
      "-> New file at /tmp/toree-tmp-dir2023978934651127866/toree_add_deps/https/repo1.maven.org/maven2/com/chuusai/shapeless_2.11/2.3.0/shapeless_2.11-2.3.0.jar\n",
      "-> New file at /tmp/toree-tmp-dir2023978934651127866/toree_add_deps/https/repo1.maven.org/maven2/org/vegas-viz/vegas-macros_2.11/0.3.6/vegas-macros_2.11-0.3.6.jar\n",
      "-> New file at /tmp/toree-tmp-dir2023978934651127866/toree_add_deps/https/repo1.maven.org/maven2/com/github/julien-truffaut/monocle-core_2.11/1.1.0/monocle-core_2.11-1.1.0.jar\n",
      "-> New file at /tmp/toree-tmp-dir2023978934651127866/toree_add_deps/https/repo1.maven.org/maven2/org/webjars/bower/vega-lite/1.2.0/vega-lite-1.2.0.jar\n",
      "-> New file at /tmp/toree-tmp-dir2023978934651127866/toree_add_deps/https/repo1.maven.org/maven2/org/spire-math/jawn-parser_2.11/0.8.4/jawn-parser_2.11-0.8.4.jar\n",
      "-> New file at /tmp/toree-tmp-dir2023978934651127866/toree_add_deps/https/repo1.maven.org/maven2/org/typelevel/machinist_2.11/0.4.1/machinist_2.11-0.4.1.jar\n",
      "-> New file at /tmp/toree-tmp-dir2023978934651127866/toree_add_deps/https/repo1.maven.org/maven2/io/circe/circe-generic_2.11/0.4.1/circe-generic_2.11-0.4.1.jar\n",
      "-> New file at /tmp/toree-tmp-dir2023978934651127866/toree_add_deps/https/repo1.maven.org/maven2/org/typelevel/cats-macros_2.11/0.4.1/cats-macros_2.11-0.4.1.jar\n",
      "-> New file at /tmp/toree-tmp-dir2023978934651127866/toree_add_deps/https/repo1.maven.org/maven2/io/circe/circe-parser_2.11/0.4.1/circe-parser_2.11-0.4.1.jar\n",
      "-> New file at /tmp/toree-tmp-dir2023978934651127866/toree_add_deps/https/repo1.maven.org/maven2/org/vegas-viz/vegas-macros_2.11/0.3.6/vegas-macros_2.11-0.3.6.pom\n",
      "-> New file at /tmp/toree-tmp-dir2023978934651127866/toree_add_deps/https/repo1.maven.org/maven2/org/webjars/bower/vega/3.0.0-rc4/vega-3.0.0-rc4.pom\n",
      "-> New file at /tmp/toree-tmp-dir2023978934651127866/toree_add_deps/https/repo1.maven.org/maven2/org/scalaz/scalaz-core_2.11/7.1.1/scalaz-core_2.11-7.1.1.pom\n",
      "-> New file at /tmp/toree-tmp-dir2023978934651127866/toree_add_deps/https/repo1.maven.org/maven2/org/webjars/bower/vega-lite/1.2.0/vega-lite-1.2.0.pom\n",
      "-> New file at /tmp/toree-tmp-dir2023978934651127866/toree_add_deps/https/repo1.maven.org/maven2/com/github/julien-truffaut/monocle-core_2.11/1.1.0/monocle-core_2.11-1.1.0.pom\n",
      "-> New file at /tmp/toree-tmp-dir2023978934651127866/toree_add_deps/https/repo1.maven.org/maven2/io/circe/circe-core_2.11/0.4.1/circe-core_2.11-0.4.1.pom\n",
      "-> New file at /tmp/toree-tmp-dir2023978934651127866/toree_add_deps/https/repo1.maven.org/maven2/org/typelevel/cats-core_2.11/0.4.1/cats-core_2.11-0.4.1.pom\n",
      "-> New file at /tmp/toree-tmp-dir2023978934651127866/toree_add_deps/https/repo1.maven.org/maven2/com/chuusai/shapeless_2.11/2.3.0/shapeless_2.11-2.3.0.pom\n",
      "-> New file at /tmp/toree-tmp-dir2023978934651127866/toree_add_deps/https/repo1.maven.org/maven2/com/github/mpilquist/simulacrum_2.11/0.7.0/simulacrum_2.11-0.7.0.pom\n",
      "-> New file at /tmp/toree-tmp-dir2023978934651127866/toree_add_deps/https/repo1.maven.org/maven2/io/circe/circe-jawn_2.11/0.4.1/circe-jawn_2.11-0.4.1.pom\n",
      "-> New file at /tmp/toree-tmp-dir2023978934651127866/toree_add_deps/https/repo1.maven.org/maven2/org/typelevel/macro-compat_2.11/1.1.1/macro-compat_2.11-1.1.1.pom\n"
     ]
    },
    {
     "data": {
      "text/plain": [
       "Waiting for a Spark session to start..."
      ]
     },
     "metadata": {},
     "output_type": "display_data"
    },
    {
     "data": {
      "text/plain": [
       "Waiting for a Spark session to start..."
      ]
     },
     "metadata": {},
     "output_type": "display_data"
    }
   ],
   "source": [
    "%AddDeps org.vegas-viz vegas_2.11 0.3.6 --transitive"
   ]
  },
  {
   "cell_type": "code",
   "execution_count": 5,
   "metadata": {
    "collapsed": true
   },
   "outputs": [],
   "source": [
    "import vegas._\n",
    "import vegas.data.External._"
   ]
  },
  {
   "cell_type": "code",
   "execution_count": 8,
   "metadata": {},
   "outputs": [
    {
     "data": {
      "text/plain": [
       "plot = ExtendedUnitSpecBuilder(ExtendedUnitSpec(None,None,Bar,Some(Encoding(None,None,Some(PositionChannelDef(None,None,None,Some(country),Some(Nominal),None,None,None,None,None)),Some(PositionChannelDef(None,None,None,Some(population),Some(Quantitative),None,None,None,None,None)),None,None,None,None,None,None,None,None,None,None,None)),None,Some(Country Pop),Some(Data(None,None,Some(List(Values(Map(country -> USA, population -> 314)), Values(Map(country -> UK, population -> 64)), Values(Map(country -> DK, population -> 80)))))),None,None))\n"
      ]
     },
     "metadata": {},
     "output_type": "display_data"
    },
    {
     "data": {
      "text/plain": [
       "ExtendedUnitSpecBuilder(ExtendedUnitSpec(None,None,Bar,Some(Encoding(None,None,Some(PositionChannelDef(None,None,None,Some(country),Some(Nominal),None,None,None,None,None)),Some(PositionChannelDef(None,None,None,Some(population),Some(Quantitative),None,None,None,None,None)),None,None,None,None,None,None,None,None,None,None,None)),None,Some(Country Pop),Some(Data(None,None,Some(List(Values(Map(country -> USA, population -> 314)), Values(Map(country -> UK, population -> 64)), Values(Map(country -> DK, population -> 80)))))),None,None))"
      ]
     },
     "execution_count": 8,
     "metadata": {},
     "output_type": "execute_result"
    }
   ],
   "source": [
    "val plot = Vegas(\"Country Pop\").\n",
    "  withData(\n",
    "    Seq(\n",
    "      Map(\"country\" -> \"USA\", \"population\" -> 314),\n",
    "      Map(\"country\" -> \"UK\", \"population\" -> 64),\n",
    "      Map(\"country\" -> \"DK\", \"population\" -> 80)\n",
    "    )\n",
    "  ).\n",
    "  encodeX(\"country\", Nom).\n",
    "  encodeY(\"population\", Quant).\n",
    "  mark(Bar)"
   ]
  },
  {
   "cell_type": "code",
   "execution_count": 28,
   "metadata": {},
   "outputs": [
    {
     "data": {
      "text/plain": [
       "Name: Compile Error\n",
       "Message: <console>:46: error: not enough arguments for method content: (mimeType: String, data: String)Unit.\n",
       "Unspecified value parameter data.\n",
       "       implicit val render = vegas.render.HTMLRenderer(kernel.display.content(\"text/html\"))\n",
       "                                                                             ^\n",
       "\n",
       "StackTrace: "
      ]
     },
     "execution_count": 28,
     "metadata": {},
     "output_type": "execute_result"
    }
   ],
   "source": [
    "implicit val render = vegas.render.HTMLRenderer(kernel.display.content(\"text/html\"))"
   ]
  },
  {
   "cell_type": "code",
   "execution_count": 25,
   "metadata": {},
   "outputs": [
    {
     "data": {
      "text/plain": [
       "Name: Compile Error\n",
       "Message: <console>:47: error: not enough arguments for method content: (mimeType: String, data: String)Unit.\n",
       "Unspecified value parameters mimeType, data.\n",
       "       kernel.display.content()\n",
       "                             ^\n",
       "\n",
       "StackTrace: "
      ]
     },
     "execution_count": 25,
     "metadata": {},
     "output_type": "execute_result"
    }
   ],
   "source": [
    "kernel.display.content()"
   ]
  }
 ],
 "metadata": {
  "kernelspec": {
   "display_name": "Spark - Scala",
   "language": "scala",
   "name": "spark_scala"
  },
  "language_info": {
   "codemirror_mode": "text/x-scala",
   "file_extension": ".scala",
   "mimetype": "text/x-scala",
   "name": "scala",
   "pygments_lexer": "scala",
   "version": "2.11.8"
  }
 },
 "nbformat": 4,
 "nbformat_minor": 2
}
