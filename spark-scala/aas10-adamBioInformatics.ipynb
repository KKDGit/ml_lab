{
 "cells": [
  {
   "cell_type": "code",
   "execution_count": 1,
   "metadata": {},
   "outputs": [
    {
     "data": {
      "text/plain": [
       "Waiting for a Spark session to start..."
      ]
     },
     "metadata": {},
     "output_type": "display_data"
    },
    {
     "data": {
      "text/html": [
       "<ul>\n",
       "<li><a href=\"Some(http://gw02.itversity.com:4055)\" target=\"new_tab\">Spark UI: application_1533622723243_21771</a></li>\n",
       "</ul>"
      ],
      "text/plain": [
       "Spark application_1533622723243_21771: Some(http://gw02.itversity.com:4055)"
      ]
     },
     "execution_count": 1,
     "metadata": {},
     "output_type": "execute_result"
    }
   ],
   "source": [
    "spark"
   ]
  },
  {
   "cell_type": "code",
   "execution_count": 2,
   "metadata": {},
   "outputs": [
    {
     "data": {
      "text/plain": [
       "Waiting for a Spark session to start..."
      ]
     },
     "metadata": {},
     "output_type": "display_data"
    },
    {
     "name": "stdout",
     "output_type": "stream",
     "text": [
      "http://rm01.itversity.com:19288/proxy/application_1533622723243_21771\n"
     ]
    }
   ],
   "source": [
    "spark.sparkContext.getConf.getAll.foreach(x=>if(x._2.contains(\"/proxy/\")){println(x._2)})"
   ]
  },
  {
   "cell_type": "code",
   "execution_count": 3,
   "metadata": {
    "collapsed": true
   },
   "outputs": [],
   "source": [
    "import scala.collection.JavaConversions._"
   ]
  },
  {
   "cell_type": "code",
   "execution_count": 4,
   "metadata": {},
   "outputs": [
    {
     "data": {
      "text/plain": [
       "os_name = Linux\n",
       "hdfs_home = /user/kranthidr\n"
      ]
     },
     "metadata": {},
     "output_type": "display_data"
    },
    {
     "data": {
      "text/plain": [
       "/user/kranthidr"
      ]
     },
     "execution_count": 4,
     "metadata": {},
     "output_type": "execute_result"
    }
   ],
   "source": [
    "val os_name = System.getProperty(\"os.name\")\n",
    "val hdfs_home = \"/user/\" + System.getProperty(\"user.home\").split(\"/\")(2)"
   ]
  },
  {
   "cell_type": "code",
   "execution_count": 6,
   "metadata": {},
   "outputs": [
    {
     "data": {
      "text/plain": [
       "path = /user/kranthidr/dataSets/genomics/reads/HG00103\n"
      ]
     },
     "metadata": {},
     "output_type": "display_data"
    },
    {
     "data": {
      "text/plain": [
       "/user/kranthidr/dataSets/genomics/reads/HG00103"
      ]
     },
     "execution_count": 6,
     "metadata": {},
     "output_type": "execute_result"
    }
   ],
   "source": [
    "val path = hdfs_home+\"/dataSets/genomics/reads/HG00103\""
   ]
  },
  {
   "cell_type": "code",
   "execution_count": 7,
   "metadata": {},
   "outputs": [
    {
     "data": {
      "text/html": [
       "<ul>\n",
       "<li><a href=\"Some(http://gw02.itversity.com:4055)\" target=\"new_tab\">Spark UI: application_1533622723243_21771</a></li>\n",
       "</ul>"
      ],
      "text/plain": [
       "Spark application_1533622723243_21771: Some(http://gw02.itversity.com:4055)"
      ]
     },
     "execution_count": 7,
     "metadata": {},
     "output_type": "execute_result"
    }
   ],
   "source": [
    "sc"
   ]
  },
  {
   "cell_type": "code",
   "execution_count": 9,
   "metadata": {},
   "outputs": [
    {
     "data": {
      "text/plain": [
       "readsRDD = ParquetUnboundAlignmentRecordRDD with 86 reference sequences, 3 read groups, and 13 processing steps\n"
      ]
     },
     "metadata": {},
     "output_type": "display_data"
    },
    {
     "data": {
      "text/plain": [
       "ParquetUnboundAlignmentRecordRDD with 86 reference sequences, 3 read groups, and 13 processing steps"
      ]
     },
     "execution_count": 9,
     "metadata": {},
     "output_type": "execute_result"
    }
   ],
   "source": [
    "import org.bdgenomics.adam.rdd.ADAMContext._\n",
    "import org.bdgenomics.adam.rdd.read.AlignmentRecordRDD\n",
    "\n",
    "val readsRDD = sc.loadAlignments(path)"
   ]
  },
  {
   "cell_type": "code",
   "execution_count": 13,
   "metadata": {},
   "outputs": [
    {
     "data": {
      "text/plain": [
       "160397565"
      ]
     },
     "execution_count": 13,
     "metadata": {},
     "output_type": "execute_result"
    }
   ],
   "source": [
    "readsRDD.rdd.count()"
   ]
  },
  {
   "cell_type": "code",
   "execution_count": 15,
   "metadata": {},
   "outputs": [
    {
     "data": {
      "text/plain": [
       "readsDF = [readInFragment: int, contigName: string ... 30 more fields]\n"
      ]
     },
     "metadata": {},
     "output_type": "display_data"
    },
    {
     "data": {
      "text/plain": [
       "[readInFragment: int, contigName: string ... 30 more fields]"
      ]
     },
     "execution_count": 15,
     "metadata": {},
     "output_type": "execute_result"
    }
   ],
   "source": [
    "val readsDF = readsRDD.toDF().sample(false, 0.00001).cache()"
   ]
  },
  {
   "cell_type": "code",
   "execution_count": 16,
   "metadata": {},
   "outputs": [
    {
     "name": "stdout",
     "output_type": "stream",
     "text": [
      "root\n",
      " |-- readInFragment: integer (nullable = true)\n",
      " |-- contigName: string (nullable = true)\n",
      " |-- start: long (nullable = true)\n",
      " |-- oldPosition: long (nullable = true)\n",
      " |-- end: long (nullable = true)\n",
      " |-- mapq: integer (nullable = true)\n",
      " |-- readName: string (nullable = true)\n",
      " |-- sequence: string (nullable = true)\n",
      " |-- qual: string (nullable = true)\n",
      " |-- cigar: string (nullable = true)\n",
      " |-- oldCigar: string (nullable = true)\n",
      " |-- basesTrimmedFromStart: integer (nullable = true)\n",
      " |-- basesTrimmedFromEnd: integer (nullable = true)\n",
      " |-- readPaired: boolean (nullable = true)\n",
      " |-- properPair: boolean (nullable = true)\n",
      " |-- readMapped: boolean (nullable = true)\n",
      " |-- mateMapped: boolean (nullable = true)\n",
      " |-- failedVendorQualityChecks: boolean (nullable = true)\n",
      " |-- duplicateRead: boolean (nullable = true)\n",
      " |-- readNegativeStrand: boolean (nullable = true)\n",
      " |-- mateNegativeStrand: boolean (nullable = true)\n",
      " |-- primaryAlignment: boolean (nullable = true)\n",
      " |-- secondaryAlignment: boolean (nullable = true)\n",
      " |-- supplementaryAlignment: boolean (nullable = true)\n",
      " |-- mismatchingPositions: string (nullable = true)\n",
      " |-- origQual: string (nullable = true)\n",
      " |-- attributes: string (nullable = true)\n",
      " |-- recordGroupName: string (nullable = true)\n",
      " |-- recordGroupSample: string (nullable = true)\n",
      " |-- mateAlignmentStart: long (nullable = true)\n",
      " |-- mateContigName: string (nullable = true)\n",
      " |-- inferredInsertSize: long (nullable = true)\n",
      "\n"
     ]
    }
   ],
   "source": [
    "readsDF.printSchema()"
   ]
  },
  {
   "cell_type": "code",
   "execution_count": 18,
   "metadata": {},
   "outputs": [
    {
     "name": "stdout",
     "output_type": "stream",
     "text": [
      "+--------------+----------+------+-----------+------+----+-----------------+----------------------------------------------------------------------------------------------------+----------------------------------------------------------------------------------------------------+-----+--------+---------------------+-------------------+----------+----------+----------+----------+-------------------------+-------------+------------------+------------------+----------------+------------------+----------------------+--------------------+--------+----------------------------------------------------------------------------------------------------------------------------------------------------------------------------+---------------+-----------------+------------------+--------------+------------------+\n",
      "|readInFragment|contigName|start |oldPosition|end   |mapq|readName         |sequence                                                                                            |qual                                                                                                |cigar|oldCigar|basesTrimmedFromStart|basesTrimmedFromEnd|readPaired|properPair|readMapped|mateMapped|failedVendorQualityChecks|duplicateRead|readNegativeStrand|mateNegativeStrand|primaryAlignment|secondaryAlignment|supplementaryAlignment|mismatchingPositions|origQual|attributes                                                                                                                                                                  |recordGroupName|recordGroupSample|mateAlignmentStart|mateContigName|inferredInsertSize|\n",
      "+--------------+----------+------+-----------+------+----+-----------------+----------------------------------------------------------------------------------------------------+----------------------------------------------------------------------------------------------------+-----+--------+---------------------+-------------------+----------+----------+----------+----------+-------------------------+-------------+------------------+------------------+----------------+------------------+----------------------+--------------------+--------+----------------------------------------------------------------------------------------------------------------------------------------------------------------------------+---------------+-----------------+------------------+--------------+------------------+\n",
      "|1             |GL000205.1|151960|null       |152060|60  |SRR062643.8350565|CAGAACACCCCAGCTGTGGTCTGAATAATTGTCCCTCACATAGGATTCCAGAACACTGCTGCTGGGTTCTGAGTGTTTGTCCCTCACATAGGATTCCAGA|/FDEF=HEGGD?E>=FB8=FJMLDMLKMAH??EE>CEJDIBKG<D<>@FHCEJ@KA?>6BHGF>:CCF@GD0@=DICFIF:>:A>.66;?ADAB;@ABA@|100M |null    |0                    |0                  |true      |true      |true      |true      |false                    |false        |false             |true              |true            |false             |false                 |100                 |null    |XT:A:U\tMQ:i:60\tBQ:Z:@@@@@@@@@@@@@@@@@@@@@@@@@@@@@@@@@@@@@@@@@@@@@@@@@@@@@@@@@@@@@@@@@@@@@@@@@@@@@@@@@@@@@@@@@@@@@@@@@@@B\tSM:i:37\tNM:i:0\tAM:i:37\tRG:Z:SRR062643\tX1:i:0\tX0:i:1|SRR062643      |HG00103          |152075            |GL000205.1    |214               |\n",
      "+--------------+----------+------+-----------+------+----+-----------------+----------------------------------------------------------------------------------------------------+----------------------------------------------------------------------------------------------------+-----+--------+---------------------+-------------------+----------+----------+----------+----------+-------------------------+-------------+------------------+------------------+----------------+------------------+----------------------+--------------------+--------+----------------------------------------------------------------------------------------------------------------------------------------------------------------------------+---------------+-----------------+------------------+--------------+------------------+\n",
      "only showing top 1 row\n",
      "\n"
     ]
    }
   ],
   "source": [
    "readsDF.show(1, false)"
   ]
  },
  {
   "cell_type": "code",
   "execution_count": 19,
   "metadata": {},
   "outputs": [
    {
     "data": {
      "text/html": [
       "<table>\n",
       "<tr><td>1</td><td>GL000205.1</td><td>151960</td><td>NULL</td><td>152060</td><td>60</td><td>SRR062643.8350565</td><td>CAGAACACCCCAGCTGTGGTCTGAATAATTGTCCCTCACATAGGATTCCAGAACACTGCTGCTGGGTTCTGAGTGTTTGTCCCTCACATAGGATTCCAGA</td><td>/FDEF=HEGGD?E>=FB8=FJMLDMLKMAH??EE>CEJDIBKG<D<>@FHCEJ@KA?>6BHGF>:CCF@GD0@=DICFIF:>:A>.66;?ADAB;@ABA@</td><td>100M</td><td>NULL</td><td>0</td><td>0</td><td>true</td><td>true</td><td>true</td><td>true</td><td>false</td><td>false</td><td>false</td><td>true</td><td>true</td><td>false</td><td>false</td><td>100</td><td>NULL</td><td>XT:A:U\tMQ:i:60\tBQ:Z:@@@@@@@@@@@@@@@@@@@@@@@@@@@@@@@@@@@@@@@@@@@@@@@@@@@@@@@@@@@@@@@@@@@@@@@@@@@@@@@@@@@@@@@@@@@@@@@@@@@B\tSM:i:37\tNM:i:0\tAM:i:37\tRG:Z:SRR062643\tX1:i:0\tX0:i:1</td><td>SRR062643</td><td>HG00103</td><td>152075</td><td>GL000205.1</td><td>214</td></tr>\n",
       "</table>"
      ],
      "text/plain": [
       "+-----+------------+--------+------+--------+-----+-------------------+------------------------------------------------------------------------------------------------------+------------------------------------------------------------------------------------------------------+------+------+-----+-----+------+------+------+------+-------+-------+-------+------+------+-------+-------+-----+------+------------------------------------------------------------------------------------------------------------------------------------------------------------------------------+-----------+---------+--------+------------+-----+\n",
       "| 1   | GL000205.1 | 151960 | NULL | 152060 | 60  | SRR062643.8350565 | CAGAACACCCCAGCTGTGGTCTGAATAATTGTCCCTCACATAGGATTCCAGAACACTGCTGCTGGGTTCTGAGTGTTTGTCCCTCACATAGGATTCCAGA | /FDEF=HEGGD?E>=FB8=FJMLDMLKMAH??EE>CEJDIBKG<D<>@FHCEJ@KA?>6BHGF>:CCF@GD0@=DICFIF:>:A>.66;?ADAB;@ABA@ | 100M | NULL | 0   | 0   | true | true | true | true | false | false | false | true | true | false | false | 100 | NULL | XT:A:U\tMQ:i:60\tBQ:Z:@@@@@@@@@@@@@@@@@@@@@@@@@@@@@@@@@@@@@@@@@@@@@@@@@@@@@@@@@@@@@@@@@@@@@@@@@@@@@@@@@@@@@@@@@@@@@@@@@@@B\tSM:i:37\tNM:i:0\tAM:i:37\tRG:Z:SRR062643\tX1:i:0\tX0:i:1 | SRR062643 | HG00103 | 152075 | GL000205.1 | 214 |\n",
       "+-----+------------+--------+------+--------+-----+-------------------+------------------------------------------------------------------------------------------------------+------------------------------------------------------------------------------------------------------+------+------+-----+-----+------+------+------+------+-------+-------+-------+------+------+-------+-------+-----+------+------------------------------------------------------------------------------------------------------------------------------------------------------------------------------+-----------+---------+--------+------------+-----+"
      ]
     },
     "execution_count": 19,
     "metadata": {},
     "output_type": "execute_result"
    }
   ],
   "source": [
    "readsDF.take(1)"
   ]
  }
 ],
 "metadata": {
  "kernelspec": {
   "display_name": "adam - Scala",
   "language": "scala",
   "name": "adam_scala"
  },
  "language_info": {
   "codemirror_mode": "text/x-scala",
   "file_extension": ".scala",
   "mimetype": "text/x-scala",
   "name": "scala",
   "pygments_lexer": "scala",
   "version": "2.11.8"
  },
  "toc": {
   "base_numbering": 1,
   "nav_menu": {},
   "number_sections": true,
   "sideBar": true,
   "skip_h1_title": false,
   "title_cell": "Table of Contents",
   "title_sidebar": "Contents",
   "toc_cell": false,
   "toc_position": {},
   "toc_section_display": true,
   "toc_window_display": false
  }
 },
 "nbformat": 4,
 "nbformat_minor": 2
}
