{
 "cells": [
  {
   "cell_type": "code",
   "execution_count": 17,
   "metadata": {},
   "outputs": [
    {
     "data": {
      "text/plain": [
       "rdd = ParallelCollectionRDD[10] at parallelize at <console>:28\n"
      ]
     },
     "metadata": {},
     "output_type": "display_data"
    },
    {
     "data": {
      "text/plain": [
       "ParallelCollectionRDD[10] at parallelize at <console>:28"
      ]
     },
     "execution_count": 17,
     "metadata": {},
     "output_type": "execute_result"
    }
   ],
   "source": [
    "//Example\n",
    "val rdd = sc.parallelize(Array(1,2,2,4), 4)"
   ]
  },
  {
   "cell_type": "code",
   "execution_count": 18,
   "metadata": {},
   "outputs": [
    {
     "data": {
      "text/plain": [
       "4"
      ]
     },
     "execution_count": 18,
     "metadata": {},
     "output_type": "execute_result"
    }
   ],
   "source": [
    "rdd.count()"
   ]
  },
  {
   "cell_type": "code",
   "execution_count": 19,
   "metadata": {},
   "outputs": [
    {
     "data": {
      "text/plain": [
       "[1, 2, 2, 4]"
      ]
     },
     "execution_count": 19,
     "metadata": {},
     "output_type": "execute_result"
    }
   ],
   "source": [
    "rdd.collect()"
   ]
  },
  {
   "cell_type": "code",
   "execution_count": 20,
   "metadata": {
    "collapsed": true
   },
   "outputs": [],
   "source": [
    "rdd.saveAsTextFile(\"/user/kranthidr/temp/mynumbers\")"
   ]
  },
  {
   "cell_type": "code",
   "execution_count": 21,
   "metadata": {
    "collapsed": true
   },
   "outputs": [],
   "source": [
    "rdd.saveAsTextFile(\"/user/kranthidr/temp/some_text.txt\") //still save as directory --- how to save as single file"
   ]
  },
  {
   "cell_type": "code",
   "execution_count": 22,
   "metadata": {},
   "outputs": [
    {
     "data": {
      "text/plain": [
       "rdd2 = /user/kranthidr/samples/auto_data.csv MapPartitionsRDD[14] at textFile at <console>:27\n"
      ]
     },
     "metadata": {},
     "output_type": "display_data"
    },
    {
     "data": {
      "text/plain": [
       "/user/kranthidr/samples/auto_data.csv MapPartitionsRDD[14] at textFile at <console>:27"
      ]
     },
     "execution_count": 22,
     "metadata": {},
     "output_type": "execute_result"
    }
   ],
   "source": [
    "val rdd2 = sc.textFile(\"/user/kranthidr/samples/auto_data.csv\")"
   ]
  },
  {
   "cell_type": "code",
   "execution_count": 23,
   "metadata": {},
   "outputs": [
    {
     "data": {
      "text/plain": [
       "[18,8,307,130,3504,12,70,1, 15,8,350,165,3693,11.5,70,1, 18,8,318,150,3436,11,70,1]"
      ]
     },
     "execution_count": 23,
     "metadata": {},
     "output_type": "execute_result"
    }
   ],
   "source": [
    "rdd2.take(3)"
   ]
  },
  {
   "cell_type": "code",
   "execution_count": 24,
   "metadata": {},
   "outputs": [
    {
     "data": {
      "text/plain": [
       "3"
      ]
     },
     "execution_count": 24,
     "metadata": {},
     "output_type": "execute_result"
    }
   ],
   "source": [
    "rdd2.take(3).length"
   ]
  },
  {
   "cell_type": "code",
   "execution_count": 25,
   "metadata": {},
   "outputs": [
    {
     "name": "stdout",
     "output_type": "stream",
     "text": [
      "18,8,307,130,3504,12,70,1\n",
      "15,8,350,165,3693,11.5,70,1\n",
      "18,8,318,150,3436,11,70,1\n"
     ]
    }
   ],
   "source": [
    "rdd2.take(3).foreach(println)"
   ]
  },
  {
   "cell_type": "code",
   "execution_count": 63,
   "metadata": {},
   "outputs": [
    {
     "data": {
      "text/plain": [
       "d1 = [value: array<string>]\n"
      ]
     },
     "metadata": {},
     "output_type": "display_data"
    },
    {
     "data": {
      "text/plain": [
       "lastException: Throwable = null\n"
      ]
     },
     "metadata": {},
     "output_type": "display_data"
    },
    {
     "data": {
      "text/plain": [
       "[value: array<string>]"
      ]
     },
     "execution_count": 63,
     "metadata": {},
     "output_type": "execute_result"
    }
   ],
   "source": [
    "val d1 = rdd2.map(x => { x.split(\",\")}).toDF() // No use of Split Method"
   ]
  },
  {
   "cell_type": "code",
   "execution_count": 64,
   "metadata": {},
   "outputs": [
    {
     "name": "stdout",
     "output_type": "stream",
     "text": [
      "+--------------------+\n",
      "|               value|\n",
      "+--------------------+\n",
      "|[18, 8, 307, 130,...|\n",
      "|[15, 8, 350, 165,...|\n",
      "|[18, 8, 318, 150,...|\n",
      "|[16, 8, 304, 150,...|\n",
      "|[17, 8, 302, 140,...|\n",
      "|[15, 8, 429, 198,...|\n",
      "|[14, 8, 454, 220,...|\n",
      "|[14, 8, 440, 215,...|\n",
      "|[14, 8, 455, 225,...|\n",
      "|[15, 8, 390, 190,...|\n",
      "|[15, 8, 383, 170,...|\n",
      "|[14, 8, 340, 160,...|\n",
      "|[15, 8, 400, 150,...|\n",
      "|[14, 8, 455, 225,...|\n",
      "|[24, 4, 113, 95, ...|\n",
      "|[22, 6, 198, 95, ...|\n",
      "|[18, 6, 199, 97, ...|\n",
      "|[21, 6, 200, 85, ...|\n",
      "|[27, 4, 97, 88, 2...|\n",
      "|[26, 4, 97, 46, 1...|\n",
      "+--------------------+\n",
      "only showing top 20 rows\n",
      "\n"
     ]
    }
   ],
   "source": [
    "d1.show()"
   ]
  },
  {
   "cell_type": "code",
   "execution_count": 82,
   "metadata": {},
   "outputs": [
    {
     "name": "stdout",
     "output_type": "stream",
     "text": [
      "root\n",
      " |-- value: array (nullable = true)\n",
      " |    |-- element: string (containsNull = true)\n",
      "\n"
     ]
    }
   ],
   "source": [
    "d1.printSchema()"
   ]
  },
  {
   "cell_type": "code",
   "execution_count": 105,
   "metadata": {},
   "outputs": [
    {
     "data": {
      "text/plain": [
       "d2 = [value[0]: string, value[1]: string ... 6 more fields]\n"
      ]
     },
     "metadata": {},
     "output_type": "display_data"
    },
    {
     "data": {
      "text/plain": [
       "[value[0]: string, value[1]: string ... 6 more fields]"
      ]
     },
     "execution_count": 105,
     "metadata": {},
     "output_type": "execute_result"
    }
   ],
   "source": [
    "val d2 = d1.selectExpr(\"value[0]\", \"value[1]\", \"value[2]\", \"value[3]\", \"value[4]\", \"value[5]\", \"value[6]\", \"value[7]\")"
   ]
  },
  {
   "cell_type": "code",
   "execution_count": 106,
   "metadata": {},
   "outputs": [
    {
     "name": "stdout",
     "output_type": "stream",
     "text": [
      "+--------+--------+--------+--------+--------+--------+--------+--------+\n",
      "|value[0]|value[1]|value[2]|value[3]|value[4]|value[5]|value[6]|value[7]|\n",
      "+--------+--------+--------+--------+--------+--------+--------+--------+\n",
      "|      18|       8|     307|     130|    3504|      12|      70|       1|\n",
      "|      15|       8|     350|     165|    3693|    11.5|      70|       1|\n",
      "|      18|       8|     318|     150|    3436|      11|      70|       1|\n",
      "|      16|       8|     304|     150|    3433|      12|      70|       1|\n",
      "|      17|       8|     302|     140|    3449|    10.5|      70|       1|\n",
      "|      15|       8|     429|     198|    4341|      10|      70|       1|\n",
      "|      14|       8|     454|     220|    4354|       9|      70|       1|\n",
      "|      14|       8|     440|     215|    4312|     8.5|      70|       1|\n",
      "|      14|       8|     455|     225|    4425|      10|      70|       1|\n",
      "|      15|       8|     390|     190|    3850|     8.5|      70|       1|\n",
      "|      15|       8|     383|     170|    3563|      10|      70|       1|\n",
      "|      14|       8|     340|     160|    3609|       8|      70|       1|\n",
      "|      15|       8|     400|     150|    3761|     9.5|      70|       1|\n",
      "|      14|       8|     455|     225|    3086|      10|      70|       1|\n",
      "|      24|       4|     113|      95|    2372|      15|      70|       3|\n",
      "|      22|       6|     198|      95|    2833|    15.5|      70|       1|\n",
      "|      18|       6|     199|      97|    2774|    15.5|      70|       1|\n",
      "|      21|       6|     200|      85|    2587|      16|      70|       1|\n",
      "|      27|       4|      97|      88|    2130|    14.5|      70|       3|\n",
      "|      26|       4|      97|      46|    1835|    20.5|      70|       2|\n",
      "+--------+--------+--------+--------+--------+--------+--------+--------+\n",
      "only showing top 20 rows\n",
      "\n"
     ]
    }
   ],
   "source": [
    "d2.show()"
   ]
  },
  {
   "cell_type": "code",
   "execution_count": 108,
   "metadata": {
    "collapsed": true
   },
   "outputs": [],
   "source": [
    "d2.write.mode(\"ignore\").json(\"/user/kranthidr/temp/auto_sample.json\") //creating directory ..how to write file???"
   ]
  },
  {
   "cell_type": "code",
   "execution_count": null,
   "metadata": {
    "collapsed": true
   },
   "outputs": [],
   "source": []
  }
 ],
 "metadata": {
  "kernelspec": {
   "display_name": "Spark - Scala",
   "language": "scala",
   "name": "spark_scala"
  },
  "language_info": {
   "codemirror_mode": "text/x-scala",
   "file_extension": ".scala",
   "mimetype": "text/x-scala",
   "name": "scala",
   "pygments_lexer": "scala",
   "version": "2.11.8"
  }
 },
 "nbformat": 4,
 "nbformat_minor": 2
}
