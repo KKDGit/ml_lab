{
 "cells": [
  {
   "cell_type": "markdown",
   "metadata": {},
   "source": [
    "Given a timeseries clickstream hit data of user activity, enrich the data with session id and visit number.\n",
    "\n",
    "A session will be defined as 30 mins of inactivity and maximum 2 hours.\n",
    "\n",
    "For Batch use case, the source and sink are hive tables. Read the data from hive, use spark batch (Scala) to do the computation. \n",
    "\n",
    "Please don't use direct spark sql and save the results in parquet with enriched data.\n",
    "\n",
    "For real-time, the source and sink are Kafka (JSON). \n",
    "Read the real-time stream from Kafka, process the stream, add additional 2 fields- session id and visit number. Write the stream back to Kafka.\n",
    "Usage of latest spark version is recommended. Code should be well formatted and documented.\n",
    "\n",
    "Please see below some sample records. \n",
    "Feel free to create your own data set for testing the code/data pipeline.\n"
   ]
  },
  {
   "cell_type": "code",
   "execution_count": 1,
   "metadata": {
    "collapsed": true
   },
   "outputs": [],
   "source": [
    "import subprocess\n",
    "# result = subprocess.run(['last', '-FR'], stdout=subprocess.PIPE).stdout.decode(\"utf-8\")\n",
    "result = subprocess.check_output(['last', '-FR'])"
   ]
  },
  {
   "cell_type": "code",
   "execution_count": 2,
   "metadata": {
    "collapsed": true
   },
   "outputs": [],
   "source": [
    "users = result.split(\"\\n\")[:-3]"
   ]
  },
  {
   "cell_type": "code",
   "execution_count": 3,
   "metadata": {
    "collapsed": true
   },
   "outputs": [],
   "source": [
    "import re\n",
    "import hashlib\n",
    "def get_features(user):\n",
    "    wordList = re.sub(\"[^\\w]\", \" \",  user).split()\n",
    "    mystring = wordList[0]\n",
    "    hash_object = hashlib.md5(mystring.encode())\n",
    "    date = wordList[4:10]\n",
    "    date[0] = '10'\n",
    "    #return [mystring, str(hash_object.hexdigest()), \" \".join(wordList[3:10])]\n",
    "    return [str(hash_object.hexdigest()), \" \".join(date)]"
   ]
  },
  {
   "cell_type": "code",
   "execution_count": 4,
   "metadata": {},
   "outputs": [
    {
     "data": {
      "text/plain": [
       "['annapurn pts/21       Thu Oct 11 12:55:11 2018   still logged in                      ',\n",
       " 'roshanku pts/15       Thu Oct 11 12:52:22 2018   still logged in                      ',\n",
       " 'katukuri pts/11       Thu Oct 11 12:44:33 2018   still logged in                      ',\n",
       " 'chandrar pts/8        Thu Oct 11 12:37:56 2018   still logged in                      ',\n",
       " 'deepikag pts/22       Thu Oct 11 12:37:28 2018   still logged in                      ',\n",
       " 'learning pts/9        Thu Oct 11 12:37:24 2018   still logged in                      ',\n",
       " 'chandrar pts/10       Thu Oct 11 12:37:21 2018   still logged in                      ',\n",
       " 'katukuri pts/19       Thu Oct 11 12:36:54 2018   still logged in                      ',\n",
       " 'katukuri pts/15       Thu Oct 11 12:36:44 2018 - Thu Oct 11 12:42:50 2018  (00:06)    ',\n",
       " 'choudhar pts/6        Thu Oct 11 12:28:12 2018   still logged in                      ',\n",
       " 'mailprad pts/6        Thu Oct 11 12:06:59 2018 - Thu Oct 11 12:18:58 2018  (00:11)    ',\n",
       " 'abhirajs pts/18       Thu Oct 11 11:50:19 2018   still logged in                      ',\n",
       " 'illenkoa pts/13       Thu Oct 11 11:47:53 2018   still logged in                      ',\n",
       " 'abhirajs pts/3        Thu Oct 11 11:47:30 2018   still logged in                      ',\n",
       " 'training pts/8        Thu Oct 11 11:42:57 2018 - Thu Oct 11 12:14:05 2018  (00:31)    ',\n",
       " 'deepikag pts/34       Thu Oct 11 11:35:46 2018 - Thu Oct 11 12:37:22 2018  (01:01)    ',\n",
       " 'rkarra77 pts/28       Thu Oct 11 11:35:13 2018   still logged in                      ',\n",
       " 'training pts/23       Thu Oct 11 11:34:34 2018 - Thu Oct 11 11:38:47 2018  (00:04)    ',\n",
       " 'rkarra77 pts/20       Thu Oct 11 11:32:21 2018   still logged in                      ',\n",
       " 'training pts/20       Thu Oct 11 11:29:03 2018 - Thu Oct 11 11:30:48 2018  (00:01)    ',\n",
       " 'reach2sr pts/4        Thu Oct 11 11:19:13 2018   still logged in                      ',\n",
       " 'itversit pts/4        Thu Oct 11 11:16:38 2018 - Thu Oct 11 11:16:50 2018  (00:00)    ',\n",
       " 'illenkoa pts/13       Thu Oct 11 11:14:01 2018 - Thu Oct 11 11:47:15 2018  (00:33)    ',\n",
       " 'ramprasa pts/10       Thu Oct 11 11:13:55 2018 - Thu Oct 11 12:32:16 2018  (01:18)    ',\n",
       " 'deepikag pts/7        Thu Oct 11 11:12:48 2018   still logged in                      ',\n",
       " 'training pts/34       Thu Oct 11 11:10:18 2018 - Thu Oct 11 11:23:45 2018  (00:13)    ',\n",
       " 'vkrmkuma pts/17       Thu Oct 11 11:09:22 2018   still logged in                      ',\n",
       " 'roshanku pts/0        Thu Oct 11 11:06:56 2018   still logged in                      ',\n",
       " 'training pts/26       Thu Oct 11 10:55:29 2018 - Thu Oct 11 12:13:57 2018  (01:18)    ',\n",
       " 'training pts/25       Thu Oct 11 10:52:35 2018 - Thu Oct 11 12:14:01 2018  (01:21)    ',\n",
       " 'deepikag pts/0        Thu Oct 11 10:51:46 2018 - Thu Oct 11 11:00:21 2018  (00:08)    ',\n",
       " 'training pts/17       Thu Oct 11 10:48:30 2018 - Thu Oct 11 10:58:48 2018  (00:10)    ',\n",
       " 'training pts/25       Thu Oct 11 10:35:12 2018 - Thu Oct 11 10:43:05 2018  (00:07)    ',\n",
       " 'sachinji pts/17       Thu Oct 11 10:31:49 2018 - Thu Oct 11 10:47:00 2018  (00:15)    ',\n",
       " 'training pts/17       Thu Oct 11 10:29:42 2018 - Thu Oct 11 10:31:29 2018  (00:01)    ',\n",
       " 'mailprad pts/33       Thu Oct 11 10:26:43 2018 - Thu Oct 11 12:18:51 2018  (01:52)    ',\n",
       " 'mpradeep pts/29       Thu Oct 11 10:25:33 2018 - Thu Oct 11 11:47:59 2018  (01:22)    ',\n",
       " 'sudheern pts/5        Thu Oct 11 10:22:14 2018   still logged in                      ',\n",
       " 'training pts/32       Thu Oct 11 10:21:44 2018 - Thu Oct 11 12:14:31 2018  (01:52)    ',\n",
       " 'training pts/29       Thu Oct 11 10:21:34 2018 - Thu Oct 11 10:24:00 2018  (00:02)    ',\n",
       " 'kirantad pts/10       Thu Oct 11 10:20:52 2018 - Thu Oct 11 11:12:37 2018  (00:51)    ',\n",
       " 'roshanku pts/20       Thu Oct 11 10:16:45 2018 - Thu Oct 11 11:08:09 2018  (00:51)    ',\n",
       " 'kirantad pts/7        Thu Oct 11 10:11:05 2018 - Thu Oct 11 11:12:19 2018  (01:01)    ',\n",
       " 'vimson18 pts/31       Thu Oct 11 10:02:25 2018   still logged in                      ',\n",
       " 'h_bigdat pts/2        Thu Oct 11 09:57:05 2018   still logged in                      ',\n",
       " 'abhirajs pts/24       Thu Oct 11 09:50:02 2018   gone - no logout                     ',\n",
       " 'dennisca pts/24       Thu Oct 11 09:47:05 2018 - Thu Oct 11 09:48:24 2018  (00:01)    ',\n",
       " 'h_bigdat pts/21       Thu Oct 11 09:46:43 2018 - Thu Oct 11 12:47:16 2018  (03:00)    ',\n",
       " 'jyotin03 pts/19       Thu Oct 11 09:42:36 2018 - Thu Oct 11 12:09:48 2018  (02:27)    ',\n",
       " 'training pts/19       Thu Oct 11 09:28:08 2018 - Thu Oct 11 09:35:10 2018  (00:07)    ',\n",
       " 'training pts/2        Thu Oct 11 09:27:09 2018 - Thu Oct 11 09:48:26 2018  (00:21)    ',\n",
       " 'user_bal pts/15       Thu Oct 11 09:16:47 2018 - Thu Oct 11 12:36:44 2018  (03:19)    ',\n",
       " 'vijgarud pts/27       Thu Oct 11 09:13:01 2018   gone - no logout                     ',\n",
       " 'training pts/15       Thu Oct 11 09:09:08 2018 - Thu Oct 11 09:15:31 2018  (00:06)    ',\n",
       " 'training pts/15       Thu Oct 11 09:01:42 2018 - Thu Oct 11 09:04:32 2018  (00:02)    ',\n",
       " 'krisjskk pts/28       Thu Oct 11 08:54:01 2018 - Thu Oct 11 10:34:33 2018  (01:40)    ',\n",
       " 'maheshso pts/11       Thu Oct 11 08:53:00 2018 - Thu Oct 11 11:53:17 2018  (03:00)    ',\n",
       " 'maheshso pts/9        Thu Oct 11 08:52:57 2018 - Thu Oct 11 11:53:17 2018  (03:00)    ',\n",
       " 'jyotin03 pts/6        Thu Oct 11 08:51:46 2018 - Thu Oct 11 11:52:17 2018  (03:00)    ',\n",
       " 'choudhar pts/22       Thu Oct 11 08:45:44 2018 - Thu Oct 11 11:46:18 2018  (03:00)    ',\n",
       " 'choudhar pts/18       Thu Oct 11 08:45:40 2018 - Thu Oct 11 11:46:18 2018  (03:00)    ',\n",
       " 'abhirajs pts/3        Thu Oct 11 08:41:33 2018 - Thu Oct 11 11:47:30 2018  (03:05)    ',\n",
       " 'jyotin03 pts/8        Thu Oct 11 08:39:36 2018 - Thu Oct 11 11:40:18 2018  (03:00)    ',\n",
       " 'cmahendr pts/27       Thu Oct 11 08:34:26 2018 - Thu Oct 11 09:13:01 2018  (00:38)    ',\n",
       " 'bigdatan pts/23       Thu Oct 11 08:21:17 2018 - Thu Oct 11 11:11:05 2018  (02:49)    ',\n",
       " 'training pts/21       Thu Oct 11 08:19:30 2018 - Thu Oct 11 09:15:25 2018  (00:55)    ',\n",
       " 'training pts/9        Thu Oct 11 08:19:16 2018 - Thu Oct 11 08:49:16 2018  (00:30)    ',\n",
       " 'roshanku pts/13       Thu Oct 11 08:13:21 2018 - Thu Oct 11 11:13:17 2018  (02:59)    ',\n",
       " 'rajeshs  pts/4        Thu Oct 11 08:13:19 2018 - Thu Oct 11 11:16:38 2018  (03:03)    ',\n",
       " 'jshinde0 pts/8        Thu Oct 11 07:51:54 2018 - Thu Oct 11 08:38:02 2018  (00:46)    ',\n",
       " 'jshinde0 pts/3        Thu Oct 11 07:47:50 2018 - Thu Oct 11 08:37:52 2018  (00:50)    ',\n",
       " 'kranthid pts/0        Thu Oct 11 07:34:40 2018 - Thu Oct 11 10:35:18 2018  (03:00)    ',\n",
       " 'rkarra77 pts/26       Thu Oct 11 07:26:56 2018 - Thu Oct 11 10:27:18 2018  (03:00)    ',\n",
       " 'rkarra77 pts/25       Thu Oct 11 07:26:48 2018 - Thu Oct 11 10:27:18 2018  (03:00)    ',\n",
       " 'kranthid pts/17       Thu Oct 11 07:25:56 2018 - Thu Oct 11 10:26:17 2018  (03:00)    ',\n",
       " 'annapurn pts/22       Thu Oct 11 07:22:39 2018 - Thu Oct 11 08:39:16 2018  (01:16)    ',\n",
       " 'kirantad pts/10       Thu Oct 11 07:19:20 2018 - Thu Oct 11 10:20:18 2018  (03:00)    ',\n",
       " 'illenkoa pts/5        Thu Oct 11 07:14:05 2018 - Thu Oct 11 10:15:18 2018  (03:01)    ',\n",
       " 'kirantad pts/7        Thu Oct 11 07:08:44 2018 - Thu Oct 11 10:09:18 2018  (03:00)    ',\n",
       " 'kshitija pts/20       Thu Oct 11 07:01:49 2018 - Thu Oct 11 10:16:45 2018  (03:14)    ',\n",
       " 'kranthid pts/17       Thu Oct 11 06:59:05 2018 - Thu Oct 11 07:22:57 2018  (00:23)    ',\n",
       " 'roshanku pts/9        Thu Oct 11 06:49:42 2018 - Thu Oct 11 08:09:09 2018  (01:19)    ',\n",
       " 'sachinji pts/5        Thu Oct 11 06:48:54 2018 - Thu Oct 11 07:11:51 2018  (00:22)    ',\n",
       " 'roshanku pts/4        Thu Oct 11 06:47:08 2018 - Thu Oct 11 08:12:56 2018  (01:25)    ',\n",
       " 'skakarla pts/2        Thu Oct 11 06:32:04 2018 - Thu Oct 11 09:27:09 2018  (02:55)    ',\n",
       " 'elguerma pts/19       Thu Oct 11 06:17:44 2018 - Thu Oct 11 09:28:08 2018  (03:10)    ',\n",
       " 'roshanku pts/25       Thu Oct 11 06:07:26 2018 - Thu Oct 11 06:47:19 2018  (00:39)    ',\n",
       " 'jshinde0 pts/23       Thu Oct 11 06:06:46 2018 - Thu Oct 11 07:41:22 2018  (01:34)    ',\n",
       " 'jshinde0 pts/21       Thu Oct 11 06:06:36 2018 - Thu Oct 11 07:41:21 2018  (01:34)    ',\n",
       " 'roshanku pts/17       Thu Oct 11 06:05:38 2018 - Thu Oct 11 06:46:15 2018  (00:40)    ',\n",
       " 'cmahendr pts/24       Thu Oct 11 05:56:30 2018 - Thu Oct 11 09:47:05 2018  (03:50)    ',\n",
       " 'sachinji pts/22       Thu Oct 11 05:55:40 2018 - Thu Oct 11 06:34:14 2018  (00:38)    ',\n",
       " 'sseashu1 pts/8        Thu Oct 11 05:52:33 2018 - Thu Oct 11 07:30:20 2018  (01:37)    ',\n",
       " 'annapurn pts/18       Thu Oct 11 05:50:58 2018 - Thu Oct 11 08:39:35 2018  (02:48)    ',\n",
       " 'vijgarud pts/15       Thu Oct 11 05:50:35 2018 - Thu Oct 11 09:01:42 2018  (03:11)    ',\n",
       " 'abhirajs pts/11       Thu Oct 11 05:49:45 2018 - Thu Oct 11 08:53:00 2018  (03:03)    ',\n",
       " 'abhirajs pts/6        Thu Oct 11 05:45:30 2018 - Thu Oct 11 08:51:46 2018  (03:06)    ',\n",
       " 'sseashu1 pts/8        Thu Oct 11 05:10:59 2018 - Thu Oct 11 05:52:23 2018  (00:41)    ',\n",
       " 'sunil000 pts/20       Thu Oct 11 05:06:36 2018 - Thu Oct 11 06:16:50 2018  (01:10)    ',\n",
       " 'sunil000 pts/19       Thu Oct 11 05:06:15 2018 - Thu Oct 11 06:16:55 2018  (01:10)    ',\n",
       " 'sseashu1 pts/18       Thu Oct 11 05:05:10 2018 - Thu Oct 11 05:13:38 2018  (00:08)    ',\n",
       " 'roshanku pts/17       Thu Oct 11 05:04:57 2018 - Thu Oct 11 05:59:04 2018  (00:54)    ',\n",
       " 'kranthid pts/10       Thu Oct 11 05:00:27 2018 - Thu Oct 11 07:07:20 2018  (02:06)    ',\n",
       " 'jshinde0 pts/15       Thu Oct 11 04:37:30 2018 - Thu Oct 11 05:46:41 2018  (01:09)    ',\n",
       " 'jshinde0 pts/11       Thu Oct 11 04:37:09 2018 - Thu Oct 11 05:46:33 2018  (01:09)    ',\n",
       " 'krisjskk pts/13       Thu Oct 11 04:34:31 2018 - Thu Oct 11 07:35:17 2018  (03:00)    ',\n",
       " 'krisjskk pts/11       Thu Oct 11 04:31:46 2018 - Thu Oct 11 04:35:33 2018  (00:03)    ',\n",
       " 'sseashu1 pts/8        Thu Oct 11 04:31:06 2018 - Thu Oct 11 05:10:55 2018  (00:39)    ',\n",
       " 'rajeshs  pts/3        Thu Oct 11 04:30:08 2018 - Thu Oct 11 07:47:50 2018  (03:17)    ',\n",
       " 'rajeshs  pts/0        Thu Oct 11 04:29:54 2018 - Thu Oct 11 07:34:40 2018  (03:04)    ',\n",
       " 'dksriniv pts/7        Thu Oct 11 04:05:37 2018 - Thu Oct 11 07:06:17 2018  (03:00)    ',\n",
       " 'sachinji pts/5        Thu Oct 11 03:58:49 2018 - Thu Oct 11 06:34:49 2018  (02:36)    ',\n",
       " 'illenkoa pts/9        Thu Oct 11 03:40:35 2018 - Thu Oct 11 06:41:17 2018  (03:00)    ',\n",
       " 'ixidor88 pts/7        Thu Oct 11 03:40:30 2018 - Thu Oct 11 04:05:37 2018  (00:25)    ',\n",
       " 'sseashu1 pts/13       Thu Oct 11 03:38:57 2018 - Thu Oct 11 04:31:02 2018  (00:52)    ',\n",
       " 'itversit pts/11       Thu Oct 11 03:38:49 2018 - Thu Oct 11 03:39:01 2018  (00:00)    ',\n",
       " 'sseashu1 pts/5        Thu Oct 11 03:37:07 2018 - Thu Oct 11 03:53:17 2018  (00:16)    ',\n",
       " 'kranthid pts/4        Thu Oct 11 03:28:00 2018 - Thu Oct 11 06:28:17 2018  (03:00)    ',\n",
       " 'ervetrie pts/2        Thu Oct 11 03:18:16 2018 - Thu Oct 11 06:32:04 2018  (03:13)    ',\n",
       " 'cmahendr pts/23       Thu Oct 11 03:03:55 2018 - Thu Oct 11 06:06:46 2018  (03:02)    ',\n",
       " 'sachinji pts/24       Thu Oct 11 03:03:38 2018 - Thu Oct 11 03:11:20 2018  (00:07)    ',\n",
       " 'sseashu1 pts/11       Thu Oct 11 02:59:43 2018 - Thu Oct 11 03:35:55 2018  (00:36)    ',\n",
       " 'nerellav pts/8        Thu Oct 11 02:56:08 2018 - Thu Oct 11 04:17:12 2018  (01:21)    ',\n",
       " 'sseashu1 pts/8        Thu Oct 11 02:53:54 2018 - Thu Oct 11 02:54:41 2018  (00:00)    ',\n",
       " 'ervetrie pts/6        Thu Oct 11 02:44:35 2018 - Thu Oct 11 05:45:30 2018  (03:00)    ',\n",
       " 'abhirajs pts/22       Thu Oct 11 02:38:41 2018 - Thu Oct 11 05:55:40 2018  (03:16)    ',\n",
       " 'annapurn pts/21       Thu Oct 11 02:27:24 2018 - Thu Oct 11 05:28:17 2018  (03:00)    ',\n",
       " 'abhirajs pts/12       Thu Oct 11 02:06:59 2018   gone - no logout                     ',\n",
       " 'abhirajs pts/10       Thu Oct 11 01:56:04 2018 - Thu Oct 11 05:00:27 2018  (03:04)    ',\n",
       " 'abhirajs pts/20       Thu Oct 11 01:55:51 2018 - Thu Oct 11 05:06:36 2018  (03:10)    ',\n",
       " 'sseashu1 pts/8        Thu Oct 11 01:48:45 2018 - Thu Oct 11 02:49:33 2018  (01:00)    ',\n",
       " 'muralith pts/4        Thu Oct 11 01:41:19 2018 - Thu Oct 11 03:05:31 2018  (01:24)    ',\n",
       " 'muralith pts/9        Thu Oct 11 01:27:19 2018 - Thu Oct 11 03:05:16 2018  (01:37)    ',\n",
       " 'sunil000 pts/7        Thu Oct 11 01:25:01 2018 - Thu Oct 11 03:39:07 2018  (02:14)    ',\n",
       " 'sunil000 pts/8        Thu Oct 11 01:24:10 2018 - Thu Oct 11 01:24:53 2018  (00:00)    ',\n",
       " 'sunil000 pts/7        Thu Oct 11 01:22:07 2018 - Thu Oct 11 01:24:48 2018  (00:02)    ',\n",
       " 'rajeshs  pts/11       Thu Oct 11 01:21:03 2018 - Thu Oct 11 02:30:15 2018  (01:09)    ',\n",
       " 'rajeshs  pts/6        Thu Oct 11 01:20:15 2018 - Thu Oct 11 02:30:26 2018  (01:10)    ',\n",
       " 'divyabai pts/0        Thu Oct 11 01:14:33 2018 - Thu Oct 11 04:29:54 2018  (03:15)    ',\n",
       " 'abhirajs pts/3        Thu Oct 11 01:09:05 2018 - Thu Oct 11 04:30:08 2018  (03:21)    ',\n",
       " 'kranthid pts/0        Thu Oct 11 01:05:32 2018 - Thu Oct 11 01:06:08 2018  (00:00)    ',\n",
       " 'rkarra77 pts/20       Thu Oct 11 00:50:36 2018 - Thu Oct 11 01:06:20 2018  (00:15)    ',\n",
       " 'rkarra77 pts/12       Thu Oct 11 00:50:33 2018 - Thu Oct 11 01:06:09 2018  (00:15)    ',\n",
       " 'obersime pts/19       Thu Oct 11 00:46:24 2018 - Thu Oct 11 05:06:15 2018  (04:19)    ',\n",
       " 'annapurn pts/18       Thu Oct 11 00:45:40 2018 - Thu Oct 11 03:46:16 2018  (03:00)    ',\n",
       " 'obersime pts/17       Thu Oct 11 00:40:35 2018 - Thu Oct 11 05:04:57 2018  (04:24)    ',\n",
       " 'obersime pts/15       Thu Oct 11 00:29:08 2018 - Thu Oct 11 04:37:30 2018  (04:08)    ',\n",
       " 'dksriniv pts/13       Thu Oct 11 00:27:47 2018 - Thu Oct 11 03:28:17 2018  (03:00)    ',\n",
       " 'dksriniv pts/13       Thu Oct 11 00:26:56 2018 - Thu Oct 11 00:27:34 2018  (00:00)    ',\n",
       " 'sachinji pts/10       Thu Oct 11 00:25:08 2018 - Thu Oct 11 01:43:41 2018  (01:18)    ',\n",
       " 'dksriniv pts/5        Thu Oct 11 00:23:19 2018 - Thu Oct 11 03:23:16 2018  (02:59)    ',\n",
       " 'datadige pts/4        Thu Oct 11 00:22:23 2018 - Thu Oct 11 01:35:44 2018  (01:13)    ',\n",
       " 'deepikag pts/2        Thu Oct 11 00:12:56 2018 - Thu Oct 11 03:18:16 2018  (03:05)    ',\n",
       " 'rajeshs  pts/4        Thu Oct 11 00:04:20 2018 - Thu Oct 11 00:05:20 2018  (00:01)    ',\n",
       " 'training pts/0        Wed Oct 10 23:58:53 2018 - Thu Oct 11 00:56:21 2018  (00:57)    ',\n",
       " 'sachinji pts/2        Wed Oct 10 23:45:42 2018 - Thu Oct 11 00:11:59 2018  (00:26)    ',\n",
       " 'shantani pts/12       Wed Oct 10 23:25:19 2018 - Thu Oct 11 00:46:03 2018  (01:20)    ',\n",
       " 'satsukum pts/9        Wed Oct 10 23:14:30 2018 - Thu Oct 11 01:22:11 2018  (02:07)    ',\n",
       " 'swayamdm pts/17       Wed Oct 10 23:03:16 2018 - Wed Oct 10 23:19:21 2018  (00:16)    ',\n",
       " 'asarkar3 pts/15       Wed Oct 10 22:55:46 2018 - Wed Oct 10 23:50:46 2018  (00:55)    ',\n",
       " 'abhinavb pts/5        Wed Oct 10 22:50:32 2018 - Thu Oct 11 00:07:07 2018  (01:16)    ',\n",
       " 'rayjiang pts/20       Wed Oct 10 22:38:16 2018 - Wed Oct 10 22:53:03 2018  (00:14)    ',\n",
       " 'shantani pts/26       Wed Oct 10 22:35:14 2018 - Thu Oct 11 00:45:57 2018  (02:10)    ',\n",
       " 'kirantad pts/19       Wed Oct 10 22:33:02 2018 - Wed Oct 10 23:10:05 2018  (00:37)    ',\n",
       " 'krisjskk pts/19       Wed Oct 10 22:30:34 2018 - Wed Oct 10 22:30:58 2018  (00:00)    ',\n",
       " 'kirantad pts/9        Wed Oct 10 22:30:12 2018 - Wed Oct 10 23:10:07 2018  (00:39)    ',\n",
       " 'durgas11 pts/25       Wed Oct 10 22:26:19 2018 - Thu Oct 11 06:07:26 2018  (07:41)    ',\n",
       " 'katukuri pts/8        Wed Oct 10 22:24:55 2018 - Thu Oct 11 01:22:00 2018  (02:57)    ',\n",
       " 'katukuri pts/7        Wed Oct 10 22:24:44 2018 - Thu Oct 11 01:22:00 2018  (02:57)    ',\n",
       " 'h_bigdat pts/20       Wed Oct 10 22:20:04 2018 - Wed Oct 10 22:29:18 2018  (00:09)    ',\n",
       " 'h_bigdat pts/19       Wed Oct 10 22:19:57 2018 - Wed Oct 10 22:29:04 2018  (00:09)    ',\n",
       " 'training pts/18       Wed Oct 10 22:15:31 2018 - Wed Oct 10 23:39:18 2018  (01:23)    ',\n",
       " 'training pts/13       Wed Oct 10 22:14:23 2018 - Wed Oct 10 23:39:18 2018  (01:24)    ',\n",
       " 'abhinavb pts/5        Wed Oct 10 22:10:59 2018 - Wed Oct 10 22:48:30 2018  (00:37)    ',\n",
       " 'training pts/13       Wed Oct 10 22:06:13 2018 - Wed Oct 10 22:12:20 2018  (00:06)    ',\n",
       " 'abhinavb pts/11       Wed Oct 10 22:03:46 2018 - Thu Oct 11 01:21:03 2018  (03:17)    ',\n",
       " 'sarathra pts/3        Wed Oct 10 22:02:40 2018 - Thu Oct 11 01:09:05 2018  (03:06)    ',\n",
       " 'krishnat pts/6        Wed Oct 10 22:01:17 2018 - Thu Oct 11 01:02:16 2018  (03:00)    ',\n",
       " 'itversit pts/11       Wed Oct 10 21:58:50 2018 - Wed Oct 10 21:59:01 2018  (00:00)    ',\n",
       " 'training pts/2        Wed Oct 10 21:34:39 2018 - Wed Oct 10 23:39:09 2018  (02:04)    ',\n",
       " 'hongqian pts/12       Wed Oct 10 21:18:49 2018 - Wed Oct 10 23:03:52 2018  (01:45)    ',\n",
       " 'divyabai pts/10       Wed Oct 10 20:59:47 2018 - Thu Oct 11 00:25:08 2018  (03:25)    ',\n",
       " 'divyabai pts/4        Wed Oct 10 20:55:15 2018 - Thu Oct 11 00:04:20 2018  (03:09)    ',\n",
       " 'training pts/11       Wed Oct 10 20:39:39 2018 - Wed Oct 10 21:27:44 2018  (00:48)    ',\n",
       " 'training pts/10       Wed Oct 10 20:39:36 2018 - Wed Oct 10 20:42:20 2018  (00:02)    ',\n",
       " 'training pts/6        Wed Oct 10 20:39:34 2018 - Wed Oct 10 21:27:44 2018  (00:48)    ',\n",
       " 'training pts/4        Wed Oct 10 20:39:34 2018 - Wed Oct 10 20:42:14 2018  (00:02)    ',\n",
       " 'training pts/3        Wed Oct 10 20:39:33 2018 - Wed Oct 10 21:27:44 2018  (00:48)    ',\n",
       " 'training pts/2        Wed Oct 10 20:39:27 2018 - Wed Oct 10 21:27:44 2018  (00:48)    ',\n",
       " 'harikris pts/0        Wed Oct 10 20:29:37 2018 - Wed Oct 10 23:30:16 2018  (03:00)    ',\n",
       " 'training pts/3        Wed Oct 10 20:13:40 2018 - Wed Oct 10 20:29:47 2018  (00:16)    ',\n",
       " 'asarkar3 pts/24       Wed Oct 10 20:11:29 2018 - Wed Oct 10 23:12:16 2018  (03:00)    ',\n",
       " 'rkarra77 pts/23       Wed Oct 10 20:10:52 2018 - Wed Oct 10 23:11:16 2018  (03:00)    ',\n",
       " 'rkarra77 pts/22       Wed Oct 10 20:10:43 2018 - Wed Oct 10 23:11:16 2018  (03:00)    ',\n",
       " 'itversit pts/22       Wed Oct 10 20:01:30 2018 - Wed Oct 10 20:01:33 2018  (00:00)    ',\n",
       " 'itversit pts/22       Wed Oct 10 20:01:19 2018 - Wed Oct 10 20:01:23 2018  (00:00)    ',\n",
       " 'itversit pts/22       Wed Oct 10 20:01:09 2018 - Wed Oct 10 20:01:12 2018  (00:00)    ',\n",
       " 'itversit pts/22       Wed Oct 10 20:01:03 2018 - Wed Oct 10 20:01:07 2018  (00:00)    ',\n",
       " 'itversit pts/22       Wed Oct 10 20:00:59 2018 - Wed Oct 10 20:01:02 2018  (00:00)    ',\n",
       " 'itversit pts/22       Wed Oct 10 20:00:43 2018 - Wed Oct 10 20:00:52 2018  (00:00)    ',\n",
       " 'mkprabhu pts/21       Wed Oct 10 19:54:33 2018 - Wed Oct 10 22:55:17 2018  (03:00)    ',\n",
       " 'nikhilve pts/20       Wed Oct 10 19:54:10 2018 - Wed Oct 10 20:13:01 2018  (00:18)    ',\n",
       " 'nikhilve pts/19       Wed Oct 10 19:54:07 2018 - Wed Oct 10 20:25:20 2018  (00:31)    ',\n",
       " 'nikhilve pts/18       Wed Oct 10 19:53:58 2018 - Wed Oct 10 20:26:30 2018  (00:32)    ',\n",
       " 'asarkar3 pts/17       Wed Oct 10 19:52:56 2018 - Wed Oct 10 22:53:16 2018  (03:00)    ',\n",
       " 'muthusav pts/15       Wed Oct 10 19:50:54 2018 - Wed Oct 10 22:51:16 2018  (03:00)    ',\n",
       " 'training pts/13       Wed Oct 10 19:45:43 2018 - Wed Oct 10 20:38:52 2018  (00:53)    ',\n",
       " 'training pts/12       Wed Oct 10 19:44:20 2018 - Wed Oct 10 20:29:41 2018  (00:45)    ',\n",
       " 'training pts/11       Wed Oct 10 19:44:15 2018 - Wed Oct 10 20:29:41 2018  (00:45)    ',\n",
       " 'training pts/10       Wed Oct 10 19:40:34 2018 - Wed Oct 10 20:38:52 2018  (00:58)    ',\n",
       " 'divyabai pts/9        Wed Oct 10 19:28:34 2018 - Wed Oct 10 22:30:12 2018  (03:01)    ',\n",
       " 'jshinde0 pts/8        Wed Oct 10 19:23:50 2018 - Wed Oct 10 22:20:18 2018  (02:56)    ',\n",
       " 'jshinde0 pts/7        Wed Oct 10 19:23:36 2018 - Wed Oct 10 22:20:34 2018  (02:56)    ',\n",
       " 'divyabai pts/5        Wed Oct 10 19:08:36 2018 - Wed Oct 10 22:10:59 2018  (03:02)    ',\n",
       " 'mailprad pts/4        Wed Oct 10 19:01:36 2018 - Wed Oct 10 20:14:33 2018  (01:12)    ',\n",
       " 'elguerma pts/2        Wed Oct 10 17:34:05 2018 - Wed Oct 10 20:39:27 2018  (03:05)    ',\n",
       " 'harikris pts/0        Wed Oct 10 17:28:36 2018 - Wed Oct 10 20:29:17 2018  (03:00)    ',\n",
       " 'loganath pts/9        Wed Oct 10 17:19:29 2018 - Wed Oct 10 17:42:44 2018  (00:23)    ',\n",
       " 'h_bigdat pts/6        Wed Oct 10 17:17:52 2018 - Wed Oct 10 20:18:17 2018  (03:00)    ',\n",
       " 'user_bal pts/4        Wed Oct 10 17:17:12 2018 - Wed Oct 10 19:01:36 2018  (01:44)    ',\n",
       " 'h_bigdat pts/3        Wed Oct 10 17:12:13 2018 - Wed Oct 10 20:13:17 2018  (03:01)    ',\n",
       " 'parishan pts/12       Wed Oct 10 16:31:54 2018 - Wed Oct 10 17:20:47 2018  (00:48)    ',\n",
       " 'loganath pts/11       Wed Oct 10 16:31:25 2018 - Wed Oct 10 17:42:51 2018  (01:11)    ',\n",
       " 'loganath pts/8        Wed Oct 10 16:31:03 2018 - Wed Oct 10 17:43:06 2018  (01:12)    ',\n",
       " 'parishan pts/2        Wed Oct 10 16:28:34 2018 - Wed Oct 10 17:20:51 2018  (00:52)    ',\n",
       " 'krisjskk pts/3        Wed Oct 10 16:00:40 2018 - Wed Oct 10 16:48:33 2018  (00:47)    ',\n",
       " 'raju_ten pts/5        Wed Oct 10 15:47:42 2018 - Wed Oct 10 19:08:36 2018  (03:20)    ',\n",
       " 'divyabai pts/7        Wed Oct 10 15:31:07 2018 - Wed Oct 10 19:23:36 2018  (03:52)    ',\n",
       " 'katukuri pts/35       Wed Oct 10 15:01:55 2018 - Wed Oct 10 16:41:20 2018  (01:39)    ',\n",
       " 'anupamku pts/19       Wed Oct 10 14:41:41 2018 - Wed Oct 10 17:42:16 2018  (03:00)    ',\n",
       " 'vimson18 pts/29       Wed Oct 10 14:40:18 2018 - Thu Oct 11 10:21:34 2018  (19:41)    ',\n",
       " 'parishan pts/11       Wed Oct 10 14:38:27 2018 - Wed Oct 10 15:27:43 2018  (00:49)    ',\n",
       " 'vimson18 pts/26       Wed Oct 10 14:34:57 2018 - Wed Oct 10 22:35:14 2018  (08:00)    ',\n",
       " 'user_bal pts/5        Wed Oct 10 14:33:19 2018 - Wed Oct 10 15:47:42 2018  (01:14)    ',\n",
       " 'katukuri pts/27       Wed Oct 10 14:31:53 2018 - Wed Oct 10 15:03:17 2018  (00:31)    ',\n",
       " 'elguerma pts/23       Wed Oct 10 14:31:35 2018 - Wed Oct 10 20:10:52 2018  (05:39)    ',\n",
       " 'cmahendr pts/25       Wed Oct 10 14:29:39 2018 - Wed Oct 10 22:26:19 2018  (07:56)    ',\n",
       " 'user_bal pts/23       Wed Oct 10 14:29:22 2018 - Wed Oct 10 14:31:35 2018  (00:02)    ',\n",
       " 'elguerma pts/20       Wed Oct 10 14:26:34 2018 - Wed Oct 10 19:54:10 2018  (05:27)    ',\n",
       " 'maheshso pts/10       Wed Oct 10 14:25:05 2018 - Wed Oct 10 17:26:16 2018  (03:01)    ',\n",
       " 'maheshso pts/0        Wed Oct 10 14:25:04 2018 - Wed Oct 10 17:26:16 2018  (03:01)    ',\n",
       " 'gouthami pts/4        Wed Oct 10 14:09:53 2018 - Wed Oct 10 17:17:12 2018  (03:07)    ',\n",
       " 'rajeshs  pts/15       Wed Oct 10 14:05:31 2018 - Wed Oct 10 15:08:34 2018  (01:03)    ',\n",
       " 'rajeshs  pts/7        Wed Oct 10 14:05:29 2018 - Wed Oct 10 15:08:34 2018  (01:03)    ',\n",
       " 'gouthami pts/9        Wed Oct 10 14:01:04 2018 - Wed Oct 10 17:19:29 2018  (03:18)    ',\n",
       " 'muthusav pts/6        Wed Oct 10 13:58:43 2018 - Wed Oct 10 16:59:16 2018  (03:00)    ',\n",
       " 'rajeshs  pts/4        Wed Oct 10 13:51:27 2018 - Wed Oct 10 14:04:31 2018  (00:13)    ',\n",
       " 'dksriniv pts/27       Wed Oct 10 13:41:45 2018 - Wed Oct 10 14:02:11 2018  (00:20)    ',\n",
       " 'rajeshs  pts/25       Wed Oct 10 13:39:47 2018 - Wed Oct 10 14:04:30 2018  (00:24)    ',\n",
       " 'divyabai pts/22       Wed Oct 10 13:38:53 2018 - Wed Oct 10 20:00:43 2018  (06:21)    ',\n",
       " 'vkrmkuma pts/24       Wed Oct 10 13:30:53 2018 - Wed Oct 10 20:11:29 2018  (06:40)    ',\n",
       " 'h_bigdat pts/18       Wed Oct 10 13:28:23 2018 - Wed Oct 10 16:29:16 2018  (03:00)    ',\n",
       " 'awaisaze pts/7        Wed Oct 10 13:27:31 2018 - Wed Oct 10 14:02:56 2018  (00:35)    ',\n",
       " 'rkarra77 pts/13       Wed Oct 10 13:23:01 2018 - Wed Oct 10 19:45:43 2018  (06:22)    ',\n",
       " 'loganath pts/6        Wed Oct 10 13:17:31 2018 - Wed Oct 10 13:46:26 2018  (00:28)    ',\n",
       " 'loganath pts/4        Wed Oct 10 13:17:29 2018 - Wed Oct 10 13:46:26 2018  (00:28)    ',\n",
       " 'durgas11 pts/2        Wed Oct 10 13:12:37 2018 - Wed Oct 10 16:28:34 2018  (03:15)    ',\n",
       " 'pnandedk pts/3        Wed Oct 10 12:57:53 2018 - Wed Oct 10 15:58:16 2018  (03:00)    ',\n",
       " 'cmahendr pts/32       Wed Oct 10 12:32:30 2018 - Thu Oct 11 10:21:44 2018  (21:49)    ',\n",
       " 'durgas11 pts/33       Wed Oct 10 12:29:02 2018 - Thu Oct 11 10:26:43 2018  (21:57)    ',\n",
       " 'deepikag pts/24       Wed Oct 10 12:26:01 2018 - Wed Oct 10 12:35:52 2018  (00:09)    ',\n",
       " 'learning pts/10       Wed Oct 10 12:22:50 2018 - Wed Oct 10 14:14:32 2018  (01:51)    ',\n",
       " 'annapurn pts/27       Wed Oct 10 12:22:06 2018 - Wed Oct 10 12:50:15 2018  (00:28)    ',\n",
       " 'obersime pts/21       Wed Oct 10 12:20:13 2018 - Wed Oct 10 19:54:33 2018  (07:34)    ',\n",
       " 'deepikag pts/19       Wed Oct 10 12:18:24 2018 - Wed Oct 10 14:35:28 2018  (02:17)    ',\n",
       " 'durgas11 pts/12       Wed Oct 10 12:14:32 2018 - Wed Oct 10 16:31:54 2018  (04:17)    ',\n",
       " 'swayamdm pts/17       Wed Oct 10 12:12:18 2018 - Wed Oct 10 15:12:16 2018  (02:59)    ',\n",
       " 'rkarra77 pts/8        Wed Oct 10 12:08:20 2018 - Wed Oct 10 15:09:16 2018  (03:00)    ',\n",
       " 'rkarra77 pts/31       Wed Oct 10 12:04:59 2018 - Wed Oct 10 15:05:18 2018  (03:00)    ',\n",
       " 'fazilabu pts/28       Wed Oct 10 12:03:07 2018 - Thu Oct 11 08:54:01 2018  (20:50)    ',\n",
       " 'katukuri pts/5        Wed Oct 10 12:02:05 2018 - Wed Oct 10 14:32:29 2018  (02:30)    ',\n",
       " 'parishan pts/3        Wed Oct 10 11:59:55 2018 - Wed Oct 10 12:57:29 2018  (00:57)    ',\n",
       " 'roshanku pts/6        Wed Oct 10 11:59:25 2018 - Wed Oct 10 13:00:37 2018  (01:01)    ',\n",
       " 'training pts/27       Wed Oct 10 11:47:23 2018 - Wed Oct 10 12:20:53 2018  (00:33)    ',\n",
       " 'dksriniv pts/1        Wed Oct 10 11:47:20 2018 - Wed Oct 10 14:02:27 2018  (02:15)    ',\n",
       " 'katukuri pts/26       Wed Oct 10 11:38:41 2018 - Wed Oct 10 14:32:45 2018  (02:54)    ',\n",
       " 'katukuri pts/11       Wed Oct 10 11:38:32 2018 - Wed Oct 10 14:32:34 2018  (02:54)    ',\n",
       " 'training pts/1        Wed Oct 10 11:38:21 2018 - Wed Oct 10 11:47:17 2018  (00:08)    ',\n",
       " 'h_bigdat pts/23       Wed Oct 10 11:23:10 2018 - Wed Oct 10 14:24:16 2018  (03:01)    ',\n",
       " 'vimson18 pts/20       Wed Oct 10 11:22:55 2018 - Wed Oct 10 14:26:34 2018  (03:03)    ',\n",
       " 'durgas11 pts/0        Wed Oct 10 11:18:59 2018 - Wed Oct 10 14:25:04 2018  (03:06)    ',\n",
       " 'illenkoa pts/15       Wed Oct 10 11:04:36 2018 - Wed Oct 10 14:05:17 2018  (03:00)    ',\n",
       " 'durgas11 pts/9        Wed Oct 10 10:58:54 2018 - Wed Oct 10 14:01:04 2018  (03:02)    ',\n",
       " 'milano88 pts/22       Wed Oct 10 10:51:14 2018 - Wed Oct 10 13:25:05 2018  (02:33)    ',\n",
       " 'parishan pts/3        Wed Oct 10 10:43:40 2018 - Wed Oct 10 11:59:49 2018  (01:16)    ',\n",
       " 'bigdatan pts/21       Wed Oct 10 10:35:01 2018 - Wed Oct 10 12:13:20 2018  (01:38)    ',\n",
       " 'annapurn pts/20       Wed Oct 10 10:25:22 2018 - Wed Oct 10 11:00:13 2018  (00:34)    ',\n",
       " 'milano88 pts/7        Wed Oct 10 10:24:36 2018 - Wed Oct 10 13:25:09 2018  (03:00)    ',\n",
       " 'sureshra pts/13       Wed Oct 10 10:06:12 2018 - Wed Oct 10 12:51:03 2018  (02:44)    ',\n",
       " 'sureshra pts/2        Wed Oct 10 10:01:31 2018 - Wed Oct 10 13:12:37 2018  (03:11)    ',\n",
       " 'parishan pts/32       Wed Oct 10 09:46:30 2018 - Wed Oct 10 10:14:10 2018  (00:27)    ',\n",
       " 'h_bigdat pts/25       Wed Oct 10 09:42:30 2018 - Wed Oct 10 12:43:16 2018  (03:00)    ',\n",
       " 'elguerma pts/18       Wed Oct 10 09:41:42 2018 - Wed Oct 10 13:28:23 2018  (03:46)    ',\n",
       " 'dksriniv pts/31       Wed Oct 10 09:34:53 2018 - Wed Oct 10 10:43:00 2018  (01:08)    ',\n",
       " 'maheshso pts/29       Wed Oct 10 09:32:41 2018 - Wed Oct 10 12:33:19 2018  (03:00)    ',\n",
       " 'maheshso pts/4        Wed Oct 10 09:32:38 2018 - Wed Oct 10 12:33:19 2018  (03:00)    ',\n",
       " 'rssaluja pts/28       Wed Oct 10 09:28:37 2018 - Wed Oct 10 10:54:57 2018  (01:26)    ',\n",
       " 'elguerma pts/25       Wed Oct 10 09:26:00 2018 - Wed Oct 10 09:42:30 2018  (00:16)    ',\n",
       " 'kumarnis pts/10       Wed Oct 10 09:22:01 2018 - Wed Oct 10 12:22:17 2018  (03:00)    ',\n",
       " 'aparnase pts/4        Wed Oct 10 09:21:33 2018 - Wed Oct 10 09:32:18 2018  (00:10)    ',\n",
       " 'bigdatan pts/24       Wed Oct 10 09:19:53 2018 - Wed Oct 10 12:13:39 2018  (02:53)    ',\n",
       " 'elguerma pts/19       Wed Oct 10 09:16:05 2018 - Wed Oct 10 12:18:24 2018  (03:02)    ',\n",
       " 'rssaluja pts/23       Wed Oct 10 09:16:03 2018 - Wed Oct 10 10:55:07 2018  (01:39)    ',\n",
       " 'pnandedk pts/17       Wed Oct 10 09:10:41 2018 - Wed Oct 10 12:11:16 2018  (03:00)    ',\n",
       " 'elguerma pts/12       Wed Oct 10 09:09:05 2018 - Wed Oct 10 12:14:32 2018  (03:05)    ',\n",
       " 'swayamdm pts/10       Wed Oct 10 09:04:33 2018 - Wed Oct 10 09:20:54 2018  (00:16)    ',\n",
       " 'rssaluja pts/9        Wed Oct 10 09:03:50 2018 - Wed Oct 10 10:54:52 2018  (01:51)    ',\n",
       " 'bigdatan pts/6        Wed Oct 10 09:01:11 2018 - Wed Oct 10 11:48:33 2018  (02:47)    ',\n",
       " 'rkarra77 pts/8        Wed Oct 10 09:00:37 2018 - Wed Oct 10 12:01:16 2018  (03:00)    ',\n",
       " 'rkarra77 pts/5        Wed Oct 10 08:59:57 2018 - Wed Oct 10 12:00:18 2018  (03:00)    ',\n",
       " 'swayamdm pts/4        Wed Oct 10 08:42:34 2018 - Wed Oct 10 09:21:02 2018  (00:38)    ',\n",
       " 'elguerma pts/1        Wed Oct 10 08:37:32 2018 - Wed Oct 10 11:38:21 2018  (03:00)    ',\n",
       " 'sseashu1 pts/4        Wed Oct 10 08:26:40 2018 - Wed Oct 10 08:39:36 2018  (00:12)    ',\n",
       " 'bigdatan pts/0        Wed Oct 10 08:05:19 2018 - Wed Oct 10 11:05:18 2018  (02:59)    ',\n",
       " 'abhirajs pts/15       Wed Oct 10 07:50:42 2018 - Wed Oct 10 11:04:36 2018  (03:13)    ',\n",
       " 'krishnat pts/27       Wed Oct 10 07:48:15 2018 - Wed Oct 10 10:49:17 2018  (03:01)    ',\n",
       " 'abhirajs pts/26       Wed Oct 10 07:45:47 2018 - Wed Oct 10 11:38:41 2018  (03:52)    ',\n",
       " 'abhirajs pts/11       Wed Oct 10 07:38:13 2018 - Wed Oct 10 11:38:32 2018  (04:00)    ',\n",
       " 'swayamdm pts/0        Wed Oct 10 07:37:08 2018 - Wed Oct 10 08:02:34 2018  (00:25)    ',\n",
       " 'sseashu1 pts/0        Wed Oct 10 07:26:55 2018 - Wed Oct 10 07:27:26 2018  (00:00)    ',\n",
       " 'swayamdm pts/25       Wed Oct 10 07:22:37 2018 - Wed Oct 10 08:02:48 2018  (00:40)    ',\n",
       " 'krishnat pts/21       Wed Oct 10 07:22:17 2018 - Wed Oct 10 10:22:17 2018  (03:00)    ',\n",
       " 'rajeshs  pts/20       Wed Oct 10 07:20:42 2018 - Wed Oct 10 10:25:22 2018  (03:04)    ',\n",
       " 'rajeshs  pts/7        Wed Oct 10 07:19:32 2018 - Wed Oct 10 10:24:36 2018  (03:05)    ',\n",
       " 'skakarla pts/3        Wed Oct 10 07:16:29 2018 - Wed Oct 10 10:43:40 2018  (03:27)    ',\n",
       " 'nerellav pts/21       Wed Oct 10 06:51:08 2018 - Wed Oct 10 06:55:22 2018  (00:04)    ',\n",
       " 'elguerma pts/22       Wed Oct 10 06:49:06 2018 - Wed Oct 10 10:51:14 2018  (04:02)    ',\n",
       " 'loganath pts/13       Wed Oct 10 06:47:19 2018 - Wed Oct 10 10:06:12 2018  (03:18)    ',\n",
       " 'illenkoa pts/2        Wed Oct 10 06:46:36 2018 - Wed Oct 10 09:47:17 2018  (03:00)    ',\n",
       " 'roshanku pts/18       Wed Oct 10 06:40:35 2018 - Wed Oct 10 09:41:17 2018  (03:00)    ',\n",
       " 'sunil000 pts/0        Wed Oct 10 06:39:14 2018 - Wed Oct 10 07:23:49 2018  (00:44)    ',\n",
       " 'annapurn pts/10       Wed Oct 10 06:29:47 2018 - Wed Oct 10 08:37:52 2018  (02:08)    ',\n",
       " 'annapurn pts/8        Wed Oct 10 06:29:40 2018 - Wed Oct 10 08:37:48 2018  (02:08)    ',\n",
       " 'dksriniv pts/8        Wed Oct 10 06:23:23 2018 - Wed Oct 10 06:29:40 2018  (00:06)    ',\n",
       " 'vdharmag pts/6        Wed Oct 10 06:19:16 2018 - Wed Oct 10 08:21:49 2018  (02:02)    ',\n",
       " 'sachinji pts/3        Wed Oct 10 06:07:03 2018 - Wed Oct 10 07:01:23 2018  (00:54)    ',\n",
       " 'dksriniv pts/0        Wed Oct 10 05:58:48 2018 - Wed Oct 10 05:58:54 2018  (00:00)    ',\n",
       " 'sachinji pts/13       Wed Oct 10 05:57:37 2018 - Wed Oct 10 06:01:18 2018  (00:03)    ',\n",
       " 'sseashu1 pts/7        Wed Oct 10 05:51:51 2018 - Wed Oct 10 07:04:36 2018  (01:12)    ',\n",
       " 'sunil000 pts/8        Wed Oct 10 05:45:07 2018 - Wed Oct 10 06:06:28 2018  (00:21)    ',\n",
       " 'abhirajs pts/9        Wed Oct 10 05:35:35 2018 - Wed Oct 10 09:03:50 2018  (03:28)    ',\n",
       " 'jshinde0 pts/24       Wed Oct 10 05:32:26 2018 - Wed Oct 10 07:53:29 2018  (02:21)    ',\n",
       " 'jshinde0 pts/17       Wed Oct 10 05:32:17 2018 - Wed Oct 10 07:53:26 2018  (02:21)    ',\n",
       " 'fazilabu pts/1        Wed Oct 10 05:28:06 2018 - Wed Oct 10 08:37:32 2018  (03:09)    ',\n",
       " 'siddhant pts/0        Wed Oct 10 05:22:59 2018 - Wed Oct 10 05:58:31 2018  (00:35)    ',\n",
       " 'keshavgp pts/21       Wed Oct 10 05:18:11 2018 - Wed Oct 10 05:39:39 2018  (00:21)    ',\n",
       " 'skakarla pts/19       Wed Oct 10 05:03:32 2018 - Wed Oct 10 09:16:05 2018  (04:12)    ',\n",
       " 'jyotin03 pts/4        Wed Oct 10 05:01:33 2018 - Wed Oct 10 08:02:16 2018  (03:00)    ',\n",
       " 'saibanna pts/5        Wed Oct 10 04:58:47 2018 - Wed Oct 10 08:59:57 2018  (04:01)    ',\n",
       " 'sseashu1 pts/14       Wed Oct 10 04:55:12 2018 - Wed Oct 10 04:55:29 2018  (00:00)    ',\n",
       " 'sseashu1 pts/21       Wed Oct 10 04:52:07 2018 - Wed Oct 10 04:52:09 2018  (00:00)    ',\n",
       " 'sseashu1 pts/21       Wed Oct 10 04:51:03 2018 - Wed Oct 10 04:51:10 2018  (00:00)    ',\n",
       " 'sseashu1 pts/8        Wed Oct 10 04:51:01 2018 - Wed Oct 10 05:43:17 2018  (00:52)    ',\n",
       " 'sseashu1 pts/21       Wed Oct 10 04:50:29 2018 - Wed Oct 10 04:50:50 2018  (00:00)    ',\n",
       " 'sseashu1 pts/24       Wed Oct 10 04:50:13 2018 - Wed Oct 10 04:50:17 2018  (00:00)    ',\n",
       " 'sseashu1 pts/24       Wed Oct 10 04:49:15 2018 - Wed Oct 10 04:49:25 2018  (00:00)    ',\n",
       " 'dksriniv pts/23       Wed Oct 10 04:49:08 2018 - Wed Oct 10 07:49:17 2018  (03:00)    ',\n",
       " 'sseashu1 pts/21       Wed Oct 10 04:48:29 2018 - Wed Oct 10 04:49:13 2018  (00:00)    ',\n",
       " 'jyotin03 pts/15       Wed Oct 10 04:48:13 2018 - Wed Oct 10 07:49:17 2018  (03:01)    ',\n",
       " 'jyotin03 pts/12       Wed Oct 10 04:47:56 2018 - Wed Oct 10 07:48:17 2018  (03:00)    ',\n",
       " 'sachinji pts/4        Wed Oct 10 04:40:28 2018 - Wed Oct 10 05:00:00 2018  (00:19)    ',\n",
       " 'annapurn pts/10       Wed Oct 10 04:35:40 2018 - Wed Oct 10 06:16:13 2018  (01:40)    ',\n",
       " 'sseashu1 pts/5        Wed Oct 10 04:34:33 2018 - Wed Oct 10 04:50:57 2018  (00:16)    ',\n",
       " 'bigdatan pts/11       Wed Oct 10 04:26:19 2018 - Wed Oct 10 07:26:17 2018  (02:59)    ',\n",
       " 'sachinji pts/4        Wed Oct 10 04:20:22 2018 - Wed Oct 10 04:37:09 2018  (00:16)    ',\n",
       " 'siddhant pts/3        Wed Oct 10 04:19:21 2018 - Wed Oct 10 05:58:44 2018  (01:39)    ',\n",
       " 'training pts/0        Wed Oct 10 04:12:56 2018 - Wed Oct 10 05:19:18 2018  (01:06)    ',\n",
       " 'abhirajs pts/20       Wed Oct 10 03:57:02 2018 - Wed Oct 10 07:20:42 2018  (03:23)    ',\n",
       " 'training pts/17       Wed Oct 10 03:51:21 2018 - Wed Oct 10 05:19:13 2018  (01:27)    ',\n",
       " 'training pts/4        Wed Oct 10 03:51:16 2018 - Wed Oct 10 04:11:46 2018  (00:20)    ',\n",
       " 'sseashu1 pts/17       Wed Oct 10 03:50:45 2018 - Wed Oct 10 03:51:08 2018  (00:00)    ',\n",
       " 'illenkoa pts/2        Wed Oct 10 03:43:38 2018 - Wed Oct 10 06:43:15 2018  (02:59)    ',\n",
       " 'saibanna pts/18       Wed Oct 10 03:39:04 2018 - Wed Oct 10 06:40:35 2018  (03:01)    ',\n",
       " 'swayamdm pts/2        Wed Oct 10 03:36:51 2018 - Wed Oct 10 03:41:33 2018  (00:04)    ',\n",
       " 'sseashu1 pts/17       Wed Oct 10 03:32:37 2018 - Wed Oct 10 03:49:22 2018  (00:16)    ',\n",
       " 'kumarnis pts/6        Wed Oct 10 03:10:50 2018 - Wed Oct 10 06:11:16 2018  (03:00)    ',\n",
       " 'abhirajs pts/0        Wed Oct 10 03:00:56 2018 - Wed Oct 10 04:12:56 2018  (01:12)    ',\n",
       " 'ervetrie pts/22       Wed Oct 10 02:49:43 2018 - Wed Oct 10 06:49:06 2018  (03:59)    ',\n",
       " 'kumarnis pts/7        Wed Oct 10 02:48:47 2018 - Wed Oct 10 05:49:16 2018  (03:00)    ',\n",
       " 'kumarnis pts/13       Wed Oct 10 02:45:48 2018 - Wed Oct 10 05:46:16 2018  (03:00)    ',\n",
       " 'kumarnis pts/13       Wed Oct 10 02:34:24 2018 - Wed Oct 10 02:44:01 2018  (00:09)    ',\n",
       " 'cmahendr pts/9        Wed Oct 10 02:19:02 2018 - Wed Oct 10 05:35:35 2018  (03:16)    ',\n",
       " 'meetkeer pts/1        Wed Oct 10 02:01:49 2018 - Wed Oct 10 05:28:06 2018  (03:26)    ',\n",
       " 'training pts/17       Wed Oct 10 01:57:10 2018 - Wed Oct 10 02:03:42 2018  (00:06)    ',\n",
       " 'obersime pts/14       Wed Oct 10 01:53:07 2018 - Wed Oct 10 04:55:12 2018  (03:02)    ',\n",
       " 'training pts/13       Wed Oct 10 01:52:49 2018 - Wed Oct 10 01:54:40 2018  (00:01)    ',\n",
       " 'dksriniv pts/4        Wed Oct 10 01:50:07 2018 - Wed Oct 10 03:43:17 2018  (01:53)    ',\n",
       " 'annapurn pts/8        Wed Oct 10 01:49:19 2018 - Wed Oct 10 04:50:16 2018  (03:00)    ',\n",
       " 'kriwshna pts/4        Wed Oct 10 01:46:43 2018 - Wed Oct 10 01:49:56 2018  (00:03)    ',\n",
       " 'sunil000 pts/21       Wed Oct 10 01:37:05 2018 - Wed Oct 10 03:01:39 2018  (01:24)    ',\n",
       " 'sunil000 pts/18       Wed Oct 10 01:35:53 2018 - Wed Oct 10 03:01:33 2018  (01:25)    ',\n",
       " 'kriwshna pts/17       Wed Oct 10 01:33:32 2018 - Wed Oct 10 01:44:52 2018  (00:11)    ',\n",
       " 'skakarla pts/10       Wed Oct 10 01:30:38 2018 - Wed Oct 10 04:35:40 2018  (03:05)    ',\n",
       " 'kriwshna pts/5        Wed Oct 10 01:30:33 2018 - Wed Oct 10 04:34:33 2018  (03:04)    ',\n",
       " 'training pts/8        Wed Oct 10 01:27:48 2018 - Wed Oct 10 01:45:10 2018  (00:17)    ',\n",
       " 'kriwshna pts/15       Wed Oct 10 01:27:29 2018 - Wed Oct 10 04:48:13 2018  (03:20)    ',\n",
       " 'training pts/23       Wed Oct 10 01:21:10 2018 - Wed Oct 10 02:03:37 2018  (00:42)    ',\n",
       " 'sseashu1 pts/20       Wed Oct 10 01:19:09 2018 - Wed Oct 10 03:28:28 2018  (02:09)    ',\n",
       " 'saibanna pts/3        Wed Oct 10 01:18:03 2018 - Wed Oct 10 04:19:21 2018  (03:01)    ',\n",
       " 'visuvish pts/15       Wed Oct 10 01:15:43 2018 - Wed Oct 10 01:26:15 2018  (00:10)    ',\n",
       " 'seshasks pts/8        Wed Oct 10 01:15:36 2018 - Wed Oct 10 01:27:25 2018  (00:11)    ',\n",
       " 'dksriniv pts/19       Wed Oct 10 01:13:01 2018 - Wed Oct 10 05:03:32 2018  (03:50)    ',\n",
       " 'itversit pts/19       Wed Oct 10 01:12:06 2018 - Wed Oct 10 01:12:18 2018  (00:00)    ',\n",
       " 'visuvish pts/17       Wed Oct 10 01:11:17 2018 - Wed Oct 10 01:26:20 2018  (00:15)    ',\n",
       " 'visuvish pts/8        Wed Oct 10 01:07:57 2018 - Wed Oct 10 01:14:44 2018  (00:06)    ',\n",
       " 'annapurn pts/12       Wed Oct 10 00:59:31 2018 - Wed Oct 10 04:00:16 2018  (03:00)    ',\n",
       " 'meetkeer pts/11       Wed Oct 10 00:59:09 2018 - Wed Oct 10 04:26:19 2018  (03:27)    ',\n",
       " 'katukuri pts/13       Wed Oct 10 00:57:13 2018 - Wed Oct 10 01:40:30 2018  (00:43)    ',\n",
       " 'rayjiang pts/10       Wed Oct 10 00:50:56 2018 - Wed Oct 10 01:29:24 2018  (00:38)    ',\n",
       " 'loganath pts/9        Wed Oct 10 00:39:58 2018 - Wed Oct 10 02:08:41 2018  (01:28)    ',\n",
       " 'loganath pts/7        Wed Oct 10 00:39:51 2018 - Wed Oct 10 02:08:35 2018  (01:28)    ',\n",
       " 'roshanku pts/2        Wed Oct 10 00:36:09 2018 - Wed Oct 10 03:36:15 2018  (03:00)    ',\n",
       " 'asarkar3 pts/3        Wed Oct 10 00:13:39 2018 - Wed Oct 10 01:15:55 2018  (01:02)    ',\n",
       " 'itversit pts/3        Wed Oct 10 00:09:19 2018 - Wed Oct 10 00:09:28 2018  (00:00)    ',\n",
       " 'loganath pts/9        Wed Oct 10 00:01:03 2018 - Wed Oct 10 00:31:03 2018  (00:30)    ',\n",
       " 'loganath pts/7        Wed Oct 10 00:01:01 2018 - Wed Oct 10 00:31:14 2018  (00:30)    ',\n",
       " 'fazilabu pts/6        Tue Oct  9 23:58:44 2018 - Wed Oct 10 03:10:50 2018  (03:12)    ',\n",
       " 'ramakuma pts/8        Tue Oct  9 23:53:09 2018 - Wed Oct 10 01:07:57 2018  (01:14)    ',\n",
       " 'skakarla pts/0        Tue Oct  9 23:51:50 2018 - Wed Oct 10 03:00:56 2018  (03:09)    ',\n",
       " 'skakarla pts/0        Tue Oct  9 23:48:42 2018 - Tue Oct  9 23:51:50 2018  (00:03)    ',\n",
       " 'katukuri pts/4        Tue Oct  9 23:45:33 2018 - Wed Oct 10 01:40:30 2018  (01:54)    ',\n",
       " 'skakarla pts/11       Tue Oct  9 23:34:02 2018 - Wed Oct 10 00:59:09 2018  (01:25)    ',\n",
       " 'milano88 pts/6        Tue Oct  9 23:17:36 2018 - Tue Oct  9 23:53:05 2018  (00:35)    ',\n",
       " 'milano88 pts/20       Tue Oct  9 23:12:17 2018 - Tue Oct  9 23:52:55 2018  (00:40)    ',\n",
       " 'rssaluja pts/22       Tue Oct  9 23:09:03 2018 - Wed Oct 10 01:48:20 2018  (02:39)    ',\n",
       " 'soumyaga pts/25       Tue Oct  9 23:06:52 2018 - Wed Oct 10 07:22:37 2018  (08:15)    ',\n",
       " 'rssaluja pts/24       Tue Oct  9 23:06:23 2018 - Wed Oct 10 01:48:18 2018  (02:41)    ',\n",
       " 'training pts/23       Tue Oct  9 22:59:22 2018 - Tue Oct  9 23:17:04 2018  (00:17)    ',\n",
       " 'katukuri pts/14       Tue Oct  9 22:57:59 2018 - Wed Oct 10 01:40:30 2018  (02:42)    ',\n",
       " 'mkprabhu pts/1        Tue Oct  9 22:57:04 2018 - Wed Oct 10 01:57:16 2018  (03:00)    ',\n",
       " 'training pts/14       Tue Oct  9 22:53:14 2018 - Tue Oct  9 22:56:33 2018  (00:03)    ',\n",
       " 'visuvish pts/7        Tue Oct  9 22:52:17 2018 - Tue Oct  9 23:59:04 2018  (01:06)    ',\n",
       " 'kirantad pts/17       Tue Oct  9 22:40:16 2018 - Tue Oct  9 23:21:26 2018  (00:41)    ',\n",
       " 'user_bal pts/1        Tue Oct  9 22:40:16 2018 - Tue Oct  9 22:53:29 2018  (00:13)    ',\n",
       " 'rahuljv9 pts/7        Tue Oct  9 22:37:20 2018 - Tue Oct  9 22:49:38 2018  (00:12)    ',\n",
       " 'user_bal pts/1        Tue Oct  9 22:35:58 2018 - Tue Oct  9 22:39:47 2018  (00:03)    ',\n",
       " 'user_bal pts/24       Tue Oct  9 22:31:34 2018 - Tue Oct  9 22:35:10 2018  (00:03)    ',\n",
       " 'mailskri pts/21       Tue Oct  9 22:31:23 2018 - Tue Oct  9 23:30:43 2018  (00:59)    ',\n",
       " 'training pts/19       Tue Oct  9 22:31:22 2018 - Tue Oct  9 23:17:10 2018  (00:45)    ',\n",
       " 'user_bal pts/19       Tue Oct  9 22:30:15 2018 - Tue Oct  9 22:30:21 2018  (00:00)    ',\n",
       " 'durgas11 pts/20       Tue Oct  9 22:29:24 2018 - Tue Oct  9 23:12:17 2018  (00:42)    ',\n",
       " 'visuvish pts/7        Tue Oct  9 22:29:02 2018 - Tue Oct  9 22:35:50 2018  (00:06)    ',\n",
       " 'harshare pts/5        Tue Oct  9 22:28:29 2018 - Wed Oct 10 01:30:33 2018  (03:02)    ',\n",
       " 'visuvish pts/3        Tue Oct  9 22:26:43 2018 - Wed Oct 10 00:03:37 2018  (01:36)    ',\n",
       " 'seshasks pts/18       Tue Oct  9 22:24:36 2018 - Wed Oct 10 01:25:16 2018  (03:00)    ',\n",
       " 'training pts/14       Tue Oct  9 22:19:04 2018 - Tue Oct  9 22:46:09 2018  (00:27)    ',\n",
       " 'user_bal pts/7        Tue Oct  9 22:18:50 2018 - Tue Oct  9 22:29:02 2018  (00:10)    ',\n",
       " 'itversit pts/18       Tue Oct  9 22:15:21 2018 - Tue Oct  9 22:15:35 2018  (00:00)    ',\n",
       " 'seshasks pts/15       Tue Oct  9 22:14:49 2018 - Wed Oct 10 01:15:16 2018  (03:00)    ',\n",
       " 'h_bigdat pts/13       Tue Oct  9 22:06:47 2018 - Tue Oct  9 23:10:00 2018  (01:03)    ',\n",
       " 'datadige pts/6        Tue Oct  9 21:58:44 2018 - Tue Oct  9 23:15:50 2018  (01:17)    ',\n",
       " 'durgas11 pts/12       Tue Oct  9 21:57:39 2018 - Wed Oct 10 00:59:31 2018  (03:01)    ',\n",
       " 'datadige pts/11       Tue Oct  9 21:56:27 2018 - Tue Oct  9 23:15:51 2018  (01:19)    ',\n",
       " 'rayjiang pts/10       Tue Oct  9 21:49:43 2018 - Wed Oct 10 00:50:16 2018  (03:00)    ',\n",
       " 'harikris pts/9        Tue Oct  9 21:45:17 2018 - Tue Oct  9 23:54:55 2018  (02:09)    ',\n",
       " 'training pts/7        Tue Oct  9 21:40:55 2018 - Tue Oct  9 22:18:01 2018  (00:37)    ',\n",
       " 'seshasks pts/6        Tue Oct  9 21:33:38 2018 - Tue Oct  9 21:58:34 2018  (00:24)    ',\n",
       " 'katukuri pts/2        Tue Oct  9 21:20:53 2018 - Wed Oct 10 00:21:15 2018  (03:00)    ',\n",
       " 'katukuri pts/0        Tue Oct  9 21:20:45 2018 - Tue Oct  9 23:45:35 2018  (02:24)    ',\n",
       " 'harikris pts/9        Tue Oct  9 20:59:11 2018 - Tue Oct  9 21:18:22 2018  (00:19)    ',\n",
       " 'harikris pts/9        Tue Oct  9 20:58:03 2018 - Tue Oct  9 20:59:01 2018  (00:00)    ',\n",
       " 'kriwshna pts/8        Tue Oct  9 20:36:07 2018 - Tue Oct  9 23:37:16 2018  (03:01)    ',\n",
       " 'kriwshna pts/4        Tue Oct  9 20:35:20 2018 - Tue Oct  9 23:36:16 2018  (03:00)    ',\n",
       " 'rayjiang pts/6        Tue Oct  9 20:25:01 2018 - Tue Oct  9 20:59:39 2018  (00:34)    ',\n",
       " 'soumyaga pts/22       Tue Oct  9 20:02:50 2018 - Tue Oct  9 23:09:03 2018  (03:06)    ',\n",
       " 'itversit pts/22       Tue Oct  9 20:01:34 2018 - Tue Oct  9 20:01:37 2018  (00:00)    ',\n",
       " 'itversit pts/22       Tue Oct  9 20:01:30 2018 - Tue Oct  9 20:01:33 2018  (00:00)    ',\n",
       " 'itversit pts/22       Tue Oct  9 20:01:20 2018 - Tue Oct  9 20:01:23 2018  (00:00)    ',\n",
       " 'itversit pts/22       Tue Oct  9 20:01:10 2018 - Tue Oct  9 20:01:13 2018  (00:00)    ',\n",
       " 'itversit pts/22       Tue Oct  9 20:00:53 2018 - Tue Oct  9 20:00:56 2018  (00:00)    ',\n",
       " 'itversit pts/22       Tue Oct  9 20:00:37 2018 - Tue Oct  9 20:00:43 2018  (00:00)    ',\n",
       " 'itversit pts/22       Tue Oct  9 20:00:31 2018 - Tue Oct  9 20:00:32 2018  (00:00)    ',\n",
       " 'itversit pts/22       Tue Oct  9 20:00:23 2018 - Tue Oct  9 20:00:24 2018  (00:00)    ',\n",
       " 'itversit pts/22       Tue Oct  9 20:00:14 2018 - Tue Oct  9 20:00:16 2018  (00:00)    ',\n",
       " 'itversit pts/22       Tue Oct  9 20:00:13 2018 - Tue Oct  9 20:00:13 2018  (00:00)    ',\n",
       " 'itversit pts/22       Tue Oct  9 20:00:09 2018 - Tue Oct  9 20:00:11 2018  (00:00)    ',\n",
       " 'gunjanba pts/24       Tue Oct  9 19:55:02 2018 - Tue Oct  9 21:07:49 2018  (01:12)    ',\n",
       " 'gunjanba pts/2        Tue Oct  9 19:55:01 2018 - Tue Oct  9 21:07:49 2018  (01:12)    ',\n",
       " 'subhash2 pts/23       Tue Oct  9 19:53:46 2018 - Tue Oct  9 22:54:16 2018  (03:00)    ',\n",
       " 'mailprad pts/22       Tue Oct  9 19:46:11 2018 - Tue Oct  9 19:57:29 2018  (00:11)    ',\n",
       " 'swayamdm pts/21       Tue Oct  9 19:42:58 2018 - Tue Oct  9 20:44:25 2018  (01:01)    ',\n",
       " 'gunjanba pts/20       Tue Oct  9 19:38:34 2018 - Tue Oct  9 20:48:03 2018  (01:09)    ',\n",
       " 'gunjanba pts/19       Tue Oct  9 19:38:32 2018 - Tue Oct  9 20:48:03 2018  (01:09)    ',\n",
       " 'deepikag pts/17       Tue Oct  9 19:36:10 2018 - Tue Oct  9 22:40:16 2018  (03:04)    ',\n",
       " 'swayamdm pts/15       Tue Oct  9 19:35:36 2018 - Tue Oct  9 20:44:25 2018  (01:08)    ',\n",
       " 'divyabai pts/1        Tue Oct  9 19:33:09 2018 - Tue Oct  9 22:35:58 2018  (03:02)    ',\n",
       " 'jshinde0 pts/14       Tue Oct  9 19:24:27 2018 - Tue Oct  9 20:51:04 2018  (01:26)    ',\n",
       " 'jshinde0 pts/9        Tue Oct  9 19:24:22 2018 - Tue Oct  9 20:51:06 2018  (01:26)    ',\n",
       " 'h_bigdat pts/3        Tue Oct  9 19:21:54 2018 - Tue Oct  9 22:22:15 2018  (03:00)    ',\n",
       " 'chiragtr pts/2        Tue Oct  9 19:19:54 2018 - Tue Oct  9 19:48:28 2018  (00:28)    ',\n",
       " 'mailskri pts/5        Tue Oct  9 19:18:53 2018 - Tue Oct  9 22:19:15 2018  (03:00)    ',\n",
       " 'mailskri pts/3        Tue Oct  9 19:18:53 2018 - Tue Oct  9 19:18:57 2018  (00:00)    ',\n",
       " 'training pts/13       Tue Oct  9 19:01:46 2018 - Tue Oct  9 20:13:49 2018  (01:12)    ',\n",
       " 'soumyaga pts/13       Tue Oct  9 18:54:12 2018 - Tue Oct  9 19:01:46 2018  (00:07)    ',\n",
       " 'h_bigdat pts/12       Tue Oct  9 18:44:54 2018 - Tue Oct  9 21:45:16 2018  (03:00)    ',\n",
       " 'training pts/11       Tue Oct  9 18:31:37 2018 - Tue Oct  9 20:13:51 2018  (01:42)    ',\n",
       " 'training pts/8        Tue Oct  9 18:31:28 2018 - Tue Oct  9 20:13:47 2018  (01:42)    ',\n",
       " 'elguerma pts/7        Tue Oct  9 18:08:17 2018 - Tue Oct  9 21:40:55 2018  (03:32)    ',\n",
       " 'training pts/6        Tue Oct  9 18:06:44 2018 - Tue Oct  9 20:13:43 2018  (02:06)    ',\n",
       " 'mailprad pts/1        Tue Oct  9 18:06:36 2018 - Tue Oct  9 19:28:39 2018  (01:22)    ',\n",
       " 'akkuluri pts/0        Tue Oct  9 18:03:03 2018 - Tue Oct  9 21:20:45 2018  (03:17)    ',\n",
       " 'rayjiang pts/2        Tue Oct  9 17:41:46 2018 - Tue Oct  9 19:18:46 2018  (01:37)    ',\n",
       " 'elguerma pts/10       Tue Oct  9 17:35:26 2018 - Tue Oct  9 21:49:43 2018  (04:14)    ',\n",
       " 'jshinde0 pts/9        Tue Oct  9 17:33:41 2018 - Tue Oct  9 19:05:33 2018  (01:31)    ',\n",
       " 'jshinde0 pts/5        Tue Oct  9 17:33:39 2018 - Tue Oct  9 19:02:15 2018  (01:28)    ',\n",
       " 'harikris pts/4        Tue Oct  9 17:19:46 2018 - Tue Oct  9 20:20:16 2018  (03:00)    ',\n",
       " 'anupamku pts/18       Tue Oct  9 17:04:01 2018 - Tue Oct  9 20:04:16 2018  (03:00)    ',\n",
       " 'rayjiang pts/5        Tue Oct  9 16:57:24 2018 - Tue Oct  9 17:24:39 2018  (00:27)    ',\n",
       " 'obersime pts/22       Tue Oct  9 16:35:54 2018 - Tue Oct  9 19:46:11 2018  (03:10)    ',\n",
       " 'ankitaka pts/21       Tue Oct  9 16:21:37 2018 - Tue Oct  9 19:42:58 2018  (03:21)    ',\n",
       " 'obersime pts/3        Tue Oct  9 16:06:55 2018 - Tue Oct  9 19:18:53 2018  (03:11)    ',\n",
       " 'navinkar pts/6        Tue Oct  9 16:06:51 2018 - Tue Oct  9 17:43:47 2018  (01:36)    ',\n",
       " 'obersime pts/17       Tue Oct  9 16:05:36 2018 - Tue Oct  9 19:36:10 2018  (03:30)    ',\n",
       " 'krisjskk pts/15       Tue Oct  9 15:51:19 2018 - Tue Oct  9 17:10:18 2018  (01:18)    ',\n",
       " 'deepikag pts/18       Tue Oct  9 15:36:57 2018 - Tue Oct  9 16:59:11 2018  (01:22)    ',\n",
       " 'navinkar pts/20       Tue Oct  9 15:35:58 2018 - Tue Oct  9 19:38:34 2018  (04:02)    ',\n",
       " 'h_bigdat pts/19       Tue Oct  9 15:34:36 2018 - Tue Oct  9 18:35:16 2018  (03:00)    ',\n",
       " 'itversit pts/18       Tue Oct  9 15:34:32 2018 - Tue Oct  9 15:34:40 2018  (00:00)    ',\n",
       " 'harikris pts/15       Tue Oct  9 15:30:16 2018 - Tue Oct  9 15:42:26 2018  (00:12)    ',\n",
       " 'venkrish pts/14       Tue Oct  9 15:28:15 2018 - Tue Oct  9 19:24:27 2018  (03:56)    ',\n",
       " 'deepikag pts/13       Tue Oct  9 15:23:40 2018 - Tue Oct  9 17:47:44 2018  (02:24)    ',\n",
       " 'obersime pts/12       Tue Oct  9 15:21:42 2018 - Tue Oct  9 18:44:54 2018  (03:23)    ',\n",
       " 'divyabai pts/11       Tue Oct  9 15:15:00 2018 - Tue Oct  9 18:31:37 2018  (03:16)    ',\n",
       " 'obersime pts/7        Tue Oct  9 15:04:21 2018 - Tue Oct  9 18:08:17 2018  (03:03)    ',\n",
       " 'katukuri pts/5        Tue Oct  9 15:01:49 2018 - Tue Oct  9 16:40:52 2018  (01:39)    ',\n",
       " 'anupamku pts/0        Tue Oct  9 14:55:03 2018 - Tue Oct  9 17:54:15 2018  (02:59)    ',\n",
       " 'divyabai pts/1        Tue Oct  9 14:46:57 2018 - Tue Oct  9 18:06:36 2018  (03:19)    ',\n",
       " 'divyabai pts/8        Tue Oct  9 14:38:14 2018 - Tue Oct  9 18:31:28 2018  (03:53)    ',\n",
       " 'vkrmkuma pts/10       Tue Oct  9 14:32:48 2018 - Tue Oct  9 17:35:26 2018  (03:02)    ',\n",
       " 'elguerma pts/9        Tue Oct  9 14:29:38 2018 - Tue Oct  9 17:33:41 2018  (03:04)    ',\n",
       " 'muthusav pts/2        Tue Oct  9 14:24:15 2018 - Tue Oct  9 17:25:16 2018  (03:01)    ',\n",
       " 'rtchiang pts/4        Tue Oct  9 14:15:23 2018 - Tue Oct  9 17:19:46 2018  (03:04)    ',\n",
       " 'deepikag pts/0        Tue Oct  9 13:56:55 2018 - Tue Oct  9 14:50:18 2018  (00:53)    ',\n",
       " 'yuvankis pts/20       Tue Oct  9 13:15:13 2018 - Tue Oct  9 13:20:44 2018  (00:05)    ',\n",
       " 'abhirajs pts/6        Tue Oct  9 13:06:14 2018 - Tue Oct  9 16:06:51 2018  (03:00)    ',\n",
       " 'learning pts/10       Tue Oct  9 13:06:10 2018 - Tue Oct  9 13:49:27 2018  (00:43)    ',\n",
       " 'izzatfai pts/3        Tue Oct  9 13:01:23 2018 - Tue Oct  9 16:06:55 2018  (03:05)    ',\n",
       " 'venkrish pts/14       Tue Oct  9 12:57:19 2018 - Tue Oct  9 15:28:15 2018  (02:30)    ',\n",
       " 'saibanna pts/17       Tue Oct  9 12:57:07 2018 - Tue Oct  9 16:05:36 2018  (03:08)    ',\n",
       " 'deepikag pts/7        Tue Oct  9 12:51:23 2018 - Tue Oct  9 14:50:18 2018  (01:58)    ',\n",
       " 'vkrmkuma pts/23       Tue Oct  9 12:45:33 2018 - Tue Oct  9 19:53:46 2018  (07:08)    ',\n",
       " 'annapurn pts/24       Tue Oct  9 12:45:21 2018 - Tue Oct  9 13:25:31 2018  (00:40)    ',\n",
       " 'annapurn pts/14       Tue Oct  9 12:41:54 2018 - Tue Oct  9 12:46:31 2018  (00:04)    ',\n",
       " 'yuvankis pts/21       Tue Oct  9 12:41:16 2018 - Tue Oct  9 13:14:37 2018  (00:33)    ',\n",
       " 'learning pts/22       Tue Oct  9 12:38:21 2018 - Tue Oct  9 13:06:26 2018  (00:28)    ',\n",
       " 'rajeshs  pts/23       Tue Oct  9 12:31:26 2018 - Tue Oct  9 12:31:32 2018  (00:00)    ',\n",
       " 'rajeshs  pts/22       Tue Oct  9 12:31:24 2018 - Tue Oct  9 12:31:32 2018  (00:00)    ',\n",
       " 'rajeshs  pts/14       Tue Oct  9 12:31:21 2018 - Tue Oct  9 12:31:32 2018  (00:00)    ',\n",
       " 'annapurn pts/21       Tue Oct  9 12:29:48 2018 - Tue Oct  9 12:40:08 2018  (00:10)    ',\n",
       " 'gangadha pts/20       Tue Oct  9 12:27:50 2018 - Tue Oct  9 12:52:20 2018  (00:24)    ',\n",
       " 'deepikag pts/14       Tue Oct  9 12:26:39 2018 - Tue Oct  9 12:28:41 2018  (00:02)    ',\n",
       " 'cmahendr pts/19       Tue Oct  9 12:09:42 2018 - Tue Oct  9 15:34:36 2018  (03:24)    ',\n",
       " 'vkrmkuma pts/13       Tue Oct  9 12:08:23 2018 - Tue Oct  9 15:23:40 2018  (03:15)    ',\n",
       " 'mschagar pts/17       Tue Oct  9 12:03:34 2018 - Tue Oct  9 12:48:25 2018  (00:44)    ',\n",
       " 'katukuri pts/18       Tue Oct  9 12:00:12 2018 - Tue Oct  9 15:01:15 2018  (03:01)    ',\n",
       " 'katukuri pts/15       Tue Oct  9 12:00:06 2018 - Tue Oct  9 15:00:16 2018  (03:00)    ',\n",
       " 'roshanku pts/3        Tue Oct  9 11:58:52 2018 - Tue Oct  9 13:00:05 2018  (01:01)    ',\n",
       " 'maheshso pts/5        Tue Oct  9 11:55:28 2018 - Tue Oct  9 14:56:15 2018  (03:00)    ',\n",
       " 'fazilabu pts/1        Tue Oct  9 11:43:36 2018 - Tue Oct  9 14:46:57 2018  (03:03)    ',\n",
       " 'mpremcha pts/11       Tue Oct  9 11:40:36 2018 - Tue Oct  9 14:41:17 2018  (03:00)    ',\n",
       " 'training pts/3        Tue Oct  9 11:38:52 2018 - Tue Oct  9 11:58:46 2018  (00:19)    ',\n",
       " 'ankitaka pts/8        Tue Oct  9 11:21:38 2018 - Tue Oct  9 14:38:14 2018  (03:16)    ',\n",
       " 'gangadha pts/5        Tue Oct  9 11:18:37 2018 - Tue Oct  9 11:42:31 2018  (00:23)    ',\n",
       " 'bigdatan pts/13       Tue Oct  9 11:14:47 2018 - Tue Oct  9 12:02:56 2018  (00:48)    ',\n",
       " 'illenkoa pts/4        Tue Oct  9 11:13:37 2018 - Tue Oct  9 14:14:15 2018  (03:00)    ',\n",
       " 'ankitaka pts/9        Tue Oct  9 11:08:52 2018 - Tue Oct  9 14:29:38 2018  (03:20)    ',\n",
       " 'training pts/3        Tue Oct  9 11:03:16 2018 - Tue Oct  9 11:36:24 2018  (00:33)    ',\n",
       " 'durgas11 pts/12       Tue Oct  9 10:57:38 2018 - Tue Oct  9 13:58:16 2018  (03:00)    ',\n",
       " 'jyotin03 pts/11       Tue Oct  9 10:51:55 2018 - Tue Oct  9 11:19:23 2018  (00:27)    ',\n",
       " 'jyotin03 pts/8        Tue Oct  9 10:51:51 2018 - Tue Oct  9 11:19:09 2018  (00:27)    ',\n",
       " 'gangadha pts/1        Tue Oct  9 10:43:16 2018 - Tue Oct  9 11:42:43 2018  (00:59)    ',\n",
       " 'vinodn19 pts/5        Tue Oct  9 10:34:08 2018 - Tue Oct  9 11:16:34 2018  (00:42)    ',\n",
       " 'mailprad pts/12       Tue Oct  9 10:25:51 2018 - Tue Oct  9 10:55:37 2018  (00:29)    ',\n",
       " 'loganath pts/2        Tue Oct  9 10:23:07 2018 - Tue Oct  9 14:24:15 2018  (04:01)    ',\n",
       " 'durgas11 pts/0        Tue Oct  9 10:14:48 2018 - Tue Oct  9 13:15:16 2018  (03:00)    ',\n",
       " 'fazilabu pts/33       Tue Oct  9 10:05:07 2018 - Wed Oct 10 12:29:02 2018 (1+02:23)   ',\n",
       " 'loganath pts/32       Tue Oct  9 10:04:37 2018 - Wed Oct 10 09:46:30 2018  (23:41)    ',\n",
       " 'rajeshs  pts/10       Tue Oct  9 10:03:34 2018 - Tue Oct  9 13:06:10 2018  (03:02)    ',\n",
       " 'rajeshs  pts/28       Tue Oct  9 10:02:07 2018 - Wed Oct 10 09:28:37 2018  (23:26)    ',\n",
       " 'deepikag pts/29       Tue Oct  9 10:01:54 2018 - Tue Oct  9 12:18:59 2018  (02:17)    ',\n",
       " 'h_bigdat pts/6        Tue Oct  9 09:56:24 2018 - Tue Oct  9 12:57:16 2018  (03:00)    ',\n",
       " 'h_bigdat pts/7        Tue Oct  9 09:50:54 2018 - Tue Oct  9 12:51:16 2018  (03:00)    ',\n",
       " 'rssaluja pts/3        Tue Oct  9 09:50:25 2018 - Tue Oct  9 10:36:34 2018  (00:46)    ',\n",
       " 'bigdatan pts/24       Tue Oct  9 09:43:43 2018 - Tue Oct  9 12:02:57 2018  (02:19)    ',\n",
       " 'sunil000 pts/27       Tue Oct  9 09:40:07 2018 - Tue Oct  9 10:08:13 2018  (00:28)    ',\n",
       " 'rssaluja pts/25       Tue Oct  9 09:40:00 2018 - Tue Oct  9 10:36:12 2018  (00:56)    ',\n",
       " 'ankitaka pts/26       Tue Oct  9 09:39:31 2018 - Wed Oct 10 07:45:47 2018  (22:06)    ',\n",
       " 'bigdatan pts/24       Tue Oct  9 09:37:24 2018 - Tue Oct  9 09:41:05 2018  (00:03)    ',\n",
       " 'gangadha pts/21       Tue Oct  9 09:34:07 2018 - Tue Oct  9 10:23:49 2018  (00:49)    ',\n",
       " 'chiragtr pts/21       Tue Oct  9 09:28:55 2018 - Tue Oct  9 09:31:58 2018  (00:03)    ',\n",
       " 'meetarpi pts/9        Tue Oct  9 09:28:35 2018 - Tue Oct  9 10:59:28 2018  (01:30)    ',\n",
       " 'mailprad pts/19       Tue Oct  9 09:21:43 2018 - Tue Oct  9 10:06:12 2018  (00:44)    ',\n",
       " 'gangadha pts/15       Tue Oct  9 09:19:54 2018 - Tue Oct  9 10:24:01 2018  (01:04)    ',\n",
       " 'saibanna pts/14       Tue Oct  9 09:16:47 2018 - Tue Oct  9 12:26:39 2018  (03:09)    ',\n",
       " 'rssaluja pts/13       Tue Oct  9 09:14:17 2018 - Tue Oct  9 10:36:26 2018  (01:22)    ',\n",
       " 'krisjskk pts/12       Tue Oct  9 09:11:28 2018 - Tue Oct  9 10:19:40 2018  (01:08)    ',\n",
       " 'gargsure pts/3        Tue Oct  9 09:06:23 2018 - Tue Oct  9 09:44:50 2018  (00:38)    ',\n",
       " 'maheshso pts/23       Tue Oct  9 08:54:54 2018 - Tue Oct  9 11:55:17 2018  (03:00)    ',\n",
       " 'maheshso pts/22       Tue Oct  9 08:54:51 2018 - Tue Oct  9 11:55:17 2018  (03:00)    ',\n",
       " 'niranjan pts/20       Tue Oct  9 08:54:37 2018 - Tue Oct  9 12:27:50 2018  (03:33)    ',\n",
       " 'gargsure pts/10       Tue Oct  9 08:44:25 2018 - Tue Oct  9 09:44:44 2018  (01:00)    ',\n",
       " 'sachinji pts/19       Tue Oct  9 08:37:22 2018 - Tue Oct  9 09:19:42 2018  (00:42)    ',\n",
       " 'sunil000 pts/18       Tue Oct  9 08:35:42 2018 - Tue Oct  9 10:08:09 2018  (01:32)    ',\n",
       " 'gargsure pts/10       Tue Oct  9 08:32:44 2018 - Tue Oct  9 08:42:42 2018  (00:09)    ',\n",
       " 'kirantad pts/17       Tue Oct  9 08:31:35 2018 - Tue Oct  9 11:19:04 2018  (02:47)    ',\n",
       " 'bigdatan pts/15       Tue Oct  9 08:22:09 2018 - Tue Oct  9 08:38:03 2018  (00:15)    ',\n",
       " 'keshavgp pts/14       Tue Oct  9 08:11:32 2018 - Tue Oct  9 08:56:37 2018  (00:45)    ',\n",
       " 'satsukum pts/13       Tue Oct  9 08:11:12 2018 - Tue Oct  9 09:09:31 2018  (00:58)    ',\n",
       " 'keshavgp pts/12       Tue Oct  9 08:10:46 2018 - Tue Oct  9 08:56:35 2018  (00:45)    ',\n",
       " 'itversit pts/12       Tue Oct  9 08:09:49 2018 - Tue Oct  9 08:09:57 2018  (00:00)    ',\n",
       " 'illenkoa pts/4        Tue Oct  9 08:04:17 2018 - Tue Oct  9 11:04:16 2018  (02:59)    ',\n",
       " 'illenkoa pts/4        Tue Oct  9 07:57:24 2018 - Tue Oct  9 08:03:49 2018  (00:06)    ',\n",
       " 'itversit pts/4        Tue Oct  9 07:36:23 2018 - Tue Oct  9 07:36:37 2018  (00:00)    ',\n",
       " 'abhirajs pts/11       Tue Oct  9 07:34:34 2018 - Tue Oct  9 10:51:55 2018  (03:17)    ',\n",
       " 'abhirajs pts/5        Tue Oct  9 07:31:27 2018 - Tue Oct  9 10:34:08 2018  (03:02)    ',\n",
       " 'abhirajs pts/8        Tue Oct  9 07:31:20 2018 - Tue Oct  9 10:51:51 2018  (03:20)    ',\n",
       " 'muhammed pts/2        Tue Oct  9 07:10:01 2018 - Tue Oct  9 10:23:07 2018  (03:13)    ',\n",
       " 'abhirajs pts/1        Tue Oct  9 07:07:53 2018 - Tue Oct  9 10:43:16 2018  (03:35)    ',\n",
       " 'abhirajs pts/0        Tue Oct  9 07:07:02 2018 - Tue Oct  9 10:14:48 2018  (03:07)    ',\n",
       " 'roshanku pts/7        Tue Oct  9 06:50:01 2018 - Tue Oct  9 09:50:17 2018  (03:00)    ',\n",
       " 'elguerma pts/6        Tue Oct  9 06:48:26 2018 - Tue Oct  9 09:56:24 2018  (03:07)    ',\n",
       " 'vdharmag pts/10       Tue Oct  9 06:30:48 2018 - Tue Oct  9 08:32:05 2018  (02:01)    ',\n",
       " 'chandras pts/7        Tue Oct  9 06:28:15 2018 - Tue Oct  9 06:41:08 2018  (00:12)    ',\n",
       " 'meetarpi pts/9        Tue Oct  9 06:27:13 2018 - Tue Oct  9 09:28:16 2018  (03:01)    ',\n",
       " 'chandras pts/6        Tue Oct  9 06:21:24 2018 - Tue Oct  9 06:41:04 2018  (00:19)    ',\n",
       " 'mpremcha pts/3        Tue Oct  9 06:12:35 2018 - Tue Oct  9 09:03:03 2018  (02:50)    ',\n",
       " 'siddhant pts/3        Tue Oct  9 05:56:08 2018 - Tue Oct  9 05:58:03 2018  (00:01)    ',\n",
       " 'sseashu1 pts/5        Tue Oct  9 05:47:25 2018 - Tue Oct  9 07:02:31 2018  (01:15)    ',\n",
       " 'sseashu1 pts/2        Tue Oct  9 05:38:02 2018 - Tue Oct  9 07:02:29 2018  (01:24)    ',\n",
       " 'anupamku pts/4        Tue Oct  9 05:32:33 2018 - Tue Oct  9 07:26:19 2018  (01:53)    ',\n",
       " 'siddhant pts/3        Tue Oct  9 05:29:00 2018 - Tue Oct  9 05:55:33 2018  (00:26)    ',\n",
       " 'annapurn pts/0        Tue Oct  9 05:15:52 2018 - Tue Oct  9 07:02:43 2018  (01:46)    ',\n",
       " 'jshinde0 pts/33       Tue Oct  9 05:13:47 2018 - Tue Oct  9 07:48:12 2018  (02:34)    ',\n",
       " 'jshinde0 pts/34       Tue Oct  9 05:13:32 2018 - Tue Oct  9 07:48:08 2018  (02:34)    ',\n",
       " 'siddhant pts/0        Tue Oct  9 05:10:40 2018 - Tue Oct  9 05:15:44 2018  (00:05)    ',\n",
       " 'siddhant pts/33       Tue Oct  9 05:09:39 2018 - Tue Oct  9 05:10:08 2018  (00:00)    ',\n",
       " 'annapurn pts/32       Tue Oct  9 05:08:47 2018 - Tue Oct  9 07:02:43 2018  (01:53)    ',\n",
       " 'siddhant pts/32       Tue Oct  9 05:05:41 2018 - Tue Oct  9 05:06:02 2018  (00:00)    ',\n",
       " 'sunil000 pts/20       Tue Oct  9 05:05:11 2018 - Tue Oct  9 06:41:11 2018  (01:36)    ',\n",
       " 'sunil000 pts/31       Tue Oct  9 05:02:28 2018 - Tue Oct  9 05:39:29 2018  (00:37)    ',\n",
       " 'siddhant pts/20       Tue Oct  9 05:02:20 2018 - Tue Oct  9 05:02:31 2018  (00:00)    ',\n",
       " 'sachinji pts/17       Tue Oct  9 04:53:54 2018 - Tue Oct  9 07:54:15 2018  (03:00)    ',\n",
       " 'sseashu1 pts/2        Tue Oct  9 04:45:34 2018 - Tue Oct  9 05:37:25 2018  (00:51)    ',\n",
       " 'sseashu1 pts/2        Tue Oct  9 04:44:43 2018 - Tue Oct  9 04:45:29 2018  (00:00)    ',\n",
       " 'sseashu1 pts/1        Tue Oct  9 04:41:28 2018 - Tue Oct  9 07:02:22 2018  (02:20)    ',\n",
       " 'siddhant pts/0        Tue Oct  9 04:35:04 2018 - Tue Oct  9 05:10:19 2018  (00:35)    ',\n",
       " 'mpremcha pts/34       Tue Oct  9 04:31:45 2018 - Tue Oct  9 05:09:09 2018  (00:37)    ',\n",
       " 'keshavgp pts/33       Tue Oct  9 04:31:28 2018 - Tue Oct  9 04:50:11 2018  (00:18)    ',\n",
       " 'keshavgp pts/32       Tue Oct  9 04:31:09 2018 - Tue Oct  9 04:50:11 2018  (00:19)    ',\n",
       " 'anupamku pts/26       Tue Oct  9 04:28:16 2018 - Tue Oct  9 07:26:32 2018  (02:58)    ',\n",
       " 'siddhant pts/26       Tue Oct  9 04:26:13 2018 - Tue Oct  9 04:26:31 2018  (00:00)    ',\n",
       " 'siddhant pts/22       Tue Oct  9 04:16:42 2018 - Tue Oct  9 08:54:51 2018  (04:38)    ',\n",
       " 'sunil000 pts/31       Tue Oct  9 04:03:36 2018 - Tue Oct  9 04:33:06 2018  (00:29)    ',\n",
       " 'unirkr12 pts/18       Tue Oct  9 04:03:27 2018 - Tue Oct  9 08:35:42 2018  (04:32)    ',\n",
       " 'soumyaga pts/32       Tue Oct  9 03:59:00 2018 - Tue Oct  9 04:31:09 2018  (00:32)    ',\n",
       " 'loganath pts/29       Tue Oct  9 03:58:17 2018 - Tue Oct  9 10:01:54 2018  (06:03)    ',\n",
       " 'skakarla pts/13       Tue Oct  9 03:54:54 2018 - Tue Oct  9 08:11:12 2018  (04:16)    ',\n",
       " 'fazilabu pts/28       Tue Oct  9 03:54:31 2018 - Tue Oct  9 10:02:07 2018  (06:07)    ',\n",
       " 'sunil000 pts/18       Tue Oct  9 03:54:11 2018 - Tue Oct  9 04:01:39 2018  (00:07)    ',\n",
       " 'soumyaga pts/8        Tue Oct  9 03:49:19 2018 - Tue Oct  9 07:31:20 2018  (03:42)    ',\n",
       " 'niranjan pts/19       Tue Oct  9 03:41:29 2018 - Tue Oct  9 08:37:22 2018  (04:55)    ',\n",
       " 'abhirajs pts/27       Tue Oct  9 03:40:38 2018 - Tue Oct  9 09:40:07 2018  (05:59)    ',\n",
       " 'abhirajs pts/24       Tue Oct  9 03:39:51 2018 - Tue Oct  9 09:37:24 2018  (05:57)    ',\n",
       " 'soumyaga pts/21       Tue Oct  9 03:36:09 2018 - Tue Oct  9 09:28:55 2018  (05:52)    ',\n",
       " 'sunil000 pts/0        Tue Oct  9 03:32:23 2018 - Tue Oct  9 04:33:19 2018  (01:00)    ',\n",
       " 'sunil000 pts/17       Tue Oct  9 03:30:08 2018 - Tue Oct  9 04:33:15 2018  (01:03)    ',\n",
       " 'loganath pts/14       Tue Oct  9 03:27:32 2018 - Tue Oct  9 08:11:32 2018  (04:44)    ',\n",
       " 'ervetrie pts/7        Tue Oct  9 03:26:54 2018 - Tue Oct  9 06:28:15 2018  (03:01)    ',\n",
       " 'abhirajs pts/11       Tue Oct  9 03:23:50 2018 - Tue Oct  9 07:34:34 2018  (04:10)    ',\n",
       " 'abhirajs pts/25       Tue Oct  9 03:18:56 2018 - Tue Oct  9 09:40:00 2018  (06:21)    ',\n",
       " 'sseashu1 pts/19       Tue Oct  9 03:12:08 2018 - Tue Oct  9 03:37:09 2018  (00:25)    ',\n",
       " 'keshavgp pts/14       Tue Oct  9 03:12:07 2018 - Tue Oct  9 03:23:07 2018  (00:11)    ',\n",
       " 'sseashu1 pts/14       Tue Oct  9 03:11:32 2018 - Tue Oct  9 03:12:03 2018  (00:00)    ',\n",
       " 'roshanku pts/15       Tue Oct  9 03:02:33 2018 - Tue Oct  9 05:21:29 2018  (02:18)    ',\n",
       " 'muhammed pts/17       Tue Oct  9 02:58:14 2018 - Tue Oct  9 03:30:08 2018  (00:31)    ',\n",
       " 'training pts/16       Tue Oct  9 02:57:48 2018 - Tue Oct  9 03:31:06 2018  (00:33)    ',\n",
       " 'soumyaga pts/6        Tue Oct  9 02:55:36 2018 - Tue Oct  9 06:21:24 2018  (03:25)    ',\n",
       " 'sseashu1 pts/14       Tue Oct  9 02:51:35 2018 - Tue Oct  9 03:11:26 2018  (00:19)    ',\n",
       " 'muhammed pts/12       Tue Oct  9 02:50:43 2018 - Tue Oct  9 08:09:49 2018  (05:19)    ',\n",
       " 'abhirajs pts/23       Tue Oct  9 02:47:23 2018 - Tue Oct  9 08:54:54 2018  (06:07)    ',\n",
       " 'cmahendr pts/15       Tue Oct  9 02:44:22 2018 - Tue Oct  9 03:02:33 2018  (00:18)    ',\n",
       " 'training pts/12       Tue Oct  9 02:42:11 2018 - Tue Oct  9 02:50:25 2018  (00:08)    ',\n",
       " 'meetarpi pts/10       Tue Oct  9 02:39:47 2018 - Tue Oct  9 05:40:17 2018  (03:00)    ',\n",
       " 'gdgs_tea pts/9        Tue Oct  9 02:34:37 2018 - Tue Oct  9 06:27:13 2018  (03:52)    ',\n",
       " 'loganath pts/10       Tue Oct  9 02:33:51 2018 - Tue Oct  9 02:39:47 2018  (00:05)    ',\n",
       " 'keshavgp pts/11       Tue Oct  9 02:33:07 2018 - Tue Oct  9 03:23:18 2018  (00:50)    ',\n",
       " 'nerellav pts/7        Tue Oct  9 02:31:18 2018 - Tue Oct  9 03:25:45 2018  (00:54)    ',\n",
       " 'krisjskk pts/5        Tue Oct  9 02:27:02 2018 - Tue Oct  9 05:47:25 2018  (03:20)    ',\n",
       " 'muhammed pts/4        Tue Oct  9 02:26:08 2018 - Tue Oct  9 05:32:33 2018  (03:06)    ',\n",
       " 'krisjskk pts/3        Tue Oct  9 02:24:56 2018 - Tue Oct  9 05:29:00 2018  (03:04)    ',\n",
       " 'sunil000 pts/1        Tue Oct  9 02:15:06 2018 - Tue Oct  9 04:33:10 2018  (02:18)    ',\n",
       " 'datadige pts/25       Tue Oct  9 02:03:52 2018 - Tue Oct  9 02:48:52 2018  (00:45)    ',\n",
       " 'macksv17 pts/36       Tue Oct  9 01:47:44 2018 - Tue Oct  9 02:15:32 2018  (00:27)    ',\n",
       " 'gangadha pts/20       Tue Oct  9 01:46:29 2018 - Tue Oct  9 04:47:16 2018  (03:00)    ',\n",
       " 'macksv17 pts/9        Tue Oct  9 01:41:50 2018 - Tue Oct  9 02:33:50 2018  (00:52)    ',\n",
       " 'siddhant pts/2        Tue Oct  9 01:39:58 2018 - Tue Oct  9 04:44:43 2018  (03:04)    ',\n",
       " 'srikapar pts/2        Tue Oct  9 01:33:41 2018 - Tue Oct  9 01:39:58 2018  (00:06)    ',\n",
       " 'srikapar pts/32       Tue Oct  9 01:31:42 2018 - Tue Oct  9 03:53:46 2018  (02:22)    ',\n",
       " 'annapurn pts/35       Tue Oct  9 01:30:04 2018 - Tue Oct  9 04:31:17 2018  (03:01)    ',\n",
       " 'koushikm pts/34       Tue Oct  9 01:29:50 2018 - Tue Oct  9 01:54:20 2018  (00:24)    ',\n",
       " 'sachinji pts/27       Tue Oct  9 01:26:40 2018 - Tue Oct  9 03:33:01 2018  (02:06)    ',\n",
       " 'soumyaga pts/27       Tue Oct  9 01:25:19 2018 - Tue Oct  9 01:26:40 2018  (00:01)    ',\n",
       " 'gunjanba pts/26       Tue Oct  9 01:24:39 2018 - Tue Oct  9 04:26:13 2018  (03:01)    ',\n",
       " 'itversit pts/26       Tue Oct  9 01:24:11 2018 - Tue Oct  9 01:24:20 2018  (00:00)    ',\n",
       " 'srikapar pts/2        Tue Oct  9 01:22:22 2018 - Tue Oct  9 01:31:48 2018  (00:09)    ',\n",
       " 'roshanku pts/23       Tue Oct  9 01:17:22 2018 - Tue Oct  9 02:36:58 2018  (01:19)    ',\n",
       " 'gangadha pts/26       Tue Oct  9 01:14:48 2018 - Tue Oct  9 01:22:02 2018  (00:07)    ',\n",
       " 'annapurn pts/20       Tue Oct  9 01:14:32 2018 - Tue Oct  9 01:31:42 2018  (00:17)    ',\n",
       " 'sunil000 pts/23       Tue Oct  9 01:10:37 2018 - Tue Oct  9 01:11:49 2018  (00:01)    ',\n",
       " 'fazilabu pts/22       Tue Oct  9 01:05:00 2018 - Tue Oct  9 04:16:42 2018  (03:11)    ',\n",
       " 'krisjskk pts/32       Tue Oct  9 01:02:51 2018 - Tue Oct  9 01:30:11 2018  (00:27)    ',\n",
       " 'gunjanba pts/31       Tue Oct  9 01:01:52 2018 - Tue Oct  9 04:03:36 2018  (03:01)    ',\n",
       " 'sunil000 pts/31       Tue Oct  9 01:00:32 2018 - Tue Oct  9 01:00:54 2018  (00:00)    ',\n",
       " 'sseashu1 pts/6        Tue Oct  9 00:56:16 2018 - Tue Oct  9 02:51:28 2018  (01:55)    ',\n",
       " 'muhammed pts/30       Tue Oct  9 00:54:06 2018   gone - no logout                     ',\n",
       " 'nerellav pts/28       Tue Oct  9 00:52:38 2018 - Tue Oct  9 02:15:33 2018  (01:22)    ',\n",
       " 'obersime pts/8        Tue Oct  9 00:46:22 2018 - Tue Oct  9 03:49:19 2018  (03:02)    ',\n",
       " 'nerellav pts/24       Tue Oct  9 00:46:19 2018 - Tue Oct  9 03:25:49 2018  (02:39)    ',\n",
       " 'gdgs_tea pts/13       Tue Oct  9 00:42:51 2018 - Tue Oct  9 03:54:54 2018  (03:12)    ',\n",
       " 'obersime pts/29       Tue Oct  9 00:40:16 2018 - Tue Oct  9 03:58:17 2018  (03:18)    ',\n",
       " 'sseashu1 pts/8        Tue Oct  9 00:37:50 2018 - Tue Oct  9 00:42:57 2018  (00:05)    ',\n",
       " 'loganath pts/27       Tue Oct  9 00:32:14 2018 - Tue Oct  9 01:06:53 2018  (00:34)    ',\n",
       " 'loganath pts/20       Tue Oct  9 00:32:12 2018 - Tue Oct  9 01:06:56 2018  (00:34)    ',\n",
       " 'bhupeshc pts/0        Tue Oct  9 00:29:17 2018 - Tue Oct  9 03:30:16 2018  (03:00)    ',\n",
       " 'divyabai pts/18       Tue Oct  9 00:27:47 2018 - Tue Oct  9 03:54:11 2018  (03:26)    ',\n",
       " 'training pts/26       Tue Oct  9 00:25:36 2018 - Tue Oct  9 01:14:12 2018  (00:48)    ',\n",
       " 'sachinji pts/13       Tue Oct  9 00:25:01 2018 - Tue Oct  9 00:38:34 2018  (00:13)    ',\n",
       " 'nerellav pts/24       Tue Oct  9 00:23:49 2018 - Tue Oct  9 00:46:11 2018  (00:22)    ',\n",
       " 'training pts/23       Tue Oct  9 00:22:47 2018 - Tue Oct  9 01:06:19 2018  (00:43)    ',\n",
       " 'sseashu1 pts/8        Tue Oct  9 00:22:06 2018 - Tue Oct  9 00:37:20 2018  (00:15)    ',\n",
       " 'sseashu1 pts/8        Tue Oct  9 00:18:39 2018 - Tue Oct  9 00:19:08 2018  (00:00)    ',\n",
       " 'fazilabu pts/22       Tue Oct  9 00:16:02 2018 - Tue Oct  9 01:05:00 2018  (00:48)    ',\n",
       " 'macksv17 pts/9        Tue Oct  9 00:14:46 2018 - Tue Oct  9 01:41:40 2018  (01:26)    ',\n",
       " 'bhupeshc pts/0        Tue Oct  9 00:13:14 2018 - Tue Oct  9 00:28:51 2018  (00:15)    ',\n",
       " 'cmahendr pts/21       Tue Oct  9 00:13:10 2018 - Tue Oct  9 03:36:09 2018  (03:22)    ',\n",
       " 'bhupeshc pts/20       Tue Oct  9 00:12:39 2018 - Tue Oct  9 00:28:37 2018  (00:15)    ',\n",
       " 'krisjskk pts/6        Tue Oct  9 00:11:57 2018 - Tue Oct  9 00:54:18 2018  (00:42)    ',\n",
       " 'mailskri pts/2        Tue Oct  9 00:11:08 2018 - Tue Oct  9 01:18:11 2018  (01:07)    ',\n",
       " 'nerellav pts/0        Tue Oct  9 00:10:33 2018 - Tue Oct  9 00:12:03 2018  (00:01)    ',\n",
       " 'obersime pts/19       Mon Oct  8 23:55:43 2018 - Tue Oct  9 03:12:08 2018  (03:16)    ',\n",
       " 'datadige pts/18       Mon Oct  8 23:52:43 2018 - Tue Oct  9 00:26:56 2018  (00:34)    ',\n",
       " 'sseashu1 pts/0        Mon Oct  8 23:52:03 2018 - Mon Oct  8 23:58:57 2018  (00:06)    ',\n",
       " 'keshavgp pts/14       Mon Oct  8 23:50:19 2018 - Tue Oct  9 02:50:16 2018  (02:59)    ',\n",
       " 'sseashu1 pts/0        Mon Oct  8 23:49:19 2018 - Mon Oct  8 23:50:35 2018  (00:01)    ',\n",
       " 'cmahendr pts/17       Mon Oct  8 23:47:46 2018 - Tue Oct  9 02:58:14 2018  (03:10)    ',\n",
       " 'cmahendr pts/16       Mon Oct  8 23:41:44 2018 - Tue Oct  9 02:57:48 2018  (03:16)    ',\n",
       " 'rayjiang pts/15       Mon Oct  8 23:40:27 2018 - Tue Oct  9 02:44:22 2018  (03:03)    ',\n",
       " 'sachinji pts/13       Mon Oct  8 23:32:21 2018 - Tue Oct  9 00:24:41 2018  (00:52)    ',\n",
       " 'srikapar pts/14       Mon Oct  8 23:31:18 2018 - Mon Oct  8 23:48:32 2018  (00:17)    ',\n",
       " 'obersime pts/12       Mon Oct  8 23:30:41 2018 - Tue Oct  9 02:42:11 2018  (03:11)    ',\n",
       " 'divyabai pts/10       Mon Oct  8 23:23:55 2018 - Tue Oct  9 02:33:51 2018  (03:09)    ',\n",
       " 'training pts/12       Mon Oct  8 23:23:48 2018 - Mon Oct  8 23:29:28 2018  (00:05)    ',\n",
       " 'cmahendr pts/11       Mon Oct  8 23:21:31 2018 - Tue Oct  9 02:33:07 2018  (03:11)    ',\n",
       " 'macksv17 pts/9        Mon Oct  8 23:19:16 2018 - Tue Oct  9 00:13:22 2018  (00:54)    ',\n",
       " 'annapurn pts/8        Mon Oct  8 23:19:08 2018 - Tue Oct  9 00:16:50 2018  (00:57)    ',\n",
       " 'nerellav pts/6        Mon Oct  8 23:18:06 2018 - Tue Oct  9 00:10:25 2018  (00:52)    ',\n",
       " 'keshavgp pts/5        Mon Oct  8 23:17:32 2018 - Tue Oct  9 02:18:15 2018  (03:00)    ',\n",
       " 'cmahendr pts/7        Mon Oct  8 23:16:24 2018 - Tue Oct  9 02:31:18 2018  (03:14)    ',\n",
       " 'obersime pts/4        Mon Oct  8 23:11:09 2018 - Tue Oct  9 02:26:08 2018  (03:14)    ',\n",
       " 'sseashu1 pts/4        Mon Oct  8 23:07:14 2018 - Mon Oct  8 23:08:17 2018  (00:01)    ',\n",
       " 'training pts/2        Mon Oct  8 23:03:24 2018 - Mon Oct  8 23:56:17 2018  (00:52)    ',\n",
       " 'lovelyso pts/3        Mon Oct  8 23:03:22 2018 - Tue Oct  9 02:24:56 2018  (03:21)    ',\n",
       " 'gangadha pts/25       Mon Oct  8 23:02:41 2018 - Tue Oct  9 02:03:16 2018  (03:00)    ',\n",
       " 'macksv17 pts/24       Mon Oct  8 23:02:36 2018 - Mon Oct  8 23:19:07 2018  (00:16)    ',\n",
       " 'macksv17 pts/23       Mon Oct  8 23:02:15 2018 - Tue Oct  9 00:13:31 2018  (01:11)    ',\n",
       " 'sseashu1 pts/2        Mon Oct  8 23:01:57 2018 - Mon Oct  8 23:03:13 2018  (00:01)    ',\n",
       " 'mkprabhu pts/1        Mon Oct  8 23:01:26 2018 - Tue Oct  9 02:02:16 2018  (03:00)    ',\n",
       " 'training pts/0        Mon Oct  8 23:01:19 2018 - Mon Oct  8 23:42:38 2018  (00:41)    ',\n",
       " 'reboot   system boot  Mon Oct  8 23:00:50 2018 - Thu Oct 11 12:56:23 2018 (2+13:55)   ',\n",
       " 'macksv17 pts/6        Mon Oct  8 22:58:18 2018 - Mon Oct  8 22:58:22 2018  (00:00)    ',\n",
       " 'harikris pts/13       Mon Oct  8 22:53:51 2018 - Mon Oct  8 22:58:22 2018  (00:04)    ',\n",
       " 'mkprabhu pts/12       Mon Oct  8 22:50:24 2018 - Mon Oct  8 22:58:22 2018  (00:07)    ',\n",
       " 'macksv17 pts/9        Mon Oct  8 22:50:01 2018 - Mon Oct  8 22:58:22 2018  (00:08)    ',\n",
       " 'keshavgp pts/5        Mon Oct  8 22:46:58 2018 - Mon Oct  8 22:58:22 2018  (00:11)    ',\n",
       " 'gunjanba pts/11       Mon Oct  8 22:44:29 2018 - down                      (00:14)    ',\n",
       " 'lovelyso pts/10       Mon Oct  8 22:43:29 2018 - down                      (00:15)    ',\n",
       " 'gangadha pts/7        Mon Oct  8 22:42:14 2018 - down                      (00:16)    ',\n",
       " 'pnandedk pts/4        Mon Oct  8 22:41:32 2018 - Mon Oct  8 22:58:22 2018  (00:16)    ',\n",
       " 'training pts/1        Mon Oct  8 22:41:17 2018 - Mon Oct  8 22:58:22 2018  (00:17)    ',\n",
       " 'seshasks pts/9        Mon Oct  8 22:40:00 2018 - Mon Oct  8 22:44:12 2018  (00:04)    ',\n",
       " 'sseashu1 pts/8        Mon Oct  8 22:39:30 2018 - Mon Oct  8 22:48:37 2018  (00:09)    ',\n",
       " 'krisjskk pts/6        Mon Oct  8 22:38:02 2018 - Mon Oct  8 22:57:51 2018  (00:19)    ',\n",
       " 'nerellav pts/5        Mon Oct  8 22:35:11 2018 - Mon Oct  8 22:46:47 2018  (00:11)    ',\n",
       " 'annapurn pts/4        Mon Oct  8 22:34:39 2018 - Mon Oct  8 22:36:55 2018  (00:02)    ',\n",
       " 'rajegaur pts/3        Mon Oct  8 22:30:43 2018 - Mon Oct  8 22:58:22 2018  (00:27)    ',\n",
       " 'gangadha pts/2        Mon Oct  8 22:27:42 2018 - Mon Oct  8 22:58:22 2018  (00:30)    ',\n",
       " 'training pts/1        Mon Oct  8 22:26:02 2018 - Mon Oct  8 22:41:13 2018  (00:15)    ',\n",
       " 'venkrish pts/0        Mon Oct  8 22:20:36 2018 - down                      (00:38)    ',\n",
       " 'training pts/15       Mon Oct  8 22:19:27 2018 - Mon Oct  8 22:58:22 2018  (00:38)    ',\n",
       " 'nerellav pts/14       Mon Oct  8 22:19:20 2018 - Mon Oct  8 22:24:31 2018  (00:05)    ',\n",
       " 'reboot   system boot  Mon Oct  8 22:18:15 2018 - Mon Oct  8 22:58:42 2018  (00:40)    ',\n",
       " 'nerellav pts/59       Mon Oct  8 22:08:47 2018 - Mon Oct  8 22:14:46 2018  (00:05)    ',\n",
       " 'training pts/56       Mon Oct  8 22:06:05 2018 - Mon Oct  8 22:09:42 2018  (00:03)    ',\n",
       " 'training pts/53       Mon Oct  8 22:04:06 2018 - Mon Oct  8 22:14:46 2018  (00:10)    ',\n",
       " 'training pts/53       Mon Oct  8 21:52:42 2018 - Mon Oct  8 21:57:38 2018  (00:04)    ',\n",
       " 'itversit pts/53       Mon Oct  8 21:52:06 2018 - Mon Oct  8 21:52:37 2018  (00:00)    ',\n",
       " 'seshasks pts/24       Mon Oct  8 21:51:37 2018 - Mon Oct  8 22:10:30 2018  (00:18)    ',\n",
       " 'training pts/56       Mon Oct  8 21:51:06 2018 - Mon Oct  8 21:51:57 2018  (00:00)    ',\n",
       " 'venkrish pts/49       Mon Oct  8 21:50:38 2018 - crash                     (00:27)    ',\n",
       " 'divyabai pts/31       Mon Oct  8 21:43:53 2018 - crash                     (00:34)    ',\n",
       " 'seshasks pts/24       Mon Oct  8 21:43:18 2018 - Mon Oct  8 21:51:20 2018  (00:08)    ',\n",
       " 'krisjskk pts/49       Mon Oct  8 21:39:39 2018 - Mon Oct  8 21:48:52 2018  (00:09)    ',\n",
       " 'rayjiang pts/38       Mon Oct  8 21:33:11 2018 - crash                     (00:45)    ',\n",
       " 'pnandedk pts/31       Mon Oct  8 21:27:01 2018 - Mon Oct  8 21:36:57 2018  (00:09)    ',\n",
       " 'muthusav pts/42       Mon Oct  8 21:22:31 2018 - Mon Oct  8 22:14:46 2018  (00:52)    ',\n",
       " 'gangadha pts/37       Mon Oct  8 21:20:46 2018 - Mon Oct  8 22:14:46 2018  (00:54)    ',\n",
       " 'fazilabu pts/25       Mon Oct  8 21:18:22 2018 - crash                     (00:59)    ',\n",
       " 'pnandedk pts/31       Mon Oct  8 21:16:29 2018 - Mon Oct  8 21:26:42 2018  (00:10)    ',\n",
       " 'fazilabu pts/25       Mon Oct  8 21:12:31 2018 - Mon Oct  8 21:18:22 2018  (00:05)    ',\n",
       " 'gangadha pts/55       Mon Oct  8 21:05:27 2018 - crash                     (01:12)    ',\n",
       " 'krisjskk pts/56       Mon Oct  8 20:54:50 2018 - Mon Oct  8 21:04:28 2018  (00:09)    ',\n",
       " 'mailprad pts/55       Mon Oct  8 20:53:40 2018 - Mon Oct  8 20:58:38 2018  (00:04)    ',\n",
       " 'mailprad pts/56       Mon Oct  8 20:53:06 2018 - Mon Oct  8 20:53:29 2018  (00:00)    ',\n",
       " 'mailprad pts/55       Mon Oct  8 20:51:40 2018 - Mon Oct  8 20:53:29 2018  (00:01)    ',\n",
       " 'choudhar pts/53       Mon Oct  8 20:49:35 2018 - Mon Oct  8 21:06:51 2018  (00:17)    ',\n",
       " 'choudhar pts/49       Mon Oct  8 20:49:14 2018 - Mon Oct  8 21:06:51 2018  (00:17)    ',\n",
       " 'gangadha pts/42       Mon Oct  8 20:46:56 2018 - Mon Oct  8 21:18:15 2018  (00:31)    ',\n",
       " 'obersime pts/32       Mon Oct  8 20:31:30 2018 - crash                     (01:46)    ',\n",
       " 'divyabai pts/45       Mon Oct  8 20:22:47 2018 - crash                     (01:55)    ',\n",
       " 'keshavgp pts/24       Mon Oct  8 20:22:18 2018 - Mon Oct  8 21:40:28 2018  (01:18)    ',\n",
       " 'divyabai pts/9        Mon Oct  8 20:22:05 2018 - crash                     (01:56)    ',\n",
       " 'divyabai pts/47       Mon Oct  8 20:20:04 2018 - crash                     (01:58)    ',\n",
       " 'jshinde0 pts/39       Mon Oct  8 20:16:48 2018 - crash                     (02:01)    ',\n",
       " 'gunjanba pts/31       Mon Oct  8 20:15:14 2018 - Mon Oct  8 20:54:57 2018  (00:39)    ',\n",
       " 'gunjanba pts/25       Mon Oct  8 20:15:12 2018 - Mon Oct  8 20:54:57 2018  (00:39)    ',\n",
       " 'datadige pts/22       Mon Oct  8 20:14:26 2018 - crash                     (02:03)    ',\n",
       " 'krishnat pts/23       Mon Oct  8 20:14:16 2018 - Mon Oct  8 22:14:46 2018  (02:00)    ',\n",
       " 'datadige pts/9        Mon Oct  8 20:13:44 2018 - Mon Oct  8 20:20:18 2018  (00:06)    ',\n",
       " 'gunjanba pts/13       Mon Oct  8 20:12:38 2018 - crash                     (02:05)    ',\n",
       " 'jshinde0 pts/9        Mon Oct  8 20:11:45 2018 - Mon Oct  8 20:13:21 2018  (00:01)    ',\n",
       " 'rayjiang pts/38       Mon Oct  8 20:09:19 2018 - Mon Oct  8 21:26:38 2018  (01:17)    ',\n",
       " 'kirantad pts/40       Mon Oct  8 20:04:48 2018 - Mon Oct  8 22:14:46 2018  (02:09)    ',\n",
       " 'gunjanba pts/43       Mon Oct  8 20:03:01 2018 - crash                     (02:15)    ',\n",
       " 'ankitaka pts/32       Mon Oct  8 20:02:39 2018 - Mon Oct  8 20:31:30 2018  (00:28)    ',\n",
       " 'gunjanba pts/39       Mon Oct  8 20:02:21 2018 - Mon Oct  8 20:07:44 2018  (00:05)    ',\n",
       " 'gunjanba pts/38       Mon Oct  8 20:02:19 2018 - Mon Oct  8 20:07:44 2018  (00:05)    ',\n",
       " 'gunjanba pts/23       Mon Oct  8 20:01:42 2018 - Mon Oct  8 20:12:27 2018  (00:10)    ',\n",
       " 'gunjanba pts/22       Mon Oct  8 20:01:40 2018 - Mon Oct  8 20:12:27 2018  (00:10)    ',\n",
       " 'rayjiang pts/28       Mon Oct  8 20:01:04 2018 - crash                     (02:17)    ',\n",
       " 'itversit pts/38       Mon Oct  8 20:00:54 2018 - Mon Oct  8 20:00:54 2018  (00:00)    ',\n",
       " 'itversit pts/38       Mon Oct  8 20:00:52 2018 - Mon Oct  8 20:00:52 2018  (00:00)    ',\n",
       " 'itversit pts/38       Mon Oct  8 20:00:44 2018 - Mon Oct  8 20:00:45 2018  (00:00)    ',\n",
       " 'itversit pts/28       Mon Oct  8 20:00:41 2018 - Mon Oct  8 20:00:42 2018  (00:00)    ',\n",
       " 'itversit pts/28       Mon Oct  8 20:00:33 2018 - Mon Oct  8 20:00:34 2018  (00:00)    ',\n",
       " 'itversit pts/38       Mon Oct  8 20:00:24 2018 - Mon Oct  8 20:00:31 2018  (00:00)    ',\n",
       " 'mailskri pts/8        Mon Oct  8 19:59:14 2018 - Mon Oct  8 22:14:46 2018  (02:15)    ',\n",
       " 'kirantad pts/36       Mon Oct  8 19:56:07 2018 - Mon Oct  8 22:14:42 2018  (02:18)    ',\n",
       " 'rayjiang pts/28       Mon Oct  8 19:54:24 2018 - Mon Oct  8 20:00:33 2018  (00:06)    ',\n",
       " 'training pts/36       Mon Oct  8 19:53:55 2018 - Mon Oct  8 19:55:25 2018  (00:01)    ',\n",
       " 'jshinde0 pts/9        Mon Oct  8 19:53:02 2018 - Mon Oct  8 20:11:36 2018  (00:18)    ',\n",
       " 'datadige pts/31       Mon Oct  8 19:50:39 2018 - Mon Oct  8 20:12:17 2018  (00:21)    ',\n",
       " 'gunjanba pts/23       Mon Oct  8 19:47:14 2018 - Mon Oct  8 20:01:26 2018  (00:14)    ',\n",
       " 'gunjanba pts/22       Mon Oct  8 19:47:13 2018 - Mon Oct  8 20:01:26 2018  (00:14)    ',\n",
       " 'training pts/9        Mon Oct  8 19:45:29 2018 - Mon Oct  8 19:52:41 2018  (00:07)    ',\n",
       " 'parishan pts/9        Mon Oct  8 19:28:12 2018 - Mon Oct  8 19:44:05 2018  (00:15)    ',\n",
       " 'ankitaka pts/32       Mon Oct  8 19:27:35 2018 - Mon Oct  8 20:02:39 2018  (00:35)    ',\n",
       " 'rayjiang pts/28       Mon Oct  8 19:26:30 2018 - Mon Oct  8 19:54:24 2018  (00:27)    ',\n",
       " 'training pts/43       Mon Oct  8 19:21:39 2018 - Mon Oct  8 19:45:24 2018  (00:23)    ',\n",
       " 'senapati pts/41       Mon Oct  8 19:19:56 2018 - crash                     (02:58)    ',\n",
       " 'divyabai pts/34       Mon Oct  8 19:18:42 2018 - crash                     (02:59)    ',\n",
       " 'jshinde0 pts/36       Mon Oct  8 19:17:09 2018 - Mon Oct  8 19:52:52 2018  (00:35)    ',\n",
       " 'parishan pts/31       Mon Oct  8 19:15:42 2018 - Mon Oct  8 19:44:07 2018  (00:28)    ',\n",
       " 'parishan pts/9        Mon Oct  8 19:15:36 2018 - Mon Oct  8 19:27:48 2018  (00:12)    ',\n",
       " 'training pts/9        Mon Oct  8 19:08:57 2018 - Mon Oct  8 19:13:33 2018  (00:04)    ',\n",
       " 'ankitaka pts/42       Mon Oct  8 18:58:10 2018 - Mon Oct  8 20:46:56 2018  (01:48)    ',\n",
       " 'training pts/34       Mon Oct  8 18:56:14 2018 - Mon Oct  8 19:08:36 2018  (00:12)    ',\n",
       " 'parishan pts/45       Mon Oct  8 18:51:44 2018 - Mon Oct  8 19:27:48 2018  (00:36)    ',\n",
       " 'itversit pts/42       Mon Oct  8 18:45:26 2018 - Mon Oct  8 18:45:37 2018  (00:00)    ',\n",
       " 'datadige pts/40       Mon Oct  8 18:40:18 2018 - Mon Oct  8 19:49:56 2018  (01:09)    ',\n",
       " 'choudhar pts/39       Mon Oct  8 18:38:23 2018 - Mon Oct  8 19:23:17 2018  (00:44)    ',\n",
       " 'parishan pts/38       Mon Oct  8 18:35:45 2018 - Mon Oct  8 19:44:01 2018  (01:08)    ',\n",
       " 'deepikag pts/37       Mon Oct  8 18:24:56 2018 - Mon Oct  8 21:20:46 2018  (02:55)    ',\n",
       " 'krisjskk pts/34       Mon Oct  8 18:22:09 2018 - Mon Oct  8 18:56:06 2018  (00:33)    ',\n",
       " 'jshinde0 pts/13       Mon Oct  8 18:10:46 2018 - Mon Oct  8 20:11:27 2018  (02:00)    ',\n",
       " 'mailprad pts/28       Mon Oct  8 17:49:15 2018 - Mon Oct  8 19:25:17 2018  (01:36)    ',\n",
       " 'choudhar pts/32       Mon Oct  8 17:30:50 2018 - Mon Oct  8 19:23:22 2018  (01:52)    ',\n",
       " 'hossnima pts/24       Mon Oct  8 17:20:11 2018 - Mon Oct  8 20:22:18 2018  (03:02)    ',\n",
       " 'rayjiang pts/25       Mon Oct  8 17:04:52 2018 - Mon Oct  8 20:15:12 2018  (03:10)    ',\n",
       " 'itversit pts/24       Mon Oct  8 16:59:38 2018 - Mon Oct  8 16:59:49 2018  (00:00)    ',\n",
       " 'kirantad pts/8        Mon Oct  8 16:56:10 2018 - Mon Oct  8 19:56:10 2018  (03:00)    ',\n",
       " 'gunjanba pts/23       Mon Oct  8 16:43:03 2018 - Mon Oct  8 19:43:10 2018  (03:00)    ',\n",
       " 'gunjanba pts/22       Mon Oct  8 16:43:02 2018 - Mon Oct  8 19:43:10 2018  (03:00)    ',\n",
       " 'divyabai pts/41       Mon Oct  8 16:17:10 2018 - Mon Oct  8 19:19:56 2018  (03:02)    ',\n",
       " 'krisjskk pts/40       Mon Oct  8 16:15:39 2018 - Mon Oct  8 18:02:06 2018  (01:46)    ',\n",
       " 'mpremcha pts/36       Mon Oct  8 16:14:35 2018 - Mon Oct  8 19:17:09 2018  (03:02)    ',\n",
       " 'rumbidza pts/9        Mon Oct  8 16:00:05 2018 - Mon Oct  8 19:08:57 2018  (03:08)    ',\n",
       " 'kalagara pts/31       Mon Oct  8 15:58:45 2018 - Mon Oct  8 19:15:42 2018  (03:16)    ',\n",
       " 'venkrish pts/40       Mon Oct  8 15:36:34 2018 - Mon Oct  8 16:15:39 2018  (00:39)    ',\n",
       " 'aishwary pts/56       Mon Oct  8 15:26:10 2018 - Mon Oct  8 20:53:06 2018  (05:26)    ',\n",
       " 'deepikag pts/37       Mon Oct  8 15:22:19 2018 - Mon Oct  8 18:24:56 2018  (03:02)    ',\n",
       " 'sseashu1 pts/39       Mon Oct  8 15:19:12 2018 - Mon Oct  8 15:50:54 2018  (00:31)    ',\n",
       " 'sseashu1 pts/37       Mon Oct  8 15:04:09 2018 - Mon Oct  8 15:04:41 2018  (00:00)    ',\n",
       " 'cmahendr pts/13       Mon Oct  8 14:58:26 2018 - Mon Oct  8 18:10:46 2018  (03:12)    ',\n",
       " 'cmahendr pts/34       Mon Oct  8 14:50:48 2018 - Mon Oct  8 18:22:09 2018  (03:31)    ',\n",
       " 'sseashu1 pts/37       Mon Oct  8 14:44:31 2018 - Mon Oct  8 14:59:40 2018  (00:15)    ',\n",
       " 'sseashu1 pts/37       Mon Oct  8 14:40:50 2018 - Mon Oct  8 14:42:52 2018  (00:02)    ',\n",
       " 'obersime pts/28       Mon Oct  8 14:36:59 2018 - Mon Oct  8 17:49:15 2018  (03:12)    ',\n",
       " 'vkrmkuma pts/62       Mon Oct  8 14:33:38 2018 - crash                     (07:44)    ',\n",
       " 'durgas11 pts/61       Mon Oct  8 14:32:26 2018 - Mon Oct  8 14:55:11 2018  (00:22)    ',\n",
       " 'durgas11 pts/60       Mon Oct  8 14:29:36 2018 - Mon Oct  8 14:55:30 2018  (00:25)    ',\n",
       " 'visuvish pts/28       Mon Oct  8 14:28:56 2018 - Mon Oct  8 14:35:47 2018  (00:06)    ',\n",
       " 'katukuri pts/59       Mon Oct  8 14:24:20 2018 - Mon Oct  8 17:25:11 2018  (03:00)    ',\n",
       " 'katukuri pts/55       Mon Oct  8 14:24:11 2018 - Mon Oct  8 17:25:11 2018  (03:01)    ',\n",
       " 'katukuri pts/49       Mon Oct  8 14:23:57 2018 - Mon Oct  8 17:24:10 2018  (03:00)    ',\n",
       " 'divyabai pts/45       Mon Oct  8 14:15:11 2018 - Mon Oct  8 18:51:44 2018  (04:36)    ',\n",
       " 'durgas11 pts/13       Mon Oct  8 14:14:24 2018 - Mon Oct  8 14:55:11 2018  (00:40)    ',\n",
       " 'itversit pts/13       Mon Oct  8 14:13:50 2018 - Mon Oct  8 14:13:59 2018  (00:00)    ',\n",
       " 'obersime pts/47       Mon Oct  8 14:10:29 2018 - Mon Oct  8 20:20:04 2018  (06:09)    ',\n",
       " 'rajeshs  pts/43       Mon Oct  8 14:00:47 2018 - Mon Oct  8 14:39:47 2018  (00:39)    ',\n",
       " 'respond4 pts/38       Mon Oct  8 13:48:16 2018 - Mon Oct  8 18:35:45 2018  (04:47)    ',\n",
       " 'kalagara pts/8        Mon Oct  8 13:46:23 2018 - Mon Oct  8 16:56:10 2018  (03:09)    ',\n",
       " 'respond4 pts/24       Mon Oct  8 13:36:29 2018 - Mon Oct  8 16:59:38 2018  (03:23)    ',\n",
       " 'durgas11 pts/45       Mon Oct  8 13:35:39 2018 - Mon Oct  8 14:15:11 2018  (00:39)    ',\n",
       " 'awaisaze pts/25       Mon Oct  8 13:35:33 2018 - Mon Oct  8 16:36:10 2018  (03:00)    ',\n",
       " 'respond4 pts/23       Mon Oct  8 13:34:19 2018 - Mon Oct  8 16:43:03 2018  (03:08)    ',\n",
       " 'kirantad pts/22       Mon Oct  8 13:27:40 2018 - Mon Oct  8 16:25:52 2018  (02:58)    ',\n",
       " 'kirantad pts/42       Mon Oct  8 13:21:28 2018 - Mon Oct  8 16:22:10 2018  (03:00)    ',\n",
       " 'mpremcha pts/32       Mon Oct  8 13:20:27 2018 - Mon Oct  8 17:30:50 2018  (04:10)    ',\n",
       " 'roshanku pts/59       Mon Oct  8 13:07:51 2018 - Mon Oct  8 13:30:55 2018  (00:23)    ',\n",
       " 'krisjskk pts/56       Mon Oct  8 13:06:06 2018 - Mon Oct  8 14:46:24 2018  (01:40)    ',\n",
       " 'mpremcha pts/53       Mon Oct  8 13:05:02 2018 - Mon Oct  8 20:49:35 2018  (07:44)    ',\n",
       " 'mpremcha pts/49       Mon Oct  8 13:00:23 2018 - Mon Oct  8 13:59:31 2018  (00:59)    ',\n",
       " 'kukutlar pts/41       Mon Oct  8 12:57:08 2018 - Mon Oct  8 16:17:10 2018  (03:20)    ',\n",
       " 'durgas11 pts/36       Mon Oct  8 12:51:36 2018 - Mon Oct  8 16:14:35 2018  (03:22)    ',\n",
       " 'rajeshs  pts/40       Mon Oct  8 12:37:35 2018 - Mon Oct  8 14:39:39 2018  (02:02)    ',\n",
       " 'rajeshs  pts/37       Mon Oct  8 12:37:34 2018 - Mon Oct  8 14:39:58 2018  (02:02)    ',\n",
       " 'cmahendr pts/31       Mon Oct  8 12:36:33 2018 - Mon Oct  8 15:58:45 2018  (03:22)    ',\n",
       " 'katukuri pts/25       Mon Oct  8 12:32:28 2018 - Mon Oct  8 13:27:26 2018  (00:54)    ',\n",
       " 'obersime pts/9        Mon Oct  8 12:30:04 2018 - Mon Oct  8 16:00:05 2018  (03:30)    ',\n",
       " 'learning pts/24       Mon Oct  8 12:16:37 2018 - Mon Oct  8 13:26:04 2018  (01:09)    ',\n",
       " 'itversit pts/37       Mon Oct  8 12:10:43 2018 - Mon Oct  8 12:10:51 2018  (00:00)    ',\n",
       " 'n2force0 pts/36       Mon Oct  8 12:10:13 2018 - Mon Oct  8 12:41:39 2018  (00:31)    ',\n",
       " 'parishan pts/47       Mon Oct  8 12:06:04 2018 - Mon Oct  8 13:11:46 2018  (01:05)    ',\n",
       " 'parishan pts/45       Mon Oct  8 12:05:59 2018 - Mon Oct  8 13:11:55 2018  (01:05)    ',\n",
       " 'parishan pts/43       Mon Oct  8 12:05:53 2018 - Mon Oct  8 13:11:50 2018  (01:05)    ',\n",
       " 'parishan pts/42       Mon Oct  8 12:05:47 2018 - Mon Oct  8 13:11:46 2018  (01:05)    ',\n",
       " 'fazilabu pts/31       Mon Oct  8 12:03:45 2018 - Mon Oct  8 12:36:33 2018  (00:32)    ',\n",
       " 'deepikag pts/25       Mon Oct  8 11:59:02 2018 - Mon Oct  8 12:13:36 2018  (00:14)    ',\n",
       " 'loganath pts/39       Mon Oct  8 11:45:49 2018 - Mon Oct  8 15:19:12 2018  (03:33)    ',\n",
       " 'loganath pts/34       Mon Oct  8 11:45:41 2018 - Mon Oct  8 14:50:48 2018  (03:05)    ',\n",
       " 'learning pts/24       Mon Oct  8 11:34:45 2018 - Mon Oct  8 12:15:25 2018  (00:40)    ',\n",
       " 'visuvish pts/23       Mon Oct  8 11:32:14 2018 - Mon Oct  8 13:34:04 2018  (02:01)    ',\n",
       " 'visuvish pts/28       Mon Oct  8 11:27:58 2018 - Mon Oct  8 14:28:11 2018  (03:00)    ',\n",
       " 'katukuri pts/22       Mon Oct  8 11:18:36 2018 - Mon Oct  8 13:27:13 2018  (02:08)    ',\n",
       " 'krisclou pts/13       Mon Oct  8 11:10:54 2018 - Mon Oct  8 14:13:50 2018  (03:02)    ',\n",
       " 'krisclou pts/34       Mon Oct  8 11:03:19 2018 - Mon Oct  8 11:45:41 2018  (00:42)    ',\n",
       " 'meetarpi pts/41       Mon Oct  8 10:48:44 2018 - Mon Oct  8 11:14:28 2018  (00:25)    ',\n",
       " 'kalagara pts/38       Mon Oct  8 10:37:36 2018 - Mon Oct  8 13:48:16 2018  (03:10)    ',\n",
       " 'visuvish pts/8        Mon Oct  8 10:36:20 2018 - Mon Oct  8 13:37:11 2018  (03:00)    ',\n",
       " 'itversit pts/38       Mon Oct  8 10:35:31 2018 - Mon Oct  8 10:35:33 2018  (00:00)    ',\n",
       " 'visuvish pts/39       Mon Oct  8 10:31:52 2018 - Mon Oct  8 11:08:41 2018  (00:36)    ',\n",
       " 'deepikag pts/9        Mon Oct  8 10:23:48 2018 - Mon Oct  8 12:23:59 2018  (02:00)    ',\n",
       " 'katukuri pts/32       Mon Oct  8 10:19:32 2018 - Mon Oct  8 13:20:11 2018  (03:00)    ',\n",
       " 'mailprad pts/34       Mon Oct  8 10:16:10 2018 - Mon Oct  8 10:55:43 2018  (00:39)    ',\n",
       " 'visuvish pts/24       Mon Oct  8 10:15:23 2018 - Mon Oct  8 11:22:12 2018  (01:06)    ',\n",
       " 'katukuri pts/28       Mon Oct  8 10:02:14 2018 - Mon Oct  8 11:18:32 2018  (01:16)    ',\n",
       " 'mschagar pts/38       Mon Oct  8 09:30:43 2018 - Mon Oct  8 10:33:48 2018  (01:03)    ',\n",
       " 'izzatfai pts/55       Mon Oct  8 09:25:48 2018 - Mon Oct  8 14:24:11 2018  (04:58)    ',\n",
       " 'izzatfai pts/40       Mon Oct  8 09:21:34 2018 - Mon Oct  8 12:37:35 2018  (03:16)    ',\n",
       " 'rssaluja pts/39       Mon Oct  8 09:14:56 2018 - Mon Oct  8 10:01:01 2018  (00:46)    ',\n",
       " 'rssaluja pts/32       Mon Oct  8 09:13:31 2018 - Mon Oct  8 10:01:15 2018  (00:47)    ',\n",
       " 'maheshso pts/37       Mon Oct  8 09:05:40 2018 - Mon Oct  8 12:06:11 2018  (03:00)    ',\n",
       " 'maheshso pts/36       Mon Oct  8 09:05:37 2018 - Mon Oct  8 12:06:11 2018  (03:00)    ',\n",
       " 'samantha pts/22       Mon Oct  8 08:54:16 2018 - Mon Oct  8 11:15:02 2018  (02:20)    ',\n",
       " 'izzatfai pts/25       Mon Oct  8 08:52:41 2018 - Mon Oct  8 11:59:02 2018  (03:06)    ',\n",
       " 'cmahendr pts/31       Mon Oct  8 08:49:22 2018 - Mon Oct  8 12:03:45 2018  (03:14)    ',\n",
       " 'cmahendr pts/4        Mon Oct  8 08:23:45 2018 - crash                     (13:54)    ',\n",
       " 'deepikag pts/24       Mon Oct  8 08:10:06 2018 - Mon Oct  8 10:13:48 2018  (02:03)    ',\n",
       " 'niranjan pts/13       Mon Oct  8 08:09:12 2018 - Mon Oct  8 11:10:54 2018  (03:01)    ',\n",
       " 'fazilabu pts/43       Mon Oct  8 08:07:55 2018 - Mon Oct  8 12:05:53 2018  (03:57)    ',\n",
       " 'muhammed pts/49       Mon Oct  8 08:07:43 2018 - Mon Oct  8 13:00:23 2018  (04:52)    ',\n",
       " 'muhammed pts/23       Mon Oct  8 08:06:57 2018 - Mon Oct  8 11:32:14 2018  (03:25)    ',\n",
       " 'deepikag pts/13       Mon Oct  8 08:06:23 2018 - Mon Oct  8 08:08:09 2018  (00:01)    ',\n",
       " 'mpremcha pts/28       Mon Oct  8 07:46:27 2018 - Mon Oct  8 09:39:08 2018  (01:52)    ',\n",
       " 'bhupeshc pts/49       Mon Oct  8 07:39:54 2018 - Mon Oct  8 07:49:44 2018  (00:09)    ',\n",
       " 'annapurn pts/4        Mon Oct  8 07:38:00 2018 - Mon Oct  8 08:16:14 2018  (00:38)    ',\n",
       " 'loganath pts/47       Mon Oct  8 07:36:18 2018 - Mon Oct  8 12:06:04 2018  (04:29)    ',\n",
       " 'meetarpi pts/8        Mon Oct  8 07:33:07 2018 - Mon Oct  8 10:33:11 2018  (03:00)    ',\n",
       " 'mpremcha pts/45       Mon Oct  8 07:31:38 2018 - Mon Oct  8 12:05:59 2018  (04:34)    ',\n",
       " 'vdharmag pts/43       Mon Oct  8 07:30:56 2018 - Mon Oct  8 07:51:56 2018  (00:21)    ',\n",
       " 'mpremcha pts/28       Mon Oct  8 07:26:57 2018 - Mon Oct  8 07:45:21 2018  (00:18)    ',\n",
       " 'subhash2 pts/9        Mon Oct  8 07:21:01 2018 - Mon Oct  8 10:21:11 2018  (03:00)    ',\n",
       " 'hossnima pts/41       Mon Oct  8 06:57:44 2018 - Mon Oct  8 10:48:44 2018  (03:51)    ',\n",
       " 'roshanku pts/40       Mon Oct  8 06:52:37 2018 - Mon Oct  8 08:52:12 2018  (01:59)    ',\n",
       " 'roshanku pts/36       Mon Oct  8 06:50:32 2018 - Mon Oct  8 08:59:56 2018  (02:09)    ',\n",
       " 'nerellav pts/8        Mon Oct  8 06:48:05 2018 - Mon Oct  8 07:31:00 2018  (00:42)    ',\n",
       " 'annapurn pts/39       Mon Oct  8 06:27:54 2018 - Mon Oct  8 08:16:09 2018  (01:48)    ',\n",
       " 'cmahendr pts/34       Mon Oct  8 06:22:01 2018 - Mon Oct  8 10:16:10 2018  (03:54)    ',\n",
       " 'jshinde0 pts/23       Mon Oct  8 06:17:43 2018 - Mon Oct  8 08:03:54 2018  (01:46)    ',\n",
       " 'nerellav pts/36       Mon Oct  8 06:05:32 2018 - Mon Oct  8 06:47:55 2018  (00:42)    ',\n",
       " 'annapurn pts/4        Mon Oct  8 06:04:50 2018 - Mon Oct  8 07:37:41 2018  (01:32)    ',\n",
       " 'samantha pts/37       Mon Oct  8 05:58:20 2018 - Mon Oct  8 08:59:11 2018  (03:00)    ',\n",
       " 'abhirajs pts/42       Mon Oct  8 05:56:25 2018 - Mon Oct  8 12:05:47 2018  (06:09)    ',\n",
       " 'sseashu1 pts/39       Mon Oct  8 05:54:48 2018 - Mon Oct  8 06:24:29 2018  (00:29)    ',\n",
       " 'samantha pts/22       Mon Oct  8 05:48:40 2018 - Mon Oct  8 08:49:11 2018  (03:00)    ',\n",
       " 'loganath pts/38       Mon Oct  8 05:41:38 2018 - Mon Oct  8 09:30:43 2018  (03:49)    ',\n",
       " 'loganath pts/31       Mon Oct  8 05:41:04 2018 - Mon Oct  8 08:49:22 2018  (03:08)    ',\n",
       " 'cmahendr pts/25       Mon Oct  8 05:39:19 2018 - Mon Oct  8 08:52:41 2018  (03:13)    ',\n",
       " 'jshinde0 pts/13       Mon Oct  8 05:34:07 2018 - Mon Oct  8 08:03:52 2018  (02:29)    ',\n",
       " 'jshinde0 pts/4        Mon Oct  8 05:34:01 2018 - Mon Oct  8 06:01:44 2018  (00:27)    ',\n",
       " ...]"
      ]
     },
     "execution_count": 4,
     "metadata": {},
     "output_type": "execute_result"
    }
   ],
   "source": [
    "users"
   ]
  },
  {
   "cell_type": "code",
   "execution_count": 5,
   "metadata": {
    "collapsed": true
   },
   "outputs": [],
   "source": [
    "hashed_logins = list(map(get_features,users))"
   ]
  },
  {
   "cell_type": "code",
   "execution_count": 6,
   "metadata": {},
   "outputs": [
    {
     "data": {
      "text/plain": [
       "[['99c674fd9305f1135a09fc1e15d2d2e4', '10 11 12 55 11 2018'],\n",
       " ['ef8a53e6c0990b0373f88e9be5c4b303', '10 11 12 52 22 2018'],\n",
       " ['bf8dfd7f7703c257e4652567b4a8db21', '10 11 12 44 33 2018']]"
      ]
     },
     "execution_count": 6,
     "metadata": {},
     "output_type": "execute_result"
    }
   ],
   "source": [
    "hashed_logins[:3]"
   ]
  },
  {
   "cell_type": "code",
   "execution_count": 7,
   "metadata": {},
   "outputs": [
    {
     "data": {
      "text/plain": [
       "2653"
      ]
     },
     "execution_count": 7,
     "metadata": {},
     "output_type": "execute_result"
    }
   ],
   "source": [
    "len(hashed_logins)"
   ]
  },
  {
   "cell_type": "code",
   "execution_count": 8,
   "metadata": {
    "collapsed": true
   },
   "outputs": [],
   "source": [
    "import os\n",
    "path = os.getenv(\"HOME\") +\"/data/mmt_data/\"\n",
    "spark_home = \"/usr/hdp/current/spark2-client\"\n",
    "mode = \"yarn\""
   ]
  },
  {
   "cell_type": "code",
   "execution_count": 9,
   "metadata": {},
   "outputs": [
    {
     "name": "stdout",
     "output_type": "stream",
     "text": [
      "/home/kranthidr/data/mmt_data/\n",
      "/usr/hdp/current/spark2-client\n"
     ]
    }
   ],
   "source": [
    "print(path)\n",
    "print(spark_home)"
   ]
  },
  {
   "cell_type": "code",
   "execution_count": 10,
   "metadata": {},
   "outputs": [
    {
     "data": {
      "text/plain": [
       "'/usr/hdp/current/spark2-client'"
      ]
     },
     "execution_count": 10,
     "metadata": {},
     "output_type": "execute_result"
    }
   ],
   "source": [
    "import findspark\n",
    "findspark.init(spark_home)\n",
    "findspark.find()"
   ]
  },
  {
   "cell_type": "code",
   "execution_count": 11,
   "metadata": {
    "collapsed": true
   },
   "outputs": [],
   "source": [
    "import pyspark\n",
    "from pyspark.sql import SparkSession\n",
    "spark = SparkSession.builder.master(mode).appName(\"userSessionsDataPrep\").enableHiveSupport().getOrCreate()"
   ]
  },
  {
   "cell_type": "code",
   "execution_count": 12,
   "metadata": {},
   "outputs": [
    {
     "data": {
      "text/html": [
       "\n",
       "            <div>\n",
       "                <p><b>SparkSession - hive</b></p>\n",
       "                \n",
       "        <div>\n",
       "            <p><b>SparkContext</b></p>\n",
       "\n",
       "            <p><a href=\"http://gw02.itversity.com:4040\">Spark UI</a></p>\n",
       "\n",
       "            <dl>\n",
       "              <dt>Version</dt>\n",
       "                <dd><code>v2.3.0.2.6.5.0-292</code></dd>\n",
       "              <dt>Master</dt>\n",
       "                <dd><code>yarn</code></dd>\n",
       "              <dt>AppName</dt>\n",
       "                <dd><code>userSessionsDataPrep</code></dd>\n",
       "            </dl>\n",
       "        </div>\n",
       "        \n",
       "            </div>\n",
       "        "
      ],
      "text/plain": [
       "<pyspark.sql.session.SparkSession at 0x74785c0ae410>"
      ]
     },
     "execution_count": 12,
     "metadata": {},
     "output_type": "execute_result"
    }
   ],
   "source": [
    "spark"
   ]
  },
  {
   "cell_type": "code",
   "execution_count": 13,
   "metadata": {
    "collapsed": true
   },
   "outputs": [],
   "source": [
    "sc = spark.sparkContext"
   ]
  },
  {
   "cell_type": "code",
   "execution_count": 14,
   "metadata": {},
   "outputs": [
    {
     "name": "stderr",
     "output_type": "stream",
     "text": [
      "/home/kranthidr/.local/lib/python2.7/site-packages/pandas/core/nanops.py:39: UserWarning: The installed version of bottleneck 0.7.0 is not supported in pandas and will be not be used\n",
      "The minimum supported version is 1.0.0\n",
      "\n",
      "  ver=ver, min_ver=_MIN_BOTTLENECK_VERSION), UserWarning)\n"
     ]
    }
   ],
   "source": [
    "import pandas as pd\n",
    "import numpy as np"
   ]
  },
  {
   "cell_type": "code",
   "execution_count": 15,
   "metadata": {
    "collapsed": true
   },
   "outputs": [],
   "source": [
    "pdf = pd.DataFrame(data={\"user\": np.array(hashed_logins)[:,0], \"login\":np.array(hashed_logins)[:,1]})"
   ]
  },
  {
   "cell_type": "code",
   "execution_count": 16,
   "metadata": {
    "collapsed": true
   },
   "outputs": [],
   "source": [
    "df = spark.createDataFrame(pdf)"
   ]
  },
  {
   "cell_type": "code",
   "execution_count": 17,
   "metadata": {},
   "outputs": [
    {
     "name": "stdout",
     "output_type": "stream",
     "text": [
      "+-------------------+--------------------+\n",
      "|              login|                user|\n",
      "+-------------------+--------------------+\n",
      "|10 11 12 55 11 2018|99c674fd9305f1135...|\n",
      "|10 11 12 52 22 2018|ef8a53e6c0990b037...|\n",
      "|10 11 12 44 33 2018|bf8dfd7f7703c257e...|\n",
      "|10 11 12 37 56 2018|712411069b55d05e0...|\n",
      "|10 11 12 37 28 2018|4dcc5847371dd581a...|\n",
      "|10 11 12 37 24 2018|25a9ac406aceb47a0...|\n",
      "|10 11 12 37 21 2018|712411069b55d05e0...|\n",
      "|10 11 12 36 54 2018|bf8dfd7f7703c257e...|\n",
      "|10 11 12 36 44 2018|bf8dfd7f7703c257e...|\n",
      "|10 11 12 28 12 2018|a7ac434f70bdb667c...|\n",
      "|10 11 12 06 59 2018|58e8127d35f92a64b...|\n",
      "|10 11 11 50 19 2018|fff60b5b6c9385873...|\n",
      "|10 11 11 47 53 2018|a01a345ab591afe2b...|\n",
      "|10 11 11 47 30 2018|fff60b5b6c9385873...|\n",
      "|10 11 11 42 57 2018|c185ddac8b5a8f5aa...|\n",
      "|10 11 11 35 46 2018|4dcc5847371dd581a...|\n",
      "|10 11 11 35 13 2018|8a2504276794a7d23...|\n",
      "|10 11 11 34 34 2018|c185ddac8b5a8f5aa...|\n",
      "|10 11 11 32 21 2018|8a2504276794a7d23...|\n",
      "|10 11 11 29 03 2018|c185ddac8b5a8f5aa...|\n",
      "+-------------------+--------------------+\n",
      "only showing top 20 rows\n",
      "\n"
     ]
    }
   ],
   "source": [
    "df.show()"
   ]
  },
  {
   "cell_type": "code",
   "execution_count": 18,
   "metadata": {},
   "outputs": [
    {
     "data": {
      "text/plain": [
       "2653"
      ]
     },
     "execution_count": 18,
     "metadata": {},
     "output_type": "execute_result"
    }
   ],
   "source": [
    "df.count()"
   ]
  },
  {
   "cell_type": "code",
   "execution_count": 19,
   "metadata": {},
   "outputs": [
    {
     "data": {
      "text/plain": [
       "207"
      ]
     },
     "execution_count": 19,
     "metadata": {},
     "output_type": "execute_result"
    }
   ],
   "source": [
    "df.groupBy(\"user\").count().count()"
   ]
  },
  {
   "cell_type": "code",
   "execution_count": 20,
   "metadata": {
    "collapsed": true
   },
   "outputs": [],
   "source": [
    "from pyspark.sql.functions import to_timestamp"
   ]
  },
  {
   "cell_type": "code",
   "execution_count": 21,
   "metadata": {
    "collapsed": true
   },
   "outputs": [],
   "source": [
    "df = df.withColumn(\"login_time\", to_timestamp(\"login\",'MM dd HH mm ss yyyy'))"
   ]
  },
  {
   "cell_type": "code",
   "execution_count": 22,
   "metadata": {},
   "outputs": [
    {
     "name": "stdout",
     "output_type": "stream",
     "text": [
      "+-------------------+--------------------+-------------------+\n",
      "|              login|                user|         login_time|\n",
      "+-------------------+--------------------+-------------------+\n",
      "|10 11 12 55 11 2018|99c674fd9305f1135...|2018-10-11 12:55:11|\n",
      "|10 11 12 52 22 2018|ef8a53e6c0990b037...|2018-10-11 12:52:22|\n",
      "|10 11 12 44 33 2018|bf8dfd7f7703c257e...|2018-10-11 12:44:33|\n",
      "|10 11 12 37 56 2018|712411069b55d05e0...|2018-10-11 12:37:56|\n",
      "|10 11 12 37 28 2018|4dcc5847371dd581a...|2018-10-11 12:37:28|\n",
      "|10 11 12 37 24 2018|25a9ac406aceb47a0...|2018-10-11 12:37:24|\n",
      "|10 11 12 37 21 2018|712411069b55d05e0...|2018-10-11 12:37:21|\n",
      "|10 11 12 36 54 2018|bf8dfd7f7703c257e...|2018-10-11 12:36:54|\n",
      "|10 11 12 36 44 2018|bf8dfd7f7703c257e...|2018-10-11 12:36:44|\n",
      "|10 11 12 28 12 2018|a7ac434f70bdb667c...|2018-10-11 12:28:12|\n",
      "|10 11 12 06 59 2018|58e8127d35f92a64b...|2018-10-11 12:06:59|\n",
      "|10 11 11 50 19 2018|fff60b5b6c9385873...|2018-10-11 11:50:19|\n",
      "|10 11 11 47 53 2018|a01a345ab591afe2b...|2018-10-11 11:47:53|\n",
      "|10 11 11 47 30 2018|fff60b5b6c9385873...|2018-10-11 11:47:30|\n",
      "|10 11 11 42 57 2018|c185ddac8b5a8f5aa...|2018-10-11 11:42:57|\n",
      "|10 11 11 35 46 2018|4dcc5847371dd581a...|2018-10-11 11:35:46|\n",
      "|10 11 11 35 13 2018|8a2504276794a7d23...|2018-10-11 11:35:13|\n",
      "|10 11 11 34 34 2018|c185ddac8b5a8f5aa...|2018-10-11 11:34:34|\n",
      "|10 11 11 32 21 2018|8a2504276794a7d23...|2018-10-11 11:32:21|\n",
      "|10 11 11 29 03 2018|c185ddac8b5a8f5aa...|2018-10-11 11:29:03|\n",
      "+-------------------+--------------------+-------------------+\n",
      "only showing top 20 rows\n",
      "\n"
     ]
    }
   ],
   "source": [
    "df.show()"
   ]
  },
  {
   "cell_type": "code",
   "execution_count": 23,
   "metadata": {},
   "outputs": [
    {
     "name": "stdout",
     "output_type": "stream",
     "text": [
      "++\n",
      "||\n",
      "++\n",
      "++\n",
      "\n"
     ]
    }
   ],
   "source": [
    "spark.sql(\"\"\"\n",
    "CREATE DATABASE IF NOT EXISTS Kranthidr_db\n",
    "LOCATION '/user/kranthidr/Kranthidr_db'\n",
    "\"\"\").show()"
   ]
  },
  {
   "cell_type": "code",
   "execution_count": 24,
   "metadata": {},
   "outputs": [
    {
     "name": "stdout",
     "output_type": "stream",
     "text": [
      "++\n",
      "||\n",
      "++\n",
      "++\n",
      "\n"
     ]
    }
   ],
   "source": [
    "spark.sql(\"\"\"\n",
    "USE Kranthidr_db\n",
    "\"\"\").show()"
   ]
  },
  {
   "cell_type": "code",
   "execution_count": 25,
   "metadata": {},
   "outputs": [
    {
     "name": "stdout",
     "output_type": "stream",
     "text": [
      "+------------+-------------------+-----------+\n",
      "|    database|          tableName|isTemporary|\n",
      "+------------+-------------------+-----------+\n",
      "|kranthidr_db|            flights|      false|\n",
      "|kranthidr_db|flights_from_select|      false|\n",
      "|kranthidr_db|       hive_flights|      false|\n",
      "|kranthidr_db|     hive_flights_2|      false|\n",
      "|kranthidr_db|        nested_data|      false|\n",
      "|kranthidr_db|partitioned_flights|      false|\n",
      "|kranthidr_db|      user_sessions|      false|\n",
      "+------------+-------------------+-----------+\n",
      "\n"
     ]
    }
   ],
   "source": [
    "spark.sql(\"\"\"\n",
    "SHOW tables\n",
    "\"\"\").show()"
   ]
  },
  {
   "cell_type": "code",
   "execution_count": 26,
   "metadata": {
    "collapsed": true
   },
   "outputs": [],
   "source": [
    "new_df = spark.sql(\"\"\"\n",
    "select * from user_sessions\n",
    "\"\"\")"
   ]
  },
  {
   "cell_type": "code",
   "execution_count": 27,
   "metadata": {
    "collapsed": true
   },
   "outputs": [],
   "source": [
    "to_store = df.select(\"user\",\"login_time\")"
   ]
  },
  {
   "cell_type": "code",
   "execution_count": 28,
   "metadata": {
    "collapsed": true
   },
   "outputs": [],
   "source": [
    "to_store = to_store.union(new_df)"
   ]
  },
  {
   "cell_type": "code",
   "execution_count": 29,
   "metadata": {
    "collapsed": true
   },
   "outputs": [],
   "source": [
    "#to_store.write.mode(\"append\").saveAsTable(\"Kranthidr_db.user_sessions\")"
   ]
  },
  {
   "cell_type": "code",
   "execution_count": 30,
   "metadata": {},
   "outputs": [
    {
     "name": "stdout",
     "output_type": "stream",
     "text": [
      "+------------+-------------------+-----------+\n",
      "|    database|          tableName|isTemporary|\n",
      "+------------+-------------------+-----------+\n",
      "|kranthidr_db|            flights|      false|\n",
      "|kranthidr_db|flights_from_select|      false|\n",
      "|kranthidr_db|       hive_flights|      false|\n",
      "|kranthidr_db|     hive_flights_2|      false|\n",
      "|kranthidr_db|        nested_data|      false|\n",
      "|kranthidr_db|partitioned_flights|      false|\n",
      "|kranthidr_db|      user_sessions|      false|\n",
      "+------------+-------------------+-----------+\n",
      "\n"
     ]
    }
   ],
   "source": [
    "spark.sql(\"\"\"\n",
    "show tables\n",
    "\"\"\").show()"
   ]
  },
  {
   "cell_type": "code",
   "execution_count": 31,
   "metadata": {},
   "outputs": [
    {
     "name": "stdout",
     "output_type": "stream",
     "text": [
      "+--------------------+-------------------+\n",
      "|                user|         login_time|\n",
      "+--------------------+-------------------+\n",
      "|3c889f0520978d740...|2018-10-01 03:48:47|\n",
      "|3c889f0520978d740...|2018-10-01 03:48:47|\n",
      "|d0b0efd87408e9c1a...|2018-10-01 03:53:28|\n",
      "|d0b0efd87408e9c1a...|2018-10-01 03:53:28|\n",
      "|d0b0efd87408e9c1a...|2018-10-01 03:53:35|\n",
      "|d0b0efd87408e9c1a...|2018-10-01 03:53:35|\n",
      "|d0b0efd87408e9c1a...|2018-10-01 03:53:36|\n",
      "|d0b0efd87408e9c1a...|2018-10-01 03:53:36|\n",
      "|1a2f8a2300b200cce...|2018-10-01 03:55:41|\n",
      "|1a2f8a2300b200cce...|2018-10-01 03:55:41|\n",
      "|3c889f0520978d740...|2018-10-01 04:03:55|\n",
      "|3c889f0520978d740...|2018-10-01 04:03:55|\n",
      "|3c889f0520978d740...|2018-10-01 04:04:18|\n",
      "|3c889f0520978d740...|2018-10-01 04:04:18|\n",
      "|28b10381690c5876b...|2018-10-01 04:04:28|\n",
      "|28b10381690c5876b...|2018-10-01 04:04:28|\n",
      "|ef8a53e6c0990b037...|2018-10-01 04:31:49|\n",
      "|ef8a53e6c0990b037...|2018-10-01 04:31:49|\n",
      "|d0b0efd87408e9c1a...|2018-10-01 04:33:13|\n",
      "|d0b0efd87408e9c1a...|2018-10-01 04:33:13|\n",
      "+--------------------+-------------------+\n",
      "only showing top 20 rows\n",
      "\n"
     ]
    }
   ],
   "source": [
    "to_store.orderBy(\"login_time\").show()"
   ]
  },
  {
   "cell_type": "code",
   "execution_count": 32,
   "metadata": {
    "collapsed": true
   },
   "outputs": [],
   "source": [
    "from pyspark.sql.functions import first, count, col, expr"
   ]
  },
  {
   "cell_type": "code",
   "execution_count": 33,
   "metadata": {},
   "outputs": [
    {
     "data": {
      "text/plain": [
       "5291"
      ]
     },
     "execution_count": 33,
     "metadata": {},
     "output_type": "execute_result"
    }
   ],
   "source": [
    "to_store.count()"
   ]
  },
  {
   "cell_type": "code",
   "execution_count": 34,
   "metadata": {
    "collapsed": true
   },
   "outputs": [],
   "source": [
    "new_to_store = to_store.groupBy(\"login_time\")\\\n",
    ".agg(first(col(\"user\")))\\\n",
    ".withColumnRenamed(\"first(user, false)\", \"user\")\\\n",
    ".select(\"user\",\"login_time\")"
   ]
  },
  {
   "cell_type": "code",
   "execution_count": 35,
   "metadata": {},
   "outputs": [
    {
     "data": {
      "text/plain": [
       "2641"
      ]
     },
     "execution_count": 35,
     "metadata": {},
     "output_type": "execute_result"
    }
   ],
   "source": [
    "to_store.groupBy(\"login_time\")\\\n",
    ".agg(first(col(\"user\")), count(col(\"login_time\")))\\\n",
    ".withColumnRenamed(\"count(login_time)\", \"count\")\\\n",
    ".withColumnRenamed(\"first(user, false)\", \"user\")\\\n",
    ".select(\"user\",\"login_time\").count()"
   ]
  },
  {
   "cell_type": "code",
   "execution_count": 36,
   "metadata": {},
   "outputs": [
    {
     "name": "stdout",
     "output_type": "stream",
     "text": [
      "+-----+-----+\n",
      "|count|count|\n",
      "+-----+-----+\n",
      "|    1|    3|\n",
      "|    3|   12|\n",
      "|    2| 2626|\n",
      "+-----+-----+\n",
      "\n"
     ]
    }
   ],
   "source": [
    "to_store.groupBy(\"login_time\")\\\n",
    ".agg(first(col(\"user\")), count(col(\"login_time\")))\\\n",
    ".withColumnRenamed(\"count(login_time)\", \"count\")\\\n",
    ".withColumnRenamed(\"first(user, false)\", \"user\")\\\n",
    ".groupBy(\"count\").count().show()"
   ]
  },
  {
   "cell_type": "code",
   "execution_count": 37,
   "metadata": {},
   "outputs": [
    {
     "data": {
      "text/plain": [
       "2638"
      ]
     },
     "execution_count": 37,
     "metadata": {},
     "output_type": "execute_result"
    }
   ],
   "source": [
    "spark.sql(\"\"\"\n",
    "select * from user_sessions\n",
    "\"\"\").count()"
   ]
  },
  {
   "cell_type": "code",
   "execution_count": 38,
   "metadata": {},
   "outputs": [
    {
     "data": {
      "text/plain": [
       "2641"
      ]
     },
     "execution_count": 38,
     "metadata": {},
     "output_type": "execute_result"
    }
   ],
   "source": [
    "new_to_store.count()"
   ]
  },
  {
   "cell_type": "code",
   "execution_count": 39,
   "metadata": {
    "collapsed": true
   },
   "outputs": [],
   "source": [
    "# spark.sql(\"\"\"\n",
    "# TRUNCATE table user_sessions\n",
    "# \"\"\").show()"
   ]
  },
  {
   "cell_type": "code",
   "execution_count": 40,
   "metadata": {
    "collapsed": true
   },
   "outputs": [],
   "source": [
    "new_to_store.write.mode(\"append\").saveAsTable(\"Kranthidr_db.user_sessions1\")"
   ]
  },
  {
   "cell_type": "code",
   "execution_count": 41,
   "metadata": {},
   "outputs": [
    {
     "name": "stdout",
     "output_type": "stream",
     "text": [
      "++\n",
      "||\n",
      "++\n",
      "++\n",
      "\n"
     ]
    }
   ],
   "source": [
    "spark.sql(\"\"\"\n",
    "DROP TABLE Kranthidr_db.user_sessions\n",
    "\"\"\").show()"
   ]
  },
  {
   "cell_type": "code",
   "execution_count": 42,
   "metadata": {},
   "outputs": [
    {
     "name": "stdout",
     "output_type": "stream",
     "text": [
      "++\n",
      "||\n",
      "++\n",
      "++\n",
      "\n"
     ]
    }
   ],
   "source": [
    "spark.sql(\"\"\"\n",
    "ALTER TABLE Kranthidr_db.user_sessions1 RENAME TO Kranthidr_db.user_sessions\n",
    "\"\"\").show()"
   ]
  },
  {
   "cell_type": "code",
   "execution_count": 43,
   "metadata": {},
   "outputs": [
    {
     "data": {
      "text/plain": [
       "2641"
      ]
     },
     "execution_count": 43,
     "metadata": {},
     "output_type": "execute_result"
    }
   ],
   "source": [
    "spark.sql(\"\"\"\n",
    "select * from user_sessions\n",
    "\"\"\").count()"
   ]
  },
  {
   "cell_type": "code",
   "execution_count": 53,
   "metadata": {},
   "outputs": [
    {
     "name": "stdout",
     "output_type": "stream",
     "text": [
      "+--------------------------------+-------------------+\n",
      "|user                            |login_time         |\n",
      "+--------------------------------+-------------------+\n",
      "|3c889f0520978d740bef43fb35a4af84|2018-10-01 03:48:47|\n",
      "|d0b0efd87408e9c1ae1d63e7f4c49f77|2018-10-01 03:53:28|\n",
      "|d0b0efd87408e9c1ae1d63e7f4c49f77|2018-10-01 03:53:35|\n",
      "|d0b0efd87408e9c1ae1d63e7f4c49f77|2018-10-01 03:53:36|\n",
      "|1a2f8a2300b200cce8e554ed46398e5a|2018-10-01 03:55:41|\n",
      "|3c889f0520978d740bef43fb35a4af84|2018-10-01 04:03:55|\n",
      "|3c889f0520978d740bef43fb35a4af84|2018-10-01 04:04:18|\n",
      "|28b10381690c5876be785ea4bc2ab240|2018-10-01 04:04:28|\n",
      "|ef8a53e6c0990b0373f88e9be5c4b303|2018-10-01 04:31:49|\n",
      "|d0b0efd87408e9c1ae1d63e7f4c49f77|2018-10-01 04:33:13|\n",
      "|d0b0efd87408e9c1ae1d63e7f4c49f77|2018-10-01 04:33:16|\n",
      "|d0b0efd87408e9c1ae1d63e7f4c49f77|2018-10-01 04:33:18|\n",
      "|c9fa205bc34be4bc90571ea8c52670e1|2018-10-01 04:37:21|\n",
      "|99c674fd9305f1135a09fc1e15d2d2e4|2018-10-01 05:01:53|\n",
      "|7998a932738a6b28738e61d13d6eee0e|2018-10-01 05:15:16|\n",
      "|a9562eefd8d06ca4bf096de778f089fa|2018-10-01 05:19:03|\n",
      "|1a2f8a2300b200cce8e554ed46398e5a|2018-10-01 05:19:18|\n",
      "|a9562eefd8d06ca4bf096de778f089fa|2018-10-01 05:24:00|\n",
      "|add4945a7a7c1bfd030a2cb525c9a9a5|2018-10-01 05:28:24|\n",
      "|add4945a7a7c1bfd030a2cb525c9a9a5|2018-10-01 05:28:46|\n",
      "+--------------------------------+-------------------+\n",
      "only showing top 20 rows\n",
      "\n"
     ]
    }
   ],
   "source": [
    "spark.sql(\"\"\"\n",
    "select * from user_sessions\n",
    "\"\"\").orderBy(\"login_time\").show(truncate=False)"
   ]
  },
  {
   "cell_type": "code",
   "execution_count": null,
   "metadata": {
    "collapsed": true
   },
   "outputs": [],
   "source": []
  }
 ],
 "metadata": {
  "kernelspec": {
   "display_name": "pyspark2.7_home",
   "language": "python",
   "name": "pyspark2.7_home"
  },
  "language_info": {
   "codemirror_mode": {
    "name": "ipython",
    "version": 2
   },
   "file_extension": ".py",
   "mimetype": "text/x-python",
   "name": "python",
   "nbconvert_exporter": "python",
   "pygments_lexer": "ipython2",
   "version": "2.7.5"
  }
 },
 "nbformat": 4,
 "nbformat_minor": 2
}
