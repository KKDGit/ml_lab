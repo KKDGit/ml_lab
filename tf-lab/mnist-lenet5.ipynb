{
 "cells": [
  {
   "cell_type": "code",
   "execution_count": 1,
   "metadata": {},
   "outputs": [
    {
     "data": {
      "text/plain": [
       "['',\n",
       " '/home/kranthidr/projects/ml_lab/tf-lab',\n",
       " '/home/kranthidr/.virtualenvs/tf-lab/lib64/python35.zip',\n",
       " '/home/kranthidr/.virtualenvs/tf-lab/lib64/python3.5',\n",
       " '/home/kranthidr/.virtualenvs/tf-lab/lib64/python3.5/plat-linux',\n",
       " '/home/kranthidr/.virtualenvs/tf-lab/lib64/python3.5/lib-dynload',\n",
       " '/usr/lib64/python3.5',\n",
       " '/usr/lib/python3.5',\n",
       " '/home/kranthidr/.virtualenvs/tf-lab/lib/python3.5/site-packages',\n",
       " '/home/kranthidr/.virtualenvs/tf-lab/lib/python3.5/site-packages/IPython/extensions',\n",
       " '/home/kranthidr/.ipython']"
      ]
     },
     "execution_count": 1,
     "metadata": {},
     "output_type": "execute_result"
    }
   ],
   "source": [
    "import sys\n",
    "sys.path"
   ]
  },
  {
   "cell_type": "code",
   "execution_count": 3,
   "metadata": {},
   "outputs": [
    {
     "name": "stderr",
     "output_type": "stream",
     "text": [
      "Using TensorFlow backend.\n"
     ]
    }
   ],
   "source": [
    "import pandas as pd\n",
    "import numpy as np\n",
    "import matplotlib.pyplot as plt\n",
    "\n",
    "from keras.datasets import mnist, cifar10\n",
    "from keras.preprocessing.image import ImageDataGenerator\n",
    "\n",
    "from keras.models import Sequential\n",
    "# from keras.models import Graph\n",
    "\n",
    "from keras.layers.core import Dense, Dropout, Activation, Flatten, Reshape\n",
    "from keras.layers.convolutional import Conv2D, MaxPooling2D, ZeroPadding2D, AveragePooling2D\n",
    "from keras.layers.normalization import BatchNormalization\n",
    "\n",
    "from keras.optimizers import SGD, RMSprop\n",
    "from keras.regularizers import l2\n",
    "\n",
    "from keras.utils import np_utils\n",
    "from keras.callbacks import EarlyStopping\n",
    "\n",
    "import copy\n",
    "# from PIL import Image\n",
    "from datetime import datetime\n",
    "\n",
    "%matplotlib inline"
   ]
  },
  {
   "cell_type": "code",
   "execution_count": 4,
   "metadata": {},
   "outputs": [
    {
     "name": "stdout",
     "output_type": "stream",
     "text": [
      "Downloading data from https://s3.amazonaws.com/img-datasets/mnist.npz\n",
      "11493376/11490434 [==============================] - 3s 0us/step\n",
      "(60000, 28, 28) (10000, 28, 28) (60000,) (10000,)\n"
     ]
    }
   ],
   "source": [
    "(X_train, y_train), (X_test, y_test) = mnist.load_data()\n",
    "print(X_train.shape, X_test.shape ,y_train.shape ,y_test.shape)"
   ]
  },
  {
   "cell_type": "code",
   "execution_count": 30,
   "metadata": {},
   "outputs": [
    {
     "name": "stdout",
     "output_type": "stream",
     "text": [
      "(70000, 28, 28, 1)\n"
     ]
    }
   ],
   "source": [
    "X_train = X_train.reshape(X_train.shape[0], 28, 28, 1).astype('float32') / 255\n",
    "X_test = X_test.reshape(X_test.shape[0], 28, 28, 1).astype('float32') / 255\n",
    "X = np.concatenate((X_train,X_test), axis=0)\n",
    "print(X.shape)"
   ]
  },
  {
   "cell_type": "code",
   "execution_count": 31,
   "metadata": {},
   "outputs": [
    {
     "name": "stdout",
     "output_type": "stream",
     "text": [
      "(70000, 10)\n"
     ]
    }
   ],
   "source": [
    "Y_train = np_utils.to_categorical(y_train, 10)\n",
    "Y_test = np_utils.to_categorical(y_test, 10)\n",
    "y = np.concatenate((Y_train,Y_test), axis=0)\n",
    "print(y.shape)"
   ]
  },
  {
   "cell_type": "code",
   "execution_count": 7,
   "metadata": {},
   "outputs": [
    {
     "name": "stdout",
     "output_type": "stream",
     "text": [
      "(60000, 28, 28, 1) (10000, 28, 28, 1) (60000,) (10000,)\n"
     ]
    }
   ],
   "source": [
    "print(X_train.shape, X_test.shape ,y_train.shape ,y_test.shape)"
   ]
  },
  {
   "cell_type": "code",
   "execution_count": 8,
   "metadata": {
    "collapsed": true
   },
   "outputs": [],
   "source": [
    "model = Sequential()\n",
    "\n",
    "model.add(Conv2D(6, (5, 5), padding='valid', input_shape = (28, 28, 1)))\n",
    "model.add(MaxPooling2D(pool_size=(2, 2)))\n",
    "model.add(Activation(\"sigmoid\"))\n",
    "\n",
    "model.add(Conv2D(16, (5, 5), padding='valid'))\n",
    "model.add(MaxPooling2D(pool_size=(2, 2)))\n",
    "model.add(Activation(\"sigmoid\"))\n",
    "model.add(Dropout(0.5))\n",
    "\n",
    "model.add(Conv2D(120, (1, 1), padding='valid'))\n",
    "\n",
    "model.add(Flatten())\n",
    "model.add(Dense(84))\n",
    "model.add(Activation(\"sigmoid\"))\n",
    "model.add(Dense(10))\n",
    "model.add(Activation('softmax'))"
   ]
  },
  {
   "cell_type": "code",
   "execution_count": 9,
   "metadata": {},
   "outputs": [
    {
     "name": "stdout",
     "output_type": "stream",
     "text": [
      "_________________________________________________________________\n",
      "Layer (type)                 Output Shape              Param #   \n",
      "=================================================================\n",
      "conv2d_1 (Conv2D)            (None, 24, 24, 6)         156       \n",
      "_________________________________________________________________\n",
      "max_pooling2d_1 (MaxPooling2 (None, 12, 12, 6)         0         \n",
      "_________________________________________________________________\n",
      "activation_1 (Activation)    (None, 12, 12, 6)         0         \n",
      "_________________________________________________________________\n",
      "conv2d_2 (Conv2D)            (None, 8, 8, 16)          2416      \n",
      "_________________________________________________________________\n",
      "max_pooling2d_2 (MaxPooling2 (None, 4, 4, 16)          0         \n",
      "_________________________________________________________________\n",
      "activation_2 (Activation)    (None, 4, 4, 16)          0         \n",
      "_________________________________________________________________\n",
      "dropout_1 (Dropout)          (None, 4, 4, 16)          0         \n",
      "_________________________________________________________________\n",
      "conv2d_3 (Conv2D)            (None, 4, 4, 120)         2040      \n",
      "_________________________________________________________________\n",
      "flatten_1 (Flatten)          (None, 1920)              0         \n",
      "_________________________________________________________________\n",
      "dense_1 (Dense)              (None, 84)                161364    \n",
      "_________________________________________________________________\n",
      "activation_3 (Activation)    (None, 84)                0         \n",
      "_________________________________________________________________\n",
      "dense_2 (Dense)              (None, 10)                850       \n",
      "_________________________________________________________________\n",
      "activation_4 (Activation)    (None, 10)                0         \n",
      "=================================================================\n",
      "Total params: 166,826\n",
      "Trainable params: 166,826\n",
      "Non-trainable params: 0\n",
      "_________________________________________________________________\n"
     ]
    }
   ],
   "source": [
    "model.summary()"
   ]
  },
  {
   "cell_type": "code",
   "execution_count": 13,
   "metadata": {},
   "outputs": [
    {
     "name": "stdout",
     "output_type": "stream",
     "text": [
      "Execution Started at: 2018-08-11 09:21:41.883676\n",
      "Train on 60000 samples, validate on 10000 samples\n",
      "Epoch 1/2\n",
      "60000/60000 [==============================] - 20s 338us/step - loss: 2.3385 - acc: 0.1021 - val_loss: 2.3187 - val_acc: 0.1010\n",
      "Epoch 2/2\n",
      "60000/60000 [==============================] - 20s 331us/step - loss: 2.3378 - acc: 0.1018 - val_loss: 2.3360 - val_acc: 0.0980\n",
      "Train on 60000 samples, validate on 10000 samples\n",
      "Epoch 1/3\n",
      "60000/60000 [==============================] - 20s 332us/step - loss: 2.3306 - acc: 0.1019 - val_loss: 2.3281 - val_acc: 0.1135\n",
      "Epoch 2/3\n",
      "60000/60000 [==============================] - 19s 323us/step - loss: 2.3297 - acc: 0.1027 - val_loss: 2.3212 - val_acc: 0.1135\n",
      "Epoch 3/3\n",
      "60000/60000 [==============================] - 20s 330us/step - loss: 2.3296 - acc: 0.1034 - val_loss: 2.3371 - val_acc: 0.0892\n",
      "Train on 60000 samples, validate on 10000 samples\n",
      "Epoch 1/3\n",
      "60000/60000 [==============================] - 21s 356us/step - loss: 2.3158 - acc: 0.1032 - val_loss: 2.3188 - val_acc: 0.1028\n",
      "Epoch 2/3\n",
      "60000/60000 [==============================] - 20s 334us/step - loss: 2.3155 - acc: 0.1037 - val_loss: 2.3119 - val_acc: 0.0982\n",
      "Epoch 3/3\n",
      "60000/60000 [==============================] - 21s 357us/step - loss: 2.3152 - acc: 0.1013 - val_loss: 2.3139 - val_acc: 0.1010\n",
      "Train on 60000 samples, validate on 10000 samples\n",
      "Epoch 1/4\n",
      "60000/60000 [==============================] - 21s 351us/step - loss: 2.3088 - acc: 0.1059 - val_loss: 2.3110 - val_acc: 0.0982\n",
      "Epoch 2/4\n",
      "60000/60000 [==============================] - 20s 333us/step - loss: 2.3081 - acc: 0.1042 - val_loss: 2.3070 - val_acc: 0.0958\n",
      "Epoch 3/4\n",
      "60000/60000 [==============================] - 20s 339us/step - loss: 2.3078 - acc: 0.1050 - val_loss: 2.3088 - val_acc: 0.1135\n",
      "Epoch 4/4\n",
      "60000/60000 [==============================] - 21s 344us/step - loss: 2.3081 - acc: 0.1040 - val_loss: 2.3084 - val_acc: 0.1028\n",
      "Train on 60000 samples, validate on 10000 samples\n",
      "Epoch 1/8\n",
      "60000/60000 [==============================] - 21s 352us/step - loss: 2.3040 - acc: 0.1057 - val_loss: 2.3032 - val_acc: 0.1028\n",
      "Epoch 2/8\n",
      "60000/60000 [==============================] - 20s 338us/step - loss: 2.3042 - acc: 0.1072 - val_loss: 2.3032 - val_acc: 0.0974\n",
      "Epoch 3/8\n",
      "60000/60000 [==============================] - 20s 330us/step - loss: 2.3040 - acc: 0.1056 - val_loss: 2.3056 - val_acc: 0.1135\n",
      "Epoch 4/8\n",
      "60000/60000 [==============================] - 20s 331us/step - loss: 2.3041 - acc: 0.1073 - val_loss: 2.3024 - val_acc: 0.0958\n",
      "Epoch 5/8\n",
      "60000/60000 [==============================] - 22s 361us/step - loss: 2.3040 - acc: 0.1067 - val_loss: 2.3032 - val_acc: 0.0980\n",
      "Epoch 6/8\n",
      "60000/60000 [==============================] - 22s 364us/step - loss: 2.3040 - acc: 0.1066 - val_loss: 2.3032 - val_acc: 0.1135\n",
      "Epoch 7/8\n",
      "60000/60000 [==============================] - 21s 345us/step - loss: 2.3040 - acc: 0.1063 - val_loss: 2.3029 - val_acc: 0.1135\n",
      "Epoch 8/8\n",
      "60000/60000 [==============================] - 20s 333us/step - loss: 2.3044 - acc: 0.1061 - val_loss: 2.3039 - val_acc: 0.1135\n",
      "Execution Ended at: 2018-08-11 09:28:33.155373\n",
      "Time Taken: 0:06:51.271697\n"
     ]
    }
   ],
   "source": [
    "t1 = datetime.now()\n",
    "print('Execution Started at: ' + str(t1))\n",
    "\n",
    "l_rate = 1\n",
    "sgd = SGD(lr=l_rate, momentum=0.8)\n",
    "model.compile(loss='categorical_crossentropy', optimizer=sgd, metrics=['accuracy'])\n",
    "model.fit(X_train, Y_train, batch_size=32, epochs=2,\n",
    "          verbose=1, validation_data=(X_test, Y_test))\n",
    "\n",
    "sgd = SGD(lr=0.8 * l_rate, momentum=0.8)\n",
    "model.compile(loss='categorical_crossentropy', optimizer=sgd, metrics=['accuracy'])\n",
    "model.fit(X_train, Y_train, batch_size=32, epochs=3,\n",
    "          verbose=1, validation_data=(X_test, Y_test))\n",
    "\n",
    "sgd = SGD(lr=0.4 * l_rate, momentum=0.8)\n",
    "model.compile(loss='categorical_crossentropy', optimizer=sgd, metrics=['accuracy'])\n",
    "model.fit(X_train, Y_train, batch_size=32, epochs=3,\n",
    "          verbose=1,  validation_data=(X_test, Y_test))\n",
    "\n",
    "sgd = SGD(lr=0.2 * l_rate, momentum=0.8)\n",
    "model.compile(loss='categorical_crossentropy', optimizer=sgd, metrics=['accuracy'])\n",
    "model.fit(X_train, Y_train, batch_size=32, epochs=4,\n",
    "          verbose=1,  validation_data=(X_test, Y_test))\n",
    "\n",
    "sgd = SGD(lr=0.08 * l_rate, momentum=0.8)\n",
    "model.compile(loss='categorical_crossentropy', optimizer=sgd, metrics=['accuracy'])\n",
    "model.fit(X_train, Y_train, batch_size=32, epochs=8,\n",
    "          verbose=1, validation_data=(X_test, Y_test))\n",
    "\n",
    "t2 = datetime.now()\n",
    "print('Execution Ended at: ' + str(t2))\n",
    "print('Time Taken: ' + str(t2-t1))"
   ]
  },
  {
   "cell_type": "code",
   "execution_count": 32,
   "metadata": {},
   "outputs": [
    {
     "name": "stdout",
     "output_type": "stream",
     "text": [
      "Execution Started at: 2018-08-11 09:46:02.408778\n",
      "Train on 63000 samples, validate on 7000 samples\n",
      "Epoch 1/2\n",
      "63000/63000 [==============================] - 23s 370us/step - loss: 2.3361 - acc: 0.1029 - val_loss: 2.3191 - val_acc: 0.0983\n",
      "Epoch 2/2\n",
      "63000/63000 [==============================] - 21s 334us/step - loss: 2.3376 - acc: 0.1024 - val_loss: 2.3503 - val_acc: 0.1031\n",
      "Train on 63000 samples, validate on 7000 samples\n",
      "Epoch 1/3\n",
      "63000/63000 [==============================] - 21s 329us/step - loss: 2.3293 - acc: 0.1062 - val_loss: 2.3562 - val_acc: 0.1027\n",
      "Epoch 2/3\n",
      "63000/63000 [==============================] - 20s 324us/step - loss: 2.3287 - acc: 0.1027 - val_loss: 2.3123 - val_acc: 0.0980\n",
      "Epoch 3/3\n",
      "63000/63000 [==============================] - 21s 334us/step - loss: 2.3308 - acc: 0.1013 - val_loss: 2.3369 - val_acc: 0.1027\n",
      "Train on 63000 samples, validate on 7000 samples\n",
      "Epoch 1/3\n",
      "63000/63000 [==============================] - 20s 324us/step - loss: 2.3160 - acc: 0.1015 - val_loss: 2.3146 - val_acc: 0.1013\n",
      "Epoch 2/3\n",
      "63000/63000 [==============================] - 20s 325us/step - loss: 2.3152 - acc: 0.1046 - val_loss: 2.3108 - val_acc: 0.0991\n",
      "Epoch 3/3\n",
      "63000/63000 [==============================] - 20s 325us/step - loss: 2.3156 - acc: 0.1025 - val_loss: 2.3162 - val_acc: 0.1020\n",
      "Train on 63000 samples, validate on 7000 samples\n",
      "Epoch 1/4\n",
      "63000/63000 [==============================] - 22s 347us/step - loss: 2.3080 - acc: 0.1037 - val_loss: 2.3079 - val_acc: 0.1136\n",
      "Epoch 2/4\n",
      "63000/63000 [==============================] - 22s 347us/step - loss: 2.3082 - acc: 0.1033 - val_loss: 2.3055 - val_acc: 0.1027\n",
      "Epoch 3/4\n",
      "63000/63000 [==============================] - 21s 338us/step - loss: 2.3082 - acc: 0.1046 - val_loss: 2.3072 - val_acc: 0.1013\n",
      "Epoch 4/4\n",
      "63000/63000 [==============================] - 21s 327us/step - loss: 2.3082 - acc: 0.1025 - val_loss: 2.3061 - val_acc: 0.1136\n",
      "Train on 63000 samples, validate on 7000 samples\n",
      "Epoch 1/8\n",
      "63000/63000 [==============================] - 22s 352us/step - loss: 2.3042 - acc: 0.1066 - val_loss: 2.3022 - val_acc: 0.0991\n",
      "Epoch 2/8\n",
      "63000/63000 [==============================] - 20s 315us/step - loss: 2.3042 - acc: 0.1054 - val_loss: 2.3052 - val_acc: 0.1136\n",
      "Epoch 3/8\n",
      "63000/63000 [==============================] - 20s 325us/step - loss: 2.3038 - acc: 0.1067 - val_loss: 2.3047 - val_acc: 0.1027\n",
      "Epoch 4/8\n",
      "63000/63000 [==============================] - 21s 335us/step - loss: 2.3041 - acc: 0.1069 - val_loss: 2.3037 - val_acc: 0.1013\n",
      "Epoch 5/8\n",
      "63000/63000 [==============================] - 22s 342us/step - loss: 2.3040 - acc: 0.1082 - val_loss: 2.3042 - val_acc: 0.1013\n",
      "Epoch 6/8\n",
      "63000/63000 [==============================] - 23s 365us/step - loss: 2.3043 - acc: 0.1069 - val_loss: 2.3050 - val_acc: 0.1136\n",
      "Epoch 7/8\n",
      "63000/63000 [==============================] - 20s 320us/step - loss: 2.3042 - acc: 0.1071 - val_loss: 2.3031 - val_acc: 0.1136\n",
      "Epoch 8/8\n",
      "63000/63000 [==============================] - 20s 320us/step - loss: 2.3038 - acc: 0.1067 - val_loss: 2.3020 - val_acc: 0.1136\n",
      "Execution Ended at: 2018-08-11 09:53:06.524442\n",
      "Time Taken: 0:07:04.115664\n"
     ]
    }
   ],
   "source": [
    "t1 = datetime.now()\n",
    "print('Execution Started at: ' + str(t1))\n",
    "\n",
    "l_rate = 1\n",
    "sgd = SGD(lr=l_rate, momentum=0.8)\n",
    "model.compile(loss='categorical_crossentropy', optimizer=sgd, metrics=['accuracy'])\n",
    "model.fit(X, y, batch_size=32, epochs=2,\n",
    "          verbose=1,shuffle=True, validation_split=0.1)\n",
    "\n",
    "sgd = SGD(lr=0.8 * l_rate, momentum=0.8)\n",
    "model.compile(loss='categorical_crossentropy', optimizer=sgd, metrics=['accuracy'])\n",
    "model.fit(X, y, batch_size=32, epochs=3,\n",
    "          verbose=1, shuffle=True, validation_split=0.1)\n",
    "\n",
    "sgd = SGD(lr=0.4 * l_rate, momentum=0.8)\n",
    "model.compile(loss='categorical_crossentropy', optimizer=sgd, metrics=['accuracy'])\n",
    "model.fit(X, y, batch_size=32, epochs=3,\n",
    "          verbose=1,  shuffle=True, validation_split=0.1)\n",
    "\n",
    "sgd = SGD(lr=0.2 * l_rate, momentum=0.8)\n",
    "model.compile(loss='categorical_crossentropy', optimizer=sgd, metrics=['accuracy'])\n",
    "model.fit(X, y, batch_size=32, epochs=4,\n",
    "          verbose=1,  shuffle=True, validation_split=0.1)\n",
    "\n",
    "sgd = SGD(lr=0.08 * l_rate, momentum=0.8)\n",
    "model.compile(loss='categorical_crossentropy', optimizer=sgd, metrics=['accuracy'])\n",
    "model.fit( X, y, batch_size=32, epochs=8,\n",
    "          verbose=1, shuffle=True, validation_split=0.1)\n",
    "\n",
    "t2 = datetime.now()\n",
    "print('Execution Ended at: ' + str(t2))\n",
    "print('Time Taken: ' + str(t2-t1))"
   ]
  },
  {
   "cell_type": "code",
   "execution_count": 33,
   "metadata": {},
   "outputs": [
    {
     "name": "stdout",
     "output_type": "stream",
     "text": [
      "10000/10000 [==============================] - 1s 144us/step\n"
     ]
    },
    {
     "data": {
      "text/plain": [
       "[2.3021023498535156, 0.1135]"
      ]
     },
     "execution_count": 33,
     "metadata": {},
     "output_type": "execute_result"
    }
   ],
   "source": [
    "model.evaluate(X_test, Y_test, verbose=1)"
   ]
  },
  {
   "cell_type": "code",
   "execution_count": 34,
   "metadata": {},
   "outputs": [
    {
     "name": "stdout",
     "output_type": "stream",
     "text": [
      "10000/10000 [==============================] - 1s 138us/step\n",
      "Test classification rate 0.11350\n"
     ]
    }
   ],
   "source": [
    "print(\"Test classification rate %0.05f\" %model.evaluate(X_test, Y_test, verbose=1)[1])"
   ]
  },
  {
   "cell_type": "code",
   "execution_count": 35,
   "metadata": {},
   "outputs": [
    {
     "data": {
      "image/png": "[encoded data removed]",
      "text/plain": [
       "<Figure size 720x720 with 100 Axes>"
      ]
     },
     "metadata": {},
     "output_type": "display_data"
    }
   ],
   "source": [
    "y_hat = model.predict_classes(X_test)\n",
    "test_wrong = [im for im in zip(X_test,y_hat,y_test) if im[1] != im[2]]\n",
    "\n",
    "plt.figure(figsize=(10, 10))\n",
    "for ind, val in enumerate(test_wrong[:100]):\n",
    "    plt.subplots_adjust(left=0, right=1, bottom=0, top=1)\n",
    "    plt.subplot(10, 10, ind + 1)\n",
    "    im = 1 - val[0].reshape((28,28))\n",
    "    plt.axis(\"off\")\n",
    "    plt.text(0, 0, val[2], fontsize=14, color='blue')\n",
    "    plt.text(8, 0, val[1], fontsize=14, color='red')\n",
    "    plt.imshow(im, cmap='gray')"
   ]
  },
  {
   "cell_type": "code",
   "execution_count": null,
   "metadata": {
    "collapsed": true
   },
   "outputs": [],
   "source": []
  },
  {
   "cell_type": "code",
   "execution_count": null,
   "metadata": {
    "collapsed": true
   },
   "outputs": [],
   "source": []
  }
 ],
 "metadata": {
  "kernelspec": {
   "display_name": "tf-lab",
   "language": "python",
   "name": "tf-lab"
  },
  "language_info": {
   "codemirror_mode": {
    "name": "ipython",
    "version": 3
   },
   "file_extension": ".py",
   "mimetype": "text/x-python",
   "name": "python",
   "nbconvert_exporter": "python",
   "pygments_lexer": "ipython3",
   "version": "3.5.4"
  }
 },
 "nbformat": 4,
 "nbformat_minor": 2
}
