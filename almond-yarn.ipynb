{
 "cells": [
  {
   "cell_type": "code",
   "execution_count": 1,
   "metadata": {},
   "outputs": [
    {
     "data": {
      "text/plain": [
       "\u001b[32mimport \u001b[39m\u001b[36m$ivy.$                                               // Or use any other 2.x version here\n",
       "\u001b[39m\n",
       "\u001b[32mimport \u001b[39m\u001b[36m$ivy.$                              \u001b[39m"
      ]
     },
     "execution_count": 1,
     "metadata": {},
     "output_type": "execute_result"
    }
   ],
   "source": [
    "import $ivy.`org.apache.spark::spark-sql:2.3.0.2.6.5.0-292` // Or use any other 2.x version here\n",
    "import $ivy.`sh.almond::almond-spark:0.4.0`"
   ]
  },
  {
   "cell_type": "code",
   "execution_count": 2,
   "metadata": {},
   "outputs": [
    {
     "data": {
      "text/plain": [
       "\u001b[32mimport \u001b[39m\u001b[36morg.apache.log4j.{Level, Logger}\n",
       "\u001b[39m"
      ]
     },
     "execution_count": 2,
     "metadata": {},
     "output_type": "execute_result"
    }
   ],
   "source": [
    "import org.apache.log4j.{Level, Logger}\n",
    "Logger.getLogger(\"org\").setLevel(Level.OFF)"
   ]
  },
  {
   "cell_type": "code",
   "execution_count": 3,
   "metadata": {},
   "outputs": [
    {
     "data": {
      "text/plain": [
       "\u001b[32mimport \u001b[39m\u001b[36morg.apache.spark.sql._\u001b[39m"
      ]
     },
     "execution_count": 3,
     "metadata": {},
     "output_type": "execute_result"
    }
   ],
   "source": [
    "import org.apache.spark.sql._"
   ]
  },
  {
   "cell_type": "code",
   "execution_count": 4,
   "metadata": {},
   "outputs": [
    {
     "data": {
      "text/plain": [
       "\u001b[32mimport \u001b[39m\u001b[36morg.apache.spark.SparkConf\u001b[39m"
      ]
     },
     "execution_count": 4,
     "metadata": {},
     "output_type": "execute_result"
    }
   ],
   "source": [
    "import org.apache.spark.SparkConf"
   ]
  },
  {
   "cell_type": "code",
   "execution_count": 4,
   "metadata": {
    "collapsed": true
   },
   "outputs": [],
   "source": [
    "//val settings = Map(\"spark.yarn.appMasterEnv.HDP_VERSION\" -> \"2.6.5.0-292\")\n",
    "\n",
    "// val settings = Map(\n",
    "// \"spark.driver.extraJavaOptions\" ->   \"-Dhdp.version=2.6.5.0-292\",\n",
    "// \"spark.yarn.am.extraJavaOptions\" -> \"-Dhdp.version=2.6.5.0-292\"\n",
    "//     )"
   ]
  },
  {
   "cell_type": "code",
   "execution_count": 5,
   "metadata": {},
   "outputs": [
    {
     "data": {
      "text/plain": [
       "\u001b[36mconf\u001b[39m: \u001b[32mSparkConf\u001b[39m = org.apache.spark.SparkConf@7b412040"
      ]
     },
     "execution_count": 5,
     "metadata": {},
     "output_type": "execute_result"
    }
   ],
   "source": [
    "val conf = new SparkConf().setAppName(\"almond-yarn\")\n",
    "//.setAll(settings)"
   ]
  },
  {
   "cell_type": "code",
   "execution_count": 6,
   "metadata": {},
   "outputs": [
    {
     "data": {
      "text/plain": [
       "\u001b[36mres5\u001b[39m: \u001b[32mString\u001b[39m = \u001b[32m\"/usr/hdp/current/spark2-client/jars/spark-yarn_2.11-2.3.0.2.6.5.0-292.jar:/opt/anaconda/bin:/usr/lib64/qt-3.3/bin:/usr/local/sbin:/usr/local/bin:/sbin:/bin:/usr/sbin:/usr/bin:/root/bin:/usr/hdp/current/spark2-client/jars/:/usr/hdp/current/spark2-client/conf/:/usr/hdp/current/spark2-client/bin/:/usr/hdp/2.6.5.0-292/hadoop/conf/:/usr/hdp/current/hadoop-yarn-client/\"\u001b[39m"
      ]
     },
     "execution_count": 6,
     "metadata": {},
     "output_type": "execute_result"
    }
   ],
   "source": [
    "System.getenv(\"PATH\")"
   ]
  },
  {
   "cell_type": "code",
   "execution_count": 7,
   "metadata": {},
   "outputs": [
    {
     "data": {
      "text/plain": [
       "\u001b[36mres6\u001b[39m: \u001b[32mString\u001b[39m = \u001b[32m\"/usr/hdp/2.6.5.0-292/hadoop/conf\"\u001b[39m"
      ]
     },
     "execution_count": 7,
     "metadata": {},
     "output_type": "execute_result"
    }
   ],
   "source": [
    "System.getenv(\"HADOOP_CONF_DIR\")"
   ]
  },
  {
   "cell_type": "code",
   "execution_count": 10,
   "metadata": {},
   "outputs": [
    {
     "name": "stdout",
     "output_type": "stream",
     "text": [
      "Loading spark-yarn, spark-stubs\n",
      "Adding Hadoop conf dir /usr/hdp/2.6.5.0-292/hadoop/conf to classpath\n",
      "Creating SparkSession\n"
     ]
    },
    {
     "ename": "",
     "evalue": "",
     "output_type": "error",
     "traceback": [
      "\u001b[31morg.apache.spark.SparkException: Yarn application has already ended! It might have been killed or unable to launch application master.\u001b[39m\n  org.apache.spark.scheduler.cluster.YarnClientSchedulerBackend.waitForApplication(\u001b[32mYarnClientSchedulerBackend.scala\u001b[39m:\u001b[32m89\u001b[39m)\n  org.apache.spark.scheduler.cluster.YarnClientSchedulerBackend.start(\u001b[32mYarnClientSchedulerBackend.scala\u001b[39m:\u001b[32m63\u001b[39m)\n  org.apache.spark.scheduler.TaskSchedulerImpl.start(\u001b[32mTaskSchedulerImpl.scala\u001b[39m:\u001b[32m164\u001b[39m)\n  org.apache.spark.SparkContext.<init>(\u001b[32mSparkContext.scala\u001b[39m:\u001b[32m500\u001b[39m)\n  org.apache.spark.SparkContext$.getOrCreate(\u001b[32mSparkContext.scala\u001b[39m:\u001b[32m2493\u001b[39m)\n  org.apache.spark.sql.SparkSession$Builder$$anonfun$7.apply(\u001b[32mSparkSession.scala\u001b[39m:\u001b[32m930\u001b[39m)\n  org.apache.spark.sql.SparkSession$Builder$$anonfun$7.apply(\u001b[32mSparkSession.scala\u001b[39m:\u001b[32m921\u001b[39m)\n  scala.Option.getOrElse(\u001b[32mOption.scala\u001b[39m:\u001b[32m121\u001b[39m)\n  org.apache.spark.sql.SparkSession$Builder.getOrCreate(\u001b[32mSparkSession.scala\u001b[39m:\u001b[32m921\u001b[39m)\n  org.apache.spark.sql.ammonitesparkinternals.AmmoniteSparkSessionBuilder.getOrCreate(\u001b[32mAmmoniteSparkSessionBuilder.scala\u001b[39m:\u001b[32m318\u001b[39m)\n  ammonite.$sess.cmd9$Helper.<init>(\u001b[32mcmd9.sc\u001b[39m:\u001b[32m1\u001b[39m)\n  ammonite.$sess.cmd9$.<init>(\u001b[32mcmd9.sc\u001b[39m:\u001b[32m7\u001b[39m)\n  ammonite.$sess.cmd9$.<clinit>(\u001b[32mcmd9.sc\u001b[39m:\u001b[32m-1\u001b[39m)"
     ]
    }
   ],
   "source": [
    "val spark = AmmoniteSparkSession.builder().master(\"yarn\").getOrCreate()"
   ]
  },
  {
   "cell_type": "code",
   "execution_count": 9,
   "metadata": {},
   "outputs": [
    {
     "ename": "",
     "evalue": "",
     "output_type": "error",
     "traceback": [
      "\u001b[31morg.apache.spark.SparkException: Could not parse Master URL: 'yarn'\u001b[39m\n  org.apache.spark.SparkContext$.org$apache$spark$SparkContext$$createTaskScheduler(\u001b[32mSparkContext.scala\u001b[39m:\u001b[32m2744\u001b[39m)\n  org.apache.spark.SparkContext.<init>(\u001b[32mSparkContext.scala\u001b[39m:\u001b[32m492\u001b[39m)\n  org.apache.spark.SparkContext$.getOrCreate(\u001b[32mSparkContext.scala\u001b[39m:\u001b[32m2493\u001b[39m)\n  org.apache.spark.sql.SparkSession$Builder$$anonfun$7.apply(\u001b[32mSparkSession.scala\u001b[39m:\u001b[32m930\u001b[39m)\n  org.apache.spark.sql.SparkSession$Builder$$anonfun$7.apply(\u001b[32mSparkSession.scala\u001b[39m:\u001b[32m921\u001b[39m)\n  scala.Option.getOrElse(\u001b[32mOption.scala\u001b[39m:\u001b[32m121\u001b[39m)\n  org.apache.spark.sql.SparkSession$Builder.getOrCreate(\u001b[32mSparkSession.scala\u001b[39m:\u001b[32m921\u001b[39m)\n  ammonite.$sess.cmd8$Helper.<init>(\u001b[32mcmd8.sc\u001b[39m:\u001b[32m1\u001b[39m)\n  ammonite.$sess.cmd8$.<init>(\u001b[32mcmd8.sc\u001b[39m:\u001b[32m7\u001b[39m)\n  ammonite.$sess.cmd8$.<clinit>(\u001b[32mcmd8.sc\u001b[39m:\u001b[32m-1\u001b[39m)"
     ]
    }
   ],
   "source": [
    "//val spark = SparkSession.builder().master(\"yarn\").getOrCreate()"
   ]
  },
  {
   "cell_type": "code",
   "execution_count": null,
   "metadata": {
    "collapsed": true
   },
   "outputs": [],
   "source": [
    "spark.conf.getAll"
   ]
  },
  {
   "cell_type": "code",
   "execution_count": null,
   "metadata": {
    "collapsed": true
   },
   "outputs": [],
   "source": []
  }
 ],
 "metadata": {
  "kernelspec": {
   "display_name": "Scala",
   "language": "scala",
   "name": "scala"
  },
  "language_info": {
   "codemirror_mode": "text/x-scala",
   "file_extension": ".scala",
   "mimetype": "text/x-scala",
   "name": "scala",
   "nbconvert_exporter": "script",
   "version": "2.11.12"
  }
 },
 "nbformat": 4,
 "nbformat_minor": 2
}
