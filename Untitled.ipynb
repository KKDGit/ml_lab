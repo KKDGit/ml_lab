{
 "cells": [
  {
   "cell_type": "code",
   "execution_count": 9,
   "metadata": {},
   "outputs": [
    {
     "name": "stdout",
     "output_type": "stream",
     "text": [
      "0 ('kranthi', 'noun')\n",
      "1 ('kumar', 'noun')\n",
      "1 ('kumar', 'noun')\n",
      "2 ('coming', 'verb')\n",
      "2 ('coming', 'verb')\n",
      "An exception occurred\n"
     ]
    }
   ],
   "source": [
    "l = [('kranthi', 'noun'), ('kumar', 'noun'), ('coming','verb' )]\n",
    "for i, value in enumerate(l):\n",
    "    try:\n",
    "        print(i, value)\n",
    "        print(i+1, l[i+1])\n",
    "    except:\n",
    "        print(\"An exception occurred\")"
   ]
  },
  {
   "cell_type": "code",
   "execution_count": null,
   "metadata": {
    "collapsed": true
   },
   "outputs": [],
   "source": []
  }
 ],
 "metadata": {
  "kernelspec": {
   "display_name": "Python 3",
   "language": "python",
   "name": "python3"
  },
  "language_info": {
   "codemirror_mode": {
    "name": "ipython",
    "version": 3
   },
   "file_extension": ".py",
   "mimetype": "text/x-python",
   "name": "python",
   "nbconvert_exporter": "python",
   "pygments_lexer": "ipython3",
   "version": "3.6.1"
  }
 },
 "nbformat": 4,
 "nbformat_minor": 2
}
