{
 "cells": [
  {
   "cell_type": "code",
   "execution_count": null,
   "metadata": {
    "collapsed": true
   },
   "outputs": [],
   "source": [
    "#Python code to illustrate parsing of XML files \n",
    "# importing the required modules \n",
    "import csv \n",
    "import requests \n",
    "import xml.etree.ElementTree as ET "
   ]
  },
  {
   "cell_type": "code",
   "execution_count": 7,
   "metadata": {
    "collapsed": true
   },
   "outputs": [],
   "source": [
    "url = 'http://www.hindustantimes.com/rss/topnews/rssfeed.xml'"
   ]
  },
  {
   "cell_type": "code",
   "execution_count": 8,
   "metadata": {
    "collapsed": true
   },
   "outputs": [],
   "source": [
    "# creating HTTP response object from given url \n",
    "resp = requests.get(url) "
   ]
  },
  {
   "cell_type": "code",
   "execution_count": 9,
   "metadata": {
    "collapsed": true
   },
   "outputs": [],
   "source": [
    "# saving the xml file \n",
    "with open('topnewsfeed.xml', 'wb') as f: \n",
    "    f.write(resp.content) "
   ]
  },
  {
   "cell_type": "code",
   "execution_count": 10,
   "metadata": {
    "collapsed": true
   },
   "outputs": [],
   "source": [
    "xmlfile = 'topnewsfeed.xml'"
   ]
  },
  {
   "cell_type": "code",
   "execution_count": 11,
   "metadata": {
    "collapsed": true
   },
   "outputs": [],
   "source": [
    "tree = ET.parse(xmlfile) "
   ]
  },
  {
   "cell_type": "code",
   "execution_count": 12,
   "metadata": {},
   "outputs": [
    {
     "data": {
      "text/plain": [
       "<xml.etree.ElementTree.ElementTree at 0x6a1c43327e80>"
      ]
     },
     "execution_count": 12,
     "metadata": {},
     "output_type": "execute_result"
    }
   ],
   "source": [
    "tree"
   ]
  },
  {
   "cell_type": "code",
   "execution_count": 13,
   "metadata": {
    "collapsed": true
   },
   "outputs": [],
   "source": [
    "root = tree.getroot()"
   ]
  },
  {
   "cell_type": "code",
   "execution_count": 18,
   "metadata": {},
   "outputs": [
    {
     "data": {
      "text/plain": [
       "'rss'"
      ]
     },
     "execution_count": 18,
     "metadata": {},
     "output_type": "execute_result"
    }
   ],
   "source": [
    "root.tag"
   ]
  },
  {
   "cell_type": "code",
   "execution_count": 21,
   "metadata": {},
   "outputs": [
    {
     "data": {
      "text/plain": [
       "{'version': '2.0'}"
      ]
     },
     "execution_count": 21,
     "metadata": {},
     "output_type": "execute_result"
    }
   ],
   "source": [
    "root.attrib"
   ]
  },
  {
   "cell_type": "code",
   "execution_count": 29,
   "metadata": {},
   "outputs": [
    {
     "name": "stdout",
     "output_type": "stream",
     "text": [
      "channel {}\n",
      "{http://www.w3.org/2005/Atom}link {'rel': 'self', 'type': 'application/rss+xml', 'href': 'https://www.hindustantimes.com/rss/topnews/rssfeed.xml'}\n",
      "title {}\n",
      "link {}\n",
      "description {}\n",
      "language {}\n",
      "copyright {}\n",
      "docs {}\n",
      "image {}\n",
      "title {}\n",
      "link {}\n",
      "url {}\n",
      "item {}\n",
      "title {}\n",
      "description {}\n",
      "link {}\n",
      "guid {}\n",
      "pubDate {}\n",
      "{http://search.yahoo.com/mrss/}content {'width': '362', 'url': 'https://www.hindustantimes.com/rf/image_size_630x354/HT/p2/2019/02/11/Pictures/_efd4e65a-2daf-11e9-967b-5cdb4de5a68c.png', 'height': '640', 'medium': 'image'}\n",
      "item {}\n",
      "title {}\n",
      "description {}\n",
      "link {}\n",
      "guid {}\n",
      "pubDate {}\n",
      "{http://search.yahoo.com/mrss/}content {'width': '362', 'url': 'https://www.hindustantimes.com/rf/image_size_630x354/HT/p2/2019/02/11/Pictures/england-india-nets-press-conference_1f1e9ee6-2db6-11e9-8baa-80fb3b94486c.jpg', 'height': '640', 'medium': 'image'}\n",
      "item {}\n",
      "title {}\n",
      "description {}\n",
      "link {}\n",
      "guid {}\n",
      "pubDate {}\n",
      "{http://search.yahoo.com/mrss/}content {'width': '362', 'url': 'https://www.hindustantimes.com/rf/image_size_630x354/HT/p2/2019/02/08/Pictures/congress-general-secretary-for-uttar-pradesh_64ea9c76-2b73-11e9-b115-35431bcc9744.jpg', 'height': '640', 'medium': 'image'}\n",
      "item {}\n",
      "title {}\n",
      "description {}\n",
      "link {}\n",
      "guid {}\n",
      "pubDate {}\n",
      "{http://search.yahoo.com/mrss/}content {'width': '362', 'url': 'https://www.hindustantimes.com/rf/image_size_630x354/HT/p2/2019/02/11/Pictures/supporters-gandhi-showered-petals-sister-priyanka-amethi_a345c828-2dae-11e9-8feb-c7253ea4083e.jpg', 'height': '640', 'medium': 'image'}\n",
      "item {}\n",
      "title {}\n",
      "description {}\n",
      "link {}\n",
      "guid {}\n",
      "pubDate {}\n",
      "{http://search.yahoo.com/mrss/}content {'width': '362', 'url': 'https://www.hindustantimes.com/rf/image_size_630x354/HT/p2/2019/02/10/Pictures/indian-first-batch-force-four-chinook-helicopters_4ac83354-2d5c-11e9-aa1f-306fb5735c10.jpg', 'height': '640', 'medium': 'image'}\n",
      "item {}\n",
      "title {}\n",
      "description {}\n",
      "link {}\n",
      "guid {}\n",
      "pubDate {}\n",
      "{http://search.yahoo.com/mrss/}content {'width': '362', 'url': 'https://www.hindustantimes.com/rf/image_size_630x354/HT/p2/2019/02/11/Pictures/garlands-meeting-priyanka-gandhi-election-adjusts-flower_e69d2e0a-2db2-11e9-8feb-c7253ea4083e.jpg', 'height': '640', 'medium': 'image'}\n",
      "item {}\n",
      "title {}\n",
      "description {}\n",
      "link {}\n",
      "guid {}\n",
      "pubDate {}\n",
      "{http://search.yahoo.com/mrss/}content {'width': '362', 'url': 'https://www.hindustantimes.com/rf/image_size_630x354/HT/p2/2019/02/11/Pictures/cricket-aus-sri_e7a7d4c8-2db0-11e9-8baa-80fb3b94486c.jpg', 'height': '640', 'medium': 'image'}\n",
      "item {}\n",
      "title {}\n",
      "description {}\n",
      "link {}\n",
      "guid {}\n",
      "pubDate {}\n",
      "{http://search.yahoo.com/mrss/}content {'width': '362', 'url': 'https://www.hindustantimes.com/rf/image_size_630x354/HT/p2/2019/02/09/Pictures/budget-session-of-parliament_8eadfb5e-2c52-11e9-b7de-6a9a06b91305.jpg', 'height': '640', 'medium': 'image'}\n",
      "item {}\n",
      "title {}\n",
      "description {}\n",
      "link {}\n",
      "guid {}\n",
      "pubDate {}\n",
      "{http://search.yahoo.com/mrss/}content {'width': '362', 'url': 'https://www.hindustantimes.com/rf/image_size_630x354/HT/p2/2019/02/01/Pictures/iaf-drill-on-the-lucknow-agra-expressway_87d133a0-25e5-11e9-a07d-d8ccc3ad85d5.jpg', 'height': '640', 'medium': 'image'}\n",
      "item {}\n",
      "title {}\n",
      "description {}\n",
      "link {}\n",
      "guid {}\n",
      "pubDate {}\n",
      "{http://search.yahoo.com/mrss/}content {'width': '362', 'url': 'https://www.hindustantimes.com/rf/image_size_630x354/HT/p2/2019/02/10/Pictures/_da723306-2d11-11e9-b7de-6a9a06b91305.jpg', 'height': '640', 'medium': 'image'}\n",
      "item {}\n",
      "title {}\n",
      "description {}\n",
      "link {}\n",
      "guid {}\n",
      "pubDate {}\n",
      "{http://search.yahoo.com/mrss/}content {'width': '362', 'url': 'https://www.hindustantimes.com/rf/image_size_630x354/HT/p2/2019/01/10/Pictures/india-economy-jobs-politics_47b1f55c-14f6-11e9-9574-d80eb2faafc4.jpg', 'height': '640', 'medium': 'image'}\n",
      "item {}\n",
      "title {}\n",
      "description {}\n",
      "link {}\n",
      "guid {}\n",
      "pubDate {}\n",
      "{http://search.yahoo.com/mrss/}content {'width': '362', 'url': 'https://www.hindustantimes.com/rf/image_size_630x354/HT/p2/2019/01/29/Pictures/small-businesses-trillion-hidden-shows-economy-stalled_7a30b802-23a5-11e9-b3a2-37e00a7683f5.jpg', 'height': '640', 'medium': 'image'}\n",
      "item {}\n",
      "title {}\n",
      "description {}\n",
      "link {}\n",
      "guid {}\n",
      "pubDate {}\n",
      "{http://search.yahoo.com/mrss/}content {'width': '362', 'url': 'https://www.hindustantimes.com/rf/image_size_630x354/HT/p2/2019/02/10/Pictures/including-hindustan-february-belonging-procession-collapsed-hoshiyarpur_21c3ab18-2d44-11e9-aa1f-306fb5735c10.jpg', 'height': '640', 'medium': 'image'}\n",
      "item {}\n",
      "title {}\n",
      "description {}\n",
      "link {}\n",
      "guid {}\n",
      "pubDate {}\n",
      "{http://search.yahoo.com/mrss/}content {'width': '362', 'url': 'https://www.hindustantimes.com/rf/image_size_630x354/HT/p2/2019/02/08/Pictures/standalone_a55e68d6-2b83-11e9-aa1f-306fb5735c10.jpg', 'height': '640', 'medium': 'image'}\n",
      "item {}\n",
      "title {}\n",
      "description {}\n",
      "link {}\n",
      "guid {}\n",
      "pubDate {}\n",
      "{http://search.yahoo.com/mrss/}content {'width': '362', 'url': 'https://www.hindustantimes.com/rf/image_size_630x354/HT/p2/2019/02/08/Pictures/election-counting_3dcced5c-2b77-11e9-aa1f-306fb5735c10.jpg', 'height': '640', 'medium': 'image'}\n"
     ]
    }
   ],
   "source": [
    "for child1 in root:\n",
    "    print(child1.tag, child1.attrib)\n",
    "    for child2 in child1:\n",
    "        print(child2.tag, child2.attrib)\n",
    "        for child3 in child2:\n",
    "            print(child3.tag, child3.attrib)"
   ]
  },
  {
   "cell_type": "code",
   "execution_count": 34,
   "metadata": {},
   "outputs": [
    {
     "name": "stdout",
     "output_type": "stream",
     "text": [
      "*******\n",
      "channel\n",
      "----------\n",
      "{http://www.w3.org/2005/Atom}link\n",
      "----------\n",
      "----------\n",
      "title\n",
      "----------\n",
      "----------\n",
      "link\n",
      "----------\n",
      "----------\n",
      "description\n",
      "----------\n",
      "----------\n",
      "language\n",
      "----------\n",
      "----------\n",
      "copyright\n",
      "----------\n",
      "----------\n",
      "docs\n",
      "----------\n",
      "----------\n",
      "image\n",
      "..........\n",
      "title\n",
      "..........\n",
      "..........\n",
      "link\n",
      "..........\n",
      "..........\n",
      "url\n",
      "..........\n",
      "----------\n",
      "----------\n",
      "item\n",
      "..........\n",
      "title\n",
      "..........\n",
      "..........\n",
      "description\n",
      "..........\n",
      "..........\n",
      "link\n",
      "..........\n",
      "..........\n",
      "guid\n",
      "..........\n",
      "..........\n",
      "pubDate\n",
      "..........\n",
      "..........\n",
      "{http://search.yahoo.com/mrss/}content\n",
      "..........\n",
      "----------\n",
      "----------\n",
      "item\n",
      "..........\n",
      "title\n",
      "..........\n",
      "..........\n",
      "description\n",
      "..........\n",
      "..........\n",
      "link\n",
      "..........\n",
      "..........\n",
      "guid\n",
      "..........\n",
      "..........\n",
      "pubDate\n",
      "..........\n",
      "..........\n",
      "{http://search.yahoo.com/mrss/}content\n",
      "..........\n",
      "----------\n",
      "----------\n",
      "item\n",
      "..........\n",
      "title\n",
      "..........\n",
      "..........\n",
      "description\n",
      "..........\n",
      "..........\n",
      "link\n",
      "..........\n",
      "..........\n",
      "guid\n",
      "..........\n",
      "..........\n",
      "pubDate\n",
      "..........\n",
      "..........\n",
      "{http://search.yahoo.com/mrss/}content\n",
      "..........\n",
      "----------\n",
      "----------\n",
      "item\n",
      "..........\n",
      "title\n",
      "..........\n",
      "..........\n",
      "description\n",
      "..........\n",
      "..........\n",
      "link\n",
      "..........\n",
      "..........\n",
      "guid\n",
      "..........\n",
      "..........\n",
      "pubDate\n",
      "..........\n",
      "..........\n",
      "{http://search.yahoo.com/mrss/}content\n",
      "..........\n",
      "----------\n",
      "----------\n",
      "item\n",
      "..........\n",
      "title\n",
      "..........\n",
      "..........\n",
      "description\n",
      "..........\n",
      "..........\n",
      "link\n",
      "..........\n",
      "..........\n",
      "guid\n",
      "..........\n",
      "..........\n",
      "pubDate\n",
      "..........\n",
      "..........\n",
      "{http://search.yahoo.com/mrss/}content\n",
      "..........\n",
      "----------\n",
      "----------\n",
      "item\n",
      "..........\n",
      "title\n",
      "..........\n",
      "..........\n",
      "description\n",
      "..........\n",
      "..........\n",
      "link\n",
      "..........\n",
      "..........\n",
      "guid\n",
      "..........\n",
      "..........\n",
      "pubDate\n",
      "..........\n",
      "..........\n",
      "{http://search.yahoo.com/mrss/}content\n",
      "..........\n",
      "----------\n",
      "----------\n",
      "item\n",
      "..........\n",
      "title\n",
      "..........\n",
      "..........\n",
      "description\n",
      "..........\n",
      "..........\n",
      "link\n",
      "..........\n",
      "..........\n",
      "guid\n",
      "..........\n",
      "..........\n",
      "pubDate\n",
      "..........\n",
      "..........\n",
      "{http://search.yahoo.com/mrss/}content\n",
      "..........\n",
      "----------\n",
      "----------\n",
      "item\n",
      "..........\n",
      "title\n",
      "..........\n",
      "..........\n",
      "description\n",
      "..........\n",
      "..........\n",
      "link\n",
      "..........\n",
      "..........\n",
      "guid\n",
      "..........\n",
      "..........\n",
      "pubDate\n",
      "..........\n",
      "..........\n",
      "{http://search.yahoo.com/mrss/}content\n",
      "..........\n",
      "----------\n",
      "----------\n",
      "item\n",
      "..........\n",
      "title\n",
      "..........\n",
      "..........\n",
      "description\n",
      "..........\n",
      "..........\n",
      "link\n",
      "..........\n",
      "..........\n",
      "guid\n",
      "..........\n",
      "..........\n",
      "pubDate\n",
      "..........\n",
      "..........\n",
      "{http://search.yahoo.com/mrss/}content\n",
      "..........\n",
      "----------\n",
      "----------\n",
      "item\n",
      "..........\n",
      "title\n",
      "..........\n",
      "..........\n",
      "description\n",
      "..........\n",
      "..........\n",
      "link\n",
      "..........\n",
      "..........\n",
      "guid\n",
      "..........\n",
      "..........\n",
      "pubDate\n",
      "..........\n",
      "..........\n",
      "{http://search.yahoo.com/mrss/}content\n",
      "..........\n",
      "----------\n",
      "----------\n",
      "item\n",
      "..........\n",
      "title\n",
      "..........\n",
      "..........\n",
      "description\n",
      "..........\n",
      "..........\n",
      "link\n",
      "..........\n",
      "..........\n",
      "guid\n",
      "..........\n",
      "..........\n",
      "pubDate\n",
      "..........\n",
      "..........\n",
      "{http://search.yahoo.com/mrss/}content\n",
      "..........\n",
      "----------\n",
      "----------\n",
      "item\n",
      "..........\n",
      "title\n",
      "..........\n",
      "..........\n",
      "description\n",
      "..........\n",
      "..........\n",
      "link\n",
      "..........\n",
      "..........\n",
      "guid\n",
      "..........\n",
      "..........\n",
      "pubDate\n",
      "..........\n",
      "..........\n",
      "{http://search.yahoo.com/mrss/}content\n",
      "..........\n",
      "----------\n",
      "----------\n",
      "item\n",
      "..........\n",
      "title\n",
      "..........\n",
      "..........\n",
      "description\n",
      "..........\n",
      "..........\n",
      "link\n",
      "..........\n",
      "..........\n",
      "guid\n",
      "..........\n",
      "..........\n",
      "pubDate\n",
      "..........\n",
      "..........\n",
      "{http://search.yahoo.com/mrss/}content\n",
      "..........\n",
      "----------\n",
      "----------\n",
      "item\n",
      "..........\n",
      "title\n",
      "..........\n",
      "..........\n",
      "description\n",
      "..........\n",
      "..........\n",
      "link\n",
      "..........\n",
      "..........\n",
      "guid\n",
      "..........\n",
      "..........\n",
      "pubDate\n",
      "..........\n",
      "..........\n",
      "{http://search.yahoo.com/mrss/}content\n",
      "..........\n",
      "----------\n",
      "----------\n",
      "item\n",
      "..........\n",
      "title\n",
      "..........\n",
      "..........\n",
      "description\n",
      "..........\n",
      "..........\n",
      "link\n",
      "..........\n",
      "..........\n",
      "guid\n",
      "..........\n",
      "..........\n",
      "pubDate\n",
      "..........\n",
      "..........\n",
      "{http://search.yahoo.com/mrss/}content\n",
      "..........\n",
      "----------\n",
      "*******\n"
     ]
    }
   ],
   "source": [
    "for child1 in root:\n",
    "    print('*******')\n",
    "    print(child1.tag)\n",
    "    for child2 in child1:\n",
    "        print('----------')\n",
    "        print(child2.tag)\n",
    "        for child3 in child2:\n",
    "            print('..........')\n",
    "            print(child3.tag)\n",
    "            print('..........')\n",
    "        print('----------')\n",
    "    print('*******')"
   ]
  },
  {
   "cell_type": "code",
   "execution_count": 40,
   "metadata": {},
   "outputs": [
    {
     "data": {
      "text/plain": [
       "[<Element 'rss' at 0x6a1c40069c78>]"
      ]
     },
     "execution_count": 40,
     "metadata": {},
     "output_type": "execute_result"
    }
   ],
   "source": [
    "root.findall(\".\")"
   ]
  },
  {
   "cell_type": "code",
   "execution_count": 41,
   "metadata": {},
   "outputs": [
    {
     "data": {
      "text/plain": [
       "[<Element 'channel' at 0x6a1c40069cc8>]"
      ]
     },
     "execution_count": 41,
     "metadata": {},
     "output_type": "execute_result"
    }
   ],
   "source": [
    "root.findall(\"./\")"
   ]
  },
  {
   "cell_type": "code",
   "execution_count": 43,
   "metadata": {},
   "outputs": [
    {
     "data": {
      "text/plain": [
       "[<Element '{http://www.w3.org/2005/Atom}link' at 0x6a1c40069d18>,\n",
       " <Element 'title' at 0x6a1c40069d68>,\n",
       " <Element 'link' at 0x6a1c40069e08>,\n",
       " <Element 'description' at 0x6a1c40069ea8>,\n",
       " <Element 'language' at 0x6a1c40069ef8>,\n",
       " <Element 'copyright' at 0x6a1c40069f48>,\n",
       " <Element 'docs' at 0x6a1c40069f98>,\n",
       " <Element 'image' at 0x6a1c400417c8>,\n",
       " <Element 'item' at 0x6a1c2b3630e8>,\n",
       " <Element 'item' at 0x6a1c2b363368>,\n",
       " <Element 'item' at 0x6a1c2b3635e8>,\n",
       " <Element 'item' at 0x6a1c2b363868>,\n",
       " <Element 'item' at 0x6a1c2b363ae8>,\n",
       " <Element 'item' at 0x6a1c2b363d68>,\n",
       " <Element 'item' at 0x6a1c2b366048>,\n",
       " <Element 'item' at 0x6a1c2b3662c8>,\n",
       " <Element 'item' at 0x6a1c2b366548>,\n",
       " <Element 'item' at 0x6a1c2b3667c8>,\n",
       " <Element 'item' at 0x6a1c2b366a48>,\n",
       " <Element 'item' at 0x6a1c2b366cc8>,\n",
       " <Element 'item' at 0x6a1c2b366f48>,\n",
       " <Element 'item' at 0x6a1c2b36b228>,\n",
       " <Element 'item' at 0x6a1c2b36b4a8>]"
      ]
     },
     "execution_count": 43,
     "metadata": {},
     "output_type": "execute_result"
    }
   ],
   "source": [
    "root.findall(\".channel/\")"
   ]
  },
  {
   "cell_type": "code",
   "execution_count": 44,
   "metadata": {},
   "outputs": [
    {
     "data": {
      "text/plain": [
       "[<Element 'item' at 0x6a1c2b3630e8>,\n",
       " <Element 'item' at 0x6a1c2b363368>,\n",
       " <Element 'item' at 0x6a1c2b3635e8>,\n",
       " <Element 'item' at 0x6a1c2b363868>,\n",
       " <Element 'item' at 0x6a1c2b363ae8>,\n",
       " <Element 'item' at 0x6a1c2b363d68>,\n",
       " <Element 'item' at 0x6a1c2b366048>,\n",
       " <Element 'item' at 0x6a1c2b3662c8>,\n",
       " <Element 'item' at 0x6a1c2b366548>,\n",
       " <Element 'item' at 0x6a1c2b3667c8>,\n",
       " <Element 'item' at 0x6a1c2b366a48>,\n",
       " <Element 'item' at 0x6a1c2b366cc8>,\n",
       " <Element 'item' at 0x6a1c2b366f48>,\n",
       " <Element 'item' at 0x6a1c2b36b228>,\n",
       " <Element 'item' at 0x6a1c2b36b4a8>]"
      ]
     },
     "execution_count": 44,
     "metadata": {},
     "output_type": "execute_result"
    }
   ],
   "source": [
    "root.findall(\".channel/item\")"
   ]
  },
  {
   "cell_type": "code",
   "execution_count": 49,
   "metadata": {},
   "outputs": [
    {
     "data": {
      "text/plain": [
       "[]"
      ]
     },
     "execution_count": 49,
     "metadata": {},
     "output_type": "execute_result"
    }
   ],
   "source": [
    "root.findall(\".channel/item/title/\")"
   ]
  },
  {
   "cell_type": "code",
   "execution_count": 50,
   "metadata": {},
   "outputs": [],
   "source": [
    "def loadRSS(): \n",
    "    \n",
    "    # url of rss feed \n",
    "    url = 'http://www.hindustantimes.com/rss/topnews/rssfeed.xml'\n",
    "\n",
    "    # creating HTTP response object from given url \n",
    "    resp = requests.get(url) \n",
    "\n",
    "    # saving the xml file \n",
    "    with open('topnewsfeed.xml', 'wb') as f: \n",
    "        f.write(resp.content) "
   ]
  },
  {
   "cell_type": "code",
   "execution_count": 51,
   "metadata": {
    "collapsed": true
   },
   "outputs": [],
   "source": [
    "def parseXML(xmlfile): \n",
    "\n",
    "    # create element tree object \n",
    "    tree = ET.parse(xmlfile) \n",
    "\n",
    "    # get root element \n",
    "    root = tree.getroot() \n",
    "\n",
    "    # create empty list for news items \n",
    "    newsitems = [] \n",
    "\n",
    "    # iterate news items \n",
    "    for item in root.findall('./channel/item'): \n",
    "\n",
    "        # empty news dictionary \n",
    "        news = {} \n",
    "\n",
    "        # iterate child elements of item \n",
    "        for child in item: \n",
    "\n",
    "            # special checking for namespace object content:media \n",
    "            if child.tag == '{http://search.yahoo.com/mrss/}content': \n",
    "                news['media'] = child.attrib['url'] \n",
    "            else: \n",
    "                news[child.tag] = child.text.encode('utf8') \n",
    "\n",
    "        # append news dictionary to news items list \n",
    "        newsitems.append(news) \n",
    "\n",
    "    # return news items list \n",
    "    return newsitems "
   ]
  },
  {
   "cell_type": "code",
   "execution_count": 52,
   "metadata": {
    "collapsed": true
   },
   "outputs": [],
   "source": [
    "def savetoCSV(newsitems, filename): \n",
    "\n",
    "    # specifying the fields for csv file \n",
    "    fields = ['guid', 'title', 'pubDate', 'description', 'link', 'media'] \n",
    "\n",
    "    # writing to csv file \n",
    "    with open(filename, 'w') as csvfile: \n",
    "\n",
    "        # creating a csv dict writer object \n",
    "        writer = csv.DictWriter(csvfile, fieldnames = fields) \n",
    "\n",
    "        # writing headers (field names) \n",
    "        writer.writeheader() \n",
    "\n",
    "        # writing data rows \n",
    "        writer.writerows(newsitems) \n",
    "\n"
   ]
  },
  {
   "cell_type": "code",
   "execution_count": 53,
   "metadata": {
    "collapsed": true
   },
   "outputs": [],
   "source": [
    "loadRSS() "
   ]
  },
  {
   "cell_type": "code",
   "execution_count": 54,
   "metadata": {
    "collapsed": true
   },
   "outputs": [],
   "source": [
    "# parse xml file \n",
    "newsitems = parseXML('topnewsfeed.xml') "
   ]
  },
  {
   "cell_type": "code",
   "execution_count": 55,
   "metadata": {
    "collapsed": true
   },
   "outputs": [],
   "source": [
    "# store news items in a csv file \n",
    "savetoCSV(newsitems, 'topnews.csv') "
   ]
  },
  {
   "cell_type": "code",
   "execution_count": null,
   "metadata": {
    "collapsed": true
   },
   "outputs": [],
   "source": []
  }
 ],
 "metadata": {
  "kernelspec": {
   "display_name": "tml-lab",
   "language": "python",
   "name": "tml-lab"
  },
  "language_info": {
   "codemirror_mode": {
    "name": "ipython",
    "version": 3
   },
   "file_extension": ".py",
   "mimetype": "text/x-python",
   "name": "python",
   "nbconvert_exporter": "python",
   "pygments_lexer": "ipython3",
   "version": "3.5.4"
  }
 },
 "nbformat": 4,
 "nbformat_minor": 2
}
