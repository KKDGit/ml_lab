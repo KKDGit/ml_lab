{
 "cells": [
  {
   "cell_type": "code",
   "execution_count": 1,
   "metadata": {
    "collapsed": true
   },
   "outputs": [],
   "source": [
    "#Python code to illustrate parsing of XML files \n",
    "# importing the required modules \n",
    "import csv \n",
    "import requests \n",
    "import xml.etree.ElementTree as ET "
   ]
  },
  {
   "cell_type": "code",
   "execution_count": 2,
   "metadata": {
    "collapsed": true
   },
   "outputs": [],
   "source": [
    "# This is the file to parse\n",
    "xmlfile = 'sample_ip.xml'"
   ]
  },
  {
   "cell_type": "code",
   "execution_count": 3,
   "metadata": {
    "collapsed": true
   },
   "outputs": [],
   "source": [
    "# create element tree object \n",
    "tree = ET.parse(xmlfile) "
   ]
  },
  {
   "cell_type": "code",
   "execution_count": 4,
   "metadata": {
    "collapsed": true
   },
   "outputs": [],
   "source": [
    "# get root element \n",
    "root = tree.getroot() "
   ]
  },
  {
   "cell_type": "code",
   "execution_count": 5,
   "metadata": {
    "collapsed": true
   },
   "outputs": [],
   "source": [
    "# creating map to track parent elements from child element\n",
    "parent_map = dict((c, p) for p in tree.getiterator() for c in p)"
   ]
  },
  {
   "cell_type": "code",
   "execution_count": 6,
   "metadata": {},
   "outputs": [
    {
     "name": "stdout",
     "output_type": "stream",
     "text": [
      "dict_keys(['year', 'genre', 'format', 'title', 'decade', 'rating', 'description'])\n"
     ]
    }
   ],
   "source": [
    "# each element of a list is a single movie in the form of dict\n",
    "movie_list = []\n",
    "for movie in root.findall('./genre/decade/movie'):\n",
    "    # empty news dictionary \n",
    "    movies = {}\n",
    "    # iterate child elements of item \n",
    "    for child in movie:\n",
    "        # get the child element tags for each movie\n",
    "        movies[child.tag] = child.text.encode('utf8')\n",
    "        #get the title from title attribute for movie element\n",
    "        movies['title'] = movie.attrib['title'].encode('utf8')\n",
    "        #get the decade from accessing parent of movie element - decade element\n",
    "        movies['decade'] = parent_map[movie].attrib['years'].encode('utf8')\n",
    "        #get the genre from accessing grand parent of movie element - genre element\n",
    "        movies['genre'] = parent_map[parent_map[movie]].attrib['category'].encode('utf8')\n",
    "    #append the each row(as dicts) to a list   \n",
    "    movie_list.append(movies)\n",
    "    \n",
    "print(movie_list[0].keys())"
   ]
  },
  {
   "cell_type": "code",
   "execution_count": 7,
   "metadata": {
    "collapsed": true
   },
   "outputs": [],
   "source": [
    "def savetoCSV(newsitems, filename): \n",
    "    # specifying the fields for csv file \n",
    "    fields = ['genre','decade','title','description', 'year', 'rating','format'] \n",
    "\n",
    "    # writing to csv file \n",
    "    with open(filename, 'w') as csvfile: \n",
    "\n",
    "        # creating a csv dict writer object \n",
    "        writer = csv.DictWriter(csvfile, fieldnames = fields) \n",
    "\n",
    "        # writing headers (field names) \n",
    "        writer.writeheader() \n",
    "\n",
    "        # writing data rows \n",
    "        writer.writerows(newsitems) \n",
    "\n"
   ]
  },
  {
   "cell_type": "code",
   "execution_count": 8,
   "metadata": {
    "collapsed": true
   },
   "outputs": [],
   "source": [
    "# store news items in a csv file \n",
    "savetoCSV(movie_list, 'movies.csv') "
   ]
  },
  {
   "cell_type": "code",
   "execution_count": null,
   "metadata": {
    "collapsed": true
   },
   "outputs": [],
   "source": []
  }
 ],
 "metadata": {
  "kernelspec": {
   "display_name": "tml-lab",
   "language": "python",
   "name": "tml-lab"
  },
  "language_info": {
   "codemirror_mode": {
    "name": "ipython",
    "version": 3
   },
   "file_extension": ".py",
   "mimetype": "text/x-python",
   "name": "python",
   "nbconvert_exporter": "python",
   "pygments_lexer": "ipython3",
   "version": "3.5.4"
  }
 },
 "nbformat": 4,
 "nbformat_minor": 2
}
